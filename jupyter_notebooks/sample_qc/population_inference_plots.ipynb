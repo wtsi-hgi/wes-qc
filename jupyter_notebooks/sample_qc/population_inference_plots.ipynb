{
 "cells": [
  {
   "cell_type": "code",
   "execution_count": null,
   "id": "808bc8f9",
   "metadata": {},
   "outputs": [],
   "source": [
    "#plot PC1 vs PC2 for population prediction\n",
    "\n",
    "import hail as hl\n",
    "import pyspark\n",
    "from hail.plot import show\n",
    "import bokeh\n",
    "from bokeh.plotting import output_file, save\n",
    "import os\n",
    "\n",
    "sc = pyspark.SparkContext()\n",
    "tmp_dir = \"hdfs://spark-master:9820/\"\n",
    "lustre_dir = \"file:///lustre/scratch123/qc/\"\n",
    "hl.init(sc=sc, tmp_dir=tmp_dir, default_reference=\"GRCh38\")\n",
    "\n",
    "hl.plot.output_notebook()\n",
    "\n",
    "tmp_file = \"/lustre/scratch123/qc//plots/sample_qc/tmp.html\"#temp file for plots - note saving plots in this script a bit of a pain - there seems to be a delay between saving and the file appearing on disk which results in some files containing 2 plots and some not containing the correct plots - this is why file renaming steps were introduced"
   ]
  },
  {
   "cell_type": "code",
   "execution_count": null,
   "id": "c28c9f01",
   "metadata": {},
   "outputs": [],
   "source": [
    "#plot 1000 genomes samples from known populations\n",
    "pop_ht_file = lustre_dir + \"matrixtables/pop_assignments.ht\"\n",
    "pop_ht = hl.read_table(pop_ht_file)\n",
    "#subset to 1kg samples with known pops\n",
    "kg_scores = pop_ht.filter(hl.is_defined(pop_ht.known_pop))"
   ]
  },
  {
   "cell_type": "code",
   "execution_count": null,
   "id": "e1335ab0",
   "metadata": {},
   "outputs": [],
   "source": [
    "p1=hl.plot.scatter(kg_scores.pca_scores[0], kg_scores.pca_scores[1], xlabel=\"PC1\", ylabel=\"PC2\", label=kg_scores.known_pop, title=\"Known populations - 1kg only\")\n",
    "p2=hl.plot.scatter(kg_scores.pca_scores[0], kg_scores.pca_scores[2], xlabel=\"PC1\", ylabel=\"PC3\", label=kg_scores.known_pop, title=\"Known populations - 1kg only\")\n",
    "\n",
    "show(bokeh.layouts.gridplot([[p1],[p2]]))"
   ]
  },
  {
   "cell_type": "code",
   "execution_count": null,
   "id": "45c150d3",
   "metadata": {},
   "outputs": [],
   "source": [
    "plot_file = \"/lustre/scratch123/qc//plots/sample_qc/pops_1kg_pc1_vs_pc2.html\"\n",
    "output_file(tmp_file)\n",
    "save(p1)\n",
    "os.rename(tmp_file, plot_file)"
   ]
  },
  {
   "cell_type": "code",
   "execution_count": null,
   "id": "5b6615a6",
   "metadata": {},
   "outputs": [],
   "source": [
    "plot_file = \"/lustre/scratch123/qc//plots/sample_qc/pops_1kg_pc1_vs_pc3.html\"\n",
    "output_file(tmp_file)\n",
    "save(p2)\n",
    "os.rename(tmp_file, plot_file)"
   ]
  },
  {
   "cell_type": "code",
   "execution_count": null,
   "id": "49147105",
   "metadata": {},
   "outputs": [],
   "source": [
    "p3=hl.plot.scatter(pop_ht.pca_scores[0], pop_ht.pca_scores[1], xlabel=\"PC1\", ylabel=\"PC2\", label=pop_ht.pop, title=\"Predicted populations\")\n",
    "p4=hl.plot.scatter(pop_ht.pca_scores[0], pop_ht.pca_scores[2], xlabel=\"PC1\", ylabel=\"PC3\", label=pop_ht.pop, title=\"Predicted populations\")\n",
    "\n",
    "show(bokeh.layouts.gridplot([[p3],[p4]]))"
   ]
  },
  {
   "cell_type": "code",
   "execution_count": null,
   "id": "4656af1f",
   "metadata": {},
   "outputs": [],
   "source": [
    "plot_file = \"/lustre/scratch123/qc//plots/sample_qc/pops_predicted_pc1_vs_pc2.html\"\n",
    "output_file(tmp_file)\n",
    "save(p3)\n",
    "os.rename(tmp_file, plot_file)"
   ]
  },
  {
   "cell_type": "code",
   "execution_count": null,
   "id": "e227e59e",
   "metadata": {},
   "outputs": [],
   "source": [
    "plot_file = \"/lustre/scratch123/qc//plots/sample_qc/pops_predicted_pc1_vs_pc3.html\"\n",
    "output_file(tmp_file)\n",
    "save(p4)\n",
    "os.rename(tmp_file, plot_file)"
   ]
  },
  {
   "cell_type": "code",
   "execution_count": null,
   "id": "2f58a0c3",
   "metadata": {},
   "outputs": [],
   "source": []
  }
 ],
 "metadata": {
  "kernelspec": {
   "display_name": "Python 3 (ipykernel)",
   "language": "python",
   "name": "python3"
  },
  "language_info": {
   "codemirror_mode": {
    "name": "ipython",
    "version": 3
   },
   "file_extension": ".py",
   "mimetype": "text/x-python",
   "name": "python",
   "nbconvert_exporter": "python",
   "pygments_lexer": "ipython3",
   "version": "3.8.10"
  }
 },
 "nbformat": 4,
 "nbformat_minor": 5
}
