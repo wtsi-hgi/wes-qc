{
 "cells": [
  {
   "cell_type": "code",
   "execution_count": 258,
   "metadata": {},
   "outputs": [],
   "source": [
    "def get_config():\n",
    "    return {\n",
    "        'x': 'expanded!',\n",
    "        'var': {'h':'hello {testvar} expansion'},\n",
    "        'a': { 'a':1, 'b':2, 'c':3 },\n",
    "        'b': { 'a':10, 'b':20, 'c':30 },\n",
    "        'deep': { 'a': {'a':100, 'b':200, 'c':300} },\n",
    "        'var2': '{testvar} shallow'\n",
    "    }\n",
    "\n",
    "def load_config_alpha(config_obj, *field_names):\n",
    "    pass"
   ]
  },
  {
   "cell_type": "code",
   "execution_count": 259,
   "metadata": {},
   "outputs": [
    {
     "data": {
      "text/plain": [
       "(False, True, False, False, True)"
      ]
     },
     "execution_count": 259,
     "metadata": {},
     "output_type": "execute_result"
    }
   ],
   "source": [
    "from collections import UserDict\n",
    "\n",
    "class MyDict(UserDict):\n",
    "    pass\n",
    "\n",
    "conf = get_config()\n",
    "a = MyDict(conf)\n",
    "isinstance(a, dict), isinstance(conf, dict), isinstance(conf, MyDict), isinstance(conf, UserDict), isinstance(a, UserDict)"
   ]
  },
  {
   "cell_type": "code",
   "execution_count": 260,
   "metadata": {},
   "outputs": [],
   "source": [
    "from collections import UserDict\n",
    "\n",
    "class ConfigSection(UserDict):\n",
    "    \"\"\"\n",
    "    A dictionary wrapper that implements some useful features:\n",
    "    - introspection: a section knows its name and key in the parent section\n",
    "    - deep (recursive) cast from dict.  \n",
    "      That is, you can create a Config with Configs from dict with dicts.\n",
    "    \n",
    "    Note that isinstance(userDict, dict) == false\n",
    "    \"\"\"\n",
    "\n",
    "    def __init__(self, _dict=None, name=''):\n",
    "        UserDict.__init__(self, _dict)\n",
    "\n",
    "        self.name = name\n",
    "        \n",
    "        for key in self.data:\n",
    "            val = self.data[key]\n",
    "            if isinstance(val, dict):\n",
    "                # deep convert dict to config\n",
    "                if self.name:\n",
    "                    childname = self.name+'.'+key\n",
    "                else:\n",
    "                    childname = key\n",
    "                self.data[key] = ConfigSection(val, childname)\n",
    "    \n",
    "    def getp(self, path: str):\n",
    "        \"\"\"\n",
    "        A getter function for dot-separated field paths.\n",
    "        For instance, `config.getp('a.b.c') == config['a']['b']['c']`.\n",
    "\n",
    "        Can return both config sections and values. \n",
    "        \"\"\"\n",
    "        keyseq = path.strip('.').split('.')\n",
    "\n",
    "        if keyseq[0] not in self.data:\n",
    "            raise KeyError(f\"ConfigSection '{self.name}' has no '{keyseq[0]}' section\")\n",
    "\n",
    "        section = self\n",
    "        breadcrumbs = self.name\n",
    "        for nextkey in keyseq:\n",
    "            if isinstance(section, ConfigSection):\n",
    "                if nextkey in section:\n",
    "                    section = section[nextkey]\n",
    "                    breadcrumbs += '.' + nextkey\n",
    "                else:\n",
    "                    raise KeyError(f\"{path} : '{breadcrumbs}' section has no '{nextkey}' field\")\n",
    "            else:\n",
    "                raise KeyError(f\"{path} : {breadcrumbs + '.' + nextkey} is a field, not a section\")\n",
    "        return section\n",
    "\n",
    "    def to_flat_dict(self):\n",
    "        \"\"\"\n",
    "        Returns a dict with keys in form of 'key1.key2.key3'.\n",
    "        `section.to_flat_dict()['a.b.c'] == section['a']['b']['c']`\n",
    "        \"\"\"\n",
    "        raise NotImplementedError()\n",
    "\n",
    "class Config(ConfigSection):\n",
    "    \"\"\"\n",
    "    Another dictionary wrapper. Config manages a tree of ConfigSections.\n",
    "    Features:\n",
    "    - string variable expansion\n",
    "    - yaml loading/writing\n",
    "    \"\"\"\n",
    "    import re\n",
    "    \n",
    "    config_var_def = {\n",
    "        'tmpdir': 'general.tmp_dir',\n",
    "        'anndir': 'general.annotation_outdir_local',\n",
    "        'mtdir': 'general.matrixtables_outdir',\n",
    "        'testvar': 'x',\n",
    "    }\n",
    "\n",
    "    __path_field_re = re.compile(r\".*_[out|in]?[dir|file]\")\n",
    "    __cvar_re = re.compile(r\"\\{[a-zA-Z0-9_]+\\}\")\n",
    "    SKIP_EXPAND = False\n",
    "    EXPAND_ALL = True\n",
    "\n",
    "    @staticmethod\n",
    "    def _should_expand(fieldname: str):\n",
    "        return Config.EXPAND_ALL or (\n",
    "            not Config.SKIP_EXPAND and Config.__path_field_re.fullmatch(fieldname) is not None\n",
    "        )\n",
    "\n",
    "    def _expand_field(self, val: str):\n",
    "        config_vars = {}\n",
    "        required_vars = [x[1:-1] for x in Config.__cvar_re.findall(val)]\n",
    "        for k in required_vars:\n",
    "            if k in Config.config_var_def:\n",
    "                config_vars[k] = self.getp(Config.config_var_def[k])\n",
    "            else:\n",
    "                config_vars[k] = '{'+k+'}'\n",
    "        return val.format(**config_vars)\n",
    "\n",
    "    def _expand_all_fields(self, section: ConfigSection):\n",
    "        for key in section.data:\n",
    "            val = section.data[key]\n",
    "            if isinstance(val, str) and Config._should_expand(key):\n",
    "                section.data[key] = self._expand_field(val)\n",
    "            elif isinstance(val, ConfigSection):\n",
    "                self._expand_all_fields(val)\n",
    "\n",
    "\n",
    "    def getp(self, path: str):\n",
    "        \"\"\"\n",
    "        A getter function for dot-separated field paths.\n",
    "        For instance, `config.getp('a.b.c') == config['a']['b']['c']`.\n",
    "\n",
    "        Can return both config sections and values. \n",
    "        \"\"\"\n",
    "        keyseq = path.strip('.').split('.', 1)\n",
    "        fk = keyseq[0]  # first key\n",
    "        if fk not in self.data:\n",
    "            raise KeyError(f\"Config has no '{fk}' section\")\n",
    "        if len(keyseq) > 1 and not isinstance(self.data[fk], ConfigSection):\n",
    "            raise KeyError(f\"{path} : {fk} is a field, not a section\")\n",
    "        if len(keyseq) == 1:\n",
    "            return self.data[fk]\n",
    "        remaining_path = keyseq[1]\n",
    "        return self.data[fk].getp(remaining_path)\n",
    "\n",
    "    def __init__(self, _dict=None):\n",
    "        ConfigSection.__init__(self, _dict, '')\n",
    "        self._expand_all_fields(self)\n",
    "\n"
   ]
  },
  {
   "cell_type": "code",
   "execution_count": 261,
   "metadata": {},
   "outputs": [
    {
     "data": {
      "text/plain": [
       "{'x': 'expanded!', 'var': {'h': 'hello expanded! expansion'}, 'a': {'a': 1, 'b': 2, 'c': 3}, 'b': {'a': 10, 'b': 20, 'c': 30}, 'deep': {'a': {'a': 100, 'b': 200, 'c': 300}}, 'var2': 'expanded! shallow'}"
      ]
     },
     "execution_count": 261,
     "metadata": {},
     "output_type": "execute_result"
    }
   ],
   "source": [
    "conf = Config(get_config())\n",
    "conf"
   ]
  },
  {
   "cell_type": "code",
   "execution_count": 262,
   "metadata": {},
   "outputs": [
    {
     "data": {
      "text/plain": [
       "__main__.ConfigSection"
      ]
     },
     "execution_count": 262,
     "metadata": {},
     "output_type": "execute_result"
    }
   ],
   "source": [
    "type(conf.getp('a'))"
   ]
  },
  {
   "cell_type": "code",
   "execution_count": 263,
   "metadata": {},
   "outputs": [
    {
     "data": {
      "text/plain": [
       "'expanded!'"
      ]
     },
     "execution_count": 263,
     "metadata": {},
     "output_type": "execute_result"
    }
   ],
   "source": [
    "conf._expand_field('{testvar}')"
   ]
  },
  {
   "cell_type": "code",
   "execution_count": 266,
   "metadata": {},
   "outputs": [
    {
     "data": {
      "text/plain": [
       "{'a': 100, 'b': 200, 'c': 300}"
      ]
     },
     "execution_count": 266,
     "metadata": {},
     "output_type": "execute_result"
    }
   ],
   "source": [
    "conf.getp('deep.a')"
   ]
  },
  {
   "cell_type": "markdown",
   "metadata": {},
   "source": [
    "---"
   ]
  },
  {
   "cell_type": "code",
   "execution_count": 318,
   "metadata": {},
   "outputs": [],
   "source": [
    "\n",
    "def getp(_dict: dict, keypath: str, silent: bool = False, default = None):\n",
    "    \"\"\"\n",
    "    Get a value from a tree of dicts using dot-notation. That is, \n",
    "    `getp(conf, \"a.b.c\") == conf['a']['b']['c']`\n",
    "\n",
    "    - `_dict` is a structure of nested dicts\n",
    "    - `keypath` is a sequence of keys joined by '.'\n",
    "    - if `silent` then return `default` value on invalid path instead of raising an exception  \n",
    "\n",
    "    Note that this function can return a dict as well as a scalar -- it has no output type checks.\n",
    "    \"\"\"\n",
    "    keyseq = keypath.strip('.').split('.')\n",
    "    if keyseq[0] not in _dict:\n",
    "        if silent: return default\n",
    "        raise KeyError(f\"top-level dict has no '{keyseq[0]}' key\")\n",
    "    \n",
    "    section = _dict\n",
    "    breadcrumbs = ''\n",
    "    for nextkey in keyseq:\n",
    "        if isinstance(section, dict):\n",
    "            if nextkey in section:\n",
    "                section = section[nextkey]\n",
    "                breadcrumbs += '.' + nextkey\n",
    "            else:\n",
    "                if silent: return default\n",
    "                raise KeyError(f\"{keypath} : '{breadcrumbs}' section has no '{nextkey}' field\")\n",
    "        else:\n",
    "            if silent: return default\n",
    "            raise KeyError(f\"{keypath} : {breadcrumbs + '.' + nextkey} is a field, not a section\")\n",
    "    return section\n"
   ]
  },
  {
   "cell_type": "code",
   "execution_count": 319,
   "metadata": {},
   "outputs": [
    {
     "data": {
      "text/plain": [
       "200"
      ]
     },
     "execution_count": 319,
     "metadata": {},
     "output_type": "execute_result"
    }
   ],
   "source": [
    "\n",
    "getp(get_config(), 'deep.a.b')"
   ]
  },
  {
   "cell_type": "code",
   "execution_count": 320,
   "metadata": {},
   "outputs": [],
   "source": [
    "import re\n",
    "cvar_re = re.compile(r\"\\{([a-zA-Z0-9_]+(?:\\.[a-zA-Z0-9_]+)*)\\}\")"
   ]
  },
  {
   "cell_type": "code",
   "execution_count": 321,
   "metadata": {},
   "outputs": [
    {
     "data": {
      "text/plain": [
       "['hello', 'foo.bar']"
      ]
     },
     "execution_count": 321,
     "metadata": {},
     "output_type": "execute_result"
    }
   ],
   "source": [
    "cvar_re.findall('hey{hello}, {foo.bar}/{.omg.hiii}')"
   ]
  },
  {
   "cell_type": "markdown",
   "metadata": {},
   "source": [
    "---"
   ]
  },
  {
   "cell_type": "code",
   "execution_count": 322,
   "metadata": {},
   "outputs": [],
   "source": [
    "\n",
    "def expand_cvars(config: dict, str_with_cvar: str):\n",
    "    \"\"\"\n",
    "    Expand config variables in a string.  \n",
    "    Ignore errors, leave invalid cvars as is.\n",
    "    \"\"\"\n",
    "    import re\n",
    "    # Find all cvars that look like {cvar_name}\n",
    "    # - no dots at the begininng or at the end\n",
    "    # - no more 1 dot in a row\n",
    "    # - a-zA-Z0-9_ as identifiers\n",
    "    cvar_re = re.compile(r\"\\{([a-zA-Z0-9_]+(?:\\.[a-zA-Z0-9_]+)*)\\}\")\n",
    "    def repl(cvar_match):\n",
    "        cvar_name = cvar_match.group(1)\n",
    "        return str(getp(config, keypath=cvar_name, silent=True, default='{'+cvar_name+'}'))\n",
    "    expanded_str = cvar_re.sub(repl, str_with_cvar) \n",
    "    return expanded_str"
   ]
  },
  {
   "cell_type": "code",
   "execution_count": 325,
   "metadata": {},
   "outputs": [
    {
     "data": {
      "text/plain": [
       "'omg hiii expanded! and 200 and even {do.not.exists}'"
      ]
     },
     "execution_count": 325,
     "metadata": {},
     "output_type": "execute_result"
    }
   ],
   "source": [
    "expand_cvars(get_config(), 'omg hiii {x} and {deep.a.b} and even {do.not.exists}')"
   ]
  },
  {
   "cell_type": "markdown",
   "metadata": {},
   "source": [
    "---"
   ]
  },
  {
   "cell_type": "code",
   "execution_count": 329,
   "metadata": {},
   "outputs": [],
   "source": [
    "\n",
    "def expand_cvars_recursive(config: dict, dict_to_expand, inplace=False):\n",
    "    \"\"\"\n",
    "    Recursively expand cvars in all string fields in a nested dict structure `dict_to_expand`\n",
    "    using data from `config`\n",
    "    \"\"\"\n",
    "    if inplace:\n",
    "        _dict = dict_to_expand\n",
    "    else:\n",
    "        from copy import deepcopy\n",
    "        _dict = deepcopy(dict_to_expand)\n",
    "    for key in _dict:\n",
    "        val = _dict[key]\n",
    "        if isinstance(val, str):\n",
    "            _dict[key] = expand_cvars(config, val)\n",
    "        elif isinstance(val, dict):\n",
    "            expand_cvars_recursive(config, val, inplace=True)\n",
    "    return _dict\n"
   ]
  },
  {
   "cell_type": "code",
   "execution_count": 330,
   "metadata": {},
   "outputs": [
    {
     "data": {
      "text/plain": [
       "{'foo': 'hello ten 10 and hundred 100',\n",
       " 'bar': {'baz': 'hey there from the deep 300',\n",
       "  'lol': 'shallow this time 30',\n",
       "  'no': 'no expansion needed',\n",
       "  'num': 123},\n",
       " 'num': 456}"
      ]
     },
     "execution_count": 330,
     "metadata": {},
     "output_type": "execute_result"
    }
   ],
   "source": [
    "conf = {\n",
    "    'a': 10,\n",
    "    'b': 20,\n",
    "    'c': 30,\n",
    "    'deep' : {\n",
    "        'a': 100,\n",
    "        'b': 200,\n",
    "        'c': 300\n",
    "    }\n",
    "}\n",
    "dat = {\n",
    "    'foo' : 'hello ten {a} and hundred {deep.a}',\n",
    "    'bar' : {\n",
    "        'baz': 'hey there from the deep {deep.c}',\n",
    "        'lol': 'shallow this time {c}',\n",
    "        'no': 'no expansion needed',\n",
    "        'num': 123\n",
    "    },\n",
    "    'num': 456\n",
    "}\n",
    "\n",
    "expand_cvars_recursive(conf, dat)"
   ]
  },
  {
   "cell_type": "code",
   "execution_count": 331,
   "metadata": {},
   "outputs": [
    {
     "data": {
      "text/plain": [
       "{'foo': 'hello ten {a} and hundred {deep.a}',\n",
       " 'bar': {'baz': 'hey there from the deep {deep.c}',\n",
       "  'lol': 'shallow this time {c}',\n",
       "  'no': 'no expansion needed',\n",
       "  'num': 123},\n",
       " 'num': 456}"
      ]
     },
     "execution_count": 331,
     "metadata": {},
     "output_type": "execute_result"
    }
   ],
   "source": [
    "dat"
   ]
  },
  {
   "cell_type": "code",
   "execution_count": 333,
   "metadata": {},
   "outputs": [
    {
     "data": {
      "text/plain": [
       "True"
      ]
     },
     "execution_count": 333,
     "metadata": {},
     "output_type": "execute_result"
    }
   ],
   "source": [
    "a = expand_cvars_recursive(conf, dat, inplace=True)\n",
    "a == dat"
   ]
  },
  {
   "cell_type": "code",
   "execution_count": 334,
   "metadata": {},
   "outputs": [
    {
     "data": {
      "text/plain": [
       "{'foo': 'hello ten 10 and hundred 100',\n",
       " 'bar': {'baz': 'hey there from the deep 300',\n",
       "  'lol': 'shallow this time 30',\n",
       "  'no': 'no expansion needed',\n",
       "  'num': 123},\n",
       " 'num': 456}"
      ]
     },
     "execution_count": 334,
     "metadata": {},
     "output_type": "execute_result"
    }
   ],
   "source": [
    "a"
   ]
  },
  {
   "cell_type": "markdown",
   "metadata": {},
   "source": [
    "---"
   ]
  },
  {
   "cell_type": "code",
   "execution_count": 364,
   "metadata": {},
   "outputs": [],
   "source": [
    "\n",
    "__is_path_field_re = re.compile(r\"(out|in)?(dir|file)(_local)?$\")\n",
    "\n",
    "def is_path_field(fieldname):\n",
    "    return __is_path_field_re.search(fieldname) is not None"
   ]
  },
  {
   "cell_type": "code",
   "execution_count": 363,
   "metadata": {},
   "outputs": [
    {
     "data": {
      "text/plain": [
       "('out', 'dir', '_local')"
      ]
     },
     "execution_count": 363,
     "metadata": {},
     "output_type": "execute_result"
    }
   ],
   "source": [
    "__is_path_field_re.search('test.fii.asd.resource_outdir_local').groups()"
   ]
  },
  {
   "cell_type": "markdown",
   "metadata": {},
   "source": [
    "---"
   ]
  },
  {
   "cell_type": "code",
   "execution_count": 365,
   "metadata": {},
   "outputs": [],
   "source": [
    "path_cvar_re = re.compile(r\"(\\/|\\\\)?\\{([a-zA-Z0-9_]+(?:\\.[a-zA-Z0-9_]+)*)\\}(\\/|\\\\)?\")\n",
    "pr = 'foo/{r}'\n",
    "pl = '{l}/bar'\n",
    "plr = 'foo/{lr}/bar'\n",
    "\n",
    "conf = {\n",
    "    'l': '/leftdir/',\n",
    "    'r': '/rightdir',\n",
    "    'rl': '/middledir/',\n",
    "}"
   ]
  },
  {
   "cell_type": "code",
   "execution_count": 371,
   "metadata": {},
   "outputs": [
    {
     "data": {
      "text/plain": [
       "('/', 'lr', '/')"
      ]
     },
     "execution_count": 371,
     "metadata": {},
     "output_type": "execute_result"
    }
   ],
   "source": [
    "path_cvar_re.search(plr).groups()"
   ]
  },
  {
   "cell_type": "code",
   "execution_count": 391,
   "metadata": {},
   "outputs": [
    {
     "data": {
      "text/plain": [
       "('file:', 'usr', 'plots', 'plot.1.jpg')"
      ]
     },
     "execution_count": 391,
     "metadata": {},
     "output_type": "execute_result"
    }
   ],
   "source": [
    "import pathlib\n",
    "path_with_cvars = pathlib.Path('file:///usr/plots//plot.1.jpg')\n",
    "path_with_cvars.parts"
   ]
  },
  {
   "cell_type": "code",
   "execution_count": 392,
   "metadata": {},
   "outputs": [
    {
     "data": {
      "text/plain": [
       "'file:/usr/plots/plot.1.jpg'"
      ]
     },
     "execution_count": 392,
     "metadata": {},
     "output_type": "execute_result"
    }
   ],
   "source": [
    "import posixpath \n",
    "posixpath.normpath('file:///usr/plots//plot.1.jpg')"
   ]
  },
  {
   "cell_type": "code",
   "execution_count": 403,
   "metadata": {},
   "outputs": [
    {
     "data": {
      "text/plain": [
       "7"
      ]
     },
     "execution_count": 403,
     "metadata": {},
     "output_type": "execute_result"
    }
   ],
   "source": [
    "protocol_re = re.compile(r\"[a-zA-Z][a-zA-Z0-9]*:\\/\\/\")\n",
    "protocol_needed = protocol_re.match('file:///usr/plots//plot.1.jpg')\n",
    "protocol_needed.end()"
   ]
  },
  {
   "cell_type": "markdown",
   "metadata": {},
   "source": []
  }
 ],
 "metadata": {
  "kernelspec": {
   "display_name": "fastlbp",
   "language": "python",
   "name": "python3"
  },
  "language_info": {
   "codemirror_mode": {
    "name": "ipython",
    "version": 3
   },
   "file_extension": ".py",
   "mimetype": "text/x-python",
   "name": "python",
   "nbconvert_exporter": "python",
   "pygments_lexer": "ipython3",
   "version": "3.9.19"
  }
 },
 "nbformat": 4,
 "nbformat_minor": 2
}
