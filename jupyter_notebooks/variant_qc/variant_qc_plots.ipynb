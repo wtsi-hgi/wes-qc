{
 "cells": [
  {
   "cell_type": "code",
   "execution_count": 1,
   "id": "c2737db6",
   "metadata": {},
   "outputs": [
    {
     "name": "stdout",
     "output_type": "stream",
     "text": [
      "2022-06-06 07:09:51 WARN  NativeCodeLoader:60 - Unable to load native-hadoop library for your platform... using builtin-java classes where applicable\n"
     ]
    },
    {
     "name": "stderr",
     "output_type": "stream",
     "text": [
      "Setting default log level to \"WARN\".\n",
      "To adjust logging level use sc.setLogLevel(newLevel). For SparkR, use setLogLevel(newLevel).\n",
      "pip-installed Hail requires additional configuration options in Spark referring\n",
      "  to the path to the Hail Python module directory HAIL_DIR,\n",
      "  e.g. /path/to/python/site-packages/hail:\n",
      "    spark.jars=HAIL_DIR/backend/hail-all-spark.jar\n",
      "    spark.driver.extraClassPath=HAIL_DIR/backend/hail-all-spark.jar\n",
      "    spark.executor.extraClassPath=./hail-all-spark.jarRunning on Apache Spark version 3.1.2\n",
      "SparkUI available at http://spark-master:4040\n",
      "Welcome to\n",
      "     __  __     <>__\n",
      "    / /_/ /__  __/ /\n",
      "   / __  / _ `/ / /\n",
      "  /_/ /_/\\_,_/_/_/   version 0.2.88-7d39379870da\n",
      "LOGGING: writing to /home/ubuntu/jupyter/hail-20220606-0710-0.2.88-7d39379870da.log\n"
     ]
    },
    {
     "data": {
      "text/html": [
       "\n",
       "    <div class=\"bk-root\">\n",
       "        <a href=\"https://bokeh.org\" target=\"_blank\" class=\"bk-logo bk-logo-small bk-logo-notebook\"></a>\n",
       "        <span id=\"1001\">Loading BokehJS ...</span>\n",
       "    </div>"
      ]
     },
     "metadata": {},
     "output_type": "display_data"
    },
    {
     "data": {
      "application/javascript": [
       "\n",
       "(function(root) {\n",
       "  function now() {\n",
       "    return new Date();\n",
       "  }\n",
       "\n",
       "  var force = true;\n",
       "\n",
       "  if (typeof root._bokeh_onload_callbacks === \"undefined\" || force === true) {\n",
       "    root._bokeh_onload_callbacks = [];\n",
       "    root._bokeh_is_loading = undefined;\n",
       "  }\n",
       "\n",
       "  var JS_MIME_TYPE = 'application/javascript';\n",
       "  var HTML_MIME_TYPE = 'text/html';\n",
       "  var EXEC_MIME_TYPE = 'application/vnd.bokehjs_exec.v0+json';\n",
       "  var CLASS_NAME = 'output_bokeh rendered_html';\n",
       "\n",
       "  /**\n",
       "   * Render data to the DOM node\n",
       "   */\n",
       "  function render(props, node) {\n",
       "    var script = document.createElement(\"script\");\n",
       "    node.appendChild(script);\n",
       "  }\n",
       "\n",
       "  /**\n",
       "   * Handle when an output is cleared or removed\n",
       "   */\n",
       "  function handleClearOutput(event, handle) {\n",
       "    var cell = handle.cell;\n",
       "\n",
       "    var id = cell.output_area._bokeh_element_id;\n",
       "    var server_id = cell.output_area._bokeh_server_id;\n",
       "    // Clean up Bokeh references\n",
       "    if (id != null && id in Bokeh.index) {\n",
       "      Bokeh.index[id].model.document.clear();\n",
       "      delete Bokeh.index[id];\n",
       "    }\n",
       "\n",
       "    if (server_id !== undefined) {\n",
       "      // Clean up Bokeh references\n",
       "      var cmd = \"from bokeh.io.state import curstate; print(curstate().uuid_to_server['\" + server_id + \"'].get_sessions()[0].document.roots[0]._id)\";\n",
       "      cell.notebook.kernel.execute(cmd, {\n",
       "        iopub: {\n",
       "          output: function(msg) {\n",
       "            var id = msg.content.text.trim();\n",
       "            if (id in Bokeh.index) {\n",
       "              Bokeh.index[id].model.document.clear();\n",
       "              delete Bokeh.index[id];\n",
       "            }\n",
       "          }\n",
       "        }\n",
       "      });\n",
       "      // Destroy server and session\n",
       "      var cmd = \"import bokeh.io.notebook as ion; ion.destroy_server('\" + server_id + \"')\";\n",
       "      cell.notebook.kernel.execute(cmd);\n",
       "    }\n",
       "  }\n",
       "\n",
       "  /**\n",
       "   * Handle when a new output is added\n",
       "   */\n",
       "  function handleAddOutput(event, handle) {\n",
       "    var output_area = handle.output_area;\n",
       "    var output = handle.output;\n",
       "\n",
       "    // limit handleAddOutput to display_data with EXEC_MIME_TYPE content only\n",
       "    if ((output.output_type != \"display_data\") || (!output.data.hasOwnProperty(EXEC_MIME_TYPE))) {\n",
       "      return\n",
       "    }\n",
       "\n",
       "    var toinsert = output_area.element.find(\".\" + CLASS_NAME.split(' ')[0]);\n",
       "\n",
       "    if (output.metadata[EXEC_MIME_TYPE][\"id\"] !== undefined) {\n",
       "      toinsert[toinsert.length - 1].firstChild.textContent = output.data[JS_MIME_TYPE];\n",
       "      // store reference to embed id on output_area\n",
       "      output_area._bokeh_element_id = output.metadata[EXEC_MIME_TYPE][\"id\"];\n",
       "    }\n",
       "    if (output.metadata[EXEC_MIME_TYPE][\"server_id\"] !== undefined) {\n",
       "      var bk_div = document.createElement(\"div\");\n",
       "      bk_div.innerHTML = output.data[HTML_MIME_TYPE];\n",
       "      var script_attrs = bk_div.children[0].attributes;\n",
       "      for (var i = 0; i < script_attrs.length; i++) {\n",
       "        toinsert[toinsert.length - 1].firstChild.setAttribute(script_attrs[i].name, script_attrs[i].value);\n",
       "      }\n",
       "      // store reference to server id on output_area\n",
       "      output_area._bokeh_server_id = output.metadata[EXEC_MIME_TYPE][\"server_id\"];\n",
       "    }\n",
       "  }\n",
       "\n",
       "  function register_renderer(events, OutputArea) {\n",
       "\n",
       "    function append_mime(data, metadata, element) {\n",
       "      // create a DOM node to render to\n",
       "      var toinsert = this.create_output_subarea(\n",
       "        metadata,\n",
       "        CLASS_NAME,\n",
       "        EXEC_MIME_TYPE\n",
       "      );\n",
       "      this.keyboard_manager.register_events(toinsert);\n",
       "      // Render to node\n",
       "      var props = {data: data, metadata: metadata[EXEC_MIME_TYPE]};\n",
       "      render(props, toinsert[toinsert.length - 1]);\n",
       "      element.append(toinsert);\n",
       "      return toinsert\n",
       "    }\n",
       "\n",
       "    /* Handle when an output is cleared or removed */\n",
       "    events.on('clear_output.CodeCell', handleClearOutput);\n",
       "    events.on('delete.Cell', handleClearOutput);\n",
       "\n",
       "    /* Handle when a new output is added */\n",
       "    events.on('output_added.OutputArea', handleAddOutput);\n",
       "\n",
       "    /**\n",
       "     * Register the mime type and append_mime function with output_area\n",
       "     */\n",
       "    OutputArea.prototype.register_mime_type(EXEC_MIME_TYPE, append_mime, {\n",
       "      /* Is output safe? */\n",
       "      safe: true,\n",
       "      /* Index of renderer in `output_area.display_order` */\n",
       "      index: 0\n",
       "    });\n",
       "  }\n",
       "\n",
       "  // register the mime type if in Jupyter Notebook environment and previously unregistered\n",
       "  if (root.Jupyter !== undefined) {\n",
       "    var events = require('base/js/events');\n",
       "    var OutputArea = require('notebook/js/outputarea').OutputArea;\n",
       "\n",
       "    if (OutputArea.prototype.mime_types().indexOf(EXEC_MIME_TYPE) == -1) {\n",
       "      register_renderer(events, OutputArea);\n",
       "    }\n",
       "  }\n",
       "\n",
       "  \n",
       "  if (typeof (root._bokeh_timeout) === \"undefined\" || force === true) {\n",
       "    root._bokeh_timeout = Date.now() + 5000;\n",
       "    root._bokeh_failed_load = false;\n",
       "  }\n",
       "\n",
       "  var NB_LOAD_WARNING = {'data': {'text/html':\n",
       "     \"<div style='background-color: #fdd'>\\n\"+\n",
       "     \"<p>\\n\"+\n",
       "     \"BokehJS does not appear to have successfully loaded. If loading BokehJS from CDN, this \\n\"+\n",
       "     \"may be due to a slow or bad network connection. Possible fixes:\\n\"+\n",
       "     \"</p>\\n\"+\n",
       "     \"<ul>\\n\"+\n",
       "     \"<li>re-rerun `output_notebook()` to attempt to load from CDN again, or</li>\\n\"+\n",
       "     \"<li>use INLINE resources instead, as so:</li>\\n\"+\n",
       "     \"</ul>\\n\"+\n",
       "     \"<code>\\n\"+\n",
       "     \"from bokeh.resources import INLINE\\n\"+\n",
       "     \"output_notebook(resources=INLINE)\\n\"+\n",
       "     \"</code>\\n\"+\n",
       "     \"</div>\"}};\n",
       "\n",
       "  function display_loaded() {\n",
       "    var el = document.getElementById(\"1001\");\n",
       "    if (el != null) {\n",
       "      el.textContent = \"BokehJS is loading...\";\n",
       "    }\n",
       "    if (root.Bokeh !== undefined) {\n",
       "      if (el != null) {\n",
       "        el.textContent = \"BokehJS \" + root.Bokeh.version + \" successfully loaded.\";\n",
       "      }\n",
       "    } else if (Date.now() < root._bokeh_timeout) {\n",
       "      setTimeout(display_loaded, 100)\n",
       "    }\n",
       "  }\n",
       "\n",
       "\n",
       "  function run_callbacks() {\n",
       "    try {\n",
       "      root._bokeh_onload_callbacks.forEach(function(callback) {\n",
       "        if (callback != null)\n",
       "          callback();\n",
       "      });\n",
       "    } finally {\n",
       "      delete root._bokeh_onload_callbacks\n",
       "    }\n",
       "    console.debug(\"Bokeh: all callbacks have finished\");\n",
       "  }\n",
       "\n",
       "  function load_libs(css_urls, js_urls, callback) {\n",
       "    if (css_urls == null) css_urls = [];\n",
       "    if (js_urls == null) js_urls = [];\n",
       "\n",
       "    root._bokeh_onload_callbacks.push(callback);\n",
       "    if (root._bokeh_is_loading > 0) {\n",
       "      console.debug(\"Bokeh: BokehJS is being loaded, scheduling callback at\", now());\n",
       "      return null;\n",
       "    }\n",
       "    if (js_urls == null || js_urls.length === 0) {\n",
       "      run_callbacks();\n",
       "      return null;\n",
       "    }\n",
       "    console.debug(\"Bokeh: BokehJS not loaded, scheduling load and callback at\", now());\n",
       "    root._bokeh_is_loading = css_urls.length + js_urls.length;\n",
       "\n",
       "    function on_load() {\n",
       "      root._bokeh_is_loading--;\n",
       "      if (root._bokeh_is_loading === 0) {\n",
       "        console.debug(\"Bokeh: all BokehJS libraries/stylesheets loaded\");\n",
       "        run_callbacks()\n",
       "      }\n",
       "    }\n",
       "\n",
       "    function on_error() {\n",
       "      console.error(\"failed to load \" + url);\n",
       "    }\n",
       "\n",
       "    for (var i = 0; i < css_urls.length; i++) {\n",
       "      var url = css_urls[i];\n",
       "      const element = document.createElement(\"link\");\n",
       "      element.onload = on_load;\n",
       "      element.onerror = on_error;\n",
       "      element.rel = \"stylesheet\";\n",
       "      element.type = \"text/css\";\n",
       "      element.href = url;\n",
       "      console.debug(\"Bokeh: injecting link tag for BokehJS stylesheet: \", url);\n",
       "      document.body.appendChild(element);\n",
       "    }\n",
       "\n",
       "    for (var i = 0; i < js_urls.length; i++) {\n",
       "      var url = js_urls[i];\n",
       "      var element = document.createElement('script');\n",
       "      element.onload = on_load;\n",
       "      element.onerror = on_error;\n",
       "      element.async = false;\n",
       "      element.src = url;\n",
       "      console.debug(\"Bokeh: injecting script tag for BokehJS library: \", url);\n",
       "      document.head.appendChild(element);\n",
       "    }\n",
       "  };var element = document.getElementById(\"1001\");\n",
       "  if (element == null) {\n",
       "    console.error(\"Bokeh: ERROR: autoload.js configured with elementid '1001' but no matching script tag was found. \")\n",
       "    return false;\n",
       "  }\n",
       "\n",
       "  function inject_raw_css(css) {\n",
       "    const element = document.createElement(\"style\");\n",
       "    element.appendChild(document.createTextNode(css));\n",
       "    document.body.appendChild(element);\n",
       "  }\n",
       "\n",
       "  \n",
       "  var js_urls = [\"https://cdn.pydata.org/bokeh/release/bokeh-1.4.0.min.js\", \"https://cdn.pydata.org/bokeh/release/bokeh-widgets-1.4.0.min.js\", \"https://cdn.pydata.org/bokeh/release/bokeh-tables-1.4.0.min.js\", \"https://cdn.pydata.org/bokeh/release/bokeh-gl-1.4.0.min.js\"];\n",
       "  var css_urls = [];\n",
       "  \n",
       "\n",
       "  var inline_js = [\n",
       "    function(Bokeh) {\n",
       "      Bokeh.set_log_level(\"info\");\n",
       "    },\n",
       "    function(Bokeh) {\n",
       "    \n",
       "    \n",
       "    }\n",
       "  ];\n",
       "\n",
       "  function run_inline_js() {\n",
       "    \n",
       "    if (root.Bokeh !== undefined || force === true) {\n",
       "      \n",
       "    for (var i = 0; i < inline_js.length; i++) {\n",
       "      inline_js[i].call(root, root.Bokeh);\n",
       "    }\n",
       "    if (force === true) {\n",
       "        display_loaded();\n",
       "      }} else if (Date.now() < root._bokeh_timeout) {\n",
       "      setTimeout(run_inline_js, 100);\n",
       "    } else if (!root._bokeh_failed_load) {\n",
       "      console.log(\"Bokeh: BokehJS failed to load within specified timeout.\");\n",
       "      root._bokeh_failed_load = true;\n",
       "    } else if (force !== true) {\n",
       "      var cell = $(document.getElementById(\"1001\")).parents('.cell').data().cell;\n",
       "      cell.output_area.append_execute_result(NB_LOAD_WARNING)\n",
       "    }\n",
       "\n",
       "  }\n",
       "\n",
       "  if (root._bokeh_is_loading === 0) {\n",
       "    console.debug(\"Bokeh: BokehJS loaded, going straight to plotting\");\n",
       "    run_inline_js();\n",
       "  } else {\n",
       "    load_libs(css_urls, js_urls, function() {\n",
       "      console.debug(\"Bokeh: BokehJS plotting callback run at\", now());\n",
       "      run_inline_js();\n",
       "    });\n",
       "  }\n",
       "}(window));"
      ],
      "application/vnd.bokehjs_load.v0+json": "\n(function(root) {\n  function now() {\n    return new Date();\n  }\n\n  var force = true;\n\n  if (typeof root._bokeh_onload_callbacks === \"undefined\" || force === true) {\n    root._bokeh_onload_callbacks = [];\n    root._bokeh_is_loading = undefined;\n  }\n\n  \n\n  \n  if (typeof (root._bokeh_timeout) === \"undefined\" || force === true) {\n    root._bokeh_timeout = Date.now() + 5000;\n    root._bokeh_failed_load = false;\n  }\n\n  var NB_LOAD_WARNING = {'data': {'text/html':\n     \"<div style='background-color: #fdd'>\\n\"+\n     \"<p>\\n\"+\n     \"BokehJS does not appear to have successfully loaded. If loading BokehJS from CDN, this \\n\"+\n     \"may be due to a slow or bad network connection. Possible fixes:\\n\"+\n     \"</p>\\n\"+\n     \"<ul>\\n\"+\n     \"<li>re-rerun `output_notebook()` to attempt to load from CDN again, or</li>\\n\"+\n     \"<li>use INLINE resources instead, as so:</li>\\n\"+\n     \"</ul>\\n\"+\n     \"<code>\\n\"+\n     \"from bokeh.resources import INLINE\\n\"+\n     \"output_notebook(resources=INLINE)\\n\"+\n     \"</code>\\n\"+\n     \"</div>\"}};\n\n  function display_loaded() {\n    var el = document.getElementById(\"1001\");\n    if (el != null) {\n      el.textContent = \"BokehJS is loading...\";\n    }\n    if (root.Bokeh !== undefined) {\n      if (el != null) {\n        el.textContent = \"BokehJS \" + root.Bokeh.version + \" successfully loaded.\";\n      }\n    } else if (Date.now() < root._bokeh_timeout) {\n      setTimeout(display_loaded, 100)\n    }\n  }\n\n\n  function run_callbacks() {\n    try {\n      root._bokeh_onload_callbacks.forEach(function(callback) {\n        if (callback != null)\n          callback();\n      });\n    } finally {\n      delete root._bokeh_onload_callbacks\n    }\n    console.debug(\"Bokeh: all callbacks have finished\");\n  }\n\n  function load_libs(css_urls, js_urls, callback) {\n    if (css_urls == null) css_urls = [];\n    if (js_urls == null) js_urls = [];\n\n    root._bokeh_onload_callbacks.push(callback);\n    if (root._bokeh_is_loading > 0) {\n      console.debug(\"Bokeh: BokehJS is being loaded, scheduling callback at\", now());\n      return null;\n    }\n    if (js_urls == null || js_urls.length === 0) {\n      run_callbacks();\n      return null;\n    }\n    console.debug(\"Bokeh: BokehJS not loaded, scheduling load and callback at\", now());\n    root._bokeh_is_loading = css_urls.length + js_urls.length;\n\n    function on_load() {\n      root._bokeh_is_loading--;\n      if (root._bokeh_is_loading === 0) {\n        console.debug(\"Bokeh: all BokehJS libraries/stylesheets loaded\");\n        run_callbacks()\n      }\n    }\n\n    function on_error() {\n      console.error(\"failed to load \" + url);\n    }\n\n    for (var i = 0; i < css_urls.length; i++) {\n      var url = css_urls[i];\n      const element = document.createElement(\"link\");\n      element.onload = on_load;\n      element.onerror = on_error;\n      element.rel = \"stylesheet\";\n      element.type = \"text/css\";\n      element.href = url;\n      console.debug(\"Bokeh: injecting link tag for BokehJS stylesheet: \", url);\n      document.body.appendChild(element);\n    }\n\n    for (var i = 0; i < js_urls.length; i++) {\n      var url = js_urls[i];\n      var element = document.createElement('script');\n      element.onload = on_load;\n      element.onerror = on_error;\n      element.async = false;\n      element.src = url;\n      console.debug(\"Bokeh: injecting script tag for BokehJS library: \", url);\n      document.head.appendChild(element);\n    }\n  };var element = document.getElementById(\"1001\");\n  if (element == null) {\n    console.error(\"Bokeh: ERROR: autoload.js configured with elementid '1001' but no matching script tag was found. \")\n    return false;\n  }\n\n  function inject_raw_css(css) {\n    const element = document.createElement(\"style\");\n    element.appendChild(document.createTextNode(css));\n    document.body.appendChild(element);\n  }\n\n  \n  var js_urls = [\"https://cdn.pydata.org/bokeh/release/bokeh-1.4.0.min.js\", \"https://cdn.pydata.org/bokeh/release/bokeh-widgets-1.4.0.min.js\", \"https://cdn.pydata.org/bokeh/release/bokeh-tables-1.4.0.min.js\", \"https://cdn.pydata.org/bokeh/release/bokeh-gl-1.4.0.min.js\"];\n  var css_urls = [];\n  \n\n  var inline_js = [\n    function(Bokeh) {\n      Bokeh.set_log_level(\"info\");\n    },\n    function(Bokeh) {\n    \n    \n    }\n  ];\n\n  function run_inline_js() {\n    \n    if (root.Bokeh !== undefined || force === true) {\n      \n    for (var i = 0; i < inline_js.length; i++) {\n      inline_js[i].call(root, root.Bokeh);\n    }\n    if (force === true) {\n        display_loaded();\n      }} else if (Date.now() < root._bokeh_timeout) {\n      setTimeout(run_inline_js, 100);\n    } else if (!root._bokeh_failed_load) {\n      console.log(\"Bokeh: BokehJS failed to load within specified timeout.\");\n      root._bokeh_failed_load = true;\n    } else if (force !== true) {\n      var cell = $(document.getElementById(\"1001\")).parents('.cell').data().cell;\n      cell.output_area.append_execute_result(NB_LOAD_WARNING)\n    }\n\n  }\n\n  if (root._bokeh_is_loading === 0) {\n    console.debug(\"Bokeh: BokehJS loaded, going straight to plotting\");\n    run_inline_js();\n  } else {\n    load_libs(css_urls, js_urls, function() {\n      console.debug(\"Bokeh: BokehJS plotting callback run at\", now());\n      run_inline_js();\n    });\n  }\n}(window));"
     },
     "metadata": {},
     "output_type": "display_data"
    }
   ],
   "source": [
    "#plot output of variant QC for evaulation. This notebook has been converted into a script: 3-variant_qc/7-plot_rf_output.py\n",
    "\n",
    "import hail as hl\n",
    "import pyspark\n",
    "import pandas as pd\n",
    "from typing import Union, Dict, List, Set, Tuple\n",
    "from bokeh.models import Plot, Row, Span\n",
    "from gnomad.utils.plotting import *\n",
    "from hail.plot import show, output_notebook\n",
    "\n",
    "sc = pyspark.SparkContext()\n",
    "tmp_dir = \"hdfs://spark-master:9820/\"\n",
    "lustre_dir = \"file:///lustre/scratch123/qc/\"\n",
    "hl.init(sc=sc, tmp_dir=tmp_dir, default_reference=\"GRCh38\")\n",
    "\n",
    "output_notebook()\n",
    "\n",
    "rf_result_htfile = lustre_dir + \"variant_qc_random_forest/40eedd2d/_rf_result_ranked_BINS.ht\"\n"
   ]
  },
  {
   "cell_type": "code",
   "execution_count": 2,
   "id": "87e58121",
   "metadata": {},
   "outputs": [],
   "source": [
    "# def get_binned_models_pd(ht: hl.Table, models: Union[Dict[str, str], List[str]], contigs: Set[str] = None) -> pd.DataFrame:\n",
    "#     \"\"\"\n",
    "#     Creates a single DataFrame with all desired models binned and ready for plotting.\n",
    "\n",
    "#     :param str data_type: One of 'exomes' or 'genomes'\n",
    "#     :param list of str models: Models to load. Either a list of the model ids, or a dict with model id -> model name for display\n",
    "#     :param list of str contigs: Contigs to load\n",
    "#     :return: Plot-ready DataFrame\n",
    "#     :rtype: DataFrame\n",
    "#     \"\"\"\n",
    "\n",
    "#     def aggregate_contig(ht: hl.Table, contigs: Set[str] = None):\n",
    "#         \"\"\"\n",
    "#         Aggregates all contigs together and computes number for bins accross the contigs.\n",
    "#         \"\"\"\n",
    "#         if contigs:\n",
    "#             ht = ht.filter(hl.literal(contigs).contains(ht.contig))\n",
    "\n",
    "#         return ht.group_by(\n",
    "#             *[k for k in ht.key if k != 'contig']\n",
    "#         ).aggregate(\n",
    "#             min_score=hl.agg.min(ht.min_score),\n",
    "#             max_score=hl.agg.max(ht.max_score),\n",
    "#             **{x: hl.agg.sum(ht[x]) for x in ht.row_value if x not in ['min_score', 'max_score']}\n",
    "#         )\n",
    "\n",
    "#     if not isinstance(models, dict):\n",
    "#         models = {m: m for m in models}\n",
    "\n",
    "#     hts = [\n",
    "#         aggregate_contig(ht, contigs)\n",
    "#             .annotate(model=model_name) for model_id, model_name in models.items()\n",
    "#     ]\n",
    "\n",
    "#     ht = hts[0].union(*hts[1:])\n",
    "#     #ht = ht.annotate(n_biallelic=hl.cond(ht.bi_allelic, ht.n, 0))\n",
    "#     return ht.to_pandas()\n",
    "\n",
    "qc_plots_settings = {\n",
    "    'mean_point_size': 4.0,\n",
    "    'min_point_size': 1.0,\n",
    "    'max_point_size': 16.0,\n",
    "    'label_text_font_size': \"14pt\",\n",
    "    'title.text_font_size': \"16pt\",\n",
    "    'subtitle.text_font_size': \"14pt\",\n",
    "    'axis.axis_label_text_font_size': \"16pt\",\n",
    "    'axis.axis_label_text_font_style': \"normal\",\n",
    "    'axis.major_label_text_font_size': \"14pt\"\n",
    "}\n",
    "\n",
    "def set_plots_defaults(p: Plot) -> None:\n",
    "    p.legend.label_text_font_size = qc_plots_settings['label_text_font_size']\n",
    "    p.title.text_font_size = qc_plots_settings['title.text_font_size']\n",
    "    p.axis.axis_label_text_font_size = qc_plots_settings['axis.axis_label_text_font_size']\n",
    "    p.axis.axis_label_text_font_style = qc_plots_settings['axis.axis_label_text_font_style']\n",
    "    p.axis.major_label_text_font_size = qc_plots_settings['axis.major_label_text_font_size']\n",
    "    \n",
    "def get_point_size_col(data: pd.Series, size_prop: str) -> pd.Series:\n",
    "    \"\"\"\n",
    "    Given a data Series, returns the corresponding point size either:\n",
    "    - Constant to qc_plots_settings['mean_point_size'] if `size_prop` is None\n",
    "    - Radius proportional to data, if `size_prop` is 'radius'\n",
    "    - Area proportional to data, if `size_prop` is 'area'\n",
    "\n",
    "    Mean, min and max point  sizes are extracted from qc_plots_settings\n",
    "\n",
    "    :param Series data: Input data series\n",
    "    :param str size_prop: One of None, 'radius' or 'area'\n",
    "    :return: Series with corresponding point size for each data point\n",
    "    :rtype: Series\n",
    "    \"\"\"\n",
    "    if size_prop is None:\n",
    "        return pd.Series(len(data) * [qc_plots_settings['mean_point_size']])\n",
    "    else:\n",
    "        mean_data = np.mean(data)\n",
    "        if size_prop == 'radius':\n",
    "            return data.apply(lambda x: max(qc_plots_settings['min_point_size'], min(qc_plots_settings['max_point_size'], qc_plots_settings['mean_point_size'] * (x / mean_data))))\n",
    "        elif size_prop == 'area':\n",
    "            return data.apply(lambda x: max(qc_plots_settings['min_point_size'], min(qc_plots_settings['max_point_size'], qc_plots_settings['mean_point_size'] * np.pi * (np.sqrt(x / mean_data) / np.pi))))\n",
    "        else:\n",
    "            raise ValueError(f\"{size_prop} is not a supported value for argument `size_prop`\")\n",
    "            \n",
    "def plot_metric(df: pd.DataFrame,\n",
    "                y_name: str,\n",
    "                cols: List[str],\n",
    "                y_fun: Callable[[pd.Series], Union[float, int]] = lambda x: x,\n",
    "                cut: int = None,\n",
    "                plot_all: bool = True,\n",
    "                plot_bi_allelics: bool = True,\n",
    "                plot_singletons: bool = True,\n",
    "                plot_bi_allelic_singletons: bool = True,\n",
    "                plot_adj: bool = False,\n",
    "                colors: Dict[str, str] = None,\n",
    "                link_cumul_y: bool = True,\n",
    "                size_prop: str = 'area'\n",
    "                ) -> Tabs:\n",
    "    \"\"\"\n",
    "    Generic function for generating QC metric plots using a plotting-ready DataFrame (obtained from `get_binned_models_pd`)\n",
    "    DataFrame needs to have a `rank_id` column, a `bin` column and a `model` column (contains the model name and needs to be added to binned table(s))\n",
    "\n",
    "    This function generates scatter plots with the metric bin on x-axis and a user-defined function on the y-axis.\n",
    "    The data for the y-axis function needs to from the columns specified in `cols`. The function is specified with the `y_fun` argument and data columns are access as a list.\n",
    "    As an example, plotting Transition to transversion ratio is done as follows::\n",
    "\n",
    "        plot_metric(snvs, 'Ti/Tv', ['n_ti', 'n_tv'], y_fun=lambda x: x[0]/x[1], colors=colors)\n",
    "\n",
    "    In this command, `x[0]` correspond to the  first column selected (`'n_ti'`)  and `x[1]` to the second (`'n_tv'`).\n",
    "\n",
    "\n",
    "    This function plots a tab for each of the plot condition(s) selected: all, bi-allelics, bi-allelic singletons.\n",
    "    Within each tab, each row contains a non-cumulative and a cumulative plot of the bins / values.\n",
    "    If `plot_adj` is set, then an extra row is added plotting only variants in release samples where AC_ADJ>0. The bin for these sites is computed based on those variants only.\n",
    "\n",
    "    :param pd.DataFrame df: Input data\n",
    "    :param str y_name: Name of the metric plotted on the y-axis\n",
    "    :param list of str cols: Columns used to compute the metric plotted\n",
    "    :param callable y_fun: Function to apply to the columns to generate the metric\n",
    "    :param int cut: Where to draw the bin cut\n",
    "    :param bool plot_all: Whether to plot a tab with all variants\n",
    "    :param bool plot_bi_allelics: Whether to plot a tab with bi-allelic variants only\n",
    "    :param bool plot_singletons: Whether to plot a tab with singleton variants only\n",
    "    :param bool plot_bi_allelic_singletons:  Whether to plot a tab with bi-allelic singleton variants only\n",
    "    :param bool plot_adj: Whether to plot additional rows with adj variants in release samples only\n",
    "    :param dict of str -> str colors: Mapping of model name -> color\n",
    "    :param bool link_cumul_y: If set, y-axes of cumulative and non-cumulative plots are linked\n",
    "    :param str size_prop: Either 'size' or 'area' can be specified. If either is specified, the points will be sized proportionally to the amount of data in that point.\n",
    "    :return: Plot\n",
    "    :rtype: Tabs\n",
    "    \"\"\"\n",
    "    def get_row(df: pd.DataFrame, y_name: str, cols: List[str], y_fun: Callable[[pd.Series], Union[float, int]], titles: List[str], link_cumul_y: bool, cut: int = None) -> Row:\n",
    "        \"\"\"\n",
    "        Generates a single row with two plots: a regular scatter plot and a cumulative one.\n",
    "        Both plots have bins on the x-axis. The y-axis is computed by applying the function `y_fun` on the columns `cols`.\n",
    "\n",
    "        Data source is shared between the two plots so that highlighting / selection is linked.\n",
    "        X-axis is shared between the two plots.\n",
    "        Y-axus is shared if `link_cumul_y` is `True`\n",
    "\n",
    "        \"\"\"\n",
    "\n",
    "        def get_plot(data_source: ColumnDataSource, y_name: str, y_col_name: str, titles: List[str], data_ranges: Tuple[DataRange1d, DataRange1d], cut: int = None) -> Plot:\n",
    "            \"\"\"\n",
    "            Generates a single scatter plot panel\n",
    "            \"\"\"\n",
    "\n",
    "            p = figure(\n",
    "                title=titles[0],\n",
    "                x_axis_label='bin',\n",
    "                y_axis_label=y_name,\n",
    "                tools=\"save,pan,box_zoom,reset,wheel_zoom,box_select,lasso_select,help,hover\")\n",
    "            p.x_range = data_ranges[0]\n",
    "            p.y_range = data_ranges[1]\n",
    "\n",
    "            if cut:\n",
    "                p.add_layout(Span(location=cut, dimension='height', line_color='red', line_dash='dashed'))\n",
    "\n",
    "            # Add circles layouts one model at a time, so that no default legend is generated.\n",
    "            # Because data is in the same ColumnDataSource, use a BooleanFilter to plot each model separately\n",
    "            circles = []\n",
    "            for model in set(data_source.data['model']):\n",
    "                view = CDSView(source=data_source, filters=[BooleanFilter([x == model for x in data_source.data['model']])])\n",
    "                circles.append((model, [p.circle('bin', y_col_name, color='_color', size='_size', source=data_source, view=view)]))\n",
    "\n",
    "            p.select_one(HoverTool).tooltips = [('model', '@model'),\n",
    "                                                ('bin', '@bin'),\n",
    "                                                (y_name, f'@{y_col_name}'),\n",
    "                                                ('min_score', '@min_score'),\n",
    "                                                ('max_score', '@max_score'),\n",
    "                                                ('n_data_points', '@_n')\n",
    "                                                ] + [(col, f'@{col}') for col in cols]\n",
    "            set_plots_defaults(p)\n",
    "\n",
    "            # Add legend above the plot area\n",
    "            legend = Legend(items=circles, orientation='horizontal', location=(0, 0), click_policy=\"hide\")\n",
    "            p.add_layout(legend, 'above')\n",
    "\n",
    "            # Add subtitles if any\n",
    "            for title in titles[1:]:\n",
    "                p.add_layout(Title(text=title, text_font_size=qc_plots_settings['subtitle.text_font_size']), 'above')\n",
    "\n",
    "            return p\n",
    "        # Compute non-cumulative values by applying `y_fun`\n",
    "        df['non_cumul'] = df[cols].apply(y_fun, axis=1)\n",
    "\n",
    "        # Compute cumulative values for each of the data columns\n",
    "        for col in cols:\n",
    "            df[f'{col}_cumul'] = df.groupby('model').aggregate(np.cumsum)[col]\n",
    "        df['cumul'] = df[[f'{col}_cumul' for col in cols]].apply(y_fun, axis=1)\n",
    "\n",
    "        # Create data ranges that are either shared or distinct depending on the y_cumul parameter\n",
    "        non_cumul_data_ranges = (DataRange1d(), DataRange1d())\n",
    "        cumul_data_ranges = non_cumul_data_ranges if link_cumul_y else (non_cumul_data_ranges[0], DataRange1d())\n",
    "        data_source = ColumnDataSource(df)\n",
    "\n",
    "        return Row(get_plot(data_source, y_name, 'non_cumul', titles, non_cumul_data_ranges, cut),\n",
    "                   get_plot(data_source, y_name, 'cumul', [titles[0] + ', cumulative'] + titles[1:], cumul_data_ranges, cut))\n",
    "    \n",
    "    def prepare_pd(df: pd.DataFrame, cols: List[str], colors: Dict[str, str] = {}, size_prop: str = None):\n",
    "        \"\"\"\n",
    "        Groups a pandas DataFrame by model and bin while keeping relevant columns only.\n",
    "        Adds 3 columns used for plotting:\n",
    "        1. A _color column column\n",
    "        2. A _n column containing the number of data points\n",
    "        3. A _size column containing the size of data points based on the `size_prop` and `qc_plot_settings` parameters\n",
    "        \"\"\"\n",
    "        df = df.groupby(['model', 'bin']).agg({**{col: np.sum for col in cols},\n",
    "                                               'min_score': np.min, 'max_score': np.max})\n",
    "        df = df.reset_index()\n",
    "        df['_color'] = [colors.get(x, 'gray') for x in df['model']]\n",
    "        df['_n'] = np.sum(df[cols], axis=1)\n",
    "        df['_size'] = get_point_size_col(df['_n'], size_prop)\n",
    "        return df\n",
    "\n",
    "    colors = colors if colors is not None else {}\n",
    "    tabs = []\n",
    "    adj_strats = ['', 'adj_'] if plot_adj else ['']\n",
    "\n",
    "    if plot_all:\n",
    "        children = []\n",
    "        for adj in adj_strats:\n",
    "            titles = [y_name, 'Adj variants (adj rank)' if adj else 'All variants']\n",
    "            plot_df = prepare_pd(df.loc[df.rank_id == f'{adj}rank'], cols, colors, size_prop)\n",
    "            if len(plot_df) > 0:\n",
    "                children.append(get_row(plot_df, y_name, cols, y_fun, titles, link_cumul_y, cut))\n",
    "            else:\n",
    "                logger.warn('No data found for plot: {}'.format('\\t'.join(titles)))\n",
    "\n",
    "        if children:\n",
    "            tabs.append(Panel(child=Column(children=children), title='All'))\n",
    "\n",
    "   \n",
    "    if plot_singletons:\n",
    "        children = []\n",
    "        for adj in adj_strats:\n",
    "            for singleton_rank in ['', 'singleton_']:\n",
    "                titles = [y_name, 'Singletons ({} rank)'.format('overall' if not adj and not singleton_rank else \" \".join([adj[:-1], singleton_rank[:-1]]).lstrip())]\n",
    "                plot_df = prepare_pd(df.loc[df.singleton & (df.rank_id == f'{adj}{singleton_rank}rank')], cols, colors, size_prop)\n",
    "                if len(plot_df) > 0:\n",
    "                    children.append(get_row(plot_df, y_name, cols, y_fun, titles, link_cumul_y, cut))\n",
    "                else:\n",
    "                    logger.warn('No data found for plot: {}'.format('\\t'.join(titles)))\n",
    "\n",
    "        if children:\n",
    "            tabs.append(Panel(child=Column(children=children), title='Singletons'))\n",
    "\n",
    "   \n",
    "    return Tabs(tabs=tabs)"
   ]
  },
  {
   "cell_type": "code",
   "execution_count": 3,
   "id": "93a0cb47",
   "metadata": {},
   "outputs": [],
   "source": [
    "#convert ht to pandas df\n",
    "ht = hl.read_table(rf_result_htfile)\n",
    "#drop de_novo_high_quality as this field is sometimes NA and messes with conversion to pands\n",
    "ht = ht.key_by('rank_id', 'contig', 'snv', 'bi_allelic', 'singleton', 'trans_singletons', 'de_novo_medium_quality', 'de_novo_synonymous', 'bin')\n",
    "ht = ht.drop('de_novo_high_quality')"
   ]
  },
  {
   "cell_type": "code",
   "execution_count": 4,
   "id": "baf1e961",
   "metadata": {},
   "outputs": [],
   "source": [
    "ht2 = ht.group_by(\n",
    "            *[k for k in ht.key if k != 'contig']\n",
    "        ).aggregate(\n",
    "            min_score=hl.agg.min(ht.min_score),\n",
    "            max_score=hl.agg.max(ht.max_score),\n",
    "            **{x: hl.agg.sum(ht[x]) for x in ht.row_value if x not in ['min_score', 'max_score']}\n",
    "        )\n"
   ]
  },
  {
   "cell_type": "code",
   "execution_count": 5,
   "id": "6e7c1028",
   "metadata": {},
   "outputs": [
    {
     "name": "stderr",
     "output_type": "stream",
     "text": [
      "2022-06-06 07:15:01 Hail: INFO: Ordering unsorted dataset with network shuffle  \n",
      "                                                                                \r"
     ]
    },
    {
     "data": {
      "text/html": [
       "<div>\n",
       "<style scoped>\n",
       "    .dataframe tbody tr th:only-of-type {\n",
       "        vertical-align: middle;\n",
       "    }\n",
       "\n",
       "    .dataframe tbody tr th {\n",
       "        vertical-align: top;\n",
       "    }\n",
       "\n",
       "    .dataframe thead th {\n",
       "        text-align: right;\n",
       "    }\n",
       "</style>\n",
       "<table border=\"1\" class=\"dataframe\">\n",
       "  <thead>\n",
       "    <tr style=\"text-align: right;\">\n",
       "      <th></th>\n",
       "      <th>rank_id</th>\n",
       "      <th>snv</th>\n",
       "      <th>bi_allelic</th>\n",
       "      <th>singleton</th>\n",
       "      <th>trans_singletons</th>\n",
       "      <th>de_novo_medium_quality</th>\n",
       "      <th>de_novo_synonymous</th>\n",
       "      <th>bin</th>\n",
       "      <th>min_score</th>\n",
       "      <th>max_score</th>\n",
       "      <th>...</th>\n",
       "      <th>n_trans_singletons_synonymous_hail</th>\n",
       "      <th>n_untrans_singletons</th>\n",
       "      <th>n_untrans_singletons_synonymous_hail</th>\n",
       "      <th>n_train_trans_singletons</th>\n",
       "      <th>n_omni</th>\n",
       "      <th>n_mills</th>\n",
       "      <th>n_hapmap</th>\n",
       "      <th>n_kgp_high_conf_snvs</th>\n",
       "      <th>fail_hard_filters</th>\n",
       "      <th>model</th>\n",
       "    </tr>\n",
       "  </thead>\n",
       "  <tbody>\n",
       "    <tr>\n",
       "      <th>0</th>\n",
       "      <td>biallelic_rank</td>\n",
       "      <td>False</td>\n",
       "      <td>True</td>\n",
       "      <td>False</td>\n",
       "      <td>False</td>\n",
       "      <td>False</td>\n",
       "      <td>False</td>\n",
       "      <td>1</td>\n",
       "      <td>0.020316</td>\n",
       "      <td>0.020498</td>\n",
       "      <td>...</td>\n",
       "      <td>0</td>\n",
       "      <td>66</td>\n",
       "      <td>0</td>\n",
       "      <td>1</td>\n",
       "      <td>0</td>\n",
       "      <td>314</td>\n",
       "      <td>0</td>\n",
       "      <td>0</td>\n",
       "      <td>0</td>\n",
       "      <td>40eedd2d</td>\n",
       "    </tr>\n",
       "    <tr>\n",
       "      <th>1</th>\n",
       "      <td>biallelic_rank</td>\n",
       "      <td>False</td>\n",
       "      <td>True</td>\n",
       "      <td>False</td>\n",
       "      <td>False</td>\n",
       "      <td>False</td>\n",
       "      <td>False</td>\n",
       "      <td>2</td>\n",
       "      <td>0.020498</td>\n",
       "      <td>0.020535</td>\n",
       "      <td>...</td>\n",
       "      <td>0</td>\n",
       "      <td>41</td>\n",
       "      <td>0</td>\n",
       "      <td>0</td>\n",
       "      <td>0</td>\n",
       "      <td>620</td>\n",
       "      <td>0</td>\n",
       "      <td>0</td>\n",
       "      <td>1</td>\n",
       "      <td>40eedd2d</td>\n",
       "    </tr>\n",
       "    <tr>\n",
       "      <th>2</th>\n",
       "      <td>biallelic_rank</td>\n",
       "      <td>False</td>\n",
       "      <td>True</td>\n",
       "      <td>False</td>\n",
       "      <td>False</td>\n",
       "      <td>False</td>\n",
       "      <td>False</td>\n",
       "      <td>3</td>\n",
       "      <td>0.020535</td>\n",
       "      <td>0.020535</td>\n",
       "      <td>...</td>\n",
       "      <td>0</td>\n",
       "      <td>38</td>\n",
       "      <td>0</td>\n",
       "      <td>0</td>\n",
       "      <td>0</td>\n",
       "      <td>591</td>\n",
       "      <td>0</td>\n",
       "      <td>0</td>\n",
       "      <td>0</td>\n",
       "      <td>40eedd2d</td>\n",
       "    </tr>\n",
       "    <tr>\n",
       "      <th>3</th>\n",
       "      <td>biallelic_rank</td>\n",
       "      <td>False</td>\n",
       "      <td>True</td>\n",
       "      <td>False</td>\n",
       "      <td>False</td>\n",
       "      <td>False</td>\n",
       "      <td>False</td>\n",
       "      <td>4</td>\n",
       "      <td>0.020535</td>\n",
       "      <td>0.020646</td>\n",
       "      <td>...</td>\n",
       "      <td>0</td>\n",
       "      <td>47</td>\n",
       "      <td>0</td>\n",
       "      <td>2</td>\n",
       "      <td>0</td>\n",
       "      <td>741</td>\n",
       "      <td>0</td>\n",
       "      <td>0</td>\n",
       "      <td>0</td>\n",
       "      <td>40eedd2d</td>\n",
       "    </tr>\n",
       "    <tr>\n",
       "      <th>4</th>\n",
       "      <td>biallelic_rank</td>\n",
       "      <td>False</td>\n",
       "      <td>True</td>\n",
       "      <td>False</td>\n",
       "      <td>False</td>\n",
       "      <td>False</td>\n",
       "      <td>False</td>\n",
       "      <td>5</td>\n",
       "      <td>0.020646</td>\n",
       "      <td>0.020677</td>\n",
       "      <td>...</td>\n",
       "      <td>0</td>\n",
       "      <td>46</td>\n",
       "      <td>0</td>\n",
       "      <td>1</td>\n",
       "      <td>0</td>\n",
       "      <td>730</td>\n",
       "      <td>1</td>\n",
       "      <td>0</td>\n",
       "      <td>0</td>\n",
       "      <td>40eedd2d</td>\n",
       "    </tr>\n",
       "  </tbody>\n",
       "</table>\n",
       "<p>5 rows × 37 columns</p>\n",
       "</div>"
      ],
      "text/plain": [
       "          rank_id    snv  bi_allelic  singleton  trans_singletons  \\\n",
       "0  biallelic_rank  False        True      False             False   \n",
       "1  biallelic_rank  False        True      False             False   \n",
       "2  biallelic_rank  False        True      False             False   \n",
       "3  biallelic_rank  False        True      False             False   \n",
       "4  biallelic_rank  False        True      False             False   \n",
       "\n",
       "   de_novo_medium_quality  de_novo_synonymous  bin  min_score  max_score  ...  \\\n",
       "0                   False               False    1   0.020316   0.020498  ...   \n",
       "1                   False               False    2   0.020498   0.020535  ...   \n",
       "2                   False               False    3   0.020535   0.020535  ...   \n",
       "3                   False               False    4   0.020535   0.020646  ...   \n",
       "4                   False               False    5   0.020646   0.020677  ...   \n",
       "\n",
       "   n_trans_singletons_synonymous_hail  n_untrans_singletons  \\\n",
       "0                                   0                    66   \n",
       "1                                   0                    41   \n",
       "2                                   0                    38   \n",
       "3                                   0                    47   \n",
       "4                                   0                    46   \n",
       "\n",
       "   n_untrans_singletons_synonymous_hail  n_train_trans_singletons  n_omni  \\\n",
       "0                                     0                         1       0   \n",
       "1                                     0                         0       0   \n",
       "2                                     0                         0       0   \n",
       "3                                     0                         2       0   \n",
       "4                                     0                         1       0   \n",
       "\n",
       "   n_mills  n_hapmap  n_kgp_high_conf_snvs  fail_hard_filters     model  \n",
       "0      314         0                     0                  0  40eedd2d  \n",
       "1      620         0                     0                  1  40eedd2d  \n",
       "2      591         0                     0                  0  40eedd2d  \n",
       "3      741         0                     0                  0  40eedd2d  \n",
       "4      730         1                     0                  0  40eedd2d  \n",
       "\n",
       "[5 rows x 37 columns]"
      ]
     },
     "execution_count": 5,
     "metadata": {},
     "output_type": "execute_result"
    }
   ],
   "source": [
    "ht2 = ht2.annotate(model='40eedd2d')\n",
    "df = ht2.to_pandas()\n",
    "df.head()"
   ]
  },
  {
   "cell_type": "code",
   "execution_count": 6,
   "id": "ae6a6ec7",
   "metadata": {},
   "outputs": [
    {
     "data": {
      "text/plain": [
       "(4438, 37)"
      ]
     },
     "execution_count": 6,
     "metadata": {},
     "output_type": "execute_result"
    }
   ],
   "source": [
    "#indel and SNVs dataframes\n",
    "snvs=df[df['snv']==True]\n",
    "indels=df[df['snv']==False]\n",
    "snvs.shape"
   ]
  },
  {
   "cell_type": "code",
   "execution_count": 7,
   "id": "c4171d96",
   "metadata": {},
   "outputs": [
    {
     "data": {
      "text/plain": [
       "(1791, 37)"
      ]
     },
     "execution_count": 7,
     "metadata": {},
     "output_type": "execute_result"
    }
   ],
   "source": [
    "indels.shape"
   ]
  },
  {
   "cell_type": "code",
   "execution_count": 7,
   "id": "0b15a2db",
   "metadata": {},
   "outputs": [
    {
     "data": {
      "text/plain": [
       "Index(['rank_id', 'snv', 'bi_allelic', 'singleton', 'trans_singletons',\n",
       "       'de_novo_medium_quality', 'de_novo_synonymous', 'bin', 'min_score',\n",
       "       'max_score', 'n', 'n_ins', 'n_del', 'n_ti', 'n_tv', 'n_1bp_indel',\n",
       "       'n_mod3bp_indel', 'n_singleton', 'n_high_quality_de_novos',\n",
       "       'n_medium_quality_de_novos', 'n_high_confidence_de_novos', 'n_de_novo',\n",
       "       'n_high_quality_de_novos_synonymous',\n",
       "       'n_trans_singletons_synonymous_algorithm',\n",
       "       'n_untrans_singletons_synonymous_algorithm', 'n_de_novo_sites',\n",
       "       'n_trans_singletons', 'n_trans_singletons_synonymous_hail',\n",
       "       'n_untrans_singletons', 'n_untrans_singletons_synonymous_hail',\n",
       "       'n_train_trans_singletons', 'n_omni', 'n_mills', 'n_hapmap',\n",
       "       'n_kgp_high_conf_snvs', 'fail_hard_filters', 'model'],\n",
       "      dtype='object')"
      ]
     },
     "execution_count": 7,
     "metadata": {},
     "output_type": "execute_result"
    }
   ],
   "source": [
    "df.columns"
   ]
  },
  {
   "cell_type": "code",
   "execution_count": 8,
   "id": "0766af39",
   "metadata": {},
   "outputs": [],
   "source": [
    "model=\"40eedd2d\"\n",
    "colors={model:'blue'}\n",
    "data=\"snvs\"\n"
   ]
  },
  {
   "cell_type": "code",
   "execution_count": 17,
   "id": "0401d8e2",
   "metadata": {},
   "outputs": [
    {
     "name": "stderr",
     "output_type": "stream",
     "text": [
      "/home/ubuntu/venv/lib/python3.8/site-packages/bokeh/models/plots.py:767: UserWarning: \n",
      "You are attempting to set `plot.legend.label_text_font_size` on a plot that has zero legends added, this will have no effect.\n",
      "\n",
      "Before legend properties can be set, you must add a Legend explicitly, or call a glyph method with a legend parameter set.\n",
      "\n",
      "  warnings.warn(_LEGEND_EMPTY_WARNING % attr)\n"
     ]
    }
   ],
   "source": [
    "tabs = plot_metric(snvs, 'n_trans_singletons', ['n_trans_singletons_synonymous_algorithm'], y_fun=lambda x: x[0], plot_bi_allelics=False, plot_singletons=False, plot_bi_allelic_singletons=False, colors=colors, )"
   ]
  },
  {
   "cell_type": "code",
   "execution_count": 18,
   "id": "f6d8c861",
   "metadata": {},
   "outputs": [
    {
     "data": {
      "text/html": [
       "\n",
       "\n",
       "\n",
       "\n",
       "\n",
       "\n",
       "  <div class=\"bk-root\" id=\"314777af-306e-480f-a8b6-87ecd22d43cd\" data-root-id=\"2456\"></div>\n"
      ]
     },
     "metadata": {},
     "output_type": "display_data"
    },
    {
     "data": {
      "application/javascript": [
       "(function(root) {\n",
       "  function embed_document(root) {\n",
       "    \n",
       "  var docs_json = {\"5142c9e6-8cc5-4309-8461-845590659b83\":{\"roots\":{\"references\":[{\"attributes\":{\"callback\":null,\"tabs\":[{\"id\":\"2455\",\"type\":\"Panel\"}]},\"id\":\"2456\",\"type\":\"Tabs\"},{\"attributes\":{\"axis_label\":\"bin\",\"axis_label_text_font_size\":{\"value\":\"16pt\"},\"axis_label_text_font_style\":\"normal\",\"formatter\":{\"id\":\"2382\",\"type\":\"BasicTickFormatter\"},\"major_label_text_font_size\":{\"value\":\"14pt\"},\"ticker\":{\"id\":\"2347\",\"type\":\"BasicTicker\"}},\"id\":\"2346\",\"type\":\"LinearAxis\"},{\"attributes\":{\"callback\":null,\"data\":{\"_color\":[\"blue\",\"blue\",\"blue\",\"blue\",\"blue\",\"blue\",\"blue\",\"blue\",\"blue\",\"blue\",\"blue\",\"blue\",\"blue\",\"blue\",\"blue\",\"blue\",\"blue\",\"blue\",\"blue\",\"blue\",\"blue\",\"blue\",\"blue\",\"blue\",\"blue\",\"blue\",\"blue\",\"blue\",\"blue\",\"blue\",\"blue\",\"blue\",\"blue\",\"blue\",\"blue\",\"blue\",\"blue\",\"blue\",\"blue\",\"blue\",\"blue\",\"blue\",\"blue\",\"blue\",\"blue\",\"blue\",\"blue\",\"blue\",\"blue\",\"blue\",\"blue\",\"blue\",\"blue\",\"blue\",\"blue\",\"blue\",\"blue\",\"blue\",\"blue\",\"blue\",\"blue\",\"blue\",\"blue\",\"blue\",\"blue\",\"blue\",\"blue\",\"blue\",\"blue\",\"blue\",\"blue\",\"blue\",\"blue\",\"blue\",\"blue\",\"blue\",\"blue\",\"blue\",\"blue\",\"blue\",\"blue\",\"blue\",\"blue\",\"blue\",\"blue\",\"blue\",\"blue\",\"blue\",\"blue\",\"blue\",\"blue\",\"blue\",\"blue\",\"blue\",\"blue\",\"blue\",\"blue\",\"blue\",\"blue\",\"blue\",\"blue\"],\"_n\":[323,166,125,355,370,470,560,546,363,520,306,461,600,800,704,712,517,1233,1023,582,644,591,682,616,441,382,243,200,253,264,250,175,169,116,218,73,31,36,33,4,10,2,162,85,0,2,0,0,1,2,1,0,0,0,0,4,2,28,8,3,0,1,4,0,0,0,0,0,1,1,2,0,0,0,0,0,0,0,0,0,0,0,0,0,0,0,0,0,0,0,0,1,1,0,0,0,0,0,0,6,0],\"_size\":{\"__ndarray__\":\"Fqyr5DqCFkBLW2Q44yIQQD4R9pJCAQxA0pGwB+2YF0An+JsOOxcYQFDW2ALbJhtAXZgcTzujHUBvwv1+ykMdQEBpagud3BdAjRI/SD2PHEC8qaj6iugVQL+rj6v74xpAvyJr6YetHkDBlYT5PLYhQHRh7hB+nSBA3TmrfJe1IEBajUlnHnocQLhVnPAf/SVA8pDdQmYHJECVQLa21DYeQDWLEEdmyB9ATBGvKGhyHkCkYmwOgVogQIc5U0OOFR9AO+9kDABNGkAqAY0ccXoYQGNty9r0hRNAwZWE+Ty2EUBgPjofwusTQDwbSWxxWRRAWQ3UsW7NE0AcVuA1ZJEQQMQ+bzgMSBBASgAIiVj6CkCmpUg24n0SQGqZxae9ZgVAT/GVgobk+z9pEeF72w7+P+pyu9hDx/w/AAAAAAAA8D8AAAAAAADwPwAAAAAAAPA/jQ1V9KDhD0B8Aetc7BcHQAAAAAAAAPA/AAAAAAAA8D8AAAAAAADwPwAAAAAAAPA/AAAAAAAA8D8AAAAAAADwPwAAAAAAAPA/AAAAAAAA8D8AAAAAAADwPwAAAAAAAPA/AAAAAAAA8D8AAAAAAADwPwAAAAAAAPA/k1bN7zmC+j8AAAAAAADwPwAAAAAAAPA/AAAAAAAA8D8AAAAAAADwPwAAAAAAAPA/AAAAAAAA8D8AAAAAAADwPwAAAAAAAPA/AAAAAAAA8D8AAAAAAADwPwAAAAAAAPA/AAAAAAAA8D8AAAAAAADwPwAAAAAAAPA/AAAAAAAA8D8AAAAAAADwPwAAAAAAAPA/AAAAAAAA8D8AAAAAAADwPwAAAAAAAPA/AAAAAAAA8D8AAAAAAADwPwAAAAAAAPA/AAAAAAAA8D8AAAAAAADwPwAAAAAAAPA/AAAAAAAA8D8AAAAAAADwPwAAAAAAAPA/AAAAAAAA8D8AAAAAAADwPwAAAAAAAPA/AAAAAAAA8D8AAAAAAADwPwAAAAAAAPA/AAAAAAAA8D8AAAAAAADwPwAAAAAAAPA/AAAAAAAA8D8AAAAAAADwPwAAAAAAAPA/AAAAAAAA8D8AAAAAAADwPw==\",\"dtype\":\"float64\",\"shape\":[101]},\"bin\":[1,2,3,4,5,6,7,8,9,10,11,12,13,14,15,16,17,18,19,20,21,22,23,24,25,26,27,28,29,30,31,32,33,34,35,36,37,38,39,40,41,42,43,44,45,46,47,48,49,50,51,52,53,54,55,56,57,58,59,60,61,62,63,64,65,66,67,68,69,70,71,72,73,74,75,76,77,78,79,80,81,82,83,84,85,86,87,88,89,90,91,92,93,94,95,96,97,98,99,100,101],\"cumul\":[323,489,614,969,1339,1809,2369,2915,3278,3798,4104,4565,5165,5965,6669,7381,7898,9131,10154,10736,11380,11971,12653,13269,13710,14092,14335,14535,14788,15052,15302,15477,15646,15762,15980,16053,16084,16120,16153,16157,16167,16169,16331,16416,16416,16418,16418,16418,16419,16421,16422,16422,16422,16422,16422,16426,16428,16456,16464,16467,16467,16468,16472,16472,16472,16472,16472,16472,16473,16474,16476,16476,16476,16476,16476,16476,16476,16476,16476,16476,16476,16476,16476,16476,16476,16476,16476,16476,16476,16476,16476,16477,16478,16478,16478,16478,16478,16478,16478,16484,16484],\"index\":[0,1,2,3,4,5,6,7,8,9,10,11,12,13,14,15,16,17,18,19,20,21,22,23,24,25,26,27,28,29,30,31,32,33,34,35,36,37,38,39,40,41,42,43,44,45,46,47,48,49,50,51,52,53,54,55,56,57,58,59,60,61,62,63,64,65,66,67,68,69,70,71,72,73,74,75,76,77,78,79,80,81,82,83,84,85,86,87,88,89,90,91,92,93,94,95,96,97,98,99,100],\"max_score\":{\"__ndarray__\":\"wMbqWrQymT/AxupatDKZPyCjTsXCOpk/AK42l6F2mT8AbhATn3+cP0Dq6yHLq5w/IFVcT4zDnD/AMad1pt+cPyBE8sFREJ4/wBQTtidAnj8AzJ2sH2SiP4C/w0oWhqI/oGN1AFCdoj+Q7Oh5q56iP+DypfTptKI/4FT5c5a2oj8Q6b0HywejP+C81TA0FKM/YFHOAbYfoz+AlxceInqjPyCJr3BE26M/sFy/kkCFpT/AyPZ5qD+mPyBNbNDbc68/OJEx8qWUsD+QtlicT0axP1B1C45zuLI/aG0A5Z8ftD+oNheGd7C1P+hUR1s5I7Y/SNLbMA60tz8Ip6Zlr+e3P0BCyIzVXrk/QMGqpcfquj/wU0loZo3AP8hokAXWzsE/bF+4FTJswz/4JCj7z37EPxCXunEC6cg/wFdVhKm7yT8k+WQ+waHMP+z8MfpfoM8/b0IMsBkg4D96n0z2Y4ftP61ou3ddjO0/o50pZtrH7T/cgnkQL8/tP9yCeRAvz+0/6VM5WdDg7T95cLfK5BHuPzk7nlhbKO4/o31xyKcr7j+jfXHIpyvuPyeEEngmLe4/os/r9Oo47j8Y20A8q1zuPya2dDEAhe4/qd54z23M7j/O28Cw/OfuP7HBuisAB+8/GOxpTikH7z8RU2E57QrvP4LPwN4nE+8/n0Wxiaka7z+fRbGJqRrvP1N6qKaSHO8/Jhhrd2Ef7z+cManCNiPvP6iXuqxkK+8/a+aH1Bgw7z+FGW2Yw2LvP0FKT4+3ZO8/lZcnkuxp7z/oQoGloWrvP+hCgaWhau8/6EKBpaFq7z9xoI/dKHPvP8I7UDP2dO8/ThXHuYF37z8WiSg2K3rvPzsEM/ZTf+8/VSPN+6qB7z9VI837qoHvP6jOJg9ggu8/qM4mD2CC7z+oziYPYILvP6jOJg9ggu8/cyHJLuuC7z/j/GQMPoXvPxXFvfb+hu8/IwA6HAiI7z/Q9Z/t8ojvPyVDePAnju8/JUN48CeO7z947tED3Y7vP3ju0QPdju8/eO7RA92O7z947tED3Y7vP3ju0QPdju8/8RY4kGSk7z8r78IHIqXvPw==\",\"dtype\":\"float64\",\"shape\":[101]},\"min_score\":{\"__ndarray__\":\"oMtKuUitmD/AxupatDKZP8DG6lq0Mpk/IKNOxcI6mT8ArjaXoXaZPwBuEBOff5w/QOrrIcurnD8gVVxPjMOcP8Axp3Wm35w/IETywVEQnj/AFBO2J0CePwDMnawfZKI/gL/DShaGoj+gY3UAUJ2iP5Ds6HmrnqI/4PKl9Om0oj/gVPlzlraiPxDpvQfLB6M/4LzVMDQUoz9gUc4Bth+jP4CXFx4ieqM/IImvcETboz+wXL+SQIWlP8DI9nmoP6Y/IE1s0Ntzrz84kTHypZSwP5C2WJxPRrE/UHULjnO4sj9obQDlnx+0P6g2F4Z3sLU/6FRHWzkjtj9I0tswDrS3PwinpmWv57c/QELIjNVeuT9Awaqlx+q6P/BTSWhmjcA/yGiQBdbOwT9sX7gVMmzDP/gkKPvPfsQ/EJe6cQLpyD/AV1WEqbvJPyT5ZD7Bocw/7Pwx+l+gzz9vQgywGSDgP3qfTPZjh+0/rWi7d12M7T+jnSlm2sftP9yCeRAvz+0/3IJ5EC/P7T/pUzlZ0ODtP3lwt8rkEe4/OTueWFso7j+jfXHIpyvuP6N9ccinK+4/J4QSeCYt7j+iz+v06jjuPxjbQDyrXO4/JrZ0MQCF7j+p3njPbczuP87bwLD85+4/scG6KwAH7z8Y7GlOKQfvPxFTYTntCu8/gs/A3icT7z+fRbGJqRrvP59FsYmpGu8/U3qoppIc7z8mGGt3YR/vP5wxqcI2I+8/qJe6rGQr7z9r5ofUGDDvP4UZbZjDYu8/QUpPj7dk7z+VlyeS7GnvP+hCgaWhau8/6EKBpaFq7z/oQoGloWrvP3Ggj90oc+8/wjtQM/Z07z9OFce5gXfvPxaJKDYreu8/OwQz9lN/7z9VI837qoHvP1Ujzfuqge8/qM4mD2CC7z+oziYPYILvP6jOJg9ggu8/qM4mD2CC7z9zIcku64LvP+P8ZAw+he8/FcW99v6G7z8jADocCIjvP9D1n+3yiO8/JUN48CeO7z8lQ3jwJ47vP3ju0QPdju8/eO7RA92O7z947tED3Y7vP3ju0QPdju8/eO7RA92O7z/xFjiQZKTvPw==\",\"dtype\":\"float64\",\"shape\":[101]},\"model\":[\"40eedd2d\",\"40eedd2d\",\"40eedd2d\",\"40eedd2d\",\"40eedd2d\",\"40eedd2d\",\"40eedd2d\",\"40eedd2d\",\"40eedd2d\",\"40eedd2d\",\"40eedd2d\",\"40eedd2d\",\"40eedd2d\",\"40eedd2d\",\"40eedd2d\",\"40eedd2d\",\"40eedd2d\",\"40eedd2d\",\"40eedd2d\",\"40eedd2d\",\"40eedd2d\",\"40eedd2d\",\"40eedd2d\",\"40eedd2d\",\"40eedd2d\",\"40eedd2d\",\"40eedd2d\",\"40eedd2d\",\"40eedd2d\",\"40eedd2d\",\"40eedd2d\",\"40eedd2d\",\"40eedd2d\",\"40eedd2d\",\"40eedd2d\",\"40eedd2d\",\"40eedd2d\",\"40eedd2d\",\"40eedd2d\",\"40eedd2d\",\"40eedd2d\",\"40eedd2d\",\"40eedd2d\",\"40eedd2d\",\"40eedd2d\",\"40eedd2d\",\"40eedd2d\",\"40eedd2d\",\"40eedd2d\",\"40eedd2d\",\"40eedd2d\",\"40eedd2d\",\"40eedd2d\",\"40eedd2d\",\"40eedd2d\",\"40eedd2d\",\"40eedd2d\",\"40eedd2d\",\"40eedd2d\",\"40eedd2d\",\"40eedd2d\",\"40eedd2d\",\"40eedd2d\",\"40eedd2d\",\"40eedd2d\",\"40eedd2d\",\"40eedd2d\",\"40eedd2d\",\"40eedd2d\",\"40eedd2d\",\"40eedd2d\",\"40eedd2d\",\"40eedd2d\",\"40eedd2d\",\"40eedd2d\",\"40eedd2d\",\"40eedd2d\",\"40eedd2d\",\"40eedd2d\",\"40eedd2d\",\"40eedd2d\",\"40eedd2d\",\"40eedd2d\",\"40eedd2d\",\"40eedd2d\",\"40eedd2d\",\"40eedd2d\",\"40eedd2d\",\"40eedd2d\",\"40eedd2d\",\"40eedd2d\",\"40eedd2d\",\"40eedd2d\",\"40eedd2d\",\"40eedd2d\",\"40eedd2d\",\"40eedd2d\",\"40eedd2d\",\"40eedd2d\",\"40eedd2d\",\"40eedd2d\"],\"n_trans_singletons_synonymous_algorithm\":[323,166,125,355,370,470,560,546,363,520,306,461,600,800,704,712,517,1233,1023,582,644,591,682,616,441,382,243,200,253,264,250,175,169,116,218,73,31,36,33,4,10,2,162,85,0,2,0,0,1,2,1,0,0,0,0,4,2,28,8,3,0,1,4,0,0,0,0,0,1,1,2,0,0,0,0,0,0,0,0,0,0,0,0,0,0,0,0,0,0,0,0,1,1,0,0,0,0,0,0,6,0],\"n_trans_singletons_synonymous_algorithm_cumul\":[323,489,614,969,1339,1809,2369,2915,3278,3798,4104,4565,5165,5965,6669,7381,7898,9131,10154,10736,11380,11971,12653,13269,13710,14092,14335,14535,14788,15052,15302,15477,15646,15762,15980,16053,16084,16120,16153,16157,16167,16169,16331,16416,16416,16418,16418,16418,16419,16421,16422,16422,16422,16422,16422,16426,16428,16456,16464,16467,16467,16468,16472,16472,16472,16472,16472,16472,16473,16474,16476,16476,16476,16476,16476,16476,16476,16476,16476,16476,16476,16476,16476,16476,16476,16476,16476,16476,16476,16476,16476,16477,16478,16478,16478,16478,16478,16478,16478,16484,16484],\"non_cumul\":[323,166,125,355,370,470,560,546,363,520,306,461,600,800,704,712,517,1233,1023,582,644,591,682,616,441,382,243,200,253,264,250,175,169,116,218,73,31,36,33,4,10,2,162,85,0,2,0,0,1,2,1,0,0,0,0,4,2,28,8,3,0,1,4,0,0,0,0,0,1,1,2,0,0,0,0,0,0,0,0,0,0,0,0,0,0,0,0,0,0,0,0,1,1,0,0,0,0,0,0,6,0]},\"selected\":{\"id\":\"2389\",\"type\":\"Selection\"},\"selection_policy\":{\"id\":\"2390\",\"type\":\"UnionRenderers\"}},\"id\":\"2334\",\"type\":\"ColumnDataSource\"},{\"attributes\":{\"ticker\":{\"id\":\"2347\",\"type\":\"BasicTicker\"}},\"id\":\"2350\",\"type\":\"Grid\"},{\"attributes\":{\"fill_alpha\":{\"value\":0.5},\"fill_color\":{\"value\":\"lightgrey\"},\"level\":\"overlay\",\"line_alpha\":{\"value\":1.0},\"line_color\":{\"value\":\"black\"},\"line_dash\":[4,4],\"line_width\":{\"value\":2},\"xs_units\":\"screen\",\"ys_units\":\"screen\"},\"id\":\"2388\",\"type\":\"PolyAnnotation\"},{\"attributes\":{\"child\":{\"id\":\"2454\",\"type\":\"Column\"},\"title\":\"All\"},\"id\":\"2455\",\"type\":\"Panel\"},{\"attributes\":{},\"id\":\"2401\",\"type\":\"LinearScale\"},{\"attributes\":{},\"id\":\"2382\",\"type\":\"BasicTickFormatter\"},{\"attributes\":{\"axis_label\":\"bin\",\"axis_label_text_font_size\":{\"value\":\"16pt\"},\"axis_label_text_font_style\":\"normal\",\"formatter\":{\"id\":\"2441\",\"type\":\"BasicTickFormatter\"},\"major_label_text_font_size\":{\"value\":\"14pt\"},\"ticker\":{\"id\":\"2406\",\"type\":\"BasicTicker\"}},\"id\":\"2405\",\"type\":\"LinearAxis\"},{\"attributes\":{\"callback\":null},\"id\":\"2332\",\"type\":\"DataRange1d\"},{\"attributes\":{\"callback\":null,\"tooltips\":[[\"model\",\"@model\"],[\"bin\",\"@bin\"],[\"n_trans_singletons\",\"@non_cumul\"],[\"min_score\",\"@min_score\"],[\"max_score\",\"@max_score\"],[\"n_data_points\",\"@_n\"],[\"n_trans_singletons_synonymous_algorithm\",\"@n_trans_singletons_synonymous_algorithm\"]]},\"id\":\"2364\",\"type\":\"HoverTool\"},{\"attributes\":{\"filters\":[{\"id\":\"2375\",\"type\":\"BooleanFilter\"}],\"source\":{\"id\":\"2334\",\"type\":\"ColumnDataSource\"}},\"id\":\"2376\",\"type\":\"CDSView\"},{\"attributes\":{\"click_policy\":\"hide\",\"items\":[{\"id\":\"2392\",\"type\":\"LegendItem\"}],\"location\":[0,0],\"orientation\":\"horizontal\"},\"id\":\"2391\",\"type\":\"Legend\"},{\"attributes\":{},\"id\":\"2347\",\"type\":\"BasicTicker\"},{\"attributes\":{\"axis_label\":\"n_trans_singletons\",\"axis_label_text_font_size\":{\"value\":\"16pt\"},\"axis_label_text_font_style\":\"normal\",\"formatter\":{\"id\":\"2443\",\"type\":\"BasicTickFormatter\"},\"major_label_text_font_size\":{\"value\":\"14pt\"},\"ticker\":{\"id\":\"2411\",\"type\":\"BasicTicker\"}},\"id\":\"2410\",\"type\":\"LinearAxis\"},{\"attributes\":{},\"id\":\"2352\",\"type\":\"BasicTicker\"},{\"attributes\":{},\"id\":\"2418\",\"type\":\"ResetTool\"},{\"attributes\":{\"fill_alpha\":{\"value\":0.5},\"fill_color\":{\"value\":\"lightgrey\"},\"level\":\"overlay\",\"line_alpha\":{\"value\":1.0},\"line_color\":{\"value\":\"black\"},\"line_dash\":[4,4],\"line_width\":{\"value\":2},\"xs_units\":\"screen\",\"ys_units\":\"screen\"},\"id\":\"2447\",\"type\":\"PolyAnnotation\"},{\"attributes\":{\"bottom_units\":\"screen\",\"fill_alpha\":{\"value\":0.5},\"fill_color\":{\"value\":\"lightgrey\"},\"left_units\":\"screen\",\"level\":\"overlay\",\"line_alpha\":{\"value\":1.0},\"line_color\":{\"value\":\"black\"},\"line_dash\":[4,4],\"line_width\":{\"value\":2},\"render_mode\":\"css\",\"right_units\":\"screen\",\"top_units\":\"screen\"},\"id\":\"2387\",\"type\":\"BoxAnnotation\"},{\"attributes\":{\"fill_alpha\":{\"value\":0.1},\"fill_color\":{\"value\":\"#1f77b4\"},\"line_alpha\":{\"value\":0.1},\"line_color\":{\"value\":\"#1f77b4\"},\"size\":{\"field\":\"_size\",\"units\":\"screen\"},\"x\":{\"field\":\"bin\"},\"y\":{\"field\":\"cumul\"}},\"id\":\"2438\",\"type\":\"Circle\"},{\"attributes\":{\"text\":\"n_trans_singletons\",\"text_font_size\":{\"value\":\"16pt\"}},\"id\":\"2336\",\"type\":\"Title\"},{\"attributes\":{},\"id\":\"2360\",\"type\":\"WheelZoomTool\"},{\"attributes\":{},\"id\":\"2419\",\"type\":\"WheelZoomTool\"},{\"attributes\":{\"callback\":null},\"id\":\"2333\",\"type\":\"DataRange1d\"},{\"attributes\":{\"fill_color\":{\"field\":\"_color\"},\"line_color\":{\"field\":\"_color\"},\"size\":{\"field\":\"_size\",\"units\":\"screen\"},\"x\":{\"field\":\"bin\"},\"y\":{\"field\":\"cumul\"}},\"id\":\"2437\",\"type\":\"Circle\"},{\"attributes\":{\"booleans\":[true,true,true,true,true,true,true,true,true,true,true,true,true,true,true,true,true,true,true,true,true,true,true,true,true,true,true,true,true,true,true,true,true,true,true,true,true,true,true,true,true,true,true,true,true,true,true,true,true,true,true,true,true,true,true,true,true,true,true,true,true,true,true,true,true,true,true,true,true,true,true,true,true,true,true,true,true,true,true,true,true,true,true,true,true,true,true,true,true,true,true,true,true,true,true,true,true,true,true,true,true]},\"id\":\"2375\",\"type\":\"BooleanFilter\"},{\"attributes\":{\"bottom_units\":\"screen\",\"fill_alpha\":{\"value\":0.5},\"fill_color\":{\"value\":\"lightgrey\"},\"left_units\":\"screen\",\"level\":\"overlay\",\"line_alpha\":{\"value\":1.0},\"line_color\":{\"value\":\"black\"},\"line_dash\":[4,4],\"line_width\":{\"value\":2},\"render_mode\":\"css\",\"right_units\":\"screen\",\"top_units\":\"screen\"},\"id\":\"2445\",\"type\":\"BoxAnnotation\"},{\"attributes\":{},\"id\":\"2403\",\"type\":\"LinearScale\"},{\"attributes\":{\"click_policy\":\"hide\",\"items\":[{\"id\":\"2451\",\"type\":\"LegendItem\"}],\"location\":[0,0],\"orientation\":\"horizontal\"},\"id\":\"2450\",\"type\":\"Legend\"},{\"attributes\":{\"dimension\":1,\"ticker\":{\"id\":\"2411\",\"type\":\"BasicTicker\"}},\"id\":\"2414\",\"type\":\"Grid\"},{\"attributes\":{\"fill_alpha\":{\"value\":0.1},\"fill_color\":{\"value\":\"#1f77b4\"},\"line_alpha\":{\"value\":0.1},\"line_color\":{\"value\":\"#1f77b4\"},\"size\":{\"field\":\"_size\",\"units\":\"screen\"},\"x\":{\"field\":\"bin\"},\"y\":{\"field\":\"non_cumul\"}},\"id\":\"2379\",\"type\":\"Circle\"},{\"attributes\":{},\"id\":\"2344\",\"type\":\"LinearScale\"},{\"attributes\":{\"filters\":[{\"id\":\"2434\",\"type\":\"BooleanFilter\"}],\"source\":{\"id\":\"2334\",\"type\":\"ColumnDataSource\"}},\"id\":\"2435\",\"type\":\"CDSView\"},{\"attributes\":{\"label\":{\"value\":\"40eedd2d\"},\"renderers\":[{\"id\":\"2380\",\"type\":\"GlyphRenderer\"}]},\"id\":\"2392\",\"type\":\"LegendItem\"},{\"attributes\":{\"axis_label\":\"n_trans_singletons\",\"axis_label_text_font_size\":{\"value\":\"16pt\"},\"axis_label_text_font_style\":\"normal\",\"formatter\":{\"id\":\"2384\",\"type\":\"BasicTickFormatter\"},\"major_label_text_font_size\":{\"value\":\"14pt\"},\"ticker\":{\"id\":\"2352\",\"type\":\"BasicTicker\"}},\"id\":\"2351\",\"type\":\"LinearAxis\"},{\"attributes\":{},\"id\":\"2415\",\"type\":\"SaveTool\"},{\"attributes\":{\"text\":\"All variants\",\"text_font_size\":{\"value\":\"14pt\"}},\"id\":\"2393\",\"type\":\"Title\"},{\"attributes\":{},\"id\":\"2422\",\"type\":\"HelpTool\"},{\"attributes\":{\"children\":[{\"id\":\"2453\",\"type\":\"Row\"}]},\"id\":\"2454\",\"type\":\"Column\"},{\"attributes\":{\"callback\":null,\"overlay\":{\"id\":\"2387\",\"type\":\"BoxAnnotation\"}},\"id\":\"2361\",\"type\":\"BoxSelectTool\"},{\"attributes\":{\"data_source\":{\"id\":\"2334\",\"type\":\"ColumnDataSource\"},\"glyph\":{\"id\":\"2437\",\"type\":\"Circle\"},\"hover_glyph\":null,\"muted_glyph\":null,\"nonselection_glyph\":{\"id\":\"2438\",\"type\":\"Circle\"},\"selection_glyph\":null,\"view\":{\"id\":\"2435\",\"type\":\"CDSView\"}},\"id\":\"2439\",\"type\":\"GlyphRenderer\"},{\"attributes\":{\"dimension\":1,\"ticker\":{\"id\":\"2352\",\"type\":\"BasicTicker\"}},\"id\":\"2355\",\"type\":\"Grid\"},{\"attributes\":{\"callback\":null,\"overlay\":{\"id\":\"2388\",\"type\":\"PolyAnnotation\"}},\"id\":\"2362\",\"type\":\"LassoSelectTool\"},{\"attributes\":{\"callback\":null,\"tooltips\":[[\"model\",\"@model\"],[\"bin\",\"@bin\"],[\"n_trans_singletons\",\"@cumul\"],[\"min_score\",\"@min_score\"],[\"max_score\",\"@max_score\"],[\"n_data_points\",\"@_n\"],[\"n_trans_singletons_synonymous_algorithm\",\"@n_trans_singletons_synonymous_algorithm\"]]},\"id\":\"2423\",\"type\":\"HoverTool\"},{\"attributes\":{},\"id\":\"2357\",\"type\":\"PanTool\"},{\"attributes\":{},\"id\":\"2406\",\"type\":\"BasicTicker\"},{\"attributes\":{\"overlay\":{\"id\":\"2386\",\"type\":\"BoxAnnotation\"}},\"id\":\"2358\",\"type\":\"BoxZoomTool\"},{\"attributes\":{\"callback\":null,\"overlay\":{\"id\":\"2446\",\"type\":\"BoxAnnotation\"}},\"id\":\"2420\",\"type\":\"BoxSelectTool\"},{\"attributes\":{},\"id\":\"2441\",\"type\":\"BasicTickFormatter\"},{\"attributes\":{},\"id\":\"2443\",\"type\":\"BasicTickFormatter\"},{\"attributes\":{},\"id\":\"2416\",\"type\":\"PanTool\"},{\"attributes\":{},\"id\":\"2411\",\"type\":\"BasicTicker\"},{\"attributes\":{},\"id\":\"2389\",\"type\":\"Selection\"},{\"attributes\":{\"above\":[{\"id\":\"2450\",\"type\":\"Legend\"},{\"id\":\"2452\",\"type\":\"Title\"}],\"below\":[{\"id\":\"2405\",\"type\":\"LinearAxis\"}],\"center\":[{\"id\":\"2409\",\"type\":\"Grid\"},{\"id\":\"2414\",\"type\":\"Grid\"}],\"left\":[{\"id\":\"2410\",\"type\":\"LinearAxis\"}],\"renderers\":[{\"id\":\"2439\",\"type\":\"GlyphRenderer\"}],\"title\":{\"id\":\"2395\",\"type\":\"Title\"},\"toolbar\":{\"id\":\"2424\",\"type\":\"Toolbar\"},\"x_range\":{\"id\":\"2332\",\"type\":\"DataRange1d\"},\"x_scale\":{\"id\":\"2401\",\"type\":\"LinearScale\"},\"y_range\":{\"id\":\"2333\",\"type\":\"DataRange1d\"},\"y_scale\":{\"id\":\"2403\",\"type\":\"LinearScale\"}},\"id\":\"2394\",\"subtype\":\"Figure\",\"type\":\"Plot\"},{\"attributes\":{},\"id\":\"2342\",\"type\":\"LinearScale\"},{\"attributes\":{},\"id\":\"2359\",\"type\":\"ResetTool\"},{\"attributes\":{\"callback\":null,\"overlay\":{\"id\":\"2447\",\"type\":\"PolyAnnotation\"}},\"id\":\"2421\",\"type\":\"LassoSelectTool\"},{\"attributes\":{},\"id\":\"2390\",\"type\":\"UnionRenderers\"},{\"attributes\":{\"children\":[{\"id\":\"2335\",\"subtype\":\"Figure\",\"type\":\"Plot\"},{\"id\":\"2394\",\"subtype\":\"Figure\",\"type\":\"Plot\"}]},\"id\":\"2453\",\"type\":\"Row\"},{\"attributes\":{\"text\":\"All variants\",\"text_font_size\":{\"value\":\"14pt\"}},\"id\":\"2452\",\"type\":\"Title\"},{\"attributes\":{},\"id\":\"2363\",\"type\":\"HelpTool\"},{\"attributes\":{\"text\":\"n_trans_singletons, cumulative\",\"text_font_size\":{\"value\":\"16pt\"}},\"id\":\"2395\",\"type\":\"Title\"},{\"attributes\":{},\"id\":\"2356\",\"type\":\"SaveTool\"},{\"attributes\":{\"booleans\":[true,true,true,true,true,true,true,true,true,true,true,true,true,true,true,true,true,true,true,true,true,true,true,true,true,true,true,true,true,true,true,true,true,true,true,true,true,true,true,true,true,true,true,true,true,true,true,true,true,true,true,true,true,true,true,true,true,true,true,true,true,true,true,true,true,true,true,true,true,true,true,true,true,true,true,true,true,true,true,true,true,true,true,true,true,true,true,true,true,true,true,true,true,true,true,true,true,true,true,true,true]},\"id\":\"2434\",\"type\":\"BooleanFilter\"},{\"attributes\":{},\"id\":\"2384\",\"type\":\"BasicTickFormatter\"},{\"attributes\":{\"ticker\":{\"id\":\"2406\",\"type\":\"BasicTicker\"}},\"id\":\"2409\",\"type\":\"Grid\"},{\"attributes\":{\"bottom_units\":\"screen\",\"fill_alpha\":{\"value\":0.5},\"fill_color\":{\"value\":\"lightgrey\"},\"left_units\":\"screen\",\"level\":\"overlay\",\"line_alpha\":{\"value\":1.0},\"line_color\":{\"value\":\"black\"},\"line_dash\":[4,4],\"line_width\":{\"value\":2},\"render_mode\":\"css\",\"right_units\":\"screen\",\"top_units\":\"screen\"},\"id\":\"2386\",\"type\":\"BoxAnnotation\"},{\"attributes\":{\"bottom_units\":\"screen\",\"fill_alpha\":{\"value\":0.5},\"fill_color\":{\"value\":\"lightgrey\"},\"left_units\":\"screen\",\"level\":\"overlay\",\"line_alpha\":{\"value\":1.0},\"line_color\":{\"value\":\"black\"},\"line_dash\":[4,4],\"line_width\":{\"value\":2},\"render_mode\":\"css\",\"right_units\":\"screen\",\"top_units\":\"screen\"},\"id\":\"2446\",\"type\":\"BoxAnnotation\"},{\"attributes\":{\"above\":[{\"id\":\"2391\",\"type\":\"Legend\"},{\"id\":\"2393\",\"type\":\"Title\"}],\"below\":[{\"id\":\"2346\",\"type\":\"LinearAxis\"}],\"center\":[{\"id\":\"2350\",\"type\":\"Grid\"},{\"id\":\"2355\",\"type\":\"Grid\"}],\"left\":[{\"id\":\"2351\",\"type\":\"LinearAxis\"}],\"renderers\":[{\"id\":\"2380\",\"type\":\"GlyphRenderer\"}],\"title\":{\"id\":\"2336\",\"type\":\"Title\"},\"toolbar\":{\"id\":\"2365\",\"type\":\"Toolbar\"},\"x_range\":{\"id\":\"2332\",\"type\":\"DataRange1d\"},\"x_scale\":{\"id\":\"2342\",\"type\":\"LinearScale\"},\"y_range\":{\"id\":\"2333\",\"type\":\"DataRange1d\"},\"y_scale\":{\"id\":\"2344\",\"type\":\"LinearScale\"}},\"id\":\"2335\",\"subtype\":\"Figure\",\"type\":\"Plot\"},{\"attributes\":{\"fill_color\":{\"field\":\"_color\"},\"line_color\":{\"field\":\"_color\"},\"size\":{\"field\":\"_size\",\"units\":\"screen\"},\"x\":{\"field\":\"bin\"},\"y\":{\"field\":\"non_cumul\"}},\"id\":\"2378\",\"type\":\"Circle\"},{\"attributes\":{\"active_drag\":\"auto\",\"active_inspect\":\"auto\",\"active_multi\":null,\"active_scroll\":\"auto\",\"active_tap\":\"auto\",\"tools\":[{\"id\":\"2356\",\"type\":\"SaveTool\"},{\"id\":\"2357\",\"type\":\"PanTool\"},{\"id\":\"2358\",\"type\":\"BoxZoomTool\"},{\"id\":\"2359\",\"type\":\"ResetTool\"},{\"id\":\"2360\",\"type\":\"WheelZoomTool\"},{\"id\":\"2361\",\"type\":\"BoxSelectTool\"},{\"id\":\"2362\",\"type\":\"LassoSelectTool\"},{\"id\":\"2363\",\"type\":\"HelpTool\"},{\"id\":\"2364\",\"type\":\"HoverTool\"}]},\"id\":\"2365\",\"type\":\"Toolbar\"},{\"attributes\":{\"active_drag\":\"auto\",\"active_inspect\":\"auto\",\"active_multi\":null,\"active_scroll\":\"auto\",\"active_tap\":\"auto\",\"tools\":[{\"id\":\"2415\",\"type\":\"SaveTool\"},{\"id\":\"2416\",\"type\":\"PanTool\"},{\"id\":\"2417\",\"type\":\"BoxZoomTool\"},{\"id\":\"2418\",\"type\":\"ResetTool\"},{\"id\":\"2419\",\"type\":\"WheelZoomTool\"},{\"id\":\"2420\",\"type\":\"BoxSelectTool\"},{\"id\":\"2421\",\"type\":\"LassoSelectTool\"},{\"id\":\"2422\",\"type\":\"HelpTool\"},{\"id\":\"2423\",\"type\":\"HoverTool\"}]},\"id\":\"2424\",\"type\":\"Toolbar\"},{\"attributes\":{\"label\":{\"value\":\"40eedd2d\"},\"renderers\":[{\"id\":\"2439\",\"type\":\"GlyphRenderer\"}]},\"id\":\"2451\",\"type\":\"LegendItem\"},{\"attributes\":{\"overlay\":{\"id\":\"2445\",\"type\":\"BoxAnnotation\"}},\"id\":\"2417\",\"type\":\"BoxZoomTool\"},{\"attributes\":{\"data_source\":{\"id\":\"2334\",\"type\":\"ColumnDataSource\"},\"glyph\":{\"id\":\"2378\",\"type\":\"Circle\"},\"hover_glyph\":null,\"muted_glyph\":null,\"nonselection_glyph\":{\"id\":\"2379\",\"type\":\"Circle\"},\"selection_glyph\":null,\"view\":{\"id\":\"2376\",\"type\":\"CDSView\"}},\"id\":\"2380\",\"type\":\"GlyphRenderer\"}],\"root_ids\":[\"2456\"]},\"title\":\"Bokeh Application\",\"version\":\"1.4.0\"}};\n",
       "  var render_items = [{\"docid\":\"5142c9e6-8cc5-4309-8461-845590659b83\",\"roots\":{\"2456\":\"314777af-306e-480f-a8b6-87ecd22d43cd\"}}];\n",
       "  root.Bokeh.embed.embed_items_notebook(docs_json, render_items);\n",
       "\n",
       "  }\n",
       "  if (root.Bokeh !== undefined) {\n",
       "    embed_document(root);\n",
       "  } else {\n",
       "    var attempts = 0;\n",
       "    var timer = setInterval(function(root) {\n",
       "      if (root.Bokeh !== undefined) {\n",
       "        clearInterval(timer);\n",
       "        embed_document(root);\n",
       "      } else {\n",
       "        attempts++;\n",
       "        if (attempts > 100) {\n",
       "          clearInterval(timer);\n",
       "          console.log(\"Bokeh: ERROR: Unable to run BokehJS code because BokehJS library is missing\");\n",
       "        }\n",
       "      }\n",
       "    }, 10, root)\n",
       "  }\n",
       "})(window);"
      ],
      "application/vnd.bokehjs_exec.v0+json": ""
     },
     "metadata": {
      "application/vnd.bokehjs_exec.v0+json": {
       "id": "2456"
      }
     },
     "output_type": "display_data"
    },
    {
     "name": "stdout",
     "output_type": "stream",
     "text": [
      "\n"
     ]
    }
   ],
   "source": [
    "show(tabs)"
   ]
  },
  {
   "cell_type": "code",
   "execution_count": 16,
   "id": "2abca31f",
   "metadata": {},
   "outputs": [
    {
     "data": {
      "text/plain": [
       "'/lustre/scratch123/qc/plots/variant_qc/plot1.html'"
      ]
     },
     "execution_count": 16,
     "metadata": {},
     "output_type": "execute_result"
    }
   ],
   "source": [
    "from bokeh.plotting import output_file, save\n",
    "#from bokeh.io.export import export_png\n",
    "# plotdir = lustre_dir + \"plots/variant_qc/\"\n",
    "# plotfile = plotdir + \"plot1.html\"\n",
    "plotfile = '/lustre/scratch123/qc/plots/variant_qc/plot1.html'\n",
    "#export_png(tabs, plotfile)\n",
    "output_file(filename=plotfile)\n",
    "save(tabs)"
   ]
  },
  {
   "cell_type": "code",
   "execution_count": 45,
   "id": "b628c6d9",
   "metadata": {},
   "outputs": [
    {
     "name": "stderr",
     "output_type": "stream",
     "text": [
      "/home/ubuntu/venv/lib/python3.8/site-packages/bokeh/models/plots.py:767: UserWarning: \n",
      "You are attempting to set `plot.legend.label_text_font_size` on a plot that has zero legends added, this will have no effect.\n",
      "\n",
      "Before legend properties can be set, you must add a Legend explicitly, or call a glyph method with a legend parameter set.\n",
      "\n",
      "  warnings.warn(_LEGEND_EMPTY_WARNING % attr)\n"
     ]
    },
    {
     "data": {
      "text/html": [
       "\n",
       "\n",
       "\n",
       "\n",
       "\n",
       "\n",
       "  <div class=\"bk-root\" id=\"a7f174eb-6625-46c1-a079-555cc94ed11d\" data-root-id=\"17031\"></div>\n"
      ]
     },
     "metadata": {},
     "output_type": "display_data"
    },
    {
     "data": {
      "application/javascript": [
       "(function(root) {\n",
       "  function embed_document(root) {\n",
       "    \n",
       "  var docs_json = {\"ff016cb6-1dff-42c8-b07c-978da6402b64\":{\"roots\":{\"references\":[{\"attributes\":{\"callback\":null,\"tabs\":[{\"id\":\"17030\",\"type\":\"Panel\"}]},\"id\":\"17031\",\"type\":\"Tabs\"},{\"attributes\":{\"bottom_units\":\"screen\",\"fill_alpha\":{\"value\":0.5},\"fill_color\":{\"value\":\"lightgrey\"},\"left_units\":\"screen\",\"level\":\"overlay\",\"line_alpha\":{\"value\":1.0},\"line_color\":{\"value\":\"black\"},\"line_dash\":[4,4],\"line_width\":{\"value\":2},\"render_mode\":\"css\",\"right_units\":\"screen\",\"top_units\":\"screen\"},\"id\":\"17021\",\"type\":\"BoxAnnotation\"},{\"attributes\":{\"text\":\"All variants\",\"text_font_size\":{\"value\":\"14pt\"}},\"id\":\"16968\",\"type\":\"Title\"},{\"attributes\":{\"fill_alpha\":{\"value\":0.5},\"fill_color\":{\"value\":\"lightgrey\"},\"level\":\"overlay\",\"line_alpha\":{\"value\":1.0},\"line_color\":{\"value\":\"black\"},\"line_dash\":[4,4],\"line_width\":{\"value\":2},\"xs_units\":\"screen\",\"ys_units\":\"screen\"},\"id\":\"17022\",\"type\":\"PolyAnnotation\"},{\"attributes\":{\"click_policy\":\"hide\",\"items\":[{\"id\":\"16967\",\"type\":\"LegendItem\"}],\"location\":[0,0],\"orientation\":\"horizontal\"},\"id\":\"16966\",\"type\":\"Legend\"},{\"attributes\":{\"bottom_units\":\"screen\",\"fill_alpha\":{\"value\":0.5},\"fill_color\":{\"value\":\"lightgrey\"},\"left_units\":\"screen\",\"level\":\"overlay\",\"line_alpha\":{\"value\":1.0},\"line_color\":{\"value\":\"black\"},\"line_dash\":[4,4],\"line_width\":{\"value\":2},\"render_mode\":\"css\",\"right_units\":\"screen\",\"top_units\":\"screen\"},\"id\":\"16961\",\"type\":\"BoxAnnotation\"},{\"attributes\":{},\"id\":\"17016\",\"type\":\"BasicTickFormatter\"},{\"attributes\":{},\"id\":\"16981\",\"type\":\"BasicTicker\"},{\"attributes\":{\"label\":{\"value\":\"40eedd2d\"},\"renderers\":[{\"id\":\"16955\",\"type\":\"GlyphRenderer\"}]},\"id\":\"16967\",\"type\":\"LegendItem\"},{\"attributes\":{},\"id\":\"16959\",\"type\":\"BasicTickFormatter\"},{\"attributes\":{\"text\":\"n_untrans_singletons_synonymous_algorithm, cumulative\",\"text_font_size\":{\"value\":\"16pt\"}},\"id\":\"16970\",\"type\":\"Title\"},{\"attributes\":{\"axis_label\":\"bin\",\"axis_label_text_font_size\":{\"value\":\"16pt\"},\"axis_label_text_font_style\":\"normal\",\"formatter\":{\"id\":\"17016\",\"type\":\"BasicTickFormatter\"},\"major_label_text_font_size\":{\"value\":\"14pt\"},\"ticker\":{\"id\":\"16981\",\"type\":\"BasicTicker\"}},\"id\":\"16980\",\"type\":\"LinearAxis\"},{\"attributes\":{},\"id\":\"16957\",\"type\":\"BasicTickFormatter\"},{\"attributes\":{\"filters\":[{\"id\":\"17009\",\"type\":\"BooleanFilter\"}],\"source\":{\"id\":\"16909\",\"type\":\"ColumnDataSource\"}},\"id\":\"17010\",\"type\":\"CDSView\"},{\"attributes\":{\"bottom_units\":\"screen\",\"fill_alpha\":{\"value\":0.5},\"fill_color\":{\"value\":\"lightgrey\"},\"left_units\":\"screen\",\"level\":\"overlay\",\"line_alpha\":{\"value\":1.0},\"line_color\":{\"value\":\"black\"},\"line_dash\":[4,4],\"line_width\":{\"value\":2},\"render_mode\":\"css\",\"right_units\":\"screen\",\"top_units\":\"screen\"},\"id\":\"16962\",\"type\":\"BoxAnnotation\"},{\"attributes\":{\"above\":[{\"id\":\"17025\",\"type\":\"Legend\"},{\"id\":\"17027\",\"type\":\"Title\"}],\"below\":[{\"id\":\"16980\",\"type\":\"LinearAxis\"}],\"center\":[{\"id\":\"16984\",\"type\":\"Grid\"},{\"id\":\"16989\",\"type\":\"Grid\"}],\"left\":[{\"id\":\"16985\",\"type\":\"LinearAxis\"}],\"renderers\":[{\"id\":\"17014\",\"type\":\"GlyphRenderer\"}],\"title\":{\"id\":\"16970\",\"type\":\"Title\"},\"toolbar\":{\"id\":\"16999\",\"type\":\"Toolbar\"},\"x_range\":{\"id\":\"16907\",\"type\":\"DataRange1d\"},\"x_scale\":{\"id\":\"16976\",\"type\":\"LinearScale\"},\"y_range\":{\"id\":\"16908\",\"type\":\"DataRange1d\"},\"y_scale\":{\"id\":\"16978\",\"type\":\"LinearScale\"}},\"id\":\"16969\",\"subtype\":\"Figure\",\"type\":\"Plot\"},{\"attributes\":{\"children\":[{\"id\":\"17028\",\"type\":\"Row\"}]},\"id\":\"17029\",\"type\":\"Column\"},{\"attributes\":{\"text\":\"n_untrans_singletons_synonymous_algorithm\",\"text_font_size\":{\"value\":\"16pt\"}},\"id\":\"16911\",\"type\":\"Title\"},{\"attributes\":{},\"id\":\"16927\",\"type\":\"BasicTicker\"},{\"attributes\":{\"click_policy\":\"hide\",\"items\":[{\"id\":\"17026\",\"type\":\"LegendItem\"}],\"location\":[0,0],\"orientation\":\"horizontal\"},\"id\":\"17025\",\"type\":\"Legend\"},{\"attributes\":{},\"id\":\"16931\",\"type\":\"SaveTool\"},{\"attributes\":{\"fill_alpha\":{\"value\":0.5},\"fill_color\":{\"value\":\"lightgrey\"},\"level\":\"overlay\",\"line_alpha\":{\"value\":1.0},\"line_color\":{\"value\":\"black\"},\"line_dash\":[4,4],\"line_width\":{\"value\":2},\"xs_units\":\"screen\",\"ys_units\":\"screen\"},\"id\":\"16963\",\"type\":\"PolyAnnotation\"},{\"attributes\":{\"axis_label\":\"n_untrans_singletons_synonymous_algorithm\",\"axis_label_text_font_size\":{\"value\":\"16pt\"},\"axis_label_text_font_style\":\"normal\",\"formatter\":{\"id\":\"17018\",\"type\":\"BasicTickFormatter\"},\"major_label_text_font_size\":{\"value\":\"14pt\"},\"ticker\":{\"id\":\"16986\",\"type\":\"BasicTicker\"}},\"id\":\"16985\",\"type\":\"LinearAxis\"},{\"attributes\":{\"callback\":null,\"overlay\":{\"id\":\"16962\",\"type\":\"BoxAnnotation\"}},\"id\":\"16936\",\"type\":\"BoxSelectTool\"},{\"attributes\":{},\"id\":\"16978\",\"type\":\"LinearScale\"},{\"attributes\":{\"above\":[{\"id\":\"16966\",\"type\":\"Legend\"},{\"id\":\"16968\",\"type\":\"Title\"}],\"below\":[{\"id\":\"16921\",\"type\":\"LinearAxis\"}],\"center\":[{\"id\":\"16925\",\"type\":\"Grid\"},{\"id\":\"16930\",\"type\":\"Grid\"}],\"left\":[{\"id\":\"16926\",\"type\":\"LinearAxis\"}],\"renderers\":[{\"id\":\"16955\",\"type\":\"GlyphRenderer\"}],\"title\":{\"id\":\"16911\",\"type\":\"Title\"},\"toolbar\":{\"id\":\"16940\",\"type\":\"Toolbar\"},\"x_range\":{\"id\":\"16907\",\"type\":\"DataRange1d\"},\"x_scale\":{\"id\":\"16917\",\"type\":\"LinearScale\"},\"y_range\":{\"id\":\"16908\",\"type\":\"DataRange1d\"},\"y_scale\":{\"id\":\"16919\",\"type\":\"LinearScale\"}},\"id\":\"16910\",\"subtype\":\"Figure\",\"type\":\"Plot\"},{\"attributes\":{\"axis_label\":\"bin\",\"axis_label_text_font_size\":{\"value\":\"16pt\"},\"axis_label_text_font_style\":\"normal\",\"formatter\":{\"id\":\"16957\",\"type\":\"BasicTickFormatter\"},\"major_label_text_font_size\":{\"value\":\"14pt\"},\"ticker\":{\"id\":\"16922\",\"type\":\"BasicTicker\"}},\"id\":\"16921\",\"type\":\"LinearAxis\"},{\"attributes\":{},\"id\":\"16986\",\"type\":\"BasicTicker\"},{\"attributes\":{},\"id\":\"16976\",\"type\":\"LinearScale\"},{\"attributes\":{\"ticker\":{\"id\":\"16981\",\"type\":\"BasicTicker\"}},\"id\":\"16984\",\"type\":\"Grid\"},{\"attributes\":{},\"id\":\"16917\",\"type\":\"LinearScale\"},{\"attributes\":{\"axis_label\":\"n_untrans_singletons_synonymous_algorithm\",\"axis_label_text_font_size\":{\"value\":\"16pt\"},\"axis_label_text_font_style\":\"normal\",\"formatter\":{\"id\":\"16959\",\"type\":\"BasicTickFormatter\"},\"major_label_text_font_size\":{\"value\":\"14pt\"},\"ticker\":{\"id\":\"16927\",\"type\":\"BasicTicker\"}},\"id\":\"16926\",\"type\":\"LinearAxis\"},{\"attributes\":{},\"id\":\"17018\",\"type\":\"BasicTickFormatter\"},{\"attributes\":{},\"id\":\"16965\",\"type\":\"UnionRenderers\"},{\"attributes\":{\"dimension\":1,\"ticker\":{\"id\":\"16927\",\"type\":\"BasicTicker\"}},\"id\":\"16930\",\"type\":\"Grid\"},{\"attributes\":{\"filters\":[{\"id\":\"16950\",\"type\":\"BooleanFilter\"}],\"source\":{\"id\":\"16909\",\"type\":\"ColumnDataSource\"}},\"id\":\"16951\",\"type\":\"CDSView\"},{\"attributes\":{\"dimension\":1,\"ticker\":{\"id\":\"16986\",\"type\":\"BasicTicker\"}},\"id\":\"16989\",\"type\":\"Grid\"},{\"attributes\":{},\"id\":\"16991\",\"type\":\"PanTool\"},{\"attributes\":{\"ticker\":{\"id\":\"16922\",\"type\":\"BasicTicker\"}},\"id\":\"16925\",\"type\":\"Grid\"},{\"attributes\":{\"active_drag\":\"auto\",\"active_inspect\":\"auto\",\"active_multi\":null,\"active_scroll\":\"auto\",\"active_tap\":\"auto\",\"tools\":[{\"id\":\"16990\",\"type\":\"SaveTool\"},{\"id\":\"16991\",\"type\":\"PanTool\"},{\"id\":\"16992\",\"type\":\"BoxZoomTool\"},{\"id\":\"16993\",\"type\":\"ResetTool\"},{\"id\":\"16994\",\"type\":\"WheelZoomTool\"},{\"id\":\"16995\",\"type\":\"BoxSelectTool\"},{\"id\":\"16996\",\"type\":\"LassoSelectTool\"},{\"id\":\"16997\",\"type\":\"HelpTool\"},{\"id\":\"16998\",\"type\":\"HoverTool\"}]},\"id\":\"16999\",\"type\":\"Toolbar\"},{\"attributes\":{},\"id\":\"16935\",\"type\":\"WheelZoomTool\"},{\"attributes\":{},\"id\":\"16990\",\"type\":\"SaveTool\"},{\"attributes\":{},\"id\":\"16934\",\"type\":\"ResetTool\"},{\"attributes\":{\"overlay\":{\"id\":\"17020\",\"type\":\"BoxAnnotation\"}},\"id\":\"16992\",\"type\":\"BoxZoomTool\"},{\"attributes\":{\"callback\":null,\"tooltips\":[[\"model\",\"@model\"],[\"bin\",\"@bin\"],[\"n_untrans_singletons_synonymous_algorithm\",\"@non_cumul\"],[\"min_score\",\"@min_score\"],[\"max_score\",\"@max_score\"],[\"n_data_points\",\"@_n\"],[\"n_untrans_singletons_synonymous_algorithm\",\"@n_untrans_singletons_synonymous_algorithm\"]]},\"id\":\"16939\",\"type\":\"HoverTool\"},{\"attributes\":{\"callback\":null,\"overlay\":{\"id\":\"17021\",\"type\":\"BoxAnnotation\"}},\"id\":\"16995\",\"type\":\"BoxSelectTool\"},{\"attributes\":{\"fill_alpha\":{\"value\":0.1},\"fill_color\":{\"value\":\"#1f77b4\"},\"line_alpha\":{\"value\":0.1},\"line_color\":{\"value\":\"#1f77b4\"},\"size\":{\"field\":\"_size\",\"units\":\"screen\"},\"x\":{\"field\":\"bin\"},\"y\":{\"field\":\"non_cumul\"}},\"id\":\"16954\",\"type\":\"Circle\"},{\"attributes\":{\"children\":[{\"id\":\"16910\",\"subtype\":\"Figure\",\"type\":\"Plot\"},{\"id\":\"16969\",\"subtype\":\"Figure\",\"type\":\"Plot\"}]},\"id\":\"17028\",\"type\":\"Row\"},{\"attributes\":{\"callback\":null},\"id\":\"16908\",\"type\":\"DataRange1d\"},{\"attributes\":{\"fill_color\":{\"field\":\"_color\"},\"line_color\":{\"field\":\"_color\"},\"size\":{\"field\":\"_size\",\"units\":\"screen\"},\"x\":{\"field\":\"bin\"},\"y\":{\"field\":\"non_cumul\"}},\"id\":\"16953\",\"type\":\"Circle\"},{\"attributes\":{},\"id\":\"16993\",\"type\":\"ResetTool\"},{\"attributes\":{},\"id\":\"16938\",\"type\":\"HelpTool\"},{\"attributes\":{\"callback\":null,\"tooltips\":[[\"model\",\"@model\"],[\"bin\",\"@bin\"],[\"n_untrans_singletons_synonymous_algorithm\",\"@cumul\"],[\"min_score\",\"@min_score\"],[\"max_score\",\"@max_score\"],[\"n_data_points\",\"@_n\"],[\"n_untrans_singletons_synonymous_algorithm\",\"@n_untrans_singletons_synonymous_algorithm\"]]},\"id\":\"16998\",\"type\":\"HoverTool\"},{\"attributes\":{\"callback\":null},\"id\":\"16907\",\"type\":\"DataRange1d\"},{\"attributes\":{},\"id\":\"16994\",\"type\":\"WheelZoomTool\"},{\"attributes\":{\"label\":{\"value\":\"40eedd2d\"},\"renderers\":[{\"id\":\"17014\",\"type\":\"GlyphRenderer\"}]},\"id\":\"17026\",\"type\":\"LegendItem\"},{\"attributes\":{},\"id\":\"16997\",\"type\":\"HelpTool\"},{\"attributes\":{},\"id\":\"16964\",\"type\":\"Selection\"},{\"attributes\":{\"booleans\":[true,true,true,true,true,true,true,true,true,true,true,true,true,true,true,true,true,true,true,true,true,true,true,true,true,true,true,true,true,true,true,true,true,true,true,true,true,true,true,true,true,true,true,true,true,true,true,true,true,true,true,true,true,true,true,true,true,true,true,true,true,true,true,true,true,true,true,true,true,true,true,true,true,true,true,true,true,true,true,true,true,true,true,true,true,true,true,true,true,true,true,true,true,true,true,true,true,true,true,true,true]},\"id\":\"17009\",\"type\":\"BooleanFilter\"},{\"attributes\":{\"overlay\":{\"id\":\"16961\",\"type\":\"BoxAnnotation\"}},\"id\":\"16933\",\"type\":\"BoxZoomTool\"},{\"attributes\":{},\"id\":\"16922\",\"type\":\"BasicTicker\"},{\"attributes\":{\"callback\":null,\"overlay\":{\"id\":\"17022\",\"type\":\"PolyAnnotation\"}},\"id\":\"16996\",\"type\":\"LassoSelectTool\"},{\"attributes\":{\"text\":\"All variants\",\"text_font_size\":{\"value\":\"14pt\"}},\"id\":\"17027\",\"type\":\"Title\"},{\"attributes\":{},\"id\":\"16932\",\"type\":\"PanTool\"},{\"attributes\":{\"bottom_units\":\"screen\",\"fill_alpha\":{\"value\":0.5},\"fill_color\":{\"value\":\"lightgrey\"},\"left_units\":\"screen\",\"level\":\"overlay\",\"line_alpha\":{\"value\":1.0},\"line_color\":{\"value\":\"black\"},\"line_dash\":[4,4],\"line_width\":{\"value\":2},\"render_mode\":\"css\",\"right_units\":\"screen\",\"top_units\":\"screen\"},\"id\":\"17020\",\"type\":\"BoxAnnotation\"},{\"attributes\":{\"booleans\":[true,true,true,true,true,true,true,true,true,true,true,true,true,true,true,true,true,true,true,true,true,true,true,true,true,true,true,true,true,true,true,true,true,true,true,true,true,true,true,true,true,true,true,true,true,true,true,true,true,true,true,true,true,true,true,true,true,true,true,true,true,true,true,true,true,true,true,true,true,true,true,true,true,true,true,true,true,true,true,true,true,true,true,true,true,true,true,true,true,true,true,true,true,true,true,true,true,true,true,true,true]},\"id\":\"16950\",\"type\":\"BooleanFilter\"},{\"attributes\":{\"fill_alpha\":{\"value\":0.1},\"fill_color\":{\"value\":\"#1f77b4\"},\"line_alpha\":{\"value\":0.1},\"line_color\":{\"value\":\"#1f77b4\"},\"size\":{\"field\":\"_size\",\"units\":\"screen\"},\"x\":{\"field\":\"bin\"},\"y\":{\"field\":\"cumul\"}},\"id\":\"17013\",\"type\":\"Circle\"},{\"attributes\":{\"child\":{\"id\":\"17029\",\"type\":\"Column\"},\"title\":\"All\"},\"id\":\"17030\",\"type\":\"Panel\"},{\"attributes\":{\"callback\":null,\"data\":{\"_color\":[\"blue\",\"blue\",\"blue\",\"blue\",\"blue\",\"blue\",\"blue\",\"blue\",\"blue\",\"blue\",\"blue\",\"blue\",\"blue\",\"blue\",\"blue\",\"blue\",\"blue\",\"blue\",\"blue\",\"blue\",\"blue\",\"blue\",\"blue\",\"blue\",\"blue\",\"blue\",\"blue\",\"blue\",\"blue\",\"blue\",\"blue\",\"blue\",\"blue\",\"blue\",\"blue\",\"blue\",\"blue\",\"blue\",\"blue\",\"blue\",\"blue\",\"blue\",\"blue\",\"blue\",\"blue\",\"blue\",\"blue\",\"blue\",\"blue\",\"blue\",\"blue\",\"blue\",\"blue\",\"blue\",\"blue\",\"blue\",\"blue\",\"blue\",\"blue\",\"blue\",\"blue\",\"blue\",\"blue\",\"blue\",\"blue\",\"blue\",\"blue\",\"blue\",\"blue\",\"blue\",\"blue\",\"blue\",\"blue\",\"blue\",\"blue\",\"blue\",\"blue\",\"blue\",\"blue\",\"blue\",\"blue\",\"blue\",\"blue\",\"blue\",\"blue\",\"blue\",\"blue\",\"blue\",\"blue\",\"blue\",\"blue\",\"blue\",\"blue\",\"blue\",\"blue\",\"blue\",\"blue\",\"blue\",\"blue\",\"blue\",\"blue\"],\"_n\":[469,252,187,573,681,721,981,1179,925,1904,1397,688,827,935,1051,1047,972,1368,1312,1013,1130,1193,967,830,1050,854,767,647,719,1042,948,800,811,341,453,391,204,150,120,19,56,20,611,328,37,114,47,43,170,56,69,41,48,79,76,32,56,168,52,28,6,9,21,13,4,5,13,10,6,7,22,0,1,0,0,0,0,2,1,1,0,0,0,0,0,0,0,0,0,0,1,1,0,0,0,0,0,0,0,7,0],\"_size\":{\"__ndarray__\":\"L9uzfgDWEkCYkBsvN50LQELqQ1akyQdAS3Qr6uPRFEBbT+x0g7IWQEnvlaW5WhdADkL7W+U9G0CLmzTOW90dQHBdgIvrcxpA1W7djtr5IkDrq9oVHEEgQFql9d9M0BZAWKD+iiYDGUDKoDk6bZgaQLjCYz1sMhxA4ydqZawkHEAvSsz11B0bQJcvHYaxFSBA/oo2qRCBH0DsTcwFuq4bQJvxr7bMPB1A6AND8J0KHkALrT5Q9AsbQH9F8wTBDhlA8D1h6PwuHEAGpNgk1moZQNzkjKd/FhhAkGIyW5sfFkDtpR9abVIXQD0bcR9zExxA4hwkN5jHGkAMVyD9wZkYQAoXYzPoxBhAdPVIRasPEEAdenpcCYMSQKyHEsnNMhFArmL8bmzYCECdJrWpBE4FQNY2h+E4DgNAAAAAAAAA8D+zgQKc6wj6PwAAAAAAAPA/g/3aS8l/FUD+ijapEIEPQCaxZjyJKfU/RH7C7bOSAkA0aRwX59n3P1ql9d9M0PY/kJr56j6uBkCzgQKc6wj6P+F2a7Qw5vw/+HvOudxG9j9Fl7VohBr4P3Z73KQo7P4/lwc2sWVU/j+jRYDKNK7zP7OBApzrCPo/jTG0hv2LBkB6l/xaehb5Pw8LvXTPaPI/AAAAAAAA8D8AAAAAAADwPwAAAAAAAPA/AAAAAAAA8D8AAAAAAADwPwAAAAAAAPA/AAAAAAAA8D8AAAAAAADwPwAAAAAAAPA/AAAAAAAA8D9dC4W8dVHwPwAAAAAAAPA/AAAAAAAA8D8AAAAAAADwPwAAAAAAAPA/AAAAAAAA8D8AAAAAAADwPwAAAAAAAPA/AAAAAAAA8D8AAAAAAADwPwAAAAAAAPA/AAAAAAAA8D8AAAAAAADwPwAAAAAAAPA/AAAAAAAA8D8AAAAAAADwPwAAAAAAAPA/AAAAAAAA8D8AAAAAAADwPwAAAAAAAPA/AAAAAAAA8D8AAAAAAADwPwAAAAAAAPA/AAAAAAAA8D8AAAAAAADwPwAAAAAAAPA/AAAAAAAA8D8AAAAAAADwPwAAAAAAAPA/AAAAAAAA8D8AAAAAAADwPw==\",\"dtype\":\"float64\",\"shape\":[101]},\"bin\":[1,2,3,4,5,6,7,8,9,10,11,12,13,14,15,16,17,18,19,20,21,22,23,24,25,26,27,28,29,30,31,32,33,34,35,36,37,38,39,40,41,42,43,44,45,46,47,48,49,50,51,52,53,54,55,56,57,58,59,60,61,62,63,64,65,66,67,68,69,70,71,72,73,74,75,76,77,78,79,80,81,82,83,84,85,86,87,88,89,90,91,92,93,94,95,96,97,98,99,100,101],\"cumul\":[469,721,908,1481,2162,2883,3864,5043,5968,7872,9269,9957,10784,11719,12770,13817,14789,16157,17469,18482,19612,20805,21772,22602,23652,24506,25273,25920,26639,27681,28629,29429,30240,30581,31034,31425,31629,31779,31899,31918,31974,31994,32605,32933,32970,33084,33131,33174,33344,33400,33469,33510,33558,33637,33713,33745,33801,33969,34021,34049,34055,34064,34085,34098,34102,34107,34120,34130,34136,34143,34165,34165,34166,34166,34166,34166,34166,34168,34169,34170,34170,34170,34170,34170,34170,34170,34170,34170,34170,34170,34171,34172,34172,34172,34172,34172,34172,34172,34172,34179,34179],\"index\":[0,1,2,3,4,5,6,7,8,9,10,11,12,13,14,15,16,17,18,19,20,21,22,23,24,25,26,27,28,29,30,31,32,33,34,35,36,37,38,39,40,41,42,43,44,45,46,47,48,49,50,51,52,53,54,55,56,57,58,59,60,61,62,63,64,65,66,67,68,69,70,71,72,73,74,75,76,77,78,79,80,81,82,83,84,85,86,87,88,89,90,91,92,93,94,95,96,97,98,99,100],\"max_score\":{\"__ndarray__\":\"wMbqWrQymT/AxupatDKZPyCjTsXCOpk/AK42l6F2mT8AbhATn3+cP0Dq6yHLq5w/IFVcT4zDnD/AMad1pt+cPyBE8sFREJ4/wBQTtidAnj8AzJ2sH2SiP4C/w0oWhqI/oGN1AFCdoj+Q7Oh5q56iP+DypfTptKI/4FT5c5a2oj8Q6b0HywejP+C81TA0FKM/YFHOAbYfoz+AlxceInqjPyCJr3BE26M/sFy/kkCFpT/AyPZ5qD+mPyBNbNDbc68/OJEx8qWUsD+QtlicT0axP1B1C45zuLI/aG0A5Z8ftD+oNheGd7C1P+hUR1s5I7Y/SNLbMA60tz8Ip6Zlr+e3P0BCyIzVXrk/QMGqpcfquj/wU0loZo3AP8hokAXWzsE/bF+4FTJswz/4JCj7z37EPxCXunEC6cg/wFdVhKm7yT8k+WQ+waHMP+z8MfpfoM8/b0IMsBkg4D96n0z2Y4ftP61ou3ddjO0/o50pZtrH7T/cgnkQL8/tP9yCeRAvz+0/6VM5WdDg7T95cLfK5BHuPzk7nlhbKO4/o31xyKcr7j+jfXHIpyvuPyeEEngmLe4/os/r9Oo47j8Y20A8q1zuPya2dDEAhe4/qd54z23M7j/O28Cw/OfuP7HBuisAB+8/GOxpTikH7z8RU2E57QrvP4LPwN4nE+8/n0Wxiaka7z+fRbGJqRrvP1N6qKaSHO8/Jhhrd2Ef7z+cManCNiPvP6iXuqxkK+8/a+aH1Bgw7z+FGW2Yw2LvP0FKT4+3ZO8/lZcnkuxp7z/oQoGloWrvP+hCgaWhau8/6EKBpaFq7z9xoI/dKHPvP8I7UDP2dO8/ThXHuYF37z8WiSg2K3rvPzsEM/ZTf+8/VSPN+6qB7z9VI837qoHvP6jOJg9ggu8/qM4mD2CC7z+oziYPYILvP6jOJg9ggu8/cyHJLuuC7z/j/GQMPoXvPxXFvfb+hu8/IwA6HAiI7z/Q9Z/t8ojvPyVDePAnju8/JUN48CeO7z947tED3Y7vP3ju0QPdju8/eO7RA92O7z947tED3Y7vP3ju0QPdju8/8RY4kGSk7z8r78IHIqXvPw==\",\"dtype\":\"float64\",\"shape\":[101]},\"min_score\":{\"__ndarray__\":\"oMtKuUitmD/AxupatDKZP8DG6lq0Mpk/IKNOxcI6mT8ArjaXoXaZPwBuEBOff5w/QOrrIcurnD8gVVxPjMOcP8Axp3Wm35w/IETywVEQnj/AFBO2J0CePwDMnawfZKI/gL/DShaGoj+gY3UAUJ2iP5Ds6HmrnqI/4PKl9Om0oj/gVPlzlraiPxDpvQfLB6M/4LzVMDQUoz9gUc4Bth+jP4CXFx4ieqM/IImvcETboz+wXL+SQIWlP8DI9nmoP6Y/IE1s0Ntzrz84kTHypZSwP5C2WJxPRrE/UHULjnO4sj9obQDlnx+0P6g2F4Z3sLU/6FRHWzkjtj9I0tswDrS3PwinpmWv57c/QELIjNVeuT9Awaqlx+q6P/BTSWhmjcA/yGiQBdbOwT9sX7gVMmzDP/gkKPvPfsQ/EJe6cQLpyD/AV1WEqbvJPyT5ZD7Bocw/7Pwx+l+gzz9vQgywGSDgP3qfTPZjh+0/rWi7d12M7T+jnSlm2sftP9yCeRAvz+0/3IJ5EC/P7T/pUzlZ0ODtP3lwt8rkEe4/OTueWFso7j+jfXHIpyvuP6N9ccinK+4/J4QSeCYt7j+iz+v06jjuPxjbQDyrXO4/JrZ0MQCF7j+p3njPbczuP87bwLD85+4/scG6KwAH7z8Y7GlOKQfvPxFTYTntCu8/gs/A3icT7z+fRbGJqRrvP59FsYmpGu8/U3qoppIc7z8mGGt3YR/vP5wxqcI2I+8/qJe6rGQr7z9r5ofUGDDvP4UZbZjDYu8/QUpPj7dk7z+VlyeS7GnvP+hCgaWhau8/6EKBpaFq7z/oQoGloWrvP3Ggj90oc+8/wjtQM/Z07z9OFce5gXfvPxaJKDYreu8/OwQz9lN/7z9VI837qoHvP1Ujzfuqge8/qM4mD2CC7z+oziYPYILvP6jOJg9ggu8/qM4mD2CC7z9zIcku64LvP+P8ZAw+he8/FcW99v6G7z8jADocCIjvP9D1n+3yiO8/JUN48CeO7z8lQ3jwJ47vP3ju0QPdju8/eO7RA92O7z947tED3Y7vP3ju0QPdju8/eO7RA92O7z/xFjiQZKTvPw==\",\"dtype\":\"float64\",\"shape\":[101]},\"model\":[\"40eedd2d\",\"40eedd2d\",\"40eedd2d\",\"40eedd2d\",\"40eedd2d\",\"40eedd2d\",\"40eedd2d\",\"40eedd2d\",\"40eedd2d\",\"40eedd2d\",\"40eedd2d\",\"40eedd2d\",\"40eedd2d\",\"40eedd2d\",\"40eedd2d\",\"40eedd2d\",\"40eedd2d\",\"40eedd2d\",\"40eedd2d\",\"40eedd2d\",\"40eedd2d\",\"40eedd2d\",\"40eedd2d\",\"40eedd2d\",\"40eedd2d\",\"40eedd2d\",\"40eedd2d\",\"40eedd2d\",\"40eedd2d\",\"40eedd2d\",\"40eedd2d\",\"40eedd2d\",\"40eedd2d\",\"40eedd2d\",\"40eedd2d\",\"40eedd2d\",\"40eedd2d\",\"40eedd2d\",\"40eedd2d\",\"40eedd2d\",\"40eedd2d\",\"40eedd2d\",\"40eedd2d\",\"40eedd2d\",\"40eedd2d\",\"40eedd2d\",\"40eedd2d\",\"40eedd2d\",\"40eedd2d\",\"40eedd2d\",\"40eedd2d\",\"40eedd2d\",\"40eedd2d\",\"40eedd2d\",\"40eedd2d\",\"40eedd2d\",\"40eedd2d\",\"40eedd2d\",\"40eedd2d\",\"40eedd2d\",\"40eedd2d\",\"40eedd2d\",\"40eedd2d\",\"40eedd2d\",\"40eedd2d\",\"40eedd2d\",\"40eedd2d\",\"40eedd2d\",\"40eedd2d\",\"40eedd2d\",\"40eedd2d\",\"40eedd2d\",\"40eedd2d\",\"40eedd2d\",\"40eedd2d\",\"40eedd2d\",\"40eedd2d\",\"40eedd2d\",\"40eedd2d\",\"40eedd2d\",\"40eedd2d\",\"40eedd2d\",\"40eedd2d\",\"40eedd2d\",\"40eedd2d\",\"40eedd2d\",\"40eedd2d\",\"40eedd2d\",\"40eedd2d\",\"40eedd2d\",\"40eedd2d\",\"40eedd2d\",\"40eedd2d\",\"40eedd2d\",\"40eedd2d\",\"40eedd2d\",\"40eedd2d\",\"40eedd2d\",\"40eedd2d\",\"40eedd2d\",\"40eedd2d\"],\"n_untrans_singletons_synonymous_algorithm\":[469,252,187,573,681,721,981,1179,925,1904,1397,688,827,935,1051,1047,972,1368,1312,1013,1130,1193,967,830,1050,854,767,647,719,1042,948,800,811,341,453,391,204,150,120,19,56,20,611,328,37,114,47,43,170,56,69,41,48,79,76,32,56,168,52,28,6,9,21,13,4,5,13,10,6,7,22,0,1,0,0,0,0,2,1,1,0,0,0,0,0,0,0,0,0,0,1,1,0,0,0,0,0,0,0,7,0],\"n_untrans_singletons_synonymous_algorithm_cumul\":[469,721,908,1481,2162,2883,3864,5043,5968,7872,9269,9957,10784,11719,12770,13817,14789,16157,17469,18482,19612,20805,21772,22602,23652,24506,25273,25920,26639,27681,28629,29429,30240,30581,31034,31425,31629,31779,31899,31918,31974,31994,32605,32933,32970,33084,33131,33174,33344,33400,33469,33510,33558,33637,33713,33745,33801,33969,34021,34049,34055,34064,34085,34098,34102,34107,34120,34130,34136,34143,34165,34165,34166,34166,34166,34166,34166,34168,34169,34170,34170,34170,34170,34170,34170,34170,34170,34170,34170,34170,34171,34172,34172,34172,34172,34172,34172,34172,34172,34179,34179],\"non_cumul\":[469,252,187,573,681,721,981,1179,925,1904,1397,688,827,935,1051,1047,972,1368,1312,1013,1130,1193,967,830,1050,854,767,647,719,1042,948,800,811,341,453,391,204,150,120,19,56,20,611,328,37,114,47,43,170,56,69,41,48,79,76,32,56,168,52,28,6,9,21,13,4,5,13,10,6,7,22,0,1,0,0,0,0,2,1,1,0,0,0,0,0,0,0,0,0,0,1,1,0,0,0,0,0,0,0,7,0]},\"selected\":{\"id\":\"16964\",\"type\":\"Selection\"},\"selection_policy\":{\"id\":\"16965\",\"type\":\"UnionRenderers\"}},\"id\":\"16909\",\"type\":\"ColumnDataSource\"},{\"attributes\":{\"active_drag\":\"auto\",\"active_inspect\":\"auto\",\"active_multi\":null,\"active_scroll\":\"auto\",\"active_tap\":\"auto\",\"tools\":[{\"id\":\"16931\",\"type\":\"SaveTool\"},{\"id\":\"16932\",\"type\":\"PanTool\"},{\"id\":\"16933\",\"type\":\"BoxZoomTool\"},{\"id\":\"16934\",\"type\":\"ResetTool\"},{\"id\":\"16935\",\"type\":\"WheelZoomTool\"},{\"id\":\"16936\",\"type\":\"BoxSelectTool\"},{\"id\":\"16937\",\"type\":\"LassoSelectTool\"},{\"id\":\"16938\",\"type\":\"HelpTool\"},{\"id\":\"16939\",\"type\":\"HoverTool\"}]},\"id\":\"16940\",\"type\":\"Toolbar\"},{\"attributes\":{\"fill_color\":{\"field\":\"_color\"},\"line_color\":{\"field\":\"_color\"},\"size\":{\"field\":\"_size\",\"units\":\"screen\"},\"x\":{\"field\":\"bin\"},\"y\":{\"field\":\"cumul\"}},\"id\":\"17012\",\"type\":\"Circle\"},{\"attributes\":{},\"id\":\"16919\",\"type\":\"LinearScale\"},{\"attributes\":{\"data_source\":{\"id\":\"16909\",\"type\":\"ColumnDataSource\"},\"glyph\":{\"id\":\"17012\",\"type\":\"Circle\"},\"hover_glyph\":null,\"muted_glyph\":null,\"nonselection_glyph\":{\"id\":\"17013\",\"type\":\"Circle\"},\"selection_glyph\":null,\"view\":{\"id\":\"17010\",\"type\":\"CDSView\"}},\"id\":\"17014\",\"type\":\"GlyphRenderer\"},{\"attributes\":{\"callback\":null,\"overlay\":{\"id\":\"16963\",\"type\":\"PolyAnnotation\"}},\"id\":\"16937\",\"type\":\"LassoSelectTool\"},{\"attributes\":{\"data_source\":{\"id\":\"16909\",\"type\":\"ColumnDataSource\"},\"glyph\":{\"id\":\"16953\",\"type\":\"Circle\"},\"hover_glyph\":null,\"muted_glyph\":null,\"nonselection_glyph\":{\"id\":\"16954\",\"type\":\"Circle\"},\"selection_glyph\":null,\"view\":{\"id\":\"16951\",\"type\":\"CDSView\"}},\"id\":\"16955\",\"type\":\"GlyphRenderer\"}],\"root_ids\":[\"17031\"]},\"title\":\"Bokeh Application\",\"version\":\"1.4.0\"}};\n",
       "  var render_items = [{\"docid\":\"ff016cb6-1dff-42c8-b07c-978da6402b64\",\"roots\":{\"17031\":\"a7f174eb-6625-46c1-a079-555cc94ed11d\"}}];\n",
       "  root.Bokeh.embed.embed_items_notebook(docs_json, render_items);\n",
       "\n",
       "  }\n",
       "  if (root.Bokeh !== undefined) {\n",
       "    embed_document(root);\n",
       "  } else {\n",
       "    var attempts = 0;\n",
       "    var timer = setInterval(function(root) {\n",
       "      if (root.Bokeh !== undefined) {\n",
       "        clearInterval(timer);\n",
       "        embed_document(root);\n",
       "      } else {\n",
       "        attempts++;\n",
       "        if (attempts > 100) {\n",
       "          clearInterval(timer);\n",
       "          console.log(\"Bokeh: ERROR: Unable to run BokehJS code because BokehJS library is missing\");\n",
       "        }\n",
       "      }\n",
       "    }, 10, root)\n",
       "  }\n",
       "})(window);"
      ],
      "application/vnd.bokehjs_exec.v0+json": ""
     },
     "metadata": {
      "application/vnd.bokehjs_exec.v0+json": {
       "id": "17031"
      }
     },
     "output_type": "display_data"
    },
    {
     "name": "stdout",
     "output_type": "stream",
     "text": [
      "\n"
     ]
    }
   ],
   "source": [
    "tabs = plot_metric(snvs, 'n_untrans_singletons_synonymous_algorithm', ['n_untrans_singletons_synonymous_algorithm'], y_fun=lambda x: x[0], plot_bi_allelics=False, plot_singletons=False, plot_bi_allelic_singletons=False, colors=colors)\n",
    "show(tabs)"
   ]
  },
  {
   "cell_type": "code",
   "execution_count": 33,
   "id": "6fbd2220",
   "metadata": {},
   "outputs": [
    {
     "name": "stderr",
     "output_type": "stream",
     "text": [
      "/tmp/ipykernel_2660359/3696662652.py:2: RuntimeWarning: invalid value encountered in long_scalars\n",
      "  tabs = plot_metric(snvs, 'trans_untrans_ratio', ['n_trans_singletons_synonymous_algorithm', 'n_untrans_singletons_synonymous_algorithm'], y_fun=lambda x: x[0]/x[1], plot_bi_allelics=False, plot_singletons=False, plot_bi_allelic_singletons=False, colors=colors)\n",
      "/tmp/ipykernel_2660359/3696662652.py:2: RuntimeWarning: divide by zero encountered in long_scalars\n",
      "  tabs = plot_metric(snvs, 'trans_untrans_ratio', ['n_trans_singletons_synonymous_algorithm', 'n_untrans_singletons_synonymous_algorithm'], y_fun=lambda x: x[0]/x[1], plot_bi_allelics=False, plot_singletons=False, plot_bi_allelic_singletons=False, colors=colors)\n",
      "/home/ubuntu/venv/lib/python3.8/site-packages/bokeh/models/plots.py:767: UserWarning: \n",
      "You are attempting to set `plot.legend.label_text_font_size` on a plot that has zero legends added, this will have no effect.\n",
      "\n",
      "Before legend properties can be set, you must add a Legend explicitly, or call a glyph method with a legend parameter set.\n",
      "\n",
      "  warnings.warn(_LEGEND_EMPTY_WARNING % attr)\n"
     ]
    },
    {
     "data": {
      "text/html": [
       "\n",
       "\n",
       "\n",
       "\n",
       "\n",
       "\n",
       "  <div class=\"bk-root\" id=\"ec260b09-3b89-4e26-af97-3cb98a230826\" data-root-id=\"8346\"></div>\n"
      ]
     },
     "metadata": {},
     "output_type": "display_data"
    },
    {
     "data": {
      "application/javascript": [
       "(function(root) {\n",
       "  function embed_document(root) {\n",
       "    \n",
       "  var docs_json = {\"1cd748e4-2db2-4609-94b1-f62b11c7a286\":{\"roots\":{\"references\":[{\"attributes\":{\"callback\":null,\"tabs\":[{\"id\":\"8345\",\"type\":\"Panel\"}]},\"id\":\"8346\",\"type\":\"Tabs\"},{\"attributes\":{},\"id\":\"8274\",\"type\":\"BasicTickFormatter\"},{\"attributes\":{\"fill_alpha\":{\"value\":0.1},\"fill_color\":{\"value\":\"#1f77b4\"},\"line_alpha\":{\"value\":0.1},\"line_color\":{\"value\":\"#1f77b4\"},\"size\":{\"field\":\"_size\",\"units\":\"screen\"},\"x\":{\"field\":\"bin\"},\"y\":{\"field\":\"non_cumul\"}},\"id\":\"8269\",\"type\":\"Circle\"},{\"attributes\":{\"children\":[{\"id\":\"8343\",\"type\":\"Row\"}]},\"id\":\"8344\",\"type\":\"Column\"},{\"attributes\":{\"callback\":null},\"id\":\"8223\",\"type\":\"DataRange1d\"},{\"attributes\":{\"dimension\":1,\"ticker\":{\"id\":\"8301\",\"type\":\"BasicTicker\"}},\"id\":\"8304\",\"type\":\"Grid\"},{\"attributes\":{},\"id\":\"8247\",\"type\":\"PanTool\"},{\"attributes\":{\"callback\":null,\"data\":{\"_color\":[\"blue\",\"blue\",\"blue\",\"blue\",\"blue\",\"blue\",\"blue\",\"blue\",\"blue\",\"blue\",\"blue\",\"blue\",\"blue\",\"blue\",\"blue\",\"blue\",\"blue\",\"blue\",\"blue\",\"blue\",\"blue\",\"blue\",\"blue\",\"blue\",\"blue\",\"blue\",\"blue\",\"blue\",\"blue\",\"blue\",\"blue\",\"blue\",\"blue\",\"blue\",\"blue\",\"blue\",\"blue\",\"blue\",\"blue\",\"blue\",\"blue\",\"blue\",\"blue\",\"blue\",\"blue\",\"blue\",\"blue\",\"blue\",\"blue\",\"blue\",\"blue\",\"blue\",\"blue\",\"blue\",\"blue\",\"blue\",\"blue\",\"blue\",\"blue\",\"blue\",\"blue\",\"blue\",\"blue\",\"blue\",\"blue\",\"blue\",\"blue\",\"blue\",\"blue\",\"blue\",\"blue\",\"blue\",\"blue\",\"blue\",\"blue\",\"blue\",\"blue\",\"blue\",\"blue\",\"blue\",\"blue\",\"blue\",\"blue\",\"blue\",\"blue\",\"blue\",\"blue\",\"blue\",\"blue\",\"blue\",\"blue\",\"blue\",\"blue\",\"blue\",\"blue\",\"blue\",\"blue\",\"blue\",\"blue\",\"blue\",\"blue\"],\"_n\":[792,418,312,928,1051,1191,1541,1725,1288,2424,1703,1149,1427,1735,1755,1759,1489,2601,2335,1595,1774,1784,1649,1446,1491,1236,1010,847,972,1306,1198,975,980,457,671,464,235,186,153,23,66,22,773,413,37,116,47,43,171,58,70,41,48,79,76,36,58,196,60,31,6,10,25,13,4,5,13,10,7,8,24,0,1,0,0,0,0,2,1,1,0,0,0,0,0,0,0,0,0,0,1,2,1,0,0,0,0,0,0,13,0],\"_size\":{\"__ndarray__\":\"AT8YQ84aFEB44LakIjYNQAJEXj++PAlAruINljTDFUAuPAbY7igXQNYvDFZ6pxhAkjBZGzULHEBthPXWu6sdQOMGC9B2oxlApBx87w+WIUDznTlKJHsdQIZlH44xNxhAHnju4I38GkC/vgvzt8EdQOZyNLh/7R1AH5fRmDn2HUCH8aELCpEbQMoHkEyJNyJAzNkI3qNCIUBJ0Glz6YccQD/LVxncFh5ARg95KIosHkDMb9rNhQIdQOfuCAVlKhtAFB3r78aVG0AgSkhbmx0ZQPakriojtBZAXaqm0oPKFEDXtHR8wEUWQKALi+4q0RlAdIOxj/+5GEAEs3JLi04WQJ8JBfYqXRZAW9fonDeLDkA0MBlQXIESQFdqQM/fxg5AilXJRRznBUCpye2EZ3wDQPT2UHdLrAFAAAAAAAAA8D+FVYjyBDf3PwAAAAAAAPA/528w/bHcE0C1S7ZrRgkNQA5saR3BYfE/V2pAz9/G/j82wB3sJpfzP3YqThv/vPI/PRN/CwivAkCu4g2WNMP1P1kaWjt26Pc/95iENRxM8j+i2S5SOczzP4pTLboGZvk/pxlUD2Dp+D8JvLTtNSXxP67iDZY0w/U/tjCo6r4ABECMhABUciL2PwAAAAAAAPA/AAAAAAAA8D8AAAAAAADwPwAAAAAAAPA/AAAAAAAA8D8AAAAAAADwPwAAAAAAAPA/AAAAAAAA8D8AAAAAAADwPwAAAAAAAPA/AAAAAAAA8D8AAAAAAADwPwAAAAAAAPA/AAAAAAAA8D8AAAAAAADwPwAAAAAAAPA/AAAAAAAA8D8AAAAAAADwPwAAAAAAAPA/AAAAAAAA8D8AAAAAAADwPwAAAAAAAPA/AAAAAAAA8D8AAAAAAADwPwAAAAAAAPA/AAAAAAAA8D8AAAAAAADwPwAAAAAAAPA/AAAAAAAA8D8AAAAAAADwPwAAAAAAAPA/AAAAAAAA8D8AAAAAAADwPwAAAAAAAPA/AAAAAAAA8D8AAAAAAADwPwAAAAAAAPA/AAAAAAAA8D8AAAAAAADwPwAAAAAAAPA/AAAAAAAA8D8AAAAAAADwPw==\",\"dtype\":\"float64\",\"shape\":[101]},\"bin\":[1,2,3,4,5,6,7,8,9,10,11,12,13,14,15,16,17,18,19,20,21,22,23,24,25,26,27,28,29,30,31,32,33,34,35,36,37,38,39,40,41,42,43,44,45,46,47,48,49,50,51,52,53,54,55,56,57,58,59,60,61,62,63,64,65,66,67,68,69,70,71,72,73,74,75,76,77,78,79,80,81,82,83,84,85,86,87,88,89,90,91,92,93,94,95,96,97,98,99,100,101],\"cumul\":{\"__ndarray__\":\"qR+uPdMJ5j+fccBCBLTlP0Rs4DOGo+U/xR7eo+zv5D95CZhuldHjP7EnK94+FOQ/6Hme53me4z/E3xiSNn/iP610PnGPk+E/4XwMzsfg3j/by98VSFbcPxr2bIqYV90/Kvk4JR+n3j/XlsGOv0ngP66HSN8vtuA/AS+PUCQY4T+gu5W+5hbhPyOjaMSkFeI/qNtv26qZ4j/xwzebpZbiP/aOAhl3keI/miYzZ5lp4j8DgYNc25jiP5ITIBhLyeI/ySgio4iM4j+6G4VBwGbiPxtGL22NJuI/HMdxHMfx4T+T5WF7l8PhP1ycVfeIZuE/WXGMDpEa4T/cJQDTQNTgP+goOT1+juA/3VVTCU5+4D9TBxSqN3rgPwgcT1HDWOA/FDlEH81F4D8eH4MZazvgP+FYh81CNOA/sRT6dtEy4D9kBosSHi7gP1OVUU4KLOA/AKpcHikH4D+Ys8Bi4ObfP53bmhy23d8/u3a8mZfC3z+2fNzbDrffP75+RL6IrN8/LC+gaq+D3z9rf36/I3ffP+wlSsoFZ98/zdfczi9d3z99Z6O+s1HfP7D38yjfPt8/9R4D9dYs3z9rUpCwNiffP/J3y1f4Gt8/gh4wvxcB3z/9wH1Y0PjeP66sSbm8894/vpveVVfy3j/fXnueuvDeP1hoX43F7d4/jAEBxcDq3j+xvtkb0+neP60aehyq6N4/fUcxU6bl3j+DCRYLVePeP/LJjhxs4t4/bnCz/Efh3j+Sx15bJt3eP5LHXlsm3d4/98KqJ+vc3j/3wqon69zeP/fCqifr3N4/98KqJ+vc3j/3wqon69zeP08K7MJ03N4/DkzhkTnc3j8Km7lh/tvePwqbuWH+294/Cpu5Yf7b3j8Km7lh/tvePwqbuWH+294/Cpu5Yf7b3j8Km7lh/tvePwqbuWH+294/Cpu5Yf7b3j8Km7lh/tvePwqbuWH+294/KvJ0MsPb3j+AsMLBAtzeP60Ucn993N4/rRRyf33c3j+tFHJ/fdzeP60Ucn993N4/rRRyf33c3j+tFHJ/fdzeP60Ucn993N4/yhM6kr/d3j/KEzqSv93ePw==\",\"dtype\":\"float64\",\"shape\":[101]},\"index\":[0,1,2,3,4,5,6,7,8,9,10,11,12,13,14,15,16,17,18,19,20,21,22,23,24,25,26,27,28,29,30,31,32,33,34,35,36,37,38,39,40,41,42,43,44,45,46,47,48,49,50,51,52,53,54,55,56,57,58,59,60,61,62,63,64,65,66,67,68,69,70,71,72,73,74,75,76,77,78,79,80,81,82,83,84,85,86,87,88,89,90,91,92,93,94,95,96,97,98,99,100],\"max_score\":{\"__ndarray__\":\"wMbqWrQymT/AxupatDKZPyCjTsXCOpk/AK42l6F2mT8AbhATn3+cP0Dq6yHLq5w/IFVcT4zDnD/AMad1pt+cPyBE8sFREJ4/wBQTtidAnj8AzJ2sH2SiP4C/w0oWhqI/oGN1AFCdoj+Q7Oh5q56iP+DypfTptKI/4FT5c5a2oj8Q6b0HywejP+C81TA0FKM/YFHOAbYfoz+AlxceInqjPyCJr3BE26M/sFy/kkCFpT/AyPZ5qD+mPyBNbNDbc68/OJEx8qWUsD+QtlicT0axP1B1C45zuLI/aG0A5Z8ftD+oNheGd7C1P+hUR1s5I7Y/SNLbMA60tz8Ip6Zlr+e3P0BCyIzVXrk/QMGqpcfquj/wU0loZo3AP8hokAXWzsE/bF+4FTJswz/4JCj7z37EPxCXunEC6cg/wFdVhKm7yT8k+WQ+waHMP+z8MfpfoM8/b0IMsBkg4D96n0z2Y4ftP61ou3ddjO0/o50pZtrH7T/cgnkQL8/tP9yCeRAvz+0/6VM5WdDg7T95cLfK5BHuPzk7nlhbKO4/o31xyKcr7j+jfXHIpyvuPyeEEngmLe4/os/r9Oo47j8Y20A8q1zuPya2dDEAhe4/qd54z23M7j/O28Cw/OfuP7HBuisAB+8/GOxpTikH7z8RU2E57QrvP4LPwN4nE+8/n0Wxiaka7z+fRbGJqRrvP1N6qKaSHO8/Jhhrd2Ef7z+cManCNiPvP6iXuqxkK+8/a+aH1Bgw7z+FGW2Yw2LvP0FKT4+3ZO8/lZcnkuxp7z/oQoGloWrvP+hCgaWhau8/6EKBpaFq7z9xoI/dKHPvP8I7UDP2dO8/ThXHuYF37z8WiSg2K3rvPzsEM/ZTf+8/VSPN+6qB7z9VI837qoHvP6jOJg9ggu8/qM4mD2CC7z+oziYPYILvP6jOJg9ggu8/cyHJLuuC7z/j/GQMPoXvPxXFvfb+hu8/IwA6HAiI7z/Q9Z/t8ojvPyVDePAnju8/JUN48CeO7z947tED3Y7vP3ju0QPdju8/eO7RA92O7z947tED3Y7vP3ju0QPdju8/8RY4kGSk7z8r78IHIqXvPw==\",\"dtype\":\"float64\",\"shape\":[101]},\"min_score\":{\"__ndarray__\":\"oMtKuUitmD/AxupatDKZP8DG6lq0Mpk/IKNOxcI6mT8ArjaXoXaZPwBuEBOff5w/QOrrIcurnD8gVVxPjMOcP8Axp3Wm35w/IETywVEQnj/AFBO2J0CePwDMnawfZKI/gL/DShaGoj+gY3UAUJ2iP5Ds6HmrnqI/4PKl9Om0oj/gVPlzlraiPxDpvQfLB6M/4LzVMDQUoz9gUc4Bth+jP4CXFx4ieqM/IImvcETboz+wXL+SQIWlP8DI9nmoP6Y/IE1s0Ntzrz84kTHypZSwP5C2WJxPRrE/UHULjnO4sj9obQDlnx+0P6g2F4Z3sLU/6FRHWzkjtj9I0tswDrS3PwinpmWv57c/QELIjNVeuT9Awaqlx+q6P/BTSWhmjcA/yGiQBdbOwT9sX7gVMmzDP/gkKPvPfsQ/EJe6cQLpyD/AV1WEqbvJPyT5ZD7Bocw/7Pwx+l+gzz9vQgywGSDgP3qfTPZjh+0/rWi7d12M7T+jnSlm2sftP9yCeRAvz+0/3IJ5EC/P7T/pUzlZ0ODtP3lwt8rkEe4/OTueWFso7j+jfXHIpyvuP6N9ccinK+4/J4QSeCYt7j+iz+v06jjuPxjbQDyrXO4/JrZ0MQCF7j+p3njPbczuP87bwLD85+4/scG6KwAH7z8Y7GlOKQfvPxFTYTntCu8/gs/A3icT7z+fRbGJqRrvP59FsYmpGu8/U3qoppIc7z8mGGt3YR/vP5wxqcI2I+8/qJe6rGQr7z9r5ofUGDDvP4UZbZjDYu8/QUpPj7dk7z+VlyeS7GnvP+hCgaWhau8/6EKBpaFq7z/oQoGloWrvP3Ggj90oc+8/wjtQM/Z07z9OFce5gXfvPxaJKDYreu8/OwQz9lN/7z9VI837qoHvP1Ujzfuqge8/qM4mD2CC7z+oziYPYILvP6jOJg9ggu8/qM4mD2CC7z9zIcku64LvP+P8ZAw+he8/FcW99v6G7z8jADocCIjvP9D1n+3yiO8/JUN48CeO7z8lQ3jwJ47vP3ju0QPdju8/eO7RA92O7z947tED3Y7vP3ju0QPdju8/eO7RA92O7z/xFjiQZKTvPw==\",\"dtype\":\"float64\",\"shape\":[101]},\"model\":[\"40eedd2d\",\"40eedd2d\",\"40eedd2d\",\"40eedd2d\",\"40eedd2d\",\"40eedd2d\",\"40eedd2d\",\"40eedd2d\",\"40eedd2d\",\"40eedd2d\",\"40eedd2d\",\"40eedd2d\",\"40eedd2d\",\"40eedd2d\",\"40eedd2d\",\"40eedd2d\",\"40eedd2d\",\"40eedd2d\",\"40eedd2d\",\"40eedd2d\",\"40eedd2d\",\"40eedd2d\",\"40eedd2d\",\"40eedd2d\",\"40eedd2d\",\"40eedd2d\",\"40eedd2d\",\"40eedd2d\",\"40eedd2d\",\"40eedd2d\",\"40eedd2d\",\"40eedd2d\",\"40eedd2d\",\"40eedd2d\",\"40eedd2d\",\"40eedd2d\",\"40eedd2d\",\"40eedd2d\",\"40eedd2d\",\"40eedd2d\",\"40eedd2d\",\"40eedd2d\",\"40eedd2d\",\"40eedd2d\",\"40eedd2d\",\"40eedd2d\",\"40eedd2d\",\"40eedd2d\",\"40eedd2d\",\"40eedd2d\",\"40eedd2d\",\"40eedd2d\",\"40eedd2d\",\"40eedd2d\",\"40eedd2d\",\"40eedd2d\",\"40eedd2d\",\"40eedd2d\",\"40eedd2d\",\"40eedd2d\",\"40eedd2d\",\"40eedd2d\",\"40eedd2d\",\"40eedd2d\",\"40eedd2d\",\"40eedd2d\",\"40eedd2d\",\"40eedd2d\",\"40eedd2d\",\"40eedd2d\",\"40eedd2d\",\"40eedd2d\",\"40eedd2d\",\"40eedd2d\",\"40eedd2d\",\"40eedd2d\",\"40eedd2d\",\"40eedd2d\",\"40eedd2d\",\"40eedd2d\",\"40eedd2d\",\"40eedd2d\",\"40eedd2d\",\"40eedd2d\",\"40eedd2d\",\"40eedd2d\",\"40eedd2d\",\"40eedd2d\",\"40eedd2d\",\"40eedd2d\",\"40eedd2d\",\"40eedd2d\",\"40eedd2d\",\"40eedd2d\",\"40eedd2d\",\"40eedd2d\",\"40eedd2d\",\"40eedd2d\",\"40eedd2d\",\"40eedd2d\",\"40eedd2d\"],\"n_trans_singletons_synonymous_algorithm\":[323,166,125,355,370,470,560,546,363,520,306,461,600,800,704,712,517,1233,1023,582,644,591,682,616,441,382,243,200,253,264,250,175,169,116,218,73,31,36,33,4,10,2,162,85,0,2,0,0,1,2,1,0,0,0,0,4,2,28,8,3,0,1,4,0,0,0,0,0,1,1,2,0,0,0,0,0,0,0,0,0,0,0,0,0,0,0,0,0,0,0,0,1,1,0,0,0,0,0,0,6,0],\"n_trans_singletons_synonymous_algorithm_cumul\":[323,489,614,969,1339,1809,2369,2915,3278,3798,4104,4565,5165,5965,6669,7381,7898,9131,10154,10736,11380,11971,12653,13269,13710,14092,14335,14535,14788,15052,15302,15477,15646,15762,15980,16053,16084,16120,16153,16157,16167,16169,16331,16416,16416,16418,16418,16418,16419,16421,16422,16422,16422,16422,16422,16426,16428,16456,16464,16467,16467,16468,16472,16472,16472,16472,16472,16472,16473,16474,16476,16476,16476,16476,16476,16476,16476,16476,16476,16476,16476,16476,16476,16476,16476,16476,16476,16476,16476,16476,16476,16477,16478,16478,16478,16478,16478,16478,16478,16484,16484],\"n_untrans_singletons_synonymous_algorithm\":[469,252,187,573,681,721,981,1179,925,1904,1397,688,827,935,1051,1047,972,1368,1312,1013,1130,1193,967,830,1050,854,767,647,719,1042,948,800,811,341,453,391,204,150,120,19,56,20,611,328,37,114,47,43,170,56,69,41,48,79,76,32,56,168,52,28,6,9,21,13,4,5,13,10,6,7,22,0,1,0,0,0,0,2,1,1,0,0,0,0,0,0,0,0,0,0,1,1,0,0,0,0,0,0,0,7,0],\"n_untrans_singletons_synonymous_algorithm_cumul\":[469,721,908,1481,2162,2883,3864,5043,5968,7872,9269,9957,10784,11719,12770,13817,14789,16157,17469,18482,19612,20805,21772,22602,23652,24506,25273,25920,26639,27681,28629,29429,30240,30581,31034,31425,31629,31779,31899,31918,31974,31994,32605,32933,32970,33084,33131,33174,33344,33400,33469,33510,33558,33637,33713,33745,33801,33969,34021,34049,34055,34064,34085,34098,34102,34107,34120,34130,34136,34143,34165,34165,34166,34166,34166,34166,34166,34168,34169,34170,34170,34170,34170,34170,34170,34170,34170,34170,34170,34170,34171,34172,34172,34172,34172,34172,34172,34172,34172,34179,34179],\"non_cumul\":{\"__ndarray__\":\"qR+uPdMJ5j9FURRFURTlP2Q1e5LvY+U/y60Xp1LT4z8mo57K3WLhPysImYEj3OQ/RiQh/V5E4j/7DmFTgKPdP0D4y+ucHdk/MZ96MZ960T8aJO9rhwnMP9wRd8QdceU/NHs28Gg35z9hGwSnMmHrP0pwyZ9Qb+U/R9L8et/C5T/GrDR6RAXhP3kN5TWU1+w/9DE4H4Pz6D+2tlkJj2LiP3HLIw23POI/oZAuT3e03z9AcOjempHmP7pNPoXYv+c/4XoUrkfh2j+7WESqrKDcPxVAwEDCRtQ/ZpKCGpvI0z8NZGmoKYXWP9EmaVoIN9A/bIy206zg0D8AAAAAAADMPzKpuKVZrMo/xRVXXHHF1T9MMnvukszeP2BrxIzP5cc/c3Nzc3Nzwz+4HoXrUbjOP5qZmZmZmdE/KK+hvIbyyj+3bdu2bdvGP5qZmZmZmbk/Cdk+Dgr40D+WqF2J2pXQPwAAAAAAAAAAcB/BfQT3kT8AAAAAAAAAAAAAAAAAAAAAGBgYGBgYeD+SJEmSJEmiP9uBuXZgro0/AAAAAAAAAAAAAAAAAAAAAAAAAAAAAAAAAAAAAAAAAAAAAAAAAADAP5IkSZIkSaI/VVVVVVVVxT8UO7ETO7HDP9u2bdu2bbs/AAAAAAAAAAAcx3Ecx3G8PxiGYRiGYcg/AAAAAAAAAAAAAAAAAAAAAAAAAAAAAAAAAAAAAAAAAAAAAAAAAAAAAFVVVVVVVcU/kiRJkiRJwj9GF1100UW3PwAAAAAAAPj/AAAAAAAAAAAAAAAAAAD4/wAAAAAAAPj/AAAAAAAA+P8AAAAAAAD4/wAAAAAAAAAAAAAAAAAAAAAAAAAAAAAAAAAAAAAAAPj/AAAAAAAA+P8AAAAAAAD4/wAAAAAAAPj/AAAAAAAA+P8AAAAAAAD4/wAAAAAAAPj/AAAAAAAA+P8AAAAAAAD4/wAAAAAAAPj/AAAAAAAAAAAAAAAAAADwPwAAAAAAAPB/AAAAAAAA+P8AAAAAAAD4/wAAAAAAAPj/AAAAAAAA+P8AAAAAAAD4/wAAAAAAAPj/27Zt27Zt6z8AAAAAAAD4/w==\",\"dtype\":\"float64\",\"shape\":[101]}},\"selected\":{\"id\":\"8279\",\"type\":\"Selection\"},\"selection_policy\":{\"id\":\"8280\",\"type\":\"UnionRenderers\"}},\"id\":\"8224\",\"type\":\"ColumnDataSource\"},{\"attributes\":{},\"id\":\"8306\",\"type\":\"PanTool\"},{\"attributes\":{},\"id\":\"8333\",\"type\":\"BasicTickFormatter\"},{\"attributes\":{\"active_drag\":\"auto\",\"active_inspect\":\"auto\",\"active_multi\":null,\"active_scroll\":\"auto\",\"active_tap\":\"auto\",\"tools\":[{\"id\":\"8305\",\"type\":\"SaveTool\"},{\"id\":\"8306\",\"type\":\"PanTool\"},{\"id\":\"8307\",\"type\":\"BoxZoomTool\"},{\"id\":\"8308\",\"type\":\"ResetTool\"},{\"id\":\"8309\",\"type\":\"WheelZoomTool\"},{\"id\":\"8310\",\"type\":\"BoxSelectTool\"},{\"id\":\"8311\",\"type\":\"LassoSelectTool\"},{\"id\":\"8312\",\"type\":\"HelpTool\"},{\"id\":\"8313\",\"type\":\"HoverTool\"}]},\"id\":\"8314\",\"type\":\"Toolbar\"},{\"attributes\":{\"filters\":[{\"id\":\"8324\",\"type\":\"BooleanFilter\"}],\"source\":{\"id\":\"8224\",\"type\":\"ColumnDataSource\"}},\"id\":\"8325\",\"type\":\"CDSView\"},{\"attributes\":{},\"id\":\"8305\",\"type\":\"SaveTool\"},{\"attributes\":{\"overlay\":{\"id\":\"8335\",\"type\":\"BoxAnnotation\"}},\"id\":\"8307\",\"type\":\"BoxZoomTool\"},{\"attributes\":{\"callback\":null,\"overlay\":{\"id\":\"8336\",\"type\":\"BoxAnnotation\"}},\"id\":\"8310\",\"type\":\"BoxSelectTool\"},{\"attributes\":{\"booleans\":[true,true,true,true,true,true,true,true,true,true,true,true,true,true,true,true,true,true,true,true,true,true,true,true,true,true,true,true,true,true,true,true,true,true,true,true,true,true,true,true,true,true,true,true,true,true,true,true,true,true,true,true,true,true,true,true,true,true,true,true,true,true,true,true,true,true,true,true,true,true,true,true,true,true,true,true,true,true,true,true,true,true,true,true,true,true,true,true,true,true,true,true,true,true,true,true,true,true,true,true,true]},\"id\":\"8324\",\"type\":\"BooleanFilter\"},{\"attributes\":{\"callback\":null,\"tooltips\":[[\"model\",\"@model\"],[\"bin\",\"@bin\"],[\"trans_untrans_ratio\",\"@cumul\"],[\"min_score\",\"@min_score\"],[\"max_score\",\"@max_score\"],[\"n_data_points\",\"@_n\"],[\"n_trans_singletons_synonymous_algorithm\",\"@n_trans_singletons_synonymous_algorithm\"],[\"n_untrans_singletons_synonymous_algorithm\",\"@n_untrans_singletons_synonymous_algorithm\"]]},\"id\":\"8313\",\"type\":\"HoverTool\"},{\"attributes\":{\"axis_label\":\"bin\",\"axis_label_text_font_size\":{\"value\":\"16pt\"},\"axis_label_text_font_style\":\"normal\",\"formatter\":{\"id\":\"8272\",\"type\":\"BasicTickFormatter\"},\"major_label_text_font_size\":{\"value\":\"14pt\"},\"ticker\":{\"id\":\"8237\",\"type\":\"BasicTicker\"}},\"id\":\"8236\",\"type\":\"LinearAxis\"},{\"attributes\":{},\"id\":\"8308\",\"type\":\"ResetTool\"},{\"attributes\":{\"label\":{\"value\":\"40eedd2d\"},\"renderers\":[{\"id\":\"8329\",\"type\":\"GlyphRenderer\"}]},\"id\":\"8341\",\"type\":\"LegendItem\"},{\"attributes\":{\"bottom_units\":\"screen\",\"fill_alpha\":{\"value\":0.5},\"fill_color\":{\"value\":\"lightgrey\"},\"left_units\":\"screen\",\"level\":\"overlay\",\"line_alpha\":{\"value\":1.0},\"line_color\":{\"value\":\"black\"},\"line_dash\":[4,4],\"line_width\":{\"value\":2},\"render_mode\":\"css\",\"right_units\":\"screen\",\"top_units\":\"screen\"},\"id\":\"8277\",\"type\":\"BoxAnnotation\"},{\"attributes\":{},\"id\":\"8309\",\"type\":\"WheelZoomTool\"},{\"attributes\":{},\"id\":\"8312\",\"type\":\"HelpTool\"},{\"attributes\":{},\"id\":\"8279\",\"type\":\"Selection\"},{\"attributes\":{\"callback\":null,\"overlay\":{\"id\":\"8337\",\"type\":\"PolyAnnotation\"}},\"id\":\"8311\",\"type\":\"LassoSelectTool\"},{\"attributes\":{},\"id\":\"8280\",\"type\":\"UnionRenderers\"},{\"attributes\":{\"callback\":null},\"id\":\"8222\",\"type\":\"DataRange1d\"},{\"attributes\":{\"text\":\"All variants\",\"text_font_size\":{\"value\":\"14pt\"}},\"id\":\"8342\",\"type\":\"Title\"},{\"attributes\":{},\"id\":\"8237\",\"type\":\"BasicTicker\"},{\"attributes\":{\"fill_alpha\":{\"value\":0.1},\"fill_color\":{\"value\":\"#1f77b4\"},\"line_alpha\":{\"value\":0.1},\"line_color\":{\"value\":\"#1f77b4\"},\"size\":{\"field\":\"_size\",\"units\":\"screen\"},\"x\":{\"field\":\"bin\"},\"y\":{\"field\":\"cumul\"}},\"id\":\"8328\",\"type\":\"Circle\"},{\"attributes\":{\"active_drag\":\"auto\",\"active_inspect\":\"auto\",\"active_multi\":null,\"active_scroll\":\"auto\",\"active_tap\":\"auto\",\"tools\":[{\"id\":\"8246\",\"type\":\"SaveTool\"},{\"id\":\"8247\",\"type\":\"PanTool\"},{\"id\":\"8248\",\"type\":\"BoxZoomTool\"},{\"id\":\"8249\",\"type\":\"ResetTool\"},{\"id\":\"8250\",\"type\":\"WheelZoomTool\"},{\"id\":\"8251\",\"type\":\"BoxSelectTool\"},{\"id\":\"8252\",\"type\":\"LassoSelectTool\"},{\"id\":\"8253\",\"type\":\"HelpTool\"},{\"id\":\"8254\",\"type\":\"HoverTool\"}]},\"id\":\"8255\",\"type\":\"Toolbar\"},{\"attributes\":{\"bottom_units\":\"screen\",\"fill_alpha\":{\"value\":0.5},\"fill_color\":{\"value\":\"lightgrey\"},\"left_units\":\"screen\",\"level\":\"overlay\",\"line_alpha\":{\"value\":1.0},\"line_color\":{\"value\":\"black\"},\"line_dash\":[4,4],\"line_width\":{\"value\":2},\"render_mode\":\"css\",\"right_units\":\"screen\",\"top_units\":\"screen\"},\"id\":\"8335\",\"type\":\"BoxAnnotation\"},{\"attributes\":{},\"id\":\"8242\",\"type\":\"BasicTicker\"},{\"attributes\":{\"axis_label\":\"trans_untrans_ratio\",\"axis_label_text_font_size\":{\"value\":\"16pt\"},\"axis_label_text_font_style\":\"normal\",\"formatter\":{\"id\":\"8274\",\"type\":\"BasicTickFormatter\"},\"major_label_text_font_size\":{\"value\":\"14pt\"},\"ticker\":{\"id\":\"8242\",\"type\":\"BasicTicker\"}},\"id\":\"8241\",\"type\":\"LinearAxis\"},{\"attributes\":{\"fill_color\":{\"field\":\"_color\"},\"line_color\":{\"field\":\"_color\"},\"size\":{\"field\":\"_size\",\"units\":\"screen\"},\"x\":{\"field\":\"bin\"},\"y\":{\"field\":\"cumul\"}},\"id\":\"8327\",\"type\":\"Circle\"},{\"attributes\":{\"overlay\":{\"id\":\"8276\",\"type\":\"BoxAnnotation\"}},\"id\":\"8248\",\"type\":\"BoxZoomTool\"},{\"attributes\":{},\"id\":\"8234\",\"type\":\"LinearScale\"},{\"attributes\":{\"click_policy\":\"hide\",\"items\":[{\"id\":\"8282\",\"type\":\"LegendItem\"}],\"location\":[0,0],\"orientation\":\"horizontal\"},\"id\":\"8281\",\"type\":\"Legend\"},{\"attributes\":{\"data_source\":{\"id\":\"8224\",\"type\":\"ColumnDataSource\"},\"glyph\":{\"id\":\"8327\",\"type\":\"Circle\"},\"hover_glyph\":null,\"muted_glyph\":null,\"nonselection_glyph\":{\"id\":\"8328\",\"type\":\"Circle\"},\"selection_glyph\":null,\"view\":{\"id\":\"8325\",\"type\":\"CDSView\"}},\"id\":\"8329\",\"type\":\"GlyphRenderer\"},{\"attributes\":{\"text\":\"All variants\",\"text_font_size\":{\"value\":\"14pt\"}},\"id\":\"8283\",\"type\":\"Title\"},{\"attributes\":{},\"id\":\"8272\",\"type\":\"BasicTickFormatter\"},{\"attributes\":{\"callback\":null,\"overlay\":{\"id\":\"8277\",\"type\":\"BoxAnnotation\"}},\"id\":\"8251\",\"type\":\"BoxSelectTool\"},{\"attributes\":{\"bottom_units\":\"screen\",\"fill_alpha\":{\"value\":0.5},\"fill_color\":{\"value\":\"lightgrey\"},\"left_units\":\"screen\",\"level\":\"overlay\",\"line_alpha\":{\"value\":1.0},\"line_color\":{\"value\":\"black\"},\"line_dash\":[4,4],\"line_width\":{\"value\":2},\"render_mode\":\"css\",\"right_units\":\"screen\",\"top_units\":\"screen\"},\"id\":\"8336\",\"type\":\"BoxAnnotation\"},{\"attributes\":{\"ticker\":{\"id\":\"8237\",\"type\":\"BasicTicker\"}},\"id\":\"8240\",\"type\":\"Grid\"},{\"attributes\":{\"booleans\":[true,true,true,true,true,true,true,true,true,true,true,true,true,true,true,true,true,true,true,true,true,true,true,true,true,true,true,true,true,true,true,true,true,true,true,true,true,true,true,true,true,true,true,true,true,true,true,true,true,true,true,true,true,true,true,true,true,true,true,true,true,true,true,true,true,true,true,true,true,true,true,true,true,true,true,true,true,true,true,true,true,true,true,true,true,true,true,true,true,true,true,true,true,true,true,true,true,true,true,true,true]},\"id\":\"8265\",\"type\":\"BooleanFilter\"},{\"attributes\":{\"fill_alpha\":{\"value\":0.5},\"fill_color\":{\"value\":\"lightgrey\"},\"level\":\"overlay\",\"line_alpha\":{\"value\":1.0},\"line_color\":{\"value\":\"black\"},\"line_dash\":[4,4],\"line_width\":{\"value\":2},\"xs_units\":\"screen\",\"ys_units\":\"screen\"},\"id\":\"8337\",\"type\":\"PolyAnnotation\"},{\"attributes\":{},\"id\":\"8232\",\"type\":\"LinearScale\"},{\"attributes\":{},\"id\":\"8250\",\"type\":\"WheelZoomTool\"},{\"attributes\":{\"fill_color\":{\"field\":\"_color\"},\"line_color\":{\"field\":\"_color\"},\"size\":{\"field\":\"_size\",\"units\":\"screen\"},\"x\":{\"field\":\"bin\"},\"y\":{\"field\":\"non_cumul\"}},\"id\":\"8268\",\"type\":\"Circle\"},{\"attributes\":{\"dimension\":1,\"ticker\":{\"id\":\"8242\",\"type\":\"BasicTicker\"}},\"id\":\"8245\",\"type\":\"Grid\"},{\"attributes\":{\"text\":\"trans_untrans_ratio\",\"text_font_size\":{\"value\":\"16pt\"}},\"id\":\"8226\",\"type\":\"Title\"},{\"attributes\":{\"above\":[{\"id\":\"8340\",\"type\":\"Legend\"},{\"id\":\"8342\",\"type\":\"Title\"}],\"below\":[{\"id\":\"8295\",\"type\":\"LinearAxis\"}],\"center\":[{\"id\":\"8299\",\"type\":\"Grid\"},{\"id\":\"8304\",\"type\":\"Grid\"}],\"left\":[{\"id\":\"8300\",\"type\":\"LinearAxis\"}],\"renderers\":[{\"id\":\"8329\",\"type\":\"GlyphRenderer\"}],\"title\":{\"id\":\"8285\",\"type\":\"Title\"},\"toolbar\":{\"id\":\"8314\",\"type\":\"Toolbar\"},\"x_range\":{\"id\":\"8222\",\"type\":\"DataRange1d\"},\"x_scale\":{\"id\":\"8291\",\"type\":\"LinearScale\"},\"y_range\":{\"id\":\"8223\",\"type\":\"DataRange1d\"},\"y_scale\":{\"id\":\"8293\",\"type\":\"LinearScale\"}},\"id\":\"8284\",\"subtype\":\"Figure\",\"type\":\"Plot\"},{\"attributes\":{\"axis_label\":\"trans_untrans_ratio\",\"axis_label_text_font_size\":{\"value\":\"16pt\"},\"axis_label_text_font_style\":\"normal\",\"formatter\":{\"id\":\"8333\",\"type\":\"BasicTickFormatter\"},\"major_label_text_font_size\":{\"value\":\"14pt\"},\"ticker\":{\"id\":\"8301\",\"type\":\"BasicTicker\"}},\"id\":\"8300\",\"type\":\"LinearAxis\"},{\"attributes\":{\"label\":{\"value\":\"40eedd2d\"},\"renderers\":[{\"id\":\"8270\",\"type\":\"GlyphRenderer\"}]},\"id\":\"8282\",\"type\":\"LegendItem\"},{\"attributes\":{},\"id\":\"8331\",\"type\":\"BasicTickFormatter\"},{\"attributes\":{\"axis_label\":\"bin\",\"axis_label_text_font_size\":{\"value\":\"16pt\"},\"axis_label_text_font_style\":\"normal\",\"formatter\":{\"id\":\"8331\",\"type\":\"BasicTickFormatter\"},\"major_label_text_font_size\":{\"value\":\"14pt\"},\"ticker\":{\"id\":\"8296\",\"type\":\"BasicTicker\"}},\"id\":\"8295\",\"type\":\"LinearAxis\"},{\"attributes\":{\"above\":[{\"id\":\"8281\",\"type\":\"Legend\"},{\"id\":\"8283\",\"type\":\"Title\"}],\"below\":[{\"id\":\"8236\",\"type\":\"LinearAxis\"}],\"center\":[{\"id\":\"8240\",\"type\":\"Grid\"},{\"id\":\"8245\",\"type\":\"Grid\"}],\"left\":[{\"id\":\"8241\",\"type\":\"LinearAxis\"}],\"renderers\":[{\"id\":\"8270\",\"type\":\"GlyphRenderer\"}],\"title\":{\"id\":\"8226\",\"type\":\"Title\"},\"toolbar\":{\"id\":\"8255\",\"type\":\"Toolbar\"},\"x_range\":{\"id\":\"8222\",\"type\":\"DataRange1d\"},\"x_scale\":{\"id\":\"8232\",\"type\":\"LinearScale\"},\"y_range\":{\"id\":\"8223\",\"type\":\"DataRange1d\"},\"y_scale\":{\"id\":\"8234\",\"type\":\"LinearScale\"}},\"id\":\"8225\",\"subtype\":\"Figure\",\"type\":\"Plot\"},{\"attributes\":{\"data_source\":{\"id\":\"8224\",\"type\":\"ColumnDataSource\"},\"glyph\":{\"id\":\"8268\",\"type\":\"Circle\"},\"hover_glyph\":null,\"muted_glyph\":null,\"nonselection_glyph\":{\"id\":\"8269\",\"type\":\"Circle\"},\"selection_glyph\":null,\"view\":{\"id\":\"8266\",\"type\":\"CDSView\"}},\"id\":\"8270\",\"type\":\"GlyphRenderer\"},{\"attributes\":{\"bottom_units\":\"screen\",\"fill_alpha\":{\"value\":0.5},\"fill_color\":{\"value\":\"lightgrey\"},\"left_units\":\"screen\",\"level\":\"overlay\",\"line_alpha\":{\"value\":1.0},\"line_color\":{\"value\":\"black\"},\"line_dash\":[4,4],\"line_width\":{\"value\":2},\"render_mode\":\"css\",\"right_units\":\"screen\",\"top_units\":\"screen\"},\"id\":\"8276\",\"type\":\"BoxAnnotation\"},{\"attributes\":{\"children\":[{\"id\":\"8225\",\"subtype\":\"Figure\",\"type\":\"Plot\"},{\"id\":\"8284\",\"subtype\":\"Figure\",\"type\":\"Plot\"}]},\"id\":\"8343\",\"type\":\"Row\"},{\"attributes\":{\"callback\":null,\"tooltips\":[[\"model\",\"@model\"],[\"bin\",\"@bin\"],[\"trans_untrans_ratio\",\"@non_cumul\"],[\"min_score\",\"@min_score\"],[\"max_score\",\"@max_score\"],[\"n_data_points\",\"@_n\"],[\"n_trans_singletons_synonymous_algorithm\",\"@n_trans_singletons_synonymous_algorithm\"],[\"n_untrans_singletons_synonymous_algorithm\",\"@n_untrans_singletons_synonymous_algorithm\"]]},\"id\":\"8254\",\"type\":\"HoverTool\"},{\"attributes\":{},\"id\":\"8296\",\"type\":\"BasicTicker\"},{\"attributes\":{},\"id\":\"8249\",\"type\":\"ResetTool\"},{\"attributes\":{\"filters\":[{\"id\":\"8265\",\"type\":\"BooleanFilter\"}],\"source\":{\"id\":\"8224\",\"type\":\"ColumnDataSource\"}},\"id\":\"8266\",\"type\":\"CDSView\"},{\"attributes\":{\"fill_alpha\":{\"value\":0.5},\"fill_color\":{\"value\":\"lightgrey\"},\"level\":\"overlay\",\"line_alpha\":{\"value\":1.0},\"line_color\":{\"value\":\"black\"},\"line_dash\":[4,4],\"line_width\":{\"value\":2},\"xs_units\":\"screen\",\"ys_units\":\"screen\"},\"id\":\"8278\",\"type\":\"PolyAnnotation\"},{\"attributes\":{\"text\":\"trans_untrans_ratio, cumulative\",\"text_font_size\":{\"value\":\"16pt\"}},\"id\":\"8285\",\"type\":\"Title\"},{\"attributes\":{},\"id\":\"8246\",\"type\":\"SaveTool\"},{\"attributes\":{\"click_policy\":\"hide\",\"items\":[{\"id\":\"8341\",\"type\":\"LegendItem\"}],\"location\":[0,0],\"orientation\":\"horizontal\"},\"id\":\"8340\",\"type\":\"Legend\"},{\"attributes\":{},\"id\":\"8253\",\"type\":\"HelpTool\"},{\"attributes\":{},\"id\":\"8293\",\"type\":\"LinearScale\"},{\"attributes\":{\"callback\":null,\"overlay\":{\"id\":\"8278\",\"type\":\"PolyAnnotation\"}},\"id\":\"8252\",\"type\":\"LassoSelectTool\"},{\"attributes\":{},\"id\":\"8301\",\"type\":\"BasicTicker\"},{\"attributes\":{},\"id\":\"8291\",\"type\":\"LinearScale\"},{\"attributes\":{\"child\":{\"id\":\"8344\",\"type\":\"Column\"},\"title\":\"All\"},\"id\":\"8345\",\"type\":\"Panel\"},{\"attributes\":{\"ticker\":{\"id\":\"8296\",\"type\":\"BasicTicker\"}},\"id\":\"8299\",\"type\":\"Grid\"}],\"root_ids\":[\"8346\"]},\"title\":\"Bokeh Application\",\"version\":\"1.4.0\"}};\n",
       "  var render_items = [{\"docid\":\"1cd748e4-2db2-4609-94b1-f62b11c7a286\",\"roots\":{\"8346\":\"ec260b09-3b89-4e26-af97-3cb98a230826\"}}];\n",
       "  root.Bokeh.embed.embed_items_notebook(docs_json, render_items);\n",
       "\n",
       "  }\n",
       "  if (root.Bokeh !== undefined) {\n",
       "    embed_document(root);\n",
       "  } else {\n",
       "    var attempts = 0;\n",
       "    var timer = setInterval(function(root) {\n",
       "      if (root.Bokeh !== undefined) {\n",
       "        clearInterval(timer);\n",
       "        embed_document(root);\n",
       "      } else {\n",
       "        attempts++;\n",
       "        if (attempts > 100) {\n",
       "          clearInterval(timer);\n",
       "          console.log(\"Bokeh: ERROR: Unable to run BokehJS code because BokehJS library is missing\");\n",
       "        }\n",
       "      }\n",
       "    }, 10, root)\n",
       "  }\n",
       "})(window);"
      ],
      "application/vnd.bokehjs_exec.v0+json": ""
     },
     "metadata": {
      "application/vnd.bokehjs_exec.v0+json": {
       "id": "8346"
      }
     },
     "output_type": "display_data"
    },
    {
     "name": "stdout",
     "output_type": "stream",
     "text": [
      "\n"
     ]
    }
   ],
   "source": [
    "#ratio\n",
    "tabs = plot_metric(snvs, 'trans_untrans_ratio', ['n_trans_singletons_synonymous_algorithm', 'n_untrans_singletons_synonymous_algorithm'], y_fun=lambda x: x[0]/x[1], plot_bi_allelics=False, plot_singletons=False, plot_bi_allelic_singletons=False, colors=colors)\n",
    "show(tabs)"
   ]
  },
  {
   "cell_type": "code",
   "execution_count": 34,
   "id": "25173c51",
   "metadata": {},
   "outputs": [
    {
     "name": "stderr",
     "output_type": "stream",
     "text": [
      "/home/ubuntu/venv/lib/python3.8/site-packages/bokeh/models/plots.py:767: UserWarning: \n",
      "You are attempting to set `plot.legend.label_text_font_size` on a plot that has zero legends added, this will have no effect.\n",
      "\n",
      "Before legend properties can be set, you must add a Legend explicitly, or call a glyph method with a legend parameter set.\n",
      "\n",
      "  warnings.warn(_LEGEND_EMPTY_WARNING % attr)\n"
     ]
    },
    {
     "data": {
      "text/html": [
       "\n",
       "\n",
       "\n",
       "\n",
       "\n",
       "\n",
       "  <div class=\"bk-root\" id=\"5be6034a-88df-4ede-ab42-8ca2f5b7d3d3\" data-root-id=\"9034\"></div>\n"
      ]
     },
     "metadata": {},
     "output_type": "display_data"
    },
    {
     "data": {
      "application/javascript": [
       "(function(root) {\n",
       "  function embed_document(root) {\n",
       "    \n",
       "  var docs_json = {\"94f676b2-015e-474f-9204-c5b0f56ecf33\":{\"roots\":{\"references\":[{\"attributes\":{\"callback\":null,\"tabs\":[{\"id\":\"9033\",\"type\":\"Panel\"}]},\"id\":\"9034\",\"type\":\"Tabs\"},{\"attributes\":{\"dimension\":1,\"ticker\":{\"id\":\"8930\",\"type\":\"BasicTicker\"}},\"id\":\"8933\",\"type\":\"Grid\"},{\"attributes\":{\"bottom_units\":\"screen\",\"fill_alpha\":{\"value\":0.5},\"fill_color\":{\"value\":\"lightgrey\"},\"left_units\":\"screen\",\"level\":\"overlay\",\"line_alpha\":{\"value\":1.0},\"line_color\":{\"value\":\"black\"},\"line_dash\":[4,4],\"line_width\":{\"value\":2},\"render_mode\":\"css\",\"right_units\":\"screen\",\"top_units\":\"screen\"},\"id\":\"9024\",\"type\":\"BoxAnnotation\"},{\"attributes\":{\"above\":[{\"id\":\"8969\",\"type\":\"Legend\"},{\"id\":\"8971\",\"type\":\"Title\"}],\"below\":[{\"id\":\"8924\",\"type\":\"LinearAxis\"}],\"center\":[{\"id\":\"8928\",\"type\":\"Grid\"},{\"id\":\"8933\",\"type\":\"Grid\"}],\"left\":[{\"id\":\"8929\",\"type\":\"LinearAxis\"}],\"renderers\":[{\"id\":\"8958\",\"type\":\"GlyphRenderer\"}],\"title\":{\"id\":\"8914\",\"type\":\"Title\"},\"toolbar\":{\"id\":\"8943\",\"type\":\"Toolbar\"},\"x_range\":{\"id\":\"8910\",\"type\":\"DataRange1d\"},\"x_scale\":{\"id\":\"8920\",\"type\":\"LinearScale\"},\"y_range\":{\"id\":\"8911\",\"type\":\"DataRange1d\"},\"y_scale\":{\"id\":\"8922\",\"type\":\"LinearScale\"}},\"id\":\"8913\",\"subtype\":\"Figure\",\"type\":\"Plot\"},{\"attributes\":{\"fill_alpha\":{\"value\":0.5},\"fill_color\":{\"value\":\"lightgrey\"},\"level\":\"overlay\",\"line_alpha\":{\"value\":1.0},\"line_color\":{\"value\":\"black\"},\"line_dash\":[4,4],\"line_width\":{\"value\":2},\"xs_units\":\"screen\",\"ys_units\":\"screen\"},\"id\":\"9025\",\"type\":\"PolyAnnotation\"},{\"attributes\":{\"bottom_units\":\"screen\",\"fill_alpha\":{\"value\":0.5},\"fill_color\":{\"value\":\"lightgrey\"},\"left_units\":\"screen\",\"level\":\"overlay\",\"line_alpha\":{\"value\":1.0},\"line_color\":{\"value\":\"black\"},\"line_dash\":[4,4],\"line_width\":{\"value\":2},\"render_mode\":\"css\",\"right_units\":\"screen\",\"top_units\":\"screen\"},\"id\":\"8964\",\"type\":\"BoxAnnotation\"},{\"attributes\":{},\"id\":\"8984\",\"type\":\"BasicTicker\"},{\"attributes\":{\"overlay\":{\"id\":\"8964\",\"type\":\"BoxAnnotation\"}},\"id\":\"8936\",\"type\":\"BoxZoomTool\"},{\"attributes\":{\"label\":{\"value\":\"40eedd2d\"},\"renderers\":[{\"id\":\"8958\",\"type\":\"GlyphRenderer\"}]},\"id\":\"8970\",\"type\":\"LegendItem\"},{\"attributes\":{\"text\":\"n_ins, cumulative\",\"text_font_size\":{\"value\":\"16pt\"}},\"id\":\"8973\",\"type\":\"Title\"},{\"attributes\":{\"axis_label\":\"bin\",\"axis_label_text_font_size\":{\"value\":\"16pt\"},\"axis_label_text_font_style\":\"normal\",\"formatter\":{\"id\":\"9019\",\"type\":\"BasicTickFormatter\"},\"major_label_text_font_size\":{\"value\":\"14pt\"},\"ticker\":{\"id\":\"8984\",\"type\":\"BasicTicker\"}},\"id\":\"8983\",\"type\":\"LinearAxis\"},{\"attributes\":{},\"id\":\"8937\",\"type\":\"ResetTool\"},{\"attributes\":{},\"id\":\"9019\",\"type\":\"BasicTickFormatter\"},{\"attributes\":{\"filters\":[{\"id\":\"9012\",\"type\":\"BooleanFilter\"}],\"source\":{\"id\":\"8912\",\"type\":\"ColumnDataSource\"}},\"id\":\"9013\",\"type\":\"CDSView\"},{\"attributes\":{\"callback\":null,\"data\":{\"_color\":[\"blue\",\"blue\",\"blue\",\"blue\",\"blue\",\"blue\",\"blue\",\"blue\",\"blue\",\"blue\",\"blue\",\"blue\",\"blue\",\"blue\",\"blue\",\"blue\",\"blue\",\"blue\",\"blue\",\"blue\",\"blue\",\"blue\",\"blue\",\"blue\",\"blue\",\"blue\",\"blue\",\"blue\",\"blue\",\"blue\",\"blue\",\"blue\",\"blue\",\"blue\",\"blue\",\"blue\",\"blue\",\"blue\",\"blue\",\"blue\",\"blue\",\"blue\",\"blue\",\"blue\",\"blue\",\"blue\",\"blue\",\"blue\",\"blue\",\"blue\",\"blue\",\"blue\",\"blue\",\"blue\",\"blue\",\"blue\",\"blue\",\"blue\",\"blue\",\"blue\",\"blue\",\"blue\",\"blue\",\"blue\",\"blue\",\"blue\",\"blue\",\"blue\",\"blue\",\"blue\",\"blue\",\"blue\",\"blue\",\"blue\",\"blue\",\"blue\",\"blue\",\"blue\",\"blue\",\"blue\",\"blue\",\"blue\",\"blue\",\"blue\",\"blue\",\"blue\",\"blue\",\"blue\",\"blue\",\"blue\",\"blue\",\"blue\",\"blue\",\"blue\",\"blue\",\"blue\",\"blue\",\"blue\",\"blue\",\"blue\",\"blue\"],\"_n\":[575,0,141,2438,1902,815,2086,1544,2516,1087,1211,136,455,493,248,790,727,708,302,922,677,635,193,1991,2272,507,409,420,239,366,1031,1011,408,805,114,631,1181,1976,1449,61,715,484,1056,965,203,71,1452,241,791,450,409,1725,1116,974,1878,1642,822,566,1337,2329,2099,1083,1751,401,1744,651,875,983,1407,787,1515,1248,2084,1430,1513,1210,1314,1177,1233,1212,1545,1498,1340,1121,1916,1094,1072,1093,1441,1600,1553,1306,1513,879,1257,1692,1228,1834,1346,1916,89],\"_size\":{\"__ndarray__\":\"1qc3RYNiB0AAAAAAAADwP95VulX5KPc/kzWo/H0TGEC8GK3O9kMVQB55jZEy1wtAxB6xIDZFFkBfaax68CgTQCSSy8FPdRhAx5tyPoUTEEAYvSco7PcQQFU6dsbmvvY/LjtM21HNBEButCevPKcFQBSjdwAjt/4/YXqyhQhpC0BMtRGJbUsKQM6YFB3i8glAccq734nyAEDQuHz1oZwNQJtOSTzTXwlACNyBlRqTCEAG4nu8oRj7P0JqoJTgwRVAJOMJKPY9F0AX8qSuZPUFQHbMlen0uANA8OtF12b8A0BbJQDuIyf+P0y3HactqAJA8a6F4jZQD0C7F9fvFAIPQN4i89THsgNAV2R0YlarC0DxsnUlK9P0P4Li9w5CfwhAspgTfcfBEECrjz8s26wVQBLBWa+ljxJAAAAAAAAA8D/OYbQ/pBMKQC3AFRBodAVA6zgzctKwD0A0nZjdY0sOQKFtyWERyvs/QU2wFkJv8D8ouQFFkJQSQA8HnedeR/4/Sv6HGXltC0C9jcua+q8EQHbMlen0uANAsdhf3nhAFEBNdnbXDkoQQCPOjqB4bw5AHvVgHoIhFUC5XeXpNMITQMFERFy99QtAbYVpHnozB0COwvfhUNQRQMo5b7ciiBdAcp8a6vJWFkBzTsf18AsQQD86FLxlZxRAOND3k1WHA0CGiLQ08lwUQNeeAmje4QhAG9eQyOPYDEBk8LrPYpMOQLpsP8BGShJAiT6Ed7JbC0CYWlRlqPoSQHHy2aDIORFAbdVmSnpCFkDszYs1ZHASQE3Hrh9z9xJA5MBK6yD2EEBMkJPp4qwRQNqYxyiCuhBA/aY41jMfEUBv8Xw0t/kQQL5uXAqHKhNAsjthM1LfEkBFmOwQb9kRQOHto5ljUxBAnJ2ohfZXFUAb9YsrwCAQQDpVwkAN7g9ACmEA/dweEECK9UwTg4ISQIb0zcgYgRNAknA3zjY3E0AVBRpJF58RQE3Hrh9z9xJAzTZaEsDpDEAhe67ip0kRQOpazF6kDhRAHhVOYk4WEUA8Kxs0w+EUQMkhWwqn4xFAnJ2ohfZXFUDU/qNlembyPw==\",\"dtype\":\"float64\",\"shape\":[101]},\"bin\":[1,2,3,4,5,6,7,8,9,10,11,12,13,14,15,16,17,18,19,20,21,22,23,24,25,26,27,28,29,30,31,32,33,34,35,36,37,38,39,40,41,42,43,44,45,46,47,48,49,50,51,52,53,54,55,56,57,58,59,60,61,62,63,64,65,66,67,68,69,70,71,72,73,74,75,76,77,78,79,80,81,82,83,84,85,86,87,88,89,90,91,92,93,94,95,96,97,98,99,100,101],\"cumul\":[575,575,716,3154,5056,5871,7957,9501,12017,13104,14315,14451,14906,15399,15647,16437,17164,17872,18174,19096,19773,20408,20601,22592,24864,25371,25780,26200,26439,26805,27836,28847,29255,30060,30174,30805,31986,33962,35411,35472,36187,36671,37727,38692,38895,38966,40418,40659,41450,41900,42309,44034,45150,46124,48002,49644,50466,51032,52369,54698,56797,57880,59631,60032,61776,62427,63302,64285,65692,66479,67994,69242,71326,72756,74269,75479,76793,77970,79203,80415,81960,83458,84798,85919,87835,88929,90001,91094,92535,94135,95688,96994,98507,99386,100643,102335,103563,105397,106743,108659,108748],\"index\":[0,1,2,3,4,5,6,7,8,9,10,11,12,13,14,15,16,17,18,19,20,21,22,23,24,25,26,27,28,29,30,31,32,33,34,35,36,37,38,39,40,41,42,43,44,45,46,47,48,49,50,51,52,53,54,55,56,57,58,59,60,61,62,63,64,65,66,67,68,69,70,71,72,73,74,75,76,77,78,79,80,81,82,83,84,85,86,87,88,89,90,91,92,93,94,95,96,97,98,99,100],\"max_score\":{\"__ndarray__\":\"YFDVnTIHlT9gUNWdMgeVP6AsOQhBD5U/oFfA6E8klT8AIfaRCDeVPyAo4dwlVJU/oJULG+b0lT8gSZySMjaWP8A2bKTKXJY/QDhJ4Yx1lj9A1NsBPJyWP0B/3ZMDupY/4JipA5Nklz+giBk9by2YP0ASjfLCbJg/IAZzrLCymz8A5HPHp+mbP2DUS80AFJw/oDUiVBElnD9AQcSlfyqcP2A3E1PlQpw/IAZDSOdUnD8gAP6mnlecPwB7ki8fg5w/4EHVx4sDnT/gEbA9x2SdP4CQrSs9ep0/YOLQMZ2UnT+g20Nh+KKdP2CQjZvy8J0/IJSj7G1lnj8A1RpA6qeeP2CHbqQ7QJ8/gJ/BNunknz/wFEhPEQGgPyAuew81P6A/AN6jBWexoD9gQpMRseOhPzDqNR6gXKI/YCIZQqCDoj9Q7xC2OTWjP/DnGZcsEqQ/0EH5dv0QpT+Q1uHGGBCmP+Af9WDrOKc/UC9LyyJqpz9ANr2+p+qnP1BRBI3kaqg/oIlcxvDjqD/Avw9tFXmpP4Bvv3zC96k/4PyFGFy4qj/QmBuvSTKrP9BEkA1j8qs/0NdVT4I9rT/QadZ4IVCvP8gWy1WRd7A/ABkhrofksD8oFnt+TeSxP7Bv6r7qlrI/KNf6PnxIsz+QpEXLXSu0Pwj/awUw3rQ/oH97vZQTtT+ILF/qQpO1P1jFafDBK7Y/8GTztW0Qtz9QqVMBP6K4P8Are4Jf0ro/yAq9yCRkvD9AUD/xQF29PwAv+bgLAb4/eHYGTvIAvz/kU4VzaIjAPwQoklro8cE/HB/8uH61wz/Yg7IIQpnFP3zI+O2lccc/wBDCDEgnyT8MGEAdAobMP8reZYhL6dU/8hWb/Kn32T9MkNvXIZ3ePzGrmEJ48Ow/QIMzsoFC7T+w3z6yQJftPwBN4GOov+0/GrHXZOft7T9nkxeBCQzuP4mJ7wzpL+4/Yj71C+9R7j96uCJOv2zuP38sGc+Mf+4/eSGgEKGW7j/75JoYJazuP1HGtz21ve4/5JWTCH3U7j+GKO05PvDuP0aAE7HNGu8/ALogkJVd7z9rpXA1e3DvPw==\",\"dtype\":\"float64\",\"shape\":[101]},\"min_score\":{\"__ndarray__\":\"QHa+srTNlD9gUNWdMgeVP2BQ1Z0yB5U/oCw5CEEPlT+gV8DoTySVPwAh9pEIN5U/ICjh3CVUlT/gdVQJY/qVPyBJnJIyNpY/wDZspMpclj9AOEnhjHWWP0DU2wE8nJY/QH/dkwO6lj/gmKkDk2SXP6CIGT1vLZg/QBKN8sJsmD8gBnOssLKbPwDkc8en6Zs/YNRLzQAUnD+gNSJUESWcP0BBxKV/Kpw/YDcTU+VCnD8gBkNI51ScPyAA/qaeV5w/AHuSLx+DnD/gQdXHiwOdP+ARsD3HZJ0/gJCtKz16nT9g4tAxnZSdP6DbQ2H4op0/YJCNm/LwnT8glKPsbWWePwDVGkDqp54/YIdupDtAnz+An8E26eSfP/AUSE8RAaA/IC57DzU/oD8A3qMFZ7GgP2BCkxGx46E/MOo1HqBcoj9gIhlCoIOiP1DvELY5NaM/8OcZlywSpD8wP+9PlhOlP5DW4cYYEKY/4B/1YOs4pz9QL0vLImqnP0A2vb6n6qc/UFEEjeRqqD+giVzG8OOoP8C/D20Veak/QKgadu/7qT/g/IUYXLiqP9CYG69JMqs/0ESQDWPyqz/Q11VPgj2tP2D9dNfWU68/yBbLVZF3sD8AGSGuh+SwPygWe35N5LE/uBKX0DuXsj8o1/o+fEizP5CkRctdK7Q/CP9rBTDetD+gf3u9lBO1P4gsX+pCk7U/WMVp8MErtj/wZPO1bRC3P1B0Linzorg/wCt7gl/Suj/ICr3IJGS8P0BQP/FAXb0/AC/5uAsBvj94dgZO8gC/P+RThXNoiMA/BCiSWujxwT8cH/y4frXDP+S5ydRTm8U/fMj47aVxxz/AEMIMSCfJPwwYQB0Chsw/zmxKV6Pp1T/yFZv8qffZP+4YYnO1nd4/MauYQnjw7D9AgzOygULtP7DfPrJAl+0/AE3gY6i/7T8asddk5+3tP2eTF4EJDO4/iYnvDOkv7j+p8oPN/1HuP3q4Ik6/bO4/fywZz4x/7j95IaAQoZbuP/vkmhglrO4/Uca3PbW97j9MT7ieqNTuP4Yo7Tk+8O4/RoATsc0a7z8AuiCQlV3vPw==\",\"dtype\":\"float64\",\"shape\":[101]},\"model\":[\"40eedd2d\",\"40eedd2d\",\"40eedd2d\",\"40eedd2d\",\"40eedd2d\",\"40eedd2d\",\"40eedd2d\",\"40eedd2d\",\"40eedd2d\",\"40eedd2d\",\"40eedd2d\",\"40eedd2d\",\"40eedd2d\",\"40eedd2d\",\"40eedd2d\",\"40eedd2d\",\"40eedd2d\",\"40eedd2d\",\"40eedd2d\",\"40eedd2d\",\"40eedd2d\",\"40eedd2d\",\"40eedd2d\",\"40eedd2d\",\"40eedd2d\",\"40eedd2d\",\"40eedd2d\",\"40eedd2d\",\"40eedd2d\",\"40eedd2d\",\"40eedd2d\",\"40eedd2d\",\"40eedd2d\",\"40eedd2d\",\"40eedd2d\",\"40eedd2d\",\"40eedd2d\",\"40eedd2d\",\"40eedd2d\",\"40eedd2d\",\"40eedd2d\",\"40eedd2d\",\"40eedd2d\",\"40eedd2d\",\"40eedd2d\",\"40eedd2d\",\"40eedd2d\",\"40eedd2d\",\"40eedd2d\",\"40eedd2d\",\"40eedd2d\",\"40eedd2d\",\"40eedd2d\",\"40eedd2d\",\"40eedd2d\",\"40eedd2d\",\"40eedd2d\",\"40eedd2d\",\"40eedd2d\",\"40eedd2d\",\"40eedd2d\",\"40eedd2d\",\"40eedd2d\",\"40eedd2d\",\"40eedd2d\",\"40eedd2d\",\"40eedd2d\",\"40eedd2d\",\"40eedd2d\",\"40eedd2d\",\"40eedd2d\",\"40eedd2d\",\"40eedd2d\",\"40eedd2d\",\"40eedd2d\",\"40eedd2d\",\"40eedd2d\",\"40eedd2d\",\"40eedd2d\",\"40eedd2d\",\"40eedd2d\",\"40eedd2d\",\"40eedd2d\",\"40eedd2d\",\"40eedd2d\",\"40eedd2d\",\"40eedd2d\",\"40eedd2d\",\"40eedd2d\",\"40eedd2d\",\"40eedd2d\",\"40eedd2d\",\"40eedd2d\",\"40eedd2d\",\"40eedd2d\",\"40eedd2d\",\"40eedd2d\",\"40eedd2d\",\"40eedd2d\",\"40eedd2d\",\"40eedd2d\"],\"n_ins\":[575,0,141,2438,1902,815,2086,1544,2516,1087,1211,136,455,493,248,790,727,708,302,922,677,635,193,1991,2272,507,409,420,239,366,1031,1011,408,805,114,631,1181,1976,1449,61,715,484,1056,965,203,71,1452,241,791,450,409,1725,1116,974,1878,1642,822,566,1337,2329,2099,1083,1751,401,1744,651,875,983,1407,787,1515,1248,2084,1430,1513,1210,1314,1177,1233,1212,1545,1498,1340,1121,1916,1094,1072,1093,1441,1600,1553,1306,1513,879,1257,1692,1228,1834,1346,1916,89],\"n_ins_cumul\":[575,575,716,3154,5056,5871,7957,9501,12017,13104,14315,14451,14906,15399,15647,16437,17164,17872,18174,19096,19773,20408,20601,22592,24864,25371,25780,26200,26439,26805,27836,28847,29255,30060,30174,30805,31986,33962,35411,35472,36187,36671,37727,38692,38895,38966,40418,40659,41450,41900,42309,44034,45150,46124,48002,49644,50466,51032,52369,54698,56797,57880,59631,60032,61776,62427,63302,64285,65692,66479,67994,69242,71326,72756,74269,75479,76793,77970,79203,80415,81960,83458,84798,85919,87835,88929,90001,91094,92535,94135,95688,96994,98507,99386,100643,102335,103563,105397,106743,108659,108748],\"non_cumul\":[575,0,141,2438,1902,815,2086,1544,2516,1087,1211,136,455,493,248,790,727,708,302,922,677,635,193,1991,2272,507,409,420,239,366,1031,1011,408,805,114,631,1181,1976,1449,61,715,484,1056,965,203,71,1452,241,791,450,409,1725,1116,974,1878,1642,822,566,1337,2329,2099,1083,1751,401,1744,651,875,983,1407,787,1515,1248,2084,1430,1513,1210,1314,1177,1233,1212,1545,1498,1340,1121,1916,1094,1072,1093,1441,1600,1553,1306,1513,879,1257,1692,1228,1834,1346,1916,89]},\"selected\":{\"id\":\"8967\",\"type\":\"Selection\"},\"selection_policy\":{\"id\":\"8968\",\"type\":\"UnionRenderers\"}},\"id\":\"8912\",\"type\":\"ColumnDataSource\"},{\"attributes\":{\"booleans\":[true,true,true,true,true,true,true,true,true,true,true,true,true,true,true,true,true,true,true,true,true,true,true,true,true,true,true,true,true,true,true,true,true,true,true,true,true,true,true,true,true,true,true,true,true,true,true,true,true,true,true,true,true,true,true,true,true,true,true,true,true,true,true,true,true,true,true,true,true,true,true,true,true,true,true,true,true,true,true,true,true,true,true,true,true,true,true,true,true,true,true,true,true,true,true,true,true,true,true,true,true]},\"id\":\"8953\",\"type\":\"BooleanFilter\"},{\"attributes\":{\"ticker\":{\"id\":\"8925\",\"type\":\"BasicTicker\"}},\"id\":\"8928\",\"type\":\"Grid\"},{\"attributes\":{\"above\":[{\"id\":\"9028\",\"type\":\"Legend\"},{\"id\":\"9030\",\"type\":\"Title\"}],\"below\":[{\"id\":\"8983\",\"type\":\"LinearAxis\"}],\"center\":[{\"id\":\"8987\",\"type\":\"Grid\"},{\"id\":\"8992\",\"type\":\"Grid\"}],\"left\":[{\"id\":\"8988\",\"type\":\"LinearAxis\"}],\"renderers\":[{\"id\":\"9017\",\"type\":\"GlyphRenderer\"}],\"title\":{\"id\":\"8973\",\"type\":\"Title\"},\"toolbar\":{\"id\":\"9002\",\"type\":\"Toolbar\"},\"x_range\":{\"id\":\"8910\",\"type\":\"DataRange1d\"},\"x_scale\":{\"id\":\"8979\",\"type\":\"LinearScale\"},\"y_range\":{\"id\":\"8911\",\"type\":\"DataRange1d\"},\"y_scale\":{\"id\":\"8981\",\"type\":\"LinearScale\"}},\"id\":\"8972\",\"subtype\":\"Figure\",\"type\":\"Plot\"},{\"attributes\":{\"callback\":null,\"overlay\":{\"id\":\"8965\",\"type\":\"BoxAnnotation\"}},\"id\":\"8939\",\"type\":\"BoxSelectTool\"},{\"attributes\":{\"bottom_units\":\"screen\",\"fill_alpha\":{\"value\":0.5},\"fill_color\":{\"value\":\"lightgrey\"},\"left_units\":\"screen\",\"level\":\"overlay\",\"line_alpha\":{\"value\":1.0},\"line_color\":{\"value\":\"black\"},\"line_dash\":[4,4],\"line_width\":{\"value\":2},\"render_mode\":\"css\",\"right_units\":\"screen\",\"top_units\":\"screen\"},\"id\":\"8965\",\"type\":\"BoxAnnotation\"},{\"attributes\":{},\"id\":\"8934\",\"type\":\"SaveTool\"},{\"attributes\":{\"data_source\":{\"id\":\"8912\",\"type\":\"ColumnDataSource\"},\"glyph\":{\"id\":\"9015\",\"type\":\"Circle\"},\"hover_glyph\":null,\"muted_glyph\":null,\"nonselection_glyph\":{\"id\":\"9016\",\"type\":\"Circle\"},\"selection_glyph\":null,\"view\":{\"id\":\"9013\",\"type\":\"CDSView\"}},\"id\":\"9017\",\"type\":\"GlyphRenderer\"},{\"attributes\":{},\"id\":\"8935\",\"type\":\"PanTool\"},{\"attributes\":{\"callback\":null},\"id\":\"8911\",\"type\":\"DataRange1d\"},{\"attributes\":{\"callback\":null},\"id\":\"8910\",\"type\":\"DataRange1d\"},{\"attributes\":{\"axis_label\":\"n_ins\",\"axis_label_text_font_size\":{\"value\":\"16pt\"},\"axis_label_text_font_style\":\"normal\",\"formatter\":{\"id\":\"9021\",\"type\":\"BasicTickFormatter\"},\"major_label_text_font_size\":{\"value\":\"14pt\"},\"ticker\":{\"id\":\"8989\",\"type\":\"BasicTicker\"}},\"id\":\"8988\",\"type\":\"LinearAxis\"},{\"attributes\":{\"fill_alpha\":{\"value\":0.1},\"fill_color\":{\"value\":\"#1f77b4\"},\"line_alpha\":{\"value\":0.1},\"line_color\":{\"value\":\"#1f77b4\"},\"size\":{\"field\":\"_size\",\"units\":\"screen\"},\"x\":{\"field\":\"bin\"},\"y\":{\"field\":\"non_cumul\"}},\"id\":\"8957\",\"type\":\"Circle\"},{\"attributes\":{\"text\":\"n_ins\",\"text_font_size\":{\"value\":\"16pt\"}},\"id\":\"8914\",\"type\":\"Title\"},{\"attributes\":{},\"id\":\"8981\",\"type\":\"LinearScale\"},{\"attributes\":{},\"id\":\"8930\",\"type\":\"BasicTicker\"},{\"attributes\":{},\"id\":\"8922\",\"type\":\"LinearScale\"},{\"attributes\":{},\"id\":\"8989\",\"type\":\"BasicTicker\"},{\"attributes\":{\"fill_alpha\":{\"value\":0.5},\"fill_color\":{\"value\":\"lightgrey\"},\"level\":\"overlay\",\"line_alpha\":{\"value\":1.0},\"line_color\":{\"value\":\"black\"},\"line_dash\":[4,4],\"line_width\":{\"value\":2},\"xs_units\":\"screen\",\"ys_units\":\"screen\"},\"id\":\"8966\",\"type\":\"PolyAnnotation\"},{\"attributes\":{},\"id\":\"8979\",\"type\":\"LinearScale\"},{\"attributes\":{\"callback\":null,\"overlay\":{\"id\":\"8966\",\"type\":\"PolyAnnotation\"}},\"id\":\"8940\",\"type\":\"LassoSelectTool\"},{\"attributes\":{},\"id\":\"8925\",\"type\":\"BasicTicker\"},{\"attributes\":{},\"id\":\"8920\",\"type\":\"LinearScale\"},{\"attributes\":{\"ticker\":{\"id\":\"8984\",\"type\":\"BasicTicker\"}},\"id\":\"8987\",\"type\":\"Grid\"},{\"attributes\":{\"filters\":[{\"id\":\"8953\",\"type\":\"BooleanFilter\"}],\"source\":{\"id\":\"8912\",\"type\":\"ColumnDataSource\"}},\"id\":\"8954\",\"type\":\"CDSView\"},{\"attributes\":{\"children\":[{\"id\":\"9031\",\"type\":\"Row\"}]},\"id\":\"9032\",\"type\":\"Column\"},{\"attributes\":{\"axis_label\":\"bin\",\"axis_label_text_font_size\":{\"value\":\"16pt\"},\"axis_label_text_font_style\":\"normal\",\"formatter\":{\"id\":\"8960\",\"type\":\"BasicTickFormatter\"},\"major_label_text_font_size\":{\"value\":\"14pt\"},\"ticker\":{\"id\":\"8925\",\"type\":\"BasicTicker\"}},\"id\":\"8924\",\"type\":\"LinearAxis\"},{\"attributes\":{},\"id\":\"8938\",\"type\":\"WheelZoomTool\"},{\"attributes\":{\"fill_color\":{\"field\":\"_color\"},\"line_color\":{\"field\":\"_color\"},\"size\":{\"field\":\"_size\",\"units\":\"screen\"},\"x\":{\"field\":\"bin\"},\"y\":{\"field\":\"cumul\"}},\"id\":\"9015\",\"type\":\"Circle\"},{\"attributes\":{},\"id\":\"8941\",\"type\":\"HelpTool\"},{\"attributes\":{\"dimension\":1,\"ticker\":{\"id\":\"8989\",\"type\":\"BasicTicker\"}},\"id\":\"8992\",\"type\":\"Grid\"},{\"attributes\":{\"callback\":null,\"tooltips\":[[\"model\",\"@model\"],[\"bin\",\"@bin\"],[\"n_ins\",\"@non_cumul\"],[\"min_score\",\"@min_score\"],[\"max_score\",\"@max_score\"],[\"n_data_points\",\"@_n\"],[\"n_ins\",\"@n_ins\"]]},\"id\":\"8942\",\"type\":\"HoverTool\"},{\"attributes\":{\"fill_color\":{\"field\":\"_color\"},\"line_color\":{\"field\":\"_color\"},\"size\":{\"field\":\"_size\",\"units\":\"screen\"},\"x\":{\"field\":\"bin\"},\"y\":{\"field\":\"non_cumul\"}},\"id\":\"8956\",\"type\":\"Circle\"},{\"attributes\":{},\"id\":\"8994\",\"type\":\"PanTool\"},{\"attributes\":{},\"id\":\"9021\",\"type\":\"BasicTickFormatter\"},{\"attributes\":{\"click_policy\":\"hide\",\"items\":[{\"id\":\"8970\",\"type\":\"LegendItem\"}],\"location\":[0,0],\"orientation\":\"horizontal\"},\"id\":\"8969\",\"type\":\"Legend\"},{\"attributes\":{\"active_drag\":\"auto\",\"active_inspect\":\"auto\",\"active_multi\":null,\"active_scroll\":\"auto\",\"active_tap\":\"auto\",\"tools\":[{\"id\":\"8993\",\"type\":\"SaveTool\"},{\"id\":\"8994\",\"type\":\"PanTool\"},{\"id\":\"8995\",\"type\":\"BoxZoomTool\"},{\"id\":\"8996\",\"type\":\"ResetTool\"},{\"id\":\"8997\",\"type\":\"WheelZoomTool\"},{\"id\":\"8998\",\"type\":\"BoxSelectTool\"},{\"id\":\"8999\",\"type\":\"LassoSelectTool\"},{\"id\":\"9000\",\"type\":\"HelpTool\"},{\"id\":\"9001\",\"type\":\"HoverTool\"}]},\"id\":\"9002\",\"type\":\"Toolbar\"},{\"attributes\":{\"booleans\":[true,true,true,true,true,true,true,true,true,true,true,true,true,true,true,true,true,true,true,true,true,true,true,true,true,true,true,true,true,true,true,true,true,true,true,true,true,true,true,true,true,true,true,true,true,true,true,true,true,true,true,true,true,true,true,true,true,true,true,true,true,true,true,true,true,true,true,true,true,true,true,true,true,true,true,true,true,true,true,true,true,true,true,true,true,true,true,true,true,true,true,true,true,true,true,true,true,true,true,true,true]},\"id\":\"9012\",\"type\":\"BooleanFilter\"},{\"attributes\":{},\"id\":\"8993\",\"type\":\"SaveTool\"},{\"attributes\":{\"overlay\":{\"id\":\"9023\",\"type\":\"BoxAnnotation\"}},\"id\":\"8995\",\"type\":\"BoxZoomTool\"},{\"attributes\":{\"text\":\"All variants\",\"text_font_size\":{\"value\":\"14pt\"}},\"id\":\"9030\",\"type\":\"Title\"},{\"attributes\":{\"callback\":null,\"overlay\":{\"id\":\"9024\",\"type\":\"BoxAnnotation\"}},\"id\":\"8998\",\"type\":\"BoxSelectTool\"},{\"attributes\":{\"callback\":null,\"tooltips\":[[\"model\",\"@model\"],[\"bin\",\"@bin\"],[\"n_ins\",\"@cumul\"],[\"min_score\",\"@min_score\"],[\"max_score\",\"@max_score\"],[\"n_data_points\",\"@_n\"],[\"n_ins\",\"@n_ins\"]]},\"id\":\"9001\",\"type\":\"HoverTool\"},{\"attributes\":{},\"id\":\"8996\",\"type\":\"ResetTool\"},{\"attributes\":{\"label\":{\"value\":\"40eedd2d\"},\"renderers\":[{\"id\":\"9017\",\"type\":\"GlyphRenderer\"}]},\"id\":\"9029\",\"type\":\"LegendItem\"},{\"attributes\":{},\"id\":\"8997\",\"type\":\"WheelZoomTool\"},{\"attributes\":{},\"id\":\"8967\",\"type\":\"Selection\"},{\"attributes\":{},\"id\":\"9000\",\"type\":\"HelpTool\"},{\"attributes\":{},\"id\":\"8968\",\"type\":\"UnionRenderers\"},{\"attributes\":{\"child\":{\"id\":\"9032\",\"type\":\"Column\"},\"title\":\"All\"},\"id\":\"9033\",\"type\":\"Panel\"},{\"attributes\":{\"callback\":null,\"overlay\":{\"id\":\"9025\",\"type\":\"PolyAnnotation\"}},\"id\":\"8999\",\"type\":\"LassoSelectTool\"},{\"attributes\":{\"data_source\":{\"id\":\"8912\",\"type\":\"ColumnDataSource\"},\"glyph\":{\"id\":\"8956\",\"type\":\"Circle\"},\"hover_glyph\":null,\"muted_glyph\":null,\"nonselection_glyph\":{\"id\":\"8957\",\"type\":\"Circle\"},\"selection_glyph\":null,\"view\":{\"id\":\"8954\",\"type\":\"CDSView\"}},\"id\":\"8958\",\"type\":\"GlyphRenderer\"},{\"attributes\":{},\"id\":\"8960\",\"type\":\"BasicTickFormatter\"},{\"attributes\":{\"fill_alpha\":{\"value\":0.1},\"fill_color\":{\"value\":\"#1f77b4\"},\"line_alpha\":{\"value\":0.1},\"line_color\":{\"value\":\"#1f77b4\"},\"size\":{\"field\":\"_size\",\"units\":\"screen\"},\"x\":{\"field\":\"bin\"},\"y\":{\"field\":\"cumul\"}},\"id\":\"9016\",\"type\":\"Circle\"},{\"attributes\":{\"children\":[{\"id\":\"8913\",\"subtype\":\"Figure\",\"type\":\"Plot\"},{\"id\":\"8972\",\"subtype\":\"Figure\",\"type\":\"Plot\"}]},\"id\":\"9031\",\"type\":\"Row\"},{\"attributes\":{\"active_drag\":\"auto\",\"active_inspect\":\"auto\",\"active_multi\":null,\"active_scroll\":\"auto\",\"active_tap\":\"auto\",\"tools\":[{\"id\":\"8934\",\"type\":\"SaveTool\"},{\"id\":\"8935\",\"type\":\"PanTool\"},{\"id\":\"8936\",\"type\":\"BoxZoomTool\"},{\"id\":\"8937\",\"type\":\"ResetTool\"},{\"id\":\"8938\",\"type\":\"WheelZoomTool\"},{\"id\":\"8939\",\"type\":\"BoxSelectTool\"},{\"id\":\"8940\",\"type\":\"LassoSelectTool\"},{\"id\":\"8941\",\"type\":\"HelpTool\"},{\"id\":\"8942\",\"type\":\"HoverTool\"}]},\"id\":\"8943\",\"type\":\"Toolbar\"},{\"attributes\":{},\"id\":\"8962\",\"type\":\"BasicTickFormatter\"},{\"attributes\":{\"text\":\"All variants\",\"text_font_size\":{\"value\":\"14pt\"}},\"id\":\"8971\",\"type\":\"Title\"},{\"attributes\":{\"bottom_units\":\"screen\",\"fill_alpha\":{\"value\":0.5},\"fill_color\":{\"value\":\"lightgrey\"},\"left_units\":\"screen\",\"level\":\"overlay\",\"line_alpha\":{\"value\":1.0},\"line_color\":{\"value\":\"black\"},\"line_dash\":[4,4],\"line_width\":{\"value\":2},\"render_mode\":\"css\",\"right_units\":\"screen\",\"top_units\":\"screen\"},\"id\":\"9023\",\"type\":\"BoxAnnotation\"},{\"attributes\":{\"axis_label\":\"n_ins\",\"axis_label_text_font_size\":{\"value\":\"16pt\"},\"axis_label_text_font_style\":\"normal\",\"formatter\":{\"id\":\"8962\",\"type\":\"BasicTickFormatter\"},\"major_label_text_font_size\":{\"value\":\"14pt\"},\"ticker\":{\"id\":\"8930\",\"type\":\"BasicTicker\"}},\"id\":\"8929\",\"type\":\"LinearAxis\"},{\"attributes\":{\"click_policy\":\"hide\",\"items\":[{\"id\":\"9029\",\"type\":\"LegendItem\"}],\"location\":[0,0],\"orientation\":\"horizontal\"},\"id\":\"9028\",\"type\":\"Legend\"}],\"root_ids\":[\"9034\"]},\"title\":\"Bokeh Application\",\"version\":\"1.4.0\"}};\n",
       "  var render_items = [{\"docid\":\"94f676b2-015e-474f-9204-c5b0f56ecf33\",\"roots\":{\"9034\":\"5be6034a-88df-4ede-ab42-8ca2f5b7d3d3\"}}];\n",
       "  root.Bokeh.embed.embed_items_notebook(docs_json, render_items);\n",
       "\n",
       "  }\n",
       "  if (root.Bokeh !== undefined) {\n",
       "    embed_document(root);\n",
       "  } else {\n",
       "    var attempts = 0;\n",
       "    var timer = setInterval(function(root) {\n",
       "      if (root.Bokeh !== undefined) {\n",
       "        clearInterval(timer);\n",
       "        embed_document(root);\n",
       "      } else {\n",
       "        attempts++;\n",
       "        if (attempts > 100) {\n",
       "          clearInterval(timer);\n",
       "          console.log(\"Bokeh: ERROR: Unable to run BokehJS code because BokehJS library is missing\");\n",
       "        }\n",
       "      }\n",
       "    }, 10, root)\n",
       "  }\n",
       "})(window);"
      ],
      "application/vnd.bokehjs_exec.v0+json": ""
     },
     "metadata": {
      "application/vnd.bokehjs_exec.v0+json": {
       "id": "9034"
      }
     },
     "output_type": "display_data"
    },
    {
     "name": "stdout",
     "output_type": "stream",
     "text": [
      "\n"
     ]
    }
   ],
   "source": [
    "#insertions\n",
    "tabs = plot_metric(indels, 'n_ins', ['n_ins'], y_fun=lambda x: x[0], plot_bi_allelics=False, plot_singletons=False, plot_bi_allelic_singletons=False, colors=colors, )\n",
    "show(tabs)"
   ]
  },
  {
   "cell_type": "code",
   "execution_count": 35,
   "id": "2b775b51",
   "metadata": {},
   "outputs": [
    {
     "name": "stderr",
     "output_type": "stream",
     "text": [
      "/home/ubuntu/venv/lib/python3.8/site-packages/bokeh/models/plots.py:767: UserWarning: \n",
      "You are attempting to set `plot.legend.label_text_font_size` on a plot that has zero legends added, this will have no effect.\n",
      "\n",
      "Before legend properties can be set, you must add a Legend explicitly, or call a glyph method with a legend parameter set.\n",
      "\n",
      "  warnings.warn(_LEGEND_EMPTY_WARNING % attr)\n"
     ]
    },
    {
     "data": {
      "text/html": [
       "\n",
       "\n",
       "\n",
       "\n",
       "\n",
       "\n",
       "  <div class=\"bk-root\" id=\"729f0ebc-8a80-44dc-b1c0-c5826b2ff7e0\" data-root-id=\"9740\"></div>\n"
      ]
     },
     "metadata": {},
     "output_type": "display_data"
    },
    {
     "data": {
      "application/javascript": [
       "(function(root) {\n",
       "  function embed_document(root) {\n",
       "    \n",
       "  var docs_json = {\"a1cf1d1c-bd7c-48a7-ba4e-8d96ae7e837a\":{\"roots\":{\"references\":[{\"attributes\":{\"callback\":null,\"tabs\":[{\"id\":\"9739\",\"type\":\"Panel\"}]},\"id\":\"9740\",\"type\":\"Tabs\"},{\"attributes\":{\"fill_alpha\":{\"value\":0.5},\"fill_color\":{\"value\":\"lightgrey\"},\"level\":\"overlay\",\"line_alpha\":{\"value\":1.0},\"line_color\":{\"value\":\"black\"},\"line_dash\":[4,4],\"line_width\":{\"value\":2},\"xs_units\":\"screen\",\"ys_units\":\"screen\"},\"id\":\"9672\",\"type\":\"PolyAnnotation\"},{\"attributes\":{},\"id\":\"9699\",\"type\":\"SaveTool\"},{\"attributes\":{},\"id\":\"9700\",\"type\":\"PanTool\"},{\"attributes\":{\"overlay\":{\"id\":\"9729\",\"type\":\"BoxAnnotation\"}},\"id\":\"9701\",\"type\":\"BoxZoomTool\"},{\"attributes\":{\"callback\":null,\"overlay\":{\"id\":\"9730\",\"type\":\"BoxAnnotation\"}},\"id\":\"9704\",\"type\":\"BoxSelectTool\"},{\"attributes\":{\"callback\":null,\"tooltips\":[[\"model\",\"@model\"],[\"bin\",\"@bin\"],[\"n_del\",\"@cumul\"],[\"min_score\",\"@min_score\"],[\"max_score\",\"@max_score\"],[\"n_data_points\",\"@_n\"],[\"n_del\",\"@n_del\"]]},\"id\":\"9707\",\"type\":\"HoverTool\"},{\"attributes\":{\"label\":{\"value\":\"40eedd2d\"},\"renderers\":[{\"id\":\"9723\",\"type\":\"GlyphRenderer\"}]},\"id\":\"9735\",\"type\":\"LegendItem\"},{\"attributes\":{},\"id\":\"9702\",\"type\":\"ResetTool\"},{\"attributes\":{},\"id\":\"9673\",\"type\":\"Selection\"},{\"attributes\":{},\"id\":\"9703\",\"type\":\"WheelZoomTool\"},{\"attributes\":{\"overlay\":{\"id\":\"9670\",\"type\":\"BoxAnnotation\"}},\"id\":\"9642\",\"type\":\"BoxZoomTool\"},{\"attributes\":{},\"id\":\"9674\",\"type\":\"UnionRenderers\"},{\"attributes\":{},\"id\":\"9706\",\"type\":\"HelpTool\"},{\"attributes\":{\"callback\":null,\"overlay\":{\"id\":\"9731\",\"type\":\"PolyAnnotation\"}},\"id\":\"9705\",\"type\":\"LassoSelectTool\"},{\"attributes\":{\"active_drag\":\"auto\",\"active_inspect\":\"auto\",\"active_multi\":null,\"active_scroll\":\"auto\",\"active_tap\":\"auto\",\"tools\":[{\"id\":\"9699\",\"type\":\"SaveTool\"},{\"id\":\"9700\",\"type\":\"PanTool\"},{\"id\":\"9701\",\"type\":\"BoxZoomTool\"},{\"id\":\"9702\",\"type\":\"ResetTool\"},{\"id\":\"9703\",\"type\":\"WheelZoomTool\"},{\"id\":\"9704\",\"type\":\"BoxSelectTool\"},{\"id\":\"9705\",\"type\":\"LassoSelectTool\"},{\"id\":\"9706\",\"type\":\"HelpTool\"},{\"id\":\"9707\",\"type\":\"HoverTool\"}]},\"id\":\"9708\",\"type\":\"Toolbar\"},{\"attributes\":{},\"id\":\"9668\",\"type\":\"BasicTickFormatter\"},{\"attributes\":{\"above\":[{\"id\":\"9675\",\"type\":\"Legend\"},{\"id\":\"9677\",\"type\":\"Title\"}],\"below\":[{\"id\":\"9630\",\"type\":\"LinearAxis\"}],\"center\":[{\"id\":\"9634\",\"type\":\"Grid\"},{\"id\":\"9639\",\"type\":\"Grid\"}],\"left\":[{\"id\":\"9635\",\"type\":\"LinearAxis\"}],\"renderers\":[{\"id\":\"9664\",\"type\":\"GlyphRenderer\"}],\"title\":{\"id\":\"9620\",\"type\":\"Title\"},\"toolbar\":{\"id\":\"9649\",\"type\":\"Toolbar\"},\"x_range\":{\"id\":\"9616\",\"type\":\"DataRange1d\"},\"x_scale\":{\"id\":\"9626\",\"type\":\"LinearScale\"},\"y_range\":{\"id\":\"9617\",\"type\":\"DataRange1d\"},\"y_scale\":{\"id\":\"9628\",\"type\":\"LinearScale\"}},\"id\":\"9619\",\"subtype\":\"Figure\",\"type\":\"Plot\"},{\"attributes\":{\"text\":\"All variants\",\"text_font_size\":{\"value\":\"14pt\"}},\"id\":\"9736\",\"type\":\"Title\"},{\"attributes\":{\"fill_alpha\":{\"value\":0.1},\"fill_color\":{\"value\":\"#1f77b4\"},\"line_alpha\":{\"value\":0.1},\"line_color\":{\"value\":\"#1f77b4\"},\"size\":{\"field\":\"_size\",\"units\":\"screen\"},\"x\":{\"field\":\"bin\"},\"y\":{\"field\":\"cumul\"}},\"id\":\"9722\",\"type\":\"Circle\"},{\"attributes\":{},\"id\":\"9666\",\"type\":\"BasicTickFormatter\"},{\"attributes\":{\"bottom_units\":\"screen\",\"fill_alpha\":{\"value\":0.5},\"fill_color\":{\"value\":\"lightgrey\"},\"left_units\":\"screen\",\"level\":\"overlay\",\"line_alpha\":{\"value\":1.0},\"line_color\":{\"value\":\"black\"},\"line_dash\":[4,4],\"line_width\":{\"value\":2},\"render_mode\":\"css\",\"right_units\":\"screen\",\"top_units\":\"screen\"},\"id\":\"9729\",\"type\":\"BoxAnnotation\"},{\"attributes\":{\"dimension\":1,\"ticker\":{\"id\":\"9636\",\"type\":\"BasicTicker\"}},\"id\":\"9639\",\"type\":\"Grid\"},{\"attributes\":{\"callback\":null},\"id\":\"9617\",\"type\":\"DataRange1d\"},{\"attributes\":{\"click_policy\":\"hide\",\"items\":[{\"id\":\"9735\",\"type\":\"LegendItem\"}],\"location\":[0,0],\"orientation\":\"horizontal\"},\"id\":\"9734\",\"type\":\"Legend\"},{\"attributes\":{\"data_source\":{\"id\":\"9618\",\"type\":\"ColumnDataSource\"},\"glyph\":{\"id\":\"9721\",\"type\":\"Circle\"},\"hover_glyph\":null,\"muted_glyph\":null,\"nonselection_glyph\":{\"id\":\"9722\",\"type\":\"Circle\"},\"selection_glyph\":null,\"view\":{\"id\":\"9719\",\"type\":\"CDSView\"}},\"id\":\"9723\",\"type\":\"GlyphRenderer\"},{\"attributes\":{\"text\":\"All variants\",\"text_font_size\":{\"value\":\"14pt\"}},\"id\":\"9677\",\"type\":\"Title\"},{\"attributes\":{},\"id\":\"9641\",\"type\":\"PanTool\"},{\"attributes\":{\"callback\":null},\"id\":\"9616\",\"type\":\"DataRange1d\"},{\"attributes\":{\"bottom_units\":\"screen\",\"fill_alpha\":{\"value\":0.5},\"fill_color\":{\"value\":\"lightgrey\"},\"left_units\":\"screen\",\"level\":\"overlay\",\"line_alpha\":{\"value\":1.0},\"line_color\":{\"value\":\"black\"},\"line_dash\":[4,4],\"line_width\":{\"value\":2},\"render_mode\":\"css\",\"right_units\":\"screen\",\"top_units\":\"screen\"},\"id\":\"9730\",\"type\":\"BoxAnnotation\"},{\"attributes\":{\"active_drag\":\"auto\",\"active_inspect\":\"auto\",\"active_multi\":null,\"active_scroll\":\"auto\",\"active_tap\":\"auto\",\"tools\":[{\"id\":\"9640\",\"type\":\"SaveTool\"},{\"id\":\"9641\",\"type\":\"PanTool\"},{\"id\":\"9642\",\"type\":\"BoxZoomTool\"},{\"id\":\"9643\",\"type\":\"ResetTool\"},{\"id\":\"9644\",\"type\":\"WheelZoomTool\"},{\"id\":\"9645\",\"type\":\"BoxSelectTool\"},{\"id\":\"9646\",\"type\":\"LassoSelectTool\"},{\"id\":\"9647\",\"type\":\"HelpTool\"},{\"id\":\"9648\",\"type\":\"HoverTool\"}]},\"id\":\"9649\",\"type\":\"Toolbar\"},{\"attributes\":{\"children\":[{\"id\":\"9619\",\"subtype\":\"Figure\",\"type\":\"Plot\"},{\"id\":\"9678\",\"subtype\":\"Figure\",\"type\":\"Plot\"}]},\"id\":\"9737\",\"type\":\"Row\"},{\"attributes\":{\"click_policy\":\"hide\",\"items\":[{\"id\":\"9676\",\"type\":\"LegendItem\"}],\"location\":[0,0],\"orientation\":\"horizontal\"},\"id\":\"9675\",\"type\":\"Legend\"},{\"attributes\":{\"ticker\":{\"id\":\"9631\",\"type\":\"BasicTicker\"}},\"id\":\"9634\",\"type\":\"Grid\"},{\"attributes\":{\"bottom_units\":\"screen\",\"fill_alpha\":{\"value\":0.5},\"fill_color\":{\"value\":\"lightgrey\"},\"left_units\":\"screen\",\"level\":\"overlay\",\"line_alpha\":{\"value\":1.0},\"line_color\":{\"value\":\"black\"},\"line_dash\":[4,4],\"line_width\":{\"value\":2},\"render_mode\":\"css\",\"right_units\":\"screen\",\"top_units\":\"screen\"},\"id\":\"9670\",\"type\":\"BoxAnnotation\"},{\"attributes\":{\"text\":\"n_del\",\"text_font_size\":{\"value\":\"16pt\"}},\"id\":\"9620\",\"type\":\"Title\"},{\"attributes\":{},\"id\":\"9640\",\"type\":\"SaveTool\"},{\"attributes\":{},\"id\":\"9690\",\"type\":\"BasicTicker\"},{\"attributes\":{\"label\":{\"value\":\"40eedd2d\"},\"renderers\":[{\"id\":\"9664\",\"type\":\"GlyphRenderer\"}]},\"id\":\"9676\",\"type\":\"LegendItem\"},{\"attributes\":{\"booleans\":[true,true,true,true,true,true,true,true,true,true,true,true,true,true,true,true,true,true,true,true,true,true,true,true,true,true,true,true,true,true,true,true,true,true,true,true,true,true,true,true,true,true,true,true,true,true,true,true,true,true,true,true,true,true,true,true,true,true,true,true,true,true,true,true,true,true,true,true,true,true,true,true,true,true,true,true,true,true,true,true,true,true,true,true,true,true,true,true,true,true,true,true,true,true,true,true,true,true,true,true,true]},\"id\":\"9718\",\"type\":\"BooleanFilter\"},{\"attributes\":{\"text\":\"n_del, cumulative\",\"text_font_size\":{\"value\":\"16pt\"}},\"id\":\"9679\",\"type\":\"Title\"},{\"attributes\":{\"axis_label\":\"bin\",\"axis_label_text_font_size\":{\"value\":\"16pt\"},\"axis_label_text_font_style\":\"normal\",\"formatter\":{\"id\":\"9725\",\"type\":\"BasicTickFormatter\"},\"major_label_text_font_size\":{\"value\":\"14pt\"},\"ticker\":{\"id\":\"9690\",\"type\":\"BasicTicker\"}},\"id\":\"9689\",\"type\":\"LinearAxis\"},{\"attributes\":{},\"id\":\"9725\",\"type\":\"BasicTickFormatter\"},{\"attributes\":{\"filters\":[{\"id\":\"9659\",\"type\":\"BooleanFilter\"}],\"source\":{\"id\":\"9618\",\"type\":\"ColumnDataSource\"}},\"id\":\"9660\",\"type\":\"CDSView\"},{\"attributes\":{\"filters\":[{\"id\":\"9718\",\"type\":\"BooleanFilter\"}],\"source\":{\"id\":\"9618\",\"type\":\"ColumnDataSource\"}},\"id\":\"9719\",\"type\":\"CDSView\"},{\"attributes\":{\"above\":[{\"id\":\"9734\",\"type\":\"Legend\"},{\"id\":\"9736\",\"type\":\"Title\"}],\"below\":[{\"id\":\"9689\",\"type\":\"LinearAxis\"}],\"center\":[{\"id\":\"9693\",\"type\":\"Grid\"},{\"id\":\"9698\",\"type\":\"Grid\"}],\"left\":[{\"id\":\"9694\",\"type\":\"LinearAxis\"}],\"renderers\":[{\"id\":\"9723\",\"type\":\"GlyphRenderer\"}],\"title\":{\"id\":\"9679\",\"type\":\"Title\"},\"toolbar\":{\"id\":\"9708\",\"type\":\"Toolbar\"},\"x_range\":{\"id\":\"9616\",\"type\":\"DataRange1d\"},\"x_scale\":{\"id\":\"9685\",\"type\":\"LinearScale\"},\"y_range\":{\"id\":\"9617\",\"type\":\"DataRange1d\"},\"y_scale\":{\"id\":\"9687\",\"type\":\"LinearScale\"}},\"id\":\"9678\",\"subtype\":\"Figure\",\"type\":\"Plot\"},{\"attributes\":{\"bottom_units\":\"screen\",\"fill_alpha\":{\"value\":0.5},\"fill_color\":{\"value\":\"lightgrey\"},\"left_units\":\"screen\",\"level\":\"overlay\",\"line_alpha\":{\"value\":1.0},\"line_color\":{\"value\":\"black\"},\"line_dash\":[4,4],\"line_width\":{\"value\":2},\"render_mode\":\"css\",\"right_units\":\"screen\",\"top_units\":\"screen\"},\"id\":\"9671\",\"type\":\"BoxAnnotation\"},{\"attributes\":{\"fill_color\":{\"field\":\"_color\"},\"line_color\":{\"field\":\"_color\"},\"size\":{\"field\":\"_size\",\"units\":\"screen\"},\"x\":{\"field\":\"bin\"},\"y\":{\"field\":\"cumul\"}},\"id\":\"9721\",\"type\":\"Circle\"},{\"attributes\":{},\"id\":\"9644\",\"type\":\"WheelZoomTool\"},{\"attributes\":{\"booleans\":[true,true,true,true,true,true,true,true,true,true,true,true,true,true,true,true,true,true,true,true,true,true,true,true,true,true,true,true,true,true,true,true,true,true,true,true,true,true,true,true,true,true,true,true,true,true,true,true,true,true,true,true,true,true,true,true,true,true,true,true,true,true,true,true,true,true,true,true,true,true,true,true,true,true,true,true,true,true,true,true,true,true,true,true,true,true,true,true,true,true,true,true,true,true,true,true,true,true,true,true,true]},\"id\":\"9659\",\"type\":\"BooleanFilter\"},{\"attributes\":{\"child\":{\"id\":\"9738\",\"type\":\"Column\"},\"title\":\"All\"},\"id\":\"9739\",\"type\":\"Panel\"},{\"attributes\":{\"axis_label\":\"n_del\",\"axis_label_text_font_size\":{\"value\":\"16pt\"},\"axis_label_text_font_style\":\"normal\",\"formatter\":{\"id\":\"9727\",\"type\":\"BasicTickFormatter\"},\"major_label_text_font_size\":{\"value\":\"14pt\"},\"ticker\":{\"id\":\"9695\",\"type\":\"BasicTicker\"}},\"id\":\"9694\",\"type\":\"LinearAxis\"},{\"attributes\":{\"children\":[{\"id\":\"9737\",\"type\":\"Row\"}]},\"id\":\"9738\",\"type\":\"Column\"},{\"attributes\":{},\"id\":\"9687\",\"type\":\"LinearScale\"},{\"attributes\":{},\"id\":\"9643\",\"type\":\"ResetTool\"},{\"attributes\":{\"callback\":null,\"tooltips\":[[\"model\",\"@model\"],[\"bin\",\"@bin\"],[\"n_del\",\"@non_cumul\"],[\"min_score\",\"@min_score\"],[\"max_score\",\"@max_score\"],[\"n_data_points\",\"@_n\"],[\"n_del\",\"@n_del\"]]},\"id\":\"9648\",\"type\":\"HoverTool\"},{\"attributes\":{},\"id\":\"9631\",\"type\":\"BasicTicker\"},{\"attributes\":{},\"id\":\"9695\",\"type\":\"BasicTicker\"},{\"attributes\":{\"callback\":null,\"overlay\":{\"id\":\"9672\",\"type\":\"PolyAnnotation\"}},\"id\":\"9646\",\"type\":\"LassoSelectTool\"},{\"attributes\":{},\"id\":\"9685\",\"type\":\"LinearScale\"},{\"attributes\":{},\"id\":\"9636\",\"type\":\"BasicTicker\"},{\"attributes\":{\"data_source\":{\"id\":\"9618\",\"type\":\"ColumnDataSource\"},\"glyph\":{\"id\":\"9662\",\"type\":\"Circle\"},\"hover_glyph\":null,\"muted_glyph\":null,\"nonselection_glyph\":{\"id\":\"9663\",\"type\":\"Circle\"},\"selection_glyph\":null,\"view\":{\"id\":\"9660\",\"type\":\"CDSView\"}},\"id\":\"9664\",\"type\":\"GlyphRenderer\"},{\"attributes\":{},\"id\":\"9628\",\"type\":\"LinearScale\"},{\"attributes\":{\"ticker\":{\"id\":\"9690\",\"type\":\"BasicTicker\"}},\"id\":\"9693\",\"type\":\"Grid\"},{\"attributes\":{\"callback\":null,\"data\":{\"_color\":[\"blue\",\"blue\",\"blue\",\"blue\",\"blue\",\"blue\",\"blue\",\"blue\",\"blue\",\"blue\",\"blue\",\"blue\",\"blue\",\"blue\",\"blue\",\"blue\",\"blue\",\"blue\",\"blue\",\"blue\",\"blue\",\"blue\",\"blue\",\"blue\",\"blue\",\"blue\",\"blue\",\"blue\",\"blue\",\"blue\",\"blue\",\"blue\",\"blue\",\"blue\",\"blue\",\"blue\",\"blue\",\"blue\",\"blue\",\"blue\",\"blue\",\"blue\",\"blue\",\"blue\",\"blue\",\"blue\",\"blue\",\"blue\",\"blue\",\"blue\",\"blue\",\"blue\",\"blue\",\"blue\",\"blue\",\"blue\",\"blue\",\"blue\",\"blue\",\"blue\",\"blue\",\"blue\",\"blue\",\"blue\",\"blue\",\"blue\",\"blue\",\"blue\",\"blue\",\"blue\",\"blue\",\"blue\",\"blue\",\"blue\",\"blue\",\"blue\",\"blue\",\"blue\",\"blue\",\"blue\",\"blue\",\"blue\",\"blue\",\"blue\",\"blue\",\"blue\",\"blue\",\"blue\",\"blue\",\"blue\",\"blue\",\"blue\",\"blue\",\"blue\",\"blue\",\"blue\",\"blue\",\"blue\",\"blue\",\"blue\",\"blue\"],\"_n\":[2067,2642,2501,204,740,1827,556,1098,126,1555,1431,2506,2187,2149,2394,1852,1915,1934,2340,1720,1965,2007,2449,651,370,2135,2233,2222,2403,2276,1611,1631,2234,1837,2528,2011,1461,666,1193,2581,1927,2158,1586,1677,2439,2571,1190,2401,1851,2192,2233,917,1526,1668,764,1000,1820,2076,1305,313,543,1559,891,2241,898,1991,1767,1659,1235,1855,1127,1394,558,1212,1129,1432,1328,1465,1409,1430,1097,1144,1302,1521,726,1548,1570,1549,1201,1042,1089,1336,1129,1763,1385,950,1414,808,1296,726,6],\"_size\":{\"__ndarray__\":\"CgJMrEKJEkDjOA9L1fQUQAaO96O2YxRAHvnCSABL9z/v2pHUhi4GQPD9zaVGbRFA8ojsQC06A0BLQpQRDQULQFEB/JZaTvI/PjoAns4TEEDdArw3l9gOQKALma/taBRAFAiziA8RE0AL0Dc8eOYSQDRTWvLV8hNAKAfYC7KLEUAro55IdNcRQFLEsoMO7hFAeyYiTem4E0BdkvNlqugQQJf8MoayEhJA8a+HreFDEkDmx9dDKi0UQEgAXbQczgRAeLIiQqZe/z8mKzH1rtYSQAqiz0sgRBNAicJvi/Y3E0D/ge0QbfwTQAgPsUFjcxNAl3FFOkNdEECFmh+/L3cQQERW2Ps6RRNAoJIt9nd5EUBZ1esf0H8UQMzzTu+JSBJAqOogUu8qD0D+h3GYHwsFQAfak0MUKgxAU0i10Im2FECjsfAQvuURQAPET0CX8BJARZYUYKE8EEBuXt7+NrIQQIt/y92bIhRAMtLSkEGsFEADuz8KAiEMQJ+Hw+FL+hNAOz4tkHuKEUAhmZgaoxYTQAqiz0sgRBNAyglPokWxCEBjncXAftoPQIEykOm6phBA9952SuCJBkA7S/I2J8kJQPPeeqS4ZBFAEuxSeZSTEkDGL3PH7nQNQDHC5ys32vw/5qA+AUsAA0DNMVjrGBkQQEmeJVkDVwhAfgA6B/RME0DSkKMRcW8IQFkDObo0MRJAG3Mfn2gjEUCfZfHiNpsQQNOJXenlpwxA6MYt/lSPEUAmUfMWzV8LQBjhS7fVcQ5ASS+SiwVDA0Bx88NeRGMMQIsY3DcEZgtAFQCZbVnbDkBNrJtbGLcNQLI7KpbZNQ9A1NS/r6ebDkAR6rDC1NUOQDUXkobmAQtARIRNCXWUC0A/YK6PQmwNQLQwqvkfzQ9AlmXS7I34BUBmuu1jiAoQQJh3Q1GcJxBAloHP5NsLEECrMA+gNkIMQEWFiwRaUgpA+3fy5qToCkAfsipD+c0NQIsY3DcEZgtAf5LWnnAeEUBTk2R4olgOQGOvtBwCIglAMK0Oq4upDkA6BRDfsi0HQFdUTnDiWg1AlmXS7I34BUAAAAAAAADwPw==\",\"dtype\":\"float64\",\"shape\":[101]},\"bin\":[1,2,3,4,5,6,7,8,9,10,11,12,13,14,15,16,17,18,19,20,21,22,23,24,25,26,27,28,29,30,31,32,33,34,35,36,37,38,39,40,41,42,43,44,45,46,47,48,49,50,51,52,53,54,55,56,57,58,59,60,61,62,63,64,65,66,67,68,69,70,71,72,73,74,75,76,77,78,79,80,81,82,83,84,85,86,87,88,89,90,91,92,93,94,95,96,97,98,99,100,101],\"cumul\":[2067,4709,7210,7414,8154,9981,10537,11635,11761,13316,14747,17253,19440,21589,23983,25835,27750,29684,32024,33744,35709,37716,40165,40816,41186,43321,45554,47776,50179,52455,54066,55697,57931,59768,62296,64307,65768,66434,67627,70208,72135,74293,75879,77556,79995,82566,83756,86157,88008,90200,92433,93350,94876,96544,97308,98308,100128,102204,103509,103822,104365,105924,106815,109056,109954,111945,113712,115371,116606,118461,119588,120982,121540,122752,123881,125313,126641,128106,129515,130945,132042,133186,134488,136009,136735,138283,139853,141402,142603,143645,144734,146070,147199,148962,150347,151297,152711,153519,154815,155541,155547],\"index\":[0,1,2,3,4,5,6,7,8,9,10,11,12,13,14,15,16,17,18,19,20,21,22,23,24,25,26,27,28,29,30,31,32,33,34,35,36,37,38,39,40,41,42,43,44,45,46,47,48,49,50,51,52,53,54,55,56,57,58,59,60,61,62,63,64,65,66,67,68,69,70,71,72,73,74,75,76,77,78,79,80,81,82,83,84,85,86,87,88,89,90,91,92,93,94,95,96,97,98,99,100],\"max_score\":{\"__ndarray__\":\"YFDVnTIHlT9gUNWdMgeVP6AsOQhBD5U/oFfA6E8klT8AIfaRCDeVPyAo4dwlVJU/oJULG+b0lT8gSZySMjaWP8A2bKTKXJY/QDhJ4Yx1lj9A1NsBPJyWP0B/3ZMDupY/4JipA5Nklz+giBk9by2YP0ASjfLCbJg/IAZzrLCymz8A5HPHp+mbP2DUS80AFJw/oDUiVBElnD9AQcSlfyqcP2A3E1PlQpw/IAZDSOdUnD8gAP6mnlecPwB7ki8fg5w/4EHVx4sDnT/gEbA9x2SdP4CQrSs9ep0/YOLQMZ2UnT+g20Nh+KKdP2CQjZvy8J0/IJSj7G1lnj8A1RpA6qeeP2CHbqQ7QJ8/gJ/BNunknz/wFEhPEQGgPyAuew81P6A/AN6jBWexoD9gQpMRseOhPzDqNR6gXKI/YCIZQqCDoj9Q7xC2OTWjP/DnGZcsEqQ/0EH5dv0QpT+Q1uHGGBCmP+Af9WDrOKc/UC9LyyJqpz9ANr2+p+qnP1BRBI3kaqg/oIlcxvDjqD/Avw9tFXmpP4Bvv3zC96k/4PyFGFy4qj/QmBuvSTKrP9BEkA1j8qs/0NdVT4I9rT/QadZ4IVCvP8gWy1WRd7A/ABkhrofksD8oFnt+TeSxP7Bv6r7qlrI/KNf6PnxIsz+QpEXLXSu0Pwj/awUw3rQ/oH97vZQTtT+ILF/qQpO1P1jFafDBK7Y/8GTztW0Qtz9QqVMBP6K4P8Are4Jf0ro/yAq9yCRkvD9AUD/xQF29PwAv+bgLAb4/eHYGTvIAvz/kU4VzaIjAPwQoklro8cE/HB/8uH61wz/Yg7IIQpnFP3zI+O2lccc/wBDCDEgnyT8MGEAdAobMP8reZYhL6dU/8hWb/Kn32T9MkNvXIZ3ePzGrmEJ48Ow/QIMzsoFC7T+w3z6yQJftPwBN4GOov+0/GrHXZOft7T9nkxeBCQzuP4mJ7wzpL+4/Yj71C+9R7j96uCJOv2zuP38sGc+Mf+4/eSGgEKGW7j/75JoYJazuP1HGtz21ve4/5JWTCH3U7j+GKO05PvDuP0aAE7HNGu8/ALogkJVd7z9rpXA1e3DvPw==\",\"dtype\":\"float64\",\"shape\":[101]},\"min_score\":{\"__ndarray__\":\"QHa+srTNlD9gUNWdMgeVP2BQ1Z0yB5U/oCw5CEEPlT+gV8DoTySVPwAh9pEIN5U/ICjh3CVUlT/gdVQJY/qVPyBJnJIyNpY/wDZspMpclj9AOEnhjHWWP0DU2wE8nJY/QH/dkwO6lj/gmKkDk2SXP6CIGT1vLZg/QBKN8sJsmD8gBnOssLKbPwDkc8en6Zs/YNRLzQAUnD+gNSJUESWcP0BBxKV/Kpw/YDcTU+VCnD8gBkNI51ScPyAA/qaeV5w/AHuSLx+DnD/gQdXHiwOdP+ARsD3HZJ0/gJCtKz16nT9g4tAxnZSdP6DbQ2H4op0/YJCNm/LwnT8glKPsbWWePwDVGkDqp54/YIdupDtAnz+An8E26eSfP/AUSE8RAaA/IC57DzU/oD8A3qMFZ7GgP2BCkxGx46E/MOo1HqBcoj9gIhlCoIOiP1DvELY5NaM/8OcZlywSpD8wP+9PlhOlP5DW4cYYEKY/4B/1YOs4pz9QL0vLImqnP0A2vb6n6qc/UFEEjeRqqD+giVzG8OOoP8C/D20Veak/QKgadu/7qT/g/IUYXLiqP9CYG69JMqs/0ESQDWPyqz/Q11VPgj2tP2D9dNfWU68/yBbLVZF3sD8AGSGuh+SwPygWe35N5LE/uBKX0DuXsj8o1/o+fEizP5CkRctdK7Q/CP9rBTDetD+gf3u9lBO1P4gsX+pCk7U/WMVp8MErtj/wZPO1bRC3P1B0Linzorg/wCt7gl/Suj/ICr3IJGS8P0BQP/FAXb0/AC/5uAsBvj94dgZO8gC/P+RThXNoiMA/BCiSWujxwT8cH/y4frXDP+S5ydRTm8U/fMj47aVxxz/AEMIMSCfJPwwYQB0Chsw/zmxKV6Pp1T/yFZv8qffZP+4YYnO1nd4/MauYQnjw7D9AgzOygULtP7DfPrJAl+0/AE3gY6i/7T8asddk5+3tP2eTF4EJDO4/iYnvDOkv7j+p8oPN/1HuP3q4Ik6/bO4/fywZz4x/7j95IaAQoZbuP/vkmhglrO4/Uca3PbW97j9MT7ieqNTuP4Yo7Tk+8O4/RoATsc0a7z8AuiCQlV3vPw==\",\"dtype\":\"float64\",\"shape\":[101]},\"model\":[\"40eedd2d\",\"40eedd2d\",\"40eedd2d\",\"40eedd2d\",\"40eedd2d\",\"40eedd2d\",\"40eedd2d\",\"40eedd2d\",\"40eedd2d\",\"40eedd2d\",\"40eedd2d\",\"40eedd2d\",\"40eedd2d\",\"40eedd2d\",\"40eedd2d\",\"40eedd2d\",\"40eedd2d\",\"40eedd2d\",\"40eedd2d\",\"40eedd2d\",\"40eedd2d\",\"40eedd2d\",\"40eedd2d\",\"40eedd2d\",\"40eedd2d\",\"40eedd2d\",\"40eedd2d\",\"40eedd2d\",\"40eedd2d\",\"40eedd2d\",\"40eedd2d\",\"40eedd2d\",\"40eedd2d\",\"40eedd2d\",\"40eedd2d\",\"40eedd2d\",\"40eedd2d\",\"40eedd2d\",\"40eedd2d\",\"40eedd2d\",\"40eedd2d\",\"40eedd2d\",\"40eedd2d\",\"40eedd2d\",\"40eedd2d\",\"40eedd2d\",\"40eedd2d\",\"40eedd2d\",\"40eedd2d\",\"40eedd2d\",\"40eedd2d\",\"40eedd2d\",\"40eedd2d\",\"40eedd2d\",\"40eedd2d\",\"40eedd2d\",\"40eedd2d\",\"40eedd2d\",\"40eedd2d\",\"40eedd2d\",\"40eedd2d\",\"40eedd2d\",\"40eedd2d\",\"40eedd2d\",\"40eedd2d\",\"40eedd2d\",\"40eedd2d\",\"40eedd2d\",\"40eedd2d\",\"40eedd2d\",\"40eedd2d\",\"40eedd2d\",\"40eedd2d\",\"40eedd2d\",\"40eedd2d\",\"40eedd2d\",\"40eedd2d\",\"40eedd2d\",\"40eedd2d\",\"40eedd2d\",\"40eedd2d\",\"40eedd2d\",\"40eedd2d\",\"40eedd2d\",\"40eedd2d\",\"40eedd2d\",\"40eedd2d\",\"40eedd2d\",\"40eedd2d\",\"40eedd2d\",\"40eedd2d\",\"40eedd2d\",\"40eedd2d\",\"40eedd2d\",\"40eedd2d\",\"40eedd2d\",\"40eedd2d\",\"40eedd2d\",\"40eedd2d\",\"40eedd2d\",\"40eedd2d\"],\"n_del\":[2067,2642,2501,204,740,1827,556,1098,126,1555,1431,2506,2187,2149,2394,1852,1915,1934,2340,1720,1965,2007,2449,651,370,2135,2233,2222,2403,2276,1611,1631,2234,1837,2528,2011,1461,666,1193,2581,1927,2158,1586,1677,2439,2571,1190,2401,1851,2192,2233,917,1526,1668,764,1000,1820,2076,1305,313,543,1559,891,2241,898,1991,1767,1659,1235,1855,1127,1394,558,1212,1129,1432,1328,1465,1409,1430,1097,1144,1302,1521,726,1548,1570,1549,1201,1042,1089,1336,1129,1763,1385,950,1414,808,1296,726,6],\"n_del_cumul\":[2067,4709,7210,7414,8154,9981,10537,11635,11761,13316,14747,17253,19440,21589,23983,25835,27750,29684,32024,33744,35709,37716,40165,40816,41186,43321,45554,47776,50179,52455,54066,55697,57931,59768,62296,64307,65768,66434,67627,70208,72135,74293,75879,77556,79995,82566,83756,86157,88008,90200,92433,93350,94876,96544,97308,98308,100128,102204,103509,103822,104365,105924,106815,109056,109954,111945,113712,115371,116606,118461,119588,120982,121540,122752,123881,125313,126641,128106,129515,130945,132042,133186,134488,136009,136735,138283,139853,141402,142603,143645,144734,146070,147199,148962,150347,151297,152711,153519,154815,155541,155547],\"non_cumul\":[2067,2642,2501,204,740,1827,556,1098,126,1555,1431,2506,2187,2149,2394,1852,1915,1934,2340,1720,1965,2007,2449,651,370,2135,2233,2222,2403,2276,1611,1631,2234,1837,2528,2011,1461,666,1193,2581,1927,2158,1586,1677,2439,2571,1190,2401,1851,2192,2233,917,1526,1668,764,1000,1820,2076,1305,313,543,1559,891,2241,898,1991,1767,1659,1235,1855,1127,1394,558,1212,1129,1432,1328,1465,1409,1430,1097,1144,1302,1521,726,1548,1570,1549,1201,1042,1089,1336,1129,1763,1385,950,1414,808,1296,726,6]},\"selected\":{\"id\":\"9673\",\"type\":\"Selection\"},\"selection_policy\":{\"id\":\"9674\",\"type\":\"UnionRenderers\"}},\"id\":\"9618\",\"type\":\"ColumnDataSource\"},{\"attributes\":{\"axis_label\":\"bin\",\"axis_label_text_font_size\":{\"value\":\"16pt\"},\"axis_label_text_font_style\":\"normal\",\"formatter\":{\"id\":\"9666\",\"type\":\"BasicTickFormatter\"},\"major_label_text_font_size\":{\"value\":\"14pt\"},\"ticker\":{\"id\":\"9631\",\"type\":\"BasicTicker\"}},\"id\":\"9630\",\"type\":\"LinearAxis\"},{\"attributes\":{\"fill_color\":{\"field\":\"_color\"},\"line_color\":{\"field\":\"_color\"},\"size\":{\"field\":\"_size\",\"units\":\"screen\"},\"x\":{\"field\":\"bin\"},\"y\":{\"field\":\"non_cumul\"}},\"id\":\"9662\",\"type\":\"Circle\"},{\"attributes\":{},\"id\":\"9727\",\"type\":\"BasicTickFormatter\"},{\"attributes\":{\"axis_label\":\"n_del\",\"axis_label_text_font_size\":{\"value\":\"16pt\"},\"axis_label_text_font_style\":\"normal\",\"formatter\":{\"id\":\"9668\",\"type\":\"BasicTickFormatter\"},\"major_label_text_font_size\":{\"value\":\"14pt\"},\"ticker\":{\"id\":\"9636\",\"type\":\"BasicTicker\"}},\"id\":\"9635\",\"type\":\"LinearAxis\"},{\"attributes\":{},\"id\":\"9626\",\"type\":\"LinearScale\"},{\"attributes\":{\"dimension\":1,\"ticker\":{\"id\":\"9695\",\"type\":\"BasicTicker\"}},\"id\":\"9698\",\"type\":\"Grid\"},{\"attributes\":{},\"id\":\"9647\",\"type\":\"HelpTool\"},{\"attributes\":{\"fill_alpha\":{\"value\":0.1},\"fill_color\":{\"value\":\"#1f77b4\"},\"line_alpha\":{\"value\":0.1},\"line_color\":{\"value\":\"#1f77b4\"},\"size\":{\"field\":\"_size\",\"units\":\"screen\"},\"x\":{\"field\":\"bin\"},\"y\":{\"field\":\"non_cumul\"}},\"id\":\"9663\",\"type\":\"Circle\"},{\"attributes\":{\"callback\":null,\"overlay\":{\"id\":\"9671\",\"type\":\"BoxAnnotation\"}},\"id\":\"9645\",\"type\":\"BoxSelectTool\"},{\"attributes\":{\"fill_alpha\":{\"value\":0.5},\"fill_color\":{\"value\":\"lightgrey\"},\"level\":\"overlay\",\"line_alpha\":{\"value\":1.0},\"line_color\":{\"value\":\"black\"},\"line_dash\":[4,4],\"line_width\":{\"value\":2},\"xs_units\":\"screen\",\"ys_units\":\"screen\"},\"id\":\"9731\",\"type\":\"PolyAnnotation\"}],\"root_ids\":[\"9740\"]},\"title\":\"Bokeh Application\",\"version\":\"1.4.0\"}};\n",
       "  var render_items = [{\"docid\":\"a1cf1d1c-bd7c-48a7-ba4e-8d96ae7e837a\",\"roots\":{\"9740\":\"729f0ebc-8a80-44dc-b1c0-c5826b2ff7e0\"}}];\n",
       "  root.Bokeh.embed.embed_items_notebook(docs_json, render_items);\n",
       "\n",
       "  }\n",
       "  if (root.Bokeh !== undefined) {\n",
       "    embed_document(root);\n",
       "  } else {\n",
       "    var attempts = 0;\n",
       "    var timer = setInterval(function(root) {\n",
       "      if (root.Bokeh !== undefined) {\n",
       "        clearInterval(timer);\n",
       "        embed_document(root);\n",
       "      } else {\n",
       "        attempts++;\n",
       "        if (attempts > 100) {\n",
       "          clearInterval(timer);\n",
       "          console.log(\"Bokeh: ERROR: Unable to run BokehJS code because BokehJS library is missing\");\n",
       "        }\n",
       "      }\n",
       "    }, 10, root)\n",
       "  }\n",
       "})(window);"
      ],
      "application/vnd.bokehjs_exec.v0+json": ""
     },
     "metadata": {
      "application/vnd.bokehjs_exec.v0+json": {
       "id": "9740"
      }
     },
     "output_type": "display_data"
    },
    {
     "name": "stdout",
     "output_type": "stream",
     "text": [
      "\n"
     ]
    }
   ],
   "source": [
    "#deletions\n",
    "tabs = plot_metric(indels, 'n_del', ['n_del'], y_fun=lambda x: x[0], plot_bi_allelics=False, plot_singletons=False, plot_bi_allelic_singletons=False, colors=colors, )\n",
    "show(tabs)"
   ]
  },
  {
   "cell_type": "code",
   "execution_count": 37,
   "id": "96ca314d",
   "metadata": {},
   "outputs": [
    {
     "data": {
      "text/html": [
       "\n",
       "\n",
       "\n",
       "\n",
       "\n",
       "\n",
       "  <div class=\"bk-root\" id=\"3f78a443-97c6-4719-9183-1d7d9b221a4d\" data-root-id=\"10591\"></div>\n"
      ]
     },
     "metadata": {},
     "output_type": "display_data"
    },
    {
     "data": {
      "application/javascript": [
       "(function(root) {\n",
       "  function embed_document(root) {\n",
       "    \n",
       "  var docs_json = {\"2a19cdca-7c63-4f2f-9905-23c5f4124add\":{\"roots\":{\"references\":[{\"attributes\":{\"callback\":null,\"tabs\":[{\"id\":\"10590\",\"type\":\"Panel\"}]},\"id\":\"10591\",\"type\":\"Tabs\"},{\"attributes\":{},\"id\":\"10494\",\"type\":\"ResetTool\"},{\"attributes\":{\"text\":\"All variants\",\"text_font_size\":{\"value\":\"14pt\"}},\"id\":\"10587\",\"type\":\"Title\"},{\"attributes\":{},\"id\":\"10517\",\"type\":\"BasicTickFormatter\"},{\"attributes\":{\"fill_alpha\":{\"value\":0.5},\"fill_color\":{\"value\":\"lightgrey\"},\"level\":\"overlay\",\"line_alpha\":{\"value\":1.0},\"line_color\":{\"value\":\"black\"},\"line_dash\":[4,4],\"line_width\":{\"value\":2},\"xs_units\":\"screen\",\"ys_units\":\"screen\"},\"id\":\"10523\",\"type\":\"PolyAnnotation\"},{\"attributes\":{},\"id\":\"10536\",\"type\":\"LinearScale\"},{\"attributes\":{\"axis_label\":\"bin\",\"axis_label_text_font_size\":{\"value\":\"16pt\"},\"axis_label_text_font_style\":\"normal\",\"formatter\":{\"id\":\"10576\",\"type\":\"BasicTickFormatter\"},\"major_label_text_font_size\":{\"value\":\"14pt\"},\"ticker\":{\"id\":\"10541\",\"type\":\"BasicTicker\"}},\"id\":\"10540\",\"type\":\"LinearAxis\"},{\"attributes\":{\"child\":{\"id\":\"10589\",\"type\":\"Column\"},\"title\":\"All\"},\"id\":\"10590\",\"type\":\"Panel\"},{\"attributes\":{\"callback\":null},\"id\":\"10468\",\"type\":\"DataRange1d\"},{\"attributes\":{},\"id\":\"10546\",\"type\":\"BasicTicker\"},{\"attributes\":{\"overlay\":{\"id\":\"10521\",\"type\":\"BoxAnnotation\"}},\"id\":\"10493\",\"type\":\"BoxZoomTool\"},{\"attributes\":{},\"id\":\"10538\",\"type\":\"LinearScale\"},{\"attributes\":{\"axis_label\":\"Ti/Tv ratio\",\"axis_label_text_font_size\":{\"value\":\"16pt\"},\"axis_label_text_font_style\":\"normal\",\"formatter\":{\"id\":\"10578\",\"type\":\"BasicTickFormatter\"},\"major_label_text_font_size\":{\"value\":\"14pt\"},\"ticker\":{\"id\":\"10546\",\"type\":\"BasicTicker\"}},\"id\":\"10545\",\"type\":\"LinearAxis\"},{\"attributes\":{},\"id\":\"10541\",\"type\":\"BasicTicker\"},{\"attributes\":{\"children\":[{\"id\":\"10588\",\"type\":\"Row\"}]},\"id\":\"10589\",\"type\":\"Column\"},{\"attributes\":{\"ticker\":{\"id\":\"10541\",\"type\":\"BasicTicker\"}},\"id\":\"10544\",\"type\":\"Grid\"},{\"attributes\":{\"text\":\"All variants\",\"text_font_size\":{\"value\":\"14pt\"}},\"id\":\"10528\",\"type\":\"Title\"},{\"attributes\":{\"overlay\":{\"id\":\"10580\",\"type\":\"BoxAnnotation\"}},\"id\":\"10552\",\"type\":\"BoxZoomTool\"},{\"attributes\":{\"above\":[{\"id\":\"10526\",\"type\":\"Legend\"},{\"id\":\"10528\",\"type\":\"Title\"}],\"below\":[{\"id\":\"10481\",\"type\":\"LinearAxis\"}],\"center\":[{\"id\":\"10485\",\"type\":\"Grid\"},{\"id\":\"10490\",\"type\":\"Grid\"}],\"left\":[{\"id\":\"10486\",\"type\":\"LinearAxis\"}],\"renderers\":[{\"id\":\"10515\",\"type\":\"GlyphRenderer\"}],\"title\":{\"id\":\"10471\",\"type\":\"Title\"},\"toolbar\":{\"id\":\"10500\",\"type\":\"Toolbar\"},\"x_range\":{\"id\":\"10467\",\"type\":\"DataRange1d\"},\"x_scale\":{\"id\":\"10477\",\"type\":\"LinearScale\"},\"y_range\":{\"id\":\"10468\",\"type\":\"DataRange1d\"},\"y_scale\":{\"id\":\"10479\",\"type\":\"LinearScale\"}},\"id\":\"10470\",\"subtype\":\"Figure\",\"type\":\"Plot\"},{\"attributes\":{\"data_source\":{\"id\":\"10469\",\"type\":\"ColumnDataSource\"},\"glyph\":{\"id\":\"10513\",\"type\":\"Circle\"},\"hover_glyph\":null,\"muted_glyph\":null,\"nonselection_glyph\":{\"id\":\"10514\",\"type\":\"Circle\"},\"selection_glyph\":null,\"view\":{\"id\":\"10511\",\"type\":\"CDSView\"}},\"id\":\"10515\",\"type\":\"GlyphRenderer\"},{\"attributes\":{},\"id\":\"10578\",\"type\":\"BasicTickFormatter\"},{\"attributes\":{\"dimension\":1,\"ticker\":{\"id\":\"10546\",\"type\":\"BasicTicker\"}},\"id\":\"10549\",\"type\":\"Grid\"},{\"attributes\":{},\"id\":\"10492\",\"type\":\"PanTool\"},{\"attributes\":{},\"id\":\"10477\",\"type\":\"LinearScale\"},{\"attributes\":{\"callback\":null,\"tooltips\":[[\"model\",\"@model\"],[\"bin\",\"@bin\"],[\"Ti/Tv ratio\",\"@non_cumul\"],[\"min_score\",\"@min_score\"],[\"max_score\",\"@max_score\"],[\"n_data_points\",\"@_n\"],[\"n_ti\",\"@n_ti\"],[\"n_tv\",\"@n_tv\"]]},\"id\":\"10499\",\"type\":\"HoverTool\"},{\"attributes\":{},\"id\":\"10551\",\"type\":\"PanTool\"},{\"attributes\":{\"active_drag\":\"auto\",\"active_inspect\":\"auto\",\"active_multi\":null,\"active_scroll\":\"auto\",\"active_tap\":\"auto\",\"tools\":[{\"id\":\"10550\",\"type\":\"SaveTool\"},{\"id\":\"10551\",\"type\":\"PanTool\"},{\"id\":\"10552\",\"type\":\"BoxZoomTool\"},{\"id\":\"10553\",\"type\":\"ResetTool\"},{\"id\":\"10554\",\"type\":\"WheelZoomTool\"},{\"id\":\"10555\",\"type\":\"BoxSelectTool\"},{\"id\":\"10556\",\"type\":\"LassoSelectTool\"},{\"id\":\"10557\",\"type\":\"HelpTool\"},{\"id\":\"10558\",\"type\":\"HoverTool\"}]},\"id\":\"10559\",\"type\":\"Toolbar\"},{\"attributes\":{},\"id\":\"10495\",\"type\":\"WheelZoomTool\"},{\"attributes\":{},\"id\":\"10550\",\"type\":\"SaveTool\"},{\"attributes\":{\"fill_color\":{\"field\":\"_color\"},\"line_color\":{\"field\":\"_color\"},\"size\":{\"field\":\"_size\",\"units\":\"screen\"},\"x\":{\"field\":\"bin\"},\"y\":{\"field\":\"cumul\"}},\"id\":\"10572\",\"type\":\"Circle\"},{\"attributes\":{\"callback\":null,\"tooltips\":[[\"model\",\"@model\"],[\"bin\",\"@bin\"],[\"Ti/Tv ratio\",\"@cumul\"],[\"min_score\",\"@min_score\"],[\"max_score\",\"@max_score\"],[\"n_data_points\",\"@_n\"],[\"n_ti\",\"@n_ti\"],[\"n_tv\",\"@n_tv\"]]},\"id\":\"10558\",\"type\":\"HoverTool\"},{\"attributes\":{\"filters\":[{\"id\":\"10510\",\"type\":\"BooleanFilter\"}],\"source\":{\"id\":\"10469\",\"type\":\"ColumnDataSource\"}},\"id\":\"10511\",\"type\":\"CDSView\"},{\"attributes\":{},\"id\":\"10557\",\"type\":\"HelpTool\"},{\"attributes\":{\"booleans\":[true,true,true,true,true,true,true,true,true,true,true,true,true,true,true,true,true,true,true,true,true,true,true,true,true,true,true,true,true,true,true,true,true,true,true,true,true,true,true,true,true,true,true,true,true,true,true,true,true,true,true,true,true,true,true,true,true,true,true,true,true,true,true,true,true,true,true,true,true,true,true,true,true,true,true,true,true,true,true,true,true,true,true,true,true,true,true,true,true,true,true,true,true,true,true,true,true,true,true,true,true]},\"id\":\"10510\",\"type\":\"BooleanFilter\"},{\"attributes\":{},\"id\":\"10554\",\"type\":\"WheelZoomTool\"},{\"attributes\":{\"fill_alpha\":{\"value\":0.1},\"fill_color\":{\"value\":\"#1f77b4\"},\"line_alpha\":{\"value\":0.1},\"line_color\":{\"value\":\"#1f77b4\"},\"size\":{\"field\":\"_size\",\"units\":\"screen\"},\"x\":{\"field\":\"bin\"},\"y\":{\"field\":\"non_cumul\"}},\"id\":\"10514\",\"type\":\"Circle\"},{\"attributes\":{},\"id\":\"10524\",\"type\":\"Selection\"},{\"attributes\":{\"callback\":null,\"overlay\":{\"id\":\"10581\",\"type\":\"BoxAnnotation\"}},\"id\":\"10555\",\"type\":\"BoxSelectTool\"},{\"attributes\":{\"label\":{\"value\":\"40eedd2d\"},\"renderers\":[{\"id\":\"10574\",\"type\":\"GlyphRenderer\"}]},\"id\":\"10586\",\"type\":\"LegendItem\"},{\"attributes\":{},\"id\":\"10525\",\"type\":\"UnionRenderers\"},{\"attributes\":{\"callback\":null,\"overlay\":{\"id\":\"10582\",\"type\":\"PolyAnnotation\"}},\"id\":\"10556\",\"type\":\"LassoSelectTool\"},{\"attributes\":{},\"id\":\"10553\",\"type\":\"ResetTool\"},{\"attributes\":{},\"id\":\"10479\",\"type\":\"LinearScale\"},{\"attributes\":{},\"id\":\"10519\",\"type\":\"BasicTickFormatter\"},{\"attributes\":{\"fill_alpha\":{\"value\":0.1},\"fill_color\":{\"value\":\"#1f77b4\"},\"line_alpha\":{\"value\":0.1},\"line_color\":{\"value\":\"#1f77b4\"},\"size\":{\"field\":\"_size\",\"units\":\"screen\"},\"x\":{\"field\":\"bin\"},\"y\":{\"field\":\"cumul\"}},\"id\":\"10573\",\"type\":\"Circle\"},{\"attributes\":{\"callback\":null,\"overlay\":{\"id\":\"10522\",\"type\":\"BoxAnnotation\"}},\"id\":\"10496\",\"type\":\"BoxSelectTool\"},{\"attributes\":{\"bottom_units\":\"screen\",\"fill_alpha\":{\"value\":0.5},\"fill_color\":{\"value\":\"lightgrey\"},\"left_units\":\"screen\",\"level\":\"overlay\",\"line_alpha\":{\"value\":1.0},\"line_color\":{\"value\":\"black\"},\"line_dash\":[4,4],\"line_width\":{\"value\":2},\"render_mode\":\"css\",\"right_units\":\"screen\",\"top_units\":\"screen\"},\"id\":\"10580\",\"type\":\"BoxAnnotation\"},{\"attributes\":{\"children\":[{\"id\":\"10470\",\"subtype\":\"Figure\",\"type\":\"Plot\"},{\"id\":\"10529\",\"subtype\":\"Figure\",\"type\":\"Plot\"}]},\"id\":\"10588\",\"type\":\"Row\"},{\"attributes\":{\"click_policy\":\"hide\",\"items\":[{\"id\":\"10527\",\"type\":\"LegendItem\"}],\"location\":[0,0],\"orientation\":\"horizontal\"},\"id\":\"10526\",\"type\":\"Legend\"},{\"attributes\":{\"text\":\"Ti/Tv ratio\",\"text_font_size\":{\"value\":\"16pt\"}},\"id\":\"10471\",\"type\":\"Title\"},{\"attributes\":{\"click_policy\":\"hide\",\"items\":[{\"id\":\"10586\",\"type\":\"LegendItem\"}],\"location\":[0,0],\"orientation\":\"horizontal\"},\"id\":\"10585\",\"type\":\"Legend\"},{\"attributes\":{\"fill_color\":{\"field\":\"_color\"},\"line_color\":{\"field\":\"_color\"},\"size\":{\"field\":\"_size\",\"units\":\"screen\"},\"x\":{\"field\":\"bin\"},\"y\":{\"field\":\"non_cumul\"}},\"id\":\"10513\",\"type\":\"Circle\"},{\"attributes\":{\"data_source\":{\"id\":\"10469\",\"type\":\"ColumnDataSource\"},\"glyph\":{\"id\":\"10572\",\"type\":\"Circle\"},\"hover_glyph\":null,\"muted_glyph\":null,\"nonselection_glyph\":{\"id\":\"10573\",\"type\":\"Circle\"},\"selection_glyph\":null,\"view\":{\"id\":\"10570\",\"type\":\"CDSView\"}},\"id\":\"10574\",\"type\":\"GlyphRenderer\"},{\"attributes\":{\"callback\":null},\"id\":\"10467\",\"type\":\"DataRange1d\"},{\"attributes\":{},\"id\":\"10482\",\"type\":\"BasicTicker\"},{\"attributes\":{\"callback\":null,\"data\":{\"_color\":[\"blue\",\"blue\",\"blue\",\"blue\",\"blue\",\"blue\",\"blue\",\"blue\",\"blue\",\"blue\",\"blue\",\"blue\",\"blue\",\"blue\",\"blue\",\"blue\",\"blue\",\"blue\",\"blue\",\"blue\",\"blue\",\"blue\",\"blue\",\"blue\",\"blue\",\"blue\",\"blue\",\"blue\",\"blue\",\"blue\",\"blue\",\"blue\",\"blue\",\"blue\",\"blue\",\"blue\",\"blue\",\"blue\",\"blue\",\"blue\",\"blue\",\"blue\",\"blue\",\"blue\",\"blue\",\"blue\",\"blue\",\"blue\",\"blue\",\"blue\",\"blue\",\"blue\",\"blue\",\"blue\",\"blue\",\"blue\",\"blue\",\"blue\",\"blue\",\"blue\",\"blue\",\"blue\",\"blue\",\"blue\",\"blue\",\"blue\",\"blue\",\"blue\",\"blue\",\"blue\",\"blue\",\"blue\",\"blue\",\"blue\",\"blue\",\"blue\",\"blue\",\"blue\",\"blue\",\"blue\",\"blue\",\"blue\",\"blue\",\"blue\",\"blue\",\"blue\",\"blue\",\"blue\",\"blue\",\"blue\",\"blue\",\"blue\",\"blue\",\"blue\",\"blue\",\"blue\",\"blue\",\"blue\",\"blue\",\"blue\",\"blue\"],\"_n\":[82844,82844,82844,82844,82844,82844,82844,82844,82844,82844,82844,82844,82844,82844,82844,82844,82844,82844,82844,82844,82844,82844,82844,82844,82844,82844,82844,82844,82844,82844,82844,82844,82844,82844,82844,82844,82844,82844,82844,82844,82844,82844,82844,82844,82844,82844,82844,82844,82844,82844,82844,82844,82844,82844,82844,82844,82844,82844,82844,82844,82844,82844,82844,82844,82844,82844,82844,82844,82844,82844,82844,82844,82844,82844,82844,82844,82844,82844,82844,82844,82844,82844,82844,82844,82844,82844,82844,82844,82844,82844,82844,82844,82844,82844,82844,82844,82844,82844,82844,82844,28],\"_size\":{\"__ndarray__\":\"ZPqcDmwUEEBk+pwObBQQQGT6nA5sFBBAZPqcDmwUEEBk+pwObBQQQGT6nA5sFBBAZPqcDmwUEEBk+pwObBQQQGT6nA5sFBBAZPqcDmwUEEBk+pwObBQQQGT6nA5sFBBAZPqcDmwUEEBk+pwObBQQQGT6nA5sFBBAZPqcDmwUEEBk+pwObBQQQGT6nA5sFBBAZPqcDmwUEEBk+pwObBQQQGT6nA5sFBBAZPqcDmwUEEBk+pwObBQQQGT6nA5sFBBAZPqcDmwUEEBk+pwObBQQQGT6nA5sFBBAZPqcDmwUEEBk+pwObBQQQGT6nA5sFBBAZPqcDmwUEEBk+pwObBQQQGT6nA5sFBBAZPqcDmwUEEBk+pwObBQQQGT6nA5sFBBAZPqcDmwUEEBk+pwObBQQQGT6nA5sFBBAZPqcDmwUEEBk+pwObBQQQGT6nA5sFBBAZPqcDmwUEEBk+pwObBQQQGT6nA5sFBBAZPqcDmwUEEBk+pwObBQQQGT6nA5sFBBAZPqcDmwUEEBk+pwObBQQQGT6nA5sFBBAZPqcDmwUEEBk+pwObBQQQGT6nA5sFBBAZPqcDmwUEEBk+pwObBQQQGT6nA5sFBBAZPqcDmwUEEBk+pwObBQQQGT6nA5sFBBAZPqcDmwUEEBk+pwObBQQQGT6nA5sFBBAZPqcDmwUEEBk+pwObBQQQGT6nA5sFBBAZPqcDmwUEEBk+pwObBQQQGT6nA5sFBBAZPqcDmwUEEBk+pwObBQQQGT6nA5sFBBAZPqcDmwUEEBk+pwObBQQQGT6nA5sFBBAZPqcDmwUEEBk+pwObBQQQGT6nA5sFBBAZPqcDmwUEEBk+pwObBQQQGT6nA5sFBBAZPqcDmwUEEBk+pwObBQQQGT6nA5sFBBAZPqcDmwUEEBk+pwObBQQQGT6nA5sFBBAZPqcDmwUEEBk+pwObBQQQGT6nA5sFBBAZPqcDmwUEEBk+pwObBQQQGT6nA5sFBBAZPqcDmwUEEBk+pwObBQQQGT6nA5sFBBAZPqcDmwUEEBk+pwObBQQQGT6nA5sFBBAZPqcDmwUEEAAAAAAAADwPw==\",\"dtype\":\"float64\",\"shape\":[101]},\"bin\":[1,2,3,4,5,6,7,8,9,10,11,12,13,14,15,16,17,18,19,20,21,22,23,24,25,26,27,28,29,30,31,32,33,34,35,36,37,38,39,40,41,42,43,44,45,46,47,48,49,50,51,52,53,54,55,56,57,58,59,60,61,62,63,64,65,66,67,68,69,70,71,72,73,74,75,76,77,78,79,80,81,82,83,84,85,86,87,88,89,90,91,92,93,94,95,96,97,98,99,100,101],\"cumul\":{\"__ndarray__\":\"LHNicXUEBEDcfZ2tnOQDQDE50vJG0gNAEuIwkzZdA0APg2kduUgDQItxRObspwNAYxMry2zVA0CMGmCMUs0DQEhbjZjdtwNA+MHe4r65A0BNKb63uZEDQA5ReMmjrwNA50eSdw3NA0AwH3BlO+8DQIiNZ1Bj5wNA4/oarWPoA0AuqJArXMgDQNDWzPauyQNAK/nbJBC/A0BfPS28Z6UDQFLwjWGQrANASMK5mAmxA0D4UEHKfLkDQIt/lOWkowNANx2GG6iYA0D8x3WMkJADQDSNckJlgQNAP69xo5xxA0BEfydnqAADQHkdSfzquQJAv5DeBMtrAkCYsbN8qxYCQBomHZZhpwFAE8lloTSKAUAxAidPF3MBQFdWni1CywBAvolB3G8oAEAlFn4wMhf/P/NXGx0W0P0//TlEwupx/D+XYo3kNjf7P4WFm6gV9/k/LUy0lkx2+T9rY8RBX2j4Pz7Cdm3dG/c/6TqY3YP49T84T43vJur0P+Q9CBBw8/M/MCoPl84X8z8urfNUmk/yPxphKf3im/E/in/YVNnu8D9dlMBCrU3wP/l9SYcKcu8/ylLsDq1e7j/Sh3dXqFztP3FJOiJFcuw/npvWWgG26z+rTTCYUe7qPzlFvV+fJuo/VN8MfGlm6T93foOUF7PoP6EJHX5tCeg/flBCCu5n5z+pyVAh2s3mPw3fWKLUO+Y/m2hvaR+x5T+mxz0Uei3lPytKzxzqseQ/PFSdbZ865D88loE1jszjP844HgPEXuM/0aRXTHj14j+jKcZz6Y/iP7/t9Sn9LeI/5PxeSAbQ4T83FHZfOXbhPz7YACq5IOE/BqmB81PO4D+AADFlAX/gP5QQxOLaMuA/UBVPhCnS3z8Xe2OP10LfP2xTLmzdt94/f4/awZMx3j8d/0QR5a/dP0CS0edfMt0/M7dI5i+53D/tcbf1HUXcPy4L09Yk1ds/0CnB7YFo2z8xCwrMr//aP4muakfomto/8svzQJY32j8s2/5mKtfZP/9x4j/ReNk/ncIM2fkc2T//tHhIxsPYP6UKZ64Ibdg/a+2BSTQe2D+2HkDkLR7YPw==\",\"dtype\":\"float64\",\"shape\":[101]},\"index\":[0,1,2,3,4,5,6,7,8,9,10,11,12,13,14,15,16,17,18,19,20,21,22,23,24,25,26,27,28,29,30,31,32,33,34,35,36,37,38,39,40,41,42,43,44,45,46,47,48,49,50,51,52,53,54,55,56,57,58,59,60,61,62,63,64,65,66,67,68,69,70,71,72,73,74,75,76,77,78,79,80,81,82,83,84,85,86,87,88,89,90,91,92,93,94,95,96,97,98,99,100],\"max_score\":{\"__ndarray__\":\"wMbqWrQymT/AxupatDKZPyCjTsXCOpk/AK42l6F2mT8AbhATn3+cP0Dq6yHLq5w/IFVcT4zDnD/AMad1pt+cPyBE8sFREJ4/wBQTtidAnj8AzJ2sH2SiP4C/w0oWhqI/oGN1AFCdoj+Q7Oh5q56iP+DypfTptKI/4FT5c5a2oj8Q6b0HywejP+C81TA0FKM/YFHOAbYfoz+AlxceInqjPyCJr3BE26M/sFy/kkCFpT/AyPZ5qD+mPyBNbNDbc68/OJEx8qWUsD+QtlicT0axP1B1C45zuLI/aG0A5Z8ftD+oNheGd7C1P+hUR1s5I7Y/SNLbMA60tz8Ip6Zlr+e3P0BCyIzVXrk/QMGqpcfquj/wU0loZo3AP8hokAXWzsE/bF+4FTJswz/4JCj7z37EPxCXunEC6cg/wFdVhKm7yT8k+WQ+waHMP+z8MfpfoM8/b0IMsBkg4D96n0z2Y4ftP61ou3ddjO0/o50pZtrH7T/cgnkQL8/tP9yCeRAvz+0/6VM5WdDg7T95cLfK5BHuPzk7nlhbKO4/o31xyKcr7j+jfXHIpyvuPyeEEngmLe4/os/r9Oo47j8Y20A8q1zuPya2dDEAhe4/qd54z23M7j/O28Cw/OfuP7HBuisAB+8/GOxpTikH7z8RU2E57QrvP4LPwN4nE+8/n0Wxiaka7z+fRbGJqRrvP1N6qKaSHO8/Jhhrd2Ef7z+cManCNiPvP6iXuqxkK+8/a+aH1Bgw7z+FGW2Yw2LvP0FKT4+3ZO8/lZcnkuxp7z/oQoGloWrvP+hCgaWhau8/6EKBpaFq7z9xoI/dKHPvP8I7UDP2dO8/ThXHuYF37z8WiSg2K3rvPzsEM/ZTf+8/VSPN+6qB7z9VI837qoHvP6jOJg9ggu8/qM4mD2CC7z+oziYPYILvP6jOJg9ggu8/cyHJLuuC7z/j/GQMPoXvPxXFvfb+hu8/IwA6HAiI7z/Q9Z/t8ojvPyVDePAnju8/JUN48CeO7z947tED3Y7vP3ju0QPdju8/eO7RA92O7z947tED3Y7vP3ju0QPdju8/8RY4kGSk7z8r78IHIqXvPw==\",\"dtype\":\"float64\",\"shape\":[101]},\"min_score\":{\"__ndarray__\":\"oMtKuUitmD/AxupatDKZP8DG6lq0Mpk/IKNOxcI6mT8ArjaXoXaZPwBuEBOff5w/QOrrIcurnD8gVVxPjMOcP8Axp3Wm35w/IETywVEQnj/AFBO2J0CePwDMnawfZKI/gL/DShaGoj+gY3UAUJ2iP5Ds6HmrnqI/4PKl9Om0oj/gVPlzlraiPxDpvQfLB6M/4LzVMDQUoz9gUc4Bth+jP4CXFx4ieqM/IImvcETboz+wXL+SQIWlP8DI9nmoP6Y/IE1s0Ntzrz84kTHypZSwP5C2WJxPRrE/UHULjnO4sj9obQDlnx+0P6g2F4Z3sLU/6FRHWzkjtj9I0tswDrS3PwinpmWv57c/QELIjNVeuT9Awaqlx+q6P/BTSWhmjcA/yGiQBdbOwT9sX7gVMmzDP/gkKPvPfsQ/EJe6cQLpyD/AV1WEqbvJPyT5ZD7Bocw/7Pwx+l+gzz9vQgywGSDgP3qfTPZjh+0/rWi7d12M7T+jnSlm2sftP9yCeRAvz+0/3IJ5EC/P7T/pUzlZ0ODtP3lwt8rkEe4/OTueWFso7j+jfXHIpyvuP6N9ccinK+4/J4QSeCYt7j+iz+v06jjuPxjbQDyrXO4/JrZ0MQCF7j+p3njPbczuP87bwLD85+4/scG6KwAH7z8Y7GlOKQfvPxFTYTntCu8/gs/A3icT7z+fRbGJqRrvP59FsYmpGu8/U3qoppIc7z8mGGt3YR/vP5wxqcI2I+8/qJe6rGQr7z9r5ofUGDDvP4UZbZjDYu8/QUpPj7dk7z+VlyeS7GnvP+hCgaWhau8/6EKBpaFq7z/oQoGloWrvP3Ggj90oc+8/wjtQM/Z07z9OFce5gXfvPxaJKDYreu8/OwQz9lN/7z9VI837qoHvP1Ujzfuqge8/qM4mD2CC7z+oziYPYILvP6jOJg9ggu8/qM4mD2CC7z9zIcku64LvP+P8ZAw+he8/FcW99v6G7z8jADocCIjvP9D1n+3yiO8/JUN48CeO7z8lQ3jwJ47vP3ju0QPdju8/eO7RA92O7z947tED3Y7vP3ju0QPdju8/eO7RA92O7z/xFjiQZKTvPw==\",\"dtype\":\"float64\",\"shape\":[101]},\"model\":[\"40eedd2d\",\"40eedd2d\",\"40eedd2d\",\"40eedd2d\",\"40eedd2d\",\"40eedd2d\",\"40eedd2d\",\"40eedd2d\",\"40eedd2d\",\"40eedd2d\",\"40eedd2d\",\"40eedd2d\",\"40eedd2d\",\"40eedd2d\",\"40eedd2d\",\"40eedd2d\",\"40eedd2d\",\"40eedd2d\",\"40eedd2d\",\"40eedd2d\",\"40eedd2d\",\"40eedd2d\",\"40eedd2d\",\"40eedd2d\",\"40eedd2d\",\"40eedd2d\",\"40eedd2d\",\"40eedd2d\",\"40eedd2d\",\"40eedd2d\",\"40eedd2d\",\"40eedd2d\",\"40eedd2d\",\"40eedd2d\",\"40eedd2d\",\"40eedd2d\",\"40eedd2d\",\"40eedd2d\",\"40eedd2d\",\"40eedd2d\",\"40eedd2d\",\"40eedd2d\",\"40eedd2d\",\"40eedd2d\",\"40eedd2d\",\"40eedd2d\",\"40eedd2d\",\"40eedd2d\",\"40eedd2d\",\"40eedd2d\",\"40eedd2d\",\"40eedd2d\",\"40eedd2d\",\"40eedd2d\",\"40eedd2d\",\"40eedd2d\",\"40eedd2d\",\"40eedd2d\",\"40eedd2d\",\"40eedd2d\",\"40eedd2d\",\"40eedd2d\",\"40eedd2d\",\"40eedd2d\",\"40eedd2d\",\"40eedd2d\",\"40eedd2d\",\"40eedd2d\",\"40eedd2d\",\"40eedd2d\",\"40eedd2d\",\"40eedd2d\",\"40eedd2d\",\"40eedd2d\",\"40eedd2d\",\"40eedd2d\",\"40eedd2d\",\"40eedd2d\",\"40eedd2d\",\"40eedd2d\",\"40eedd2d\",\"40eedd2d\",\"40eedd2d\",\"40eedd2d\",\"40eedd2d\",\"40eedd2d\",\"40eedd2d\",\"40eedd2d\",\"40eedd2d\",\"40eedd2d\",\"40eedd2d\",\"40eedd2d\",\"40eedd2d\",\"40eedd2d\",\"40eedd2d\",\"40eedd2d\",\"40eedd2d\",\"40eedd2d\",\"40eedd2d\",\"40eedd2d\",\"40eedd2d\"],\"n_ti\":[59189,58978,58900,57430,58269,60513,59951,58816,58357,58997,57449,60022,60192,60600,58728,59146,57278,59069,58316,57226,59380,59228,59566,57168,57933,58112,57402,57233,47251,50687,49167,47529,43234,53090,53672,32013,30075,28284,24078,18293,18238,13785,34779,14170,1016,2222,996,734,1807,2027,3058,1313,1021,1251,1426,1243,2341,7658,3775,1652,880,1284,1251,1062,842,894,913,1002,1485,1116,2174,902,831,617,438,428,562,826,770,763,853,714,521,390,370,381,348,394,656,750,717,829,1036,671,668,491,444,458,454,1931,1],\"n_ti_cumul\":[59189,118167,177067,234497,292766,353279,413230,472046,530403,589400,646849,706871,767063,827663,886391,945537,1002815,1061884,1120200,1177426,1236806,1296034,1355600,1412768,1470701,1528813,1586215,1643448,1690699,1741386,1790553,1838082,1881316,1934406,1988078,2020091,2050166,2078450,2102528,2120821,2139059,2152844,2187623,2201793,2202809,2205031,2206027,2206761,2208568,2210595,2213653,2214966,2215987,2217238,2218664,2219907,2222248,2229906,2233681,2235333,2236213,2237497,2238748,2239810,2240652,2241546,2242459,2243461,2244946,2246062,2248236,2249138,2249969,2250586,2251024,2251452,2252014,2252840,2253610,2254373,2255226,2255940,2256461,2256851,2257221,2257602,2257950,2258344,2259000,2259750,2260467,2261296,2262332,2263003,2263671,2264162,2264606,2265064,2265518,2267449,2267450],\"n_tv\":[23655,23866,23944,25414,24575,22331,22893,24028,24487,23847,25395,22822,22652,22244,24116,23698,25566,23775,24528,25618,23464,23616,23278,25676,24911,24732,25442,25611,35593,32157,33677,35315,39610,29754,29172,50831,52769,54560,58766,64551,64606,69059,48065,68674,81828,80622,81848,82110,81037,80817,79786,81531,81823,81593,81418,81601,80503,75186,79069,81192,81964,81560,81593,81782,82002,81950,81931,81842,81359,81728,80670,81942,82013,82227,82406,82416,82282,82018,82074,82081,81991,82130,82323,82454,82474,82463,82496,82450,82188,82094,82127,82015,81808,82173,82176,82353,82400,82386,82390,80913,27],\"n_tv_cumul\":[23655,47521,71465,96879,121454,143785,166678,190706,215193,239040,264435,287257,309909,332153,356269,379967,405533,429308,453836,479454,502918,526534,549812,575488,600399,625131,650573,676184,711777,743934,777611,812926,852536,882290,911462,962293,1015062,1069622,1128388,1192939,1257545,1326604,1374669,1443343,1525171,1605793,1687641,1769751,1850788,1931605,2011391,2092922,2174745,2256338,2337756,2419357,2499860,2575046,2654115,2735307,2817271,2898831,2980424,3062206,3144208,3226158,3308089,3389931,3471290,3553018,3633688,3715630,3797643,3879870,3962276,4044692,4126974,4208992,4291066,4373147,4455138,4537268,4619591,4702045,4784519,4866982,4949478,5031928,5114116,5196210,5278337,5360352,5442160,5524333,5606509,5688862,5771262,5853648,5936038,6016951,6016978],\"non_cumul\":{\"__ndarray__\":\"LHNicXUEBEB9vAb+C8UDQNgTmG7jrQNADGEFhwYUAkDZjTGV8vcCQPyzRFW2rQVA74WzMjLzBEAN6N3fHZUDQB7qCjTCEANAgF/AALbKA0ACPTQ2BRkCQNBO/adACgVAF1u/qQtCBUB+j+ubbcsFQPdxlLhZewNArOBZwHH3A0A8kzh5VewBQF1ayM9B4ANAU1BLQS0FA0Al3i0B3d4BQGWj8O/XPgRA5oWvs00QBED4LVrknngEQItIJx3nzwFAhb7bt9OaAkAbHVf4HswCQM2usqGtDAJATlTqZ6zgAUAvZJ+3lj31P8NXsI1COPk/R9sav/xb9z9KFOsho4j1P3Ile13AdvE/TK779nuM/D/mX+TOAnD9Pw4691FDJ+Q/Z/Z5TOw84j+X9GtJv5bgP+3n3GP2ONo/YDvczAgj0j8PsWY+IhHSP1e3GjPijMk/5+ZnzJYn5z/iWK7HQWnKP/i3G/G1bYk/pU/VTeA4nD+w79PmAeyIP/zFp9q6ToI/cHeQEWjVlj8tcR9a7a6ZPw3vjF6qn6M/2pgIiqV9kD/6rfZ8JY6JPzlXqLp8Zo8/fR9921XvkT+C3rOKTDKPP2f8rA4Px50/HkOAtRsTuj85LvfzyHGoP5AugsvM1ZQ/zNgFBPr8hT+Oclqa7x6QPzlXqLp8Zo8/ts6y3USYij+1QwRNaQeFP1gWeGWBV4Y/GZLxXWrShj+QxORo6RKJP14PVEvEsJI/7TRY6C33iz9Dm//hmJibPydVzAZAi4Y/VFcjfl7AhD824dogHbx+Px5hi+VVxXU/fbfs+21FdT/LPmGk8/l7Pwql2l8VoIQ/y0iX2cA2gz93HLkonwmDP8PUJ/14ToU/3Qa7d+rNgT+S3slkJ+x5P8rU7IyrX3M/tnRQ4C9gcj/FW5n4r+xyP1ojXnZMR3E/rcnLF8iScz8hIZ+0tViAP9DzLYjTtYI/RN7Z5jvhgT+S8BBTdLOEP5xzkzd674k/zNzzly25gD/mH9ix4aWAP6/rtmTBa3g/Z4gcDxgSdj/GdIqRPcV2P+Lfj7AMknY/69vLXxpwmD9oL6G9hPaiPw==\",\"dtype\":\"float64\",\"shape\":[101]}},\"selected\":{\"id\":\"10524\",\"type\":\"Selection\"},\"selection_policy\":{\"id\":\"10525\",\"type\":\"UnionRenderers\"}},\"id\":\"10469\",\"type\":\"ColumnDataSource\"},{\"attributes\":{\"bottom_units\":\"screen\",\"fill_alpha\":{\"value\":0.5},\"fill_color\":{\"value\":\"lightgrey\"},\"left_units\":\"screen\",\"level\":\"overlay\",\"line_alpha\":{\"value\":1.0},\"line_color\":{\"value\":\"black\"},\"line_dash\":[4,4],\"line_width\":{\"value\":2},\"render_mode\":\"css\",\"right_units\":\"screen\",\"top_units\":\"screen\"},\"id\":\"10581\",\"type\":\"BoxAnnotation\"},{\"attributes\":{},\"id\":\"10498\",\"type\":\"HelpTool\"},{\"attributes\":{\"booleans\":[true,true,true,true,true,true,true,true,true,true,true,true,true,true,true,true,true,true,true,true,true,true,true,true,true,true,true,true,true,true,true,true,true,true,true,true,true,true,true,true,true,true,true,true,true,true,true,true,true,true,true,true,true,true,true,true,true,true,true,true,true,true,true,true,true,true,true,true,true,true,true,true,true,true,true,true,true,true,true,true,true,true,true,true,true,true,true,true,true,true,true,true,true,true,true,true,true,true,true,true,true]},\"id\":\"10569\",\"type\":\"BooleanFilter\"},{\"attributes\":{\"dimension\":1,\"ticker\":{\"id\":\"10487\",\"type\":\"BasicTicker\"}},\"id\":\"10490\",\"type\":\"Grid\"},{\"attributes\":{\"fill_alpha\":{\"value\":0.5},\"fill_color\":{\"value\":\"lightgrey\"},\"level\":\"overlay\",\"line_alpha\":{\"value\":1.0},\"line_color\":{\"value\":\"black\"},\"line_dash\":[4,4],\"line_width\":{\"value\":2},\"xs_units\":\"screen\",\"ys_units\":\"screen\"},\"id\":\"10582\",\"type\":\"PolyAnnotation\"},{\"attributes\":{\"bottom_units\":\"screen\",\"fill_alpha\":{\"value\":0.5},\"fill_color\":{\"value\":\"lightgrey\"},\"left_units\":\"screen\",\"level\":\"overlay\",\"line_alpha\":{\"value\":1.0},\"line_color\":{\"value\":\"black\"},\"line_dash\":[4,4],\"line_width\":{\"value\":2},\"render_mode\":\"css\",\"right_units\":\"screen\",\"top_units\":\"screen\"},\"id\":\"10521\",\"type\":\"BoxAnnotation\"},{\"attributes\":{\"active_drag\":\"auto\",\"active_inspect\":\"auto\",\"active_multi\":null,\"active_scroll\":\"auto\",\"active_tap\":\"auto\",\"tools\":[{\"id\":\"10491\",\"type\":\"SaveTool\"},{\"id\":\"10492\",\"type\":\"PanTool\"},{\"id\":\"10493\",\"type\":\"BoxZoomTool\"},{\"id\":\"10494\",\"type\":\"ResetTool\"},{\"id\":\"10495\",\"type\":\"WheelZoomTool\"},{\"id\":\"10496\",\"type\":\"BoxSelectTool\"},{\"id\":\"10497\",\"type\":\"LassoSelectTool\"},{\"id\":\"10498\",\"type\":\"HelpTool\"},{\"id\":\"10499\",\"type\":\"HoverTool\"}]},\"id\":\"10500\",\"type\":\"Toolbar\"},{\"attributes\":{\"filters\":[{\"id\":\"10569\",\"type\":\"BooleanFilter\"}],\"source\":{\"id\":\"10469\",\"type\":\"ColumnDataSource\"}},\"id\":\"10570\",\"type\":\"CDSView\"},{\"attributes\":{\"axis_label\":\"bin\",\"axis_label_text_font_size\":{\"value\":\"16pt\"},\"axis_label_text_font_style\":\"normal\",\"formatter\":{\"id\":\"10517\",\"type\":\"BasicTickFormatter\"},\"major_label_text_font_size\":{\"value\":\"14pt\"},\"ticker\":{\"id\":\"10482\",\"type\":\"BasicTicker\"}},\"id\":\"10481\",\"type\":\"LinearAxis\"},{\"attributes\":{\"axis_label\":\"Ti/Tv ratio\",\"axis_label_text_font_size\":{\"value\":\"16pt\"},\"axis_label_text_font_style\":\"normal\",\"formatter\":{\"id\":\"10519\",\"type\":\"BasicTickFormatter\"},\"major_label_text_font_size\":{\"value\":\"14pt\"},\"ticker\":{\"id\":\"10487\",\"type\":\"BasicTicker\"}},\"id\":\"10486\",\"type\":\"LinearAxis\"},{\"attributes\":{\"callback\":null,\"overlay\":{\"id\":\"10523\",\"type\":\"PolyAnnotation\"}},\"id\":\"10497\",\"type\":\"LassoSelectTool\"},{\"attributes\":{\"text\":\"Ti/Tv ratio, cumulative\",\"text_font_size\":{\"value\":\"16pt\"}},\"id\":\"10530\",\"type\":\"Title\"},{\"attributes\":{},\"id\":\"10487\",\"type\":\"BasicTicker\"},{\"attributes\":{\"label\":{\"value\":\"40eedd2d\"},\"renderers\":[{\"id\":\"10515\",\"type\":\"GlyphRenderer\"}]},\"id\":\"10527\",\"type\":\"LegendItem\"},{\"attributes\":{\"ticker\":{\"id\":\"10482\",\"type\":\"BasicTicker\"}},\"id\":\"10485\",\"type\":\"Grid\"},{\"attributes\":{},\"id\":\"10576\",\"type\":\"BasicTickFormatter\"},{\"attributes\":{\"above\":[{\"id\":\"10585\",\"type\":\"Legend\"},{\"id\":\"10587\",\"type\":\"Title\"}],\"below\":[{\"id\":\"10540\",\"type\":\"LinearAxis\"}],\"center\":[{\"id\":\"10544\",\"type\":\"Grid\"},{\"id\":\"10549\",\"type\":\"Grid\"}],\"left\":[{\"id\":\"10545\",\"type\":\"LinearAxis\"}],\"renderers\":[{\"id\":\"10574\",\"type\":\"GlyphRenderer\"}],\"title\":{\"id\":\"10530\",\"type\":\"Title\"},\"toolbar\":{\"id\":\"10559\",\"type\":\"Toolbar\"},\"x_range\":{\"id\":\"10467\",\"type\":\"DataRange1d\"},\"x_scale\":{\"id\":\"10536\",\"type\":\"LinearScale\"},\"y_range\":{\"id\":\"10468\",\"type\":\"DataRange1d\"},\"y_scale\":{\"id\":\"10538\",\"type\":\"LinearScale\"}},\"id\":\"10529\",\"subtype\":\"Figure\",\"type\":\"Plot\"},{\"attributes\":{},\"id\":\"10491\",\"type\":\"SaveTool\"},{\"attributes\":{\"bottom_units\":\"screen\",\"fill_alpha\":{\"value\":0.5},\"fill_color\":{\"value\":\"lightgrey\"},\"left_units\":\"screen\",\"level\":\"overlay\",\"line_alpha\":{\"value\":1.0},\"line_color\":{\"value\":\"black\"},\"line_dash\":[4,4],\"line_width\":{\"value\":2},\"render_mode\":\"css\",\"right_units\":\"screen\",\"top_units\":\"screen\"},\"id\":\"10522\",\"type\":\"BoxAnnotation\"}],\"root_ids\":[\"10591\"]},\"title\":\"Bokeh Application\",\"version\":\"1.4.0\"}};\n",
       "  var render_items = [{\"docid\":\"2a19cdca-7c63-4f2f-9905-23c5f4124add\",\"roots\":{\"10591\":\"3f78a443-97c6-4719-9183-1d7d9b221a4d\"}}];\n",
       "  root.Bokeh.embed.embed_items_notebook(docs_json, render_items);\n",
       "\n",
       "  }\n",
       "  if (root.Bokeh !== undefined) {\n",
       "    embed_document(root);\n",
       "  } else {\n",
       "    var attempts = 0;\n",
       "    var timer = setInterval(function(root) {\n",
       "      if (root.Bokeh !== undefined) {\n",
       "        clearInterval(timer);\n",
       "        embed_document(root);\n",
       "      } else {\n",
       "        attempts++;\n",
       "        if (attempts > 100) {\n",
       "          clearInterval(timer);\n",
       "          console.log(\"Bokeh: ERROR: Unable to run BokehJS code because BokehJS library is missing\");\n",
       "        }\n",
       "      }\n",
       "    }, 10, root)\n",
       "  }\n",
       "})(window);"
      ],
      "application/vnd.bokehjs_exec.v0+json": ""
     },
     "metadata": {
      "application/vnd.bokehjs_exec.v0+json": {
       "id": "10591"
      }
     },
     "output_type": "display_data"
    },
    {
     "name": "stdout",
     "output_type": "stream",
     "text": [
      "\n"
     ]
    }
   ],
   "source": [
    "#Ti/Tv ratio\n",
    "tabs = plot_metric(snvs, 'Ti/Tv ratio', ['n_ti', 'n_tv'], y_fun=lambda x: x[0]/x[1], plot_bi_allelics=False, plot_singletons=False, plot_bi_allelic_singletons=False, colors=colors)\n",
    "show(tabs)"
   ]
  },
  {
   "cell_type": "code",
   "execution_count": 38,
   "id": "fdc3be4b",
   "metadata": {},
   "outputs": [
    {
     "name": "stderr",
     "output_type": "stream",
     "text": [
      "/home/ubuntu/venv/lib/python3.8/site-packages/bokeh/models/plots.py:767: UserWarning: \n",
      "You are attempting to set `plot.legend.label_text_font_size` on a plot that has zero legends added, this will have no effect.\n",
      "\n",
      "Before legend properties can be set, you must add a Legend explicitly, or call a glyph method with a legend parameter set.\n",
      "\n",
      "  warnings.warn(_LEGEND_EMPTY_WARNING % attr)\n"
     ]
    },
    {
     "data": {
      "text/html": [
       "\n",
       "\n",
       "\n",
       "\n",
       "\n",
       "\n",
       "  <div class=\"bk-root\" id=\"702de735-bddd-4553-bfae-0d7a7439e7c9\" data-root-id=\"11333\"></div>\n"
      ]
     },
     "metadata": {},
     "output_type": "display_data"
    },
    {
     "data": {
      "application/javascript": [
       "(function(root) {\n",
       "  function embed_document(root) {\n",
       "    \n",
       "  var docs_json = {\"6657d502-9a7a-4ded-8c82-fa4012c3d6dd\":{\"roots\":{\"references\":[{\"attributes\":{\"callback\":null,\"tabs\":[{\"id\":\"11332\",\"type\":\"Panel\"}]},\"id\":\"11333\",\"type\":\"Tabs\"},{\"attributes\":{},\"id\":\"11224\",\"type\":\"BasicTicker\"},{\"attributes\":{},\"id\":\"11283\",\"type\":\"BasicTicker\"},{\"attributes\":{\"dimension\":1,\"ticker\":{\"id\":\"11229\",\"type\":\"BasicTicker\"}},\"id\":\"11232\",\"type\":\"Grid\"},{\"attributes\":{},\"id\":\"11267\",\"type\":\"UnionRenderers\"},{\"attributes\":{\"axis_label\":\"n_kgp_high_conf_snvs\",\"axis_label_text_font_size\":{\"value\":\"16pt\"},\"axis_label_text_font_style\":\"normal\",\"formatter\":{\"id\":\"11320\",\"type\":\"BasicTickFormatter\"},\"major_label_text_font_size\":{\"value\":\"14pt\"},\"ticker\":{\"id\":\"11288\",\"type\":\"BasicTicker\"}},\"id\":\"11287\",\"type\":\"LinearAxis\"},{\"attributes\":{\"axis_label\":\"bin\",\"axis_label_text_font_size\":{\"value\":\"16pt\"},\"axis_label_text_font_style\":\"normal\",\"formatter\":{\"id\":\"11318\",\"type\":\"BasicTickFormatter\"},\"major_label_text_font_size\":{\"value\":\"14pt\"},\"ticker\":{\"id\":\"11283\",\"type\":\"BasicTicker\"}},\"id\":\"11282\",\"type\":\"LinearAxis\"},{\"attributes\":{},\"id\":\"11237\",\"type\":\"WheelZoomTool\"},{\"attributes\":{},\"id\":\"11280\",\"type\":\"LinearScale\"},{\"attributes\":{},\"id\":\"11234\",\"type\":\"PanTool\"},{\"attributes\":{},\"id\":\"11288\",\"type\":\"BasicTicker\"},{\"attributes\":{\"callback\":null},\"id\":\"11209\",\"type\":\"DataRange1d\"},{\"attributes\":{},\"id\":\"11278\",\"type\":\"LinearScale\"},{\"attributes\":{\"booleans\":[true,true,true,true,true,true,true,true,true,true,true,true,true,true,true,true,true,true,true,true,true,true,true,true,true,true,true,true,true,true,true,true,true,true,true,true,true,true,true,true,true,true,true,true,true,true,true,true,true,true,true,true,true,true,true,true,true,true,true,true,true,true,true,true,true,true,true,true,true,true,true,true,true,true,true,true,true,true,true,true,true,true,true,true,true,true,true,true,true,true,true,true,true,true,true,true,true,true,true,true,true]},\"id\":\"11252\",\"type\":\"BooleanFilter\"},{\"attributes\":{\"ticker\":{\"id\":\"11283\",\"type\":\"BasicTicker\"}},\"id\":\"11286\",\"type\":\"Grid\"},{\"attributes\":{\"callback\":null},\"id\":\"11210\",\"type\":\"DataRange1d\"},{\"attributes\":{\"dimension\":1,\"ticker\":{\"id\":\"11288\",\"type\":\"BasicTicker\"}},\"id\":\"11291\",\"type\":\"Grid\"},{\"attributes\":{},\"id\":\"11320\",\"type\":\"BasicTickFormatter\"},{\"attributes\":{},\"id\":\"11240\",\"type\":\"HelpTool\"},{\"attributes\":{},\"id\":\"11293\",\"type\":\"PanTool\"},{\"attributes\":{\"active_drag\":\"auto\",\"active_inspect\":\"auto\",\"active_multi\":null,\"active_scroll\":\"auto\",\"active_tap\":\"auto\",\"tools\":[{\"id\":\"11292\",\"type\":\"SaveTool\"},{\"id\":\"11293\",\"type\":\"PanTool\"},{\"id\":\"11294\",\"type\":\"BoxZoomTool\"},{\"id\":\"11295\",\"type\":\"ResetTool\"},{\"id\":\"11296\",\"type\":\"WheelZoomTool\"},{\"id\":\"11297\",\"type\":\"BoxSelectTool\"},{\"id\":\"11298\",\"type\":\"LassoSelectTool\"},{\"id\":\"11299\",\"type\":\"HelpTool\"},{\"id\":\"11300\",\"type\":\"HoverTool\"}]},\"id\":\"11301\",\"type\":\"Toolbar\"},{\"attributes\":{},\"id\":\"11261\",\"type\":\"BasicTickFormatter\"},{\"attributes\":{\"children\":[{\"id\":\"11212\",\"subtype\":\"Figure\",\"type\":\"Plot\"},{\"id\":\"11271\",\"subtype\":\"Figure\",\"type\":\"Plot\"}]},\"id\":\"11330\",\"type\":\"Row\"},{\"attributes\":{},\"id\":\"11292\",\"type\":\"SaveTool\"},{\"attributes\":{\"overlay\":{\"id\":\"11322\",\"type\":\"BoxAnnotation\"}},\"id\":\"11294\",\"type\":\"BoxZoomTool\"},{\"attributes\":{},\"id\":\"11266\",\"type\":\"Selection\"},{\"attributes\":{\"active_drag\":\"auto\",\"active_inspect\":\"auto\",\"active_multi\":null,\"active_scroll\":\"auto\",\"active_tap\":\"auto\",\"tools\":[{\"id\":\"11233\",\"type\":\"SaveTool\"},{\"id\":\"11234\",\"type\":\"PanTool\"},{\"id\":\"11235\",\"type\":\"BoxZoomTool\"},{\"id\":\"11236\",\"type\":\"ResetTool\"},{\"id\":\"11237\",\"type\":\"WheelZoomTool\"},{\"id\":\"11238\",\"type\":\"BoxSelectTool\"},{\"id\":\"11239\",\"type\":\"LassoSelectTool\"},{\"id\":\"11240\",\"type\":\"HelpTool\"},{\"id\":\"11241\",\"type\":\"HoverTool\"}]},\"id\":\"11242\",\"type\":\"Toolbar\"},{\"attributes\":{\"callback\":null,\"overlay\":{\"id\":\"11323\",\"type\":\"BoxAnnotation\"}},\"id\":\"11297\",\"type\":\"BoxSelectTool\"},{\"attributes\":{\"callback\":null,\"tooltips\":[[\"model\",\"@model\"],[\"bin\",\"@bin\"],[\"n_kgp_high_conf_snvs\",\"@cumul\"],[\"min_score\",\"@min_score\"],[\"max_score\",\"@max_score\"],[\"n_data_points\",\"@_n\"],[\"n_kgp_high_conf_snvs\",\"@n_kgp_high_conf_snvs\"]]},\"id\":\"11300\",\"type\":\"HoverTool\"},{\"attributes\":{\"label\":{\"value\":\"40eedd2d\"},\"renderers\":[{\"id\":\"11316\",\"type\":\"GlyphRenderer\"}]},\"id\":\"11328\",\"type\":\"LegendItem\"},{\"attributes\":{},\"id\":\"11259\",\"type\":\"BasicTickFormatter\"},{\"attributes\":{},\"id\":\"11295\",\"type\":\"ResetTool\"},{\"attributes\":{\"filters\":[{\"id\":\"11252\",\"type\":\"BooleanFilter\"}],\"source\":{\"id\":\"11211\",\"type\":\"ColumnDataSource\"}},\"id\":\"11253\",\"type\":\"CDSView\"},{\"attributes\":{},\"id\":\"11296\",\"type\":\"WheelZoomTool\"},{\"attributes\":{},\"id\":\"11299\",\"type\":\"HelpTool\"},{\"attributes\":{\"callback\":null,\"overlay\":{\"id\":\"11324\",\"type\":\"PolyAnnotation\"}},\"id\":\"11298\",\"type\":\"LassoSelectTool\"},{\"attributes\":{\"child\":{\"id\":\"11331\",\"type\":\"Column\"},\"title\":\"All\"},\"id\":\"11332\",\"type\":\"Panel\"},{\"attributes\":{\"click_policy\":\"hide\",\"items\":[{\"id\":\"11328\",\"type\":\"LegendItem\"}],\"location\":[0,0],\"orientation\":\"horizontal\"},\"id\":\"11327\",\"type\":\"Legend\"},{\"attributes\":{\"label\":{\"value\":\"40eedd2d\"},\"renderers\":[{\"id\":\"11257\",\"type\":\"GlyphRenderer\"}]},\"id\":\"11269\",\"type\":\"LegendItem\"},{\"attributes\":{\"fill_color\":{\"field\":\"_color\"},\"line_color\":{\"field\":\"_color\"},\"size\":{\"field\":\"_size\",\"units\":\"screen\"},\"x\":{\"field\":\"bin\"},\"y\":{\"field\":\"non_cumul\"}},\"id\":\"11255\",\"type\":\"Circle\"},{\"attributes\":{\"fill_alpha\":{\"value\":0.1},\"fill_color\":{\"value\":\"#1f77b4\"},\"line_alpha\":{\"value\":0.1},\"line_color\":{\"value\":\"#1f77b4\"},\"size\":{\"field\":\"_size\",\"units\":\"screen\"},\"x\":{\"field\":\"bin\"},\"y\":{\"field\":\"cumul\"}},\"id\":\"11315\",\"type\":\"Circle\"},{\"attributes\":{\"bottom_units\":\"screen\",\"fill_alpha\":{\"value\":0.5},\"fill_color\":{\"value\":\"lightgrey\"},\"left_units\":\"screen\",\"level\":\"overlay\",\"line_alpha\":{\"value\":1.0},\"line_color\":{\"value\":\"black\"},\"line_dash\":[4,4],\"line_width\":{\"value\":2},\"render_mode\":\"css\",\"right_units\":\"screen\",\"top_units\":\"screen\"},\"id\":\"11322\",\"type\":\"BoxAnnotation\"},{\"attributes\":{\"text\":\"n_kgp_high_conf_snvs\",\"text_font_size\":{\"value\":\"16pt\"}},\"id\":\"11213\",\"type\":\"Title\"},{\"attributes\":{\"callback\":null,\"tooltips\":[[\"model\",\"@model\"],[\"bin\",\"@bin\"],[\"n_kgp_high_conf_snvs\",\"@non_cumul\"],[\"min_score\",\"@min_score\"],[\"max_score\",\"@max_score\"],[\"n_data_points\",\"@_n\"],[\"n_kgp_high_conf_snvs\",\"@n_kgp_high_conf_snvs\"]]},\"id\":\"11241\",\"type\":\"HoverTool\"},{\"attributes\":{\"overlay\":{\"id\":\"11263\",\"type\":\"BoxAnnotation\"}},\"id\":\"11235\",\"type\":\"BoxZoomTool\"},{\"attributes\":{\"bottom_units\":\"screen\",\"fill_alpha\":{\"value\":0.5},\"fill_color\":{\"value\":\"lightgrey\"},\"left_units\":\"screen\",\"level\":\"overlay\",\"line_alpha\":{\"value\":1.0},\"line_color\":{\"value\":\"black\"},\"line_dash\":[4,4],\"line_width\":{\"value\":2},\"render_mode\":\"css\",\"right_units\":\"screen\",\"top_units\":\"screen\"},\"id\":\"11323\",\"type\":\"BoxAnnotation\"},{\"attributes\":{\"callback\":null,\"overlay\":{\"id\":\"11265\",\"type\":\"PolyAnnotation\"}},\"id\":\"11239\",\"type\":\"LassoSelectTool\"},{\"attributes\":{},\"id\":\"11229\",\"type\":\"BasicTicker\"},{\"attributes\":{\"text\":\"All variants\",\"text_font_size\":{\"value\":\"14pt\"}},\"id\":\"11329\",\"type\":\"Title\"},{\"attributes\":{\"data_source\":{\"id\":\"11211\",\"type\":\"ColumnDataSource\"},\"glyph\":{\"id\":\"11314\",\"type\":\"Circle\"},\"hover_glyph\":null,\"muted_glyph\":null,\"nonselection_glyph\":{\"id\":\"11315\",\"type\":\"Circle\"},\"selection_glyph\":null,\"view\":{\"id\":\"11312\",\"type\":\"CDSView\"}},\"id\":\"11316\",\"type\":\"GlyphRenderer\"},{\"attributes\":{\"children\":[{\"id\":\"11330\",\"type\":\"Row\"}]},\"id\":\"11331\",\"type\":\"Column\"},{\"attributes\":{\"axis_label\":\"n_kgp_high_conf_snvs\",\"axis_label_text_font_size\":{\"value\":\"16pt\"},\"axis_label_text_font_style\":\"normal\",\"formatter\":{\"id\":\"11261\",\"type\":\"BasicTickFormatter\"},\"major_label_text_font_size\":{\"value\":\"14pt\"},\"ticker\":{\"id\":\"11229\",\"type\":\"BasicTicker\"}},\"id\":\"11228\",\"type\":\"LinearAxis\"},{\"attributes\":{\"above\":[{\"id\":\"11327\",\"type\":\"Legend\"},{\"id\":\"11329\",\"type\":\"Title\"}],\"below\":[{\"id\":\"11282\",\"type\":\"LinearAxis\"}],\"center\":[{\"id\":\"11286\",\"type\":\"Grid\"},{\"id\":\"11291\",\"type\":\"Grid\"}],\"left\":[{\"id\":\"11287\",\"type\":\"LinearAxis\"}],\"renderers\":[{\"id\":\"11316\",\"type\":\"GlyphRenderer\"}],\"title\":{\"id\":\"11272\",\"type\":\"Title\"},\"toolbar\":{\"id\":\"11301\",\"type\":\"Toolbar\"},\"x_range\":{\"id\":\"11209\",\"type\":\"DataRange1d\"},\"x_scale\":{\"id\":\"11278\",\"type\":\"LinearScale\"},\"y_range\":{\"id\":\"11210\",\"type\":\"DataRange1d\"},\"y_scale\":{\"id\":\"11280\",\"type\":\"LinearScale\"}},\"id\":\"11271\",\"subtype\":\"Figure\",\"type\":\"Plot\"},{\"attributes\":{\"fill_alpha\":{\"value\":0.5},\"fill_color\":{\"value\":\"lightgrey\"},\"level\":\"overlay\",\"line_alpha\":{\"value\":1.0},\"line_color\":{\"value\":\"black\"},\"line_dash\":[4,4],\"line_width\":{\"value\":2},\"xs_units\":\"screen\",\"ys_units\":\"screen\"},\"id\":\"11324\",\"type\":\"PolyAnnotation\"},{\"attributes\":{\"callback\":null,\"overlay\":{\"id\":\"11264\",\"type\":\"BoxAnnotation\"}},\"id\":\"11238\",\"type\":\"BoxSelectTool\"},{\"attributes\":{\"booleans\":[true,true,true,true,true,true,true,true,true,true,true,true,true,true,true,true,true,true,true,true,true,true,true,true,true,true,true,true,true,true,true,true,true,true,true,true,true,true,true,true,true,true,true,true,true,true,true,true,true,true,true,true,true,true,true,true,true,true,true,true,true,true,true,true,true,true,true,true,true,true,true,true,true,true,true,true,true,true,true,true,true,true,true,true,true,true,true,true,true,true,true,true,true,true,true,true,true,true,true,true,true]},\"id\":\"11311\",\"type\":\"BooleanFilter\"},{\"attributes\":{\"bottom_units\":\"screen\",\"fill_alpha\":{\"value\":0.5},\"fill_color\":{\"value\":\"lightgrey\"},\"left_units\":\"screen\",\"level\":\"overlay\",\"line_alpha\":{\"value\":1.0},\"line_color\":{\"value\":\"black\"},\"line_dash\":[4,4],\"line_width\":{\"value\":2},\"render_mode\":\"css\",\"right_units\":\"screen\",\"top_units\":\"screen\"},\"id\":\"11263\",\"type\":\"BoxAnnotation\"},{\"attributes\":{\"text\":\"All variants\",\"text_font_size\":{\"value\":\"14pt\"}},\"id\":\"11270\",\"type\":\"Title\"},{\"attributes\":{\"above\":[{\"id\":\"11268\",\"type\":\"Legend\"},{\"id\":\"11270\",\"type\":\"Title\"}],\"below\":[{\"id\":\"11223\",\"type\":\"LinearAxis\"}],\"center\":[{\"id\":\"11227\",\"type\":\"Grid\"},{\"id\":\"11232\",\"type\":\"Grid\"}],\"left\":[{\"id\":\"11228\",\"type\":\"LinearAxis\"}],\"renderers\":[{\"id\":\"11257\",\"type\":\"GlyphRenderer\"}],\"title\":{\"id\":\"11213\",\"type\":\"Title\"},\"toolbar\":{\"id\":\"11242\",\"type\":\"Toolbar\"},\"x_range\":{\"id\":\"11209\",\"type\":\"DataRange1d\"},\"x_scale\":{\"id\":\"11219\",\"type\":\"LinearScale\"},\"y_range\":{\"id\":\"11210\",\"type\":\"DataRange1d\"},\"y_scale\":{\"id\":\"11221\",\"type\":\"LinearScale\"}},\"id\":\"11212\",\"subtype\":\"Figure\",\"type\":\"Plot\"},{\"attributes\":{\"fill_color\":{\"field\":\"_color\"},\"line_color\":{\"field\":\"_color\"},\"size\":{\"field\":\"_size\",\"units\":\"screen\"},\"x\":{\"field\":\"bin\"},\"y\":{\"field\":\"cumul\"}},\"id\":\"11314\",\"type\":\"Circle\"},{\"attributes\":{\"fill_alpha\":{\"value\":0.1},\"fill_color\":{\"value\":\"#1f77b4\"},\"line_alpha\":{\"value\":0.1},\"line_color\":{\"value\":\"#1f77b4\"},\"size\":{\"field\":\"_size\",\"units\":\"screen\"},\"x\":{\"field\":\"bin\"},\"y\":{\"field\":\"non_cumul\"}},\"id\":\"11256\",\"type\":\"Circle\"},{\"attributes\":{\"data_source\":{\"id\":\"11211\",\"type\":\"ColumnDataSource\"},\"glyph\":{\"id\":\"11255\",\"type\":\"Circle\"},\"hover_glyph\":null,\"muted_glyph\":null,\"nonselection_glyph\":{\"id\":\"11256\",\"type\":\"Circle\"},\"selection_glyph\":null,\"view\":{\"id\":\"11253\",\"type\":\"CDSView\"}},\"id\":\"11257\",\"type\":\"GlyphRenderer\"},{\"attributes\":{\"filters\":[{\"id\":\"11311\",\"type\":\"BooleanFilter\"}],\"source\":{\"id\":\"11211\",\"type\":\"ColumnDataSource\"}},\"id\":\"11312\",\"type\":\"CDSView\"},{\"attributes\":{},\"id\":\"11219\",\"type\":\"LinearScale\"},{\"attributes\":{\"click_policy\":\"hide\",\"items\":[{\"id\":\"11269\",\"type\":\"LegendItem\"}],\"location\":[0,0],\"orientation\":\"horizontal\"},\"id\":\"11268\",\"type\":\"Legend\"},{\"attributes\":{\"fill_alpha\":{\"value\":0.5},\"fill_color\":{\"value\":\"lightgrey\"},\"level\":\"overlay\",\"line_alpha\":{\"value\":1.0},\"line_color\":{\"value\":\"black\"},\"line_dash\":[4,4],\"line_width\":{\"value\":2},\"xs_units\":\"screen\",\"ys_units\":\"screen\"},\"id\":\"11265\",\"type\":\"PolyAnnotation\"},{\"attributes\":{},\"id\":\"11221\",\"type\":\"LinearScale\"},{\"attributes\":{\"bottom_units\":\"screen\",\"fill_alpha\":{\"value\":0.5},\"fill_color\":{\"value\":\"lightgrey\"},\"left_units\":\"screen\",\"level\":\"overlay\",\"line_alpha\":{\"value\":1.0},\"line_color\":{\"value\":\"black\"},\"line_dash\":[4,4],\"line_width\":{\"value\":2},\"render_mode\":\"css\",\"right_units\":\"screen\",\"top_units\":\"screen\"},\"id\":\"11264\",\"type\":\"BoxAnnotation\"},{\"attributes\":{\"ticker\":{\"id\":\"11224\",\"type\":\"BasicTicker\"}},\"id\":\"11227\",\"type\":\"Grid\"},{\"attributes\":{\"text\":\"n_kgp_high_conf_snvs, cumulative\",\"text_font_size\":{\"value\":\"16pt\"}},\"id\":\"11272\",\"type\":\"Title\"},{\"attributes\":{},\"id\":\"11236\",\"type\":\"ResetTool\"},{\"attributes\":{\"axis_label\":\"bin\",\"axis_label_text_font_size\":{\"value\":\"16pt\"},\"axis_label_text_font_style\":\"normal\",\"formatter\":{\"id\":\"11259\",\"type\":\"BasicTickFormatter\"},\"major_label_text_font_size\":{\"value\":\"14pt\"},\"ticker\":{\"id\":\"11224\",\"type\":\"BasicTicker\"}},\"id\":\"11223\",\"type\":\"LinearAxis\"},{\"attributes\":{},\"id\":\"11318\",\"type\":\"BasicTickFormatter\"},{\"attributes\":{\"callback\":null,\"data\":{\"_color\":[\"blue\",\"blue\",\"blue\",\"blue\",\"blue\",\"blue\",\"blue\",\"blue\",\"blue\",\"blue\",\"blue\",\"blue\",\"blue\",\"blue\",\"blue\",\"blue\",\"blue\",\"blue\",\"blue\",\"blue\",\"blue\",\"blue\",\"blue\",\"blue\",\"blue\",\"blue\",\"blue\",\"blue\",\"blue\",\"blue\",\"blue\",\"blue\",\"blue\",\"blue\",\"blue\",\"blue\",\"blue\",\"blue\",\"blue\",\"blue\",\"blue\",\"blue\",\"blue\",\"blue\",\"blue\",\"blue\",\"blue\",\"blue\",\"blue\",\"blue\",\"blue\",\"blue\",\"blue\",\"blue\",\"blue\",\"blue\",\"blue\",\"blue\",\"blue\",\"blue\",\"blue\",\"blue\",\"blue\",\"blue\",\"blue\",\"blue\",\"blue\",\"blue\",\"blue\",\"blue\",\"blue\",\"blue\",\"blue\",\"blue\",\"blue\",\"blue\",\"blue\",\"blue\",\"blue\",\"blue\",\"blue\",\"blue\",\"blue\",\"blue\",\"blue\",\"blue\",\"blue\",\"blue\",\"blue\",\"blue\",\"blue\",\"blue\",\"blue\",\"blue\",\"blue\",\"blue\",\"blue\",\"blue\",\"blue\",\"blue\",\"blue\"],\"_n\":[33320,48808,52005,24286,20284,14838,9325,7118,14823,4160,8214,15489,11792,7844,7486,6636,6411,4999,5311,5740,8506,7070,7228,9055,5960,9563,7119,6284,4414,4810,4283,4389,3469,5081,4062,2901,2520,2381,1602,1614,1212,989,504,139,59,61,62,56,58,64,63,52,61,39,58,66,47,60,57,58,79,70,72,63,58,63,64,73,71,79,69,89,106,76,56,57,54,65,96,68,97,62,61,57,41,65,55,49,76,74,90,80,77,99,88,67,68,74,69,47,0],\"_size\":{\"__ndarray__\":\"5U72t4W0JkBY3hw55XorQNgxzbqjXSxA9PygnmFiI0AGaGcjH7chQBXuIrykTR5AoMzJ9uAFGECdnrOSDf0UQPrNVam4SR5AsYc2L5sLEEDDDE276IsWQOvuUtz+9R5AmW8qE7IDG0CJ8frMaQgWQKhVySsyhhVAf6vwy/FDFEDYHJ0lPOsTQIheAJPPlhFAYMMrNDMhEkCUz18rAtkSQGtmBC6b8RZAmfMk5+fqFED0So0saSYVQOlHnBIxrBdAgUPzuJo0E0DjqIqF3VMYQPEv5jBu/RRA9G4Wo3m4E0DbbrEXJocQQHwXQN3eQBFAj6iepuNHEECgEjtMJnsQQEWl4bTzTQ1ApYR1T5e7EUBKruu03rUPQMOSEXlYzApAxWOBIP/5CEAdyCouJ0cIQDK8mq4K6gNAzIyYkhn9A0CVEtWISFIBQKihBfA/S/8/OpCC4/ZW9j8AAAAAAADwPwAAAAAAAPA/AAAAAAAA8D8AAAAAAADwPwAAAAAAAPA/AAAAAAAA8D8AAAAAAADwPwAAAAAAAPA/AAAAAAAA8D8AAAAAAADwPwAAAAAAAPA/AAAAAAAA8D8AAAAAAADwPwAAAAAAAPA/AAAAAAAA8D8AAAAAAADwPwAAAAAAAPA/AAAAAAAA8D8AAAAAAADwPwAAAAAAAPA/AAAAAAAA8D8AAAAAAADwPwAAAAAAAPA/AAAAAAAA8D8AAAAAAADwPwAAAAAAAPA/AAAAAAAA8D8AAAAAAADwPwAAAAAAAPA/AAAAAAAA8D8AAAAAAADwPwAAAAAAAPA/AAAAAAAA8D8AAAAAAADwPwAAAAAAAPA/AAAAAAAA8D8AAAAAAADwPwAAAAAAAPA/AAAAAAAA8D8AAAAAAADwPwAAAAAAAPA/AAAAAAAA8D8AAAAAAADwPwAAAAAAAPA/AAAAAAAA8D8AAAAAAADwPwAAAAAAAPA/AAAAAAAA8D8AAAAAAADwPwAAAAAAAPA/AAAAAAAA8D8AAAAAAADwPwAAAAAAAPA/AAAAAAAA8D8AAAAAAADwPwAAAAAAAPA/AAAAAAAA8D8AAAAAAADwPw==\",\"dtype\":\"float64\",\"shape\":[101]},\"bin\":[1,2,3,4,5,6,7,8,9,10,11,12,13,14,15,16,17,18,19,20,21,22,23,24,25,26,27,28,29,30,31,32,33,34,35,36,37,38,39,40,41,42,43,44,45,46,47,48,49,50,51,52,53,54,55,56,57,58,59,60,61,62,63,64,65,66,67,68,69,70,71,72,73,74,75,76,77,78,79,80,81,82,83,84,85,86,87,88,89,90,91,92,93,94,95,96,97,98,99,100,101],\"cumul\":[33320,82128,134133,158419,178703,193541,202866,209984,224807,228967,237181,252670,264462,272306,279792,286428,292839,297838,303149,308889,317395,324465,331693,340748,346708,356271,363390,369674,374088,378898,383181,387570,391039,396120,400182,403083,405603,407984,409586,411200,412412,413401,413905,414044,414103,414164,414226,414282,414340,414404,414467,414519,414580,414619,414677,414743,414790,414850,414907,414965,415044,415114,415186,415249,415307,415370,415434,415507,415578,415657,415726,415815,415921,415997,416053,416110,416164,416229,416325,416393,416490,416552,416613,416670,416711,416776,416831,416880,416956,417030,417120,417200,417277,417376,417464,417531,417599,417673,417742,417789,417789],\"index\":[0,1,2,3,4,5,6,7,8,9,10,11,12,13,14,15,16,17,18,19,20,21,22,23,24,25,26,27,28,29,30,31,32,33,34,35,36,37,38,39,40,41,42,43,44,45,46,47,48,49,50,51,52,53,54,55,56,57,58,59,60,61,62,63,64,65,66,67,68,69,70,71,72,73,74,75,76,77,78,79,80,81,82,83,84,85,86,87,88,89,90,91,92,93,94,95,96,97,98,99,100],\"max_score\":{\"__ndarray__\":\"wMbqWrQymT/AxupatDKZPyCjTsXCOpk/AK42l6F2mT8AbhATn3+cP0Dq6yHLq5w/IFVcT4zDnD/AMad1pt+cPyBE8sFREJ4/wBQTtidAnj8AzJ2sH2SiP4C/w0oWhqI/oGN1AFCdoj+Q7Oh5q56iP+DypfTptKI/4FT5c5a2oj8Q6b0HywejP+C81TA0FKM/YFHOAbYfoz+AlxceInqjPyCJr3BE26M/sFy/kkCFpT/AyPZ5qD+mPyBNbNDbc68/OJEx8qWUsD+QtlicT0axP1B1C45zuLI/aG0A5Z8ftD+oNheGd7C1P+hUR1s5I7Y/SNLbMA60tz8Ip6Zlr+e3P0BCyIzVXrk/QMGqpcfquj/wU0loZo3AP8hokAXWzsE/bF+4FTJswz/4JCj7z37EPxCXunEC6cg/wFdVhKm7yT8k+WQ+waHMP+z8MfpfoM8/b0IMsBkg4D96n0z2Y4ftP61ou3ddjO0/o50pZtrH7T/cgnkQL8/tP9yCeRAvz+0/6VM5WdDg7T95cLfK5BHuPzk7nlhbKO4/o31xyKcr7j+jfXHIpyvuPyeEEngmLe4/os/r9Oo47j8Y20A8q1zuPya2dDEAhe4/qd54z23M7j/O28Cw/OfuP7HBuisAB+8/GOxpTikH7z8RU2E57QrvP4LPwN4nE+8/n0Wxiaka7z+fRbGJqRrvP1N6qKaSHO8/Jhhrd2Ef7z+cManCNiPvP6iXuqxkK+8/a+aH1Bgw7z+FGW2Yw2LvP0FKT4+3ZO8/lZcnkuxp7z/oQoGloWrvP+hCgaWhau8/6EKBpaFq7z9xoI/dKHPvP8I7UDP2dO8/ThXHuYF37z8WiSg2K3rvPzsEM/ZTf+8/VSPN+6qB7z9VI837qoHvP6jOJg9ggu8/qM4mD2CC7z+oziYPYILvP6jOJg9ggu8/cyHJLuuC7z/j/GQMPoXvPxXFvfb+hu8/IwA6HAiI7z/Q9Z/t8ojvPyVDePAnju8/JUN48CeO7z947tED3Y7vP3ju0QPdju8/eO7RA92O7z947tED3Y7vP3ju0QPdju8/8RY4kGSk7z8r78IHIqXvPw==\",\"dtype\":\"float64\",\"shape\":[101]},\"min_score\":{\"__ndarray__\":\"oMtKuUitmD/AxupatDKZP8DG6lq0Mpk/IKNOxcI6mT8ArjaXoXaZPwBuEBOff5w/QOrrIcurnD8gVVxPjMOcP8Axp3Wm35w/IETywVEQnj/AFBO2J0CePwDMnawfZKI/gL/DShaGoj+gY3UAUJ2iP5Ds6HmrnqI/4PKl9Om0oj/gVPlzlraiPxDpvQfLB6M/4LzVMDQUoz9gUc4Bth+jP4CXFx4ieqM/IImvcETboz+wXL+SQIWlP8DI9nmoP6Y/IE1s0Ntzrz84kTHypZSwP5C2WJxPRrE/UHULjnO4sj9obQDlnx+0P6g2F4Z3sLU/6FRHWzkjtj9I0tswDrS3PwinpmWv57c/QELIjNVeuT9Awaqlx+q6P/BTSWhmjcA/yGiQBdbOwT9sX7gVMmzDP/gkKPvPfsQ/EJe6cQLpyD/AV1WEqbvJPyT5ZD7Bocw/7Pwx+l+gzz9vQgywGSDgP3qfTPZjh+0/rWi7d12M7T+jnSlm2sftP9yCeRAvz+0/3IJ5EC/P7T/pUzlZ0ODtP3lwt8rkEe4/OTueWFso7j+jfXHIpyvuP6N9ccinK+4/J4QSeCYt7j+iz+v06jjuPxjbQDyrXO4/JrZ0MQCF7j+p3njPbczuP87bwLD85+4/scG6KwAH7z8Y7GlOKQfvPxFTYTntCu8/gs/A3icT7z+fRbGJqRrvP59FsYmpGu8/U3qoppIc7z8mGGt3YR/vP5wxqcI2I+8/qJe6rGQr7z9r5ofUGDDvP4UZbZjDYu8/QUpPj7dk7z+VlyeS7GnvP+hCgaWhau8/6EKBpaFq7z/oQoGloWrvP3Ggj90oc+8/wjtQM/Z07z9OFce5gXfvPxaJKDYreu8/OwQz9lN/7z9VI837qoHvP1Ujzfuqge8/qM4mD2CC7z+oziYPYILvP6jOJg9ggu8/qM4mD2CC7z9zIcku64LvP+P8ZAw+he8/FcW99v6G7z8jADocCIjvP9D1n+3yiO8/JUN48CeO7z8lQ3jwJ47vP3ju0QPdju8/eO7RA92O7z947tED3Y7vP3ju0QPdju8/eO7RA92O7z/xFjiQZKTvPw==\",\"dtype\":\"float64\",\"shape\":[101]},\"model\":[\"40eedd2d\",\"40eedd2d\",\"40eedd2d\",\"40eedd2d\",\"40eedd2d\",\"40eedd2d\",\"40eedd2d\",\"40eedd2d\",\"40eedd2d\",\"40eedd2d\",\"40eedd2d\",\"40eedd2d\",\"40eedd2d\",\"40eedd2d\",\"40eedd2d\",\"40eedd2d\",\"40eedd2d\",\"40eedd2d\",\"40eedd2d\",\"40eedd2d\",\"40eedd2d\",\"40eedd2d\",\"40eedd2d\",\"40eedd2d\",\"40eedd2d\",\"40eedd2d\",\"40eedd2d\",\"40eedd2d\",\"40eedd2d\",\"40eedd2d\",\"40eedd2d\",\"40eedd2d\",\"40eedd2d\",\"40eedd2d\",\"40eedd2d\",\"40eedd2d\",\"40eedd2d\",\"40eedd2d\",\"40eedd2d\",\"40eedd2d\",\"40eedd2d\",\"40eedd2d\",\"40eedd2d\",\"40eedd2d\",\"40eedd2d\",\"40eedd2d\",\"40eedd2d\",\"40eedd2d\",\"40eedd2d\",\"40eedd2d\",\"40eedd2d\",\"40eedd2d\",\"40eedd2d\",\"40eedd2d\",\"40eedd2d\",\"40eedd2d\",\"40eedd2d\",\"40eedd2d\",\"40eedd2d\",\"40eedd2d\",\"40eedd2d\",\"40eedd2d\",\"40eedd2d\",\"40eedd2d\",\"40eedd2d\",\"40eedd2d\",\"40eedd2d\",\"40eedd2d\",\"40eedd2d\",\"40eedd2d\",\"40eedd2d\",\"40eedd2d\",\"40eedd2d\",\"40eedd2d\",\"40eedd2d\",\"40eedd2d\",\"40eedd2d\",\"40eedd2d\",\"40eedd2d\",\"40eedd2d\",\"40eedd2d\",\"40eedd2d\",\"40eedd2d\",\"40eedd2d\",\"40eedd2d\",\"40eedd2d\",\"40eedd2d\",\"40eedd2d\",\"40eedd2d\",\"40eedd2d\",\"40eedd2d\",\"40eedd2d\",\"40eedd2d\",\"40eedd2d\",\"40eedd2d\",\"40eedd2d\",\"40eedd2d\",\"40eedd2d\",\"40eedd2d\",\"40eedd2d\",\"40eedd2d\"],\"n_kgp_high_conf_snvs\":[33320,48808,52005,24286,20284,14838,9325,7118,14823,4160,8214,15489,11792,7844,7486,6636,6411,4999,5311,5740,8506,7070,7228,9055,5960,9563,7119,6284,4414,4810,4283,4389,3469,5081,4062,2901,2520,2381,1602,1614,1212,989,504,139,59,61,62,56,58,64,63,52,61,39,58,66,47,60,57,58,79,70,72,63,58,63,64,73,71,79,69,89,106,76,56,57,54,65,96,68,97,62,61,57,41,65,55,49,76,74,90,80,77,99,88,67,68,74,69,47,0],\"n_kgp_high_conf_snvs_cumul\":[33320,82128,134133,158419,178703,193541,202866,209984,224807,228967,237181,252670,264462,272306,279792,286428,292839,297838,303149,308889,317395,324465,331693,340748,346708,356271,363390,369674,374088,378898,383181,387570,391039,396120,400182,403083,405603,407984,409586,411200,412412,413401,413905,414044,414103,414164,414226,414282,414340,414404,414467,414519,414580,414619,414677,414743,414790,414850,414907,414965,415044,415114,415186,415249,415307,415370,415434,415507,415578,415657,415726,415815,415921,415997,416053,416110,416164,416229,416325,416393,416490,416552,416613,416670,416711,416776,416831,416880,416956,417030,417120,417200,417277,417376,417464,417531,417599,417673,417742,417789,417789],\"non_cumul\":[33320,48808,52005,24286,20284,14838,9325,7118,14823,4160,8214,15489,11792,7844,7486,6636,6411,4999,5311,5740,8506,7070,7228,9055,5960,9563,7119,6284,4414,4810,4283,4389,3469,5081,4062,2901,2520,2381,1602,1614,1212,989,504,139,59,61,62,56,58,64,63,52,61,39,58,66,47,60,57,58,79,70,72,63,58,63,64,73,71,79,69,89,106,76,56,57,54,65,96,68,97,62,61,57,41,65,55,49,76,74,90,80,77,99,88,67,68,74,69,47,0]},\"selected\":{\"id\":\"11266\",\"type\":\"Selection\"},\"selection_policy\":{\"id\":\"11267\",\"type\":\"UnionRenderers\"}},\"id\":\"11211\",\"type\":\"ColumnDataSource\"},{\"attributes\":{},\"id\":\"11233\",\"type\":\"SaveTool\"}],\"root_ids\":[\"11333\"]},\"title\":\"Bokeh Application\",\"version\":\"1.4.0\"}};\n",
       "  var render_items = [{\"docid\":\"6657d502-9a7a-4ded-8c82-fa4012c3d6dd\",\"roots\":{\"11333\":\"702de735-bddd-4553-bfae-0d7a7439e7c9\"}}];\n",
       "  root.Bokeh.embed.embed_items_notebook(docs_json, render_items);\n",
       "\n",
       "  }\n",
       "  if (root.Bokeh !== undefined) {\n",
       "    embed_document(root);\n",
       "  } else {\n",
       "    var attempts = 0;\n",
       "    var timer = setInterval(function(root) {\n",
       "      if (root.Bokeh !== undefined) {\n",
       "        clearInterval(timer);\n",
       "        embed_document(root);\n",
       "      } else {\n",
       "        attempts++;\n",
       "        if (attempts > 100) {\n",
       "          clearInterval(timer);\n",
       "          console.log(\"Bokeh: ERROR: Unable to run BokehJS code because BokehJS library is missing\");\n",
       "        }\n",
       "      }\n",
       "    }, 10, root)\n",
       "  }\n",
       "})(window);"
      ],
      "application/vnd.bokehjs_exec.v0+json": ""
     },
     "metadata": {
      "application/vnd.bokehjs_exec.v0+json": {
       "id": "11333"
      }
     },
     "output_type": "display_data"
    },
    {
     "name": "stdout",
     "output_type": "stream",
     "text": [
      "\n"
     ]
    }
   ],
   "source": [
    "#1kg high confidence SNVs\n",
    "tabs = plot_metric(snvs, 'n_kgp_high_conf_snvs', ['n_kgp_high_conf_snvs'], y_fun=lambda x: x[0], plot_bi_allelics=False, plot_singletons=False, plot_bi_allelic_singletons=False, colors=colors, )\n",
    "show(tabs)"
   ]
  },
  {
   "cell_type": "code",
   "execution_count": 39,
   "id": "a04dacdb",
   "metadata": {},
   "outputs": [
    {
     "name": "stderr",
     "output_type": "stream",
     "text": [
      "/home/ubuntu/venv/lib/python3.8/site-packages/bokeh/models/plots.py:767: UserWarning: \n",
      "You are attempting to set `plot.legend.label_text_font_size` on a plot that has zero legends added, this will have no effect.\n",
      "\n",
      "Before legend properties can be set, you must add a Legend explicitly, or call a glyph method with a legend parameter set.\n",
      "\n",
      "  warnings.warn(_LEGEND_EMPTY_WARNING % attr)\n"
     ]
    },
    {
     "data": {
      "text/html": [
       "\n",
       "\n",
       "\n",
       "\n",
       "\n",
       "\n",
       "  <div class=\"bk-root\" id=\"19715455-07dc-44b3-92e9-52e252d385ab\" data-root-id=\"12093\"></div>\n"
      ]
     },
     "metadata": {},
     "output_type": "display_data"
    },
    {
     "data": {
      "application/javascript": [
       "(function(root) {\n",
       "  function embed_document(root) {\n",
       "    \n",
       "  var docs_json = {\"eee2d643-ad41-46a5-bef9-623af2519026\":{\"roots\":{\"references\":[{\"attributes\":{\"callback\":null,\"tabs\":[{\"id\":\"12092\",\"type\":\"Panel\"}]},\"id\":\"12093\",\"type\":\"Tabs\"},{\"attributes\":{\"ticker\":{\"id\":\"11984\",\"type\":\"BasicTicker\"}},\"id\":\"11987\",\"type\":\"Grid\"},{\"attributes\":{\"callback\":null,\"overlay\":{\"id\":\"12024\",\"type\":\"BoxAnnotation\"}},\"id\":\"11998\",\"type\":\"BoxSelectTool\"},{\"attributes\":{},\"id\":\"11989\",\"type\":\"BasicTicker\"},{\"attributes\":{\"filters\":[{\"id\":\"12012\",\"type\":\"BooleanFilter\"}],\"source\":{\"id\":\"11971\",\"type\":\"ColumnDataSource\"}},\"id\":\"12013\",\"type\":\"CDSView\"},{\"attributes\":{\"bottom_units\":\"screen\",\"fill_alpha\":{\"value\":0.5},\"fill_color\":{\"value\":\"lightgrey\"},\"left_units\":\"screen\",\"level\":\"overlay\",\"line_alpha\":{\"value\":1.0},\"line_color\":{\"value\":\"black\"},\"line_dash\":[4,4],\"line_width\":{\"value\":2},\"render_mode\":\"css\",\"right_units\":\"screen\",\"top_units\":\"screen\"},\"id\":\"12083\",\"type\":\"BoxAnnotation\"},{\"attributes\":{},\"id\":\"12043\",\"type\":\"BasicTicker\"},{\"attributes\":{},\"id\":\"11994\",\"type\":\"PanTool\"},{\"attributes\":{\"fill_alpha\":{\"value\":0.5},\"fill_color\":{\"value\":\"lightgrey\"},\"level\":\"overlay\",\"line_alpha\":{\"value\":1.0},\"line_color\":{\"value\":\"black\"},\"line_dash\":[4,4],\"line_width\":{\"value\":2},\"xs_units\":\"screen\",\"ys_units\":\"screen\"},\"id\":\"12084\",\"type\":\"PolyAnnotation\"},{\"attributes\":{\"active_drag\":\"auto\",\"active_inspect\":\"auto\",\"active_multi\":null,\"active_scroll\":\"auto\",\"active_tap\":\"auto\",\"tools\":[{\"id\":\"11993\",\"type\":\"SaveTool\"},{\"id\":\"11994\",\"type\":\"PanTool\"},{\"id\":\"11995\",\"type\":\"BoxZoomTool\"},{\"id\":\"11996\",\"type\":\"ResetTool\"},{\"id\":\"11997\",\"type\":\"WheelZoomTool\"},{\"id\":\"11998\",\"type\":\"BoxSelectTool\"},{\"id\":\"11999\",\"type\":\"LassoSelectTool\"},{\"id\":\"12000\",\"type\":\"HelpTool\"},{\"id\":\"12001\",\"type\":\"HoverTool\"}]},\"id\":\"12002\",\"type\":\"Toolbar\"},{\"attributes\":{\"label\":{\"value\":\"40eedd2d\"},\"renderers\":[{\"id\":\"12017\",\"type\":\"GlyphRenderer\"}]},\"id\":\"12029\",\"type\":\"LegendItem\"},{\"attributes\":{\"callback\":null},\"id\":\"11969\",\"type\":\"DataRange1d\"},{\"attributes\":{\"text\":\"n_omni, cumulative\",\"text_font_size\":{\"value\":\"16pt\"}},\"id\":\"12032\",\"type\":\"Title\"},{\"attributes\":{},\"id\":\"12078\",\"type\":\"BasicTickFormatter\"},{\"attributes\":{\"fill_color\":{\"field\":\"_color\"},\"line_color\":{\"field\":\"_color\"},\"size\":{\"field\":\"_size\",\"units\":\"screen\"},\"x\":{\"field\":\"bin\"},\"y\":{\"field\":\"cumul\"}},\"id\":\"12074\",\"type\":\"Circle\"},{\"attributes\":{\"axis_label\":\"bin\",\"axis_label_text_font_size\":{\"value\":\"16pt\"},\"axis_label_text_font_style\":\"normal\",\"formatter\":{\"id\":\"12078\",\"type\":\"BasicTickFormatter\"},\"major_label_text_font_size\":{\"value\":\"14pt\"},\"ticker\":{\"id\":\"12043\",\"type\":\"BasicTicker\"}},\"id\":\"12042\",\"type\":\"LinearAxis\"},{\"attributes\":{\"axis_label\":\"n_omni\",\"axis_label_text_font_size\":{\"value\":\"16pt\"},\"axis_label_text_font_style\":\"normal\",\"formatter\":{\"id\":\"12021\",\"type\":\"BasicTickFormatter\"},\"major_label_text_font_size\":{\"value\":\"14pt\"},\"ticker\":{\"id\":\"11989\",\"type\":\"BasicTicker\"}},\"id\":\"11988\",\"type\":\"LinearAxis\"},{\"attributes\":{\"click_policy\":\"hide\",\"items\":[{\"id\":\"12029\",\"type\":\"LegendItem\"}],\"location\":[0,0],\"orientation\":\"horizontal\"},\"id\":\"12028\",\"type\":\"Legend\"},{\"attributes\":{\"filters\":[{\"id\":\"12071\",\"type\":\"BooleanFilter\"}],\"source\":{\"id\":\"11971\",\"type\":\"ColumnDataSource\"}},\"id\":\"12072\",\"type\":\"CDSView\"},{\"attributes\":{\"bottom_units\":\"screen\",\"fill_alpha\":{\"value\":0.5},\"fill_color\":{\"value\":\"lightgrey\"},\"left_units\":\"screen\",\"level\":\"overlay\",\"line_alpha\":{\"value\":1.0},\"line_color\":{\"value\":\"black\"},\"line_dash\":[4,4],\"line_width\":{\"value\":2},\"render_mode\":\"css\",\"right_units\":\"screen\",\"top_units\":\"screen\"},\"id\":\"12023\",\"type\":\"BoxAnnotation\"},{\"attributes\":{\"above\":[{\"id\":\"12087\",\"type\":\"Legend\"},{\"id\":\"12089\",\"type\":\"Title\"}],\"below\":[{\"id\":\"12042\",\"type\":\"LinearAxis\"}],\"center\":[{\"id\":\"12046\",\"type\":\"Grid\"},{\"id\":\"12051\",\"type\":\"Grid\"}],\"left\":[{\"id\":\"12047\",\"type\":\"LinearAxis\"}],\"renderers\":[{\"id\":\"12076\",\"type\":\"GlyphRenderer\"}],\"title\":{\"id\":\"12032\",\"type\":\"Title\"},\"toolbar\":{\"id\":\"12061\",\"type\":\"Toolbar\"},\"x_range\":{\"id\":\"11969\",\"type\":\"DataRange1d\"},\"x_scale\":{\"id\":\"12038\",\"type\":\"LinearScale\"},\"y_range\":{\"id\":\"11970\",\"type\":\"DataRange1d\"},\"y_scale\":{\"id\":\"12040\",\"type\":\"LinearScale\"}},\"id\":\"12031\",\"subtype\":\"Figure\",\"type\":\"Plot\"},{\"attributes\":{\"child\":{\"id\":\"12091\",\"type\":\"Column\"},\"title\":\"All\"},\"id\":\"12092\",\"type\":\"Panel\"},{\"attributes\":{\"data_source\":{\"id\":\"11971\",\"type\":\"ColumnDataSource\"},\"glyph\":{\"id\":\"12015\",\"type\":\"Circle\"},\"hover_glyph\":null,\"muted_glyph\":null,\"nonselection_glyph\":{\"id\":\"12016\",\"type\":\"Circle\"},\"selection_glyph\":null,\"view\":{\"id\":\"12013\",\"type\":\"CDSView\"}},\"id\":\"12017\",\"type\":\"GlyphRenderer\"},{\"attributes\":{},\"id\":\"12000\",\"type\":\"HelpTool\"},{\"attributes\":{\"click_policy\":\"hide\",\"items\":[{\"id\":\"12088\",\"type\":\"LegendItem\"}],\"location\":[0,0],\"orientation\":\"horizontal\"},\"id\":\"12087\",\"type\":\"Legend\"},{\"attributes\":{\"children\":[{\"id\":\"11972\",\"subtype\":\"Figure\",\"type\":\"Plot\"},{\"id\":\"12031\",\"subtype\":\"Figure\",\"type\":\"Plot\"}]},\"id\":\"12090\",\"type\":\"Row\"},{\"attributes\":{\"axis_label\":\"n_omni\",\"axis_label_text_font_size\":{\"value\":\"16pt\"},\"axis_label_text_font_style\":\"normal\",\"formatter\":{\"id\":\"12080\",\"type\":\"BasicTickFormatter\"},\"major_label_text_font_size\":{\"value\":\"14pt\"},\"ticker\":{\"id\":\"12048\",\"type\":\"BasicTicker\"}},\"id\":\"12047\",\"type\":\"LinearAxis\"},{\"attributes\":{},\"id\":\"12040\",\"type\":\"LinearScale\"},{\"attributes\":{\"fill_alpha\":{\"value\":0.1},\"fill_color\":{\"value\":\"#1f77b4\"},\"line_alpha\":{\"value\":0.1},\"line_color\":{\"value\":\"#1f77b4\"},\"size\":{\"field\":\"_size\",\"units\":\"screen\"},\"x\":{\"field\":\"bin\"},\"y\":{\"field\":\"non_cumul\"}},\"id\":\"12016\",\"type\":\"Circle\"},{\"attributes\":{},\"id\":\"12048\",\"type\":\"BasicTicker\"},{\"attributes\":{\"bottom_units\":\"screen\",\"fill_alpha\":{\"value\":0.5},\"fill_color\":{\"value\":\"lightgrey\"},\"left_units\":\"screen\",\"level\":\"overlay\",\"line_alpha\":{\"value\":1.0},\"line_color\":{\"value\":\"black\"},\"line_dash\":[4,4],\"line_width\":{\"value\":2},\"render_mode\":\"css\",\"right_units\":\"screen\",\"top_units\":\"screen\"},\"id\":\"12024\",\"type\":\"BoxAnnotation\"},{\"attributes\":{},\"id\":\"12038\",\"type\":\"LinearScale\"},{\"attributes\":{},\"id\":\"11993\",\"type\":\"SaveTool\"},{\"attributes\":{\"ticker\":{\"id\":\"12043\",\"type\":\"BasicTicker\"}},\"id\":\"12046\",\"type\":\"Grid\"},{\"attributes\":{\"overlay\":{\"id\":\"12023\",\"type\":\"BoxAnnotation\"}},\"id\":\"11995\",\"type\":\"BoxZoomTool\"},{\"attributes\":{\"text\":\"All variants\",\"text_font_size\":{\"value\":\"14pt\"}},\"id\":\"12030\",\"type\":\"Title\"},{\"attributes\":{\"fill_alpha\":{\"value\":0.5},\"fill_color\":{\"value\":\"lightgrey\"},\"level\":\"overlay\",\"line_alpha\":{\"value\":1.0},\"line_color\":{\"value\":\"black\"},\"line_dash\":[4,4],\"line_width\":{\"value\":2},\"xs_units\":\"screen\",\"ys_units\":\"screen\"},\"id\":\"12025\",\"type\":\"PolyAnnotation\"},{\"attributes\":{},\"id\":\"11981\",\"type\":\"LinearScale\"},{\"attributes\":{\"axis_label\":\"bin\",\"axis_label_text_font_size\":{\"value\":\"16pt\"},\"axis_label_text_font_style\":\"normal\",\"formatter\":{\"id\":\"12019\",\"type\":\"BasicTickFormatter\"},\"major_label_text_font_size\":{\"value\":\"14pt\"},\"ticker\":{\"id\":\"11984\",\"type\":\"BasicTicker\"}},\"id\":\"11983\",\"type\":\"LinearAxis\"},{\"attributes\":{},\"id\":\"11997\",\"type\":\"WheelZoomTool\"},{\"attributes\":{\"dimension\":1,\"ticker\":{\"id\":\"11989\",\"type\":\"BasicTicker\"}},\"id\":\"11992\",\"type\":\"Grid\"},{\"attributes\":{\"dimension\":1,\"ticker\":{\"id\":\"12048\",\"type\":\"BasicTicker\"}},\"id\":\"12051\",\"type\":\"Grid\"},{\"attributes\":{},\"id\":\"12080\",\"type\":\"BasicTickFormatter\"},{\"attributes\":{\"callback\":null,\"overlay\":{\"id\":\"12025\",\"type\":\"PolyAnnotation\"}},\"id\":\"11999\",\"type\":\"LassoSelectTool\"},{\"attributes\":{},\"id\":\"12053\",\"type\":\"PanTool\"},{\"attributes\":{\"active_drag\":\"auto\",\"active_inspect\":\"auto\",\"active_multi\":null,\"active_scroll\":\"auto\",\"active_tap\":\"auto\",\"tools\":[{\"id\":\"12052\",\"type\":\"SaveTool\"},{\"id\":\"12053\",\"type\":\"PanTool\"},{\"id\":\"12054\",\"type\":\"BoxZoomTool\"},{\"id\":\"12055\",\"type\":\"ResetTool\"},{\"id\":\"12056\",\"type\":\"WheelZoomTool\"},{\"id\":\"12057\",\"type\":\"BoxSelectTool\"},{\"id\":\"12058\",\"type\":\"LassoSelectTool\"},{\"id\":\"12059\",\"type\":\"HelpTool\"},{\"id\":\"12060\",\"type\":\"HoverTool\"}]},\"id\":\"12061\",\"type\":\"Toolbar\"},{\"attributes\":{\"text\":\"n_omni\",\"text_font_size\":{\"value\":\"16pt\"}},\"id\":\"11973\",\"type\":\"Title\"},{\"attributes\":{\"fill_color\":{\"field\":\"_color\"},\"line_color\":{\"field\":\"_color\"},\"size\":{\"field\":\"_size\",\"units\":\"screen\"},\"x\":{\"field\":\"bin\"},\"y\":{\"field\":\"non_cumul\"}},\"id\":\"12015\",\"type\":\"Circle\"},{\"attributes\":{},\"id\":\"12052\",\"type\":\"SaveTool\"},{\"attributes\":{\"overlay\":{\"id\":\"12082\",\"type\":\"BoxAnnotation\"}},\"id\":\"12054\",\"type\":\"BoxZoomTool\"},{\"attributes\":{},\"id\":\"12019\",\"type\":\"BasicTickFormatter\"},{\"attributes\":{\"callback\":null,\"overlay\":{\"id\":\"12083\",\"type\":\"BoxAnnotation\"}},\"id\":\"12057\",\"type\":\"BoxSelectTool\"},{\"attributes\":{},\"id\":\"12026\",\"type\":\"Selection\"},{\"attributes\":{\"callback\":null,\"tooltips\":[[\"model\",\"@model\"],[\"bin\",\"@bin\"],[\"n_omni\",\"@cumul\"],[\"min_score\",\"@min_score\"],[\"max_score\",\"@max_score\"],[\"n_data_points\",\"@_n\"],[\"n_omni\",\"@n_omni\"]]},\"id\":\"12060\",\"type\":\"HoverTool\"},{\"attributes\":{},\"id\":\"12027\",\"type\":\"UnionRenderers\"},{\"attributes\":{},\"id\":\"11984\",\"type\":\"BasicTicker\"},{\"attributes\":{\"callback\":null,\"data\":{\"_color\":[\"blue\",\"blue\",\"blue\",\"blue\",\"blue\",\"blue\",\"blue\",\"blue\",\"blue\",\"blue\",\"blue\",\"blue\",\"blue\",\"blue\",\"blue\",\"blue\",\"blue\",\"blue\",\"blue\",\"blue\",\"blue\",\"blue\",\"blue\",\"blue\",\"blue\",\"blue\",\"blue\",\"blue\",\"blue\",\"blue\",\"blue\",\"blue\",\"blue\",\"blue\",\"blue\",\"blue\",\"blue\",\"blue\",\"blue\",\"blue\",\"blue\",\"blue\",\"blue\",\"blue\",\"blue\",\"blue\",\"blue\",\"blue\",\"blue\",\"blue\",\"blue\",\"blue\",\"blue\",\"blue\",\"blue\",\"blue\",\"blue\",\"blue\",\"blue\",\"blue\",\"blue\",\"blue\",\"blue\",\"blue\",\"blue\",\"blue\",\"blue\",\"blue\",\"blue\",\"blue\",\"blue\",\"blue\",\"blue\",\"blue\",\"blue\",\"blue\",\"blue\",\"blue\",\"blue\",\"blue\",\"blue\",\"blue\",\"blue\",\"blue\",\"blue\",\"blue\",\"blue\",\"blue\",\"blue\",\"blue\",\"blue\",\"blue\",\"blue\",\"blue\",\"blue\",\"blue\",\"blue\",\"blue\",\"blue\",\"blue\",\"blue\"],\"_n\":[11744,19557,21979,7643,5962,3499,1903,999,3416,507,1246,3438,2357,1483,1116,835,722,698,719,666,1333,932,986,1553,601,1032,604,458,429,433,314,343,277,342,272,212,162,131,82,61,62,31,126,29,23,29,18,9,18,11,15,22,23,22,20,9,20,31,32,13,12,6,9,5,0,4,10,8,12,11,9,3,5,4,1,2,3,3,4,5,6,2,4,3,2,2,2,1,6,2,4,6,4,8,1,4,5,1,3,9,0],\"_size\":{\"__ndarray__\":\"m6QKH8ROK0AAAAAAAAAwQAAAAAAAADBA9cdk25oHJkB9PH3T9HQjQM53HKCnzx1APZ79+if8FUD7tknBqtsPQF8tcpeYdB1AN6s2tw+yBkD1Ma0zIsoRQLGVK8DWjB1AEhIU6aJ3GECoSWamaGgTQKbvD/8D1hBA+8vz4T0gDUBevzSoYhULQEQZP9csoQpAUj2WQfcGC0APqMIAEwMKQBlykphxZhJAhrvkwG7FDkCIUQqobaYPQLM9ZbZQ3BNADEyfSMe1CECxCLhNozAQQEL3rQOMxQhAZNcCkiqSBUBnCPepeuAEQCcpb1tW+QRAXweWQV/cAUDY/+m72qoCQOY/giyKxgBAJbLZEeKjAkDm4y6Wmp8AQIJsbWYPWv0/+lZ1aXio+T9laU5lqhL3PyjzSUIxQfI/AAAAAAAA8D8AAAAAAADwPwAAAAAAAPA/9pi1qtig9j8AAAAAAADwPwAAAAAAAPA/AAAAAAAA8D8AAAAAAADwPwAAAAAAAPA/AAAAAAAA8D8AAAAAAADwPwAAAAAAAPA/AAAAAAAA8D8AAAAAAADwPwAAAAAAAPA/AAAAAAAA8D8AAAAAAADwPwAAAAAAAPA/AAAAAAAA8D8AAAAAAADwPwAAAAAAAPA/AAAAAAAA8D8AAAAAAADwPwAAAAAAAPA/AAAAAAAA8D8AAAAAAADwPwAAAAAAAPA/AAAAAAAA8D8AAAAAAADwPwAAAAAAAPA/AAAAAAAA8D8AAAAAAADwPwAAAAAAAPA/AAAAAAAA8D8AAAAAAADwPwAAAAAAAPA/AAAAAAAA8D8AAAAAAADwPwAAAAAAAPA/AAAAAAAA8D8AAAAAAADwPwAAAAAAAPA/AAAAAAAA8D8AAAAAAADwPwAAAAAAAPA/AAAAAAAA8D8AAAAAAADwPwAAAAAAAPA/AAAAAAAA8D8AAAAAAADwPwAAAAAAAPA/AAAAAAAA8D8AAAAAAADwPwAAAAAAAPA/AAAAAAAA8D8AAAAAAADwPwAAAAAAAPA/AAAAAAAA8D8AAAAAAADwPwAAAAAAAPA/AAAAAAAA8D8AAAAAAADwPw==\",\"dtype\":\"float64\",\"shape\":[101]},\"bin\":[1,2,3,4,5,6,7,8,9,10,11,12,13,14,15,16,17,18,19,20,21,22,23,24,25,26,27,28,29,30,31,32,33,34,35,36,37,38,39,40,41,42,43,44,45,46,47,48,49,50,51,52,53,54,55,56,57,58,59,60,61,62,63,64,65,66,67,68,69,70,71,72,73,74,75,76,77,78,79,80,81,82,83,84,85,86,87,88,89,90,91,92,93,94,95,96,97,98,99,100,101],\"cumul\":[11744,31301,53280,60923,66885,70384,72287,73286,76702,77209,78455,81893,84250,85733,86849,87684,88406,89104,89823,90489,91822,92754,93740,95293,95894,96926,97530,97988,98417,98850,99164,99507,99784,100126,100398,100610,100772,100903,100985,101046,101108,101139,101265,101294,101317,101346,101364,101373,101391,101402,101417,101439,101462,101484,101504,101513,101533,101564,101596,101609,101621,101627,101636,101641,101641,101645,101655,101663,101675,101686,101695,101698,101703,101707,101708,101710,101713,101716,101720,101725,101731,101733,101737,101740,101742,101744,101746,101747,101753,101755,101759,101765,101769,101777,101778,101782,101787,101788,101791,101800,101800],\"index\":[0,1,2,3,4,5,6,7,8,9,10,11,12,13,14,15,16,17,18,19,20,21,22,23,24,25,26,27,28,29,30,31,32,33,34,35,36,37,38,39,40,41,42,43,44,45,46,47,48,49,50,51,52,53,54,55,56,57,58,59,60,61,62,63,64,65,66,67,68,69,70,71,72,73,74,75,76,77,78,79,80,81,82,83,84,85,86,87,88,89,90,91,92,93,94,95,96,97,98,99,100],\"max_score\":{\"__ndarray__\":\"wMbqWrQymT/AxupatDKZPyCjTsXCOpk/AK42l6F2mT8AbhATn3+cP0Dq6yHLq5w/IFVcT4zDnD/AMad1pt+cPyBE8sFREJ4/wBQTtidAnj8AzJ2sH2SiP4C/w0oWhqI/oGN1AFCdoj+Q7Oh5q56iP+DypfTptKI/4FT5c5a2oj8Q6b0HywejP+C81TA0FKM/YFHOAbYfoz+AlxceInqjPyCJr3BE26M/sFy/kkCFpT/AyPZ5qD+mPyBNbNDbc68/OJEx8qWUsD+QtlicT0axP1B1C45zuLI/aG0A5Z8ftD+oNheGd7C1P+hUR1s5I7Y/SNLbMA60tz8Ip6Zlr+e3P0BCyIzVXrk/QMGqpcfquj/wU0loZo3AP8hokAXWzsE/bF+4FTJswz/4JCj7z37EPxCXunEC6cg/wFdVhKm7yT8k+WQ+waHMP+z8MfpfoM8/b0IMsBkg4D96n0z2Y4ftP61ou3ddjO0/o50pZtrH7T/cgnkQL8/tP9yCeRAvz+0/6VM5WdDg7T95cLfK5BHuPzk7nlhbKO4/o31xyKcr7j+jfXHIpyvuPyeEEngmLe4/os/r9Oo47j8Y20A8q1zuPya2dDEAhe4/qd54z23M7j/O28Cw/OfuP7HBuisAB+8/GOxpTikH7z8RU2E57QrvP4LPwN4nE+8/n0Wxiaka7z+fRbGJqRrvP1N6qKaSHO8/Jhhrd2Ef7z+cManCNiPvP6iXuqxkK+8/a+aH1Bgw7z+FGW2Yw2LvP0FKT4+3ZO8/lZcnkuxp7z/oQoGloWrvP+hCgaWhau8/6EKBpaFq7z9xoI/dKHPvP8I7UDP2dO8/ThXHuYF37z8WiSg2K3rvPzsEM/ZTf+8/VSPN+6qB7z9VI837qoHvP6jOJg9ggu8/qM4mD2CC7z+oziYPYILvP6jOJg9ggu8/cyHJLuuC7z/j/GQMPoXvPxXFvfb+hu8/IwA6HAiI7z/Q9Z/t8ojvPyVDePAnju8/JUN48CeO7z947tED3Y7vP3ju0QPdju8/eO7RA92O7z947tED3Y7vP3ju0QPdju8/8RY4kGSk7z8r78IHIqXvPw==\",\"dtype\":\"float64\",\"shape\":[101]},\"min_score\":{\"__ndarray__\":\"oMtKuUitmD/AxupatDKZP8DG6lq0Mpk/IKNOxcI6mT8ArjaXoXaZPwBuEBOff5w/QOrrIcurnD8gVVxPjMOcP8Axp3Wm35w/IETywVEQnj/AFBO2J0CePwDMnawfZKI/gL/DShaGoj+gY3UAUJ2iP5Ds6HmrnqI/4PKl9Om0oj/gVPlzlraiPxDpvQfLB6M/4LzVMDQUoz9gUc4Bth+jP4CXFx4ieqM/IImvcETboz+wXL+SQIWlP8DI9nmoP6Y/IE1s0Ntzrz84kTHypZSwP5C2WJxPRrE/UHULjnO4sj9obQDlnx+0P6g2F4Z3sLU/6FRHWzkjtj9I0tswDrS3PwinpmWv57c/QELIjNVeuT9Awaqlx+q6P/BTSWhmjcA/yGiQBdbOwT9sX7gVMmzDP/gkKPvPfsQ/EJe6cQLpyD/AV1WEqbvJPyT5ZD7Bocw/7Pwx+l+gzz9vQgywGSDgP3qfTPZjh+0/rWi7d12M7T+jnSlm2sftP9yCeRAvz+0/3IJ5EC/P7T/pUzlZ0ODtP3lwt8rkEe4/OTueWFso7j+jfXHIpyvuP6N9ccinK+4/J4QSeCYt7j+iz+v06jjuPxjbQDyrXO4/JrZ0MQCF7j+p3njPbczuP87bwLD85+4/scG6KwAH7z8Y7GlOKQfvPxFTYTntCu8/gs/A3icT7z+fRbGJqRrvP59FsYmpGu8/U3qoppIc7z8mGGt3YR/vP5wxqcI2I+8/qJe6rGQr7z9r5ofUGDDvP4UZbZjDYu8/QUpPj7dk7z+VlyeS7GnvP+hCgaWhau8/6EKBpaFq7z/oQoGloWrvP3Ggj90oc+8/wjtQM/Z07z9OFce5gXfvPxaJKDYreu8/OwQz9lN/7z9VI837qoHvP1Ujzfuqge8/qM4mD2CC7z+oziYPYILvP6jOJg9ggu8/qM4mD2CC7z9zIcku64LvP+P8ZAw+he8/FcW99v6G7z8jADocCIjvP9D1n+3yiO8/JUN48CeO7z8lQ3jwJ47vP3ju0QPdju8/eO7RA92O7z947tED3Y7vP3ju0QPdju8/eO7RA92O7z/xFjiQZKTvPw==\",\"dtype\":\"float64\",\"shape\":[101]},\"model\":[\"40eedd2d\",\"40eedd2d\",\"40eedd2d\",\"40eedd2d\",\"40eedd2d\",\"40eedd2d\",\"40eedd2d\",\"40eedd2d\",\"40eedd2d\",\"40eedd2d\",\"40eedd2d\",\"40eedd2d\",\"40eedd2d\",\"40eedd2d\",\"40eedd2d\",\"40eedd2d\",\"40eedd2d\",\"40eedd2d\",\"40eedd2d\",\"40eedd2d\",\"40eedd2d\",\"40eedd2d\",\"40eedd2d\",\"40eedd2d\",\"40eedd2d\",\"40eedd2d\",\"40eedd2d\",\"40eedd2d\",\"40eedd2d\",\"40eedd2d\",\"40eedd2d\",\"40eedd2d\",\"40eedd2d\",\"40eedd2d\",\"40eedd2d\",\"40eedd2d\",\"40eedd2d\",\"40eedd2d\",\"40eedd2d\",\"40eedd2d\",\"40eedd2d\",\"40eedd2d\",\"40eedd2d\",\"40eedd2d\",\"40eedd2d\",\"40eedd2d\",\"40eedd2d\",\"40eedd2d\",\"40eedd2d\",\"40eedd2d\",\"40eedd2d\",\"40eedd2d\",\"40eedd2d\",\"40eedd2d\",\"40eedd2d\",\"40eedd2d\",\"40eedd2d\",\"40eedd2d\",\"40eedd2d\",\"40eedd2d\",\"40eedd2d\",\"40eedd2d\",\"40eedd2d\",\"40eedd2d\",\"40eedd2d\",\"40eedd2d\",\"40eedd2d\",\"40eedd2d\",\"40eedd2d\",\"40eedd2d\",\"40eedd2d\",\"40eedd2d\",\"40eedd2d\",\"40eedd2d\",\"40eedd2d\",\"40eedd2d\",\"40eedd2d\",\"40eedd2d\",\"40eedd2d\",\"40eedd2d\",\"40eedd2d\",\"40eedd2d\",\"40eedd2d\",\"40eedd2d\",\"40eedd2d\",\"40eedd2d\",\"40eedd2d\",\"40eedd2d\",\"40eedd2d\",\"40eedd2d\",\"40eedd2d\",\"40eedd2d\",\"40eedd2d\",\"40eedd2d\",\"40eedd2d\",\"40eedd2d\",\"40eedd2d\",\"40eedd2d\",\"40eedd2d\",\"40eedd2d\",\"40eedd2d\"],\"n_omni\":[11744,19557,21979,7643,5962,3499,1903,999,3416,507,1246,3438,2357,1483,1116,835,722,698,719,666,1333,932,986,1553,601,1032,604,458,429,433,314,343,277,342,272,212,162,131,82,61,62,31,126,29,23,29,18,9,18,11,15,22,23,22,20,9,20,31,32,13,12,6,9,5,0,4,10,8,12,11,9,3,5,4,1,2,3,3,4,5,6,2,4,3,2,2,2,1,6,2,4,6,4,8,1,4,5,1,3,9,0],\"n_omni_cumul\":[11744,31301,53280,60923,66885,70384,72287,73286,76702,77209,78455,81893,84250,85733,86849,87684,88406,89104,89823,90489,91822,92754,93740,95293,95894,96926,97530,97988,98417,98850,99164,99507,99784,100126,100398,100610,100772,100903,100985,101046,101108,101139,101265,101294,101317,101346,101364,101373,101391,101402,101417,101439,101462,101484,101504,101513,101533,101564,101596,101609,101621,101627,101636,101641,101641,101645,101655,101663,101675,101686,101695,101698,101703,101707,101708,101710,101713,101716,101720,101725,101731,101733,101737,101740,101742,101744,101746,101747,101753,101755,101759,101765,101769,101777,101778,101782,101787,101788,101791,101800,101800],\"non_cumul\":[11744,19557,21979,7643,5962,3499,1903,999,3416,507,1246,3438,2357,1483,1116,835,722,698,719,666,1333,932,986,1553,601,1032,604,458,429,433,314,343,277,342,272,212,162,131,82,61,62,31,126,29,23,29,18,9,18,11,15,22,23,22,20,9,20,31,32,13,12,6,9,5,0,4,10,8,12,11,9,3,5,4,1,2,3,3,4,5,6,2,4,3,2,2,2,1,6,2,4,6,4,8,1,4,5,1,3,9,0]},\"selected\":{\"id\":\"12026\",\"type\":\"Selection\"},\"selection_policy\":{\"id\":\"12027\",\"type\":\"UnionRenderers\"}},\"id\":\"11971\",\"type\":\"ColumnDataSource\"},{\"attributes\":{},\"id\":\"12055\",\"type\":\"ResetTool\"},{\"attributes\":{},\"id\":\"12056\",\"type\":\"WheelZoomTool\"},{\"attributes\":{\"callback\":null},\"id\":\"11970\",\"type\":\"DataRange1d\"},{\"attributes\":{},\"id\":\"12059\",\"type\":\"HelpTool\"},{\"attributes\":{\"label\":{\"value\":\"40eedd2d\"},\"renderers\":[{\"id\":\"12076\",\"type\":\"GlyphRenderer\"}]},\"id\":\"12088\",\"type\":\"LegendItem\"},{\"attributes\":{\"callback\":null,\"overlay\":{\"id\":\"12084\",\"type\":\"PolyAnnotation\"}},\"id\":\"12058\",\"type\":\"LassoSelectTool\"},{\"attributes\":{\"text\":\"All variants\",\"text_font_size\":{\"value\":\"14pt\"}},\"id\":\"12089\",\"type\":\"Title\"},{\"attributes\":{},\"id\":\"12021\",\"type\":\"BasicTickFormatter\"},{\"attributes\":{},\"id\":\"11996\",\"type\":\"ResetTool\"},{\"attributes\":{\"fill_alpha\":{\"value\":0.1},\"fill_color\":{\"value\":\"#1f77b4\"},\"line_alpha\":{\"value\":0.1},\"line_color\":{\"value\":\"#1f77b4\"},\"size\":{\"field\":\"_size\",\"units\":\"screen\"},\"x\":{\"field\":\"bin\"},\"y\":{\"field\":\"cumul\"}},\"id\":\"12075\",\"type\":\"Circle\"},{\"attributes\":{\"bottom_units\":\"screen\",\"fill_alpha\":{\"value\":0.5},\"fill_color\":{\"value\":\"lightgrey\"},\"left_units\":\"screen\",\"level\":\"overlay\",\"line_alpha\":{\"value\":1.0},\"line_color\":{\"value\":\"black\"},\"line_dash\":[4,4],\"line_width\":{\"value\":2},\"render_mode\":\"css\",\"right_units\":\"screen\",\"top_units\":\"screen\"},\"id\":\"12082\",\"type\":\"BoxAnnotation\"},{\"attributes\":{\"callback\":null,\"tooltips\":[[\"model\",\"@model\"],[\"bin\",\"@bin\"],[\"n_omni\",\"@non_cumul\"],[\"min_score\",\"@min_score\"],[\"max_score\",\"@max_score\"],[\"n_data_points\",\"@_n\"],[\"n_omni\",\"@n_omni\"]]},\"id\":\"12001\",\"type\":\"HoverTool\"},{\"attributes\":{\"booleans\":[true,true,true,true,true,true,true,true,true,true,true,true,true,true,true,true,true,true,true,true,true,true,true,true,true,true,true,true,true,true,true,true,true,true,true,true,true,true,true,true,true,true,true,true,true,true,true,true,true,true,true,true,true,true,true,true,true,true,true,true,true,true,true,true,true,true,true,true,true,true,true,true,true,true,true,true,true,true,true,true,true,true,true,true,true,true,true,true,true,true,true,true,true,true,true,true,true,true,true,true,true]},\"id\":\"12012\",\"type\":\"BooleanFilter\"},{\"attributes\":{\"children\":[{\"id\":\"12090\",\"type\":\"Row\"}]},\"id\":\"12091\",\"type\":\"Column\"},{\"attributes\":{\"booleans\":[true,true,true,true,true,true,true,true,true,true,true,true,true,true,true,true,true,true,true,true,true,true,true,true,true,true,true,true,true,true,true,true,true,true,true,true,true,true,true,true,true,true,true,true,true,true,true,true,true,true,true,true,true,true,true,true,true,true,true,true,true,true,true,true,true,true,true,true,true,true,true,true,true,true,true,true,true,true,true,true,true,true,true,true,true,true,true,true,true,true,true,true,true,true,true,true,true,true,true,true,true]},\"id\":\"12071\",\"type\":\"BooleanFilter\"},{\"attributes\":{\"data_source\":{\"id\":\"11971\",\"type\":\"ColumnDataSource\"},\"glyph\":{\"id\":\"12074\",\"type\":\"Circle\"},\"hover_glyph\":null,\"muted_glyph\":null,\"nonselection_glyph\":{\"id\":\"12075\",\"type\":\"Circle\"},\"selection_glyph\":null,\"view\":{\"id\":\"12072\",\"type\":\"CDSView\"}},\"id\":\"12076\",\"type\":\"GlyphRenderer\"},{\"attributes\":{\"above\":[{\"id\":\"12028\",\"type\":\"Legend\"},{\"id\":\"12030\",\"type\":\"Title\"}],\"below\":[{\"id\":\"11983\",\"type\":\"LinearAxis\"}],\"center\":[{\"id\":\"11987\",\"type\":\"Grid\"},{\"id\":\"11992\",\"type\":\"Grid\"}],\"left\":[{\"id\":\"11988\",\"type\":\"LinearAxis\"}],\"renderers\":[{\"id\":\"12017\",\"type\":\"GlyphRenderer\"}],\"title\":{\"id\":\"11973\",\"type\":\"Title\"},\"toolbar\":{\"id\":\"12002\",\"type\":\"Toolbar\"},\"x_range\":{\"id\":\"11969\",\"type\":\"DataRange1d\"},\"x_scale\":{\"id\":\"11979\",\"type\":\"LinearScale\"},\"y_range\":{\"id\":\"11970\",\"type\":\"DataRange1d\"},\"y_scale\":{\"id\":\"11981\",\"type\":\"LinearScale\"}},\"id\":\"11972\",\"subtype\":\"Figure\",\"type\":\"Plot\"},{\"attributes\":{},\"id\":\"11979\",\"type\":\"LinearScale\"}],\"root_ids\":[\"12093\"]},\"title\":\"Bokeh Application\",\"version\":\"1.4.0\"}};\n",
       "  var render_items = [{\"docid\":\"eee2d643-ad41-46a5-bef9-623af2519026\",\"roots\":{\"12093\":\"19715455-07dc-44b3-92e9-52e252d385ab\"}}];\n",
       "  root.Bokeh.embed.embed_items_notebook(docs_json, render_items);\n",
       "\n",
       "  }\n",
       "  if (root.Bokeh !== undefined) {\n",
       "    embed_document(root);\n",
       "  } else {\n",
       "    var attempts = 0;\n",
       "    var timer = setInterval(function(root) {\n",
       "      if (root.Bokeh !== undefined) {\n",
       "        clearInterval(timer);\n",
       "        embed_document(root);\n",
       "      } else {\n",
       "        attempts++;\n",
       "        if (attempts > 100) {\n",
       "          clearInterval(timer);\n",
       "          console.log(\"Bokeh: ERROR: Unable to run BokehJS code because BokehJS library is missing\");\n",
       "        }\n",
       "      }\n",
       "    }, 10, root)\n",
       "  }\n",
       "})(window);"
      ],
      "application/vnd.bokehjs_exec.v0+json": ""
     },
     "metadata": {
      "application/vnd.bokehjs_exec.v0+json": {
       "id": "12093"
      }
     },
     "output_type": "display_data"
    },
    {
     "name": "stdout",
     "output_type": "stream",
     "text": [
      "\n"
     ]
    }
   ],
   "source": [
    "#omni SNVs\n",
    "tabs = plot_metric(snvs, 'n_omni', ['n_omni'], y_fun=lambda x: x[0], plot_bi_allelics=False, plot_singletons=False, plot_bi_allelic_singletons=False, colors=colors, )\n",
    "show(tabs)"
   ]
  },
  {
   "cell_type": "code",
   "execution_count": 40,
   "id": "da2e43c5",
   "metadata": {},
   "outputs": [
    {
     "name": "stderr",
     "output_type": "stream",
     "text": [
      "/home/ubuntu/venv/lib/python3.8/site-packages/bokeh/models/plots.py:767: UserWarning: \n",
      "You are attempting to set `plot.legend.label_text_font_size` on a plot that has zero legends added, this will have no effect.\n",
      "\n",
      "Before legend properties can be set, you must add a Legend explicitly, or call a glyph method with a legend parameter set.\n",
      "\n",
      "  warnings.warn(_LEGEND_EMPTY_WARNING % attr)\n"
     ]
    },
    {
     "data": {
      "text/html": [
       "\n",
       "\n",
       "\n",
       "\n",
       "\n",
       "\n",
       "  <div class=\"bk-root\" id=\"c88f7e1d-943c-4606-88b8-3893f8cd5698\" data-root-id=\"12871\"></div>\n"
      ]
     },
     "metadata": {},
     "output_type": "display_data"
    },
    {
     "data": {
      "application/javascript": [
       "(function(root) {\n",
       "  function embed_document(root) {\n",
       "    \n",
       "  var docs_json = {\"b88c94d8-08c7-4f12-ad7f-526fe0cfa4bb\":{\"roots\":{\"references\":[{\"attributes\":{\"callback\":null,\"tabs\":[{\"id\":\"12870\",\"type\":\"Panel\"}]},\"id\":\"12871\",\"type\":\"Tabs\"},{\"attributes\":{\"fill_color\":{\"field\":\"_color\"},\"line_color\":{\"field\":\"_color\"},\"size\":{\"field\":\"_size\",\"units\":\"screen\"},\"x\":{\"field\":\"bin\"},\"y\":{\"field\":\"non_cumul\"}},\"id\":\"12793\",\"type\":\"Circle\"},{\"attributes\":{},\"id\":\"12831\",\"type\":\"PanTool\"},{\"attributes\":{},\"id\":\"12858\",\"type\":\"BasicTickFormatter\"},{\"attributes\":{\"axis_label\":\"bin\",\"axis_label_text_font_size\":{\"value\":\"16pt\"},\"axis_label_text_font_style\":\"normal\",\"formatter\":{\"id\":\"12797\",\"type\":\"BasicTickFormatter\"},\"major_label_text_font_size\":{\"value\":\"14pt\"},\"ticker\":{\"id\":\"12762\",\"type\":\"BasicTicker\"}},\"id\":\"12761\",\"type\":\"LinearAxis\"},{\"attributes\":{\"data_source\":{\"id\":\"12749\",\"type\":\"ColumnDataSource\"},\"glyph\":{\"id\":\"12793\",\"type\":\"Circle\"},\"hover_glyph\":null,\"muted_glyph\":null,\"nonselection_glyph\":{\"id\":\"12794\",\"type\":\"Circle\"},\"selection_glyph\":null,\"view\":{\"id\":\"12791\",\"type\":\"CDSView\"}},\"id\":\"12795\",\"type\":\"GlyphRenderer\"},{\"attributes\":{\"active_drag\":\"auto\",\"active_inspect\":\"auto\",\"active_multi\":null,\"active_scroll\":\"auto\",\"active_tap\":\"auto\",\"tools\":[{\"id\":\"12830\",\"type\":\"SaveTool\"},{\"id\":\"12831\",\"type\":\"PanTool\"},{\"id\":\"12832\",\"type\":\"BoxZoomTool\"},{\"id\":\"12833\",\"type\":\"ResetTool\"},{\"id\":\"12834\",\"type\":\"WheelZoomTool\"},{\"id\":\"12835\",\"type\":\"BoxSelectTool\"},{\"id\":\"12836\",\"type\":\"LassoSelectTool\"},{\"id\":\"12837\",\"type\":\"HelpTool\"},{\"id\":\"12838\",\"type\":\"HoverTool\"}]},\"id\":\"12839\",\"type\":\"Toolbar\"},{\"attributes\":{},\"id\":\"12762\",\"type\":\"BasicTicker\"},{\"attributes\":{},\"id\":\"12830\",\"type\":\"SaveTool\"},{\"attributes\":{\"overlay\":{\"id\":\"12860\",\"type\":\"BoxAnnotation\"}},\"id\":\"12832\",\"type\":\"BoxZoomTool\"},{\"attributes\":{\"callback\":null,\"overlay\":{\"id\":\"12861\",\"type\":\"BoxAnnotation\"}},\"id\":\"12835\",\"type\":\"BoxSelectTool\"},{\"attributes\":{\"callback\":null,\"tooltips\":[[\"model\",\"@model\"],[\"bin\",\"@bin\"],[\"n_mills\",\"@cumul\"],[\"min_score\",\"@min_score\"],[\"max_score\",\"@max_score\"],[\"n_data_points\",\"@_n\"],[\"n_mills\",\"@n_mills\"]]},\"id\":\"12838\",\"type\":\"HoverTool\"},{\"attributes\":{\"label\":{\"value\":\"40eedd2d\"},\"renderers\":[{\"id\":\"12854\",\"type\":\"GlyphRenderer\"}]},\"id\":\"12866\",\"type\":\"LegendItem\"},{\"attributes\":{},\"id\":\"12767\",\"type\":\"BasicTicker\"},{\"attributes\":{},\"id\":\"12833\",\"type\":\"ResetTool\"},{\"attributes\":{},\"id\":\"12834\",\"type\":\"WheelZoomTool\"},{\"attributes\":{},\"id\":\"12804\",\"type\":\"Selection\"},{\"attributes\":{},\"id\":\"12837\",\"type\":\"HelpTool\"},{\"attributes\":{\"callback\":null,\"overlay\":{\"id\":\"12862\",\"type\":\"PolyAnnotation\"}},\"id\":\"12836\",\"type\":\"LassoSelectTool\"},{\"attributes\":{\"text\":\"All variants\",\"text_font_size\":{\"value\":\"14pt\"}},\"id\":\"12867\",\"type\":\"Title\"},{\"attributes\":{\"bottom_units\":\"screen\",\"fill_alpha\":{\"value\":0.5},\"fill_color\":{\"value\":\"lightgrey\"},\"left_units\":\"screen\",\"level\":\"overlay\",\"line_alpha\":{\"value\":1.0},\"line_color\":{\"value\":\"black\"},\"line_dash\":[4,4],\"line_width\":{\"value\":2},\"render_mode\":\"css\",\"right_units\":\"screen\",\"top_units\":\"screen\"},\"id\":\"12860\",\"type\":\"BoxAnnotation\"},{\"attributes\":{\"active_drag\":\"auto\",\"active_inspect\":\"auto\",\"active_multi\":null,\"active_scroll\":\"auto\",\"active_tap\":\"auto\",\"tools\":[{\"id\":\"12771\",\"type\":\"SaveTool\"},{\"id\":\"12772\",\"type\":\"PanTool\"},{\"id\":\"12773\",\"type\":\"BoxZoomTool\"},{\"id\":\"12774\",\"type\":\"ResetTool\"},{\"id\":\"12775\",\"type\":\"WheelZoomTool\"},{\"id\":\"12776\",\"type\":\"BoxSelectTool\"},{\"id\":\"12777\",\"type\":\"LassoSelectTool\"},{\"id\":\"12778\",\"type\":\"HelpTool\"},{\"id\":\"12779\",\"type\":\"HoverTool\"}]},\"id\":\"12780\",\"type\":\"Toolbar\"},{\"attributes\":{\"text\":\"n_mills\",\"text_font_size\":{\"value\":\"16pt\"}},\"id\":\"12751\",\"type\":\"Title\"},{\"attributes\":{\"fill_alpha\":{\"value\":0.1},\"fill_color\":{\"value\":\"#1f77b4\"},\"line_alpha\":{\"value\":0.1},\"line_color\":{\"value\":\"#1f77b4\"},\"size\":{\"field\":\"_size\",\"units\":\"screen\"},\"x\":{\"field\":\"bin\"},\"y\":{\"field\":\"cumul\"}},\"id\":\"12853\",\"type\":\"Circle\"},{\"attributes\":{},\"id\":\"12772\",\"type\":\"PanTool\"},{\"attributes\":{},\"id\":\"12774\",\"type\":\"ResetTool\"},{\"attributes\":{},\"id\":\"12778\",\"type\":\"HelpTool\"},{\"attributes\":{},\"id\":\"12799\",\"type\":\"BasicTickFormatter\"},{\"attributes\":{\"filters\":[{\"id\":\"12790\",\"type\":\"BooleanFilter\"}],\"source\":{\"id\":\"12749\",\"type\":\"ColumnDataSource\"}},\"id\":\"12791\",\"type\":\"CDSView\"},{\"attributes\":{\"fill_color\":{\"field\":\"_color\"},\"line_color\":{\"field\":\"_color\"},\"size\":{\"field\":\"_size\",\"units\":\"screen\"},\"x\":{\"field\":\"bin\"},\"y\":{\"field\":\"cumul\"}},\"id\":\"12852\",\"type\":\"Circle\"},{\"attributes\":{},\"id\":\"12775\",\"type\":\"WheelZoomTool\"},{\"attributes\":{\"data_source\":{\"id\":\"12749\",\"type\":\"ColumnDataSource\"},\"glyph\":{\"id\":\"12852\",\"type\":\"Circle\"},\"hover_glyph\":null,\"muted_glyph\":null,\"nonselection_glyph\":{\"id\":\"12853\",\"type\":\"Circle\"},\"selection_glyph\":null,\"view\":{\"id\":\"12850\",\"type\":\"CDSView\"}},\"id\":\"12854\",\"type\":\"GlyphRenderer\"},{\"attributes\":{},\"id\":\"12797\",\"type\":\"BasicTickFormatter\"},{\"attributes\":{\"callback\":null,\"overlay\":{\"id\":\"12802\",\"type\":\"BoxAnnotation\"}},\"id\":\"12776\",\"type\":\"BoxSelectTool\"},{\"attributes\":{\"bottom_units\":\"screen\",\"fill_alpha\":{\"value\":0.5},\"fill_color\":{\"value\":\"lightgrey\"},\"left_units\":\"screen\",\"level\":\"overlay\",\"line_alpha\":{\"value\":1.0},\"line_color\":{\"value\":\"black\"},\"line_dash\":[4,4],\"line_width\":{\"value\":2},\"render_mode\":\"css\",\"right_units\":\"screen\",\"top_units\":\"screen\"},\"id\":\"12861\",\"type\":\"BoxAnnotation\"},{\"attributes\":{\"booleans\":[true,true,true,true,true,true,true,true,true,true,true,true,true,true,true,true,true,true,true,true,true,true,true,true,true,true,true,true,true,true,true,true,true,true,true,true,true,true,true,true,true,true,true,true,true,true,true,true,true,true,true,true,true,true,true,true,true,true,true,true,true,true,true,true,true,true,true,true,true,true,true,true,true,true,true,true,true,true,true,true,true,true,true,true,true,true,true,true,true,true,true,true,true,true,true,true,true,true,true,true,true]},\"id\":\"12849\",\"type\":\"BooleanFilter\"},{\"attributes\":{\"text\":\"All variants\",\"text_font_size\":{\"value\":\"14pt\"}},\"id\":\"12808\",\"type\":\"Title\"},{\"attributes\":{\"fill_alpha\":{\"value\":0.5},\"fill_color\":{\"value\":\"lightgrey\"},\"level\":\"overlay\",\"line_alpha\":{\"value\":1.0},\"line_color\":{\"value\":\"black\"},\"line_dash\":[4,4],\"line_width\":{\"value\":2},\"xs_units\":\"screen\",\"ys_units\":\"screen\"},\"id\":\"12862\",\"type\":\"PolyAnnotation\"},{\"attributes\":{\"bottom_units\":\"screen\",\"fill_alpha\":{\"value\":0.5},\"fill_color\":{\"value\":\"lightgrey\"},\"left_units\":\"screen\",\"level\":\"overlay\",\"line_alpha\":{\"value\":1.0},\"line_color\":{\"value\":\"black\"},\"line_dash\":[4,4],\"line_width\":{\"value\":2},\"render_mode\":\"css\",\"right_units\":\"screen\",\"top_units\":\"screen\"},\"id\":\"12801\",\"type\":\"BoxAnnotation\"},{\"attributes\":{\"click_policy\":\"hide\",\"items\":[{\"id\":\"12807\",\"type\":\"LegendItem\"}],\"location\":[0,0],\"orientation\":\"horizontal\"},\"id\":\"12806\",\"type\":\"Legend\"},{\"attributes\":{\"children\":[{\"id\":\"12868\",\"type\":\"Row\"}]},\"id\":\"12869\",\"type\":\"Column\"},{\"attributes\":{},\"id\":\"12821\",\"type\":\"BasicTicker\"},{\"attributes\":{\"callback\":null},\"id\":\"12747\",\"type\":\"DataRange1d\"},{\"attributes\":{\"above\":[{\"id\":\"12806\",\"type\":\"Legend\"},{\"id\":\"12808\",\"type\":\"Title\"}],\"below\":[{\"id\":\"12761\",\"type\":\"LinearAxis\"}],\"center\":[{\"id\":\"12765\",\"type\":\"Grid\"},{\"id\":\"12770\",\"type\":\"Grid\"}],\"left\":[{\"id\":\"12766\",\"type\":\"LinearAxis\"}],\"renderers\":[{\"id\":\"12795\",\"type\":\"GlyphRenderer\"}],\"title\":{\"id\":\"12751\",\"type\":\"Title\"},\"toolbar\":{\"id\":\"12780\",\"type\":\"Toolbar\"},\"x_range\":{\"id\":\"12747\",\"type\":\"DataRange1d\"},\"x_scale\":{\"id\":\"12757\",\"type\":\"LinearScale\"},\"y_range\":{\"id\":\"12748\",\"type\":\"DataRange1d\"},\"y_scale\":{\"id\":\"12759\",\"type\":\"LinearScale\"}},\"id\":\"12750\",\"subtype\":\"Figure\",\"type\":\"Plot\"},{\"attributes\":{\"label\":{\"value\":\"40eedd2d\"},\"renderers\":[{\"id\":\"12795\",\"type\":\"GlyphRenderer\"}]},\"id\":\"12807\",\"type\":\"LegendItem\"},{\"attributes\":{\"text\":\"n_mills, cumulative\",\"text_font_size\":{\"value\":\"16pt\"}},\"id\":\"12810\",\"type\":\"Title\"},{\"attributes\":{},\"id\":\"12856\",\"type\":\"BasicTickFormatter\"},{\"attributes\":{\"axis_label\":\"bin\",\"axis_label_text_font_size\":{\"value\":\"16pt\"},\"axis_label_text_font_style\":\"normal\",\"formatter\":{\"id\":\"12856\",\"type\":\"BasicTickFormatter\"},\"major_label_text_font_size\":{\"value\":\"14pt\"},\"ticker\":{\"id\":\"12821\",\"type\":\"BasicTicker\"}},\"id\":\"12820\",\"type\":\"LinearAxis\"},{\"attributes\":{\"child\":{\"id\":\"12869\",\"type\":\"Column\"},\"title\":\"All\"},\"id\":\"12870\",\"type\":\"Panel\"},{\"attributes\":{\"filters\":[{\"id\":\"12849\",\"type\":\"BooleanFilter\"}],\"source\":{\"id\":\"12749\",\"type\":\"ColumnDataSource\"}},\"id\":\"12850\",\"type\":\"CDSView\"},{\"attributes\":{\"dimension\":1,\"ticker\":{\"id\":\"12767\",\"type\":\"BasicTicker\"}},\"id\":\"12770\",\"type\":\"Grid\"},{\"attributes\":{\"bottom_units\":\"screen\",\"fill_alpha\":{\"value\":0.5},\"fill_color\":{\"value\":\"lightgrey\"},\"left_units\":\"screen\",\"level\":\"overlay\",\"line_alpha\":{\"value\":1.0},\"line_color\":{\"value\":\"black\"},\"line_dash\":[4,4],\"line_width\":{\"value\":2},\"render_mode\":\"css\",\"right_units\":\"screen\",\"top_units\":\"screen\"},\"id\":\"12802\",\"type\":\"BoxAnnotation\"},{\"attributes\":{\"above\":[{\"id\":\"12865\",\"type\":\"Legend\"},{\"id\":\"12867\",\"type\":\"Title\"}],\"below\":[{\"id\":\"12820\",\"type\":\"LinearAxis\"}],\"center\":[{\"id\":\"12824\",\"type\":\"Grid\"},{\"id\":\"12829\",\"type\":\"Grid\"}],\"left\":[{\"id\":\"12825\",\"type\":\"LinearAxis\"}],\"renderers\":[{\"id\":\"12854\",\"type\":\"GlyphRenderer\"}],\"title\":{\"id\":\"12810\",\"type\":\"Title\"},\"toolbar\":{\"id\":\"12839\",\"type\":\"Toolbar\"},\"x_range\":{\"id\":\"12747\",\"type\":\"DataRange1d\"},\"x_scale\":{\"id\":\"12816\",\"type\":\"LinearScale\"},\"y_range\":{\"id\":\"12748\",\"type\":\"DataRange1d\"},\"y_scale\":{\"id\":\"12818\",\"type\":\"LinearScale\"}},\"id\":\"12809\",\"subtype\":\"Figure\",\"type\":\"Plot\"},{\"attributes\":{\"callback\":null,\"tooltips\":[[\"model\",\"@model\"],[\"bin\",\"@bin\"],[\"n_mills\",\"@non_cumul\"],[\"min_score\",\"@min_score\"],[\"max_score\",\"@max_score\"],[\"n_data_points\",\"@_n\"],[\"n_mills\",\"@n_mills\"]]},\"id\":\"12779\",\"type\":\"HoverTool\"},{\"attributes\":{\"overlay\":{\"id\":\"12801\",\"type\":\"BoxAnnotation\"}},\"id\":\"12773\",\"type\":\"BoxZoomTool\"},{\"attributes\":{\"click_policy\":\"hide\",\"items\":[{\"id\":\"12866\",\"type\":\"LegendItem\"}],\"location\":[0,0],\"orientation\":\"horizontal\"},\"id\":\"12865\",\"type\":\"Legend\"},{\"attributes\":{\"fill_alpha\":{\"value\":0.1},\"fill_color\":{\"value\":\"#1f77b4\"},\"line_alpha\":{\"value\":0.1},\"line_color\":{\"value\":\"#1f77b4\"},\"size\":{\"field\":\"_size\",\"units\":\"screen\"},\"x\":{\"field\":\"bin\"},\"y\":{\"field\":\"non_cumul\"}},\"id\":\"12794\",\"type\":\"Circle\"},{\"attributes\":{\"fill_alpha\":{\"value\":0.5},\"fill_color\":{\"value\":\"lightgrey\"},\"level\":\"overlay\",\"line_alpha\":{\"value\":1.0},\"line_color\":{\"value\":\"black\"},\"line_dash\":[4,4],\"line_width\":{\"value\":2},\"xs_units\":\"screen\",\"ys_units\":\"screen\"},\"id\":\"12803\",\"type\":\"PolyAnnotation\"},{\"attributes\":{\"axis_label\":\"n_mills\",\"axis_label_text_font_size\":{\"value\":\"16pt\"},\"axis_label_text_font_style\":\"normal\",\"formatter\":{\"id\":\"12858\",\"type\":\"BasicTickFormatter\"},\"major_label_text_font_size\":{\"value\":\"14pt\"},\"ticker\":{\"id\":\"12826\",\"type\":\"BasicTicker\"}},\"id\":\"12825\",\"type\":\"LinearAxis\"},{\"attributes\":{\"callback\":null,\"overlay\":{\"id\":\"12803\",\"type\":\"PolyAnnotation\"}},\"id\":\"12777\",\"type\":\"LassoSelectTool\"},{\"attributes\":{\"callback\":null,\"data\":{\"_color\":[\"blue\",\"blue\",\"blue\",\"blue\",\"blue\",\"blue\",\"blue\",\"blue\",\"blue\",\"blue\",\"blue\",\"blue\",\"blue\",\"blue\",\"blue\",\"blue\",\"blue\",\"blue\",\"blue\",\"blue\",\"blue\",\"blue\",\"blue\",\"blue\",\"blue\",\"blue\",\"blue\",\"blue\",\"blue\",\"blue\",\"blue\",\"blue\",\"blue\",\"blue\",\"blue\",\"blue\",\"blue\",\"blue\",\"blue\",\"blue\",\"blue\",\"blue\",\"blue\",\"blue\",\"blue\",\"blue\",\"blue\",\"blue\",\"blue\",\"blue\",\"blue\",\"blue\",\"blue\",\"blue\",\"blue\",\"blue\",\"blue\",\"blue\",\"blue\",\"blue\",\"blue\",\"blue\",\"blue\",\"blue\",\"blue\",\"blue\",\"blue\",\"blue\",\"blue\",\"blue\",\"blue\",\"blue\",\"blue\",\"blue\",\"blue\",\"blue\",\"blue\",\"blue\",\"blue\",\"blue\",\"blue\",\"blue\",\"blue\",\"blue\",\"blue\",\"blue\",\"blue\",\"blue\",\"blue\",\"blue\",\"blue\",\"blue\",\"blue\",\"blue\",\"blue\",\"blue\",\"blue\",\"blue\",\"blue\",\"blue\",\"blue\"],\"_n\":[618,1109,1147,935,892,503,571,415,255,209,178,141,150,87,221,138,256,194,129,69,101,110,66,63,48,80,42,41,130,100,148,155,222,165,43,137,109,130,116,37,52,83,58,126,95,53,96,73,105,73,82,85,87,91,79,71,106,85,121,125,148,56,81,53,79,88,50,40,39,58,71,49,69,55,36,40,39,39,22,18,31,30,28,12,26,32,23,30,19,16,31,16,31,14,17,14,10,13,10,12,0],\"_size\":{\"__ndarray__\":\"GK4weWgrIUDtYLkyCgAnQHvJET0RZCdAZwaYrW4eJUCSj4pupqAkQH5zsPLV+h5ACGy+zfaAIEBXuuSawSMcQL+M1pvVDhZA0PXuAjT4E0DZa8zr220SQOrEuqT8ZhBAG+M+nuzqEEABICvXqsQJQK7izq/qiBRA/aQdnxM6EEC4Qh9T5RkWQCHMlulVPRNASDu9/KpgD0BK9XRkwPIGQNkfIMWkwwtAMOFjYJD5DEB5N/nOnnEGQIZTZ/uE7QVAwimeqeEjA0CL4GJFuLUIQN1w4GBr5wFArOcVtoawAUB229//vX8PQGYT56deoAtAPD/IXvTNEEBpuRbBgzIRQMsK9vrLlBRAVhKazE++EUCtSWi5qR0CQLCWMo//KhBAewevUsXXDEB229//vX8PQAc9y+IswQ1APD/IXvTNAEAF2bJW9esDQBeFvkg8KwlASV91BSgKBUC+3XkhtwIPQK+j2BhL7QpA28UcTcMcBED4BMuWehELQEDNIqeimgdAy6sUwAVPDEBAzSKnopoHQMRF/51NBAlAlzR4GWd4CUABICvXqsQJQMGwLFqcWgpAnGmgSg+OCECJkYfgSEcHQMiV6kdzcQxAlzR4GWd4CUC9+0pSm2MOQK2Yu1Ym4w5APD/IXvTNEEB/PlEWeqwEQA8rg/0h3QhA28UcTcMcBECcaaBKD44IQIluU4146glAi8MGreuIA0AYOnKZ9XgBQCoGwYixQAFASV91BSgKBUCJkYfgSEcHQGFau6ioVgNASvV0ZMDyBkDyKi6BAn0EQApyV/5rkwBAGDpymfV4AUAqBsGIsUABQCoGwYixQAFAiW5TjXjq+T90t6HPGnH3P7SFkyh1w/4/lT2tlGRD/j9dbzRPsTz9P8IpnqnhI/M/cEZOJm4s/D9Hn9cUeUH/P7oQeSmUf/o/lT2tlGRD/j8uL6aLjBX4P7hCH1PlGfY/tIWTKHXD/j+4Qh9T5Rn2P7SFkyh1w/4/fz5RFnqs9D9q7yyHBsj2P38+URZ6rPQ/GDpymfV48T8F2bJW9evzPxg6cpn1ePE/wimeqeEj8z8AAAAAAADwPw==\",\"dtype\":\"float64\",\"shape\":[101]},\"bin\":[1,2,3,4,5,6,7,8,9,10,11,12,13,14,15,16,17,18,19,20,21,22,23,24,25,26,27,28,29,30,31,32,33,34,35,36,37,38,39,40,41,42,43,44,45,46,47,48,49,50,51,52,53,54,55,56,57,58,59,60,61,62,63,64,65,66,67,68,69,70,71,72,73,74,75,76,77,78,79,80,81,82,83,84,85,86,87,88,89,90,91,92,93,94,95,96,97,98,99,100,101],\"cumul\":[618,1727,2874,3809,4701,5204,5775,6190,6445,6654,6832,6973,7123,7210,7431,7569,7825,8019,8148,8217,8318,8428,8494,8557,8605,8685,8727,8768,8898,8998,9146,9301,9523,9688,9731,9868,9977,10107,10223,10260,10312,10395,10453,10579,10674,10727,10823,10896,11001,11074,11156,11241,11328,11419,11498,11569,11675,11760,11881,12006,12154,12210,12291,12344,12423,12511,12561,12601,12640,12698,12769,12818,12887,12942,12978,13018,13057,13096,13118,13136,13167,13197,13225,13237,13263,13295,13318,13348,13367,13383,13414,13430,13461,13475,13492,13506,13516,13529,13539,13551,13551],\"index\":[0,1,2,3,4,5,6,7,8,9,10,11,12,13,14,15,16,17,18,19,20,21,22,23,24,25,26,27,28,29,30,31,32,33,34,35,36,37,38,39,40,41,42,43,44,45,46,47,48,49,50,51,52,53,54,55,56,57,58,59,60,61,62,63,64,65,66,67,68,69,70,71,72,73,74,75,76,77,78,79,80,81,82,83,84,85,86,87,88,89,90,91,92,93,94,95,96,97,98,99,100],\"max_score\":{\"__ndarray__\":\"YFDVnTIHlT9gUNWdMgeVP6AsOQhBD5U/oFfA6E8klT8AIfaRCDeVPyAo4dwlVJU/oJULG+b0lT8gSZySMjaWP8A2bKTKXJY/QDhJ4Yx1lj9A1NsBPJyWP0B/3ZMDupY/4JipA5Nklz+giBk9by2YP0ASjfLCbJg/IAZzrLCymz8A5HPHp+mbP2DUS80AFJw/oDUiVBElnD9AQcSlfyqcP2A3E1PlQpw/IAZDSOdUnD8gAP6mnlecPwB7ki8fg5w/4EHVx4sDnT/gEbA9x2SdP4CQrSs9ep0/YOLQMZ2UnT+g20Nh+KKdP2CQjZvy8J0/IJSj7G1lnj8A1RpA6qeeP2CHbqQ7QJ8/gJ/BNunknz/wFEhPEQGgPyAuew81P6A/AN6jBWexoD9gQpMRseOhPzDqNR6gXKI/YCIZQqCDoj9Q7xC2OTWjP/DnGZcsEqQ/0EH5dv0QpT+Q1uHGGBCmP+Af9WDrOKc/UC9LyyJqpz9ANr2+p+qnP1BRBI3kaqg/oIlcxvDjqD/Avw9tFXmpP4Bvv3zC96k/4PyFGFy4qj/QmBuvSTKrP9BEkA1j8qs/0NdVT4I9rT/QadZ4IVCvP8gWy1WRd7A/ABkhrofksD8oFnt+TeSxP7Bv6r7qlrI/KNf6PnxIsz+QpEXLXSu0Pwj/awUw3rQ/oH97vZQTtT+ILF/qQpO1P1jFafDBK7Y/8GTztW0Qtz9QqVMBP6K4P8Are4Jf0ro/yAq9yCRkvD9AUD/xQF29PwAv+bgLAb4/eHYGTvIAvz/kU4VzaIjAPwQoklro8cE/HB/8uH61wz/Yg7IIQpnFP3zI+O2lccc/wBDCDEgnyT8MGEAdAobMP8reZYhL6dU/8hWb/Kn32T9MkNvXIZ3ePzGrmEJ48Ow/QIMzsoFC7T+w3z6yQJftPwBN4GOov+0/GrHXZOft7T9nkxeBCQzuP4mJ7wzpL+4/Yj71C+9R7j96uCJOv2zuP38sGc+Mf+4/eSGgEKGW7j/75JoYJazuP1HGtz21ve4/5JWTCH3U7j+GKO05PvDuP0aAE7HNGu8/ALogkJVd7z9rpXA1e3DvPw==\",\"dtype\":\"float64\",\"shape\":[101]},\"min_score\":{\"__ndarray__\":\"QHa+srTNlD9gUNWdMgeVP2BQ1Z0yB5U/oCw5CEEPlT+gV8DoTySVPwAh9pEIN5U/ICjh3CVUlT/gdVQJY/qVPyBJnJIyNpY/wDZspMpclj9AOEnhjHWWP0DU2wE8nJY/QH/dkwO6lj/gmKkDk2SXP6CIGT1vLZg/QBKN8sJsmD8gBnOssLKbPwDkc8en6Zs/YNRLzQAUnD+gNSJUESWcP0BBxKV/Kpw/YDcTU+VCnD8gBkNI51ScPyAA/qaeV5w/AHuSLx+DnD/gQdXHiwOdP+ARsD3HZJ0/gJCtKz16nT9g4tAxnZSdP6DbQ2H4op0/YJCNm/LwnT8glKPsbWWePwDVGkDqp54/YIdupDtAnz+An8E26eSfP/AUSE8RAaA/IC57DzU/oD8A3qMFZ7GgP2BCkxGx46E/MOo1HqBcoj9gIhlCoIOiP1DvELY5NaM/8OcZlywSpD8wP+9PlhOlP5DW4cYYEKY/4B/1YOs4pz9QL0vLImqnP0A2vb6n6qc/UFEEjeRqqD+giVzG8OOoP8C/D20Veak/QKgadu/7qT/g/IUYXLiqP9CYG69JMqs/0ESQDWPyqz/Q11VPgj2tP2D9dNfWU68/yBbLVZF3sD8AGSGuh+SwPygWe35N5LE/uBKX0DuXsj8o1/o+fEizP5CkRctdK7Q/CP9rBTDetD+gf3u9lBO1P4gsX+pCk7U/WMVp8MErtj/wZPO1bRC3P1B0Linzorg/wCt7gl/Suj/ICr3IJGS8P0BQP/FAXb0/AC/5uAsBvj94dgZO8gC/P+RThXNoiMA/BCiSWujxwT8cH/y4frXDP+S5ydRTm8U/fMj47aVxxz/AEMIMSCfJPwwYQB0Chsw/zmxKV6Pp1T/yFZv8qffZP+4YYnO1nd4/MauYQnjw7D9AgzOygULtP7DfPrJAl+0/AE3gY6i/7T8asddk5+3tP2eTF4EJDO4/iYnvDOkv7j+p8oPN/1HuP3q4Ik6/bO4/fywZz4x/7j95IaAQoZbuP/vkmhglrO4/Uca3PbW97j9MT7ieqNTuP4Yo7Tk+8O4/RoATsc0a7z8AuiCQlV3vPw==\",\"dtype\":\"float64\",\"shape\":[101]},\"model\":[\"40eedd2d\",\"40eedd2d\",\"40eedd2d\",\"40eedd2d\",\"40eedd2d\",\"40eedd2d\",\"40eedd2d\",\"40eedd2d\",\"40eedd2d\",\"40eedd2d\",\"40eedd2d\",\"40eedd2d\",\"40eedd2d\",\"40eedd2d\",\"40eedd2d\",\"40eedd2d\",\"40eedd2d\",\"40eedd2d\",\"40eedd2d\",\"40eedd2d\",\"40eedd2d\",\"40eedd2d\",\"40eedd2d\",\"40eedd2d\",\"40eedd2d\",\"40eedd2d\",\"40eedd2d\",\"40eedd2d\",\"40eedd2d\",\"40eedd2d\",\"40eedd2d\",\"40eedd2d\",\"40eedd2d\",\"40eedd2d\",\"40eedd2d\",\"40eedd2d\",\"40eedd2d\",\"40eedd2d\",\"40eedd2d\",\"40eedd2d\",\"40eedd2d\",\"40eedd2d\",\"40eedd2d\",\"40eedd2d\",\"40eedd2d\",\"40eedd2d\",\"40eedd2d\",\"40eedd2d\",\"40eedd2d\",\"40eedd2d\",\"40eedd2d\",\"40eedd2d\",\"40eedd2d\",\"40eedd2d\",\"40eedd2d\",\"40eedd2d\",\"40eedd2d\",\"40eedd2d\",\"40eedd2d\",\"40eedd2d\",\"40eedd2d\",\"40eedd2d\",\"40eedd2d\",\"40eedd2d\",\"40eedd2d\",\"40eedd2d\",\"40eedd2d\",\"40eedd2d\",\"40eedd2d\",\"40eedd2d\",\"40eedd2d\",\"40eedd2d\",\"40eedd2d\",\"40eedd2d\",\"40eedd2d\",\"40eedd2d\",\"40eedd2d\",\"40eedd2d\",\"40eedd2d\",\"40eedd2d\",\"40eedd2d\",\"40eedd2d\",\"40eedd2d\",\"40eedd2d\",\"40eedd2d\",\"40eedd2d\",\"40eedd2d\",\"40eedd2d\",\"40eedd2d\",\"40eedd2d\",\"40eedd2d\",\"40eedd2d\",\"40eedd2d\",\"40eedd2d\",\"40eedd2d\",\"40eedd2d\",\"40eedd2d\",\"40eedd2d\",\"40eedd2d\",\"40eedd2d\",\"40eedd2d\"],\"n_mills\":[618,1109,1147,935,892,503,571,415,255,209,178,141,150,87,221,138,256,194,129,69,101,110,66,63,48,80,42,41,130,100,148,155,222,165,43,137,109,130,116,37,52,83,58,126,95,53,96,73,105,73,82,85,87,91,79,71,106,85,121,125,148,56,81,53,79,88,50,40,39,58,71,49,69,55,36,40,39,39,22,18,31,30,28,12,26,32,23,30,19,16,31,16,31,14,17,14,10,13,10,12,0],\"n_mills_cumul\":[618,1727,2874,3809,4701,5204,5775,6190,6445,6654,6832,6973,7123,7210,7431,7569,7825,8019,8148,8217,8318,8428,8494,8557,8605,8685,8727,8768,8898,8998,9146,9301,9523,9688,9731,9868,9977,10107,10223,10260,10312,10395,10453,10579,10674,10727,10823,10896,11001,11074,11156,11241,11328,11419,11498,11569,11675,11760,11881,12006,12154,12210,12291,12344,12423,12511,12561,12601,12640,12698,12769,12818,12887,12942,12978,13018,13057,13096,13118,13136,13167,13197,13225,13237,13263,13295,13318,13348,13367,13383,13414,13430,13461,13475,13492,13506,13516,13529,13539,13551,13551],\"non_cumul\":[618,1109,1147,935,892,503,571,415,255,209,178,141,150,87,221,138,256,194,129,69,101,110,66,63,48,80,42,41,130,100,148,155,222,165,43,137,109,130,116,37,52,83,58,126,95,53,96,73,105,73,82,85,87,91,79,71,106,85,121,125,148,56,81,53,79,88,50,40,39,58,71,49,69,55,36,40,39,39,22,18,31,30,28,12,26,32,23,30,19,16,31,16,31,14,17,14,10,13,10,12,0]},\"selected\":{\"id\":\"12804\",\"type\":\"Selection\"},\"selection_policy\":{\"id\":\"12805\",\"type\":\"UnionRenderers\"}},\"id\":\"12749\",\"type\":\"ColumnDataSource\"},{\"attributes\":{},\"id\":\"12818\",\"type\":\"LinearScale\"},{\"attributes\":{\"booleans\":[true,true,true,true,true,true,true,true,true,true,true,true,true,true,true,true,true,true,true,true,true,true,true,true,true,true,true,true,true,true,true,true,true,true,true,true,true,true,true,true,true,true,true,true,true,true,true,true,true,true,true,true,true,true,true,true,true,true,true,true,true,true,true,true,true,true,true,true,true,true,true,true,true,true,true,true,true,true,true,true,true,true,true,true,true,true,true,true,true,true,true,true,true,true,true,true,true,true,true,true,true]},\"id\":\"12790\",\"type\":\"BooleanFilter\"},{\"attributes\":{},\"id\":\"12805\",\"type\":\"UnionRenderers\"},{\"attributes\":{},\"id\":\"12757\",\"type\":\"LinearScale\"},{\"attributes\":{},\"id\":\"12759\",\"type\":\"LinearScale\"},{\"attributes\":{},\"id\":\"12826\",\"type\":\"BasicTicker\"},{\"attributes\":{},\"id\":\"12816\",\"type\":\"LinearScale\"},{\"attributes\":{\"ticker\":{\"id\":\"12762\",\"type\":\"BasicTicker\"}},\"id\":\"12765\",\"type\":\"Grid\"},{\"attributes\":{\"ticker\":{\"id\":\"12821\",\"type\":\"BasicTicker\"}},\"id\":\"12824\",\"type\":\"Grid\"},{\"attributes\":{},\"id\":\"12771\",\"type\":\"SaveTool\"},{\"attributes\":{\"children\":[{\"id\":\"12750\",\"subtype\":\"Figure\",\"type\":\"Plot\"},{\"id\":\"12809\",\"subtype\":\"Figure\",\"type\":\"Plot\"}]},\"id\":\"12868\",\"type\":\"Row\"},{\"attributes\":{\"callback\":null},\"id\":\"12748\",\"type\":\"DataRange1d\"},{\"attributes\":{\"axis_label\":\"n_mills\",\"axis_label_text_font_size\":{\"value\":\"16pt\"},\"axis_label_text_font_style\":\"normal\",\"formatter\":{\"id\":\"12799\",\"type\":\"BasicTickFormatter\"},\"major_label_text_font_size\":{\"value\":\"14pt\"},\"ticker\":{\"id\":\"12767\",\"type\":\"BasicTicker\"}},\"id\":\"12766\",\"type\":\"LinearAxis\"},{\"attributes\":{\"dimension\":1,\"ticker\":{\"id\":\"12826\",\"type\":\"BasicTicker\"}},\"id\":\"12829\",\"type\":\"Grid\"}],\"root_ids\":[\"12871\"]},\"title\":\"Bokeh Application\",\"version\":\"1.4.0\"}};\n",
       "  var render_items = [{\"docid\":\"b88c94d8-08c7-4f12-ad7f-526fe0cfa4bb\",\"roots\":{\"12871\":\"c88f7e1d-943c-4606-88b8-3893f8cd5698\"}}];\n",
       "  root.Bokeh.embed.embed_items_notebook(docs_json, render_items);\n",
       "\n",
       "  }\n",
       "  if (root.Bokeh !== undefined) {\n",
       "    embed_document(root);\n",
       "  } else {\n",
       "    var attempts = 0;\n",
       "    var timer = setInterval(function(root) {\n",
       "      if (root.Bokeh !== undefined) {\n",
       "        clearInterval(timer);\n",
       "        embed_document(root);\n",
       "      } else {\n",
       "        attempts++;\n",
       "        if (attempts > 100) {\n",
       "          clearInterval(timer);\n",
       "          console.log(\"Bokeh: ERROR: Unable to run BokehJS code because BokehJS library is missing\");\n",
       "        }\n",
       "      }\n",
       "    }, 10, root)\n",
       "  }\n",
       "})(window);"
      ],
      "application/vnd.bokehjs_exec.v0+json": ""
     },
     "metadata": {
      "application/vnd.bokehjs_exec.v0+json": {
       "id": "12871"
      }
     },
     "output_type": "display_data"
    },
    {
     "name": "stdout",
     "output_type": "stream",
     "text": [
      "\n"
     ]
    }
   ],
   "source": [
    "#mills indels\n",
    "tabs = plot_metric(indels, 'n_mills', ['n_mills'], y_fun=lambda x: x[0], plot_bi_allelics=False, plot_singletons=False, plot_bi_allelic_singletons=False, colors=colors, )\n",
    "show(tabs)\n"
   ]
  },
  {
   "cell_type": "code",
   "execution_count": 41,
   "id": "4a1a8815",
   "metadata": {},
   "outputs": [
    {
     "name": "stderr",
     "output_type": "stream",
     "text": [
      "/home/ubuntu/venv/lib/python3.8/site-packages/bokeh/models/plots.py:767: UserWarning: \n",
      "You are attempting to set `plot.legend.label_text_font_size` on a plot that has zero legends added, this will have no effect.\n",
      "\n",
      "Before legend properties can be set, you must add a Legend explicitly, or call a glyph method with a legend parameter set.\n",
      "\n",
      "  warnings.warn(_LEGEND_EMPTY_WARNING % attr)\n"
     ]
    },
    {
     "data": {
      "text/html": [
       "\n",
       "\n",
       "\n",
       "\n",
       "\n",
       "\n",
       "  <div class=\"bk-root\" id=\"9b149087-099b-4bc5-a051-fc63233d9334\" data-root-id=\"13667\"></div>\n"
      ]
     },
     "metadata": {},
     "output_type": "display_data"
    },
    {
     "data": {
      "application/javascript": [
       "(function(root) {\n",
       "  function embed_document(root) {\n",
       "    \n",
       "  var docs_json = {\"d616065f-579f-4a5a-82cf-0c0f97f2e99e\":{\"roots\":{\"references\":[{\"attributes\":{\"callback\":null,\"tabs\":[{\"id\":\"13666\",\"type\":\"Panel\"}]},\"id\":\"13667\",\"type\":\"Tabs\"},{\"attributes\":{\"text\":\"n_hapmap_snvs, cumulative\",\"text_font_size\":{\"value\":\"16pt\"}},\"id\":\"13606\",\"type\":\"Title\"},{\"attributes\":{\"axis_label\":\"bin\",\"axis_label_text_font_size\":{\"value\":\"16pt\"},\"axis_label_text_font_style\":\"normal\",\"formatter\":{\"id\":\"13652\",\"type\":\"BasicTickFormatter\"},\"major_label_text_font_size\":{\"value\":\"14pt\"},\"ticker\":{\"id\":\"13617\",\"type\":\"BasicTicker\"}},\"id\":\"13616\",\"type\":\"LinearAxis\"},{\"attributes\":{},\"id\":\"13652\",\"type\":\"BasicTickFormatter\"},{\"attributes\":{},\"id\":\"13617\",\"type\":\"BasicTicker\"},{\"attributes\":{\"filters\":[{\"id\":\"13645\",\"type\":\"BooleanFilter\"}],\"source\":{\"id\":\"13545\",\"type\":\"ColumnDataSource\"}},\"id\":\"13646\",\"type\":\"CDSView\"},{\"attributes\":{\"booleans\":[true,true,true,true,true,true,true,true,true,true,true,true,true,true,true,true,true,true,true,true,true,true,true,true,true,true,true,true,true,true,true,true,true,true,true,true,true,true,true,true,true,true,true,true,true,true,true,true,true,true,true,true,true,true,true,true,true,true,true,true,true,true,true,true,true,true,true,true,true,true,true,true,true,true,true,true,true,true,true,true,true,true,true,true,true,true,true,true,true,true,true,true,true,true,true,true,true,true,true,true,true]},\"id\":\"13645\",\"type\":\"BooleanFilter\"},{\"attributes\":{\"active_drag\":\"auto\",\"active_inspect\":\"auto\",\"active_multi\":null,\"active_scroll\":\"auto\",\"active_tap\":\"auto\",\"tools\":[{\"id\":\"13567\",\"type\":\"SaveTool\"},{\"id\":\"13568\",\"type\":\"PanTool\"},{\"id\":\"13569\",\"type\":\"BoxZoomTool\"},{\"id\":\"13570\",\"type\":\"ResetTool\"},{\"id\":\"13571\",\"type\":\"WheelZoomTool\"},{\"id\":\"13572\",\"type\":\"BoxSelectTool\"},{\"id\":\"13573\",\"type\":\"LassoSelectTool\"},{\"id\":\"13574\",\"type\":\"HelpTool\"},{\"id\":\"13575\",\"type\":\"HoverTool\"}]},\"id\":\"13576\",\"type\":\"Toolbar\"},{\"attributes\":{\"above\":[{\"id\":\"13661\",\"type\":\"Legend\"},{\"id\":\"13663\",\"type\":\"Title\"}],\"below\":[{\"id\":\"13616\",\"type\":\"LinearAxis\"}],\"center\":[{\"id\":\"13620\",\"type\":\"Grid\"},{\"id\":\"13625\",\"type\":\"Grid\"}],\"left\":[{\"id\":\"13621\",\"type\":\"LinearAxis\"}],\"renderers\":[{\"id\":\"13650\",\"type\":\"GlyphRenderer\"}],\"title\":{\"id\":\"13606\",\"type\":\"Title\"},\"toolbar\":{\"id\":\"13635\",\"type\":\"Toolbar\"},\"x_range\":{\"id\":\"13543\",\"type\":\"DataRange1d\"},\"x_scale\":{\"id\":\"13612\",\"type\":\"LinearScale\"},\"y_range\":{\"id\":\"13544\",\"type\":\"DataRange1d\"},\"y_scale\":{\"id\":\"13614\",\"type\":\"LinearScale\"}},\"id\":\"13605\",\"subtype\":\"Figure\",\"type\":\"Plot\"},{\"attributes\":{\"overlay\":{\"id\":\"13597\",\"type\":\"BoxAnnotation\"}},\"id\":\"13569\",\"type\":\"BoxZoomTool\"},{\"attributes\":{\"axis_label\":\"n_hapmap_snvs\",\"axis_label_text_font_size\":{\"value\":\"16pt\"},\"axis_label_text_font_style\":\"normal\",\"formatter\":{\"id\":\"13595\",\"type\":\"BasicTickFormatter\"},\"major_label_text_font_size\":{\"value\":\"14pt\"},\"ticker\":{\"id\":\"13563\",\"type\":\"BasicTicker\"}},\"id\":\"13562\",\"type\":\"LinearAxis\"},{\"attributes\":{},\"id\":\"13568\",\"type\":\"PanTool\"},{\"attributes\":{\"bottom_units\":\"screen\",\"fill_alpha\":{\"value\":0.5},\"fill_color\":{\"value\":\"lightgrey\"},\"left_units\":\"screen\",\"level\":\"overlay\",\"line_alpha\":{\"value\":1.0},\"line_color\":{\"value\":\"black\"},\"line_dash\":[4,4],\"line_width\":{\"value\":2},\"render_mode\":\"css\",\"right_units\":\"screen\",\"top_units\":\"screen\"},\"id\":\"13598\",\"type\":\"BoxAnnotation\"},{\"attributes\":{\"dimension\":1,\"ticker\":{\"id\":\"13563\",\"type\":\"BasicTicker\"}},\"id\":\"13566\",\"type\":\"Grid\"},{\"attributes\":{\"click_policy\":\"hide\",\"items\":[{\"id\":\"13662\",\"type\":\"LegendItem\"}],\"location\":[0,0],\"orientation\":\"horizontal\"},\"id\":\"13661\",\"type\":\"Legend\"},{\"attributes\":{\"child\":{\"id\":\"13665\",\"type\":\"Column\"},\"title\":\"All\"},\"id\":\"13666\",\"type\":\"Panel\"},{\"attributes\":{\"axis_label\":\"n_hapmap_snvs\",\"axis_label_text_font_size\":{\"value\":\"16pt\"},\"axis_label_text_font_style\":\"normal\",\"formatter\":{\"id\":\"13654\",\"type\":\"BasicTickFormatter\"},\"major_label_text_font_size\":{\"value\":\"14pt\"},\"ticker\":{\"id\":\"13622\",\"type\":\"BasicTicker\"}},\"id\":\"13621\",\"type\":\"LinearAxis\"},{\"attributes\":{},\"id\":\"13567\",\"type\":\"SaveTool\"},{\"attributes\":{\"callback\":null,\"data\":{\"_color\":[\"blue\",\"blue\",\"blue\",\"blue\",\"blue\",\"blue\",\"blue\",\"blue\",\"blue\",\"blue\",\"blue\",\"blue\",\"blue\",\"blue\",\"blue\",\"blue\",\"blue\",\"blue\",\"blue\",\"blue\",\"blue\",\"blue\",\"blue\",\"blue\",\"blue\",\"blue\",\"blue\",\"blue\",\"blue\",\"blue\",\"blue\",\"blue\",\"blue\",\"blue\",\"blue\",\"blue\",\"blue\",\"blue\",\"blue\",\"blue\",\"blue\",\"blue\",\"blue\",\"blue\",\"blue\",\"blue\",\"blue\",\"blue\",\"blue\",\"blue\",\"blue\",\"blue\",\"blue\",\"blue\",\"blue\",\"blue\",\"blue\",\"blue\",\"blue\",\"blue\",\"blue\",\"blue\",\"blue\",\"blue\",\"blue\",\"blue\",\"blue\",\"blue\",\"blue\",\"blue\",\"blue\",\"blue\",\"blue\",\"blue\",\"blue\",\"blue\",\"blue\",\"blue\",\"blue\",\"blue\",\"blue\",\"blue\",\"blue\",\"blue\",\"blue\",\"blue\",\"blue\",\"blue\",\"blue\",\"blue\",\"blue\",\"blue\",\"blue\",\"blue\",\"blue\",\"blue\",\"blue\",\"blue\",\"blue\",\"blue\",\"blue\"],\"_n\":[10819,19776,24463,10185,5040,1912,991,506,3082,260,1215,2134,1412,618,780,450,547,517,806,457,885,654,599,1551,478,1061,626,408,366,302,232,244,210,310,259,149,123,79,55,52,31,23,154,27,3,7,4,6,7,8,8,4,5,7,4,3,5,15,4,7,4,5,8,1,1,3,3,4,5,2,1,0,1,1,4,0,1,1,2,1,1,0,1,3,0,0,1,0,1,2,2,3,1,2,0,0,3,1,1,0,0],\"_size\":{\"__ndarray__\":\"dnYp8UAhK0AAAAAAAAAwQAAAAAAAADBANcp7BK9SKkCVekr1V4QiQMzco1FnzxZA+JI+s/xrEECMRfCR/3cHQD5WdczM9RxAU9sqkKrSAEDITmnM7C4SQPf2QWcZGRhANNhDPyGaE0BnV154tO8JQFJFEGJdIw1AgNR1VcshBkBsM1I1qmYIQPHPOJjzuAdAY+xXHaueDUBHU7kGsU0GQJ4YGSyXCQ9AaWrAc1uuCkAzjTtt14gJQG7CQI9UixRAzNyjUWfPBkBvoz0C7v0QQONfa86KGgpACXAUTeoSBUCZmrg/svUDQDi9dxJ/IQJAZUNOX1TI/z8sBg6vDEwAQNIbf9vyPP4/bn8yQpJeAkDUic1QYMoAQPGTjZpzePk/bj8m/Ewk9z+f7auq3IvyPwAAAAAAAPA/AAAAAAAA8D8AAAAAAADwPwAAAAAAAPA/rxI50PPk+T8AAAAAAADwPwAAAAAAAPA/AAAAAAAA8D8AAAAAAADwPwAAAAAAAPA/AAAAAAAA8D8AAAAAAADwPwAAAAAAAPA/AAAAAAAA8D8AAAAAAADwPwAAAAAAAPA/AAAAAAAA8D8AAAAAAADwPwAAAAAAAPA/AAAAAAAA8D8AAAAAAADwPwAAAAAAAPA/AAAAAAAA8D8AAAAAAADwPwAAAAAAAPA/AAAAAAAA8D8AAAAAAADwPwAAAAAAAPA/AAAAAAAA8D8AAAAAAADwPwAAAAAAAPA/AAAAAAAA8D8AAAAAAADwPwAAAAAAAPA/AAAAAAAA8D8AAAAAAADwPwAAAAAAAPA/AAAAAAAA8D8AAAAAAADwPwAAAAAAAPA/AAAAAAAA8D8AAAAAAADwPwAAAAAAAPA/AAAAAAAA8D8AAAAAAADwPwAAAAAAAPA/AAAAAAAA8D8AAAAAAADwPwAAAAAAAPA/AAAAAAAA8D8AAAAAAADwPwAAAAAAAPA/AAAAAAAA8D8AAAAAAADwPwAAAAAAAPA/AAAAAAAA8D8AAAAAAADwPwAAAAAAAPA/AAAAAAAA8D8AAAAAAADwPwAAAAAAAPA/AAAAAAAA8D8AAAAAAADwPw==\",\"dtype\":\"float64\",\"shape\":[101]},\"bin\":[1,2,3,4,5,6,7,8,9,10,11,12,13,14,15,16,17,18,19,20,21,22,23,24,25,26,27,28,29,30,31,32,33,34,35,36,37,38,39,40,41,42,43,44,45,46,47,48,49,50,51,52,53,54,55,56,57,58,59,60,61,62,63,64,65,66,67,68,69,70,71,72,73,74,75,76,77,78,79,80,81,82,83,84,85,86,87,88,89,90,91,92,93,94,95,96,97,98,99,100,101],\"cumul\":[10819,30595,55058,65243,70283,72195,73186,73692,76774,77034,78249,80383,81795,82413,83193,83643,84190,84707,85513,85970,86855,87509,88108,89659,90137,91198,91824,92232,92598,92900,93132,93376,93586,93896,94155,94304,94427,94506,94561,94613,94644,94667,94821,94848,94851,94858,94862,94868,94875,94883,94891,94895,94900,94907,94911,94914,94919,94934,94938,94945,94949,94954,94962,94963,94964,94967,94970,94974,94979,94981,94982,94982,94983,94984,94988,94988,94989,94990,94992,94993,94994,94994,94995,94998,94998,94998,94999,94999,95000,95002,95004,95007,95008,95010,95010,95010,95013,95014,95015,95015,95015],\"index\":[0,1,2,3,4,5,6,7,8,9,10,11,12,13,14,15,16,17,18,19,20,21,22,23,24,25,26,27,28,29,30,31,32,33,34,35,36,37,38,39,40,41,42,43,44,45,46,47,48,49,50,51,52,53,54,55,56,57,58,59,60,61,62,63,64,65,66,67,68,69,70,71,72,73,74,75,76,77,78,79,80,81,82,83,84,85,86,87,88,89,90,91,92,93,94,95,96,97,98,99,100],\"max_score\":{\"__ndarray__\":\"wMbqWrQymT/AxupatDKZPyCjTsXCOpk/AK42l6F2mT8AbhATn3+cP0Dq6yHLq5w/IFVcT4zDnD/AMad1pt+cPyBE8sFREJ4/wBQTtidAnj8AzJ2sH2SiP4C/w0oWhqI/oGN1AFCdoj+Q7Oh5q56iP+DypfTptKI/4FT5c5a2oj8Q6b0HywejP+C81TA0FKM/YFHOAbYfoz+AlxceInqjPyCJr3BE26M/sFy/kkCFpT/AyPZ5qD+mPyBNbNDbc68/OJEx8qWUsD+QtlicT0axP1B1C45zuLI/aG0A5Z8ftD+oNheGd7C1P+hUR1s5I7Y/SNLbMA60tz8Ip6Zlr+e3P0BCyIzVXrk/QMGqpcfquj/wU0loZo3AP8hokAXWzsE/bF+4FTJswz/4JCj7z37EPxCXunEC6cg/wFdVhKm7yT8k+WQ+waHMP+z8MfpfoM8/b0IMsBkg4D96n0z2Y4ftP61ou3ddjO0/o50pZtrH7T/cgnkQL8/tP9yCeRAvz+0/6VM5WdDg7T95cLfK5BHuPzk7nlhbKO4/o31xyKcr7j+jfXHIpyvuPyeEEngmLe4/os/r9Oo47j8Y20A8q1zuPya2dDEAhe4/qd54z23M7j/O28Cw/OfuP7HBuisAB+8/GOxpTikH7z8RU2E57QrvP4LPwN4nE+8/n0Wxiaka7z+fRbGJqRrvP1N6qKaSHO8/Jhhrd2Ef7z+cManCNiPvP6iXuqxkK+8/a+aH1Bgw7z+FGW2Yw2LvP0FKT4+3ZO8/lZcnkuxp7z/oQoGloWrvP+hCgaWhau8/6EKBpaFq7z9xoI/dKHPvP8I7UDP2dO8/ThXHuYF37z8WiSg2K3rvPzsEM/ZTf+8/VSPN+6qB7z9VI837qoHvP6jOJg9ggu8/qM4mD2CC7z+oziYPYILvP6jOJg9ggu8/cyHJLuuC7z/j/GQMPoXvPxXFvfb+hu8/IwA6HAiI7z/Q9Z/t8ojvPyVDePAnju8/JUN48CeO7z947tED3Y7vP3ju0QPdju8/eO7RA92O7z947tED3Y7vP3ju0QPdju8/8RY4kGSk7z8r78IHIqXvPw==\",\"dtype\":\"float64\",\"shape\":[101]},\"min_score\":{\"__ndarray__\":\"oMtKuUitmD/AxupatDKZP8DG6lq0Mpk/IKNOxcI6mT8ArjaXoXaZPwBuEBOff5w/QOrrIcurnD8gVVxPjMOcP8Axp3Wm35w/IETywVEQnj/AFBO2J0CePwDMnawfZKI/gL/DShaGoj+gY3UAUJ2iP5Ds6HmrnqI/4PKl9Om0oj/gVPlzlraiPxDpvQfLB6M/4LzVMDQUoz9gUc4Bth+jP4CXFx4ieqM/IImvcETboz+wXL+SQIWlP8DI9nmoP6Y/IE1s0Ntzrz84kTHypZSwP5C2WJxPRrE/UHULjnO4sj9obQDlnx+0P6g2F4Z3sLU/6FRHWzkjtj9I0tswDrS3PwinpmWv57c/QELIjNVeuT9Awaqlx+q6P/BTSWhmjcA/yGiQBdbOwT9sX7gVMmzDP/gkKPvPfsQ/EJe6cQLpyD/AV1WEqbvJPyT5ZD7Bocw/7Pwx+l+gzz9vQgywGSDgP3qfTPZjh+0/rWi7d12M7T+jnSlm2sftP9yCeRAvz+0/3IJ5EC/P7T/pUzlZ0ODtP3lwt8rkEe4/OTueWFso7j+jfXHIpyvuP6N9ccinK+4/J4QSeCYt7j+iz+v06jjuPxjbQDyrXO4/JrZ0MQCF7j+p3njPbczuP87bwLD85+4/scG6KwAH7z8Y7GlOKQfvPxFTYTntCu8/gs/A3icT7z+fRbGJqRrvP59FsYmpGu8/U3qoppIc7z8mGGt3YR/vP5wxqcI2I+8/qJe6rGQr7z9r5ofUGDDvP4UZbZjDYu8/QUpPj7dk7z+VlyeS7GnvP+hCgaWhau8/6EKBpaFq7z/oQoGloWrvP3Ggj90oc+8/wjtQM/Z07z9OFce5gXfvPxaJKDYreu8/OwQz9lN/7z9VI837qoHvP1Ujzfuqge8/qM4mD2CC7z+oziYPYILvP6jOJg9ggu8/qM4mD2CC7z9zIcku64LvP+P8ZAw+he8/FcW99v6G7z8jADocCIjvP9D1n+3yiO8/JUN48CeO7z8lQ3jwJ47vP3ju0QPdju8/eO7RA92O7z947tED3Y7vP3ju0QPdju8/eO7RA92O7z/xFjiQZKTvPw==\",\"dtype\":\"float64\",\"shape\":[101]},\"model\":[\"40eedd2d\",\"40eedd2d\",\"40eedd2d\",\"40eedd2d\",\"40eedd2d\",\"40eedd2d\",\"40eedd2d\",\"40eedd2d\",\"40eedd2d\",\"40eedd2d\",\"40eedd2d\",\"40eedd2d\",\"40eedd2d\",\"40eedd2d\",\"40eedd2d\",\"40eedd2d\",\"40eedd2d\",\"40eedd2d\",\"40eedd2d\",\"40eedd2d\",\"40eedd2d\",\"40eedd2d\",\"40eedd2d\",\"40eedd2d\",\"40eedd2d\",\"40eedd2d\",\"40eedd2d\",\"40eedd2d\",\"40eedd2d\",\"40eedd2d\",\"40eedd2d\",\"40eedd2d\",\"40eedd2d\",\"40eedd2d\",\"40eedd2d\",\"40eedd2d\",\"40eedd2d\",\"40eedd2d\",\"40eedd2d\",\"40eedd2d\",\"40eedd2d\",\"40eedd2d\",\"40eedd2d\",\"40eedd2d\",\"40eedd2d\",\"40eedd2d\",\"40eedd2d\",\"40eedd2d\",\"40eedd2d\",\"40eedd2d\",\"40eedd2d\",\"40eedd2d\",\"40eedd2d\",\"40eedd2d\",\"40eedd2d\",\"40eedd2d\",\"40eedd2d\",\"40eedd2d\",\"40eedd2d\",\"40eedd2d\",\"40eedd2d\",\"40eedd2d\",\"40eedd2d\",\"40eedd2d\",\"40eedd2d\",\"40eedd2d\",\"40eedd2d\",\"40eedd2d\",\"40eedd2d\",\"40eedd2d\",\"40eedd2d\",\"40eedd2d\",\"40eedd2d\",\"40eedd2d\",\"40eedd2d\",\"40eedd2d\",\"40eedd2d\",\"40eedd2d\",\"40eedd2d\",\"40eedd2d\",\"40eedd2d\",\"40eedd2d\",\"40eedd2d\",\"40eedd2d\",\"40eedd2d\",\"40eedd2d\",\"40eedd2d\",\"40eedd2d\",\"40eedd2d\",\"40eedd2d\",\"40eedd2d\",\"40eedd2d\",\"40eedd2d\",\"40eedd2d\",\"40eedd2d\",\"40eedd2d\",\"40eedd2d\",\"40eedd2d\",\"40eedd2d\",\"40eedd2d\",\"40eedd2d\"],\"n_hapmap\":[10819,19776,24463,10185,5040,1912,991,506,3082,260,1215,2134,1412,618,780,450,547,517,806,457,885,654,599,1551,478,1061,626,408,366,302,232,244,210,310,259,149,123,79,55,52,31,23,154,27,3,7,4,6,7,8,8,4,5,7,4,3,5,15,4,7,4,5,8,1,1,3,3,4,5,2,1,0,1,1,4,0,1,1,2,1,1,0,1,3,0,0,1,0,1,2,2,3,1,2,0,0,3,1,1,0,0],\"n_hapmap_cumul\":[10819,30595,55058,65243,70283,72195,73186,73692,76774,77034,78249,80383,81795,82413,83193,83643,84190,84707,85513,85970,86855,87509,88108,89659,90137,91198,91824,92232,92598,92900,93132,93376,93586,93896,94155,94304,94427,94506,94561,94613,94644,94667,94821,94848,94851,94858,94862,94868,94875,94883,94891,94895,94900,94907,94911,94914,94919,94934,94938,94945,94949,94954,94962,94963,94964,94967,94970,94974,94979,94981,94982,94982,94983,94984,94988,94988,94989,94990,94992,94993,94994,94994,94995,94998,94998,94998,94999,94999,95000,95002,95004,95007,95008,95010,95010,95010,95013,95014,95015,95015,95015],\"non_cumul\":[10819,19776,24463,10185,5040,1912,991,506,3082,260,1215,2134,1412,618,780,450,547,517,806,457,885,654,599,1551,478,1061,626,408,366,302,232,244,210,310,259,149,123,79,55,52,31,23,154,27,3,7,4,6,7,8,8,4,5,7,4,3,5,15,4,7,4,5,8,1,1,3,3,4,5,2,1,0,1,1,4,0,1,1,2,1,1,0,1,3,0,0,1,0,1,2,2,3,1,2,0,0,3,1,1,0,0]},\"selected\":{\"id\":\"13600\",\"type\":\"Selection\"},\"selection_policy\":{\"id\":\"13601\",\"type\":\"UnionRenderers\"}},\"id\":\"13545\",\"type\":\"ColumnDataSource\"},{\"attributes\":{},\"id\":\"13614\",\"type\":\"LinearScale\"},{\"attributes\":{\"fill_alpha\":{\"value\":0.5},\"fill_color\":{\"value\":\"lightgrey\"},\"level\":\"overlay\",\"line_alpha\":{\"value\":1.0},\"line_color\":{\"value\":\"black\"},\"line_dash\":[4,4],\"line_width\":{\"value\":2},\"xs_units\":\"screen\",\"ys_units\":\"screen\"},\"id\":\"13599\",\"type\":\"PolyAnnotation\"},{\"attributes\":{},\"id\":\"13622\",\"type\":\"BasicTicker\"},{\"attributes\":{},\"id\":\"13612\",\"type\":\"LinearScale\"},{\"attributes\":{\"ticker\":{\"id\":\"13617\",\"type\":\"BasicTicker\"}},\"id\":\"13620\",\"type\":\"Grid\"},{\"attributes\":{},\"id\":\"13563\",\"type\":\"BasicTicker\"},{\"attributes\":{\"callback\":null},\"id\":\"13544\",\"type\":\"DataRange1d\"},{\"attributes\":{\"dimension\":1,\"ticker\":{\"id\":\"13622\",\"type\":\"BasicTicker\"}},\"id\":\"13625\",\"type\":\"Grid\"},{\"attributes\":{},\"id\":\"13574\",\"type\":\"HelpTool\"},{\"attributes\":{\"filters\":[{\"id\":\"13586\",\"type\":\"BooleanFilter\"}],\"source\":{\"id\":\"13545\",\"type\":\"ColumnDataSource\"}},\"id\":\"13587\",\"type\":\"CDSView\"},{\"attributes\":{},\"id\":\"13627\",\"type\":\"PanTool\"},{\"attributes\":{},\"id\":\"13593\",\"type\":\"BasicTickFormatter\"},{\"attributes\":{\"active_drag\":\"auto\",\"active_inspect\":\"auto\",\"active_multi\":null,\"active_scroll\":\"auto\",\"active_tap\":\"auto\",\"tools\":[{\"id\":\"13626\",\"type\":\"SaveTool\"},{\"id\":\"13627\",\"type\":\"PanTool\"},{\"id\":\"13628\",\"type\":\"BoxZoomTool\"},{\"id\":\"13629\",\"type\":\"ResetTool\"},{\"id\":\"13630\",\"type\":\"WheelZoomTool\"},{\"id\":\"13631\",\"type\":\"BoxSelectTool\"},{\"id\":\"13632\",\"type\":\"LassoSelectTool\"},{\"id\":\"13633\",\"type\":\"HelpTool\"},{\"id\":\"13634\",\"type\":\"HoverTool\"}]},\"id\":\"13635\",\"type\":\"Toolbar\"},{\"attributes\":{},\"id\":\"13595\",\"type\":\"BasicTickFormatter\"},{\"attributes\":{},\"id\":\"13654\",\"type\":\"BasicTickFormatter\"},{\"attributes\":{},\"id\":\"13626\",\"type\":\"SaveTool\"},{\"attributes\":{\"overlay\":{\"id\":\"13656\",\"type\":\"BoxAnnotation\"}},\"id\":\"13628\",\"type\":\"BoxZoomTool\"},{\"attributes\":{\"callback\":null,\"overlay\":{\"id\":\"13657\",\"type\":\"BoxAnnotation\"}},\"id\":\"13631\",\"type\":\"BoxSelectTool\"},{\"attributes\":{},\"id\":\"13571\",\"type\":\"WheelZoomTool\"},{\"attributes\":{\"callback\":null,\"tooltips\":[[\"model\",\"@model\"],[\"bin\",\"@bin\"],[\"n_hapmap_snvs\",\"@cumul\"],[\"min_score\",\"@min_score\"],[\"max_score\",\"@max_score\"],[\"n_data_points\",\"@_n\"],[\"n_hapmap\",\"@n_hapmap\"]]},\"id\":\"13634\",\"type\":\"HoverTool\"},{\"attributes\":{\"label\":{\"value\":\"40eedd2d\"},\"renderers\":[{\"id\":\"13650\",\"type\":\"GlyphRenderer\"}]},\"id\":\"13662\",\"type\":\"LegendItem\"},{\"attributes\":{},\"id\":\"13629\",\"type\":\"ResetTool\"},{\"attributes\":{},\"id\":\"13601\",\"type\":\"UnionRenderers\"},{\"attributes\":{\"callback\":null,\"overlay\":{\"id\":\"13598\",\"type\":\"BoxAnnotation\"}},\"id\":\"13572\",\"type\":\"BoxSelectTool\"},{\"attributes\":{},\"id\":\"13630\",\"type\":\"WheelZoomTool\"},{\"attributes\":{},\"id\":\"13600\",\"type\":\"Selection\"},{\"attributes\":{},\"id\":\"13633\",\"type\":\"HelpTool\"},{\"attributes\":{\"callback\":null,\"overlay\":{\"id\":\"13658\",\"type\":\"PolyAnnotation\"}},\"id\":\"13632\",\"type\":\"LassoSelectTool\"},{\"attributes\":{\"text\":\"All variants\",\"text_font_size\":{\"value\":\"14pt\"}},\"id\":\"13663\",\"type\":\"Title\"},{\"attributes\":{\"fill_color\":{\"field\":\"_color\"},\"line_color\":{\"field\":\"_color\"},\"size\":{\"field\":\"_size\",\"units\":\"screen\"},\"x\":{\"field\":\"bin\"},\"y\":{\"field\":\"non_cumul\"}},\"id\":\"13589\",\"type\":\"Circle\"},{\"attributes\":{\"fill_alpha\":{\"value\":0.1},\"fill_color\":{\"value\":\"#1f77b4\"},\"line_alpha\":{\"value\":0.1},\"line_color\":{\"value\":\"#1f77b4\"},\"size\":{\"field\":\"_size\",\"units\":\"screen\"},\"x\":{\"field\":\"bin\"},\"y\":{\"field\":\"cumul\"}},\"id\":\"13649\",\"type\":\"Circle\"},{\"attributes\":{\"axis_label\":\"bin\",\"axis_label_text_font_size\":{\"value\":\"16pt\"},\"axis_label_text_font_style\":\"normal\",\"formatter\":{\"id\":\"13593\",\"type\":\"BasicTickFormatter\"},\"major_label_text_font_size\":{\"value\":\"14pt\"},\"ticker\":{\"id\":\"13558\",\"type\":\"BasicTicker\"}},\"id\":\"13557\",\"type\":\"LinearAxis\"},{\"attributes\":{\"bottom_units\":\"screen\",\"fill_alpha\":{\"value\":0.5},\"fill_color\":{\"value\":\"lightgrey\"},\"left_units\":\"screen\",\"level\":\"overlay\",\"line_alpha\":{\"value\":1.0},\"line_color\":{\"value\":\"black\"},\"line_dash\":[4,4],\"line_width\":{\"value\":2},\"render_mode\":\"css\",\"right_units\":\"screen\",\"top_units\":\"screen\"},\"id\":\"13656\",\"type\":\"BoxAnnotation\"},{\"attributes\":{},\"id\":\"13555\",\"type\":\"LinearScale\"},{\"attributes\":{\"callback\":null,\"tooltips\":[[\"model\",\"@model\"],[\"bin\",\"@bin\"],[\"n_hapmap_snvs\",\"@non_cumul\"],[\"min_score\",\"@min_score\"],[\"max_score\",\"@max_score\"],[\"n_data_points\",\"@_n\"],[\"n_hapmap\",\"@n_hapmap\"]]},\"id\":\"13575\",\"type\":\"HoverTool\"},{\"attributes\":{\"fill_color\":{\"field\":\"_color\"},\"line_color\":{\"field\":\"_color\"},\"size\":{\"field\":\"_size\",\"units\":\"screen\"},\"x\":{\"field\":\"bin\"},\"y\":{\"field\":\"cumul\"}},\"id\":\"13648\",\"type\":\"Circle\"},{\"attributes\":{\"above\":[{\"id\":\"13602\",\"type\":\"Legend\"},{\"id\":\"13604\",\"type\":\"Title\"}],\"below\":[{\"id\":\"13557\",\"type\":\"LinearAxis\"}],\"center\":[{\"id\":\"13561\",\"type\":\"Grid\"},{\"id\":\"13566\",\"type\":\"Grid\"}],\"left\":[{\"id\":\"13562\",\"type\":\"LinearAxis\"}],\"renderers\":[{\"id\":\"13591\",\"type\":\"GlyphRenderer\"}],\"title\":{\"id\":\"13547\",\"type\":\"Title\"},\"toolbar\":{\"id\":\"13576\",\"type\":\"Toolbar\"},\"x_range\":{\"id\":\"13543\",\"type\":\"DataRange1d\"},\"x_scale\":{\"id\":\"13553\",\"type\":\"LinearScale\"},\"y_range\":{\"id\":\"13544\",\"type\":\"DataRange1d\"},\"y_scale\":{\"id\":\"13555\",\"type\":\"LinearScale\"}},\"id\":\"13546\",\"subtype\":\"Figure\",\"type\":\"Plot\"},{\"attributes\":{\"data_source\":{\"id\":\"13545\",\"type\":\"ColumnDataSource\"},\"glyph\":{\"id\":\"13648\",\"type\":\"Circle\"},\"hover_glyph\":null,\"muted_glyph\":null,\"nonselection_glyph\":{\"id\":\"13649\",\"type\":\"Circle\"},\"selection_glyph\":null,\"view\":{\"id\":\"13646\",\"type\":\"CDSView\"}},\"id\":\"13650\",\"type\":\"GlyphRenderer\"},{\"attributes\":{\"children\":[{\"id\":\"13664\",\"type\":\"Row\"}]},\"id\":\"13665\",\"type\":\"Column\"},{\"attributes\":{\"text\":\"n_hapmap_snvs\",\"text_font_size\":{\"value\":\"16pt\"}},\"id\":\"13547\",\"type\":\"Title\"},{\"attributes\":{},\"id\":\"13558\",\"type\":\"BasicTicker\"},{\"attributes\":{},\"id\":\"13570\",\"type\":\"ResetTool\"},{\"attributes\":{\"booleans\":[true,true,true,true,true,true,true,true,true,true,true,true,true,true,true,true,true,true,true,true,true,true,true,true,true,true,true,true,true,true,true,true,true,true,true,true,true,true,true,true,true,true,true,true,true,true,true,true,true,true,true,true,true,true,true,true,true,true,true,true,true,true,true,true,true,true,true,true,true,true,true,true,true,true,true,true,true,true,true,true,true,true,true,true,true,true,true,true,true,true,true,true,true,true,true,true,true,true,true,true,true]},\"id\":\"13586\",\"type\":\"BooleanFilter\"},{\"attributes\":{\"text\":\"All variants\",\"text_font_size\":{\"value\":\"14pt\"}},\"id\":\"13604\",\"type\":\"Title\"},{\"attributes\":{\"bottom_units\":\"screen\",\"fill_alpha\":{\"value\":0.5},\"fill_color\":{\"value\":\"lightgrey\"},\"left_units\":\"screen\",\"level\":\"overlay\",\"line_alpha\":{\"value\":1.0},\"line_color\":{\"value\":\"black\"},\"line_dash\":[4,4],\"line_width\":{\"value\":2},\"render_mode\":\"css\",\"right_units\":\"screen\",\"top_units\":\"screen\"},\"id\":\"13657\",\"type\":\"BoxAnnotation\"},{\"attributes\":{\"ticker\":{\"id\":\"13558\",\"type\":\"BasicTicker\"}},\"id\":\"13561\",\"type\":\"Grid\"},{\"attributes\":{\"bottom_units\":\"screen\",\"fill_alpha\":{\"value\":0.5},\"fill_color\":{\"value\":\"lightgrey\"},\"left_units\":\"screen\",\"level\":\"overlay\",\"line_alpha\":{\"value\":1.0},\"line_color\":{\"value\":\"black\"},\"line_dash\":[4,4],\"line_width\":{\"value\":2},\"render_mode\":\"css\",\"right_units\":\"screen\",\"top_units\":\"screen\"},\"id\":\"13597\",\"type\":\"BoxAnnotation\"},{\"attributes\":{\"fill_alpha\":{\"value\":0.5},\"fill_color\":{\"value\":\"lightgrey\"},\"level\":\"overlay\",\"line_alpha\":{\"value\":1.0},\"line_color\":{\"value\":\"black\"},\"line_dash\":[4,4],\"line_width\":{\"value\":2},\"xs_units\":\"screen\",\"ys_units\":\"screen\"},\"id\":\"13658\",\"type\":\"PolyAnnotation\"},{\"attributes\":{},\"id\":\"13553\",\"type\":\"LinearScale\"},{\"attributes\":{\"callback\":null},\"id\":\"13543\",\"type\":\"DataRange1d\"},{\"attributes\":{\"click_policy\":\"hide\",\"items\":[{\"id\":\"13603\",\"type\":\"LegendItem\"}],\"location\":[0,0],\"orientation\":\"horizontal\"},\"id\":\"13602\",\"type\":\"Legend\"},{\"attributes\":{\"data_source\":{\"id\":\"13545\",\"type\":\"ColumnDataSource\"},\"glyph\":{\"id\":\"13589\",\"type\":\"Circle\"},\"hover_glyph\":null,\"muted_glyph\":null,\"nonselection_glyph\":{\"id\":\"13590\",\"type\":\"Circle\"},\"selection_glyph\":null,\"view\":{\"id\":\"13587\",\"type\":\"CDSView\"}},\"id\":\"13591\",\"type\":\"GlyphRenderer\"},{\"attributes\":{\"callback\":null,\"overlay\":{\"id\":\"13599\",\"type\":\"PolyAnnotation\"}},\"id\":\"13573\",\"type\":\"LassoSelectTool\"},{\"attributes\":{\"fill_alpha\":{\"value\":0.1},\"fill_color\":{\"value\":\"#1f77b4\"},\"line_alpha\":{\"value\":0.1},\"line_color\":{\"value\":\"#1f77b4\"},\"size\":{\"field\":\"_size\",\"units\":\"screen\"},\"x\":{\"field\":\"bin\"},\"y\":{\"field\":\"non_cumul\"}},\"id\":\"13590\",\"type\":\"Circle\"},{\"attributes\":{\"children\":[{\"id\":\"13546\",\"subtype\":\"Figure\",\"type\":\"Plot\"},{\"id\":\"13605\",\"subtype\":\"Figure\",\"type\":\"Plot\"}]},\"id\":\"13664\",\"type\":\"Row\"},{\"attributes\":{\"label\":{\"value\":\"40eedd2d\"},\"renderers\":[{\"id\":\"13591\",\"type\":\"GlyphRenderer\"}]},\"id\":\"13603\",\"type\":\"LegendItem\"}],\"root_ids\":[\"13667\"]},\"title\":\"Bokeh Application\",\"version\":\"1.4.0\"}};\n",
       "  var render_items = [{\"docid\":\"d616065f-579f-4a5a-82cf-0c0f97f2e99e\",\"roots\":{\"13667\":\"9b149087-099b-4bc5-a051-fc63233d9334\"}}];\n",
       "  root.Bokeh.embed.embed_items_notebook(docs_json, render_items);\n",
       "\n",
       "  }\n",
       "  if (root.Bokeh !== undefined) {\n",
       "    embed_document(root);\n",
       "  } else {\n",
       "    var attempts = 0;\n",
       "    var timer = setInterval(function(root) {\n",
       "      if (root.Bokeh !== undefined) {\n",
       "        clearInterval(timer);\n",
       "        embed_document(root);\n",
       "      } else {\n",
       "        attempts++;\n",
       "        if (attempts > 100) {\n",
       "          clearInterval(timer);\n",
       "          console.log(\"Bokeh: ERROR: Unable to run BokehJS code because BokehJS library is missing\");\n",
       "        }\n",
       "      }\n",
       "    }, 10, root)\n",
       "  }\n",
       "})(window);"
      ],
      "application/vnd.bokehjs_exec.v0+json": ""
     },
     "metadata": {
      "application/vnd.bokehjs_exec.v0+json": {
       "id": "13667"
      }
     },
     "output_type": "display_data"
    },
    {
     "name": "stdout",
     "output_type": "stream",
     "text": [
      "\n"
     ]
    }
   ],
   "source": [
    "#hapmap snvs\n",
    "tabs = plot_metric(snvs, 'n_hapmap_snvs', ['n_hapmap'], y_fun=lambda x: x[0], plot_bi_allelics=False, plot_singletons=False, plot_bi_allelic_singletons=False, colors=colors, )\n",
    "show(tabs)"
   ]
  },
  {
   "cell_type": "code",
   "execution_count": 42,
   "id": "0c95f62a",
   "metadata": {},
   "outputs": [
    {
     "name": "stderr",
     "output_type": "stream",
     "text": [
      "/home/ubuntu/venv/lib/python3.8/site-packages/bokeh/models/plots.py:767: UserWarning: \n",
      "You are attempting to set `plot.legend.label_text_font_size` on a plot that has zero legends added, this will have no effect.\n",
      "\n",
      "Before legend properties can be set, you must add a Legend explicitly, or call a glyph method with a legend parameter set.\n",
      "\n",
      "  warnings.warn(_LEGEND_EMPTY_WARNING % attr)\n"
     ]
    },
    {
     "data": {
      "text/html": [
       "\n",
       "\n",
       "\n",
       "\n",
       "\n",
       "\n",
       "  <div class=\"bk-root\" id=\"5fde11da-425c-40d1-a069-3d4680d0799b\" data-root-id=\"14481\"></div>\n"
      ]
     },
     "metadata": {},
     "output_type": "display_data"
    },
    {
     "data": {
      "application/javascript": [
       "(function(root) {\n",
       "  function embed_document(root) {\n",
       "    \n",
       "  var docs_json = {\"0e7a2280-797a-4a03-b14b-1da2c3c4bff7\":{\"roots\":{\"references\":[{\"attributes\":{\"callback\":null,\"tabs\":[{\"id\":\"14480\",\"type\":\"Panel\"}]},\"id\":\"14481\",\"type\":\"Tabs\"},{\"attributes\":{\"fill_alpha\":{\"value\":0.1},\"fill_color\":{\"value\":\"#1f77b4\"},\"line_alpha\":{\"value\":0.1},\"line_color\":{\"value\":\"#1f77b4\"},\"size\":{\"field\":\"_size\",\"units\":\"screen\"},\"x\":{\"field\":\"bin\"},\"y\":{\"field\":\"cumul\"}},\"id\":\"14463\",\"type\":\"Circle\"},{\"attributes\":{\"bottom_units\":\"screen\",\"fill_alpha\":{\"value\":0.5},\"fill_color\":{\"value\":\"lightgrey\"},\"left_units\":\"screen\",\"level\":\"overlay\",\"line_alpha\":{\"value\":1.0},\"line_color\":{\"value\":\"black\"},\"line_dash\":[4,4],\"line_width\":{\"value\":2},\"render_mode\":\"css\",\"right_units\":\"screen\",\"top_units\":\"screen\"},\"id\":\"14470\",\"type\":\"BoxAnnotation\"},{\"attributes\":{\"fill_alpha\":{\"value\":0.5},\"fill_color\":{\"value\":\"lightgrey\"},\"level\":\"overlay\",\"line_alpha\":{\"value\":1.0},\"line_color\":{\"value\":\"black\"},\"line_dash\":[4,4],\"line_width\":{\"value\":2},\"xs_units\":\"screen\",\"ys_units\":\"screen\"},\"id\":\"14472\",\"type\":\"PolyAnnotation\"},{\"attributes\":{\"callback\":null},\"id\":\"14358\",\"type\":\"DataRange1d\"},{\"attributes\":{\"booleans\":[true,true,true,true,true,true,true,true,true,true,true,true,true,true,true,true,true,true,true,true,true,true,true,true,true,true,true,true,true,true,true,true,true,true,true,true,true,true,true,true,true,true,true,true,true,true,true,true,true,true,true,true,true,true,true,true,true,true,true,true,true,true,true,true,true,true,true,true,true,true,true,true,true,true,true,true,true,true,true,true,true,true,true,true,true,true,true,true,true,true,true,true,true,true,true,true,true,true,true,true,true]},\"id\":\"14459\",\"type\":\"BooleanFilter\"},{\"attributes\":{\"data_source\":{\"id\":\"14359\",\"type\":\"ColumnDataSource\"},\"glyph\":{\"id\":\"14462\",\"type\":\"Circle\"},\"hover_glyph\":null,\"muted_glyph\":null,\"nonselection_glyph\":{\"id\":\"14463\",\"type\":\"Circle\"},\"selection_glyph\":null,\"view\":{\"id\":\"14460\",\"type\":\"CDSView\"}},\"id\":\"14464\",\"type\":\"GlyphRenderer\"},{\"attributes\":{\"callback\":null,\"data\":{\"_color\":[\"blue\",\"blue\",\"blue\",\"blue\",\"blue\",\"blue\",\"blue\",\"blue\",\"blue\",\"blue\",\"blue\",\"blue\",\"blue\",\"blue\",\"blue\",\"blue\",\"blue\",\"blue\",\"blue\",\"blue\",\"blue\",\"blue\",\"blue\",\"blue\",\"blue\",\"blue\",\"blue\",\"blue\",\"blue\",\"blue\",\"blue\",\"blue\",\"blue\",\"blue\",\"blue\",\"blue\",\"blue\",\"blue\",\"blue\",\"blue\",\"blue\",\"blue\",\"blue\",\"blue\",\"blue\",\"blue\",\"blue\",\"blue\",\"blue\",\"blue\",\"blue\",\"blue\",\"blue\",\"blue\",\"blue\",\"blue\",\"blue\",\"blue\",\"blue\",\"blue\",\"blue\",\"blue\",\"blue\",\"blue\",\"blue\",\"blue\",\"blue\",\"blue\",\"blue\",\"blue\",\"blue\",\"blue\",\"blue\",\"blue\",\"blue\",\"blue\",\"blue\",\"blue\",\"blue\",\"blue\",\"blue\",\"blue\",\"blue\",\"blue\",\"blue\",\"blue\",\"blue\",\"blue\",\"blue\",\"blue\",\"blue\",\"blue\",\"blue\",\"blue\",\"blue\",\"blue\",\"blue\",\"blue\",\"blue\",\"blue\",\"blue\"],\"_n\":[0,0,0,1,3,0,0,0,0,0,0,0,0,0,0,0,0,0,0,0,0,0,0,0,0,0,0,0,0,0,0,0,0,1,0,0,0,0,0,0,0,0,0,0,0,0,0,0,0,0,0,1,0,0,0,0,0,0,0,0,0,0,0,0,0,0,0,0,0,0,0,0,0,0,0,0,0,0,0,0,0,0,0,0,0,0,0,0,0,0,0,0,0,0,0,0,0,0,0,0,0],\"_size\":{\"__ndarray__\":\"AAAAAAAA8D8AAAAAAADwPwAAAAAAAPA/AAAAAAAAMEAAAAAAAAAwQAAAAAAAAPA/AAAAAAAA8D8AAAAAAADwPwAAAAAAAPA/AAAAAAAA8D8AAAAAAADwPwAAAAAAAPA/AAAAAAAA8D8AAAAAAADwPwAAAAAAAPA/AAAAAAAA8D8AAAAAAADwPwAAAAAAAPA/AAAAAAAA8D8AAAAAAADwPwAAAAAAAPA/AAAAAAAA8D8AAAAAAADwPwAAAAAAAPA/AAAAAAAA8D8AAAAAAADwPwAAAAAAAPA/AAAAAAAA8D8AAAAAAADwPwAAAAAAAPA/AAAAAAAA8D8AAAAAAADwPwAAAAAAAPA/AAAAAAAAMEAAAAAAAADwPwAAAAAAAPA/AAAAAAAA8D8AAAAAAADwPwAAAAAAAPA/AAAAAAAA8D8AAAAAAADwPwAAAAAAAPA/AAAAAAAA8D8AAAAAAADwPwAAAAAAAPA/AAAAAAAA8D8AAAAAAADwPwAAAAAAAPA/AAAAAAAA8D8AAAAAAADwPwAAAAAAAPA/AAAAAAAAMEAAAAAAAADwPwAAAAAAAPA/AAAAAAAA8D8AAAAAAADwPwAAAAAAAPA/AAAAAAAA8D8AAAAAAADwPwAAAAAAAPA/AAAAAAAA8D8AAAAAAADwPwAAAAAAAPA/AAAAAAAA8D8AAAAAAADwPwAAAAAAAPA/AAAAAAAA8D8AAAAAAADwPwAAAAAAAPA/AAAAAAAA8D8AAAAAAADwPwAAAAAAAPA/AAAAAAAA8D8AAAAAAADwPwAAAAAAAPA/AAAAAAAA8D8AAAAAAADwPwAAAAAAAPA/AAAAAAAA8D8AAAAAAADwPwAAAAAAAPA/AAAAAAAA8D8AAAAAAADwPwAAAAAAAPA/AAAAAAAA8D8AAAAAAADwPwAAAAAAAPA/AAAAAAAA8D8AAAAAAADwPwAAAAAAAPA/AAAAAAAA8D8AAAAAAADwPwAAAAAAAPA/AAAAAAAA8D8AAAAAAADwPwAAAAAAAPA/AAAAAAAA8D8AAAAAAADwPwAAAAAAAPA/AAAAAAAA8D8AAAAAAADwPw==\",\"dtype\":\"float64\",\"shape\":[101]},\"bin\":[1,2,3,4,5,6,7,8,9,10,11,12,13,14,15,16,17,18,19,20,21,22,23,24,25,26,27,28,29,30,31,32,33,34,35,36,37,38,39,40,41,42,43,44,45,46,47,48,49,50,51,52,53,54,55,56,57,58,59,60,61,62,63,64,65,66,67,68,69,70,71,72,73,74,75,76,77,78,79,80,81,82,83,84,85,86,87,88,89,90,91,92,93,94,95,96,97,98,99,100,101],\"cumul\":[0,0,0,1,4,4,4,4,4,4,4,4,4,4,4,4,4,4,4,4,4,4,4,4,4,4,4,4,4,4,4,4,4,5,5,5,5,5,5,5,5,5,5,5,5,5,5,5,5,5,5,6,6,6,6,6,6,6,6,6,6,6,6,6,6,6,6,6,6,6,6,6,6,6,6,6,6,6,6,6,6,6,6,6,6,6,6,6,6,6,6,6,6,6,6,6,6,6,6,6,6],\"index\":[0,1,2,3,4,5,6,7,8,9,10,11,12,13,14,15,16,17,18,19,20,21,22,23,24,25,26,27,28,29,30,31,32,33,34,35,36,37,38,39,40,41,42,43,44,45,46,47,48,49,50,51,52,53,54,55,56,57,58,59,60,61,62,63,64,65,66,67,68,69,70,71,72,73,74,75,76,77,78,79,80,81,82,83,84,85,86,87,88,89,90,91,92,93,94,95,96,97,98,99,100],\"max_score\":{\"__ndarray__\":\"YFDVnTIHlT9gUNWdMgeVP6AsOQhBD5U/oFfA6E8klT8AIfaRCDeVPyAo4dwlVJU/oJULG+b0lT8gSZySMjaWP8A2bKTKXJY/QDhJ4Yx1lj9A1NsBPJyWP0B/3ZMDupY/4JipA5Nklz+giBk9by2YP0ASjfLCbJg/IAZzrLCymz8A5HPHp+mbP2DUS80AFJw/oDUiVBElnD9AQcSlfyqcP2A3E1PlQpw/IAZDSOdUnD8gAP6mnlecPwB7ki8fg5w/4EHVx4sDnT/gEbA9x2SdP4CQrSs9ep0/YOLQMZ2UnT+g20Nh+KKdP2CQjZvy8J0/IJSj7G1lnj8A1RpA6qeeP2CHbqQ7QJ8/gJ/BNunknz/wFEhPEQGgPyAuew81P6A/AN6jBWexoD9gQpMRseOhPzDqNR6gXKI/YCIZQqCDoj9Q7xC2OTWjP/DnGZcsEqQ/0EH5dv0QpT+Q1uHGGBCmP+Af9WDrOKc/UC9LyyJqpz9ANr2+p+qnP1BRBI3kaqg/oIlcxvDjqD/Avw9tFXmpP4Bvv3zC96k/4PyFGFy4qj/QmBuvSTKrP9BEkA1j8qs/0NdVT4I9rT/QadZ4IVCvP8gWy1WRd7A/ABkhrofksD8oFnt+TeSxP7Bv6r7qlrI/KNf6PnxIsz+QpEXLXSu0Pwj/awUw3rQ/oH97vZQTtT+ILF/qQpO1P1jFafDBK7Y/8GTztW0Qtz9QqVMBP6K4P8Are4Jf0ro/yAq9yCRkvD9AUD/xQF29PwAv+bgLAb4/eHYGTvIAvz/kU4VzaIjAPwQoklro8cE/HB/8uH61wz/Yg7IIQpnFP3zI+O2lccc/wBDCDEgnyT8MGEAdAobMP8reZYhL6dU/8hWb/Kn32T9MkNvXIZ3ePzGrmEJ48Ow/QIMzsoFC7T+w3z6yQJftPwBN4GOov+0/GrHXZOft7T9nkxeBCQzuP4mJ7wzpL+4/Yj71C+9R7j96uCJOv2zuP38sGc+Mf+4/eSGgEKGW7j/75JoYJazuP1HGtz21ve4/5JWTCH3U7j+GKO05PvDuP0aAE7HNGu8/ALogkJVd7z9rpXA1e3DvPw==\",\"dtype\":\"float64\",\"shape\":[101]},\"min_score\":{\"__ndarray__\":\"QHa+srTNlD9gUNWdMgeVP2BQ1Z0yB5U/oCw5CEEPlT+gV8DoTySVPwAh9pEIN5U/ICjh3CVUlT/gdVQJY/qVPyBJnJIyNpY/wDZspMpclj9AOEnhjHWWP0DU2wE8nJY/QH/dkwO6lj/gmKkDk2SXP6CIGT1vLZg/QBKN8sJsmD8gBnOssLKbPwDkc8en6Zs/YNRLzQAUnD+gNSJUESWcP0BBxKV/Kpw/YDcTU+VCnD8gBkNI51ScPyAA/qaeV5w/AHuSLx+DnD/gQdXHiwOdP+ARsD3HZJ0/gJCtKz16nT9g4tAxnZSdP6DbQ2H4op0/YJCNm/LwnT8glKPsbWWePwDVGkDqp54/YIdupDtAnz+An8E26eSfP/AUSE8RAaA/IC57DzU/oD8A3qMFZ7GgP2BCkxGx46E/MOo1HqBcoj9gIhlCoIOiP1DvELY5NaM/8OcZlywSpD8wP+9PlhOlP5DW4cYYEKY/4B/1YOs4pz9QL0vLImqnP0A2vb6n6qc/UFEEjeRqqD+giVzG8OOoP8C/D20Veak/QKgadu/7qT/g/IUYXLiqP9CYG69JMqs/0ESQDWPyqz/Q11VPgj2tP2D9dNfWU68/yBbLVZF3sD8AGSGuh+SwPygWe35N5LE/uBKX0DuXsj8o1/o+fEizP5CkRctdK7Q/CP9rBTDetD+gf3u9lBO1P4gsX+pCk7U/WMVp8MErtj/wZPO1bRC3P1B0Linzorg/wCt7gl/Suj/ICr3IJGS8P0BQP/FAXb0/AC/5uAsBvj94dgZO8gC/P+RThXNoiMA/BCiSWujxwT8cH/y4frXDP+S5ydRTm8U/fMj47aVxxz/AEMIMSCfJPwwYQB0Chsw/zmxKV6Pp1T/yFZv8qffZP+4YYnO1nd4/MauYQnjw7D9AgzOygULtP7DfPrJAl+0/AE3gY6i/7T8asddk5+3tP2eTF4EJDO4/iYnvDOkv7j+p8oPN/1HuP3q4Ik6/bO4/fywZz4x/7j95IaAQoZbuP/vkmhglrO4/Uca3PbW97j9MT7ieqNTuP4Yo7Tk+8O4/RoATsc0a7z8AuiCQlV3vPw==\",\"dtype\":\"float64\",\"shape\":[101]},\"model\":[\"40eedd2d\",\"40eedd2d\",\"40eedd2d\",\"40eedd2d\",\"40eedd2d\",\"40eedd2d\",\"40eedd2d\",\"40eedd2d\",\"40eedd2d\",\"40eedd2d\",\"40eedd2d\",\"40eedd2d\",\"40eedd2d\",\"40eedd2d\",\"40eedd2d\",\"40eedd2d\",\"40eedd2d\",\"40eedd2d\",\"40eedd2d\",\"40eedd2d\",\"40eedd2d\",\"40eedd2d\",\"40eedd2d\",\"40eedd2d\",\"40eedd2d\",\"40eedd2d\",\"40eedd2d\",\"40eedd2d\",\"40eedd2d\",\"40eedd2d\",\"40eedd2d\",\"40eedd2d\",\"40eedd2d\",\"40eedd2d\",\"40eedd2d\",\"40eedd2d\",\"40eedd2d\",\"40eedd2d\",\"40eedd2d\",\"40eedd2d\",\"40eedd2d\",\"40eedd2d\",\"40eedd2d\",\"40eedd2d\",\"40eedd2d\",\"40eedd2d\",\"40eedd2d\",\"40eedd2d\",\"40eedd2d\",\"40eedd2d\",\"40eedd2d\",\"40eedd2d\",\"40eedd2d\",\"40eedd2d\",\"40eedd2d\",\"40eedd2d\",\"40eedd2d\",\"40eedd2d\",\"40eedd2d\",\"40eedd2d\",\"40eedd2d\",\"40eedd2d\",\"40eedd2d\",\"40eedd2d\",\"40eedd2d\",\"40eedd2d\",\"40eedd2d\",\"40eedd2d\",\"40eedd2d\",\"40eedd2d\",\"40eedd2d\",\"40eedd2d\",\"40eedd2d\",\"40eedd2d\",\"40eedd2d\",\"40eedd2d\",\"40eedd2d\",\"40eedd2d\",\"40eedd2d\",\"40eedd2d\",\"40eedd2d\",\"40eedd2d\",\"40eedd2d\",\"40eedd2d\",\"40eedd2d\",\"40eedd2d\",\"40eedd2d\",\"40eedd2d\",\"40eedd2d\",\"40eedd2d\",\"40eedd2d\",\"40eedd2d\",\"40eedd2d\",\"40eedd2d\",\"40eedd2d\",\"40eedd2d\",\"40eedd2d\",\"40eedd2d\",\"40eedd2d\",\"40eedd2d\",\"40eedd2d\"],\"n_hapmap\":[0,0,0,1,3,0,0,0,0,0,0,0,0,0,0,0,0,0,0,0,0,0,0,0,0,0,0,0,0,0,0,0,0,1,0,0,0,0,0,0,0,0,0,0,0,0,0,0,0,0,0,1,0,0,0,0,0,0,0,0,0,0,0,0,0,0,0,0,0,0,0,0,0,0,0,0,0,0,0,0,0,0,0,0,0,0,0,0,0,0,0,0,0,0,0,0,0,0,0,0,0],\"n_hapmap_cumul\":[0,0,0,1,4,4,4,4,4,4,4,4,4,4,4,4,4,4,4,4,4,4,4,4,4,4,4,4,4,4,4,4,4,5,5,5,5,5,5,5,5,5,5,5,5,5,5,5,5,5,5,6,6,6,6,6,6,6,6,6,6,6,6,6,6,6,6,6,6,6,6,6,6,6,6,6,6,6,6,6,6,6,6,6,6,6,6,6,6,6,6,6,6,6,6,6,6,6,6,6,6],\"non_cumul\":[0,0,0,1,3,0,0,0,0,0,0,0,0,0,0,0,0,0,0,0,0,0,0,0,0,0,0,0,0,0,0,0,0,1,0,0,0,0,0,0,0,0,0,0,0,0,0,0,0,0,0,1,0,0,0,0,0,0,0,0,0,0,0,0,0,0,0,0,0,0,0,0,0,0,0,0,0,0,0,0,0,0,0,0,0,0,0,0,0,0,0,0,0,0,0,0,0,0,0,0,0]},\"selected\":{\"id\":\"14414\",\"type\":\"Selection\"},\"selection_policy\":{\"id\":\"14415\",\"type\":\"UnionRenderers\"}},\"id\":\"14359\",\"type\":\"ColumnDataSource\"},{\"attributes\":{\"text\":\"All variants\",\"text_font_size\":{\"value\":\"14pt\"}},\"id\":\"14418\",\"type\":\"Title\"},{\"attributes\":{\"bottom_units\":\"screen\",\"fill_alpha\":{\"value\":0.5},\"fill_color\":{\"value\":\"lightgrey\"},\"left_units\":\"screen\",\"level\":\"overlay\",\"line_alpha\":{\"value\":1.0},\"line_color\":{\"value\":\"black\"},\"line_dash\":[4,4],\"line_width\":{\"value\":2},\"render_mode\":\"css\",\"right_units\":\"screen\",\"top_units\":\"screen\"},\"id\":\"14471\",\"type\":\"BoxAnnotation\"},{\"attributes\":{\"click_policy\":\"hide\",\"items\":[{\"id\":\"14417\",\"type\":\"LegendItem\"}],\"location\":[0,0],\"orientation\":\"horizontal\"},\"id\":\"14416\",\"type\":\"Legend\"},{\"attributes\":{\"bottom_units\":\"screen\",\"fill_alpha\":{\"value\":0.5},\"fill_color\":{\"value\":\"lightgrey\"},\"left_units\":\"screen\",\"level\":\"overlay\",\"line_alpha\":{\"value\":1.0},\"line_color\":{\"value\":\"black\"},\"line_dash\":[4,4],\"line_width\":{\"value\":2},\"render_mode\":\"css\",\"right_units\":\"screen\",\"top_units\":\"screen\"},\"id\":\"14411\",\"type\":\"BoxAnnotation\"},{\"attributes\":{\"text\":\"n_hapmap_indels\",\"text_font_size\":{\"value\":\"16pt\"}},\"id\":\"14361\",\"type\":\"Title\"},{\"attributes\":{},\"id\":\"14431\",\"type\":\"BasicTicker\"},{\"attributes\":{\"axis_label\":\"bin\",\"axis_label_text_font_size\":{\"value\":\"16pt\"},\"axis_label_text_font_style\":\"normal\",\"formatter\":{\"id\":\"14407\",\"type\":\"BasicTickFormatter\"},\"major_label_text_font_size\":{\"value\":\"14pt\"},\"ticker\":{\"id\":\"14372\",\"type\":\"BasicTicker\"}},\"id\":\"14371\",\"type\":\"LinearAxis\"},{\"attributes\":{\"axis_label\":\"n_hapmap_indels\",\"axis_label_text_font_size\":{\"value\":\"16pt\"},\"axis_label_text_font_style\":\"normal\",\"formatter\":{\"id\":\"14409\",\"type\":\"BasicTickFormatter\"},\"major_label_text_font_size\":{\"value\":\"14pt\"},\"ticker\":{\"id\":\"14377\",\"type\":\"BasicTicker\"}},\"id\":\"14376\",\"type\":\"LinearAxis\"},{\"attributes\":{\"label\":{\"value\":\"40eedd2d\"},\"renderers\":[{\"id\":\"14405\",\"type\":\"GlyphRenderer\"}]},\"id\":\"14417\",\"type\":\"LegendItem\"},{\"attributes\":{\"text\":\"n_hapmap_indels, cumulative\",\"text_font_size\":{\"value\":\"16pt\"}},\"id\":\"14420\",\"type\":\"Title\"},{\"attributes\":{\"axis_label\":\"bin\",\"axis_label_text_font_size\":{\"value\":\"16pt\"},\"axis_label_text_font_style\":\"normal\",\"formatter\":{\"id\":\"14466\",\"type\":\"BasicTickFormatter\"},\"major_label_text_font_size\":{\"value\":\"14pt\"},\"ticker\":{\"id\":\"14431\",\"type\":\"BasicTicker\"}},\"id\":\"14430\",\"type\":\"LinearAxis\"},{\"attributes\":{},\"id\":\"14388\",\"type\":\"HelpTool\"},{\"attributes\":{\"child\":{\"id\":\"14479\",\"type\":\"Column\"},\"title\":\"All\"},\"id\":\"14480\",\"type\":\"Panel\"},{\"attributes\":{\"overlay\":{\"id\":\"14411\",\"type\":\"BoxAnnotation\"}},\"id\":\"14383\",\"type\":\"BoxZoomTool\"},{\"attributes\":{},\"id\":\"14466\",\"type\":\"BasicTickFormatter\"},{\"attributes\":{\"filters\":[{\"id\":\"14459\",\"type\":\"BooleanFilter\"}],\"source\":{\"id\":\"14359\",\"type\":\"ColumnDataSource\"}},\"id\":\"14460\",\"type\":\"CDSView\"},{\"attributes\":{\"above\":[{\"id\":\"14416\",\"type\":\"Legend\"},{\"id\":\"14418\",\"type\":\"Title\"}],\"below\":[{\"id\":\"14371\",\"type\":\"LinearAxis\"}],\"center\":[{\"id\":\"14375\",\"type\":\"Grid\"},{\"id\":\"14380\",\"type\":\"Grid\"}],\"left\":[{\"id\":\"14376\",\"type\":\"LinearAxis\"}],\"renderers\":[{\"id\":\"14405\",\"type\":\"GlyphRenderer\"}],\"title\":{\"id\":\"14361\",\"type\":\"Title\"},\"toolbar\":{\"id\":\"14390\",\"type\":\"Toolbar\"},\"x_range\":{\"id\":\"14357\",\"type\":\"DataRange1d\"},\"x_scale\":{\"id\":\"14367\",\"type\":\"LinearScale\"},\"y_range\":{\"id\":\"14358\",\"type\":\"DataRange1d\"},\"y_scale\":{\"id\":\"14369\",\"type\":\"LinearScale\"}},\"id\":\"14360\",\"subtype\":\"Figure\",\"type\":\"Plot\"},{\"attributes\":{},\"id\":\"14377\",\"type\":\"BasicTicker\"},{\"attributes\":{\"above\":[{\"id\":\"14475\",\"type\":\"Legend\"},{\"id\":\"14477\",\"type\":\"Title\"}],\"below\":[{\"id\":\"14430\",\"type\":\"LinearAxis\"}],\"center\":[{\"id\":\"14434\",\"type\":\"Grid\"},{\"id\":\"14439\",\"type\":\"Grid\"}],\"left\":[{\"id\":\"14435\",\"type\":\"LinearAxis\"}],\"renderers\":[{\"id\":\"14464\",\"type\":\"GlyphRenderer\"}],\"title\":{\"id\":\"14420\",\"type\":\"Title\"},\"toolbar\":{\"id\":\"14449\",\"type\":\"Toolbar\"},\"x_range\":{\"id\":\"14357\",\"type\":\"DataRange1d\"},\"x_scale\":{\"id\":\"14426\",\"type\":\"LinearScale\"},\"y_range\":{\"id\":\"14358\",\"type\":\"DataRange1d\"},\"y_scale\":{\"id\":\"14428\",\"type\":\"LinearScale\"}},\"id\":\"14419\",\"subtype\":\"Figure\",\"type\":\"Plot\"},{\"attributes\":{\"callback\":null,\"overlay\":{\"id\":\"14472\",\"type\":\"PolyAnnotation\"}},\"id\":\"14446\",\"type\":\"LassoSelectTool\"},{\"attributes\":{\"bottom_units\":\"screen\",\"fill_alpha\":{\"value\":0.5},\"fill_color\":{\"value\":\"lightgrey\"},\"left_units\":\"screen\",\"level\":\"overlay\",\"line_alpha\":{\"value\":1.0},\"line_color\":{\"value\":\"black\"},\"line_dash\":[4,4],\"line_width\":{\"value\":2},\"render_mode\":\"css\",\"right_units\":\"screen\",\"top_units\":\"screen\"},\"id\":\"14412\",\"type\":\"BoxAnnotation\"},{\"attributes\":{\"callback\":null,\"overlay\":{\"id\":\"14413\",\"type\":\"PolyAnnotation\"}},\"id\":\"14387\",\"type\":\"LassoSelectTool\"},{\"attributes\":{\"fill_color\":{\"field\":\"_color\"},\"line_color\":{\"field\":\"_color\"},\"size\":{\"field\":\"_size\",\"units\":\"screen\"},\"x\":{\"field\":\"bin\"},\"y\":{\"field\":\"cumul\"}},\"id\":\"14462\",\"type\":\"Circle\"},{\"attributes\":{},\"id\":\"14382\",\"type\":\"PanTool\"},{\"attributes\":{\"ticker\":{\"id\":\"14372\",\"type\":\"BasicTicker\"}},\"id\":\"14375\",\"type\":\"Grid\"},{\"attributes\":{\"axis_label\":\"n_hapmap_indels\",\"axis_label_text_font_size\":{\"value\":\"16pt\"},\"axis_label_text_font_style\":\"normal\",\"formatter\":{\"id\":\"14468\",\"type\":\"BasicTickFormatter\"},\"major_label_text_font_size\":{\"value\":\"14pt\"},\"ticker\":{\"id\":\"14436\",\"type\":\"BasicTicker\"}},\"id\":\"14435\",\"type\":\"LinearAxis\"},{\"attributes\":{\"fill_alpha\":{\"value\":0.5},\"fill_color\":{\"value\":\"lightgrey\"},\"level\":\"overlay\",\"line_alpha\":{\"value\":1.0},\"line_color\":{\"value\":\"black\"},\"line_dash\":[4,4],\"line_width\":{\"value\":2},\"xs_units\":\"screen\",\"ys_units\":\"screen\"},\"id\":\"14413\",\"type\":\"PolyAnnotation\"},{\"attributes\":{},\"id\":\"14428\",\"type\":\"LinearScale\"},{\"attributes\":{},\"id\":\"14415\",\"type\":\"UnionRenderers\"},{\"attributes\":{},\"id\":\"14436\",\"type\":\"BasicTicker\"},{\"attributes\":{},\"id\":\"14367\",\"type\":\"LinearScale\"},{\"attributes\":{},\"id\":\"14426\",\"type\":\"LinearScale\"},{\"attributes\":{},\"id\":\"14407\",\"type\":\"BasicTickFormatter\"},{\"attributes\":{\"ticker\":{\"id\":\"14431\",\"type\":\"BasicTicker\"}},\"id\":\"14434\",\"type\":\"Grid\"},{\"attributes\":{\"fill_color\":{\"field\":\"_color\"},\"line_color\":{\"field\":\"_color\"},\"size\":{\"field\":\"_size\",\"units\":\"screen\"},\"x\":{\"field\":\"bin\"},\"y\":{\"field\":\"non_cumul\"}},\"id\":\"14403\",\"type\":\"Circle\"},{\"attributes\":{\"fill_alpha\":{\"value\":0.1},\"fill_color\":{\"value\":\"#1f77b4\"},\"line_alpha\":{\"value\":0.1},\"line_color\":{\"value\":\"#1f77b4\"},\"size\":{\"field\":\"_size\",\"units\":\"screen\"},\"x\":{\"field\":\"bin\"},\"y\":{\"field\":\"non_cumul\"}},\"id\":\"14404\",\"type\":\"Circle\"},{\"attributes\":{\"children\":[{\"id\":\"14478\",\"type\":\"Row\"}]},\"id\":\"14479\",\"type\":\"Column\"},{\"attributes\":{\"children\":[{\"id\":\"14360\",\"subtype\":\"Figure\",\"type\":\"Plot\"},{\"id\":\"14419\",\"subtype\":\"Figure\",\"type\":\"Plot\"}]},\"id\":\"14478\",\"type\":\"Row\"},{\"attributes\":{\"dimension\":1,\"ticker\":{\"id\":\"14436\",\"type\":\"BasicTicker\"}},\"id\":\"14439\",\"type\":\"Grid\"},{\"attributes\":{},\"id\":\"14441\",\"type\":\"PanTool\"},{\"attributes\":{\"booleans\":[true,true,true,true,true,true,true,true,true,true,true,true,true,true,true,true,true,true,true,true,true,true,true,true,true,true,true,true,true,true,true,true,true,true,true,true,true,true,true,true,true,true,true,true,true,true,true,true,true,true,true,true,true,true,true,true,true,true,true,true,true,true,true,true,true,true,true,true,true,true,true,true,true,true,true,true,true,true,true,true,true,true,true,true,true,true,true,true,true,true,true,true,true,true,true,true,true,true,true,true,true]},\"id\":\"14400\",\"type\":\"BooleanFilter\"},{\"attributes\":{},\"id\":\"14468\",\"type\":\"BasicTickFormatter\"},{\"attributes\":{\"active_drag\":\"auto\",\"active_inspect\":\"auto\",\"active_multi\":null,\"active_scroll\":\"auto\",\"active_tap\":\"auto\",\"tools\":[{\"id\":\"14440\",\"type\":\"SaveTool\"},{\"id\":\"14441\",\"type\":\"PanTool\"},{\"id\":\"14442\",\"type\":\"BoxZoomTool\"},{\"id\":\"14443\",\"type\":\"ResetTool\"},{\"id\":\"14444\",\"type\":\"WheelZoomTool\"},{\"id\":\"14445\",\"type\":\"BoxSelectTool\"},{\"id\":\"14446\",\"type\":\"LassoSelectTool\"},{\"id\":\"14447\",\"type\":\"HelpTool\"},{\"id\":\"14448\",\"type\":\"HoverTool\"}]},\"id\":\"14449\",\"type\":\"Toolbar\"},{\"attributes\":{\"callback\":null},\"id\":\"14357\",\"type\":\"DataRange1d\"},{\"attributes\":{},\"id\":\"14372\",\"type\":\"BasicTicker\"},{\"attributes\":{},\"id\":\"14385\",\"type\":\"WheelZoomTool\"},{\"attributes\":{\"callback\":null,\"overlay\":{\"id\":\"14412\",\"type\":\"BoxAnnotation\"}},\"id\":\"14386\",\"type\":\"BoxSelectTool\"},{\"attributes\":{},\"id\":\"14384\",\"type\":\"ResetTool\"},{\"attributes\":{},\"id\":\"14409\",\"type\":\"BasicTickFormatter\"},{\"attributes\":{},\"id\":\"14440\",\"type\":\"SaveTool\"},{\"attributes\":{\"dimension\":1,\"ticker\":{\"id\":\"14377\",\"type\":\"BasicTicker\"}},\"id\":\"14380\",\"type\":\"Grid\"},{\"attributes\":{\"click_policy\":\"hide\",\"items\":[{\"id\":\"14476\",\"type\":\"LegendItem\"}],\"location\":[0,0],\"orientation\":\"horizontal\"},\"id\":\"14475\",\"type\":\"Legend\"},{\"attributes\":{\"overlay\":{\"id\":\"14470\",\"type\":\"BoxAnnotation\"}},\"id\":\"14442\",\"type\":\"BoxZoomTool\"},{\"attributes\":{\"active_drag\":\"auto\",\"active_inspect\":\"auto\",\"active_multi\":null,\"active_scroll\":\"auto\",\"active_tap\":\"auto\",\"tools\":[{\"id\":\"14381\",\"type\":\"SaveTool\"},{\"id\":\"14382\",\"type\":\"PanTool\"},{\"id\":\"14383\",\"type\":\"BoxZoomTool\"},{\"id\":\"14384\",\"type\":\"ResetTool\"},{\"id\":\"14385\",\"type\":\"WheelZoomTool\"},{\"id\":\"14386\",\"type\":\"BoxSelectTool\"},{\"id\":\"14387\",\"type\":\"LassoSelectTool\"},{\"id\":\"14388\",\"type\":\"HelpTool\"},{\"id\":\"14389\",\"type\":\"HoverTool\"}]},\"id\":\"14390\",\"type\":\"Toolbar\"},{\"attributes\":{\"text\":\"All variants\",\"text_font_size\":{\"value\":\"14pt\"}},\"id\":\"14477\",\"type\":\"Title\"},{\"attributes\":{\"callback\":null,\"overlay\":{\"id\":\"14471\",\"type\":\"BoxAnnotation\"}},\"id\":\"14445\",\"type\":\"BoxSelectTool\"},{\"attributes\":{},\"id\":\"14443\",\"type\":\"ResetTool\"},{\"attributes\":{\"callback\":null,\"tooltips\":[[\"model\",\"@model\"],[\"bin\",\"@bin\"],[\"n_hapmap_indels\",\"@cumul\"],[\"min_score\",\"@min_score\"],[\"max_score\",\"@max_score\"],[\"n_data_points\",\"@_n\"],[\"n_hapmap\",\"@n_hapmap\"]]},\"id\":\"14448\",\"type\":\"HoverTool\"},{\"attributes\":{\"label\":{\"value\":\"40eedd2d\"},\"renderers\":[{\"id\":\"14464\",\"type\":\"GlyphRenderer\"}]},\"id\":\"14476\",\"type\":\"LegendItem\"},{\"attributes\":{},\"id\":\"14369\",\"type\":\"LinearScale\"},{\"attributes\":{},\"id\":\"14444\",\"type\":\"WheelZoomTool\"},{\"attributes\":{},\"id\":\"14414\",\"type\":\"Selection\"},{\"attributes\":{\"callback\":null,\"tooltips\":[[\"model\",\"@model\"],[\"bin\",\"@bin\"],[\"n_hapmap_indels\",\"@non_cumul\"],[\"min_score\",\"@min_score\"],[\"max_score\",\"@max_score\"],[\"n_data_points\",\"@_n\"],[\"n_hapmap\",\"@n_hapmap\"]]},\"id\":\"14389\",\"type\":\"HoverTool\"},{\"attributes\":{},\"id\":\"14447\",\"type\":\"HelpTool\"},{\"attributes\":{},\"id\":\"14381\",\"type\":\"SaveTool\"},{\"attributes\":{\"data_source\":{\"id\":\"14359\",\"type\":\"ColumnDataSource\"},\"glyph\":{\"id\":\"14403\",\"type\":\"Circle\"},\"hover_glyph\":null,\"muted_glyph\":null,\"nonselection_glyph\":{\"id\":\"14404\",\"type\":\"Circle\"},\"selection_glyph\":null,\"view\":{\"id\":\"14401\",\"type\":\"CDSView\"}},\"id\":\"14405\",\"type\":\"GlyphRenderer\"},{\"attributes\":{\"filters\":[{\"id\":\"14400\",\"type\":\"BooleanFilter\"}],\"source\":{\"id\":\"14359\",\"type\":\"ColumnDataSource\"}},\"id\":\"14401\",\"type\":\"CDSView\"}],\"root_ids\":[\"14481\"]},\"title\":\"Bokeh Application\",\"version\":\"1.4.0\"}};\n",
       "  var render_items = [{\"docid\":\"0e7a2280-797a-4a03-b14b-1da2c3c4bff7\",\"roots\":{\"14481\":\"5fde11da-425c-40d1-a069-3d4680d0799b\"}}];\n",
       "  root.Bokeh.embed.embed_items_notebook(docs_json, render_items);\n",
       "\n",
       "  }\n",
       "  if (root.Bokeh !== undefined) {\n",
       "    embed_document(root);\n",
       "  } else {\n",
       "    var attempts = 0;\n",
       "    var timer = setInterval(function(root) {\n",
       "      if (root.Bokeh !== undefined) {\n",
       "        clearInterval(timer);\n",
       "        embed_document(root);\n",
       "      } else {\n",
       "        attempts++;\n",
       "        if (attempts > 100) {\n",
       "          clearInterval(timer);\n",
       "          console.log(\"Bokeh: ERROR: Unable to run BokehJS code because BokehJS library is missing\");\n",
       "        }\n",
       "      }\n",
       "    }, 10, root)\n",
       "  }\n",
       "})(window);"
      ],
      "application/vnd.bokehjs_exec.v0+json": ""
     },
     "metadata": {
      "application/vnd.bokehjs_exec.v0+json": {
       "id": "14481"
      }
     },
     "output_type": "display_data"
    },
    {
     "name": "stdout",
     "output_type": "stream",
     "text": [
      "\n"
     ]
    }
   ],
   "source": [
    "#hapmap indels\n",
    "tabs = plot_metric(indels, 'n_hapmap_indels', ['n_hapmap'], y_fun=lambda x: x[0], plot_bi_allelics=False, plot_singletons=False, plot_bi_allelic_singletons=False, colors=colors, )\n",
    "show(tabs)"
   ]
  },
  {
   "cell_type": "code",
   "execution_count": 43,
   "id": "4df9ab0e",
   "metadata": {},
   "outputs": [
    {
     "name": "stderr",
     "output_type": "stream",
     "text": [
      "/home/ubuntu/venv/lib/python3.8/site-packages/bokeh/models/plots.py:767: UserWarning: \n",
      "You are attempting to set `plot.legend.label_text_font_size` on a plot that has zero legends added, this will have no effect.\n",
      "\n",
      "Before legend properties can be set, you must add a Legend explicitly, or call a glyph method with a legend parameter set.\n",
      "\n",
      "  warnings.warn(_LEGEND_EMPTY_WARNING % attr)\n"
     ]
    },
    {
     "data": {
      "text/html": [
       "\n",
       "\n",
       "\n",
       "\n",
       "\n",
       "\n",
       "  <div class=\"bk-root\" id=\"ffad202f-0b20-47be-9a4f-0a7f0ab2142e\" data-root-id=\"15313\"></div>\n"
      ]
     },
     "metadata": {},
     "output_type": "display_data"
    },
    {
     "data": {
      "application/javascript": [
       "(function(root) {\n",
       "  function embed_document(root) {\n",
       "    \n",
       "  var docs_json = {\"42de6a76-780c-46db-b505-9909fb8c534d\":{\"roots\":{\"references\":[{\"attributes\":{\"callback\":null,\"tabs\":[{\"id\":\"15312\",\"type\":\"Panel\"}]},\"id\":\"15313\",\"type\":\"Tabs\"},{\"attributes\":{\"fill_color\":{\"field\":\"_color\"},\"line_color\":{\"field\":\"_color\"},\"size\":{\"field\":\"_size\",\"units\":\"screen\"},\"x\":{\"field\":\"bin\"},\"y\":{\"field\":\"non_cumul\"}},\"id\":\"15235\",\"type\":\"Circle\"},{\"attributes\":{},\"id\":\"15220\",\"type\":\"HelpTool\"},{\"attributes\":{},\"id\":\"15268\",\"type\":\"BasicTicker\"},{\"attributes\":{\"children\":[{\"id\":\"15192\",\"subtype\":\"Figure\",\"type\":\"Plot\"},{\"id\":\"15251\",\"subtype\":\"Figure\",\"type\":\"Plot\"}]},\"id\":\"15310\",\"type\":\"Row\"},{\"attributes\":{\"dimension\":1,\"ticker\":{\"id\":\"15268\",\"type\":\"BasicTicker\"}},\"id\":\"15271\",\"type\":\"Grid\"},{\"attributes\":{\"callback\":null,\"overlay\":{\"id\":\"15244\",\"type\":\"BoxAnnotation\"}},\"id\":\"15218\",\"type\":\"BoxSelectTool\"},{\"attributes\":{},\"id\":\"15300\",\"type\":\"BasicTickFormatter\"},{\"attributes\":{\"ticker\":{\"id\":\"15204\",\"type\":\"BasicTicker\"}},\"id\":\"15207\",\"type\":\"Grid\"},{\"attributes\":{\"child\":{\"id\":\"15311\",\"type\":\"Column\"},\"title\":\"All\"},\"id\":\"15312\",\"type\":\"Panel\"},{\"attributes\":{},\"id\":\"15273\",\"type\":\"PanTool\"},{\"attributes\":{\"active_drag\":\"auto\",\"active_inspect\":\"auto\",\"active_multi\":null,\"active_scroll\":\"auto\",\"active_tap\":\"auto\",\"tools\":[{\"id\":\"15272\",\"type\":\"SaveTool\"},{\"id\":\"15273\",\"type\":\"PanTool\"},{\"id\":\"15274\",\"type\":\"BoxZoomTool\"},{\"id\":\"15275\",\"type\":\"ResetTool\"},{\"id\":\"15276\",\"type\":\"WheelZoomTool\"},{\"id\":\"15277\",\"type\":\"BoxSelectTool\"},{\"id\":\"15278\",\"type\":\"LassoSelectTool\"},{\"id\":\"15279\",\"type\":\"HelpTool\"},{\"id\":\"15280\",\"type\":\"HoverTool\"}]},\"id\":\"15281\",\"type\":\"Toolbar\"},{\"attributes\":{},\"id\":\"15272\",\"type\":\"SaveTool\"},{\"attributes\":{\"callback\":null},\"id\":\"15190\",\"type\":\"DataRange1d\"},{\"attributes\":{\"overlay\":{\"id\":\"15302\",\"type\":\"BoxAnnotation\"}},\"id\":\"15274\",\"type\":\"BoxZoomTool\"},{\"attributes\":{\"callback\":null,\"overlay\":{\"id\":\"15303\",\"type\":\"BoxAnnotation\"}},\"id\":\"15277\",\"type\":\"BoxSelectTool\"},{\"attributes\":{\"callback\":null,\"tooltips\":[[\"model\",\"@model\"],[\"bin\",\"@bin\"],[\"fail_hard_filters_snvs\",\"@cumul\"],[\"min_score\",\"@min_score\"],[\"max_score\",\"@max_score\"],[\"n_data_points\",\"@_n\"],[\"fail_hard_filters\",\"@fail_hard_filters\"]]},\"id\":\"15280\",\"type\":\"HoverTool\"},{\"attributes\":{\"label\":{\"value\":\"40eedd2d\"},\"renderers\":[{\"id\":\"15296\",\"type\":\"GlyphRenderer\"}]},\"id\":\"15308\",\"type\":\"LegendItem\"},{\"attributes\":{},\"id\":\"15275\",\"type\":\"ResetTool\"},{\"attributes\":{\"callback\":null,\"overlay\":{\"id\":\"15245\",\"type\":\"PolyAnnotation\"}},\"id\":\"15219\",\"type\":\"LassoSelectTool\"},{\"attributes\":{},\"id\":\"15276\",\"type\":\"WheelZoomTool\"},{\"attributes\":{},\"id\":\"15246\",\"type\":\"Selection\"},{\"attributes\":{},\"id\":\"15279\",\"type\":\"HelpTool\"},{\"attributes\":{},\"id\":\"15217\",\"type\":\"WheelZoomTool\"},{\"attributes\":{\"callback\":null,\"overlay\":{\"id\":\"15304\",\"type\":\"PolyAnnotation\"}},\"id\":\"15278\",\"type\":\"LassoSelectTool\"},{\"attributes\":{},\"id\":\"15214\",\"type\":\"PanTool\"},{\"attributes\":{\"axis_label\":\"bin\",\"axis_label_text_font_size\":{\"value\":\"16pt\"},\"axis_label_text_font_style\":\"normal\",\"formatter\":{\"id\":\"15239\",\"type\":\"BasicTickFormatter\"},\"major_label_text_font_size\":{\"value\":\"14pt\"},\"ticker\":{\"id\":\"15204\",\"type\":\"BasicTicker\"}},\"id\":\"15203\",\"type\":\"LinearAxis\"},{\"attributes\":{\"click_policy\":\"hide\",\"items\":[{\"id\":\"15308\",\"type\":\"LegendItem\"}],\"location\":[0,0],\"orientation\":\"horizontal\"},\"id\":\"15307\",\"type\":\"Legend\"},{\"attributes\":{},\"id\":\"15216\",\"type\":\"ResetTool\"},{\"attributes\":{},\"id\":\"15213\",\"type\":\"SaveTool\"},{\"attributes\":{\"overlay\":{\"id\":\"15243\",\"type\":\"BoxAnnotation\"}},\"id\":\"15215\",\"type\":\"BoxZoomTool\"},{\"attributes\":{},\"id\":\"15204\",\"type\":\"BasicTicker\"},{\"attributes\":{\"fill_alpha\":{\"value\":0.1},\"fill_color\":{\"value\":\"#1f77b4\"},\"line_alpha\":{\"value\":0.1},\"line_color\":{\"value\":\"#1f77b4\"},\"size\":{\"field\":\"_size\",\"units\":\"screen\"},\"x\":{\"field\":\"bin\"},\"y\":{\"field\":\"cumul\"}},\"id\":\"15295\",\"type\":\"Circle\"},{\"attributes\":{\"bottom_units\":\"screen\",\"fill_alpha\":{\"value\":0.5},\"fill_color\":{\"value\":\"lightgrey\"},\"left_units\":\"screen\",\"level\":\"overlay\",\"line_alpha\":{\"value\":1.0},\"line_color\":{\"value\":\"black\"},\"line_dash\":[4,4],\"line_width\":{\"value\":2},\"render_mode\":\"css\",\"right_units\":\"screen\",\"top_units\":\"screen\"},\"id\":\"15302\",\"type\":\"BoxAnnotation\"},{\"attributes\":{},\"id\":\"15239\",\"type\":\"BasicTickFormatter\"},{\"attributes\":{\"filters\":[{\"id\":\"15232\",\"type\":\"BooleanFilter\"}],\"source\":{\"id\":\"15191\",\"type\":\"ColumnDataSource\"}},\"id\":\"15233\",\"type\":\"CDSView\"},{\"attributes\":{},\"id\":\"15201\",\"type\":\"LinearScale\"},{\"attributes\":{\"axis_label\":\"fail_hard_filters_snvs\",\"axis_label_text_font_size\":{\"value\":\"16pt\"},\"axis_label_text_font_style\":\"normal\",\"formatter\":{\"id\":\"15241\",\"type\":\"BasicTickFormatter\"},\"major_label_text_font_size\":{\"value\":\"14pt\"},\"ticker\":{\"id\":\"15209\",\"type\":\"BasicTicker\"}},\"id\":\"15208\",\"type\":\"LinearAxis\"},{\"attributes\":{\"text\":\"fail_hard_filters_snvs\",\"text_font_size\":{\"value\":\"16pt\"}},\"id\":\"15193\",\"type\":\"Title\"},{\"attributes\":{\"text\":\"All variants\",\"text_font_size\":{\"value\":\"14pt\"}},\"id\":\"15309\",\"type\":\"Title\"},{\"attributes\":{\"data_source\":{\"id\":\"15191\",\"type\":\"ColumnDataSource\"},\"glyph\":{\"id\":\"15294\",\"type\":\"Circle\"},\"hover_glyph\":null,\"muted_glyph\":null,\"nonselection_glyph\":{\"id\":\"15295\",\"type\":\"Circle\"},\"selection_glyph\":null,\"view\":{\"id\":\"15292\",\"type\":\"CDSView\"}},\"id\":\"15296\",\"type\":\"GlyphRenderer\"},{\"attributes\":{},\"id\":\"15209\",\"type\":\"BasicTicker\"},{\"attributes\":{\"booleans\":[true,true,true,true,true,true,true,true,true,true,true,true,true,true,true,true,true,true,true,true,true,true,true,true,true,true,true,true,true,true,true,true,true,true,true,true,true,true,true,true,true,true,true,true,true,true,true,true,true,true,true,true,true,true,true,true,true,true,true,true,true,true,true,true,true,true,true,true,true,true,true,true,true,true,true,true,true,true,true,true,true,true,true,true,true,true,true,true,true,true,true,true,true,true,true,true,true,true,true,true,true]},\"id\":\"15232\",\"type\":\"BooleanFilter\"},{\"attributes\":{\"text\":\"All variants\",\"text_font_size\":{\"value\":\"14pt\"}},\"id\":\"15250\",\"type\":\"Title\"},{\"attributes\":{\"fill_alpha\":{\"value\":0.1},\"fill_color\":{\"value\":\"#1f77b4\"},\"line_alpha\":{\"value\":0.1},\"line_color\":{\"value\":\"#1f77b4\"},\"size\":{\"field\":\"_size\",\"units\":\"screen\"},\"x\":{\"field\":\"bin\"},\"y\":{\"field\":\"non_cumul\"}},\"id\":\"15236\",\"type\":\"Circle\"},{\"attributes\":{},\"id\":\"15199\",\"type\":\"LinearScale\"},{\"attributes\":{\"fill_color\":{\"field\":\"_color\"},\"line_color\":{\"field\":\"_color\"},\"size\":{\"field\":\"_size\",\"units\":\"screen\"},\"x\":{\"field\":\"bin\"},\"y\":{\"field\":\"cumul\"}},\"id\":\"15294\",\"type\":\"Circle\"},{\"attributes\":{\"bottom_units\":\"screen\",\"fill_alpha\":{\"value\":0.5},\"fill_color\":{\"value\":\"lightgrey\"},\"left_units\":\"screen\",\"level\":\"overlay\",\"line_alpha\":{\"value\":1.0},\"line_color\":{\"value\":\"black\"},\"line_dash\":[4,4],\"line_width\":{\"value\":2},\"render_mode\":\"css\",\"right_units\":\"screen\",\"top_units\":\"screen\"},\"id\":\"15303\",\"type\":\"BoxAnnotation\"},{\"attributes\":{},\"id\":\"15247\",\"type\":\"UnionRenderers\"},{\"attributes\":{\"callback\":null},\"id\":\"15189\",\"type\":\"DataRange1d\"},{\"attributes\":{\"bottom_units\":\"screen\",\"fill_alpha\":{\"value\":0.5},\"fill_color\":{\"value\":\"lightgrey\"},\"left_units\":\"screen\",\"level\":\"overlay\",\"line_alpha\":{\"value\":1.0},\"line_color\":{\"value\":\"black\"},\"line_dash\":[4,4],\"line_width\":{\"value\":2},\"render_mode\":\"css\",\"right_units\":\"screen\",\"top_units\":\"screen\"},\"id\":\"15243\",\"type\":\"BoxAnnotation\"},{\"attributes\":{\"click_policy\":\"hide\",\"items\":[{\"id\":\"15249\",\"type\":\"LegendItem\"}],\"location\":[0,0],\"orientation\":\"horizontal\"},\"id\":\"15248\",\"type\":\"Legend\"},{\"attributes\":{},\"id\":\"15241\",\"type\":\"BasicTickFormatter\"},{\"attributes\":{},\"id\":\"15263\",\"type\":\"BasicTicker\"},{\"attributes\":{\"label\":{\"value\":\"40eedd2d\"},\"renderers\":[{\"id\":\"15237\",\"type\":\"GlyphRenderer\"}]},\"id\":\"15249\",\"type\":\"LegendItem\"},{\"attributes\":{\"callback\":null,\"data\":{\"_color\":[\"blue\",\"blue\",\"blue\",\"blue\",\"blue\",\"blue\",\"blue\",\"blue\",\"blue\",\"blue\",\"blue\",\"blue\",\"blue\",\"blue\",\"blue\",\"blue\",\"blue\",\"blue\",\"blue\",\"blue\",\"blue\",\"blue\",\"blue\",\"blue\",\"blue\",\"blue\",\"blue\",\"blue\",\"blue\",\"blue\",\"blue\",\"blue\",\"blue\",\"blue\",\"blue\",\"blue\",\"blue\",\"blue\",\"blue\",\"blue\",\"blue\",\"blue\",\"blue\",\"blue\",\"blue\",\"blue\",\"blue\",\"blue\",\"blue\",\"blue\",\"blue\",\"blue\",\"blue\",\"blue\",\"blue\",\"blue\",\"blue\",\"blue\",\"blue\",\"blue\",\"blue\",\"blue\",\"blue\",\"blue\",\"blue\",\"blue\",\"blue\",\"blue\",\"blue\",\"blue\",\"blue\",\"blue\",\"blue\",\"blue\",\"blue\",\"blue\",\"blue\",\"blue\",\"blue\",\"blue\",\"blue\",\"blue\",\"blue\",\"blue\",\"blue\",\"blue\",\"blue\",\"blue\",\"blue\",\"blue\",\"blue\",\"blue\",\"blue\",\"blue\",\"blue\",\"blue\",\"blue\",\"blue\",\"blue\",\"blue\",\"blue\"],\"_n\":[9,1,1,22,44,1,7,27,86,15,132,6,11,1,20,16,105,1,2,54,7,8,3,1255,260,188,345,181,1048,749,1047,923,1696,1145,1687,3760,4496,3814,5555,7288,8934,8515,15908,60393,82844,82844,82844,82844,82844,82844,82844,82844,82844,82844,82844,82844,82844,82844,82844,82844,82844,82844,82844,82844,82844,82844,82844,82844,82844,82844,82844,82844,82844,82844,82844,82844,82844,82844,82844,82844,82844,82844,82844,82844,82844,82844,82844,82844,82844,82844,82844,82844,82844,82844,82844,82844,82844,82844,82844,82844,28],\"_size\":{\"__ndarray__\":\"AAAAAAAA8D8AAAAAAADwPwAAAAAAAPA/AAAAAAAA8D8AAAAAAADwPwAAAAAAAPA/AAAAAAAA8D8AAAAAAADwPwAAAAAAAPA/AAAAAAAA8D8AAAAAAADwPwAAAAAAAPA/AAAAAAAA8D8AAAAAAADwPwAAAAAAAPA/AAAAAAAA8D8AAAAAAADwPwAAAAAAAPA/AAAAAAAA8D8AAAAAAADwPwAAAAAAAPA/AAAAAAAA8D8AAAAAAADwPwAAAAAAAPA/AAAAAAAA8D8AAAAAAADwPwAAAAAAAPA/AAAAAAAA8D8AAAAAAADwPwAAAAAAAPA/AAAAAAAA8D8AAAAAAADwPwAAAAAAAPA/AAAAAAAA8D8AAAAAAADwPwSxYp5dD/I/q6DK0Ke/8z/mQJhxcjDyP2RAzcCc8/U/WsvlEsck+T//Peo+rtb7P3RVphaOLfs/2jh+c+iSAkAINKZpTxgSQLqqIlBwMRVAuqoiUHAxFUC6qiJQcDEVQLqqIlBwMRVAuqoiUHAxFUC6qiJQcDEVQLqqIlBwMRVAuqoiUHAxFUC6qiJQcDEVQLqqIlBwMRVAuqoiUHAxFUC6qiJQcDEVQLqqIlBwMRVAuqoiUHAxFUC6qiJQcDEVQLqqIlBwMRVAuqoiUHAxFUC6qiJQcDEVQLqqIlBwMRVAuqoiUHAxFUC6qiJQcDEVQLqqIlBwMRVAuqoiUHAxFUC6qiJQcDEVQLqqIlBwMRVAuqoiUHAxFUC6qiJQcDEVQLqqIlBwMRVAuqoiUHAxFUC6qiJQcDEVQLqqIlBwMRVAuqoiUHAxFUC6qiJQcDEVQLqqIlBwMRVAuqoiUHAxFUC6qiJQcDEVQLqqIlBwMRVAuqoiUHAxFUC6qiJQcDEVQLqqIlBwMRVAuqoiUHAxFUC6qiJQcDEVQLqqIlBwMRVAuqoiUHAxFUC6qiJQcDEVQLqqIlBwMRVAuqoiUHAxFUC6qiJQcDEVQLqqIlBwMRVAuqoiUHAxFUC6qiJQcDEVQLqqIlBwMRVAuqoiUHAxFUC6qiJQcDEVQLqqIlBwMRVAuqoiUHAxFUAAAAAAAADwPw==\",\"dtype\":\"float64\",\"shape\":[101]},\"bin\":[1,2,3,4,5,6,7,8,9,10,11,12,13,14,15,16,17,18,19,20,21,22,23,24,25,26,27,28,29,30,31,32,33,34,35,36,37,38,39,40,41,42,43,44,45,46,47,48,49,50,51,52,53,54,55,56,57,58,59,60,61,62,63,64,65,66,67,68,69,70,71,72,73,74,75,76,77,78,79,80,81,82,83,84,85,86,87,88,89,90,91,92,93,94,95,96,97,98,99,100,101],\"cumul\":[9,10,11,33,77,78,85,112,198,213,345,351,362,363,383,399,504,505,507,561,568,576,579,1834,2094,2282,2627,2808,3856,4605,5652,6575,8271,9416,11103,14863,19359,23173,28728,36016,44950,53465,69373,129766,212610,295454,378298,461142,543986,626830,709674,792518,875362,958206,1041050,1123894,1206738,1289582,1372426,1455270,1538114,1620958,1703802,1786646,1869490,1952334,2035178,2118022,2200866,2283710,2366554,2449398,2532242,2615086,2697930,2780774,2863618,2946462,3029306,3112150,3194994,3277838,3360682,3443526,3526370,3609214,3692058,3774902,3857746,3940590,4023434,4106278,4189122,4271966,4354810,4437654,4520498,4603342,4686186,4769030,4769058],\"fail_hard_filters\":[9,1,1,22,44,1,7,27,86,15,132,6,11,1,20,16,105,1,2,54,7,8,3,1255,260,188,345,181,1048,749,1047,923,1696,1145,1687,3760,4496,3814,5555,7288,8934,8515,15908,60393,82844,82844,82844,82844,82844,82844,82844,82844,82844,82844,82844,82844,82844,82844,82844,82844,82844,82844,82844,82844,82844,82844,82844,82844,82844,82844,82844,82844,82844,82844,82844,82844,82844,82844,82844,82844,82844,82844,82844,82844,82844,82844,82844,82844,82844,82844,82844,82844,82844,82844,82844,82844,82844,82844,82844,82844,28],\"fail_hard_filters_cumul\":[9,10,11,33,77,78,85,112,198,213,345,351,362,363,383,399,504,505,507,561,568,576,579,1834,2094,2282,2627,2808,3856,4605,5652,6575,8271,9416,11103,14863,19359,23173,28728,36016,44950,53465,69373,129766,212610,295454,378298,461142,543986,626830,709674,792518,875362,958206,1041050,1123894,1206738,1289582,1372426,1455270,1538114,1620958,1703802,1786646,1869490,1952334,2035178,2118022,2200866,2283710,2366554,2449398,2532242,2615086,2697930,2780774,2863618,2946462,3029306,3112150,3194994,3277838,3360682,3443526,3526370,3609214,3692058,3774902,3857746,3940590,4023434,4106278,4189122,4271966,4354810,4437654,4520498,4603342,4686186,4769030,4769058],\"index\":[0,1,2,3,4,5,6,7,8,9,10,11,12,13,14,15,16,17,18,19,20,21,22,23,24,25,26,27,28,29,30,31,32,33,34,35,36,37,38,39,40,41,42,43,44,45,46,47,48,49,50,51,52,53,54,55,56,57,58,59,60,61,62,63,64,65,66,67,68,69,70,71,72,73,74,75,76,77,78,79,80,81,82,83,84,85,86,87,88,89,90,91,92,93,94,95,96,97,98,99,100],\"max_score\":{\"__ndarray__\":\"wMbqWrQymT/AxupatDKZPyCjTsXCOpk/AK42l6F2mT8AbhATn3+cP0Dq6yHLq5w/IFVcT4zDnD/AMad1pt+cPyBE8sFREJ4/wBQTtidAnj8AzJ2sH2SiP4C/w0oWhqI/oGN1AFCdoj+Q7Oh5q56iP+DypfTptKI/4FT5c5a2oj8Q6b0HywejP+C81TA0FKM/YFHOAbYfoz+AlxceInqjPyCJr3BE26M/sFy/kkCFpT/AyPZ5qD+mPyBNbNDbc68/OJEx8qWUsD+QtlicT0axP1B1C45zuLI/aG0A5Z8ftD+oNheGd7C1P+hUR1s5I7Y/SNLbMA60tz8Ip6Zlr+e3P0BCyIzVXrk/QMGqpcfquj/wU0loZo3AP8hokAXWzsE/bF+4FTJswz/4JCj7z37EPxCXunEC6cg/wFdVhKm7yT8k+WQ+waHMP+z8MfpfoM8/b0IMsBkg4D96n0z2Y4ftP61ou3ddjO0/o50pZtrH7T/cgnkQL8/tP9yCeRAvz+0/6VM5WdDg7T95cLfK5BHuPzk7nlhbKO4/o31xyKcr7j+jfXHIpyvuPyeEEngmLe4/os/r9Oo47j8Y20A8q1zuPya2dDEAhe4/qd54z23M7j/O28Cw/OfuP7HBuisAB+8/GOxpTikH7z8RU2E57QrvP4LPwN4nE+8/n0Wxiaka7z+fRbGJqRrvP1N6qKaSHO8/Jhhrd2Ef7z+cManCNiPvP6iXuqxkK+8/a+aH1Bgw7z+FGW2Yw2LvP0FKT4+3ZO8/lZcnkuxp7z/oQoGloWrvP+hCgaWhau8/6EKBpaFq7z9xoI/dKHPvP8I7UDP2dO8/ThXHuYF37z8WiSg2K3rvPzsEM/ZTf+8/VSPN+6qB7z9VI837qoHvP6jOJg9ggu8/qM4mD2CC7z+oziYPYILvP6jOJg9ggu8/cyHJLuuC7z/j/GQMPoXvPxXFvfb+hu8/IwA6HAiI7z/Q9Z/t8ojvPyVDePAnju8/JUN48CeO7z947tED3Y7vP3ju0QPdju8/eO7RA92O7z947tED3Y7vP3ju0QPdju8/8RY4kGSk7z8r78IHIqXvPw==\",\"dtype\":\"float64\",\"shape\":[101]},\"min_score\":{\"__ndarray__\":\"oMtKuUitmD/AxupatDKZP8DG6lq0Mpk/IKNOxcI6mT8ArjaXoXaZPwBuEBOff5w/QOrrIcurnD8gVVxPjMOcP8Axp3Wm35w/IETywVEQnj/AFBO2J0CePwDMnawfZKI/gL/DShaGoj+gY3UAUJ2iP5Ds6HmrnqI/4PKl9Om0oj/gVPlzlraiPxDpvQfLB6M/4LzVMDQUoz9gUc4Bth+jP4CXFx4ieqM/IImvcETboz+wXL+SQIWlP8DI9nmoP6Y/IE1s0Ntzrz84kTHypZSwP5C2WJxPRrE/UHULjnO4sj9obQDlnx+0P6g2F4Z3sLU/6FRHWzkjtj9I0tswDrS3PwinpmWv57c/QELIjNVeuT9Awaqlx+q6P/BTSWhmjcA/yGiQBdbOwT9sX7gVMmzDP/gkKPvPfsQ/EJe6cQLpyD/AV1WEqbvJPyT5ZD7Bocw/7Pwx+l+gzz9vQgywGSDgP3qfTPZjh+0/rWi7d12M7T+jnSlm2sftP9yCeRAvz+0/3IJ5EC/P7T/pUzlZ0ODtP3lwt8rkEe4/OTueWFso7j+jfXHIpyvuP6N9ccinK+4/J4QSeCYt7j+iz+v06jjuPxjbQDyrXO4/JrZ0MQCF7j+p3njPbczuP87bwLD85+4/scG6KwAH7z8Y7GlOKQfvPxFTYTntCu8/gs/A3icT7z+fRbGJqRrvP59FsYmpGu8/U3qoppIc7z8mGGt3YR/vP5wxqcI2I+8/qJe6rGQr7z9r5ofUGDDvP4UZbZjDYu8/QUpPj7dk7z+VlyeS7GnvP+hCgaWhau8/6EKBpaFq7z/oQoGloWrvP3Ggj90oc+8/wjtQM/Z07z9OFce5gXfvPxaJKDYreu8/OwQz9lN/7z9VI837qoHvP1Ujzfuqge8/qM4mD2CC7z+oziYPYILvP6jOJg9ggu8/qM4mD2CC7z9zIcku64LvP+P8ZAw+he8/FcW99v6G7z8jADocCIjvP9D1n+3yiO8/JUN48CeO7z8lQ3jwJ47vP3ju0QPdju8/eO7RA92O7z947tED3Y7vP3ju0QPdju8/eO7RA92O7z/xFjiQZKTvPw==\",\"dtype\":\"float64\",\"shape\":[101]},\"model\":[\"40eedd2d\",\"40eedd2d\",\"40eedd2d\",\"40eedd2d\",\"40eedd2d\",\"40eedd2d\",\"40eedd2d\",\"40eedd2d\",\"40eedd2d\",\"40eedd2d\",\"40eedd2d\",\"40eedd2d\",\"40eedd2d\",\"40eedd2d\",\"40eedd2d\",\"40eedd2d\",\"40eedd2d\",\"40eedd2d\",\"40eedd2d\",\"40eedd2d\",\"40eedd2d\",\"40eedd2d\",\"40eedd2d\",\"40eedd2d\",\"40eedd2d\",\"40eedd2d\",\"40eedd2d\",\"40eedd2d\",\"40eedd2d\",\"40eedd2d\",\"40eedd2d\",\"40eedd2d\",\"40eedd2d\",\"40eedd2d\",\"40eedd2d\",\"40eedd2d\",\"40eedd2d\",\"40eedd2d\",\"40eedd2d\",\"40eedd2d\",\"40eedd2d\",\"40eedd2d\",\"40eedd2d\",\"40eedd2d\",\"40eedd2d\",\"40eedd2d\",\"40eedd2d\",\"40eedd2d\",\"40eedd2d\",\"40eedd2d\",\"40eedd2d\",\"40eedd2d\",\"40eedd2d\",\"40eedd2d\",\"40eedd2d\",\"40eedd2d\",\"40eedd2d\",\"40eedd2d\",\"40eedd2d\",\"40eedd2d\",\"40eedd2d\",\"40eedd2d\",\"40eedd2d\",\"40eedd2d\",\"40eedd2d\",\"40eedd2d\",\"40eedd2d\",\"40eedd2d\",\"40eedd2d\",\"40eedd2d\",\"40eedd2d\",\"40eedd2d\",\"40eedd2d\",\"40eedd2d\",\"40eedd2d\",\"40eedd2d\",\"40eedd2d\",\"40eedd2d\",\"40eedd2d\",\"40eedd2d\",\"40eedd2d\",\"40eedd2d\",\"40eedd2d\",\"40eedd2d\",\"40eedd2d\",\"40eedd2d\",\"40eedd2d\",\"40eedd2d\",\"40eedd2d\",\"40eedd2d\",\"40eedd2d\",\"40eedd2d\",\"40eedd2d\",\"40eedd2d\",\"40eedd2d\",\"40eedd2d\",\"40eedd2d\",\"40eedd2d\",\"40eedd2d\",\"40eedd2d\",\"40eedd2d\"],\"non_cumul\":[9,1,1,22,44,1,7,27,86,15,132,6,11,1,20,16,105,1,2,54,7,8,3,1255,260,188,345,181,1048,749,1047,923,1696,1145,1687,3760,4496,3814,5555,7288,8934,8515,15908,60393,82844,82844,82844,82844,82844,82844,82844,82844,82844,82844,82844,82844,82844,82844,82844,82844,82844,82844,82844,82844,82844,82844,82844,82844,82844,82844,82844,82844,82844,82844,82844,82844,82844,82844,82844,82844,82844,82844,82844,82844,82844,82844,82844,82844,82844,82844,82844,82844,82844,82844,82844,82844,82844,82844,82844,82844,28]},\"selected\":{\"id\":\"15246\",\"type\":\"Selection\"},\"selection_policy\":{\"id\":\"15247\",\"type\":\"UnionRenderers\"}},\"id\":\"15191\",\"type\":\"ColumnDataSource\"},{\"attributes\":{\"booleans\":[true,true,true,true,true,true,true,true,true,true,true,true,true,true,true,true,true,true,true,true,true,true,true,true,true,true,true,true,true,true,true,true,true,true,true,true,true,true,true,true,true,true,true,true,true,true,true,true,true,true,true,true,true,true,true,true,true,true,true,true,true,true,true,true,true,true,true,true,true,true,true,true,true,true,true,true,true,true,true,true,true,true,true,true,true,true,true,true,true,true,true,true,true,true,true,true,true,true,true,true,true]},\"id\":\"15291\",\"type\":\"BooleanFilter\"},{\"attributes\":{\"dimension\":1,\"ticker\":{\"id\":\"15209\",\"type\":\"BasicTicker\"}},\"id\":\"15212\",\"type\":\"Grid\"},{\"attributes\":{\"text\":\"fail_hard_filters_snvs, cumulative\",\"text_font_size\":{\"value\":\"16pt\"}},\"id\":\"15252\",\"type\":\"Title\"},{\"attributes\":{\"axis_label\":\"bin\",\"axis_label_text_font_size\":{\"value\":\"16pt\"},\"axis_label_text_font_style\":\"normal\",\"formatter\":{\"id\":\"15298\",\"type\":\"BasicTickFormatter\"},\"major_label_text_font_size\":{\"value\":\"14pt\"},\"ticker\":{\"id\":\"15263\",\"type\":\"BasicTicker\"}},\"id\":\"15262\",\"type\":\"LinearAxis\"},{\"attributes\":{},\"id\":\"15298\",\"type\":\"BasicTickFormatter\"},{\"attributes\":{\"filters\":[{\"id\":\"15291\",\"type\":\"BooleanFilter\"}],\"source\":{\"id\":\"15191\",\"type\":\"ColumnDataSource\"}},\"id\":\"15292\",\"type\":\"CDSView\"},{\"attributes\":{\"above\":[{\"id\":\"15307\",\"type\":\"Legend\"},{\"id\":\"15309\",\"type\":\"Title\"}],\"below\":[{\"id\":\"15262\",\"type\":\"LinearAxis\"}],\"center\":[{\"id\":\"15266\",\"type\":\"Grid\"},{\"id\":\"15271\",\"type\":\"Grid\"}],\"left\":[{\"id\":\"15267\",\"type\":\"LinearAxis\"}],\"renderers\":[{\"id\":\"15296\",\"type\":\"GlyphRenderer\"}],\"title\":{\"id\":\"15252\",\"type\":\"Title\"},\"toolbar\":{\"id\":\"15281\",\"type\":\"Toolbar\"},\"x_range\":{\"id\":\"15189\",\"type\":\"DataRange1d\"},\"x_scale\":{\"id\":\"15258\",\"type\":\"LinearScale\"},\"y_range\":{\"id\":\"15190\",\"type\":\"DataRange1d\"},\"y_scale\":{\"id\":\"15260\",\"type\":\"LinearScale\"}},\"id\":\"15251\",\"subtype\":\"Figure\",\"type\":\"Plot\"},{\"attributes\":{\"active_drag\":\"auto\",\"active_inspect\":\"auto\",\"active_multi\":null,\"active_scroll\":\"auto\",\"active_tap\":\"auto\",\"tools\":[{\"id\":\"15213\",\"type\":\"SaveTool\"},{\"id\":\"15214\",\"type\":\"PanTool\"},{\"id\":\"15215\",\"type\":\"BoxZoomTool\"},{\"id\":\"15216\",\"type\":\"ResetTool\"},{\"id\":\"15217\",\"type\":\"WheelZoomTool\"},{\"id\":\"15218\",\"type\":\"BoxSelectTool\"},{\"id\":\"15219\",\"type\":\"LassoSelectTool\"},{\"id\":\"15220\",\"type\":\"HelpTool\"},{\"id\":\"15221\",\"type\":\"HoverTool\"}]},\"id\":\"15222\",\"type\":\"Toolbar\"},{\"attributes\":{\"bottom_units\":\"screen\",\"fill_alpha\":{\"value\":0.5},\"fill_color\":{\"value\":\"lightgrey\"},\"left_units\":\"screen\",\"level\":\"overlay\",\"line_alpha\":{\"value\":1.0},\"line_color\":{\"value\":\"black\"},\"line_dash\":[4,4],\"line_width\":{\"value\":2},\"render_mode\":\"css\",\"right_units\":\"screen\",\"top_units\":\"screen\"},\"id\":\"15244\",\"type\":\"BoxAnnotation\"},{\"attributes\":{},\"id\":\"15258\",\"type\":\"LinearScale\"},{\"attributes\":{\"axis_label\":\"fail_hard_filters_snvs\",\"axis_label_text_font_size\":{\"value\":\"16pt\"},\"axis_label_text_font_style\":\"normal\",\"formatter\":{\"id\":\"15300\",\"type\":\"BasicTickFormatter\"},\"major_label_text_font_size\":{\"value\":\"14pt\"},\"ticker\":{\"id\":\"15268\",\"type\":\"BasicTicker\"}},\"id\":\"15267\",\"type\":\"LinearAxis\"},{\"attributes\":{\"fill_alpha\":{\"value\":0.5},\"fill_color\":{\"value\":\"lightgrey\"},\"level\":\"overlay\",\"line_alpha\":{\"value\":1.0},\"line_color\":{\"value\":\"black\"},\"line_dash\":[4,4],\"line_width\":{\"value\":2},\"xs_units\":\"screen\",\"ys_units\":\"screen\"},\"id\":\"15245\",\"type\":\"PolyAnnotation\"},{\"attributes\":{},\"id\":\"15260\",\"type\":\"LinearScale\"},{\"attributes\":{\"callback\":null,\"tooltips\":[[\"model\",\"@model\"],[\"bin\",\"@bin\"],[\"fail_hard_filters_snvs\",\"@non_cumul\"],[\"min_score\",\"@min_score\"],[\"max_score\",\"@max_score\"],[\"n_data_points\",\"@_n\"],[\"fail_hard_filters\",\"@fail_hard_filters\"]]},\"id\":\"15221\",\"type\":\"HoverTool\"},{\"attributes\":{\"children\":[{\"id\":\"15310\",\"type\":\"Row\"}]},\"id\":\"15311\",\"type\":\"Column\"},{\"attributes\":{\"data_source\":{\"id\":\"15191\",\"type\":\"ColumnDataSource\"},\"glyph\":{\"id\":\"15235\",\"type\":\"Circle\"},\"hover_glyph\":null,\"muted_glyph\":null,\"nonselection_glyph\":{\"id\":\"15236\",\"type\":\"Circle\"},\"selection_glyph\":null,\"view\":{\"id\":\"15233\",\"type\":\"CDSView\"}},\"id\":\"15237\",\"type\":\"GlyphRenderer\"},{\"attributes\":{\"fill_alpha\":{\"value\":0.5},\"fill_color\":{\"value\":\"lightgrey\"},\"level\":\"overlay\",\"line_alpha\":{\"value\":1.0},\"line_color\":{\"value\":\"black\"},\"line_dash\":[4,4],\"line_width\":{\"value\":2},\"xs_units\":\"screen\",\"ys_units\":\"screen\"},\"id\":\"15304\",\"type\":\"PolyAnnotation\"},{\"attributes\":{\"ticker\":{\"id\":\"15263\",\"type\":\"BasicTicker\"}},\"id\":\"15266\",\"type\":\"Grid\"},{\"attributes\":{\"above\":[{\"id\":\"15248\",\"type\":\"Legend\"},{\"id\":\"15250\",\"type\":\"Title\"}],\"below\":[{\"id\":\"15203\",\"type\":\"LinearAxis\"}],\"center\":[{\"id\":\"15207\",\"type\":\"Grid\"},{\"id\":\"15212\",\"type\":\"Grid\"}],\"left\":[{\"id\":\"15208\",\"type\":\"LinearAxis\"}],\"renderers\":[{\"id\":\"15237\",\"type\":\"GlyphRenderer\"}],\"title\":{\"id\":\"15193\",\"type\":\"Title\"},\"toolbar\":{\"id\":\"15222\",\"type\":\"Toolbar\"},\"x_range\":{\"id\":\"15189\",\"type\":\"DataRange1d\"},\"x_scale\":{\"id\":\"15199\",\"type\":\"LinearScale\"},\"y_range\":{\"id\":\"15190\",\"type\":\"DataRange1d\"},\"y_scale\":{\"id\":\"15201\",\"type\":\"LinearScale\"}},\"id\":\"15192\",\"subtype\":\"Figure\",\"type\":\"Plot\"}],\"root_ids\":[\"15313\"]},\"title\":\"Bokeh Application\",\"version\":\"1.4.0\"}};\n",
       "  var render_items = [{\"docid\":\"42de6a76-780c-46db-b505-9909fb8c534d\",\"roots\":{\"15313\":\"ffad202f-0b20-47be-9a4f-0a7f0ab2142e\"}}];\n",
       "  root.Bokeh.embed.embed_items_notebook(docs_json, render_items);\n",
       "\n",
       "  }\n",
       "  if (root.Bokeh !== undefined) {\n",
       "    embed_document(root);\n",
       "  } else {\n",
       "    var attempts = 0;\n",
       "    var timer = setInterval(function(root) {\n",
       "      if (root.Bokeh !== undefined) {\n",
       "        clearInterval(timer);\n",
       "        embed_document(root);\n",
       "      } else {\n",
       "        attempts++;\n",
       "        if (attempts > 100) {\n",
       "          clearInterval(timer);\n",
       "          console.log(\"Bokeh: ERROR: Unable to run BokehJS code because BokehJS library is missing\");\n",
       "        }\n",
       "      }\n",
       "    }, 10, root)\n",
       "  }\n",
       "})(window);"
      ],
      "application/vnd.bokehjs_exec.v0+json": ""
     },
     "metadata": {
      "application/vnd.bokehjs_exec.v0+json": {
       "id": "15313"
      }
     },
     "output_type": "display_data"
    },
    {
     "name": "stdout",
     "output_type": "stream",
     "text": [
      "\n"
     ]
    }
   ],
   "source": [
    "#fail hard filters snvs\n",
    "tabs = plot_metric(snvs, 'fail_hard_filters_snvs', ['fail_hard_filters'], y_fun=lambda x: x[0], plot_bi_allelics=False, plot_singletons=False, plot_bi_allelic_singletons=False, colors=colors, )\n",
    "show(tabs)"
   ]
  },
  {
   "cell_type": "code",
   "execution_count": 44,
   "id": "cfc88d2e",
   "metadata": {},
   "outputs": [
    {
     "name": "stderr",
     "output_type": "stream",
     "text": [
      "/home/ubuntu/venv/lib/python3.8/site-packages/bokeh/models/plots.py:767: UserWarning: \n",
      "You are attempting to set `plot.legend.label_text_font_size` on a plot that has zero legends added, this will have no effect.\n",
      "\n",
      "Before legend properties can be set, you must add a Legend explicitly, or call a glyph method with a legend parameter set.\n",
      "\n",
      "  warnings.warn(_LEGEND_EMPTY_WARNING % attr)\n"
     ]
    },
    {
     "data": {
      "text/html": [
       "\n",
       "\n",
       "\n",
       "\n",
       "\n",
       "\n",
       "  <div class=\"bk-root\" id=\"deaa4964-b9c7-4c3d-b2c1-23e054d686cd\" data-root-id=\"16163\"></div>\n"
      ]
     },
     "metadata": {},
     "output_type": "display_data"
    },
    {
     "data": {
      "application/javascript": [
       "(function(root) {\n",
       "  function embed_document(root) {\n",
       "    \n",
       "  var docs_json = {\"1d4ef002-b174-4445-beca-481779b80c5b\":{\"roots\":{\"references\":[{\"attributes\":{\"callback\":null,\"tabs\":[{\"id\":\"16162\",\"type\":\"Panel\"}]},\"id\":\"16163\",\"type\":\"Tabs\"},{\"attributes\":{\"callback\":null,\"tooltips\":[[\"model\",\"@model\"],[\"bin\",\"@bin\"],[\"fail_hard_filters_indels\",\"@non_cumul\"],[\"min_score\",\"@min_score\"],[\"max_score\",\"@max_score\"],[\"n_data_points\",\"@_n\"],[\"fail_hard_filters\",\"@fail_hard_filters\"]]},\"id\":\"16071\",\"type\":\"HoverTool\"},{\"attributes\":{},\"id\":\"16066\",\"type\":\"ResetTool\"},{\"attributes\":{},\"id\":\"16118\",\"type\":\"BasicTicker\"},{\"attributes\":{\"axis_label\":\"fail_hard_filters_indels\",\"axis_label_text_font_size\":{\"value\":\"16pt\"},\"axis_label_text_font_style\":\"normal\",\"formatter\":{\"id\":\"16150\",\"type\":\"BasicTickFormatter\"},\"major_label_text_font_size\":{\"value\":\"14pt\"},\"ticker\":{\"id\":\"16118\",\"type\":\"BasicTicker\"}},\"id\":\"16117\",\"type\":\"LinearAxis\"},{\"attributes\":{\"active_drag\":\"auto\",\"active_inspect\":\"auto\",\"active_multi\":null,\"active_scroll\":\"auto\",\"active_tap\":\"auto\",\"tools\":[{\"id\":\"16063\",\"type\":\"SaveTool\"},{\"id\":\"16064\",\"type\":\"PanTool\"},{\"id\":\"16065\",\"type\":\"BoxZoomTool\"},{\"id\":\"16066\",\"type\":\"ResetTool\"},{\"id\":\"16067\",\"type\":\"WheelZoomTool\"},{\"id\":\"16068\",\"type\":\"BoxSelectTool\"},{\"id\":\"16069\",\"type\":\"LassoSelectTool\"},{\"id\":\"16070\",\"type\":\"HelpTool\"},{\"id\":\"16071\",\"type\":\"HoverTool\"}]},\"id\":\"16072\",\"type\":\"Toolbar\"},{\"attributes\":{\"fill_alpha\":{\"value\":0.5},\"fill_color\":{\"value\":\"lightgrey\"},\"level\":\"overlay\",\"line_alpha\":{\"value\":1.0},\"line_color\":{\"value\":\"black\"},\"line_dash\":[4,4],\"line_width\":{\"value\":2},\"xs_units\":\"screen\",\"ys_units\":\"screen\"},\"id\":\"16095\",\"type\":\"PolyAnnotation\"},{\"attributes\":{\"above\":[{\"id\":\"16098\",\"type\":\"Legend\"},{\"id\":\"16100\",\"type\":\"Title\"}],\"below\":[{\"id\":\"16053\",\"type\":\"LinearAxis\"}],\"center\":[{\"id\":\"16057\",\"type\":\"Grid\"},{\"id\":\"16062\",\"type\":\"Grid\"}],\"left\":[{\"id\":\"16058\",\"type\":\"LinearAxis\"}],\"renderers\":[{\"id\":\"16087\",\"type\":\"GlyphRenderer\"}],\"title\":{\"id\":\"16043\",\"type\":\"Title\"},\"toolbar\":{\"id\":\"16072\",\"type\":\"Toolbar\"},\"x_range\":{\"id\":\"16039\",\"type\":\"DataRange1d\"},\"x_scale\":{\"id\":\"16049\",\"type\":\"LinearScale\"},\"y_range\":{\"id\":\"16040\",\"type\":\"DataRange1d\"},\"y_scale\":{\"id\":\"16051\",\"type\":\"LinearScale\"}},\"id\":\"16042\",\"subtype\":\"Figure\",\"type\":\"Plot\"},{\"attributes\":{\"overlay\":{\"id\":\"16093\",\"type\":\"BoxAnnotation\"}},\"id\":\"16065\",\"type\":\"BoxZoomTool\"},{\"attributes\":{\"dimension\":1,\"ticker\":{\"id\":\"16118\",\"type\":\"BasicTicker\"}},\"id\":\"16121\",\"type\":\"Grid\"},{\"attributes\":{},\"id\":\"16054\",\"type\":\"BasicTicker\"},{\"attributes\":{},\"id\":\"16150\",\"type\":\"BasicTickFormatter\"},{\"attributes\":{},\"id\":\"16091\",\"type\":\"BasicTickFormatter\"},{\"attributes\":{\"callback\":null},\"id\":\"16040\",\"type\":\"DataRange1d\"},{\"attributes\":{},\"id\":\"16123\",\"type\":\"PanTool\"},{\"attributes\":{\"callback\":null},\"id\":\"16039\",\"type\":\"DataRange1d\"},{\"attributes\":{},\"id\":\"16110\",\"type\":\"LinearScale\"},{\"attributes\":{\"active_drag\":\"auto\",\"active_inspect\":\"auto\",\"active_multi\":null,\"active_scroll\":\"auto\",\"active_tap\":\"auto\",\"tools\":[{\"id\":\"16122\",\"type\":\"SaveTool\"},{\"id\":\"16123\",\"type\":\"PanTool\"},{\"id\":\"16124\",\"type\":\"BoxZoomTool\"},{\"id\":\"16125\",\"type\":\"ResetTool\"},{\"id\":\"16126\",\"type\":\"WheelZoomTool\"},{\"id\":\"16127\",\"type\":\"BoxSelectTool\"},{\"id\":\"16128\",\"type\":\"LassoSelectTool\"},{\"id\":\"16129\",\"type\":\"HelpTool\"},{\"id\":\"16130\",\"type\":\"HoverTool\"}]},\"id\":\"16131\",\"type\":\"Toolbar\"},{\"attributes\":{},\"id\":\"16122\",\"type\":\"SaveTool\"},{\"attributes\":{\"child\":{\"id\":\"16161\",\"type\":\"Column\"},\"title\":\"All\"},\"id\":\"16162\",\"type\":\"Panel\"},{\"attributes\":{\"fill_alpha\":{\"value\":0.5},\"fill_color\":{\"value\":\"lightgrey\"},\"level\":\"overlay\",\"line_alpha\":{\"value\":1.0},\"line_color\":{\"value\":\"black\"},\"line_dash\":[4,4],\"line_width\":{\"value\":2},\"xs_units\":\"screen\",\"ys_units\":\"screen\"},\"id\":\"16154\",\"type\":\"PolyAnnotation\"},{\"attributes\":{\"overlay\":{\"id\":\"16152\",\"type\":\"BoxAnnotation\"}},\"id\":\"16124\",\"type\":\"BoxZoomTool\"},{\"attributes\":{\"callback\":null,\"overlay\":{\"id\":\"16095\",\"type\":\"PolyAnnotation\"}},\"id\":\"16069\",\"type\":\"LassoSelectTool\"},{\"attributes\":{\"callback\":null,\"overlay\":{\"id\":\"16153\",\"type\":\"BoxAnnotation\"}},\"id\":\"16127\",\"type\":\"BoxSelectTool\"},{\"attributes\":{},\"id\":\"16070\",\"type\":\"HelpTool\"},{\"attributes\":{\"callback\":null,\"tooltips\":[[\"model\",\"@model\"],[\"bin\",\"@bin\"],[\"fail_hard_filters_indels\",\"@cumul\"],[\"min_score\",\"@min_score\"],[\"max_score\",\"@max_score\"],[\"n_data_points\",\"@_n\"],[\"fail_hard_filters\",\"@fail_hard_filters\"]]},\"id\":\"16130\",\"type\":\"HoverTool\"},{\"attributes\":{},\"id\":\"16067\",\"type\":\"WheelZoomTool\"},{\"attributes\":{\"label\":{\"value\":\"40eedd2d\"},\"renderers\":[{\"id\":\"16146\",\"type\":\"GlyphRenderer\"}]},\"id\":\"16158\",\"type\":\"LegendItem\"},{\"attributes\":{},\"id\":\"16125\",\"type\":\"ResetTool\"},{\"attributes\":{},\"id\":\"16126\",\"type\":\"WheelZoomTool\"},{\"attributes\":{},\"id\":\"16096\",\"type\":\"Selection\"},{\"attributes\":{},\"id\":\"16129\",\"type\":\"HelpTool\"},{\"attributes\":{},\"id\":\"16064\",\"type\":\"PanTool\"},{\"attributes\":{\"axis_label\":\"fail_hard_filters_indels\",\"axis_label_text_font_size\":{\"value\":\"16pt\"},\"axis_label_text_font_style\":\"normal\",\"formatter\":{\"id\":\"16091\",\"type\":\"BasicTickFormatter\"},\"major_label_text_font_size\":{\"value\":\"14pt\"},\"ticker\":{\"id\":\"16059\",\"type\":\"BasicTicker\"}},\"id\":\"16058\",\"type\":\"LinearAxis\"},{\"attributes\":{\"callback\":null,\"overlay\":{\"id\":\"16154\",\"type\":\"PolyAnnotation\"}},\"id\":\"16128\",\"type\":\"LassoSelectTool\"},{\"attributes\":{\"booleans\":[true,true,true,true,true,true,true,true,true,true,true,true,true,true,true,true,true,true,true,true,true,true,true,true,true,true,true,true,true,true,true,true,true,true,true,true,true,true,true,true,true,true,true,true,true,true,true,true,true,true,true,true,true,true,true,true,true,true,true,true,true,true,true,true,true,true,true,true,true,true,true,true,true,true,true,true,true,true,true,true,true,true,true,true,true,true,true,true,true,true,true,true,true,true,true,true,true,true,true,true,true]},\"id\":\"16082\",\"type\":\"BooleanFilter\"},{\"attributes\":{\"click_policy\":\"hide\",\"items\":[{\"id\":\"16158\",\"type\":\"LegendItem\"}],\"location\":[0,0],\"orientation\":\"horizontal\"},\"id\":\"16157\",\"type\":\"Legend\"},{\"attributes\":{\"fill_alpha\":{\"value\":0.1},\"fill_color\":{\"value\":\"#1f77b4\"},\"line_alpha\":{\"value\":0.1},\"line_color\":{\"value\":\"#1f77b4\"},\"size\":{\"field\":\"_size\",\"units\":\"screen\"},\"x\":{\"field\":\"bin\"},\"y\":{\"field\":\"cumul\"}},\"id\":\"16145\",\"type\":\"Circle\"},{\"attributes\":{},\"id\":\"16089\",\"type\":\"BasicTickFormatter\"},{\"attributes\":{\"bottom_units\":\"screen\",\"fill_alpha\":{\"value\":0.5},\"fill_color\":{\"value\":\"lightgrey\"},\"left_units\":\"screen\",\"level\":\"overlay\",\"line_alpha\":{\"value\":1.0},\"line_color\":{\"value\":\"black\"},\"line_dash\":[4,4],\"line_width\":{\"value\":2},\"render_mode\":\"css\",\"right_units\":\"screen\",\"top_units\":\"screen\"},\"id\":\"16152\",\"type\":\"BoxAnnotation\"},{\"attributes\":{\"children\":[{\"id\":\"16042\",\"subtype\":\"Figure\",\"type\":\"Plot\"},{\"id\":\"16101\",\"subtype\":\"Figure\",\"type\":\"Plot\"}]},\"id\":\"16160\",\"type\":\"Row\"},{\"attributes\":{},\"id\":\"16059\",\"type\":\"BasicTicker\"},{\"attributes\":{},\"id\":\"16097\",\"type\":\"UnionRenderers\"},{\"attributes\":{\"fill_alpha\":{\"value\":0.1},\"fill_color\":{\"value\":\"#1f77b4\"},\"line_alpha\":{\"value\":0.1},\"line_color\":{\"value\":\"#1f77b4\"},\"size\":{\"field\":\"_size\",\"units\":\"screen\"},\"x\":{\"field\":\"bin\"},\"y\":{\"field\":\"non_cumul\"}},\"id\":\"16086\",\"type\":\"Circle\"},{\"attributes\":{\"text\":\"All variants\",\"text_font_size\":{\"value\":\"14pt\"}},\"id\":\"16159\",\"type\":\"Title\"},{\"attributes\":{},\"id\":\"16049\",\"type\":\"LinearScale\"},{\"attributes\":{\"data_source\":{\"id\":\"16041\",\"type\":\"ColumnDataSource\"},\"glyph\":{\"id\":\"16144\",\"type\":\"Circle\"},\"hover_glyph\":null,\"muted_glyph\":null,\"nonselection_glyph\":{\"id\":\"16145\",\"type\":\"Circle\"},\"selection_glyph\":null,\"view\":{\"id\":\"16142\",\"type\":\"CDSView\"}},\"id\":\"16146\",\"type\":\"GlyphRenderer\"},{\"attributes\":{\"fill_color\":{\"field\":\"_color\"},\"line_color\":{\"field\":\"_color\"},\"size\":{\"field\":\"_size\",\"units\":\"screen\"},\"x\":{\"field\":\"bin\"},\"y\":{\"field\":\"non_cumul\"}},\"id\":\"16085\",\"type\":\"Circle\"},{\"attributes\":{\"text\":\"All variants\",\"text_font_size\":{\"value\":\"14pt\"}},\"id\":\"16100\",\"type\":\"Title\"},{\"attributes\":{\"bottom_units\":\"screen\",\"fill_alpha\":{\"value\":0.5},\"fill_color\":{\"value\":\"lightgrey\"},\"left_units\":\"screen\",\"level\":\"overlay\",\"line_alpha\":{\"value\":1.0},\"line_color\":{\"value\":\"black\"},\"line_dash\":[4,4],\"line_width\":{\"value\":2},\"render_mode\":\"css\",\"right_units\":\"screen\",\"top_units\":\"screen\"},\"id\":\"16153\",\"type\":\"BoxAnnotation\"},{\"attributes\":{\"fill_color\":{\"field\":\"_color\"},\"line_color\":{\"field\":\"_color\"},\"size\":{\"field\":\"_size\",\"units\":\"screen\"},\"x\":{\"field\":\"bin\"},\"y\":{\"field\":\"cumul\"}},\"id\":\"16144\",\"type\":\"Circle\"},{\"attributes\":{\"booleans\":[true,true,true,true,true,true,true,true,true,true,true,true,true,true,true,true,true,true,true,true,true,true,true,true,true,true,true,true,true,true,true,true,true,true,true,true,true,true,true,true,true,true,true,true,true,true,true,true,true,true,true,true,true,true,true,true,true,true,true,true,true,true,true,true,true,true,true,true,true,true,true,true,true,true,true,true,true,true,true,true,true,true,true,true,true,true,true,true,true,true,true,true,true,true,true,true,true,true,true,true,true]},\"id\":\"16141\",\"type\":\"BooleanFilter\"},{\"attributes\":{\"bottom_units\":\"screen\",\"fill_alpha\":{\"value\":0.5},\"fill_color\":{\"value\":\"lightgrey\"},\"left_units\":\"screen\",\"level\":\"overlay\",\"line_alpha\":{\"value\":1.0},\"line_color\":{\"value\":\"black\"},\"line_dash\":[4,4],\"line_width\":{\"value\":2},\"render_mode\":\"css\",\"right_units\":\"screen\",\"top_units\":\"screen\"},\"id\":\"16093\",\"type\":\"BoxAnnotation\"},{\"attributes\":{\"click_policy\":\"hide\",\"items\":[{\"id\":\"16099\",\"type\":\"LegendItem\"}],\"location\":[0,0],\"orientation\":\"horizontal\"},\"id\":\"16098\",\"type\":\"Legend\"},{\"attributes\":{\"data_source\":{\"id\":\"16041\",\"type\":\"ColumnDataSource\"},\"glyph\":{\"id\":\"16085\",\"type\":\"Circle\"},\"hover_glyph\":null,\"muted_glyph\":null,\"nonselection_glyph\":{\"id\":\"16086\",\"type\":\"Circle\"},\"selection_glyph\":null,\"view\":{\"id\":\"16083\",\"type\":\"CDSView\"}},\"id\":\"16087\",\"type\":\"GlyphRenderer\"},{\"attributes\":{},\"id\":\"16113\",\"type\":\"BasicTicker\"},{\"attributes\":{\"dimension\":1,\"ticker\":{\"id\":\"16059\",\"type\":\"BasicTicker\"}},\"id\":\"16062\",\"type\":\"Grid\"},{\"attributes\":{\"label\":{\"value\":\"40eedd2d\"},\"renderers\":[{\"id\":\"16087\",\"type\":\"GlyphRenderer\"}]},\"id\":\"16099\",\"type\":\"LegendItem\"},{\"attributes\":{\"callback\":null,\"data\":{\"_color\":[\"blue\",\"blue\",\"blue\",\"blue\",\"blue\",\"blue\",\"blue\",\"blue\",\"blue\",\"blue\",\"blue\",\"blue\",\"blue\",\"blue\",\"blue\",\"blue\",\"blue\",\"blue\",\"blue\",\"blue\",\"blue\",\"blue\",\"blue\",\"blue\",\"blue\",\"blue\",\"blue\",\"blue\",\"blue\",\"blue\",\"blue\",\"blue\",\"blue\",\"blue\",\"blue\",\"blue\",\"blue\",\"blue\",\"blue\",\"blue\",\"blue\",\"blue\",\"blue\",\"blue\",\"blue\",\"blue\",\"blue\",\"blue\",\"blue\",\"blue\",\"blue\",\"blue\",\"blue\",\"blue\",\"blue\",\"blue\",\"blue\",\"blue\",\"blue\",\"blue\",\"blue\",\"blue\",\"blue\",\"blue\",\"blue\",\"blue\",\"blue\",\"blue\",\"blue\",\"blue\",\"blue\",\"blue\",\"blue\",\"blue\",\"blue\",\"blue\",\"blue\",\"blue\",\"blue\",\"blue\",\"blue\",\"blue\",\"blue\",\"blue\",\"blue\",\"blue\",\"blue\",\"blue\",\"blue\",\"blue\",\"blue\",\"blue\",\"blue\",\"blue\",\"blue\",\"blue\",\"blue\",\"blue\",\"blue\",\"blue\",\"blue\"],\"_n\":[0,1,0,0,0,2,2,0,2,5,4,1,8,8,1,16,0,0,0,1,0,0,2,1,0,1,2,1,1,2,9,9,4,2,1,2,0,4,1,1,2,2,1,0,0,21,28,0,0,1,0,2,0,1,0,10,8,8,57,69,48,38,46,40,44,36,32,31,76,54,66,69,91,126,88,168,116,106,119,275,304,288,485,1193,2642,2642,2642,2642,2642,2642,2642,2642,2642,2642,2642,2642,2642,2642,2642,2642,95],\"_size\":{\"__ndarray__\":\"AAAAAAAA8D8AAAAAAADwPwAAAAAAAPA/AAAAAAAA8D8AAAAAAADwPwAAAAAAAPA/AAAAAAAA8D8AAAAAAADwPwAAAAAAAPA/AAAAAAAA8D8AAAAAAADwPwAAAAAAAPA/AAAAAAAA8D8AAAAAAADwPwAAAAAAAPA/AAAAAAAA8D8AAAAAAADwPwAAAAAAAPA/AAAAAAAA8D8AAAAAAADwPwAAAAAAAPA/AAAAAAAA8D8AAAAAAADwPwAAAAAAAPA/AAAAAAAA8D8AAAAAAADwPwAAAAAAAPA/AAAAAAAA8D8AAAAAAADwPwAAAAAAAPA/AAAAAAAA8D8AAAAAAADwPwAAAAAAAPA/AAAAAAAA8D8AAAAAAADwPwAAAAAAAPA/AAAAAAAA8D8AAAAAAADwPwAAAAAAAPA/AAAAAAAA8D8AAAAAAADwPwAAAAAAAPA/AAAAAAAA8D8AAAAAAADwPwAAAAAAAPA/AAAAAAAA8D8AAAAAAADwPwAAAAAAAPA/AAAAAAAA8D8AAAAAAADwPwAAAAAAAPA/AAAAAAAA8D8AAAAAAADwPwAAAAAAAPA/AAAAAAAA8D8AAAAAAADwPwAAAAAAAPA/AAAAAAAA8D9FBgo5F372P7cEk/RGv/g/C8eChvyj9D+rNwwddl3yP6f9DW67NPQ/O95M/JjX8j+PgNcmCMPzP8n7ywQR4PE/0wyiWlva8D8PZEz0aJbwPwaBp9Xe+Pk/yx9ZkoPk9T+IUTj3BTT4P7cEk/RGv/g/5t6uZHtr/D/+QCKrhLgAQD21dSuN8vs/leRverdOA0BuslA2JQsAQBLYoXw/rP4/noMcfuo/AECyYI0wyrMIQAaBp9Xe+AlAPRPzB4lHCUB4EVELD2cQQA0rFbmwuRlAM4yZ2j0kI0AzjJnaPSQjQDOMmdo9JCNAM4yZ2j0kI0AzjJnaPSQjQDOMmdo9JCNAM4yZ2j0kI0AzjJnaPSQjQDOMmdo9JCNAM4yZ2j0kI0AzjJnaPSQjQDOMmdo9JCNAM4yZ2j0kI0AzjJnaPSQjQDOMmdo9JCNAM4yZ2j0kI0ArHwTEqQn9Pw==\",\"dtype\":\"float64\",\"shape\":[101]},\"bin\":[1,2,3,4,5,6,7,8,9,10,11,12,13,14,15,16,17,18,19,20,21,22,23,24,25,26,27,28,29,30,31,32,33,34,35,36,37,38,39,40,41,42,43,44,45,46,47,48,49,50,51,52,53,54,55,56,57,58,59,60,61,62,63,64,65,66,67,68,69,70,71,72,73,74,75,76,77,78,79,80,81,82,83,84,85,86,87,88,89,90,91,92,93,94,95,96,97,98,99,100,101],\"cumul\":[0,1,1,1,1,3,5,5,7,12,16,17,25,33,34,50,50,50,50,51,51,51,53,54,54,55,57,58,59,61,70,79,83,85,86,88,88,92,93,94,96,98,99,99,99,120,148,148,148,149,149,151,151,152,152,162,170,178,235,304,352,390,436,476,520,556,588,619,695,749,815,884,975,1101,1189,1357,1473,1579,1698,1973,2277,2565,3050,4243,6885,9527,12169,14811,17453,20095,22737,25379,28021,30663,33305,35947,38589,41231,43873,46515,46610],\"fail_hard_filters\":[0,1,0,0,0,2,2,0,2,5,4,1,8,8,1,16,0,0,0,1,0,0,2,1,0,1,2,1,1,2,9,9,4,2,1,2,0,4,1,1,2,2,1,0,0,21,28,0,0,1,0,2,0,1,0,10,8,8,57,69,48,38,46,40,44,36,32,31,76,54,66,69,91,126,88,168,116,106,119,275,304,288,485,1193,2642,2642,2642,2642,2642,2642,2642,2642,2642,2642,2642,2642,2642,2642,2642,2642,95],\"fail_hard_filters_cumul\":[0,1,1,1,1,3,5,5,7,12,16,17,25,33,34,50,50,50,50,51,51,51,53,54,54,55,57,58,59,61,70,79,83,85,86,88,88,92,93,94,96,98,99,99,99,120,148,148,148,149,149,151,151,152,152,162,170,178,235,304,352,390,436,476,520,556,588,619,695,749,815,884,975,1101,1189,1357,1473,1579,1698,1973,2277,2565,3050,4243,6885,9527,12169,14811,17453,20095,22737,25379,28021,30663,33305,35947,38589,41231,43873,46515,46610],\"index\":[0,1,2,3,4,5,6,7,8,9,10,11,12,13,14,15,16,17,18,19,20,21,22,23,24,25,26,27,28,29,30,31,32,33,34,35,36,37,38,39,40,41,42,43,44,45,46,47,48,49,50,51,52,53,54,55,56,57,58,59,60,61,62,63,64,65,66,67,68,69,70,71,72,73,74,75,76,77,78,79,80,81,82,83,84,85,86,87,88,89,90,91,92,93,94,95,96,97,98,99,100],\"max_score\":{\"__ndarray__\":\"YFDVnTIHlT9gUNWdMgeVP6AsOQhBD5U/oFfA6E8klT8AIfaRCDeVPyAo4dwlVJU/oJULG+b0lT8gSZySMjaWP8A2bKTKXJY/QDhJ4Yx1lj9A1NsBPJyWP0B/3ZMDupY/4JipA5Nklz+giBk9by2YP0ASjfLCbJg/IAZzrLCymz8A5HPHp+mbP2DUS80AFJw/oDUiVBElnD9AQcSlfyqcP2A3E1PlQpw/IAZDSOdUnD8gAP6mnlecPwB7ki8fg5w/4EHVx4sDnT/gEbA9x2SdP4CQrSs9ep0/YOLQMZ2UnT+g20Nh+KKdP2CQjZvy8J0/IJSj7G1lnj8A1RpA6qeeP2CHbqQ7QJ8/gJ/BNunknz/wFEhPEQGgPyAuew81P6A/AN6jBWexoD9gQpMRseOhPzDqNR6gXKI/YCIZQqCDoj9Q7xC2OTWjP/DnGZcsEqQ/0EH5dv0QpT+Q1uHGGBCmP+Af9WDrOKc/UC9LyyJqpz9ANr2+p+qnP1BRBI3kaqg/oIlcxvDjqD/Avw9tFXmpP4Bvv3zC96k/4PyFGFy4qj/QmBuvSTKrP9BEkA1j8qs/0NdVT4I9rT/QadZ4IVCvP8gWy1WRd7A/ABkhrofksD8oFnt+TeSxP7Bv6r7qlrI/KNf6PnxIsz+QpEXLXSu0Pwj/awUw3rQ/oH97vZQTtT+ILF/qQpO1P1jFafDBK7Y/8GTztW0Qtz9QqVMBP6K4P8Are4Jf0ro/yAq9yCRkvD9AUD/xQF29PwAv+bgLAb4/eHYGTvIAvz/kU4VzaIjAPwQoklro8cE/HB/8uH61wz/Yg7IIQpnFP3zI+O2lccc/wBDCDEgnyT8MGEAdAobMP8reZYhL6dU/8hWb/Kn32T9MkNvXIZ3ePzGrmEJ48Ow/QIMzsoFC7T+w3z6yQJftPwBN4GOov+0/GrHXZOft7T9nkxeBCQzuP4mJ7wzpL+4/Yj71C+9R7j96uCJOv2zuP38sGc+Mf+4/eSGgEKGW7j/75JoYJazuP1HGtz21ve4/5JWTCH3U7j+GKO05PvDuP0aAE7HNGu8/ALogkJVd7z9rpXA1e3DvPw==\",\"dtype\":\"float64\",\"shape\":[101]},\"min_score\":{\"__ndarray__\":\"QHa+srTNlD9gUNWdMgeVP2BQ1Z0yB5U/oCw5CEEPlT+gV8DoTySVPwAh9pEIN5U/ICjh3CVUlT/gdVQJY/qVPyBJnJIyNpY/wDZspMpclj9AOEnhjHWWP0DU2wE8nJY/QH/dkwO6lj/gmKkDk2SXP6CIGT1vLZg/QBKN8sJsmD8gBnOssLKbPwDkc8en6Zs/YNRLzQAUnD+gNSJUESWcP0BBxKV/Kpw/YDcTU+VCnD8gBkNI51ScPyAA/qaeV5w/AHuSLx+DnD/gQdXHiwOdP+ARsD3HZJ0/gJCtKz16nT9g4tAxnZSdP6DbQ2H4op0/YJCNm/LwnT8glKPsbWWePwDVGkDqp54/YIdupDtAnz+An8E26eSfP/AUSE8RAaA/IC57DzU/oD8A3qMFZ7GgP2BCkxGx46E/MOo1HqBcoj9gIhlCoIOiP1DvELY5NaM/8OcZlywSpD8wP+9PlhOlP5DW4cYYEKY/4B/1YOs4pz9QL0vLImqnP0A2vb6n6qc/UFEEjeRqqD+giVzG8OOoP8C/D20Veak/QKgadu/7qT/g/IUYXLiqP9CYG69JMqs/0ESQDWPyqz/Q11VPgj2tP2D9dNfWU68/yBbLVZF3sD8AGSGuh+SwPygWe35N5LE/uBKX0DuXsj8o1/o+fEizP5CkRctdK7Q/CP9rBTDetD+gf3u9lBO1P4gsX+pCk7U/WMVp8MErtj/wZPO1bRC3P1B0Linzorg/wCt7gl/Suj/ICr3IJGS8P0BQP/FAXb0/AC/5uAsBvj94dgZO8gC/P+RThXNoiMA/BCiSWujxwT8cH/y4frXDP+S5ydRTm8U/fMj47aVxxz/AEMIMSCfJPwwYQB0Chsw/zmxKV6Pp1T/yFZv8qffZP+4YYnO1nd4/MauYQnjw7D9AgzOygULtP7DfPrJAl+0/AE3gY6i/7T8asddk5+3tP2eTF4EJDO4/iYnvDOkv7j+p8oPN/1HuP3q4Ik6/bO4/fywZz4x/7j95IaAQoZbuP/vkmhglrO4/Uca3PbW97j9MT7ieqNTuP4Yo7Tk+8O4/RoATsc0a7z8AuiCQlV3vPw==\",\"dtype\":\"float64\",\"shape\":[101]},\"model\":[\"40eedd2d\",\"40eedd2d\",\"40eedd2d\",\"40eedd2d\",\"40eedd2d\",\"40eedd2d\",\"40eedd2d\",\"40eedd2d\",\"40eedd2d\",\"40eedd2d\",\"40eedd2d\",\"40eedd2d\",\"40eedd2d\",\"40eedd2d\",\"40eedd2d\",\"40eedd2d\",\"40eedd2d\",\"40eedd2d\",\"40eedd2d\",\"40eedd2d\",\"40eedd2d\",\"40eedd2d\",\"40eedd2d\",\"40eedd2d\",\"40eedd2d\",\"40eedd2d\",\"40eedd2d\",\"40eedd2d\",\"40eedd2d\",\"40eedd2d\",\"40eedd2d\",\"40eedd2d\",\"40eedd2d\",\"40eedd2d\",\"40eedd2d\",\"40eedd2d\",\"40eedd2d\",\"40eedd2d\",\"40eedd2d\",\"40eedd2d\",\"40eedd2d\",\"40eedd2d\",\"40eedd2d\",\"40eedd2d\",\"40eedd2d\",\"40eedd2d\",\"40eedd2d\",\"40eedd2d\",\"40eedd2d\",\"40eedd2d\",\"40eedd2d\",\"40eedd2d\",\"40eedd2d\",\"40eedd2d\",\"40eedd2d\",\"40eedd2d\",\"40eedd2d\",\"40eedd2d\",\"40eedd2d\",\"40eedd2d\",\"40eedd2d\",\"40eedd2d\",\"40eedd2d\",\"40eedd2d\",\"40eedd2d\",\"40eedd2d\",\"40eedd2d\",\"40eedd2d\",\"40eedd2d\",\"40eedd2d\",\"40eedd2d\",\"40eedd2d\",\"40eedd2d\",\"40eedd2d\",\"40eedd2d\",\"40eedd2d\",\"40eedd2d\",\"40eedd2d\",\"40eedd2d\",\"40eedd2d\",\"40eedd2d\",\"40eedd2d\",\"40eedd2d\",\"40eedd2d\",\"40eedd2d\",\"40eedd2d\",\"40eedd2d\",\"40eedd2d\",\"40eedd2d\",\"40eedd2d\",\"40eedd2d\",\"40eedd2d\",\"40eedd2d\",\"40eedd2d\",\"40eedd2d\",\"40eedd2d\",\"40eedd2d\",\"40eedd2d\",\"40eedd2d\",\"40eedd2d\",\"40eedd2d\"],\"non_cumul\":[0,1,0,0,0,2,2,0,2,5,4,1,8,8,1,16,0,0,0,1,0,0,2,1,0,1,2,1,1,2,9,9,4,2,1,2,0,4,1,1,2,2,1,0,0,21,28,0,0,1,0,2,0,1,0,10,8,8,57,69,48,38,46,40,44,36,32,31,76,54,66,69,91,126,88,168,116,106,119,275,304,288,485,1193,2642,2642,2642,2642,2642,2642,2642,2642,2642,2642,2642,2642,2642,2642,2642,2642,95]},\"selected\":{\"id\":\"16096\",\"type\":\"Selection\"},\"selection_policy\":{\"id\":\"16097\",\"type\":\"UnionRenderers\"}},\"id\":\"16041\",\"type\":\"ColumnDataSource\"},{\"attributes\":{\"text\":\"fail_hard_filters_indels, cumulative\",\"text_font_size\":{\"value\":\"16pt\"}},\"id\":\"16102\",\"type\":\"Title\"},{\"attributes\":{\"axis_label\":\"bin\",\"axis_label_text_font_size\":{\"value\":\"16pt\"},\"axis_label_text_font_style\":\"normal\",\"formatter\":{\"id\":\"16089\",\"type\":\"BasicTickFormatter\"},\"major_label_text_font_size\":{\"value\":\"14pt\"},\"ticker\":{\"id\":\"16054\",\"type\":\"BasicTicker\"}},\"id\":\"16053\",\"type\":\"LinearAxis\"},{\"attributes\":{\"text\":\"fail_hard_filters_indels\",\"text_font_size\":{\"value\":\"16pt\"}},\"id\":\"16043\",\"type\":\"Title\"},{\"attributes\":{\"axis_label\":\"bin\",\"axis_label_text_font_size\":{\"value\":\"16pt\"},\"axis_label_text_font_style\":\"normal\",\"formatter\":{\"id\":\"16148\",\"type\":\"BasicTickFormatter\"},\"major_label_text_font_size\":{\"value\":\"14pt\"},\"ticker\":{\"id\":\"16113\",\"type\":\"BasicTicker\"}},\"id\":\"16112\",\"type\":\"LinearAxis\"},{\"attributes\":{},\"id\":\"16148\",\"type\":\"BasicTickFormatter\"},{\"attributes\":{\"filters\":[{\"id\":\"16141\",\"type\":\"BooleanFilter\"}],\"source\":{\"id\":\"16041\",\"type\":\"ColumnDataSource\"}},\"id\":\"16142\",\"type\":\"CDSView\"},{\"attributes\":{},\"id\":\"16108\",\"type\":\"LinearScale\"},{\"attributes\":{\"filters\":[{\"id\":\"16082\",\"type\":\"BooleanFilter\"}],\"source\":{\"id\":\"16041\",\"type\":\"ColumnDataSource\"}},\"id\":\"16083\",\"type\":\"CDSView\"},{\"attributes\":{\"above\":[{\"id\":\"16157\",\"type\":\"Legend\"},{\"id\":\"16159\",\"type\":\"Title\"}],\"below\":[{\"id\":\"16112\",\"type\":\"LinearAxis\"}],\"center\":[{\"id\":\"16116\",\"type\":\"Grid\"},{\"id\":\"16121\",\"type\":\"Grid\"}],\"left\":[{\"id\":\"16117\",\"type\":\"LinearAxis\"}],\"renderers\":[{\"id\":\"16146\",\"type\":\"GlyphRenderer\"}],\"title\":{\"id\":\"16102\",\"type\":\"Title\"},\"toolbar\":{\"id\":\"16131\",\"type\":\"Toolbar\"},\"x_range\":{\"id\":\"16039\",\"type\":\"DataRange1d\"},\"x_scale\":{\"id\":\"16108\",\"type\":\"LinearScale\"},\"y_range\":{\"id\":\"16040\",\"type\":\"DataRange1d\"},\"y_scale\":{\"id\":\"16110\",\"type\":\"LinearScale\"}},\"id\":\"16101\",\"subtype\":\"Figure\",\"type\":\"Plot\"},{\"attributes\":{\"bottom_units\":\"screen\",\"fill_alpha\":{\"value\":0.5},\"fill_color\":{\"value\":\"lightgrey\"},\"left_units\":\"screen\",\"level\":\"overlay\",\"line_alpha\":{\"value\":1.0},\"line_color\":{\"value\":\"black\"},\"line_dash\":[4,4],\"line_width\":{\"value\":2},\"render_mode\":\"css\",\"right_units\":\"screen\",\"top_units\":\"screen\"},\"id\":\"16094\",\"type\":\"BoxAnnotation\"},{\"attributes\":{\"ticker\":{\"id\":\"16054\",\"type\":\"BasicTicker\"}},\"id\":\"16057\",\"type\":\"Grid\"},{\"attributes\":{\"children\":[{\"id\":\"16160\",\"type\":\"Row\"}]},\"id\":\"16161\",\"type\":\"Column\"},{\"attributes\":{\"ticker\":{\"id\":\"16113\",\"type\":\"BasicTicker\"}},\"id\":\"16116\",\"type\":\"Grid\"},{\"attributes\":{},\"id\":\"16063\",\"type\":\"SaveTool\"},{\"attributes\":{},\"id\":\"16051\",\"type\":\"LinearScale\"},{\"attributes\":{\"callback\":null,\"overlay\":{\"id\":\"16094\",\"type\":\"BoxAnnotation\"}},\"id\":\"16068\",\"type\":\"BoxSelectTool\"}],\"root_ids\":[\"16163\"]},\"title\":\"Bokeh Application\",\"version\":\"1.4.0\"}};\n",
       "  var render_items = [{\"docid\":\"1d4ef002-b174-4445-beca-481779b80c5b\",\"roots\":{\"16163\":\"deaa4964-b9c7-4c3d-b2c1-23e054d686cd\"}}];\n",
       "  root.Bokeh.embed.embed_items_notebook(docs_json, render_items);\n",
       "\n",
       "  }\n",
       "  if (root.Bokeh !== undefined) {\n",
       "    embed_document(root);\n",
       "  } else {\n",
       "    var attempts = 0;\n",
       "    var timer = setInterval(function(root) {\n",
       "      if (root.Bokeh !== undefined) {\n",
       "        clearInterval(timer);\n",
       "        embed_document(root);\n",
       "      } else {\n",
       "        attempts++;\n",
       "        if (attempts > 100) {\n",
       "          clearInterval(timer);\n",
       "          console.log(\"Bokeh: ERROR: Unable to run BokehJS code because BokehJS library is missing\");\n",
       "        }\n",
       "      }\n",
       "    }, 10, root)\n",
       "  }\n",
       "})(window);"
      ],
      "application/vnd.bokehjs_exec.v0+json": ""
     },
     "metadata": {
      "application/vnd.bokehjs_exec.v0+json": {
       "id": "16163"
      }
     },
     "output_type": "display_data"
    },
    {
     "name": "stdout",
     "output_type": "stream",
     "text": [
      "\n"
     ]
    }
   ],
   "source": [
    "#fail hard filters indels\n",
    "tabs = plot_metric(indels, 'fail_hard_filters_indels', ['fail_hard_filters'], y_fun=lambda x: x[0], plot_bi_allelics=False, plot_singletons=False, plot_bi_allelic_singletons=False, colors=colors, )\n",
    "show(tabs)"
   ]
  },
  {
   "cell_type": "code",
   "execution_count": null,
   "id": "a17edc16",
   "metadata": {},
   "outputs": [],
   "source": []
  }
 ],
 "metadata": {
  "kernelspec": {
   "display_name": "Python 3 (ipykernel)",
   "language": "python",
   "name": "python3"
  },
  "language_info": {
   "codemirror_mode": {
    "name": "ipython",
    "version": 3
   },
   "file_extension": ".py",
   "mimetype": "text/x-python",
   "name": "python",
   "nbconvert_exporter": "python",
   "pygments_lexer": "ipython3",
   "version": "3.8.10"
  }
 },
 "nbformat": 4,
 "nbformat_minor": 5
}
