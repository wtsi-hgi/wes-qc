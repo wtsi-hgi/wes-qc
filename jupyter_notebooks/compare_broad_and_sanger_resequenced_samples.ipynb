{
 "cells": [
  {
   "cell_type": "code",
   "execution_count": 1,
   "id": "9745381f",
   "metadata": {},
   "outputs": [
    {
     "data": {
      "text/html": [
       "\n",
       "    <div class=\"bk-root\">\n",
       "        <a href=\"https://bokeh.org\" target=\"_blank\" class=\"bk-logo bk-logo-small bk-logo-notebook\"></a>\n",
       "        <span id=\"1001\">Loading BokehJS ...</span>\n",
       "    </div>"
      ]
     },
     "metadata": {},
     "output_type": "display_data"
    },
    {
     "data": {
      "application/javascript": [
       "\n",
       "(function(root) {\n",
       "  function now() {\n",
       "    return new Date();\n",
       "  }\n",
       "\n",
       "  var force = true;\n",
       "\n",
       "  if (typeof root._bokeh_onload_callbacks === \"undefined\" || force === true) {\n",
       "    root._bokeh_onload_callbacks = [];\n",
       "    root._bokeh_is_loading = undefined;\n",
       "  }\n",
       "\n",
       "  var JS_MIME_TYPE = 'application/javascript';\n",
       "  var HTML_MIME_TYPE = 'text/html';\n",
       "  var EXEC_MIME_TYPE = 'application/vnd.bokehjs_exec.v0+json';\n",
       "  var CLASS_NAME = 'output_bokeh rendered_html';\n",
       "\n",
       "  /**\n",
       "   * Render data to the DOM node\n",
       "   */\n",
       "  function render(props, node) {\n",
       "    var script = document.createElement(\"script\");\n",
       "    node.appendChild(script);\n",
       "  }\n",
       "\n",
       "  /**\n",
       "   * Handle when an output is cleared or removed\n",
       "   */\n",
       "  function handleClearOutput(event, handle) {\n",
       "    var cell = handle.cell;\n",
       "\n",
       "    var id = cell.output_area._bokeh_element_id;\n",
       "    var server_id = cell.output_area._bokeh_server_id;\n",
       "    // Clean up Bokeh references\n",
       "    if (id != null && id in Bokeh.index) {\n",
       "      Bokeh.index[id].model.document.clear();\n",
       "      delete Bokeh.index[id];\n",
       "    }\n",
       "\n",
       "    if (server_id !== undefined) {\n",
       "      // Clean up Bokeh references\n",
       "      var cmd = \"from bokeh.io.state import curstate; print(curstate().uuid_to_server['\" + server_id + \"'].get_sessions()[0].document.roots[0]._id)\";\n",
       "      cell.notebook.kernel.execute(cmd, {\n",
       "        iopub: {\n",
       "          output: function(msg) {\n",
       "            var id = msg.content.text.trim();\n",
       "            if (id in Bokeh.index) {\n",
       "              Bokeh.index[id].model.document.clear();\n",
       "              delete Bokeh.index[id];\n",
       "            }\n",
       "          }\n",
       "        }\n",
       "      });\n",
       "      // Destroy server and session\n",
       "      var cmd = \"import bokeh.io.notebook as ion; ion.destroy_server('\" + server_id + \"')\";\n",
       "      cell.notebook.kernel.execute(cmd);\n",
       "    }\n",
       "  }\n",
       "\n",
       "  /**\n",
       "   * Handle when a new output is added\n",
       "   */\n",
       "  function handleAddOutput(event, handle) {\n",
       "    var output_area = handle.output_area;\n",
       "    var output = handle.output;\n",
       "\n",
       "    // limit handleAddOutput to display_data with EXEC_MIME_TYPE content only\n",
       "    if ((output.output_type != \"display_data\") || (!output.data.hasOwnProperty(EXEC_MIME_TYPE))) {\n",
       "      return\n",
       "    }\n",
       "\n",
       "    var toinsert = output_area.element.find(\".\" + CLASS_NAME.split(' ')[0]);\n",
       "\n",
       "    if (output.metadata[EXEC_MIME_TYPE][\"id\"] !== undefined) {\n",
       "      toinsert[toinsert.length - 1].firstChild.textContent = output.data[JS_MIME_TYPE];\n",
       "      // store reference to embed id on output_area\n",
       "      output_area._bokeh_element_id = output.metadata[EXEC_MIME_TYPE][\"id\"];\n",
       "    }\n",
       "    if (output.metadata[EXEC_MIME_TYPE][\"server_id\"] !== undefined) {\n",
       "      var bk_div = document.createElement(\"div\");\n",
       "      bk_div.innerHTML = output.data[HTML_MIME_TYPE];\n",
       "      var script_attrs = bk_div.children[0].attributes;\n",
       "      for (var i = 0; i < script_attrs.length; i++) {\n",
       "        toinsert[toinsert.length - 1].firstChild.setAttribute(script_attrs[i].name, script_attrs[i].value);\n",
       "      }\n",
       "      // store reference to server id on output_area\n",
       "      output_area._bokeh_server_id = output.metadata[EXEC_MIME_TYPE][\"server_id\"];\n",
       "    }\n",
       "  }\n",
       "\n",
       "  function register_renderer(events, OutputArea) {\n",
       "\n",
       "    function append_mime(data, metadata, element) {\n",
       "      // create a DOM node to render to\n",
       "      var toinsert = this.create_output_subarea(\n",
       "        metadata,\n",
       "        CLASS_NAME,\n",
       "        EXEC_MIME_TYPE\n",
       "      );\n",
       "      this.keyboard_manager.register_events(toinsert);\n",
       "      // Render to node\n",
       "      var props = {data: data, metadata: metadata[EXEC_MIME_TYPE]};\n",
       "      render(props, toinsert[toinsert.length - 1]);\n",
       "      element.append(toinsert);\n",
       "      return toinsert\n",
       "    }\n",
       "\n",
       "    /* Handle when an output is cleared or removed */\n",
       "    events.on('clear_output.CodeCell', handleClearOutput);\n",
       "    events.on('delete.Cell', handleClearOutput);\n",
       "\n",
       "    /* Handle when a new output is added */\n",
       "    events.on('output_added.OutputArea', handleAddOutput);\n",
       "\n",
       "    /**\n",
       "     * Register the mime type and append_mime function with output_area\n",
       "     */\n",
       "    OutputArea.prototype.register_mime_type(EXEC_MIME_TYPE, append_mime, {\n",
       "      /* Is output safe? */\n",
       "      safe: true,\n",
       "      /* Index of renderer in `output_area.display_order` */\n",
       "      index: 0\n",
       "    });\n",
       "  }\n",
       "\n",
       "  // register the mime type if in Jupyter Notebook environment and previously unregistered\n",
       "  if (root.Jupyter !== undefined) {\n",
       "    var events = require('base/js/events');\n",
       "    var OutputArea = require('notebook/js/outputarea').OutputArea;\n",
       "\n",
       "    if (OutputArea.prototype.mime_types().indexOf(EXEC_MIME_TYPE) == -1) {\n",
       "      register_renderer(events, OutputArea);\n",
       "    }\n",
       "  }\n",
       "\n",
       "  \n",
       "  if (typeof (root._bokeh_timeout) === \"undefined\" || force === true) {\n",
       "    root._bokeh_timeout = Date.now() + 5000;\n",
       "    root._bokeh_failed_load = false;\n",
       "  }\n",
       "\n",
       "  var NB_LOAD_WARNING = {'data': {'text/html':\n",
       "     \"<div style='background-color: #fdd'>\\n\"+\n",
       "     \"<p>\\n\"+\n",
       "     \"BokehJS does not appear to have successfully loaded. If loading BokehJS from CDN, this \\n\"+\n",
       "     \"may be due to a slow or bad network connection. Possible fixes:\\n\"+\n",
       "     \"</p>\\n\"+\n",
       "     \"<ul>\\n\"+\n",
       "     \"<li>re-rerun `output_notebook()` to attempt to load from CDN again, or</li>\\n\"+\n",
       "     \"<li>use INLINE resources instead, as so:</li>\\n\"+\n",
       "     \"</ul>\\n\"+\n",
       "     \"<code>\\n\"+\n",
       "     \"from bokeh.resources import INLINE\\n\"+\n",
       "     \"output_notebook(resources=INLINE)\\n\"+\n",
       "     \"</code>\\n\"+\n",
       "     \"</div>\"}};\n",
       "\n",
       "  function display_loaded() {\n",
       "    var el = document.getElementById(\"1001\");\n",
       "    if (el != null) {\n",
       "      el.textContent = \"BokehJS is loading...\";\n",
       "    }\n",
       "    if (root.Bokeh !== undefined) {\n",
       "      if (el != null) {\n",
       "        el.textContent = \"BokehJS \" + root.Bokeh.version + \" successfully loaded.\";\n",
       "      }\n",
       "    } else if (Date.now() < root._bokeh_timeout) {\n",
       "      setTimeout(display_loaded, 100)\n",
       "    }\n",
       "  }\n",
       "\n",
       "\n",
       "  function run_callbacks() {\n",
       "    try {\n",
       "      root._bokeh_onload_callbacks.forEach(function(callback) {\n",
       "        if (callback != null)\n",
       "          callback();\n",
       "      });\n",
       "    } finally {\n",
       "      delete root._bokeh_onload_callbacks\n",
       "    }\n",
       "    console.debug(\"Bokeh: all callbacks have finished\");\n",
       "  }\n",
       "\n",
       "  function load_libs(css_urls, js_urls, callback) {\n",
       "    if (css_urls == null) css_urls = [];\n",
       "    if (js_urls == null) js_urls = [];\n",
       "\n",
       "    root._bokeh_onload_callbacks.push(callback);\n",
       "    if (root._bokeh_is_loading > 0) {\n",
       "      console.debug(\"Bokeh: BokehJS is being loaded, scheduling callback at\", now());\n",
       "      return null;\n",
       "    }\n",
       "    if (js_urls == null || js_urls.length === 0) {\n",
       "      run_callbacks();\n",
       "      return null;\n",
       "    }\n",
       "    console.debug(\"Bokeh: BokehJS not loaded, scheduling load and callback at\", now());\n",
       "    root._bokeh_is_loading = css_urls.length + js_urls.length;\n",
       "\n",
       "    function on_load() {\n",
       "      root._bokeh_is_loading--;\n",
       "      if (root._bokeh_is_loading === 0) {\n",
       "        console.debug(\"Bokeh: all BokehJS libraries/stylesheets loaded\");\n",
       "        run_callbacks()\n",
       "      }\n",
       "    }\n",
       "\n",
       "    function on_error() {\n",
       "      console.error(\"failed to load \" + url);\n",
       "    }\n",
       "\n",
       "    for (var i = 0; i < css_urls.length; i++) {\n",
       "      var url = css_urls[i];\n",
       "      const element = document.createElement(\"link\");\n",
       "      element.onload = on_load;\n",
       "      element.onerror = on_error;\n",
       "      element.rel = \"stylesheet\";\n",
       "      element.type = \"text/css\";\n",
       "      element.href = url;\n",
       "      console.debug(\"Bokeh: injecting link tag for BokehJS stylesheet: \", url);\n",
       "      document.body.appendChild(element);\n",
       "    }\n",
       "\n",
       "    for (var i = 0; i < js_urls.length; i++) {\n",
       "      var url = js_urls[i];\n",
       "      var element = document.createElement('script');\n",
       "      element.onload = on_load;\n",
       "      element.onerror = on_error;\n",
       "      element.async = false;\n",
       "      element.src = url;\n",
       "      console.debug(\"Bokeh: injecting script tag for BokehJS library: \", url);\n",
       "      document.head.appendChild(element);\n",
       "    }\n",
       "  };var element = document.getElementById(\"1001\");\n",
       "  if (element == null) {\n",
       "    console.error(\"Bokeh: ERROR: autoload.js configured with elementid '1001' but no matching script tag was found. \")\n",
       "    return false;\n",
       "  }\n",
       "\n",
       "  function inject_raw_css(css) {\n",
       "    const element = document.createElement(\"style\");\n",
       "    element.appendChild(document.createTextNode(css));\n",
       "    document.body.appendChild(element);\n",
       "  }\n",
       "\n",
       "  \n",
       "  var js_urls = [\"https://cdn.pydata.org/bokeh/release/bokeh-1.4.0.min.js\", \"https://cdn.pydata.org/bokeh/release/bokeh-widgets-1.4.0.min.js\", \"https://cdn.pydata.org/bokeh/release/bokeh-tables-1.4.0.min.js\", \"https://cdn.pydata.org/bokeh/release/bokeh-gl-1.4.0.min.js\"];\n",
       "  var css_urls = [];\n",
       "  \n",
       "\n",
       "  var inline_js = [\n",
       "    function(Bokeh) {\n",
       "      Bokeh.set_log_level(\"info\");\n",
       "    },\n",
       "    function(Bokeh) {\n",
       "    \n",
       "    \n",
       "    }\n",
       "  ];\n",
       "\n",
       "  function run_inline_js() {\n",
       "    \n",
       "    if (root.Bokeh !== undefined || force === true) {\n",
       "      \n",
       "    for (var i = 0; i < inline_js.length; i++) {\n",
       "      inline_js[i].call(root, root.Bokeh);\n",
       "    }\n",
       "    if (force === true) {\n",
       "        display_loaded();\n",
       "      }} else if (Date.now() < root._bokeh_timeout) {\n",
       "      setTimeout(run_inline_js, 100);\n",
       "    } else if (!root._bokeh_failed_load) {\n",
       "      console.log(\"Bokeh: BokehJS failed to load within specified timeout.\");\n",
       "      root._bokeh_failed_load = true;\n",
       "    } else if (force !== true) {\n",
       "      var cell = $(document.getElementById(\"1001\")).parents('.cell').data().cell;\n",
       "      cell.output_area.append_execute_result(NB_LOAD_WARNING)\n",
       "    }\n",
       "\n",
       "  }\n",
       "\n",
       "  if (root._bokeh_is_loading === 0) {\n",
       "    console.debug(\"Bokeh: BokehJS loaded, going straight to plotting\");\n",
       "    run_inline_js();\n",
       "  } else {\n",
       "    load_libs(css_urls, js_urls, function() {\n",
       "      console.debug(\"Bokeh: BokehJS plotting callback run at\", now());\n",
       "      run_inline_js();\n",
       "    });\n",
       "  }\n",
       "}(window));"
      ],
      "application/vnd.bokehjs_load.v0+json": "\n(function(root) {\n  function now() {\n    return new Date();\n  }\n\n  var force = true;\n\n  if (typeof root._bokeh_onload_callbacks === \"undefined\" || force === true) {\n    root._bokeh_onload_callbacks = [];\n    root._bokeh_is_loading = undefined;\n  }\n\n  \n\n  \n  if (typeof (root._bokeh_timeout) === \"undefined\" || force === true) {\n    root._bokeh_timeout = Date.now() + 5000;\n    root._bokeh_failed_load = false;\n  }\n\n  var NB_LOAD_WARNING = {'data': {'text/html':\n     \"<div style='background-color: #fdd'>\\n\"+\n     \"<p>\\n\"+\n     \"BokehJS does not appear to have successfully loaded. If loading BokehJS from CDN, this \\n\"+\n     \"may be due to a slow or bad network connection. Possible fixes:\\n\"+\n     \"</p>\\n\"+\n     \"<ul>\\n\"+\n     \"<li>re-rerun `output_notebook()` to attempt to load from CDN again, or</li>\\n\"+\n     \"<li>use INLINE resources instead, as so:</li>\\n\"+\n     \"</ul>\\n\"+\n     \"<code>\\n\"+\n     \"from bokeh.resources import INLINE\\n\"+\n     \"output_notebook(resources=INLINE)\\n\"+\n     \"</code>\\n\"+\n     \"</div>\"}};\n\n  function display_loaded() {\n    var el = document.getElementById(\"1001\");\n    if (el != null) {\n      el.textContent = \"BokehJS is loading...\";\n    }\n    if (root.Bokeh !== undefined) {\n      if (el != null) {\n        el.textContent = \"BokehJS \" + root.Bokeh.version + \" successfully loaded.\";\n      }\n    } else if (Date.now() < root._bokeh_timeout) {\n      setTimeout(display_loaded, 100)\n    }\n  }\n\n\n  function run_callbacks() {\n    try {\n      root._bokeh_onload_callbacks.forEach(function(callback) {\n        if (callback != null)\n          callback();\n      });\n    } finally {\n      delete root._bokeh_onload_callbacks\n    }\n    console.debug(\"Bokeh: all callbacks have finished\");\n  }\n\n  function load_libs(css_urls, js_urls, callback) {\n    if (css_urls == null) css_urls = [];\n    if (js_urls == null) js_urls = [];\n\n    root._bokeh_onload_callbacks.push(callback);\n    if (root._bokeh_is_loading > 0) {\n      console.debug(\"Bokeh: BokehJS is being loaded, scheduling callback at\", now());\n      return null;\n    }\n    if (js_urls == null || js_urls.length === 0) {\n      run_callbacks();\n      return null;\n    }\n    console.debug(\"Bokeh: BokehJS not loaded, scheduling load and callback at\", now());\n    root._bokeh_is_loading = css_urls.length + js_urls.length;\n\n    function on_load() {\n      root._bokeh_is_loading--;\n      if (root._bokeh_is_loading === 0) {\n        console.debug(\"Bokeh: all BokehJS libraries/stylesheets loaded\");\n        run_callbacks()\n      }\n    }\n\n    function on_error() {\n      console.error(\"failed to load \" + url);\n    }\n\n    for (var i = 0; i < css_urls.length; i++) {\n      var url = css_urls[i];\n      const element = document.createElement(\"link\");\n      element.onload = on_load;\n      element.onerror = on_error;\n      element.rel = \"stylesheet\";\n      element.type = \"text/css\";\n      element.href = url;\n      console.debug(\"Bokeh: injecting link tag for BokehJS stylesheet: \", url);\n      document.body.appendChild(element);\n    }\n\n    for (var i = 0; i < js_urls.length; i++) {\n      var url = js_urls[i];\n      var element = document.createElement('script');\n      element.onload = on_load;\n      element.onerror = on_error;\n      element.async = false;\n      element.src = url;\n      console.debug(\"Bokeh: injecting script tag for BokehJS library: \", url);\n      document.head.appendChild(element);\n    }\n  };var element = document.getElementById(\"1001\");\n  if (element == null) {\n    console.error(\"Bokeh: ERROR: autoload.js configured with elementid '1001' but no matching script tag was found. \")\n    return false;\n  }\n\n  function inject_raw_css(css) {\n    const element = document.createElement(\"style\");\n    element.appendChild(document.createTextNode(css));\n    document.body.appendChild(element);\n  }\n\n  \n  var js_urls = [\"https://cdn.pydata.org/bokeh/release/bokeh-1.4.0.min.js\", \"https://cdn.pydata.org/bokeh/release/bokeh-widgets-1.4.0.min.js\", \"https://cdn.pydata.org/bokeh/release/bokeh-tables-1.4.0.min.js\", \"https://cdn.pydata.org/bokeh/release/bokeh-gl-1.4.0.min.js\"];\n  var css_urls = [];\n  \n\n  var inline_js = [\n    function(Bokeh) {\n      Bokeh.set_log_level(\"info\");\n    },\n    function(Bokeh) {\n    \n    \n    }\n  ];\n\n  function run_inline_js() {\n    \n    if (root.Bokeh !== undefined || force === true) {\n      \n    for (var i = 0; i < inline_js.length; i++) {\n      inline_js[i].call(root, root.Bokeh);\n    }\n    if (force === true) {\n        display_loaded();\n      }} else if (Date.now() < root._bokeh_timeout) {\n      setTimeout(run_inline_js, 100);\n    } else if (!root._bokeh_failed_load) {\n      console.log(\"Bokeh: BokehJS failed to load within specified timeout.\");\n      root._bokeh_failed_load = true;\n    } else if (force !== true) {\n      var cell = $(document.getElementById(\"1001\")).parents('.cell').data().cell;\n      cell.output_area.append_execute_result(NB_LOAD_WARNING)\n    }\n\n  }\n\n  if (root._bokeh_is_loading === 0) {\n    console.debug(\"Bokeh: BokehJS loaded, going straight to plotting\");\n    run_inline_js();\n  } else {\n    load_libs(css_urls, js_urls, function() {\n      console.debug(\"Bokeh: BokehJS plotting callback run at\", now());\n      run_inline_js();\n    });\n  }\n}(window));"
     },
     "metadata": {},
     "output_type": "display_data"
    },
    {
     "name": "stdout",
     "output_type": "stream",
     "text": [
      "2022-08-17 12:55:44 WARN  NativeCodeLoader:60 - Unable to load native-hadoop library for your platform... using builtin-java classes where applicable\n",
      "2022-08-17 12:55:44 WARN  DependencyUtils:69 - Local jar /opt/hadoop/share/hadoop/tools/lib/aws-java-sdk-bundle-1.11.375.jar does not exist, skipping.\n",
      "2022-08-17 12:55:44 INFO  SparkContext:57 - Running Spark version 3.1.2\n",
      "2022-08-17 12:55:44 INFO  ResourceUtils:57 - ==============================================================\n",
      "2022-08-17 12:55:44 INFO  ResourceUtils:57 - No custom resources configured for spark.driver.\n",
      "2022-08-17 12:55:44 INFO  ResourceUtils:57 - ==============================================================\n",
      "2022-08-17 12:55:44 INFO  SparkContext:57 - Submitted application: pyspark-shell\n",
      "2022-08-17 12:55:44 INFO  ResourceProfile:57 - Default ResourceProfile created, executor resources: Map(cores -> name: cores, amount: 1, script: , vendor: , memory -> name: memory, amount: 37335, script: , vendor: , offHeap -> name: offHeap, amount: 0, script: , vendor: ), task resources: Map(cpus -> name: cpus, amount: 1.0)\n",
      "2022-08-17 12:55:44 INFO  ResourceProfile:57 - Limiting resource is cpu\n",
      "2022-08-17 12:55:44 INFO  ResourceProfileManager:57 - Added ResourceProfile id: 0\n",
      "2022-08-17 12:55:44 INFO  SecurityManager:57 - Changing view acls to: ubuntu\n",
      "2022-08-17 12:55:44 INFO  SecurityManager:57 - Changing modify acls to: ubuntu\n",
      "2022-08-17 12:55:44 INFO  SecurityManager:57 - Changing view acls groups to: \n",
      "2022-08-17 12:55:44 INFO  SecurityManager:57 - Changing modify acls groups to: \n",
      "2022-08-17 12:55:44 INFO  SecurityManager:57 - SecurityManager: authentication disabled; ui acls disabled; users  with view permissions: Set(ubuntu); groups with view permissions: Set(); users  with modify permissions: Set(ubuntu); groups with modify permissions: Set()\n",
      "2022-08-17 12:55:44 INFO  Utils:57 - Successfully started service 'sparkDriver' on port 44081.\n",
      "2022-08-17 12:55:45 INFO  SparkEnv:57 - Registering MapOutputTracker\n",
      "2022-08-17 12:55:45 INFO  SparkEnv:57 - Registering BlockManagerMaster\n",
      "2022-08-17 12:55:45 INFO  BlockManagerMasterEndpoint:57 - Using org.apache.spark.storage.DefaultTopologyMapper for getting topology information\n",
      "2022-08-17 12:55:45 INFO  BlockManagerMasterEndpoint:57 - BlockManagerMasterEndpoint up\n",
      "2022-08-17 12:55:45 INFO  SparkEnv:57 - Registering BlockManagerMasterHeartbeat\n",
      "2022-08-17 12:55:45 INFO  DiskBlockManager:57 - Created local directory at /tmp/blockmgr-e108a8a3-f10a-4210-8ea0-02a9faf21c8a\n",
      "2022-08-17 12:55:45 INFO  MemoryStore:57 - MemoryStore started with capacity 19.3 GiB\n",
      "2022-08-17 12:55:45 INFO  SparkEnv:57 - Registering OutputCommitCoordinator\n",
      "2022-08-17 12:55:45 INFO  log:169 - Logging initialized @2438ms to org.sparkproject.jetty.util.log.Slf4jLog\n",
      "2022-08-17 12:55:45 INFO  Server:375 - jetty-9.4.40.v20210413; built: 2021-04-13T20:42:42.668Z; git: b881a572662e1943a14ae12e7e1207989f218b74; jvm 1.8.0_342-8u342-b07-0ubuntu1~20.04-b07\n",
      "2022-08-17 12:55:45 INFO  Server:415 - Started @2539ms\n",
      "2022-08-17 12:55:45 INFO  AbstractConnector:331 - Started ServerConnector@19b60b7e{HTTP/1.1, (http/1.1)}{0.0.0.0:4040}\n",
      "2022-08-17 12:55:45 INFO  Utils:57 - Successfully started service 'SparkUI' on port 4040.\n",
      "2022-08-17 12:55:45 INFO  ContextHandler:916 - Started o.s.j.s.ServletContextHandler@356764ab{/jobs,null,AVAILABLE,@Spark}\n",
      "2022-08-17 12:55:45 INFO  ContextHandler:916 - Started o.s.j.s.ServletContextHandler@555bbdfd{/jobs/json,null,AVAILABLE,@Spark}\n",
      "2022-08-17 12:55:45 INFO  ContextHandler:916 - Started o.s.j.s.ServletContextHandler@1aca6753{/jobs/job,null,AVAILABLE,@Spark}\n",
      "2022-08-17 12:55:45 INFO  ContextHandler:916 - Started o.s.j.s.ServletContextHandler@19995cfa{/jobs/job/json,null,AVAILABLE,@Spark}\n",
      "2022-08-17 12:55:45 INFO  ContextHandler:916 - Started o.s.j.s.ServletContextHandler@216b58b6{/stages,null,AVAILABLE,@Spark}\n",
      "2022-08-17 12:55:45 INFO  ContextHandler:916 - Started o.s.j.s.ServletContextHandler@6cc81b83{/stages/json,null,AVAILABLE,@Spark}\n",
      "2022-08-17 12:55:45 INFO  ContextHandler:916 - Started o.s.j.s.ServletContextHandler@456c0c8e{/stages/stage,null,AVAILABLE,@Spark}\n",
      "2022-08-17 12:55:45 INFO  ContextHandler:916 - Started o.s.j.s.ServletContextHandler@28596425{/stages/stage/json,null,AVAILABLE,@Spark}\n",
      "2022-08-17 12:55:45 INFO  ContextHandler:916 - Started o.s.j.s.ServletContextHandler@44644364{/stages/pool,null,AVAILABLE,@Spark}\n",
      "2022-08-17 12:55:45 INFO  ContextHandler:916 - Started o.s.j.s.ServletContextHandler@aad4407{/stages/pool/json,null,AVAILABLE,@Spark}\n",
      "2022-08-17 12:55:45 INFO  ContextHandler:916 - Started o.s.j.s.ServletContextHandler@5b8c8ac9{/storage,null,AVAILABLE,@Spark}\n",
      "2022-08-17 12:55:45 INFO  ContextHandler:916 - Started o.s.j.s.ServletContextHandler@61e78187{/storage/json,null,AVAILABLE,@Spark}\n",
      "2022-08-17 12:55:45 INFO  ContextHandler:916 - Started o.s.j.s.ServletContextHandler@4f8de430{/storage/rdd,null,AVAILABLE,@Spark}\n",
      "2022-08-17 12:55:45 INFO  ContextHandler:916 - Started o.s.j.s.ServletContextHandler@40e5a890{/storage/rdd/json,null,AVAILABLE,@Spark}\n",
      "2022-08-17 12:55:45 INFO  ContextHandler:916 - Started o.s.j.s.ServletContextHandler@57a7ddc9{/environment,null,AVAILABLE,@Spark}\n",
      "2022-08-17 12:55:45 INFO  ContextHandler:916 - Started o.s.j.s.ServletContextHandler@38f2867f{/environment/json,null,AVAILABLE,@Spark}\n",
      "2022-08-17 12:55:45 INFO  ContextHandler:916 - Started o.s.j.s.ServletContextHandler@7e0d74fb{/executors,null,AVAILABLE,@Spark}\n",
      "2022-08-17 12:55:45 INFO  ContextHandler:916 - Started o.s.j.s.ServletContextHandler@77504f39{/executors/json,null,AVAILABLE,@Spark}\n",
      "2022-08-17 12:55:45 INFO  ContextHandler:916 - Started o.s.j.s.ServletContextHandler@186a0346{/executors/threadDump,null,AVAILABLE,@Spark}\n",
      "2022-08-17 12:55:45 INFO  ContextHandler:916 - Started o.s.j.s.ServletContextHandler@59655fae{/executors/threadDump/json,null,AVAILABLE,@Spark}\n",
      "2022-08-17 12:55:45 INFO  ContextHandler:916 - Started o.s.j.s.ServletContextHandler@34882496{/static,null,AVAILABLE,@Spark}\n",
      "2022-08-17 12:55:45 INFO  ContextHandler:916 - Started o.s.j.s.ServletContextHandler@1056b910{/,null,AVAILABLE,@Spark}\n",
      "2022-08-17 12:55:45 INFO  ContextHandler:916 - Started o.s.j.s.ServletContextHandler@43e2cfbd{/api,null,AVAILABLE,@Spark}\n",
      "2022-08-17 12:55:45 INFO  ContextHandler:916 - Started o.s.j.s.ServletContextHandler@6b931772{/jobs/job/kill,null,AVAILABLE,@Spark}\n",
      "2022-08-17 12:55:45 INFO  ContextHandler:916 - Started o.s.j.s.ServletContextHandler@3080cf9d{/stages/stage/kill,null,AVAILABLE,@Spark}\n",
      "2022-08-17 12:55:45 INFO  SparkUI:57 - Bound SparkUI to 0.0.0.0, and started at http://spark-master:4040\n",
      "2022-08-17 12:55:45 INFO  SparkContext:57 - Added JAR file:///home/ubuntu/venv/lib/python3.8/site-packages/hail/backend/hail-all-spark.jar at spark://spark-master:44081/jars/hail-all-spark.jar with timestamp 1660740944675\n",
      "2022-08-17 12:55:45 ERROR SparkContext:94 - Failed to add file:/opt/hadoop/share/hadoop/tools/lib/aws-java-sdk-bundle-1.11.375.jar to Spark environment\n",
      "java.io.FileNotFoundException: Jar /opt/hadoop/share/hadoop/tools/lib/aws-java-sdk-bundle-1.11.375.jar not found\n",
      "\tat org.apache.spark.SparkContext.addLocalJarFile$1(SparkContext.scala:1929)\n",
      "\tat org.apache.spark.SparkContext.addJar(SparkContext.scala:1983)\n",
      "\tat org.apache.spark.SparkContext.$anonfun$new$12(SparkContext.scala:501)\n",
      "\tat org.apache.spark.SparkContext.$anonfun$new$12$adapted(SparkContext.scala:501)\n",
      "\tat scala.collection.mutable.ResizableArray.foreach(ResizableArray.scala:62)\n",
      "\tat scala.collection.mutable.ResizableArray.foreach$(ResizableArray.scala:55)\n",
      "\tat scala.collection.mutable.ArrayBuffer.foreach(ArrayBuffer.scala:49)\n",
      "\tat org.apache.spark.SparkContext.<init>(SparkContext.scala:501)\n",
      "\tat org.apache.spark.api.java.JavaSparkContext.<init>(JavaSparkContext.scala:58)\n",
      "\tat sun.reflect.NativeConstructorAccessorImpl.newInstance0(Native Method)\n",
      "\tat sun.reflect.NativeConstructorAccessorImpl.newInstance(NativeConstructorAccessorImpl.java:62)\n",
      "\tat sun.reflect.DelegatingConstructorAccessorImpl.newInstance(DelegatingConstructorAccessorImpl.java:45)\n",
      "\tat java.lang.reflect.Constructor.newInstance(Constructor.java:423)\n",
      "\tat py4j.reflection.MethodInvoker.invoke(MethodInvoker.java:247)\n",
      "\tat py4j.reflection.ReflectionEngine.invoke(ReflectionEngine.java:357)\n",
      "\tat py4j.Gateway.invoke(Gateway.java:238)\n",
      "\tat py4j.commands.ConstructorCommand.invokeConstructor(ConstructorCommand.java:80)\n",
      "\tat py4j.commands.ConstructorCommand.execute(ConstructorCommand.java:69)\n",
      "\tat py4j.GatewayConnection.run(GatewayConnection.java:238)\n",
      "\tat java.lang.Thread.run(Thread.java:750)\n",
      "2022-08-17 12:55:45 INFO  SparkContext:57 - Added JAR file:///opt/hadoop/share/hadoop/tools/lib/hadoop-aws-3.3.1.jar at spark://spark-master:44081/jars/hadoop-aws-3.3.1.jar with timestamp 1660740944675\n",
      "2022-08-17 12:55:45 INFO  StandaloneAppClient$ClientEndpoint:57 - Connecting to master spark://192.168.252.61:7077...\n",
      "2022-08-17 12:55:45 INFO  TransportClientFactory:309 - Successfully created connection to /192.168.252.61:7077 after 27 ms (0 ms spent in bootstraps)\n",
      "2022-08-17 12:55:45 INFO  StandaloneSchedulerBackend:57 - Connected to Spark cluster with app ID app-20220817125545-0030\n",
      "2022-08-17 12:55:45 INFO  TaskSchedulerImpl:57 - Starting speculative execution thread\n",
      "2022-08-17 12:55:45 INFO  StandaloneAppClient$ClientEndpoint:57 - Executor added: app-20220817125545-0030/0 on worker-20220701073811-192.168.252.121-43237 (192.168.252.121:43237) with 4 core(s)\n",
      "2022-08-17 12:55:45 INFO  StandaloneSchedulerBackend:57 - Granted executor ID app-20220817125545-0030/0 on hostPort 192.168.252.121:43237 with 4 core(s), 36.5 GiB RAM\n",
      "2022-08-17 12:55:45 INFO  StandaloneAppClient$ClientEndpoint:57 - Executor added: app-20220817125545-0030/1 on worker-20220701073807-192.168.252.167-35785 (192.168.252.167:35785) with 4 core(s)\n",
      "2022-08-17 12:55:45 INFO  StandaloneSchedulerBackend:57 - Granted executor ID app-20220817125545-0030/1 on hostPort 192.168.252.167:35785 with 4 core(s), 36.5 GiB RAM\n",
      "2022-08-17 12:55:45 INFO  StandaloneAppClient$ClientEndpoint:57 - Executor added: app-20220817125545-0030/2 on worker-20220701073809-192.168.252.112-40245 (192.168.252.112:40245) with 4 core(s)\n",
      "2022-08-17 12:55:45 INFO  StandaloneSchedulerBackend:57 - Granted executor ID app-20220817125545-0030/2 on hostPort 192.168.252.112:40245 with 4 core(s), 36.5 GiB RAM\n",
      "2022-08-17 12:55:45 INFO  StandaloneAppClient$ClientEndpoint:57 - Executor added: app-20220817125545-0030/3 on worker-20220701073809-192.168.252.106-38245 (192.168.252.106:38245) with 4 core(s)\n",
      "2022-08-17 12:55:45 INFO  StandaloneSchedulerBackend:57 - Granted executor ID app-20220817125545-0030/3 on hostPort 192.168.252.106:38245 with 4 core(s), 36.5 GiB RAM\n",
      "2022-08-17 12:55:45 INFO  StandaloneAppClient$ClientEndpoint:57 - Executor added: app-20220817125545-0030/4 on worker-20220701073805-192.168.252.165-42317 (192.168.252.165:42317) with 4 core(s)\n",
      "2022-08-17 12:55:45 INFO  StandaloneSchedulerBackend:57 - Granted executor ID app-20220817125545-0030/4 on hostPort 192.168.252.165:42317 with 4 core(s), 36.5 GiB RAM\n",
      "2022-08-17 12:55:45 INFO  StandaloneAppClient$ClientEndpoint:57 - Executor added: app-20220817125545-0030/5 on worker-20220701073809-192.168.252.190-37107 (192.168.252.190:37107) with 4 core(s)\n",
      "2022-08-17 12:55:45 INFO  StandaloneSchedulerBackend:57 - Granted executor ID app-20220817125545-0030/5 on hostPort 192.168.252.190:37107 with 4 core(s), 36.5 GiB RAM\n",
      "2022-08-17 12:55:45 INFO  Utils:57 - Successfully started service 'org.apache.spark.network.netty.NettyBlockTransferService' on port 33441.\n",
      "2022-08-17 12:55:45 INFO  NettyBlockTransferService:81 - Server created on spark-master:33441\n",
      "2022-08-17 12:55:45 INFO  BlockManager:57 - Using org.apache.spark.storage.RandomBlockReplicationPolicy for block replication policy\n",
      "2022-08-17 12:55:45 INFO  StandaloneAppClient$ClientEndpoint:57 - Executor added: app-20220817125545-0030/6 on worker-20220701073810-192.168.252.48-36071 (192.168.252.48:36071) with 4 core(s)\n",
      "2022-08-17 12:55:45 INFO  StandaloneSchedulerBackend:57 - Granted executor ID app-20220817125545-0030/6 on hostPort 192.168.252.48:36071 with 4 core(s), 36.5 GiB RAM\n",
      "2022-08-17 12:55:45 INFO  StandaloneAppClient$ClientEndpoint:57 - Executor added: app-20220817125545-0030/7 on worker-20220701073804-192.168.252.33-38205 (192.168.252.33:38205) with 4 core(s)\n",
      "2022-08-17 12:55:45 INFO  StandaloneSchedulerBackend:57 - Granted executor ID app-20220817125545-0030/7 on hostPort 192.168.252.33:38205 with 4 core(s), 36.5 GiB RAM\n",
      "2022-08-17 12:55:45 INFO  StandaloneAppClient$ClientEndpoint:57 - Executor added: app-20220817125545-0030/8 on worker-20220701073811-192.168.252.44-43523 (192.168.252.44:43523) with 4 core(s)\n",
      "2022-08-17 12:55:45 INFO  StandaloneSchedulerBackend:57 - Granted executor ID app-20220817125545-0030/8 on hostPort 192.168.252.44:43523 with 4 core(s), 36.5 GiB RAM\n",
      "2022-08-17 12:55:45 INFO  BlockManagerMaster:57 - Registering BlockManager BlockManagerId(driver, spark-master, 33441, None)\n",
      "2022-08-17 12:55:45 INFO  StandaloneAppClient$ClientEndpoint:57 - Executor added: app-20220817125545-0030/9 on worker-20220701073810-192.168.252.83-33351 (192.168.252.83:33351) with 4 core(s)\n",
      "2022-08-17 12:55:45 INFO  StandaloneSchedulerBackend:57 - Granted executor ID app-20220817125545-0030/9 on hostPort 192.168.252.83:33351 with 4 core(s), 36.5 GiB RAM\n",
      "2022-08-17 12:55:45 INFO  StandaloneAppClient$ClientEndpoint:57 - Executor added: app-20220817125545-0030/10 on worker-20220701073810-192.168.252.75-38231 (192.168.252.75:38231) with 4 core(s)\n",
      "2022-08-17 12:55:45 INFO  StandaloneSchedulerBackend:57 - Granted executor ID app-20220817125545-0030/10 on hostPort 192.168.252.75:38231 with 4 core(s), 36.5 GiB RAM\n",
      "2022-08-17 12:55:45 INFO  StandaloneAppClient$ClientEndpoint:57 - Executor added: app-20220817125545-0030/11 on worker-20220701073809-192.168.252.127-39439 (192.168.252.127:39439) with 4 core(s)\n",
      "2022-08-17 12:55:45 INFO  StandaloneSchedulerBackend:57 - Granted executor ID app-20220817125545-0030/11 on hostPort 192.168.252.127:39439 with 4 core(s), 36.5 GiB RAM\n",
      "2022-08-17 12:55:45 INFO  StandaloneAppClient$ClientEndpoint:57 - Executor added: app-20220817125545-0030/12 on worker-20220701073806-192.168.252.84-34375 (192.168.252.84:34375) with 4 core(s)\n",
      "2022-08-17 12:55:45 INFO  StandaloneSchedulerBackend:57 - Granted executor ID app-20220817125545-0030/12 on hostPort 192.168.252.84:34375 with 4 core(s), 36.5 GiB RAM\n",
      "2022-08-17 12:55:45 INFO  StandaloneAppClient$ClientEndpoint:57 - Executor added: app-20220817125545-0030/13 on worker-20220701073810-192.168.252.119-41769 (192.168.252.119:41769) with 4 core(s)\n",
      "2022-08-17 12:55:45 INFO  StandaloneSchedulerBackend:57 - Granted executor ID app-20220817125545-0030/13 on hostPort 192.168.252.119:41769 with 4 core(s), 36.5 GiB RAM\n",
      "2022-08-17 12:55:45 INFO  StandaloneAppClient$ClientEndpoint:57 - Executor added: app-20220817125545-0030/14 on worker-20220701073809-192.168.252.254-36771 (192.168.252.254:36771) with 4 core(s)\n",
      "2022-08-17 12:55:45 INFO  StandaloneSchedulerBackend:57 - Granted executor ID app-20220817125545-0030/14 on hostPort 192.168.252.254:36771 with 4 core(s), 36.5 GiB RAM\n",
      "2022-08-17 12:55:45 INFO  StandaloneAppClient$ClientEndpoint:57 - Executor added: app-20220817125545-0030/15 on worker-20220701073809-192.168.252.91-35571 (192.168.252.91:35571) with 4 core(s)\n",
      "2022-08-17 12:55:45 INFO  StandaloneSchedulerBackend:57 - Granted executor ID app-20220817125545-0030/15 on hostPort 192.168.252.91:35571 with 4 core(s), 36.5 GiB RAM\n",
      "2022-08-17 12:55:45 INFO  StandaloneAppClient$ClientEndpoint:57 - Executor added: app-20220817125545-0030/16 on worker-20220701073809-192.168.252.29-35123 (192.168.252.29:35123) with 4 core(s)\n",
      "2022-08-17 12:55:45 INFO  StandaloneSchedulerBackend:57 - Granted executor ID app-20220817125545-0030/16 on hostPort 192.168.252.29:35123 with 4 core(s), 36.5 GiB RAM\n",
      "2022-08-17 12:55:45 INFO  StandaloneAppClient$ClientEndpoint:57 - Executor added: app-20220817125545-0030/17 on worker-20220701073811-192.168.252.188-46225 (192.168.252.188:46225) with 4 core(s)\n",
      "2022-08-17 12:55:45 INFO  StandaloneSchedulerBackend:57 - Granted executor ID app-20220817125545-0030/17 on hostPort 192.168.252.188:46225 with 4 core(s), 36.5 GiB RAM\n",
      "2022-08-17 12:55:45 INFO  StandaloneAppClient$ClientEndpoint:57 - Executor added: app-20220817125545-0030/18 on worker-20220701073809-192.168.252.43-37103 (192.168.252.43:37103) with 4 core(s)\n",
      "2022-08-17 12:55:45 INFO  StandaloneSchedulerBackend:57 - Granted executor ID app-20220817125545-0030/18 on hostPort 192.168.252.43:37103 with 4 core(s), 36.5 GiB RAM\n",
      "2022-08-17 12:55:45 INFO  StandaloneAppClient$ClientEndpoint:57 - Executor added: app-20220817125545-0030/19 on worker-20220701073810-192.168.252.221-43133 (192.168.252.221:43133) with 4 core(s)\n",
      "2022-08-17 12:55:45 INFO  StandaloneSchedulerBackend:57 - Granted executor ID app-20220817125545-0030/19 on hostPort 192.168.252.221:43133 with 4 core(s), 36.5 GiB RAM\n",
      "2022-08-17 12:55:45 INFO  StandaloneAppClient$ClientEndpoint:57 - Executor added: app-20220817125545-0030/20 on worker-20220701073806-192.168.252.227-36559 (192.168.252.227:36559) with 4 core(s)\n",
      "2022-08-17 12:55:45 INFO  BlockManagerMasterEndpoint:57 - Registering block manager spark-master:33441 with 19.3 GiB RAM, BlockManagerId(driver, spark-master, 33441, None)\n",
      "2022-08-17 12:55:45 INFO  StandaloneSchedulerBackend:57 - Granted executor ID app-20220817125545-0030/20 on hostPort 192.168.252.227:36559 with 4 core(s), 36.5 GiB RAM\n",
      "2022-08-17 12:55:45 INFO  StandaloneAppClient$ClientEndpoint:57 - Executor added: app-20220817125545-0030/21 on worker-20220701073810-192.168.252.231-35037 (192.168.252.231:35037) with 4 core(s)\n",
      "2022-08-17 12:55:45 INFO  StandaloneSchedulerBackend:57 - Granted executor ID app-20220817125545-0030/21 on hostPort 192.168.252.231:35037 with 4 core(s), 36.5 GiB RAM\n",
      "2022-08-17 12:55:45 INFO  StandaloneAppClient$ClientEndpoint:57 - Executor added: app-20220817125545-0030/22 on worker-20220701073808-192.168.252.95-44861 (192.168.252.95:44861) with 4 core(s)\n",
      "2022-08-17 12:55:45 INFO  StandaloneSchedulerBackend:57 - Granted executor ID app-20220817125545-0030/22 on hostPort 192.168.252.95:44861 with 4 core(s), 36.5 GiB RAM\n",
      "2022-08-17 12:55:45 INFO  StandaloneAppClient$ClientEndpoint:57 - Executor added: app-20220817125545-0030/23 on worker-20220701073803-192.168.252.45-42195 (192.168.252.45:42195) with 4 core(s)\n",
      "2022-08-17 12:55:45 INFO  StandaloneSchedulerBackend:57 - Granted executor ID app-20220817125545-0030/23 on hostPort 192.168.252.45:42195 with 4 core(s), 36.5 GiB RAM\n",
      "2022-08-17 12:55:45 INFO  StandaloneAppClient$ClientEndpoint:57 - Executor added: app-20220817125545-0030/24 on worker-20220701073811-192.168.252.183-46149 (192.168.252.183:46149) with 4 core(s)\n",
      "2022-08-17 12:55:45 INFO  StandaloneSchedulerBackend:57 - Granted executor ID app-20220817125545-0030/24 on hostPort 192.168.252.183:46149 with 4 core(s), 36.5 GiB RAM\n",
      "2022-08-17 12:55:45 INFO  StandaloneAppClient$ClientEndpoint:57 - Executor added: app-20220817125545-0030/25 on worker-20220701073803-192.168.252.36-46879 (192.168.252.36:46879) with 4 core(s)\n",
      "2022-08-17 12:55:45 INFO  StandaloneSchedulerBackend:57 - Granted executor ID app-20220817125545-0030/25 on hostPort 192.168.252.36:46879 with 4 core(s), 36.5 GiB RAM\n",
      "2022-08-17 12:55:45 INFO  StandaloneAppClient$ClientEndpoint:57 - Executor added: app-20220817125545-0030/26 on worker-20220701073808-192.168.252.235-32973 (192.168.252.235:32973) with 4 core(s)\n",
      "2022-08-17 12:55:45 INFO  StandaloneSchedulerBackend:57 - Granted executor ID app-20220817125545-0030/26 on hostPort 192.168.252.235:32973 with 4 core(s), 36.5 GiB RAM\n",
      "2022-08-17 12:55:45 INFO  BlockManagerMaster:57 - Registered BlockManager BlockManagerId(driver, spark-master, 33441, None)\n",
      "2022-08-17 12:55:45 INFO  StandaloneAppClient$ClientEndpoint:57 - Executor added: app-20220817125545-0030/27 on worker-20220701073808-192.168.252.116-37381 (192.168.252.116:37381) with 4 core(s)\n",
      "2022-08-17 12:55:45 INFO  StandaloneSchedulerBackend:57 - Granted executor ID app-20220817125545-0030/27 on hostPort 192.168.252.116:37381 with 4 core(s), 36.5 GiB RAM\n",
      "2022-08-17 12:55:45 INFO  StandaloneAppClient$ClientEndpoint:57 - Executor added: app-20220817125545-0030/28 on worker-20220701073807-192.168.252.49-35339 (192.168.252.49:35339) with 4 core(s)\n",
      "2022-08-17 12:55:45 INFO  StandaloneSchedulerBackend:57 - Granted executor ID app-20220817125545-0030/28 on hostPort 192.168.252.49:35339 with 4 core(s), 36.5 GiB RAM\n",
      "2022-08-17 12:55:45 INFO  StandaloneAppClient$ClientEndpoint:57 - Executor added: app-20220817125545-0030/29 on worker-20220701073806-192.168.252.220-40123 (192.168.252.220:40123) with 4 core(s)\n",
      "2022-08-17 12:55:45 INFO  StandaloneSchedulerBackend:57 - Granted executor ID app-20220817125545-0030/29 on hostPort 192.168.252.220:40123 with 4 core(s), 36.5 GiB RAM\n",
      "2022-08-17 12:55:45 INFO  StandaloneAppClient$ClientEndpoint:57 - Executor added: app-20220817125545-0030/30 on worker-20220701073805-192.168.252.134-45219 (192.168.252.134:45219) with 4 core(s)\n",
      "2022-08-17 12:55:45 INFO  StandaloneSchedulerBackend:57 - Granted executor ID app-20220817125545-0030/30 on hostPort 192.168.252.134:45219 with 4 core(s), 36.5 GiB RAM\n",
      "2022-08-17 12:55:45 INFO  StandaloneAppClient$ClientEndpoint:57 - Executor added: app-20220817125545-0030/31 on worker-20220701073810-192.168.252.249-37667 (192.168.252.249:37667) with 4 core(s)\n",
      "2022-08-17 12:55:45 INFO  StandaloneSchedulerBackend:57 - Granted executor ID app-20220817125545-0030/31 on hostPort 192.168.252.249:37667 with 4 core(s), 36.5 GiB RAM\n",
      "2022-08-17 12:55:45 INFO  StandaloneAppClient$ClientEndpoint:57 - Executor added: app-20220817125545-0030/32 on worker-20220701073809-192.168.252.228-44633 (192.168.252.228:44633) with 4 core(s)\n",
      "2022-08-17 12:55:45 INFO  BlockManager:57 - Initialized BlockManager: BlockManagerId(driver, spark-master, 33441, None)\n",
      "2022-08-17 12:55:45 INFO  StandaloneSchedulerBackend:57 - Granted executor ID app-20220817125545-0030/32 on hostPort 192.168.252.228:44633 with 4 core(s), 36.5 GiB RAM\n",
      "2022-08-17 12:55:45 INFO  StandaloneAppClient$ClientEndpoint:57 - Executor added: app-20220817125545-0030/33 on worker-20220701073810-192.168.252.191-41263 (192.168.252.191:41263) with 4 core(s)\n",
      "2022-08-17 12:55:45 INFO  StandaloneSchedulerBackend:57 - Granted executor ID app-20220817125545-0030/33 on hostPort 192.168.252.191:41263 with 4 core(s), 36.5 GiB RAM\n",
      "2022-08-17 12:55:45 INFO  StandaloneAppClient$ClientEndpoint:57 - Executor updated: app-20220817125545-0030/2 is now RUNNING\n",
      "2022-08-17 12:55:45 INFO  StandaloneAppClient$ClientEndpoint:57 - Executor updated: app-20220817125545-0030/4 is now RUNNING\n",
      "2022-08-17 12:55:45 INFO  StandaloneAppClient$ClientEndpoint:57 - Executor updated: app-20220817125545-0030/23 is now RUNNING\n",
      "2022-08-17 12:55:45 INFO  StandaloneAppClient$ClientEndpoint:57 - Executor updated: app-20220817125545-0030/6 is now RUNNING\n",
      "2022-08-17 12:55:45 INFO  StandaloneAppClient$ClientEndpoint:57 - Executor updated: app-20220817125545-0030/28 is now RUNNING\n",
      "2022-08-17 12:55:45 INFO  StandaloneAppClient$ClientEndpoint:57 - Executor updated: app-20220817125545-0030/0 is now RUNNING\n",
      "2022-08-17 12:55:45 INFO  StandaloneAppClient$ClientEndpoint:57 - Executor updated: app-20220817125545-0030/17 is now RUNNING\n",
      "2022-08-17 12:55:45 INFO  StandaloneAppClient$ClientEndpoint:57 - Executor updated: app-20220817125545-0030/13 is now RUNNING\n",
      "2022-08-17 12:55:45 INFO  StandaloneAppClient$ClientEndpoint:57 - Executor updated: app-20220817125545-0030/5 is now RUNNING\n",
      "2022-08-17 12:55:45 INFO  StandaloneAppClient$ClientEndpoint:57 - Executor updated: app-20220817125545-0030/26 is now RUNNING\n",
      "2022-08-17 12:55:45 INFO  StandaloneAppClient$ClientEndpoint:57 - Executor updated: app-20220817125545-0030/9 is now RUNNING\n",
      "2022-08-17 12:55:45 INFO  StandaloneAppClient$ClientEndpoint:57 - Executor updated: app-20220817125545-0030/3 is now RUNNING\n",
      "2022-08-17 12:55:45 INFO  StandaloneAppClient$ClientEndpoint:57 - Executor updated: app-20220817125545-0030/10 is now RUNNING\n",
      "2022-08-17 12:55:45 INFO  StandaloneAppClient$ClientEndpoint:57 - Executor updated: app-20220817125545-0030/11 is now RUNNING\n",
      "2022-08-17 12:55:45 INFO  StandaloneAppClient$ClientEndpoint:57 - Executor updated: app-20220817125545-0030/14 is now RUNNING\n",
      "2022-08-17 12:55:45 INFO  StandaloneAppClient$ClientEndpoint:57 - Executor updated: app-20220817125545-0030/8 is now RUNNING\n",
      "2022-08-17 12:55:45 INFO  StandaloneAppClient$ClientEndpoint:57 - Executor updated: app-20220817125545-0030/12 is now RUNNING\n",
      "2022-08-17 12:55:45 INFO  StandaloneAppClient$ClientEndpoint:57 - Executor updated: app-20220817125545-0030/18 is now RUNNING\n",
      "2022-08-17 12:55:45 INFO  StandaloneAppClient$ClientEndpoint:57 - Executor updated: app-20220817125545-0030/21 is now RUNNING\n",
      "2022-08-17 12:55:45 INFO  StandaloneAppClient$ClientEndpoint:57 - Executor updated: app-20220817125545-0030/22 is now RUNNING\n",
      "2022-08-17 12:55:45 INFO  StandaloneAppClient$ClientEndpoint:57 - Executor updated: app-20220817125545-0030/20 is now RUNNING\n",
      "2022-08-17 12:55:45 INFO  StandaloneAppClient$ClientEndpoint:57 - Executor updated: app-20220817125545-0030/30 is now RUNNING\n",
      "2022-08-17 12:55:45 INFO  StandaloneAppClient$ClientEndpoint:57 - Executor updated: app-20220817125545-0030/19 is now RUNNING\n",
      "2022-08-17 12:55:45 INFO  StandaloneAppClient$ClientEndpoint:57 - Executor updated: app-20220817125545-0030/32 is now RUNNING\n",
      "2022-08-17 12:55:45 INFO  StandaloneAppClient$ClientEndpoint:57 - Executor updated: app-20220817125545-0030/15 is now RUNNING\n",
      "2022-08-17 12:55:45 INFO  StandaloneAppClient$ClientEndpoint:57 - Executor updated: app-20220817125545-0030/16 is now RUNNING\n",
      "2022-08-17 12:55:45 INFO  StandaloneAppClient$ClientEndpoint:57 - Executor updated: app-20220817125545-0030/25 is now RUNNING\n",
      "2022-08-17 12:55:45 INFO  StandaloneAppClient$ClientEndpoint:57 - Executor updated: app-20220817125545-0030/24 is now RUNNING\n",
      "2022-08-17 12:55:45 INFO  StandaloneAppClient$ClientEndpoint:57 - Executor updated: app-20220817125545-0030/27 is now RUNNING\n",
      "2022-08-17 12:55:45 INFO  StandaloneAppClient$ClientEndpoint:57 - Executor updated: app-20220817125545-0030/7 is now RUNNING\n",
      "2022-08-17 12:55:45 INFO  StandaloneAppClient$ClientEndpoint:57 - Executor updated: app-20220817125545-0030/31 is now RUNNING\n",
      "2022-08-17 12:55:45 INFO  StandaloneAppClient$ClientEndpoint:57 - Executor updated: app-20220817125545-0030/29 is now RUNNING\n",
      "2022-08-17 12:55:45 INFO  StandaloneAppClient$ClientEndpoint:57 - Executor updated: app-20220817125545-0030/1 is now RUNNING\n",
      "2022-08-17 12:55:45 INFO  StandaloneAppClient$ClientEndpoint:57 - Executor updated: app-20220817125545-0030/33 is now RUNNING\n",
      "2022-08-17 12:55:46 INFO  ContextHandler:916 - Started o.s.j.s.ServletContextHandler@1e8ada18{/metrics/json,null,AVAILABLE,@Spark}\n",
      "2022-08-17 12:55:46 INFO  SingleEventLogFileWriter:57 - Logging events to hdfs:/shared/spark-logs/app-20220817125545-0030.inprogress\n",
      "2022-08-17 12:55:47 INFO  StandaloneSchedulerBackend:57 - SchedulerBackend is ready for scheduling beginning after reached minRegisteredResourcesRatio: 0.0\n"
     ]
    },
    {
     "name": "stderr",
     "output_type": "stream",
     "text": [
      "pip-installed Hail requires additional configuration options in Spark referring\n",
      "  to the path to the Hail Python module directory HAIL_DIR,\n",
      "  e.g. /path/to/python/site-packages/hail:\n",
      "    spark.jars=HAIL_DIR/backend/hail-all-spark.jar\n",
      "    spark.driver.extraClassPath=HAIL_DIR/backend/hail-all-spark.jar\n",
      "    spark.executor.extraClassPath=./hail-all-spark.jar"
     ]
    },
    {
     "name": "stdout",
     "output_type": "stream",
     "text": [
      "2022-08-17 12:55:47 INFO  Hail:28 - SparkUI: http://spark-master:4040\n"
     ]
    },
    {
     "name": "stderr",
     "output_type": "stream",
     "text": [
      "Running on Apache Spark version 3.1.2\n",
      "SparkUI available at http://spark-master:4040\n",
      "Welcome to\n",
      "     __  __     <>__\n",
      "    / /_/ /__  __/ /\n",
      "   / __  / _ `/ / /\n",
      "  /_/ /_/\\_,_/_/_/   version 0.2.97-937922d7f46c\n",
      "LOGGING: writing to /home/ubuntu/jupyter/hail-20220817-1255-0.2.97-937922d7f46c.log\n"
     ]
    }
   ],
   "source": [
    "import hail as hl\n",
    "import pyspark\n",
    "from hail.plot import show\n",
    "hl.plot.output_notebook()\n",
    "\n",
    "from bokeh.plotting import output_file, save, reset_output\n",
    "\n",
    "sc = pyspark.SparkContext()\n",
    "tmp_dir = \"hdfs://spark-master:9820/\"\n",
    "lustre_dir = \"file:///lustre/scratch123/qc/\"\n",
    "hl.init(sc=sc, tmp_dir=tmp_dir, default_reference=\"GRCh38\")"
   ]
  },
  {
   "cell_type": "code",
   "execution_count": 5,
   "id": "08232a81",
   "metadata": {},
   "outputs": [],
   "source": [
    "#pre-variant QC counts\n",
    "mtdir = lustre_dir + 'matrixtables/'\n",
    "broad_mtfile = mtdir + \"gatk_calls_from_broad_split_varqc_multi_resequenced_samples.mt\"\n",
    "sanger_reseq_mtfile = mtdir + \"resequenced_samples_gatk_unprocessed_split_multi_varqc.mt\"\n",
    "sanger_orig_mtfile = mtdir + \"gatk_unprocessed_high_snp_samples_split_multi_varqc.mt\"\n",
    "sanger_reseq_only_mtfile = mtdir + \"sanger_reseq_variants_not_in_broad.mt\"\n",
    "sanger_orig_only_mtfile = mtdir + \"sanger_orig_variants_not_in_broad.mt\"\n",
    "broad_not_sanger_reseq_mtfile = mtdir + \"broad_variants_not_in_sanger_reseq.mt\"\n",
    "broad_not_sanger_orig_mtfile = mtdir + \"broad_variants_not_in_sanger_orig.mt\""
   ]
  },
  {
   "cell_type": "code",
   "execution_count": 6,
   "id": "454f5cc1",
   "metadata": {},
   "outputs": [
    {
     "data": {
      "text/plain": [
       "(338808, 49)"
      ]
     },
     "execution_count": 6,
     "metadata": {},
     "output_type": "execute_result"
    }
   ],
   "source": [
    "broad_mt = hl.read_matrix_table(broad_mtfile) \n",
    "broad_mt.count()"
   ]
  },
  {
   "cell_type": "code",
   "execution_count": 8,
   "id": "a425e655",
   "metadata": {},
   "outputs": [
    {
     "data": {
      "text/plain": [
       "(325647, 49)"
      ]
     },
     "execution_count": 8,
     "metadata": {},
     "output_type": "execute_result"
    }
   ],
   "source": [
    "sanger_reseq_mt = hl.read_matrix_table(sanger_reseq_mtfile) \n",
    "sanger_reseq_mt.count()"
   ]
  },
  {
   "cell_type": "code",
   "execution_count": 9,
   "id": "808db63c",
   "metadata": {},
   "outputs": [
    {
     "data": {
      "text/plain": [
       "(4216339, 49)"
      ]
     },
     "execution_count": 9,
     "metadata": {},
     "output_type": "execute_result"
    }
   ],
   "source": [
    "sanger_orig_mt = hl.read_matrix_table(sanger_orig_mtfile) \n",
    "sanger_orig_mt.count()"
   ]
  },
  {
   "cell_type": "code",
   "execution_count": 11,
   "id": "2c6797ae",
   "metadata": {},
   "outputs": [
    {
     "data": {
      "text/plain": [
       "(41903, 49)"
      ]
     },
     "execution_count": 11,
     "metadata": {},
     "output_type": "execute_result"
    }
   ],
   "source": [
    "broad_not_sanger_reseq_mt = hl.read_matrix_table(broad_not_sanger_reseq_mtfile) \n",
    "broad_not_sanger_reseq_mt.count()"
   ]
  },
  {
   "cell_type": "code",
   "execution_count": 12,
   "id": "3ef775c3",
   "metadata": {},
   "outputs": [
    {
     "data": {
      "text/plain": [
       "(38034, 49)"
      ]
     },
     "execution_count": 12,
     "metadata": {},
     "output_type": "execute_result"
    }
   ],
   "source": [
    "broad_not_sanger_orig_mt = hl.read_matrix_table(broad_not_sanger_orig_mtfile) \n",
    "broad_not_sanger_orig_mt.count()"
   ]
  },
  {
   "cell_type": "code",
   "execution_count": 13,
   "id": "4ab6a276",
   "metadata": {},
   "outputs": [
    {
     "data": {
      "text/plain": [
       "(28742, 49)"
      ]
     },
     "execution_count": 13,
     "metadata": {},
     "output_type": "execute_result"
    }
   ],
   "source": [
    "sanger_reseq_only_mt = hl.read_matrix_table(sanger_reseq_only_mtfile) \n",
    "sanger_reseq_only_mt.count()"
   ]
  },
  {
   "cell_type": "code",
   "execution_count": 14,
   "id": "f1562da2",
   "metadata": {},
   "outputs": [
    {
     "data": {
      "text/plain": [
       "(3915565, 49)"
      ]
     },
     "execution_count": 14,
     "metadata": {},
     "output_type": "execute_result"
    }
   ],
   "source": [
    "sanger_orig_only_mt = hl.read_matrix_table(sanger_orig_only_mtfile) \n",
    "sanger_orig_only_mt.count()"
   ]
  },
  {
   "cell_type": "code",
   "execution_count": 15,
   "id": "0a686030",
   "metadata": {},
   "outputs": [
    {
     "name": "stderr",
     "output_type": "stream",
     "text": [
      "                                                                                \r"
     ]
    },
    {
     "data": {
      "text/plain": [
       "(262167, 49)"
      ]
     },
     "execution_count": 15,
     "metadata": {},
     "output_type": "execute_result"
    }
   ],
   "source": [
    "#snp and indel counts\n",
    "broad_mt_snp = broad_mt.filter_rows(hl.is_snp(broad_mt.alleles[0], broad_mt.alleles[1]))\n",
    "broad_mt_snp.count()"
   ]
  },
  {
   "cell_type": "code",
   "execution_count": 16,
   "id": "5143bc44",
   "metadata": {},
   "outputs": [
    {
     "name": "stderr",
     "output_type": "stream",
     "text": [
      "                                                                                \r"
     ]
    },
    {
     "data": {
      "text/plain": [
       "(76640, 49)"
      ]
     },
     "execution_count": 16,
     "metadata": {},
     "output_type": "execute_result"
    },
    {
     "name": "stderr",
     "output_type": "stream",
     "text": [
      "[Stage 5:=========================================================(24 + 1) / 24]\r"
     ]
    }
   ],
   "source": [
    "broad_mt_indel = broad_mt.filter_rows(hl.is_indel(broad_mt.alleles[0], broad_mt.alleles[1]))\n",
    "broad_mt_indel.count()"
   ]
  },
  {
   "cell_type": "code",
   "execution_count": 18,
   "id": "a7c3bb4b",
   "metadata": {},
   "outputs": [
    {
     "name": "stderr",
     "output_type": "stream",
     "text": [
      "                                                                                \r"
     ]
    },
    {
     "data": {
      "text/plain": [
       "(261339, 49)"
      ]
     },
     "execution_count": 18,
     "metadata": {},
     "output_type": "execute_result"
    }
   ],
   "source": [
    "sanger_reseq_mt_snp = sanger_reseq_mt.filter_rows(hl.is_snp(sanger_reseq_mt.alleles[0], sanger_reseq_mt.alleles[1]))\n",
    "sanger_reseq_mt_snp.count()"
   ]
  },
  {
   "cell_type": "code",
   "execution_count": 19,
   "id": "b532c306",
   "metadata": {},
   "outputs": [
    {
     "name": "stderr",
     "output_type": "stream",
     "text": [
      "                                                                                \r"
     ]
    },
    {
     "data": {
      "text/plain": [
       "(64308, 49)"
      ]
     },
     "execution_count": 19,
     "metadata": {},
     "output_type": "execute_result"
    }
   ],
   "source": [
    "sanger_reseq_mt_indel = sanger_reseq_mt.filter_rows(hl.is_indel(sanger_reseq_mt.alleles[0], sanger_reseq_mt.alleles[1]))\n",
    "sanger_reseq_mt_indel.count()"
   ]
  },
  {
   "cell_type": "code",
   "execution_count": 20,
   "id": "a1c83856",
   "metadata": {},
   "outputs": [
    {
     "name": "stderr",
     "output_type": "stream",
     "text": [
      "                                                                                \r"
     ]
    },
    {
     "data": {
      "text/plain": [
       "(4143550, 49)"
      ]
     },
     "execution_count": 20,
     "metadata": {},
     "output_type": "execute_result"
    }
   ],
   "source": [
    "sanger_orig_mt_snp = sanger_orig_mt.filter_rows(hl.is_snp(sanger_orig_mt.alleles[0], sanger_orig_mt.alleles[1]))\n",
    "sanger_orig_mt_snp.count()"
   ]
  },
  {
   "cell_type": "code",
   "execution_count": 21,
   "id": "6fe24e46",
   "metadata": {},
   "outputs": [
    {
     "name": "stderr",
     "output_type": "stream",
     "text": [
      "                                                                                \r"
     ]
    },
    {
     "data": {
      "text/plain": [
       "(72789, 49)"
      ]
     },
     "execution_count": 21,
     "metadata": {},
     "output_type": "execute_result"
    }
   ],
   "source": [
    "sanger_orig_mt_indel = sanger_orig_mt.filter_rows(hl.is_indel(sanger_orig_mt.alleles[0], sanger_orig_mt.alleles[1]))\n",
    "sanger_orig_mt_indel.count()"
   ]
  },
  {
   "cell_type": "code",
   "execution_count": 22,
   "id": "0ca77809",
   "metadata": {},
   "outputs": [
    {
     "name": "stderr",
     "output_type": "stream",
     "text": [
      "                                                                                \r"
     ]
    },
    {
     "data": {
      "text/plain": [
       "(19715, 49)"
      ]
     },
     "execution_count": 22,
     "metadata": {},
     "output_type": "execute_result"
    }
   ],
   "source": [
    "sanger_reseq_only_mt_snp = sanger_reseq_only_mt.filter_rows(hl.is_snp(sanger_reseq_only_mt.alleles[0], sanger_reseq_only_mt.alleles[1]))\n",
    "sanger_reseq_only_mt_snp.count()"
   ]
  },
  {
   "cell_type": "code",
   "execution_count": 23,
   "id": "9c77da81",
   "metadata": {},
   "outputs": [
    {
     "name": "stderr",
     "output_type": "stream",
     "text": [
      "                                                                                \r"
     ]
    },
    {
     "data": {
      "text/plain": [
       "(9027, 49)"
      ]
     },
     "execution_count": 23,
     "metadata": {},
     "output_type": "execute_result"
    }
   ],
   "source": [
    "sanger_reseq_only_mt_indel = sanger_reseq_only_mt.filter_rows(hl.is_indel(sanger_reseq_only_mt.alleles[0], sanger_reseq_only_mt.alleles[1]))\n",
    "sanger_reseq_only_mt_indel.count()"
   ]
  },
  {
   "cell_type": "code",
   "execution_count": 24,
   "id": "1ae27679",
   "metadata": {},
   "outputs": [
    {
     "name": "stderr",
     "output_type": "stream",
     "text": [
      "                                                                                \r"
     ]
    },
    {
     "data": {
      "text/plain": [
       "(3900212, 49)"
      ]
     },
     "execution_count": 24,
     "metadata": {},
     "output_type": "execute_result"
    }
   ],
   "source": [
    "sanger_orig_only_mt_snp = sanger_orig_only_mt.filter_rows(hl.is_snp(sanger_orig_only_mt.alleles[0], sanger_orig_only_mt.alleles[1]))\n",
    "sanger_orig_only_mt_snp.count()"
   ]
  },
  {
   "cell_type": "code",
   "execution_count": 25,
   "id": "8487b337",
   "metadata": {},
   "outputs": [
    {
     "name": "stderr",
     "output_type": "stream",
     "text": [
      "                                                                                \r"
     ]
    },
    {
     "data": {
      "text/plain": [
       "(15353, 49)"
      ]
     },
     "execution_count": 25,
     "metadata": {},
     "output_type": "execute_result"
    }
   ],
   "source": [
    "sanger_orig_only_mt_indel = sanger_orig_only_mt.filter_rows(hl.is_indel(sanger_orig_only_mt.alleles[0], sanger_orig_only_mt.alleles[1]))\n",
    "sanger_orig_only_mt_indel.count()"
   ]
  },
  {
   "cell_type": "code",
   "execution_count": 26,
   "id": "eb8105dd",
   "metadata": {},
   "outputs": [
    {
     "data": {
      "text/plain": [
       "(20543, 49)"
      ]
     },
     "execution_count": 26,
     "metadata": {},
     "output_type": "execute_result"
    }
   ],
   "source": [
    "broad_not_sanger_reseq_mt_snp = broad_not_sanger_reseq_mt.filter_rows(hl.is_snp(broad_not_sanger_reseq_mt.alleles[0], broad_not_sanger_reseq_mt.alleles[1]))\n",
    "broad_not_sanger_reseq_mt_snp.count()"
   ]
  },
  {
   "cell_type": "code",
   "execution_count": 27,
   "id": "354bda56",
   "metadata": {},
   "outputs": [
    {
     "data": {
      "text/plain": [
       "(21359, 49)"
      ]
     },
     "execution_count": 27,
     "metadata": {},
     "output_type": "execute_result"
    }
   ],
   "source": [
    "broad_not_sanger_reseq_mt_indel = broad_not_sanger_reseq_mt.filter_rows(hl.is_indel(broad_not_sanger_reseq_mt.alleles[0], broad_not_sanger_reseq_mt.alleles[1]))\n",
    "broad_not_sanger_reseq_mt_indel.count()"
   ]
  },
  {
   "cell_type": "code",
   "execution_count": 28,
   "id": "fb222789",
   "metadata": {},
   "outputs": [
    {
     "data": {
      "text/plain": [
       "(18829, 49)"
      ]
     },
     "execution_count": 28,
     "metadata": {},
     "output_type": "execute_result"
    }
   ],
   "source": [
    "broad_not_sanger_orig_mt_snp = broad_not_sanger_orig_mt.filter_rows(hl.is_snp(broad_not_sanger_orig_mt.alleles[0], broad_not_sanger_orig_mt.alleles[1]))\n",
    "broad_not_sanger_orig_mt_snp.count()"
   ]
  },
  {
   "cell_type": "code",
   "execution_count": 29,
   "id": "cd323acb",
   "metadata": {},
   "outputs": [
    {
     "data": {
      "text/plain": [
       "(19204, 49)"
      ]
     },
     "execution_count": 29,
     "metadata": {},
     "output_type": "execute_result"
    }
   ],
   "source": [
    "broad_not_sanger_orig_mt_indel = broad_not_sanger_orig_mt.filter_rows(hl.is_indel(broad_not_sanger_orig_mt.alleles[0], broad_not_sanger_orig_mt.alleles[1]))\n",
    "broad_not_sanger_orig_mt_indel.count()"
   ]
  },
  {
   "cell_type": "code",
   "execution_count": 45,
   "id": "8d5c0c82",
   "metadata": {},
   "outputs": [],
   "source": [
    "#after variant QC with RF and appropriate cut offs\n",
    "sanger_orig_filtered_mtfile_rf_pass = mtdir + \"gatk_calls_from_sanger_orig_samples_in_broad_after_rf.mt\"\n",
    "sanger_orig_only_mtfile_rf_pass = mtdir + \"sanger_orig_variants_not_in_broad_after_rf.mt\"\n",
    "broad_not_sanger_orig_mtfile_rf_pass = mtdir + \"broad_variants_not_in_sanger_orig_after_rf.mt\"\n",
    "\n",
    "sanger_reseq_filtered_mtfile_rf_pass = mtdir + \"gatk_calls_from_sanger_reseq_samples_in_broad_after_rf.mt\"\n",
    "sanger_reseq_only_mtfile_rf_pass = mtdir + \"sanger_reseq_variants_not_in_broad_after_rf.mt\"\n",
    "broad_not_sanger_reseq_mtfile_rf_pass = mtdir + \"broad_variants_not_in_sanger_reseq_after_rf.mt\""
   ]
  },
  {
   "cell_type": "code",
   "execution_count": 46,
   "id": "564be3c7",
   "metadata": {},
   "outputs": [
    {
     "data": {
      "text/plain": [
       "(282658, 49)"
      ]
     },
     "execution_count": 46,
     "metadata": {},
     "output_type": "execute_result"
    }
   ],
   "source": [
    "sanger_reseq_mt_qc = hl.read_matrix_table(sanger_reseq_filtered_mtfile_rf_pass) \n",
    "sanger_reseq_mt_qc.count()"
   ]
  },
  {
   "cell_type": "code",
   "execution_count": 47,
   "id": "f3e742c4",
   "metadata": {},
   "outputs": [
    {
     "data": {
      "text/plain": [
       "(521917, 49)"
      ]
     },
     "execution_count": 47,
     "metadata": {},
     "output_type": "execute_result"
    }
   ],
   "source": [
    "sanger_orig_mt_qc = hl.read_matrix_table(sanger_orig_filtered_mtfile_rf_pass) \n",
    "sanger_orig_mt_qc.count()"
   ]
  },
  {
   "cell_type": "code",
   "execution_count": 48,
   "id": "2365d00c",
   "metadata": {},
   "outputs": [
    {
     "data": {
      "text/plain": [
       "(57215, 49)"
      ]
     },
     "execution_count": 48,
     "metadata": {},
     "output_type": "execute_result"
    }
   ],
   "source": [
    "broad_not_sanger_orig_qc_mt = hl.read_matrix_table(broad_not_sanger_orig_mtfile_rf_pass) \n",
    "broad_not_sanger_orig_qc_mt.count()"
   ]
  },
  {
   "cell_type": "code",
   "execution_count": 49,
   "id": "a2d320c2",
   "metadata": {},
   "outputs": [
    {
     "data": {
      "text/plain": [
       "(66102, 49)"
      ]
     },
     "execution_count": 49,
     "metadata": {},
     "output_type": "execute_result"
    }
   ],
   "source": [
    "broad_not_sanger_reseq_qc_mt = hl.read_matrix_table(broad_not_sanger_reseq_mtfile_rf_pass) \n",
    "broad_not_sanger_reseq_qc_mt.count()"
   ]
  },
  {
   "cell_type": "code",
   "execution_count": 50,
   "id": "14ef9fe9",
   "metadata": {},
   "outputs": [
    {
     "data": {
      "text/plain": [
       "(9952, 49)"
      ]
     },
     "execution_count": 50,
     "metadata": {},
     "output_type": "execute_result"
    }
   ],
   "source": [
    "sanger_reseq_mt_qc_only = hl.read_matrix_table(sanger_reseq_only_mtfile_rf_pass) \n",
    "sanger_reseq_mt_qc_only.count()"
   ]
  },
  {
   "cell_type": "code",
   "execution_count": 51,
   "id": "eb91ec4a",
   "metadata": {},
   "outputs": [
    {
     "data": {
      "text/plain": [
       "(240324, 49)"
      ]
     },
     "execution_count": 51,
     "metadata": {},
     "output_type": "execute_result"
    }
   ],
   "source": [
    "sanger_orig_mt_qc_only = hl.read_matrix_table(sanger_orig_only_mtfile_rf_pass) \n",
    "sanger_orig_mt_qc_only.count()"
   ]
  },
  {
   "cell_type": "code",
   "execution_count": 53,
   "id": "5303d1bd",
   "metadata": {},
   "outputs": [
    {
     "name": "stderr",
     "output_type": "stream",
     "text": [
      "                                                                                \r"
     ]
    },
    {
     "data": {
      "text/plain": [
       "(228868, 49)"
      ]
     },
     "execution_count": 53,
     "metadata": {},
     "output_type": "execute_result"
    }
   ],
   "source": [
    "sanger_reseq_mt_qc_snp = sanger_reseq_mt_qc.filter_rows(hl.is_snp(sanger_reseq_mt_qc.alleles[0], sanger_reseq_mt_qc.alleles[1]))\n",
    "sanger_reseq_mt_qc_snp.count()"
   ]
  },
  {
   "cell_type": "code",
   "execution_count": 54,
   "id": "afa1150f",
   "metadata": {},
   "outputs": [
    {
     "name": "stderr",
     "output_type": "stream",
     "text": [
      "                                                                                \r"
     ]
    },
    {
     "data": {
      "text/plain": [
       "(53790, 49)"
      ]
     },
     "execution_count": 54,
     "metadata": {},
     "output_type": "execute_result"
    }
   ],
   "source": [
    "sanger_reseq_mt_qc_indel = sanger_reseq_mt_qc.filter_rows(hl.is_indel(sanger_reseq_mt_qc.alleles[0], sanger_reseq_mt_qc.alleles[1]))\n",
    "sanger_reseq_mt_qc_indel.count()"
   ]
  },
  {
   "cell_type": "code",
   "execution_count": 55,
   "id": "efb967d9",
   "metadata": {},
   "outputs": [
    {
     "name": "stderr",
     "output_type": "stream",
     "text": [
      "                                                                                \r"
     ]
    },
    {
     "data": {
      "text/plain": [
       "(470791, 49)"
      ]
     },
     "execution_count": 55,
     "metadata": {},
     "output_type": "execute_result"
    }
   ],
   "source": [
    "sanger_orig_mt_qc_snp = sanger_orig_mt_qc.filter_rows(hl.is_snp(sanger_orig_mt_qc.alleles[0], sanger_orig_mt_qc.alleles[1]))\n",
    "sanger_orig_mt_qc_snp.count()"
   ]
  },
  {
   "cell_type": "code",
   "execution_count": 56,
   "id": "52327fb2",
   "metadata": {},
   "outputs": [
    {
     "name": "stderr",
     "output_type": "stream",
     "text": [
      "                                                                                \r"
     ]
    },
    {
     "data": {
      "text/plain": [
       "(51126, 49)"
      ]
     },
     "execution_count": 56,
     "metadata": {},
     "output_type": "execute_result"
    }
   ],
   "source": [
    "sanger_orig_mt_qc_indel = sanger_orig_mt_qc.filter_rows(hl.is_indel(sanger_orig_mt_qc.alleles[0], sanger_orig_mt_qc.alleles[1]))\n",
    "sanger_orig_mt_qc_indel.count()"
   ]
  },
  {
   "cell_type": "code",
   "execution_count": 57,
   "id": "c07666c8",
   "metadata": {},
   "outputs": [
    {
     "data": {
      "text/plain": [
       "(37548, 49)"
      ]
     },
     "execution_count": 57,
     "metadata": {},
     "output_type": "execute_result"
    }
   ],
   "source": [
    "broad_not_sanger_reseq_qc_snp = broad_not_sanger_reseq_qc_mt.filter_rows(hl.is_snp(broad_not_sanger_reseq_qc_mt.alleles[0], broad_not_sanger_reseq_qc_mt.alleles[1]))\n",
    "broad_not_sanger_reseq_qc_snp.count()"
   ]
  },
  {
   "cell_type": "code",
   "execution_count": 58,
   "id": "2e42d701",
   "metadata": {},
   "outputs": [
    {
     "data": {
      "text/plain": [
       "(28553, 49)"
      ]
     },
     "execution_count": 58,
     "metadata": {},
     "output_type": "execute_result"
    }
   ],
   "source": [
    "broad_not_sanger_reseq_qc_indel = broad_not_sanger_reseq_qc_mt.filter_rows(hl.is_indel(broad_not_sanger_reseq_qc_mt.alleles[0], broad_not_sanger_reseq_qc_mt.alleles[1]))\n",
    "broad_not_sanger_reseq_qc_indel.count()"
   ]
  },
  {
   "cell_type": "code",
   "execution_count": 59,
   "id": "ebe33d86",
   "metadata": {},
   "outputs": [
    {
     "data": {
      "text/plain": [
       "(25813, 49)"
      ]
     },
     "execution_count": 59,
     "metadata": {},
     "output_type": "execute_result"
    }
   ],
   "source": [
    "broad_not_sanger_orig_qc_snp = broad_not_sanger_orig_qc_mt.filter_rows(hl.is_snp(broad_not_sanger_orig_qc_mt.alleles[0], broad_not_sanger_orig_qc_mt.alleles[1]))\n",
    "broad_not_sanger_orig_qc_snp.count()"
   ]
  },
  {
   "cell_type": "code",
   "execution_count": 60,
   "id": "c3659a18",
   "metadata": {},
   "outputs": [
    {
     "data": {
      "text/plain": [
       "(31401, 49)"
      ]
     },
     "execution_count": 60,
     "metadata": {},
     "output_type": "execute_result"
    }
   ],
   "source": [
    "broad_not_sanger_orig_qc_indel = broad_not_sanger_orig_qc_mt.filter_rows(hl.is_indel(broad_not_sanger_orig_qc_mt.alleles[0], broad_not_sanger_orig_qc_mt.alleles[1]))\n",
    "broad_not_sanger_orig_qc_indel.count()"
   ]
  },
  {
   "cell_type": "code",
   "execution_count": 61,
   "id": "32c830f9",
   "metadata": {},
   "outputs": [
    {
     "name": "stderr",
     "output_type": "stream",
     "text": [
      "                                                                                \r"
     ]
    },
    {
     "data": {
      "text/plain": [
       "(4249, 49)"
      ]
     },
     "execution_count": 61,
     "metadata": {},
     "output_type": "execute_result"
    }
   ],
   "source": [
    "sanger_reseq_mt_qc_only_snp = sanger_reseq_mt_qc_only.filter_rows(hl.is_snp(sanger_reseq_mt_qc_only.alleles[0], sanger_reseq_mt_qc_only.alleles[1]))\n",
    "sanger_reseq_mt_qc_only_snp.count()"
   ]
  },
  {
   "cell_type": "code",
   "execution_count": 62,
   "id": "003ca3f1",
   "metadata": {},
   "outputs": [
    {
     "name": "stderr",
     "output_type": "stream",
     "text": [
      "                                                                                \r"
     ]
    },
    {
     "data": {
      "text/plain": [
       "(5703, 49)"
      ]
     },
     "execution_count": 62,
     "metadata": {},
     "output_type": "execute_result"
    }
   ],
   "source": [
    "sanger_reseq_mt_qc_only_indel = sanger_reseq_mt_qc_only.filter_rows(hl.is_indel(sanger_reseq_mt_qc_only.alleles[0], sanger_reseq_mt_qc_only.alleles[1]))\n",
    "sanger_reseq_mt_qc_only_indel.count()"
   ]
  },
  {
   "cell_type": "code",
   "execution_count": 63,
   "id": "8e178a2d",
   "metadata": {},
   "outputs": [
    {
     "name": "stderr",
     "output_type": "stream",
     "text": [
      "                                                                                \r"
     ]
    },
    {
     "data": {
      "text/plain": [
       "(234437, 49)"
      ]
     },
     "execution_count": 63,
     "metadata": {},
     "output_type": "execute_result"
    }
   ],
   "source": [
    "sanger_orig_mt_qc_only_snp = sanger_orig_mt_qc_only.filter_rows(hl.is_snp(sanger_orig_mt_qc_only.alleles[0], sanger_orig_mt_qc_only.alleles[1]))\n",
    "sanger_orig_mt_qc_only_snp.count()"
   ]
  },
  {
   "cell_type": "code",
   "execution_count": 64,
   "id": "93257e21",
   "metadata": {},
   "outputs": [
    {
     "name": "stderr",
     "output_type": "stream",
     "text": [
      "                                                                                \r"
     ]
    },
    {
     "data": {
      "text/plain": [
       "(5887, 49)"
      ]
     },
     "execution_count": 64,
     "metadata": {},
     "output_type": "execute_result"
    }
   ],
   "source": [
    "sanger_orig_mt_qc_only_indel = sanger_orig_mt_qc_only.filter_rows(hl.is_indel(sanger_orig_mt_qc_only.alleles[0], sanger_orig_mt_qc_only.alleles[1]))\n",
    "sanger_orig_mt_qc_only_indel.count()"
   ]
  },
  {
   "cell_type": "code",
   "execution_count": null,
   "id": "8b88ee93",
   "metadata": {},
   "outputs": [],
   "source": []
  },
  {
   "cell_type": "code",
   "execution_count": null,
   "id": "35b641ed",
   "metadata": {},
   "outputs": [],
   "source": []
  }
 ],
 "metadata": {
  "kernelspec": {
   "display_name": "Python 3 (ipykernel)",
   "language": "python",
   "name": "python3"
  },
  "language_info": {
   "codemirror_mode": {
    "name": "ipython",
    "version": 3
   },
   "file_extension": ".py",
   "mimetype": "text/x-python",
   "name": "python",
   "nbconvert_exporter": "python",
   "pygments_lexer": "ipython3",
   "version": "3.8.10"
  }
 },
 "nbformat": 4,
 "nbformat_minor": 5
}
