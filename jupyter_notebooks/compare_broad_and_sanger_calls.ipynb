{
 "cells": [
  {
   "cell_type": "code",
   "execution_count": 1,
   "id": "fffd9158",
   "metadata": {},
   "outputs": [
    {
     "data": {
      "text/html": [
       "\n",
       "    <div class=\"bk-root\">\n",
       "        <a href=\"https://bokeh.org\" target=\"_blank\" class=\"bk-logo bk-logo-small bk-logo-notebook\"></a>\n",
       "        <span id=\"1001\">Loading BokehJS ...</span>\n",
       "    </div>"
      ]
     },
     "metadata": {},
     "output_type": "display_data"
    },
    {
     "data": {
      "application/javascript": [
       "\n",
       "(function(root) {\n",
       "  function now() {\n",
       "    return new Date();\n",
       "  }\n",
       "\n",
       "  var force = true;\n",
       "\n",
       "  if (typeof root._bokeh_onload_callbacks === \"undefined\" || force === true) {\n",
       "    root._bokeh_onload_callbacks = [];\n",
       "    root._bokeh_is_loading = undefined;\n",
       "  }\n",
       "\n",
       "  var JS_MIME_TYPE = 'application/javascript';\n",
       "  var HTML_MIME_TYPE = 'text/html';\n",
       "  var EXEC_MIME_TYPE = 'application/vnd.bokehjs_exec.v0+json';\n",
       "  var CLASS_NAME = 'output_bokeh rendered_html';\n",
       "\n",
       "  /**\n",
       "   * Render data to the DOM node\n",
       "   */\n",
       "  function render(props, node) {\n",
       "    var script = document.createElement(\"script\");\n",
       "    node.appendChild(script);\n",
       "  }\n",
       "\n",
       "  /**\n",
       "   * Handle when an output is cleared or removed\n",
       "   */\n",
       "  function handleClearOutput(event, handle) {\n",
       "    var cell = handle.cell;\n",
       "\n",
       "    var id = cell.output_area._bokeh_element_id;\n",
       "    var server_id = cell.output_area._bokeh_server_id;\n",
       "    // Clean up Bokeh references\n",
       "    if (id != null && id in Bokeh.index) {\n",
       "      Bokeh.index[id].model.document.clear();\n",
       "      delete Bokeh.index[id];\n",
       "    }\n",
       "\n",
       "    if (server_id !== undefined) {\n",
       "      // Clean up Bokeh references\n",
       "      var cmd = \"from bokeh.io.state import curstate; print(curstate().uuid_to_server['\" + server_id + \"'].get_sessions()[0].document.roots[0]._id)\";\n",
       "      cell.notebook.kernel.execute(cmd, {\n",
       "        iopub: {\n",
       "          output: function(msg) {\n",
       "            var id = msg.content.text.trim();\n",
       "            if (id in Bokeh.index) {\n",
       "              Bokeh.index[id].model.document.clear();\n",
       "              delete Bokeh.index[id];\n",
       "            }\n",
       "          }\n",
       "        }\n",
       "      });\n",
       "      // Destroy server and session\n",
       "      var cmd = \"import bokeh.io.notebook as ion; ion.destroy_server('\" + server_id + \"')\";\n",
       "      cell.notebook.kernel.execute(cmd);\n",
       "    }\n",
       "  }\n",
       "\n",
       "  /**\n",
       "   * Handle when a new output is added\n",
       "   */\n",
       "  function handleAddOutput(event, handle) {\n",
       "    var output_area = handle.output_area;\n",
       "    var output = handle.output;\n",
       "\n",
       "    // limit handleAddOutput to display_data with EXEC_MIME_TYPE content only\n",
       "    if ((output.output_type != \"display_data\") || (!output.data.hasOwnProperty(EXEC_MIME_TYPE))) {\n",
       "      return\n",
       "    }\n",
       "\n",
       "    var toinsert = output_area.element.find(\".\" + CLASS_NAME.split(' ')[0]);\n",
       "\n",
       "    if (output.metadata[EXEC_MIME_TYPE][\"id\"] !== undefined) {\n",
       "      toinsert[toinsert.length - 1].firstChild.textContent = output.data[JS_MIME_TYPE];\n",
       "      // store reference to embed id on output_area\n",
       "      output_area._bokeh_element_id = output.metadata[EXEC_MIME_TYPE][\"id\"];\n",
       "    }\n",
       "    if (output.metadata[EXEC_MIME_TYPE][\"server_id\"] !== undefined) {\n",
       "      var bk_div = document.createElement(\"div\");\n",
       "      bk_div.innerHTML = output.data[HTML_MIME_TYPE];\n",
       "      var script_attrs = bk_div.children[0].attributes;\n",
       "      for (var i = 0; i < script_attrs.length; i++) {\n",
       "        toinsert[toinsert.length - 1].firstChild.setAttribute(script_attrs[i].name, script_attrs[i].value);\n",
       "      }\n",
       "      // store reference to server id on output_area\n",
       "      output_area._bokeh_server_id = output.metadata[EXEC_MIME_TYPE][\"server_id\"];\n",
       "    }\n",
       "  }\n",
       "\n",
       "  function register_renderer(events, OutputArea) {\n",
       "\n",
       "    function append_mime(data, metadata, element) {\n",
       "      // create a DOM node to render to\n",
       "      var toinsert = this.create_output_subarea(\n",
       "        metadata,\n",
       "        CLASS_NAME,\n",
       "        EXEC_MIME_TYPE\n",
       "      );\n",
       "      this.keyboard_manager.register_events(toinsert);\n",
       "      // Render to node\n",
       "      var props = {data: data, metadata: metadata[EXEC_MIME_TYPE]};\n",
       "      render(props, toinsert[toinsert.length - 1]);\n",
       "      element.append(toinsert);\n",
       "      return toinsert\n",
       "    }\n",
       "\n",
       "    /* Handle when an output is cleared or removed */\n",
       "    events.on('clear_output.CodeCell', handleClearOutput);\n",
       "    events.on('delete.Cell', handleClearOutput);\n",
       "\n",
       "    /* Handle when a new output is added */\n",
       "    events.on('output_added.OutputArea', handleAddOutput);\n",
       "\n",
       "    /**\n",
       "     * Register the mime type and append_mime function with output_area\n",
       "     */\n",
       "    OutputArea.prototype.register_mime_type(EXEC_MIME_TYPE, append_mime, {\n",
       "      /* Is output safe? */\n",
       "      safe: true,\n",
       "      /* Index of renderer in `output_area.display_order` */\n",
       "      index: 0\n",
       "    });\n",
       "  }\n",
       "\n",
       "  // register the mime type if in Jupyter Notebook environment and previously unregistered\n",
       "  if (root.Jupyter !== undefined) {\n",
       "    var events = require('base/js/events');\n",
       "    var OutputArea = require('notebook/js/outputarea').OutputArea;\n",
       "\n",
       "    if (OutputArea.prototype.mime_types().indexOf(EXEC_MIME_TYPE) == -1) {\n",
       "      register_renderer(events, OutputArea);\n",
       "    }\n",
       "  }\n",
       "\n",
       "  \n",
       "  if (typeof (root._bokeh_timeout) === \"undefined\" || force === true) {\n",
       "    root._bokeh_timeout = Date.now() + 5000;\n",
       "    root._bokeh_failed_load = false;\n",
       "  }\n",
       "\n",
       "  var NB_LOAD_WARNING = {'data': {'text/html':\n",
       "     \"<div style='background-color: #fdd'>\\n\"+\n",
       "     \"<p>\\n\"+\n",
       "     \"BokehJS does not appear to have successfully loaded. If loading BokehJS from CDN, this \\n\"+\n",
       "     \"may be due to a slow or bad network connection. Possible fixes:\\n\"+\n",
       "     \"</p>\\n\"+\n",
       "     \"<ul>\\n\"+\n",
       "     \"<li>re-rerun `output_notebook()` to attempt to load from CDN again, or</li>\\n\"+\n",
       "     \"<li>use INLINE resources instead, as so:</li>\\n\"+\n",
       "     \"</ul>\\n\"+\n",
       "     \"<code>\\n\"+\n",
       "     \"from bokeh.resources import INLINE\\n\"+\n",
       "     \"output_notebook(resources=INLINE)\\n\"+\n",
       "     \"</code>\\n\"+\n",
       "     \"</div>\"}};\n",
       "\n",
       "  function display_loaded() {\n",
       "    var el = document.getElementById(\"1001\");\n",
       "    if (el != null) {\n",
       "      el.textContent = \"BokehJS is loading...\";\n",
       "    }\n",
       "    if (root.Bokeh !== undefined) {\n",
       "      if (el != null) {\n",
       "        el.textContent = \"BokehJS \" + root.Bokeh.version + \" successfully loaded.\";\n",
       "      }\n",
       "    } else if (Date.now() < root._bokeh_timeout) {\n",
       "      setTimeout(display_loaded, 100)\n",
       "    }\n",
       "  }\n",
       "\n",
       "\n",
       "  function run_callbacks() {\n",
       "    try {\n",
       "      root._bokeh_onload_callbacks.forEach(function(callback) {\n",
       "        if (callback != null)\n",
       "          callback();\n",
       "      });\n",
       "    } finally {\n",
       "      delete root._bokeh_onload_callbacks\n",
       "    }\n",
       "    console.debug(\"Bokeh: all callbacks have finished\");\n",
       "  }\n",
       "\n",
       "  function load_libs(css_urls, js_urls, callback) {\n",
       "    if (css_urls == null) css_urls = [];\n",
       "    if (js_urls == null) js_urls = [];\n",
       "\n",
       "    root._bokeh_onload_callbacks.push(callback);\n",
       "    if (root._bokeh_is_loading > 0) {\n",
       "      console.debug(\"Bokeh: BokehJS is being loaded, scheduling callback at\", now());\n",
       "      return null;\n",
       "    }\n",
       "    if (js_urls == null || js_urls.length === 0) {\n",
       "      run_callbacks();\n",
       "      return null;\n",
       "    }\n",
       "    console.debug(\"Bokeh: BokehJS not loaded, scheduling load and callback at\", now());\n",
       "    root._bokeh_is_loading = css_urls.length + js_urls.length;\n",
       "\n",
       "    function on_load() {\n",
       "      root._bokeh_is_loading--;\n",
       "      if (root._bokeh_is_loading === 0) {\n",
       "        console.debug(\"Bokeh: all BokehJS libraries/stylesheets loaded\");\n",
       "        run_callbacks()\n",
       "      }\n",
       "    }\n",
       "\n",
       "    function on_error() {\n",
       "      console.error(\"failed to load \" + url);\n",
       "    }\n",
       "\n",
       "    for (var i = 0; i < css_urls.length; i++) {\n",
       "      var url = css_urls[i];\n",
       "      const element = document.createElement(\"link\");\n",
       "      element.onload = on_load;\n",
       "      element.onerror = on_error;\n",
       "      element.rel = \"stylesheet\";\n",
       "      element.type = \"text/css\";\n",
       "      element.href = url;\n",
       "      console.debug(\"Bokeh: injecting link tag for BokehJS stylesheet: \", url);\n",
       "      document.body.appendChild(element);\n",
       "    }\n",
       "\n",
       "    for (var i = 0; i < js_urls.length; i++) {\n",
       "      var url = js_urls[i];\n",
       "      var element = document.createElement('script');\n",
       "      element.onload = on_load;\n",
       "      element.onerror = on_error;\n",
       "      element.async = false;\n",
       "      element.src = url;\n",
       "      console.debug(\"Bokeh: injecting script tag for BokehJS library: \", url);\n",
       "      document.head.appendChild(element);\n",
       "    }\n",
       "  };var element = document.getElementById(\"1001\");\n",
       "  if (element == null) {\n",
       "    console.error(\"Bokeh: ERROR: autoload.js configured with elementid '1001' but no matching script tag was found. \")\n",
       "    return false;\n",
       "  }\n",
       "\n",
       "  function inject_raw_css(css) {\n",
       "    const element = document.createElement(\"style\");\n",
       "    element.appendChild(document.createTextNode(css));\n",
       "    document.body.appendChild(element);\n",
       "  }\n",
       "\n",
       "  \n",
       "  var js_urls = [\"https://cdn.pydata.org/bokeh/release/bokeh-1.4.0.min.js\", \"https://cdn.pydata.org/bokeh/release/bokeh-widgets-1.4.0.min.js\", \"https://cdn.pydata.org/bokeh/release/bokeh-tables-1.4.0.min.js\", \"https://cdn.pydata.org/bokeh/release/bokeh-gl-1.4.0.min.js\"];\n",
       "  var css_urls = [];\n",
       "  \n",
       "\n",
       "  var inline_js = [\n",
       "    function(Bokeh) {\n",
       "      Bokeh.set_log_level(\"info\");\n",
       "    },\n",
       "    function(Bokeh) {\n",
       "    \n",
       "    \n",
       "    }\n",
       "  ];\n",
       "\n",
       "  function run_inline_js() {\n",
       "    \n",
       "    if (root.Bokeh !== undefined || force === true) {\n",
       "      \n",
       "    for (var i = 0; i < inline_js.length; i++) {\n",
       "      inline_js[i].call(root, root.Bokeh);\n",
       "    }\n",
       "    if (force === true) {\n",
       "        display_loaded();\n",
       "      }} else if (Date.now() < root._bokeh_timeout) {\n",
       "      setTimeout(run_inline_js, 100);\n",
       "    } else if (!root._bokeh_failed_load) {\n",
       "      console.log(\"Bokeh: BokehJS failed to load within specified timeout.\");\n",
       "      root._bokeh_failed_load = true;\n",
       "    } else if (force !== true) {\n",
       "      var cell = $(document.getElementById(\"1001\")).parents('.cell').data().cell;\n",
       "      cell.output_area.append_execute_result(NB_LOAD_WARNING)\n",
       "    }\n",
       "\n",
       "  }\n",
       "\n",
       "  if (root._bokeh_is_loading === 0) {\n",
       "    console.debug(\"Bokeh: BokehJS loaded, going straight to plotting\");\n",
       "    run_inline_js();\n",
       "  } else {\n",
       "    load_libs(css_urls, js_urls, function() {\n",
       "      console.debug(\"Bokeh: BokehJS plotting callback run at\", now());\n",
       "      run_inline_js();\n",
       "    });\n",
       "  }\n",
       "}(window));"
      ],
      "application/vnd.bokehjs_load.v0+json": "\n(function(root) {\n  function now() {\n    return new Date();\n  }\n\n  var force = true;\n\n  if (typeof root._bokeh_onload_callbacks === \"undefined\" || force === true) {\n    root._bokeh_onload_callbacks = [];\n    root._bokeh_is_loading = undefined;\n  }\n\n  \n\n  \n  if (typeof (root._bokeh_timeout) === \"undefined\" || force === true) {\n    root._bokeh_timeout = Date.now() + 5000;\n    root._bokeh_failed_load = false;\n  }\n\n  var NB_LOAD_WARNING = {'data': {'text/html':\n     \"<div style='background-color: #fdd'>\\n\"+\n     \"<p>\\n\"+\n     \"BokehJS does not appear to have successfully loaded. If loading BokehJS from CDN, this \\n\"+\n     \"may be due to a slow or bad network connection. Possible fixes:\\n\"+\n     \"</p>\\n\"+\n     \"<ul>\\n\"+\n     \"<li>re-rerun `output_notebook()` to attempt to load from CDN again, or</li>\\n\"+\n     \"<li>use INLINE resources instead, as so:</li>\\n\"+\n     \"</ul>\\n\"+\n     \"<code>\\n\"+\n     \"from bokeh.resources import INLINE\\n\"+\n     \"output_notebook(resources=INLINE)\\n\"+\n     \"</code>\\n\"+\n     \"</div>\"}};\n\n  function display_loaded() {\n    var el = document.getElementById(\"1001\");\n    if (el != null) {\n      el.textContent = \"BokehJS is loading...\";\n    }\n    if (root.Bokeh !== undefined) {\n      if (el != null) {\n        el.textContent = \"BokehJS \" + root.Bokeh.version + \" successfully loaded.\";\n      }\n    } else if (Date.now() < root._bokeh_timeout) {\n      setTimeout(display_loaded, 100)\n    }\n  }\n\n\n  function run_callbacks() {\n    try {\n      root._bokeh_onload_callbacks.forEach(function(callback) {\n        if (callback != null)\n          callback();\n      });\n    } finally {\n      delete root._bokeh_onload_callbacks\n    }\n    console.debug(\"Bokeh: all callbacks have finished\");\n  }\n\n  function load_libs(css_urls, js_urls, callback) {\n    if (css_urls == null) css_urls = [];\n    if (js_urls == null) js_urls = [];\n\n    root._bokeh_onload_callbacks.push(callback);\n    if (root._bokeh_is_loading > 0) {\n      console.debug(\"Bokeh: BokehJS is being loaded, scheduling callback at\", now());\n      return null;\n    }\n    if (js_urls == null || js_urls.length === 0) {\n      run_callbacks();\n      return null;\n    }\n    console.debug(\"Bokeh: BokehJS not loaded, scheduling load and callback at\", now());\n    root._bokeh_is_loading = css_urls.length + js_urls.length;\n\n    function on_load() {\n      root._bokeh_is_loading--;\n      if (root._bokeh_is_loading === 0) {\n        console.debug(\"Bokeh: all BokehJS libraries/stylesheets loaded\");\n        run_callbacks()\n      }\n    }\n\n    function on_error() {\n      console.error(\"failed to load \" + url);\n    }\n\n    for (var i = 0; i < css_urls.length; i++) {\n      var url = css_urls[i];\n      const element = document.createElement(\"link\");\n      element.onload = on_load;\n      element.onerror = on_error;\n      element.rel = \"stylesheet\";\n      element.type = \"text/css\";\n      element.href = url;\n      console.debug(\"Bokeh: injecting link tag for BokehJS stylesheet: \", url);\n      document.body.appendChild(element);\n    }\n\n    for (var i = 0; i < js_urls.length; i++) {\n      var url = js_urls[i];\n      var element = document.createElement('script');\n      element.onload = on_load;\n      element.onerror = on_error;\n      element.async = false;\n      element.src = url;\n      console.debug(\"Bokeh: injecting script tag for BokehJS library: \", url);\n      document.head.appendChild(element);\n    }\n  };var element = document.getElementById(\"1001\");\n  if (element == null) {\n    console.error(\"Bokeh: ERROR: autoload.js configured with elementid '1001' but no matching script tag was found. \")\n    return false;\n  }\n\n  function inject_raw_css(css) {\n    const element = document.createElement(\"style\");\n    element.appendChild(document.createTextNode(css));\n    document.body.appendChild(element);\n  }\n\n  \n  var js_urls = [\"https://cdn.pydata.org/bokeh/release/bokeh-1.4.0.min.js\", \"https://cdn.pydata.org/bokeh/release/bokeh-widgets-1.4.0.min.js\", \"https://cdn.pydata.org/bokeh/release/bokeh-tables-1.4.0.min.js\", \"https://cdn.pydata.org/bokeh/release/bokeh-gl-1.4.0.min.js\"];\n  var css_urls = [];\n  \n\n  var inline_js = [\n    function(Bokeh) {\n      Bokeh.set_log_level(\"info\");\n    },\n    function(Bokeh) {\n    \n    \n    }\n  ];\n\n  function run_inline_js() {\n    \n    if (root.Bokeh !== undefined || force === true) {\n      \n    for (var i = 0; i < inline_js.length; i++) {\n      inline_js[i].call(root, root.Bokeh);\n    }\n    if (force === true) {\n        display_loaded();\n      }} else if (Date.now() < root._bokeh_timeout) {\n      setTimeout(run_inline_js, 100);\n    } else if (!root._bokeh_failed_load) {\n      console.log(\"Bokeh: BokehJS failed to load within specified timeout.\");\n      root._bokeh_failed_load = true;\n    } else if (force !== true) {\n      var cell = $(document.getElementById(\"1001\")).parents('.cell').data().cell;\n      cell.output_area.append_execute_result(NB_LOAD_WARNING)\n    }\n\n  }\n\n  if (root._bokeh_is_loading === 0) {\n    console.debug(\"Bokeh: BokehJS loaded, going straight to plotting\");\n    run_inline_js();\n  } else {\n    load_libs(css_urls, js_urls, function() {\n      console.debug(\"Bokeh: BokehJS plotting callback run at\", now());\n      run_inline_js();\n    });\n  }\n}(window));"
     },
     "metadata": {},
     "output_type": "display_data"
    },
    {
     "name": "stdout",
     "output_type": "stream",
     "text": [
      "2022-08-15 14:28:56 WARN  NativeCodeLoader:60 - Unable to load native-hadoop library for your platform... using builtin-java classes where applicable\n",
      "2022-08-15 14:28:57 WARN  DependencyUtils:69 - Local jar /opt/hadoop/share/hadoop/tools/lib/aws-java-sdk-bundle-1.11.375.jar does not exist, skipping.\n",
      "2022-08-15 14:28:57 INFO  SparkContext:57 - Running Spark version 3.1.2\n",
      "2022-08-15 14:28:57 INFO  ResourceUtils:57 - ==============================================================\n",
      "2022-08-15 14:28:57 INFO  ResourceUtils:57 - No custom resources configured for spark.driver.\n",
      "2022-08-15 14:28:57 INFO  ResourceUtils:57 - ==============================================================\n",
      "2022-08-15 14:28:57 INFO  SparkContext:57 - Submitted application: pyspark-shell\n",
      "2022-08-15 14:28:57 INFO  ResourceProfile:57 - Default ResourceProfile created, executor resources: Map(cores -> name: cores, amount: 1, script: , vendor: , memory -> name: memory, amount: 37335, script: , vendor: , offHeap -> name: offHeap, amount: 0, script: , vendor: ), task resources: Map(cpus -> name: cpus, amount: 1.0)\n",
      "2022-08-15 14:28:57 INFO  ResourceProfile:57 - Limiting resource is cpu\n",
      "2022-08-15 14:28:57 INFO  ResourceProfileManager:57 - Added ResourceProfile id: 0\n",
      "2022-08-15 14:28:57 INFO  SecurityManager:57 - Changing view acls to: ubuntu\n",
      "2022-08-15 14:28:57 INFO  SecurityManager:57 - Changing modify acls to: ubuntu\n",
      "2022-08-15 14:28:57 INFO  SecurityManager:57 - Changing view acls groups to: \n",
      "2022-08-15 14:28:57 INFO  SecurityManager:57 - Changing modify acls groups to: \n",
      "2022-08-15 14:28:57 INFO  SecurityManager:57 - SecurityManager: authentication disabled; ui acls disabled; users  with view permissions: Set(ubuntu); groups with view permissions: Set(); users  with modify permissions: Set(ubuntu); groups with modify permissions: Set()\n",
      "2022-08-15 14:28:57 INFO  Utils:57 - Successfully started service 'sparkDriver' on port 33115.\n",
      "2022-08-15 14:28:57 INFO  SparkEnv:57 - Registering MapOutputTracker\n",
      "2022-08-15 14:28:57 INFO  SparkEnv:57 - Registering BlockManagerMaster\n",
      "2022-08-15 14:28:57 INFO  BlockManagerMasterEndpoint:57 - Using org.apache.spark.storage.DefaultTopologyMapper for getting topology information\n",
      "2022-08-15 14:28:57 INFO  BlockManagerMasterEndpoint:57 - BlockManagerMasterEndpoint up\n",
      "2022-08-15 14:28:57 INFO  SparkEnv:57 - Registering BlockManagerMasterHeartbeat\n",
      "2022-08-15 14:28:57 INFO  DiskBlockManager:57 - Created local directory at /tmp/blockmgr-9169598d-2b4c-42ba-9a62-05ed14ecd946\n",
      "2022-08-15 14:28:57 INFO  MemoryStore:57 - MemoryStore started with capacity 19.3 GiB\n",
      "2022-08-15 14:28:57 INFO  SparkEnv:57 - Registering OutputCommitCoordinator\n",
      "2022-08-15 14:28:57 INFO  log:169 - Logging initialized @2548ms to org.sparkproject.jetty.util.log.Slf4jLog\n",
      "2022-08-15 14:28:57 INFO  Server:375 - jetty-9.4.40.v20210413; built: 2021-04-13T20:42:42.668Z; git: b881a572662e1943a14ae12e7e1207989f218b74; jvm 1.8.0_342-8u342-b07-0ubuntu1~20.04-b07\n",
      "2022-08-15 14:28:57 INFO  Server:415 - Started @2642ms\n",
      "2022-08-15 14:28:57 INFO  AbstractConnector:331 - Started ServerConnector@624929c0{HTTP/1.1, (http/1.1)}{0.0.0.0:4040}\n",
      "2022-08-15 14:28:57 INFO  Utils:57 - Successfully started service 'SparkUI' on port 4040.\n",
      "2022-08-15 14:28:57 INFO  ContextHandler:916 - Started o.s.j.s.ServletContextHandler@442b16be{/jobs,null,AVAILABLE,@Spark}\n",
      "2022-08-15 14:28:57 INFO  ContextHandler:916 - Started o.s.j.s.ServletContextHandler@782761e1{/jobs/json,null,AVAILABLE,@Spark}\n",
      "2022-08-15 14:28:57 INFO  ContextHandler:916 - Started o.s.j.s.ServletContextHandler@7d243667{/jobs/job,null,AVAILABLE,@Spark}\n",
      "2022-08-15 14:28:57 INFO  ContextHandler:916 - Started o.s.j.s.ServletContextHandler@390965bd{/jobs/job/json,null,AVAILABLE,@Spark}\n",
      "2022-08-15 14:28:57 INFO  ContextHandler:916 - Started o.s.j.s.ServletContextHandler@58a8d011{/stages,null,AVAILABLE,@Spark}\n",
      "2022-08-15 14:28:57 INFO  ContextHandler:916 - Started o.s.j.s.ServletContextHandler@ee7e01c{/stages/json,null,AVAILABLE,@Spark}\n",
      "2022-08-15 14:28:57 INFO  ContextHandler:916 - Started o.s.j.s.ServletContextHandler@623e50ae{/stages/stage,null,AVAILABLE,@Spark}\n",
      "2022-08-15 14:28:57 INFO  ContextHandler:916 - Started o.s.j.s.ServletContextHandler@8ff4b0e{/stages/stage/json,null,AVAILABLE,@Spark}\n",
      "2022-08-15 14:28:57 INFO  ContextHandler:916 - Started o.s.j.s.ServletContextHandler@e83f28f{/stages/pool,null,AVAILABLE,@Spark}\n",
      "2022-08-15 14:28:57 INFO  ContextHandler:916 - Started o.s.j.s.ServletContextHandler@4220b26d{/stages/pool/json,null,AVAILABLE,@Spark}\n",
      "2022-08-15 14:28:57 INFO  ContextHandler:916 - Started o.s.j.s.ServletContextHandler@11c60794{/storage,null,AVAILABLE,@Spark}\n",
      "2022-08-15 14:28:57 INFO  ContextHandler:916 - Started o.s.j.s.ServletContextHandler@4f9c5248{/storage/json,null,AVAILABLE,@Spark}\n",
      "2022-08-15 14:28:57 INFO  ContextHandler:916 - Started o.s.j.s.ServletContextHandler@6ad74932{/storage/rdd,null,AVAILABLE,@Spark}\n",
      "2022-08-15 14:28:57 INFO  ContextHandler:916 - Started o.s.j.s.ServletContextHandler@e82498e{/storage/rdd/json,null,AVAILABLE,@Spark}\n",
      "2022-08-15 14:28:57 INFO  ContextHandler:916 - Started o.s.j.s.ServletContextHandler@7500f161{/environment,null,AVAILABLE,@Spark}\n",
      "2022-08-15 14:28:57 INFO  ContextHandler:916 - Started o.s.j.s.ServletContextHandler@40d77e07{/environment/json,null,AVAILABLE,@Spark}\n",
      "2022-08-15 14:28:57 INFO  ContextHandler:916 - Started o.s.j.s.ServletContextHandler@62217307{/executors,null,AVAILABLE,@Spark}\n",
      "2022-08-15 14:28:57 INFO  ContextHandler:916 - Started o.s.j.s.ServletContextHandler@69198a68{/executors/json,null,AVAILABLE,@Spark}\n",
      "2022-08-15 14:28:57 INFO  ContextHandler:916 - Started o.s.j.s.ServletContextHandler@505d0511{/executors/threadDump,null,AVAILABLE,@Spark}\n",
      "2022-08-15 14:28:57 INFO  ContextHandler:916 - Started o.s.j.s.ServletContextHandler@4801ed85{/executors/threadDump/json,null,AVAILABLE,@Spark}\n",
      "2022-08-15 14:28:58 INFO  ContextHandler:916 - Started o.s.j.s.ServletContextHandler@2614013e{/static,null,AVAILABLE,@Spark}\n",
      "2022-08-15 14:28:58 INFO  ContextHandler:916 - Started o.s.j.s.ServletContextHandler@3a800078{/,null,AVAILABLE,@Spark}\n",
      "2022-08-15 14:28:58 INFO  ContextHandler:916 - Started o.s.j.s.ServletContextHandler@f4822e{/api,null,AVAILABLE,@Spark}\n",
      "2022-08-15 14:28:58 INFO  ContextHandler:916 - Started o.s.j.s.ServletContextHandler@ea3c17d{/jobs/job/kill,null,AVAILABLE,@Spark}\n",
      "2022-08-15 14:28:58 INFO  ContextHandler:916 - Started o.s.j.s.ServletContextHandler@70576876{/stages/stage/kill,null,AVAILABLE,@Spark}\n",
      "2022-08-15 14:28:58 INFO  SparkUI:57 - Bound SparkUI to 0.0.0.0, and started at http://spark-master:4040\n",
      "2022-08-15 14:28:58 INFO  SparkContext:57 - Added JAR file:///home/ubuntu/venv/lib/python3.8/site-packages/hail/backend/hail-all-spark.jar at spark://spark-master:33115/jars/hail-all-spark.jar with timestamp 1660573737270\n",
      "2022-08-15 14:28:58 ERROR SparkContext:94 - Failed to add file:/opt/hadoop/share/hadoop/tools/lib/aws-java-sdk-bundle-1.11.375.jar to Spark environment\n",
      "java.io.FileNotFoundException: Jar /opt/hadoop/share/hadoop/tools/lib/aws-java-sdk-bundle-1.11.375.jar not found\n",
      "\tat org.apache.spark.SparkContext.addLocalJarFile$1(SparkContext.scala:1929)\n",
      "\tat org.apache.spark.SparkContext.addJar(SparkContext.scala:1983)\n",
      "\tat org.apache.spark.SparkContext.$anonfun$new$12(SparkContext.scala:501)\n",
      "\tat org.apache.spark.SparkContext.$anonfun$new$12$adapted(SparkContext.scala:501)\n",
      "\tat scala.collection.mutable.ResizableArray.foreach(ResizableArray.scala:62)\n",
      "\tat scala.collection.mutable.ResizableArray.foreach$(ResizableArray.scala:55)\n",
      "\tat scala.collection.mutable.ArrayBuffer.foreach(ArrayBuffer.scala:49)\n",
      "\tat org.apache.spark.SparkContext.<init>(SparkContext.scala:501)\n",
      "\tat org.apache.spark.api.java.JavaSparkContext.<init>(JavaSparkContext.scala:58)\n",
      "\tat sun.reflect.NativeConstructorAccessorImpl.newInstance0(Native Method)\n",
      "\tat sun.reflect.NativeConstructorAccessorImpl.newInstance(NativeConstructorAccessorImpl.java:62)\n",
      "\tat sun.reflect.DelegatingConstructorAccessorImpl.newInstance(DelegatingConstructorAccessorImpl.java:45)\n",
      "\tat java.lang.reflect.Constructor.newInstance(Constructor.java:423)\n",
      "\tat py4j.reflection.MethodInvoker.invoke(MethodInvoker.java:247)\n",
      "\tat py4j.reflection.ReflectionEngine.invoke(ReflectionEngine.java:357)\n",
      "\tat py4j.Gateway.invoke(Gateway.java:238)\n",
      "\tat py4j.commands.ConstructorCommand.invokeConstructor(ConstructorCommand.java:80)\n",
      "\tat py4j.commands.ConstructorCommand.execute(ConstructorCommand.java:69)\n",
      "\tat py4j.GatewayConnection.run(GatewayConnection.java:238)\n",
      "\tat java.lang.Thread.run(Thread.java:750)\n",
      "2022-08-15 14:28:58 INFO  SparkContext:57 - Added JAR file:///opt/hadoop/share/hadoop/tools/lib/hadoop-aws-3.3.1.jar at spark://spark-master:33115/jars/hadoop-aws-3.3.1.jar with timestamp 1660573737270\n",
      "2022-08-15 14:28:58 INFO  StandaloneAppClient$ClientEndpoint:57 - Connecting to master spark://192.168.252.61:7077...\n",
      "2022-08-15 14:28:58 INFO  TransportClientFactory:309 - Successfully created connection to /192.168.252.61:7077 after 25 ms (0 ms spent in bootstraps)\n",
      "2022-08-15 14:28:58 INFO  StandaloneSchedulerBackend:57 - Connected to Spark cluster with app ID app-20220815142858-0028\n",
      "2022-08-15 14:28:58 INFO  TaskSchedulerImpl:57 - Starting speculative execution thread\n",
      "2022-08-15 14:28:58 INFO  StandaloneAppClient$ClientEndpoint:57 - Executor added: app-20220815142858-0028/0 on worker-20220701073811-192.168.252.121-43237 (192.168.252.121:43237) with 4 core(s)\n",
      "2022-08-15 14:28:58 INFO  StandaloneSchedulerBackend:57 - Granted executor ID app-20220815142858-0028/0 on hostPort 192.168.252.121:43237 with 4 core(s), 36.5 GiB RAM\n",
      "2022-08-15 14:28:58 INFO  StandaloneAppClient$ClientEndpoint:57 - Executor added: app-20220815142858-0028/1 on worker-20220701073807-192.168.252.167-35785 (192.168.252.167:35785) with 4 core(s)\n",
      "2022-08-15 14:28:58 INFO  StandaloneSchedulerBackend:57 - Granted executor ID app-20220815142858-0028/1 on hostPort 192.168.252.167:35785 with 4 core(s), 36.5 GiB RAM\n",
      "2022-08-15 14:28:58 INFO  StandaloneAppClient$ClientEndpoint:57 - Executor added: app-20220815142858-0028/2 on worker-20220701073809-192.168.252.112-40245 (192.168.252.112:40245) with 4 core(s)\n",
      "2022-08-15 14:28:58 INFO  StandaloneSchedulerBackend:57 - Granted executor ID app-20220815142858-0028/2 on hostPort 192.168.252.112:40245 with 4 core(s), 36.5 GiB RAM\n",
      "2022-08-15 14:28:58 INFO  StandaloneAppClient$ClientEndpoint:57 - Executor added: app-20220815142858-0028/3 on worker-20220701073809-192.168.252.106-38245 (192.168.252.106:38245) with 4 core(s)\n",
      "2022-08-15 14:28:58 INFO  StandaloneSchedulerBackend:57 - Granted executor ID app-20220815142858-0028/3 on hostPort 192.168.252.106:38245 with 4 core(s), 36.5 GiB RAM\n",
      "2022-08-15 14:28:58 INFO  StandaloneAppClient$ClientEndpoint:57 - Executor added: app-20220815142858-0028/4 on worker-20220701073805-192.168.252.165-42317 (192.168.252.165:42317) with 4 core(s)\n",
      "2022-08-15 14:28:58 INFO  StandaloneSchedulerBackend:57 - Granted executor ID app-20220815142858-0028/4 on hostPort 192.168.252.165:42317 with 4 core(s), 36.5 GiB RAM\n",
      "2022-08-15 14:28:58 INFO  StandaloneAppClient$ClientEndpoint:57 - Executor added: app-20220815142858-0028/5 on worker-20220701073809-192.168.252.190-37107 (192.168.252.190:37107) with 4 core(s)\n",
      "2022-08-15 14:28:58 INFO  StandaloneSchedulerBackend:57 - Granted executor ID app-20220815142858-0028/5 on hostPort 192.168.252.190:37107 with 4 core(s), 36.5 GiB RAM\n",
      "2022-08-15 14:28:58 INFO  StandaloneAppClient$ClientEndpoint:57 - Executor added: app-20220815142858-0028/6 on worker-20220701073810-192.168.252.48-36071 (192.168.252.48:36071) with 4 core(s)\n",
      "2022-08-15 14:28:58 INFO  StandaloneSchedulerBackend:57 - Granted executor ID app-20220815142858-0028/6 on hostPort 192.168.252.48:36071 with 4 core(s), 36.5 GiB RAM\n",
      "2022-08-15 14:28:58 INFO  StandaloneAppClient$ClientEndpoint:57 - Executor added: app-20220815142858-0028/7 on worker-20220701073804-192.168.252.33-38205 (192.168.252.33:38205) with 4 core(s)\n",
      "2022-08-15 14:28:58 INFO  Utils:57 - Successfully started service 'org.apache.spark.network.netty.NettyBlockTransferService' on port 41891.\n",
      "2022-08-15 14:28:58 INFO  NettyBlockTransferService:81 - Server created on spark-master:41891\n",
      "2022-08-15 14:28:58 INFO  StandaloneSchedulerBackend:57 - Granted executor ID app-20220815142858-0028/7 on hostPort 192.168.252.33:38205 with 4 core(s), 36.5 GiB RAM\n",
      "2022-08-15 14:28:58 INFO  StandaloneAppClient$ClientEndpoint:57 - Executor added: app-20220815142858-0028/8 on worker-20220701073811-192.168.252.44-43523 (192.168.252.44:43523) with 4 core(s)\n",
      "2022-08-15 14:28:58 INFO  StandaloneSchedulerBackend:57 - Granted executor ID app-20220815142858-0028/8 on hostPort 192.168.252.44:43523 with 4 core(s), 36.5 GiB RAM\n",
      "2022-08-15 14:28:58 INFO  StandaloneAppClient$ClientEndpoint:57 - Executor added: app-20220815142858-0028/9 on worker-20220701073810-192.168.252.83-33351 (192.168.252.83:33351) with 4 core(s)\n",
      "2022-08-15 14:28:58 INFO  StandaloneSchedulerBackend:57 - Granted executor ID app-20220815142858-0028/9 on hostPort 192.168.252.83:33351 with 4 core(s), 36.5 GiB RAM\n",
      "2022-08-15 14:28:58 INFO  StandaloneAppClient$ClientEndpoint:57 - Executor added: app-20220815142858-0028/10 on worker-20220701073810-192.168.252.75-38231 (192.168.252.75:38231) with 4 core(s)\n",
      "2022-08-15 14:28:58 INFO  StandaloneSchedulerBackend:57 - Granted executor ID app-20220815142858-0028/10 on hostPort 192.168.252.75:38231 with 4 core(s), 36.5 GiB RAM\n",
      "2022-08-15 14:28:58 INFO  StandaloneAppClient$ClientEndpoint:57 - Executor added: app-20220815142858-0028/11 on worker-20220701073809-192.168.252.127-39439 (192.168.252.127:39439) with 4 core(s)\n",
      "2022-08-15 14:28:58 INFO  StandaloneSchedulerBackend:57 - Granted executor ID app-20220815142858-0028/11 on hostPort 192.168.252.127:39439 with 4 core(s), 36.5 GiB RAM\n",
      "2022-08-15 14:28:58 INFO  StandaloneAppClient$ClientEndpoint:57 - Executor added: app-20220815142858-0028/12 on worker-20220701073806-192.168.252.84-34375 (192.168.252.84:34375) with 4 core(s)\n",
      "2022-08-15 14:28:58 INFO  BlockManager:57 - Using org.apache.spark.storage.RandomBlockReplicationPolicy for block replication policy\n",
      "2022-08-15 14:28:58 INFO  StandaloneSchedulerBackend:57 - Granted executor ID app-20220815142858-0028/12 on hostPort 192.168.252.84:34375 with 4 core(s), 36.5 GiB RAM\n",
      "2022-08-15 14:28:58 INFO  StandaloneAppClient$ClientEndpoint:57 - Executor added: app-20220815142858-0028/13 on worker-20220701073810-192.168.252.119-41769 (192.168.252.119:41769) with 4 core(s)\n",
      "2022-08-15 14:28:58 INFO  StandaloneSchedulerBackend:57 - Granted executor ID app-20220815142858-0028/13 on hostPort 192.168.252.119:41769 with 4 core(s), 36.5 GiB RAM\n",
      "2022-08-15 14:28:58 INFO  StandaloneAppClient$ClientEndpoint:57 - Executor added: app-20220815142858-0028/14 on worker-20220701073809-192.168.252.254-36771 (192.168.252.254:36771) with 4 core(s)\n",
      "2022-08-15 14:28:58 INFO  BlockManagerMaster:57 - Registering BlockManager BlockManagerId(driver, spark-master, 41891, None)\n",
      "2022-08-15 14:28:58 INFO  StandaloneSchedulerBackend:57 - Granted executor ID app-20220815142858-0028/14 on hostPort 192.168.252.254:36771 with 4 core(s), 36.5 GiB RAM\n",
      "2022-08-15 14:28:58 INFO  BlockManagerMasterEndpoint:57 - Registering block manager spark-master:41891 with 19.3 GiB RAM, BlockManagerId(driver, spark-master, 41891, None)\n",
      "2022-08-15 14:28:58 INFO  StandaloneAppClient$ClientEndpoint:57 - Executor added: app-20220815142858-0028/15 on worker-20220701073809-192.168.252.91-35571 (192.168.252.91:35571) with 4 core(s)\n",
      "2022-08-15 14:28:58 INFO  StandaloneSchedulerBackend:57 - Granted executor ID app-20220815142858-0028/15 on hostPort 192.168.252.91:35571 with 4 core(s), 36.5 GiB RAM\n",
      "2022-08-15 14:28:58 INFO  BlockManagerMaster:57 - Registered BlockManager BlockManagerId(driver, spark-master, 41891, None)\n",
      "2022-08-15 14:28:58 INFO  StandaloneAppClient$ClientEndpoint:57 - Executor added: app-20220815142858-0028/16 on worker-20220701073809-192.168.252.29-35123 (192.168.252.29:35123) with 4 core(s)\n",
      "2022-08-15 14:28:58 INFO  StandaloneSchedulerBackend:57 - Granted executor ID app-20220815142858-0028/16 on hostPort 192.168.252.29:35123 with 4 core(s), 36.5 GiB RAM\n",
      "2022-08-15 14:28:58 INFO  StandaloneAppClient$ClientEndpoint:57 - Executor added: app-20220815142858-0028/17 on worker-20220701073811-192.168.252.188-46225 (192.168.252.188:46225) with 4 core(s)\n",
      "2022-08-15 14:28:58 INFO  StandaloneSchedulerBackend:57 - Granted executor ID app-20220815142858-0028/17 on hostPort 192.168.252.188:46225 with 4 core(s), 36.5 GiB RAM\n",
      "2022-08-15 14:28:58 INFO  StandaloneAppClient$ClientEndpoint:57 - Executor added: app-20220815142858-0028/18 on worker-20220701073809-192.168.252.43-37103 (192.168.252.43:37103) with 4 core(s)\n",
      "2022-08-15 14:28:58 INFO  StandaloneSchedulerBackend:57 - Granted executor ID app-20220815142858-0028/18 on hostPort 192.168.252.43:37103 with 4 core(s), 36.5 GiB RAM\n",
      "2022-08-15 14:28:58 INFO  BlockManager:57 - Initialized BlockManager: BlockManagerId(driver, spark-master, 41891, None)\n",
      "2022-08-15 14:28:58 INFO  StandaloneAppClient$ClientEndpoint:57 - Executor added: app-20220815142858-0028/19 on worker-20220701073810-192.168.252.221-43133 (192.168.252.221:43133) with 4 core(s)\n",
      "2022-08-15 14:28:58 INFO  StandaloneSchedulerBackend:57 - Granted executor ID app-20220815142858-0028/19 on hostPort 192.168.252.221:43133 with 4 core(s), 36.5 GiB RAM\n",
      "2022-08-15 14:28:58 INFO  StandaloneAppClient$ClientEndpoint:57 - Executor added: app-20220815142858-0028/20 on worker-20220701073806-192.168.252.227-36559 (192.168.252.227:36559) with 4 core(s)\n",
      "2022-08-15 14:28:58 INFO  StandaloneSchedulerBackend:57 - Granted executor ID app-20220815142858-0028/20 on hostPort 192.168.252.227:36559 with 4 core(s), 36.5 GiB RAM\n",
      "2022-08-15 14:28:58 INFO  StandaloneAppClient$ClientEndpoint:57 - Executor added: app-20220815142858-0028/21 on worker-20220701073810-192.168.252.231-35037 (192.168.252.231:35037) with 4 core(s)\n",
      "2022-08-15 14:28:58 INFO  StandaloneSchedulerBackend:57 - Granted executor ID app-20220815142858-0028/21 on hostPort 192.168.252.231:35037 with 4 core(s), 36.5 GiB RAM\n",
      "2022-08-15 14:28:58 INFO  StandaloneAppClient$ClientEndpoint:57 - Executor added: app-20220815142858-0028/22 on worker-20220701073808-192.168.252.95-44861 (192.168.252.95:44861) with 4 core(s)\n",
      "2022-08-15 14:28:58 INFO  StandaloneSchedulerBackend:57 - Granted executor ID app-20220815142858-0028/22 on hostPort 192.168.252.95:44861 with 4 core(s), 36.5 GiB RAM\n",
      "2022-08-15 14:28:58 INFO  StandaloneAppClient$ClientEndpoint:57 - Executor added: app-20220815142858-0028/23 on worker-20220701073803-192.168.252.45-42195 (192.168.252.45:42195) with 4 core(s)\n",
      "2022-08-15 14:28:58 INFO  StandaloneSchedulerBackend:57 - Granted executor ID app-20220815142858-0028/23 on hostPort 192.168.252.45:42195 with 4 core(s), 36.5 GiB RAM\n",
      "2022-08-15 14:28:58 INFO  StandaloneAppClient$ClientEndpoint:57 - Executor added: app-20220815142858-0028/24 on worker-20220701073811-192.168.252.183-46149 (192.168.252.183:46149) with 4 core(s)\n",
      "2022-08-15 14:28:58 INFO  StandaloneSchedulerBackend:57 - Granted executor ID app-20220815142858-0028/24 on hostPort 192.168.252.183:46149 with 4 core(s), 36.5 GiB RAM\n",
      "2022-08-15 14:28:58 INFO  StandaloneAppClient$ClientEndpoint:57 - Executor added: app-20220815142858-0028/25 on worker-20220701073803-192.168.252.36-46879 (192.168.252.36:46879) with 4 core(s)\n",
      "2022-08-15 14:28:58 INFO  StandaloneSchedulerBackend:57 - Granted executor ID app-20220815142858-0028/25 on hostPort 192.168.252.36:46879 with 4 core(s), 36.5 GiB RAM\n",
      "2022-08-15 14:28:58 INFO  StandaloneAppClient$ClientEndpoint:57 - Executor added: app-20220815142858-0028/26 on worker-20220701073808-192.168.252.235-32973 (192.168.252.235:32973) with 4 core(s)\n",
      "2022-08-15 14:28:58 INFO  StandaloneSchedulerBackend:57 - Granted executor ID app-20220815142858-0028/26 on hostPort 192.168.252.235:32973 with 4 core(s), 36.5 GiB RAM\n",
      "2022-08-15 14:28:58 INFO  StandaloneAppClient$ClientEndpoint:57 - Executor added: app-20220815142858-0028/27 on worker-20220701073808-192.168.252.116-37381 (192.168.252.116:37381) with 4 core(s)\n",
      "2022-08-15 14:28:58 INFO  StandaloneSchedulerBackend:57 - Granted executor ID app-20220815142858-0028/27 on hostPort 192.168.252.116:37381 with 4 core(s), 36.5 GiB RAM\n",
      "2022-08-15 14:28:58 INFO  StandaloneAppClient$ClientEndpoint:57 - Executor added: app-20220815142858-0028/28 on worker-20220701073807-192.168.252.49-35339 (192.168.252.49:35339) with 4 core(s)\n",
      "2022-08-15 14:28:58 INFO  StandaloneSchedulerBackend:57 - Granted executor ID app-20220815142858-0028/28 on hostPort 192.168.252.49:35339 with 4 core(s), 36.5 GiB RAM\n",
      "2022-08-15 14:28:58 INFO  StandaloneAppClient$ClientEndpoint:57 - Executor added: app-20220815142858-0028/29 on worker-20220701073806-192.168.252.220-40123 (192.168.252.220:40123) with 4 core(s)\n",
      "2022-08-15 14:28:58 INFO  StandaloneSchedulerBackend:57 - Granted executor ID app-20220815142858-0028/29 on hostPort 192.168.252.220:40123 with 4 core(s), 36.5 GiB RAM\n",
      "2022-08-15 14:28:58 INFO  StandaloneAppClient$ClientEndpoint:57 - Executor added: app-20220815142858-0028/30 on worker-20220701073805-192.168.252.134-45219 (192.168.252.134:45219) with 4 core(s)\n",
      "2022-08-15 14:28:58 INFO  StandaloneSchedulerBackend:57 - Granted executor ID app-20220815142858-0028/30 on hostPort 192.168.252.134:45219 with 4 core(s), 36.5 GiB RAM\n",
      "2022-08-15 14:28:58 INFO  StandaloneAppClient$ClientEndpoint:57 - Executor added: app-20220815142858-0028/31 on worker-20220701073810-192.168.252.249-37667 (192.168.252.249:37667) with 4 core(s)\n",
      "2022-08-15 14:28:58 INFO  StandaloneSchedulerBackend:57 - Granted executor ID app-20220815142858-0028/31 on hostPort 192.168.252.249:37667 with 4 core(s), 36.5 GiB RAM\n",
      "2022-08-15 14:28:58 INFO  StandaloneAppClient$ClientEndpoint:57 - Executor added: app-20220815142858-0028/32 on worker-20220701073809-192.168.252.228-44633 (192.168.252.228:44633) with 4 core(s)\n",
      "2022-08-15 14:28:58 INFO  StandaloneSchedulerBackend:57 - Granted executor ID app-20220815142858-0028/32 on hostPort 192.168.252.228:44633 with 4 core(s), 36.5 GiB RAM\n",
      "2022-08-15 14:28:58 INFO  StandaloneAppClient$ClientEndpoint:57 - Executor added: app-20220815142858-0028/33 on worker-20220701073810-192.168.252.191-41263 (192.168.252.191:41263) with 4 core(s)\n",
      "2022-08-15 14:28:58 INFO  StandaloneSchedulerBackend:57 - Granted executor ID app-20220815142858-0028/33 on hostPort 192.168.252.191:41263 with 4 core(s), 36.5 GiB RAM\n",
      "2022-08-15 14:28:58 INFO  StandaloneAppClient$ClientEndpoint:57 - Executor updated: app-20220815142858-0028/0 is now RUNNING\n",
      "2022-08-15 14:28:58 INFO  StandaloneAppClient$ClientEndpoint:57 - Executor updated: app-20220815142858-0028/26 is now RUNNING\n",
      "2022-08-15 14:28:58 INFO  StandaloneAppClient$ClientEndpoint:57 - Executor updated: app-20220815142858-0028/5 is now RUNNING\n",
      "2022-08-15 14:28:58 INFO  StandaloneAppClient$ClientEndpoint:57 - Executor updated: app-20220815142858-0028/1 is now RUNNING\n",
      "2022-08-15 14:28:58 INFO  StandaloneAppClient$ClientEndpoint:57 - Executor updated: app-20220815142858-0028/4 is now RUNNING\n",
      "2022-08-15 14:28:58 INFO  StandaloneAppClient$ClientEndpoint:57 - Executor updated: app-20220815142858-0028/2 is now RUNNING\n",
      "2022-08-15 14:28:58 INFO  StandaloneAppClient$ClientEndpoint:57 - Executor updated: app-20220815142858-0028/7 is now RUNNING\n",
      "2022-08-15 14:28:58 INFO  StandaloneAppClient$ClientEndpoint:57 - Executor updated: app-20220815142858-0028/24 is now RUNNING\n",
      "2022-08-15 14:28:58 INFO  StandaloneAppClient$ClientEndpoint:57 - Executor updated: app-20220815142858-0028/32 is now RUNNING\n",
      "2022-08-15 14:28:58 INFO  StandaloneAppClient$ClientEndpoint:57 - Executor updated: app-20220815142858-0028/3 is now RUNNING\n",
      "2022-08-15 14:28:58 INFO  StandaloneAppClient$ClientEndpoint:57 - Executor updated: app-20220815142858-0028/25 is now RUNNING\n",
      "2022-08-15 14:28:58 INFO  StandaloneAppClient$ClientEndpoint:57 - Executor updated: app-20220815142858-0028/10 is now RUNNING\n",
      "2022-08-15 14:28:58 INFO  StandaloneAppClient$ClientEndpoint:57 - Executor updated: app-20220815142858-0028/13 is now RUNNING\n",
      "2022-08-15 14:28:58 INFO  StandaloneAppClient$ClientEndpoint:57 - Executor updated: app-20220815142858-0028/8 is now RUNNING\n",
      "2022-08-15 14:28:58 INFO  StandaloneAppClient$ClientEndpoint:57 - Executor updated: app-20220815142858-0028/23 is now RUNNING\n",
      "2022-08-15 14:28:58 INFO  StandaloneAppClient$ClientEndpoint:57 - Executor updated: app-20220815142858-0028/9 is now RUNNING\n",
      "2022-08-15 14:28:58 INFO  StandaloneAppClient$ClientEndpoint:57 - Executor updated: app-20220815142858-0028/21 is now RUNNING\n",
      "2022-08-15 14:28:58 INFO  StandaloneAppClient$ClientEndpoint:57 - Executor updated: app-20220815142858-0028/20 is now RUNNING\n",
      "2022-08-15 14:28:58 INFO  StandaloneAppClient$ClientEndpoint:57 - Executor updated: app-20220815142858-0028/29 is now RUNNING\n",
      "2022-08-15 14:28:58 INFO  StandaloneAppClient$ClientEndpoint:57 - Executor updated: app-20220815142858-0028/28 is now RUNNING\n",
      "2022-08-15 14:28:58 INFO  StandaloneAppClient$ClientEndpoint:57 - Executor updated: app-20220815142858-0028/30 is now RUNNING\n",
      "2022-08-15 14:28:58 INFO  StandaloneAppClient$ClientEndpoint:57 - Executor updated: app-20220815142858-0028/6 is now RUNNING\n",
      "2022-08-15 14:28:58 INFO  StandaloneAppClient$ClientEndpoint:57 - Executor updated: app-20220815142858-0028/27 is now RUNNING\n",
      "2022-08-15 14:28:58 INFO  StandaloneAppClient$ClientEndpoint:57 - Executor updated: app-20220815142858-0028/12 is now RUNNING\n",
      "2022-08-15 14:28:58 INFO  StandaloneAppClient$ClientEndpoint:57 - Executor updated: app-20220815142858-0028/15 is now RUNNING\n",
      "2022-08-15 14:28:58 INFO  StandaloneAppClient$ClientEndpoint:57 - Executor updated: app-20220815142858-0028/31 is now RUNNING\n",
      "2022-08-15 14:28:58 INFO  StandaloneAppClient$ClientEndpoint:57 - Executor updated: app-20220815142858-0028/22 is now RUNNING\n",
      "2022-08-15 14:28:58 INFO  StandaloneAppClient$ClientEndpoint:57 - Executor updated: app-20220815142858-0028/16 is now RUNNING\n",
      "2022-08-15 14:28:58 INFO  StandaloneAppClient$ClientEndpoint:57 - Executor updated: app-20220815142858-0028/33 is now RUNNING\n",
      "2022-08-15 14:28:58 INFO  StandaloneAppClient$ClientEndpoint:57 - Executor updated: app-20220815142858-0028/11 is now RUNNING\n",
      "2022-08-15 14:28:58 INFO  StandaloneAppClient$ClientEndpoint:57 - Executor updated: app-20220815142858-0028/14 is now RUNNING\n",
      "2022-08-15 14:28:58 INFO  StandaloneAppClient$ClientEndpoint:57 - Executor updated: app-20220815142858-0028/17 is now RUNNING\n",
      "2022-08-15 14:28:58 INFO  StandaloneAppClient$ClientEndpoint:57 - Executor updated: app-20220815142858-0028/18 is now RUNNING\n",
      "2022-08-15 14:28:58 INFO  StandaloneAppClient$ClientEndpoint:57 - Executor updated: app-20220815142858-0028/19 is now RUNNING\n",
      "2022-08-15 14:28:58 INFO  ContextHandler:916 - Started o.s.j.s.ServletContextHandler@66a2ffbe{/metrics/json,null,AVAILABLE,@Spark}\n",
      "2022-08-15 14:28:59 INFO  SingleEventLogFileWriter:57 - Logging events to hdfs:/shared/spark-logs/app-20220815142858-0028.inprogress\n",
      "2022-08-15 14:28:59 INFO  StandaloneSchedulerBackend:57 - SchedulerBackend is ready for scheduling beginning after reached minRegisteredResourcesRatio: 0.0\n"
     ]
    },
    {
     "name": "stderr",
     "output_type": "stream",
     "text": [
      "pip-installed Hail requires additional configuration options in Spark referring\n",
      "  to the path to the Hail Python module directory HAIL_DIR,\n",
      "  e.g. /path/to/python/site-packages/hail:\n",
      "    spark.jars=HAIL_DIR/backend/hail-all-spark.jar\n",
      "    spark.driver.extraClassPath=HAIL_DIR/backend/hail-all-spark.jar\n",
      "    spark.executor.extraClassPath=./hail-all-spark.jar"
     ]
    },
    {
     "name": "stdout",
     "output_type": "stream",
     "text": [
      "2022-08-15 14:29:00 INFO  Hail:28 - SparkUI: http://spark-master:4040\n"
     ]
    },
    {
     "name": "stderr",
     "output_type": "stream",
     "text": [
      "Running on Apache Spark version 3.1.2\n",
      "SparkUI available at http://spark-master:4040\n",
      "Welcome to\n",
      "     __  __     <>__\n",
      "    / /_/ /__  __/ /\n",
      "   / __  / _ `/ / /\n",
      "  /_/ /_/\\_,_/_/_/   version 0.2.97-937922d7f46c\n",
      "LOGGING: writing to /home/ubuntu/jupyter/hail-20220815-1428-0.2.97-937922d7f46c.log\n"
     ]
    }
   ],
   "source": [
    "import hail as hl\n",
    "import pyspark\n",
    "from hail.plot import show\n",
    "hl.plot.output_notebook()\n",
    "\n",
    "from bokeh.plotting import output_file, save, reset_output\n",
    "\n",
    "sc = pyspark.SparkContext()\n",
    "tmp_dir = \"hdfs://spark-master:9820/\"\n",
    "lustre_dir = \"file:///lustre/scratch123/qc/\"\n",
    "hl.init(sc=sc, tmp_dir=tmp_dir, default_reference=\"GRCh38\")"
   ]
  },
  {
   "cell_type": "code",
   "execution_count": 3,
   "id": "2f345ae9",
   "metadata": {},
   "outputs": [],
   "source": [
    "broad_mtfile = lustre_dir + 'matrixtables/gatk_calls_from_broad_samples_in_sanger.mt'\n",
    "broad_mt = hl.read_matrix_table(broad_mtfile)"
   ]
  },
  {
   "cell_type": "code",
   "execution_count": 12,
   "id": "58a7c0cd",
   "metadata": {},
   "outputs": [],
   "source": [
    "sanger_mtfile = lustre_dir + 'matrixtables/gatk_calls_from_sanger_samples_in_broad.mt'\n",
    "sanger_mt = hl.read_matrix_table(sanger_mtfile)\n",
    "\n",
    "sanger_only_mtfile = lustre_dir + 'matrixtables/sanger_variants_not_in_broad.mt'\n",
    "sanger_only_mt = hl.read_matrix_table(sanger_only_mtfile)\n",
    "\n",
    "broad_only_mtfile = lustre_dir + 'matrixtables/broad_variants_not_in_sanger.mt'\n",
    "broad_only_mt = hl.read_matrix_table(broad_only_mtfile)"
   ]
  },
  {
   "cell_type": "code",
   "execution_count": 13,
   "id": "a7bea304",
   "metadata": {},
   "outputs": [
    {
     "name": "stderr",
     "output_type": "stream",
     "text": [
      "[Stage 18:======================================================(123 + 1) / 123]\r"
     ]
    }
   ],
   "source": [
    "#extract variant counts per chromosome\n",
    "broad_chroms = broad_mt.aggregate_rows(hl.agg.counter(broad_mt.locus.contig))\n",
    "sanger_chroms = sanger_mt.aggregate_rows(hl.agg.counter(sanger_mt.locus.contig))\n",
    "broad_only_chroms = broad_only_mt.aggregate_rows(hl.agg.counter(broad_only_mt.locus.contig))\n",
    "sanger_only_chroms = sanger_only_mt.aggregate_rows(hl.agg.counter(sanger_only_mt.locus.contig))"
   ]
  },
  {
   "cell_type": "code",
   "execution_count": 17,
   "id": "67ef68fc",
   "metadata": {},
   "outputs": [],
   "source": [
    "#list of chromosomes to use as labels\n",
    "chroms = []\n",
    "for c in range(1,23):\n",
    "    chroms.append('chr' + str(c))\n",
    "chroms.append('chrX')\n",
    "chroms.append('chrY')"
   ]
  },
  {
   "cell_type": "code",
   "execution_count": 19,
   "id": "706438de",
   "metadata": {},
   "outputs": [],
   "source": [
    "#lists for variant counts per chromosome to plot\n",
    "broad_chroms_plot = []\n",
    "sanger_chroms_plot = []\n",
    "broad_only_chroms_plot = []\n",
    "sanger_only_chroms_plot = []\n",
    "for c in chroms:\n",
    "    broad_chroms_plot.append(broad_chroms[c])\n",
    "    sanger_chroms_plot.append(sanger_chroms[c])\n",
    "    broad_only_chroms_plot.append(broad_only_chroms[c])\n",
    "    sanger_only_chroms_plot.append(sanger_only_chroms[c])\n"
   ]
  },
  {
   "cell_type": "code",
   "execution_count": 31,
   "id": "15168fbc",
   "metadata": {},
   "outputs": [
    {
     "data": {
      "image/png": "[encoded data removed]",
      "text/plain": [
       "<Figure size 1080x108 with 1 Axes>"
      ]
     },
     "metadata": {
      "needs_background": "light"
     },
     "output_type": "display_data"
    }
   ],
   "source": [
    "#barplots of chromosome counts\n",
    "import matplotlib.pyplot as plt\n",
    "plt.rcParams[\"figure.figsize\"] = (15,1.5)\n",
    "plt.rcParams.update({'font.size': 14})\n",
    "fig = plt.figure()\n",
    "ax = fig.add_axes([0,0,1,1])\n",
    "ax.bar(chroms,broad_chroms_plot)\n",
    "plt.title(\"Variant count per chromosome: Broad variant calls\")\n",
    "plt.show()"
   ]
  },
  {
   "cell_type": "code",
   "execution_count": 32,
   "id": "b046ff04",
   "metadata": {},
   "outputs": [
    {
     "data": {
      "image/png": "[encoded data removed]",
      "text/plain": [
       "<Figure size 1080x108 with 1 Axes>"
      ]
     },
     "metadata": {
      "needs_background": "light"
     },
     "output_type": "display_data"
    }
   ],
   "source": [
    "fig = plt.figure()\n",
    "ax = fig.add_axes([0,0,1,1])\n",
    "ax.bar(chroms,sanger_chroms_plot)\n",
    "plt.title(\"Variant count per chromosome: Sanger variant calls\")\n",
    "plt.show()"
   ]
  },
  {
   "cell_type": "code",
   "execution_count": 33,
   "id": "f8b5ea86",
   "metadata": {},
   "outputs": [
    {
     "data": {
      "image/png": "[encoded data removed]",
      "text/plain": [
       "<Figure size 1080x108 with 1 Axes>"
      ]
     },
     "metadata": {
      "needs_background": "light"
     },
     "output_type": "display_data"
    }
   ],
   "source": [
    "fig = plt.figure()\n",
    "ax = fig.add_axes([0,0,1,1])\n",
    "ax.bar(chroms,broad_only_chroms_plot)\n",
    "plt.title(\"Variant count per chromosome: Broad variant calls not present in Sanger\")\n",
    "plt.show()"
   ]
  },
  {
   "cell_type": "code",
   "execution_count": 34,
   "id": "5a6940a4",
   "metadata": {},
   "outputs": [
    {
     "data": {
      "image/png": "[encoded data removed]",
      "text/plain": [
       "<Figure size 1080x108 with 1 Axes>"
      ]
     },
     "metadata": {
      "needs_background": "light"
     },
     "output_type": "display_data"
    }
   ],
   "source": [
    "fig = plt.figure()\n",
    "ax = fig.add_axes([0,0,1,1])\n",
    "ax.bar(chroms,sanger_only_chroms_plot)\n",
    "plt.title(\"Variant count per chromosome: Sanger variant calls not present in Broad\")\n",
    "plt.show()"
   ]
  },
  {
   "cell_type": "code",
   "execution_count": 40,
   "id": "da146f96",
   "metadata": {},
   "outputs": [
    {
     "name": "stderr",
     "output_type": "stream",
     "text": [
      "[Stage 33:==============(191 + 1) / 191][Stage 34:=============>    (3 + 2) / 4]\r"
     ]
    },
    {
     "data": {
      "text/html": [
       "\n",
       "\n",
       "\n",
       "\n",
       "\n",
       "\n",
       "  <div class=\"bk-root\" id=\"c9ecaab7-2b5d-47bd-99e0-0b93bddedab7\" data-root-id=\"1459\"></div>\n"
      ]
     },
     "metadata": {},
     "output_type": "display_data"
    },
    {
     "data": {
      "application/javascript": [
       "(function(root) {\n",
       "  function embed_document(root) {\n",
       "    \n",
       "  var docs_json = {\"45345cfd-f27e-4e85-9ee9-b0780db48b84\":{\"roots\":{\"references\":[{\"attributes\":{\"background_fill_color\":{\"value\":\"#EEEEEE\"},\"below\":[{\"id\":\"1470\",\"type\":\"LinearAxis\"}],\"center\":[{\"id\":\"1474\",\"type\":\"Grid\"},{\"id\":\"1479\",\"type\":\"Grid\"},{\"id\":\"1504\",\"type\":\"Legend\"}],\"left\":[{\"id\":\"1475\",\"type\":\"LinearAxis\"}],\"renderers\":[{\"id\":\"1496\",\"type\":\"GlyphRenderer\"}],\"title\":{\"id\":\"1460\",\"type\":\"Title\"},\"toolbar\":{\"id\":\"1486\",\"type\":\"Toolbar\"},\"x_range\":{\"id\":\"1462\",\"type\":\"Range1d\"},\"x_scale\":{\"id\":\"1466\",\"type\":\"LinearScale\"},\"y_range\":{\"id\":\"1464\",\"type\":\"DataRange1d\"},\"y_scale\":{\"id\":\"1468\",\"type\":\"LinearScale\"}},\"id\":\"1459\",\"subtype\":\"Figure\",\"type\":\"Plot\"},{\"attributes\":{\"dimension\":1,\"ticker\":{\"id\":\"1476\",\"type\":\"BasicTicker\"}},\"id\":\"1479\",\"type\":\"Grid\"},{\"attributes\":{},\"id\":\"1483\",\"type\":\"SaveTool\"},{\"attributes\":{\"items\":[{\"id\":\"1505\",\"type\":\"LegendItem\"}]},\"id\":\"1504\",\"type\":\"Legend\"},{\"attributes\":{\"callback\":null,\"data\":{\"left\":[0.0,1.98,3.96,5.9399999999999995,7.92,9.9,11.879999999999999,13.86,15.84,17.82,19.8,21.78,23.759999999999998,25.74,27.72,29.7,31.68,33.66,35.64,37.62,39.6,41.58,43.56,45.54,47.519999999999996,49.5,51.48,53.46,55.44,57.42,59.4,61.38,63.36,65.34,67.32,69.3,71.28,73.26,75.24,77.22,79.2,81.17999999999999,83.16,85.14,87.12,89.1,91.08,93.06,95.03999999999999,97.02],\"right\":[1.98,3.96,5.9399999999999995,7.92,9.9,11.879999999999999,13.86,15.84,17.82,19.8,21.78,23.759999999999998,25.74,27.72,29.7,31.68,33.66,35.64,37.62,39.6,41.58,43.56,45.54,47.519999999999996,49.5,51.48,53.46,55.44,57.42,59.4,61.38,63.36,65.34,67.32,69.3,71.28,73.26,75.24,77.22,79.2,81.17999999999999,83.16,85.14,87.12,89.1,91.08,93.06,95.03999999999999,97.02,99.0],\"top\":[1184005233,40377098,7769806,41557209,32752126,11124031,218225760,54264695,9723834,41457478,209733469,11281630,60775722,43017116,9011139,294017676,77800617,10197921,57991719,43271631,16849222,270180591,66242962,11113359,48108875,275673169,11075634,72114471,44319734,8355206,325684261,74917184,9672208,47548719,37250556,18488493,231331439,56196599,8932596,35830501,210680835,10015444,54955321,32372320,5715984,1382180852,340778064,82277461,141382792,852354519]},\"selected\":{\"id\":\"1545\",\"type\":\"Selection\"},\"selection_policy\":{\"id\":\"1544\",\"type\":\"UnionRenderers\"}},\"id\":\"1493\",\"type\":\"ColumnDataSource\"},{\"attributes\":{},\"id\":\"1545\",\"type\":\"Selection\"},{\"attributes\":{\"callback\":null,\"end\":103.95,\"start\":-4.95},\"id\":\"1462\",\"type\":\"Range1d\"},{\"attributes\":{\"text\":\"Broad variant calls: GQ\"},\"id\":\"1460\",\"type\":\"Title\"},{\"attributes\":{\"bottom\":{\"value\":0},\"fill_color\":{\"value\":\"#1f77b4\"},\"left\":{\"field\":\"left\"},\"right\":{\"field\":\"right\"},\"top\":{\"field\":\"top\"}},\"id\":\"1494\",\"type\":\"Quad\"},{\"attributes\":{\"bottom\":{\"value\":0},\"fill_alpha\":{\"value\":0.1},\"fill_color\":{\"value\":\"#1f77b4\"},\"left\":{\"field\":\"left\"},\"line_alpha\":{\"value\":0.1},\"line_color\":{\"value\":\"#1f77b4\"},\"right\":{\"field\":\"right\"},\"top\":{\"field\":\"top\"}},\"id\":\"1495\",\"type\":\"Quad\"},{\"attributes\":{},\"id\":\"1468\",\"type\":\"LinearScale\"},{\"attributes\":{\"axis_label\":\"Frequency\",\"formatter\":{\"id\":\"1500\",\"type\":\"BasicTickFormatter\"},\"ticker\":{\"id\":\"1476\",\"type\":\"BasicTicker\"}},\"id\":\"1475\",\"type\":\"LinearAxis\"},{\"attributes\":{\"formatter\":{\"id\":\"1502\",\"type\":\"BasicTickFormatter\"},\"ticker\":{\"id\":\"1471\",\"type\":\"BasicTicker\"}},\"id\":\"1470\",\"type\":\"LinearAxis\"},{\"attributes\":{},\"id\":\"1471\",\"type\":\"BasicTicker\"},{\"attributes\":{},\"id\":\"1481\",\"type\":\"WheelZoomTool\"},{\"attributes\":{\"label\":{\"value\":\"\"},\"renderers\":[{\"id\":\"1496\",\"type\":\"GlyphRenderer\"}]},\"id\":\"1505\",\"type\":\"LegendItem\"},{\"attributes\":{\"data_source\":{\"id\":\"1493\",\"type\":\"ColumnDataSource\"},\"glyph\":{\"id\":\"1494\",\"type\":\"Quad\"},\"hover_glyph\":null,\"muted_glyph\":null,\"nonselection_glyph\":{\"id\":\"1495\",\"type\":\"Quad\"},\"selection_glyph\":null,\"view\":{\"id\":\"1497\",\"type\":\"CDSView\"}},\"id\":\"1496\",\"type\":\"GlyphRenderer\"},{\"attributes\":{},\"id\":\"1476\",\"type\":\"BasicTicker\"},{\"attributes\":{\"source\":{\"id\":\"1493\",\"type\":\"ColumnDataSource\"}},\"id\":\"1497\",\"type\":\"CDSView\"},{\"attributes\":{},\"id\":\"1480\",\"type\":\"PanTool\"},{\"attributes\":{\"ticker\":{\"id\":\"1471\",\"type\":\"BasicTicker\"}},\"id\":\"1474\",\"type\":\"Grid\"},{\"attributes\":{\"callback\":null},\"id\":\"1464\",\"type\":\"DataRange1d\"},{\"attributes\":{\"overlay\":{\"id\":\"1503\",\"type\":\"BoxAnnotation\"}},\"id\":\"1482\",\"type\":\"BoxZoomTool\"},{\"attributes\":{},\"id\":\"1502\",\"type\":\"BasicTickFormatter\"},{\"attributes\":{},\"id\":\"1485\",\"type\":\"HelpTool\"},{\"attributes\":{\"bottom_units\":\"screen\",\"fill_alpha\":{\"value\":0.5},\"fill_color\":{\"value\":\"lightgrey\"},\"left_units\":\"screen\",\"level\":\"overlay\",\"line_alpha\":{\"value\":1.0},\"line_color\":{\"value\":\"black\"},\"line_dash\":[4,4],\"line_width\":{\"value\":2},\"render_mode\":\"css\",\"right_units\":\"screen\",\"top_units\":\"screen\"},\"id\":\"1503\",\"type\":\"BoxAnnotation\"},{\"attributes\":{},\"id\":\"1500\",\"type\":\"BasicTickFormatter\"},{\"attributes\":{},\"id\":\"1544\",\"type\":\"UnionRenderers\"},{\"attributes\":{\"active_drag\":\"auto\",\"active_inspect\":\"auto\",\"active_multi\":null,\"active_scroll\":\"auto\",\"active_tap\":\"auto\",\"tools\":[{\"id\":\"1480\",\"type\":\"PanTool\"},{\"id\":\"1481\",\"type\":\"WheelZoomTool\"},{\"id\":\"1482\",\"type\":\"BoxZoomTool\"},{\"id\":\"1483\",\"type\":\"SaveTool\"},{\"id\":\"1484\",\"type\":\"ResetTool\"},{\"id\":\"1485\",\"type\":\"HelpTool\"}]},\"id\":\"1486\",\"type\":\"Toolbar\"},{\"attributes\":{},\"id\":\"1466\",\"type\":\"LinearScale\"},{\"attributes\":{},\"id\":\"1484\",\"type\":\"ResetTool\"}],\"root_ids\":[\"1459\"]},\"title\":\"Bokeh Application\",\"version\":\"1.4.0\"}};\n",
       "  var render_items = [{\"docid\":\"45345cfd-f27e-4e85-9ee9-b0780db48b84\",\"roots\":{\"1459\":\"c9ecaab7-2b5d-47bd-99e0-0b93bddedab7\"}}];\n",
       "  root.Bokeh.embed.embed_items_notebook(docs_json, render_items);\n",
       "\n",
       "  }\n",
       "  if (root.Bokeh !== undefined) {\n",
       "    embed_document(root);\n",
       "  } else {\n",
       "    var attempts = 0;\n",
       "    var timer = setInterval(function(root) {\n",
       "      if (root.Bokeh !== undefined) {\n",
       "        clearInterval(timer);\n",
       "        embed_document(root);\n",
       "      } else {\n",
       "        attempts++;\n",
       "        if (attempts > 100) {\n",
       "          clearInterval(timer);\n",
       "          console.log(\"Bokeh: ERROR: Unable to run BokehJS code because BokehJS library is missing\");\n",
       "        }\n",
       "      }\n",
       "    }, 10, root)\n",
       "  }\n",
       "})(window);"
      ],
      "application/vnd.bokehjs_exec.v0+json": ""
     },
     "metadata": {
      "application/vnd.bokehjs_exec.v0+json": {
       "id": "1459"
      }
     },
     "output_type": "display_data"
    },
    {
     "name": "stderr",
     "output_type": "stream",
     "text": [
      "[Stage 33:======================================================(191 + 1) / 191]\r"
     ]
    }
   ],
   "source": [
    "#plot GQ\n",
    "p = hl.plot.histogram(broad_mt.GQ, title=\"Broad variant calls: GQ\")\n",
    "show(p)"
   ]
  },
  {
   "cell_type": "code",
   "execution_count": 41,
   "id": "152a5312",
   "metadata": {},
   "outputs": [
    {
     "name": "stderr",
     "output_type": "stream",
     "text": [
      "                                                                                \r"
     ]
    },
    {
     "data": {
      "text/html": [
       "\n",
       "\n",
       "\n",
       "\n",
       "\n",
       "\n",
       "  <div class=\"bk-root\" id=\"dcc98379-095e-4ffc-b518-04432518ddee\" data-root-id=\"1594\"></div>\n"
      ]
     },
     "metadata": {},
     "output_type": "display_data"
    },
    {
     "data": {
      "application/javascript": [
       "(function(root) {\n",
       "  function embed_document(root) {\n",
       "    \n",
       "  var docs_json = {\"0953e6ee-a9e8-4d94-88a8-490946712664\":{\"roots\":{\"references\":[{\"attributes\":{\"background_fill_color\":{\"value\":\"#EEEEEE\"},\"below\":[{\"id\":\"1605\",\"type\":\"LinearAxis\"}],\"center\":[{\"id\":\"1609\",\"type\":\"Grid\"},{\"id\":\"1614\",\"type\":\"Grid\"},{\"id\":\"1639\",\"type\":\"Legend\"}],\"left\":[{\"id\":\"1610\",\"type\":\"LinearAxis\"}],\"renderers\":[{\"id\":\"1631\",\"type\":\"GlyphRenderer\"}],\"title\":{\"id\":\"1595\",\"type\":\"Title\"},\"toolbar\":{\"id\":\"1621\",\"type\":\"Toolbar\"},\"x_range\":{\"id\":\"1597\",\"type\":\"Range1d\"},\"x_scale\":{\"id\":\"1601\",\"type\":\"LinearScale\"},\"y_range\":{\"id\":\"1599\",\"type\":\"DataRange1d\"},\"y_scale\":{\"id\":\"1603\",\"type\":\"LinearScale\"}},\"id\":\"1594\",\"subtype\":\"Figure\",\"type\":\"Plot\"},{\"attributes\":{\"source\":{\"id\":\"1628\",\"type\":\"ColumnDataSource\"}},\"id\":\"1632\",\"type\":\"CDSView\"},{\"attributes\":{},\"id\":\"1606\",\"type\":\"BasicTicker\"},{\"attributes\":{\"active_drag\":\"auto\",\"active_inspect\":\"auto\",\"active_multi\":null,\"active_scroll\":\"auto\",\"active_tap\":\"auto\",\"tools\":[{\"id\":\"1615\",\"type\":\"PanTool\"},{\"id\":\"1616\",\"type\":\"WheelZoomTool\"},{\"id\":\"1617\",\"type\":\"BoxZoomTool\"},{\"id\":\"1618\",\"type\":\"SaveTool\"},{\"id\":\"1619\",\"type\":\"ResetTool\"},{\"id\":\"1620\",\"type\":\"HelpTool\"}]},\"id\":\"1621\",\"type\":\"Toolbar\"},{\"attributes\":{},\"id\":\"1601\",\"type\":\"LinearScale\"},{\"attributes\":{\"formatter\":{\"id\":\"1637\",\"type\":\"BasicTickFormatter\"},\"ticker\":{\"id\":\"1606\",\"type\":\"BasicTicker\"}},\"id\":\"1605\",\"type\":\"LinearAxis\"},{\"attributes\":{\"callback\":null},\"id\":\"1599\",\"type\":\"DataRange1d\"},{\"attributes\":{\"bottom_units\":\"screen\",\"fill_alpha\":{\"value\":0.5},\"fill_color\":{\"value\":\"lightgrey\"},\"left_units\":\"screen\",\"level\":\"overlay\",\"line_alpha\":{\"value\":1.0},\"line_color\":{\"value\":\"black\"},\"line_dash\":[4,4],\"line_width\":{\"value\":2},\"render_mode\":\"css\",\"right_units\":\"screen\",\"top_units\":\"screen\"},\"id\":\"1638\",\"type\":\"BoxAnnotation\"},{\"attributes\":{\"overlay\":{\"id\":\"1638\",\"type\":\"BoxAnnotation\"}},\"id\":\"1617\",\"type\":\"BoxZoomTool\"},{\"attributes\":{},\"id\":\"1688\",\"type\":\"Selection\"},{\"attributes\":{\"text\":\"Sanger variant calls: GQ\"},\"id\":\"1595\",\"type\":\"Title\"},{\"attributes\":{\"axis_label\":\"Frequency\",\"formatter\":{\"id\":\"1635\",\"type\":\"BasicTickFormatter\"},\"ticker\":{\"id\":\"1611\",\"type\":\"BasicTicker\"}},\"id\":\"1610\",\"type\":\"LinearAxis\"},{\"attributes\":{\"label\":{\"value\":\"\"},\"renderers\":[{\"id\":\"1631\",\"type\":\"GlyphRenderer\"}]},\"id\":\"1640\",\"type\":\"LegendItem\"},{\"attributes\":{},\"id\":\"1619\",\"type\":\"ResetTool\"},{\"attributes\":{\"dimension\":1,\"ticker\":{\"id\":\"1611\",\"type\":\"BasicTicker\"}},\"id\":\"1614\",\"type\":\"Grid\"},{\"attributes\":{},\"id\":\"1618\",\"type\":\"SaveTool\"},{\"attributes\":{},\"id\":\"1611\",\"type\":\"BasicTicker\"},{\"attributes\":{\"bottom\":{\"value\":0},\"fill_alpha\":{\"value\":0.1},\"fill_color\":{\"value\":\"#1f77b4\"},\"left\":{\"field\":\"left\"},\"line_alpha\":{\"value\":0.1},\"line_color\":{\"value\":\"#1f77b4\"},\"right\":{\"field\":\"right\"},\"top\":{\"field\":\"top\"}},\"id\":\"1630\",\"type\":\"Quad\"},{\"attributes\":{},\"id\":\"1635\",\"type\":\"BasicTickFormatter\"},{\"attributes\":{\"bottom\":{\"value\":0},\"fill_color\":{\"value\":\"#1f77b4\"},\"left\":{\"field\":\"left\"},\"right\":{\"field\":\"right\"},\"top\":{\"field\":\"top\"}},\"id\":\"1629\",\"type\":\"Quad\"},{\"attributes\":{},\"id\":\"1620\",\"type\":\"HelpTool\"},{\"attributes\":{\"ticker\":{\"id\":\"1606\",\"type\":\"BasicTicker\"}},\"id\":\"1609\",\"type\":\"Grid\"},{\"attributes\":{},\"id\":\"1603\",\"type\":\"LinearScale\"},{\"attributes\":{\"callback\":null,\"data\":{\"left\":[0.0,1.98,3.96,5.9399999999999995,7.92,9.9,11.879999999999999,13.86,15.84,17.82,19.8,21.78,23.759999999999998,25.74,27.72,29.7,31.68,33.66,35.64,37.62,39.6,41.58,43.56,45.54,47.519999999999996,49.5,51.48,53.46,55.44,57.42,59.4,61.38,63.36,65.34,67.32,69.3,71.28,73.26,75.24,77.22,79.2,81.17999999999999,83.16,85.14,87.12,89.1,91.08,93.06,95.03999999999999,97.02],\"right\":[1.98,3.96,5.9399999999999995,7.92,9.9,11.879999999999999,13.86,15.84,17.82,19.8,21.78,23.759999999999998,25.74,27.72,29.7,31.68,33.66,35.64,37.62,39.6,41.58,43.56,45.54,47.519999999999996,49.5,51.48,53.46,55.44,57.42,59.4,61.38,63.36,65.34,67.32,69.3,71.28,73.26,75.24,77.22,79.2,81.17999999999999,83.16,85.14,87.12,89.1,91.08,93.06,95.03999999999999,97.02,99.0],\"top\":[397064276,85420269,8144643,100526121,89820622,14004482,557571305,245235785,12440208,156929059,1013683450,14566782,284091532,172060665,12582074,1384554645,356246854,12420167,180158496,133883970,17373790,954527040,225422984,12702163,114184433,768647673,12271394,184078316,96627197,10072155,723021149,197481010,11018070,88679828,68151010,14969974,441448291,126208155,9089263,63492163,369296366,8779416,106919420,56856600,7129056,1916675402,608635912,67794705,253128015,807264191]},\"selected\":{\"id\":\"1688\",\"type\":\"Selection\"},\"selection_policy\":{\"id\":\"1687\",\"type\":\"UnionRenderers\"}},\"id\":\"1628\",\"type\":\"ColumnDataSource\"},{\"attributes\":{\"callback\":null,\"end\":103.95,\"start\":-4.95},\"id\":\"1597\",\"type\":\"Range1d\"},{\"attributes\":{\"items\":[{\"id\":\"1640\",\"type\":\"LegendItem\"}]},\"id\":\"1639\",\"type\":\"Legend\"},{\"attributes\":{\"data_source\":{\"id\":\"1628\",\"type\":\"ColumnDataSource\"},\"glyph\":{\"id\":\"1629\",\"type\":\"Quad\"},\"hover_glyph\":null,\"muted_glyph\":null,\"nonselection_glyph\":{\"id\":\"1630\",\"type\":\"Quad\"},\"selection_glyph\":null,\"view\":{\"id\":\"1632\",\"type\":\"CDSView\"}},\"id\":\"1631\",\"type\":\"GlyphRenderer\"},{\"attributes\":{},\"id\":\"1637\",\"type\":\"BasicTickFormatter\"},{\"attributes\":{},\"id\":\"1687\",\"type\":\"UnionRenderers\"},{\"attributes\":{},\"id\":\"1615\",\"type\":\"PanTool\"},{\"attributes\":{},\"id\":\"1616\",\"type\":\"WheelZoomTool\"}],\"root_ids\":[\"1594\"]},\"title\":\"Bokeh Application\",\"version\":\"1.4.0\"}};\n",
       "  var render_items = [{\"docid\":\"0953e6ee-a9e8-4d94-88a8-490946712664\",\"roots\":{\"1594\":\"dcc98379-095e-4ffc-b518-04432518ddee\"}}];\n",
       "  root.Bokeh.embed.embed_items_notebook(docs_json, render_items);\n",
       "\n",
       "  }\n",
       "  if (root.Bokeh !== undefined) {\n",
       "    embed_document(root);\n",
       "  } else {\n",
       "    var attempts = 0;\n",
       "    var timer = setInterval(function(root) {\n",
       "      if (root.Bokeh !== undefined) {\n",
       "        clearInterval(timer);\n",
       "        embed_document(root);\n",
       "      } else {\n",
       "        attempts++;\n",
       "        if (attempts > 100) {\n",
       "          clearInterval(timer);\n",
       "          console.log(\"Bokeh: ERROR: Unable to run BokehJS code because BokehJS library is missing\");\n",
       "        }\n",
       "      }\n",
       "    }, 10, root)\n",
       "  }\n",
       "})(window);"
      ],
      "application/vnd.bokehjs_exec.v0+json": ""
     },
     "metadata": {
      "application/vnd.bokehjs_exec.v0+json": {
       "id": "1594"
      }
     },
     "output_type": "display_data"
    }
   ],
   "source": [
    "p = hl.plot.histogram(sanger_mt.GQ, title=\"Sanger variant calls: GQ\")\n",
    "show(p)"
   ]
  },
  {
   "cell_type": "code",
   "execution_count": 42,
   "id": "7557b1f2",
   "metadata": {},
   "outputs": [
    {
     "name": "stderr",
     "output_type": "stream",
     "text": [
      "                                                                                \r"
     ]
    },
    {
     "data": {
      "text/html": [
       "\n",
       "\n",
       "\n",
       "\n",
       "\n",
       "\n",
       "  <div class=\"bk-root\" id=\"157ebac6-36a7-4010-8dcf-7bb21b517235\" data-root-id=\"1737\"></div>\n"
      ]
     },
     "metadata": {},
     "output_type": "display_data"
    },
    {
     "data": {
      "application/javascript": [
       "(function(root) {\n",
       "  function embed_document(root) {\n",
       "    \n",
       "  var docs_json = {\"c90310f9-f9c2-4285-87de-e671a942bfae\":{\"roots\":{\"references\":[{\"attributes\":{\"background_fill_color\":{\"value\":\"#EEEEEE\"},\"below\":[{\"id\":\"1748\",\"type\":\"LinearAxis\"}],\"center\":[{\"id\":\"1752\",\"type\":\"Grid\"},{\"id\":\"1757\",\"type\":\"Grid\"},{\"id\":\"1782\",\"type\":\"Legend\"}],\"left\":[{\"id\":\"1753\",\"type\":\"LinearAxis\"}],\"renderers\":[{\"id\":\"1774\",\"type\":\"GlyphRenderer\"}],\"title\":{\"id\":\"1738\",\"type\":\"Title\"},\"toolbar\":{\"id\":\"1764\",\"type\":\"Toolbar\"},\"x_range\":{\"id\":\"1740\",\"type\":\"Range1d\"},\"x_scale\":{\"id\":\"1744\",\"type\":\"LinearScale\"},\"y_range\":{\"id\":\"1742\",\"type\":\"DataRange1d\"},\"y_scale\":{\"id\":\"1746\",\"type\":\"LinearScale\"}},\"id\":\"1737\",\"subtype\":\"Figure\",\"type\":\"Plot\"},{\"attributes\":{},\"id\":\"1762\",\"type\":\"ResetTool\"},{\"attributes\":{\"source\":{\"id\":\"1771\",\"type\":\"ColumnDataSource\"}},\"id\":\"1775\",\"type\":\"CDSView\"},{\"attributes\":{\"label\":{\"value\":\"\"},\"renderers\":[{\"id\":\"1774\",\"type\":\"GlyphRenderer\"}]},\"id\":\"1783\",\"type\":\"LegendItem\"},{\"attributes\":{},\"id\":\"1839\",\"type\":\"Selection\"},{\"attributes\":{\"bottom_units\":\"screen\",\"fill_alpha\":{\"value\":0.5},\"fill_color\":{\"value\":\"lightgrey\"},\"left_units\":\"screen\",\"level\":\"overlay\",\"line_alpha\":{\"value\":1.0},\"line_color\":{\"value\":\"black\"},\"line_dash\":[4,4],\"line_width\":{\"value\":2},\"render_mode\":\"css\",\"right_units\":\"screen\",\"top_units\":\"screen\"},\"id\":\"1781\",\"type\":\"BoxAnnotation\"},{\"attributes\":{\"data_source\":{\"id\":\"1771\",\"type\":\"ColumnDataSource\"},\"glyph\":{\"id\":\"1772\",\"type\":\"Quad\"},\"hover_glyph\":null,\"muted_glyph\":null,\"nonselection_glyph\":{\"id\":\"1773\",\"type\":\"Quad\"},\"selection_glyph\":null,\"view\":{\"id\":\"1775\",\"type\":\"CDSView\"}},\"id\":\"1774\",\"type\":\"GlyphRenderer\"},{\"attributes\":{\"callback\":null,\"data\":{\"left\":[0.0,1.98,3.96,5.9399999999999995,7.92,9.9,11.879999999999999,13.86,15.84,17.82,19.8,21.78,23.759999999999998,25.74,27.72,29.7,31.68,33.66,35.64,37.62,39.6,41.58,43.56,45.54,47.519999999999996,49.5,51.48,53.46,55.44,57.42,59.4,61.38,63.36,65.34,67.32,69.3,71.28,73.26,75.24,77.22,79.2,81.17999999999999,83.16,85.14,87.12,89.1,91.08,93.06,95.03999999999999,97.02],\"right\":[1.98,3.96,5.9399999999999995,7.92,9.9,11.879999999999999,13.86,15.84,17.82,19.8,21.78,23.759999999999998,25.74,27.72,29.7,31.68,33.66,35.64,37.62,39.6,41.58,43.56,45.54,47.519999999999996,49.5,51.48,53.46,55.44,57.42,59.4,61.38,63.36,65.34,67.32,69.3,71.28,73.26,75.24,77.22,79.2,81.17999999999999,83.16,85.14,87.12,89.1,91.08,93.06,95.03999999999999,97.02,99.0],\"top\":[1102304702,35953450,4839227,36596782,28468212,7476940,202230544,46311173,5974137,33734106,177909481,7063519,47178773,32485433,5010666,214659288,54837359,5533220,39011656,27873819,9092097,165617160,39562908,5860616,27073712,143909488,5060187,37111619,21836327,3530282,135918074,31739762,4059398,19484309,14547088,6996075,76531066,19108333,3719977,11512580,57039299,3953540,15857258,9025948,1780611,143685045,39881543,11378940,19263354,191764042]},\"selected\":{\"id\":\"1839\",\"type\":\"Selection\"},\"selection_policy\":{\"id\":\"1838\",\"type\":\"UnionRenderers\"}},\"id\":\"1771\",\"type\":\"ColumnDataSource\"},{\"attributes\":{\"active_drag\":\"auto\",\"active_inspect\":\"auto\",\"active_multi\":null,\"active_scroll\":\"auto\",\"active_tap\":\"auto\",\"tools\":[{\"id\":\"1758\",\"type\":\"PanTool\"},{\"id\":\"1759\",\"type\":\"WheelZoomTool\"},{\"id\":\"1760\",\"type\":\"BoxZoomTool\"},{\"id\":\"1761\",\"type\":\"SaveTool\"},{\"id\":\"1762\",\"type\":\"ResetTool\"},{\"id\":\"1763\",\"type\":\"HelpTool\"}]},\"id\":\"1764\",\"type\":\"Toolbar\"},{\"attributes\":{\"ticker\":{\"id\":\"1749\",\"type\":\"BasicTicker\"}},\"id\":\"1752\",\"type\":\"Grid\"},{\"attributes\":{},\"id\":\"1763\",\"type\":\"HelpTool\"},{\"attributes\":{},\"id\":\"1780\",\"type\":\"BasicTickFormatter\"},{\"attributes\":{},\"id\":\"1744\",\"type\":\"LinearScale\"},{\"attributes\":{\"bottom\":{\"value\":0},\"fill_color\":{\"value\":\"#1f77b4\"},\"left\":{\"field\":\"left\"},\"right\":{\"field\":\"right\"},\"top\":{\"field\":\"top\"}},\"id\":\"1772\",\"type\":\"Quad\"},{\"attributes\":{\"dimension\":1,\"ticker\":{\"id\":\"1754\",\"type\":\"BasicTicker\"}},\"id\":\"1757\",\"type\":\"Grid\"},{\"attributes\":{\"callback\":null},\"id\":\"1742\",\"type\":\"DataRange1d\"},{\"attributes\":{},\"id\":\"1749\",\"type\":\"BasicTicker\"},{\"attributes\":{\"formatter\":{\"id\":\"1780\",\"type\":\"BasicTickFormatter\"},\"ticker\":{\"id\":\"1749\",\"type\":\"BasicTicker\"}},\"id\":\"1748\",\"type\":\"LinearAxis\"},{\"attributes\":{},\"id\":\"1761\",\"type\":\"SaveTool\"},{\"attributes\":{\"items\":[{\"id\":\"1783\",\"type\":\"LegendItem\"}]},\"id\":\"1782\",\"type\":\"Legend\"},{\"attributes\":{},\"id\":\"1758\",\"type\":\"PanTool\"},{\"attributes\":{},\"id\":\"1759\",\"type\":\"WheelZoomTool\"},{\"attributes\":{\"bottom\":{\"value\":0},\"fill_alpha\":{\"value\":0.1},\"fill_color\":{\"value\":\"#1f77b4\"},\"left\":{\"field\":\"left\"},\"line_alpha\":{\"value\":0.1},\"line_color\":{\"value\":\"#1f77b4\"},\"right\":{\"field\":\"right\"},\"top\":{\"field\":\"top\"}},\"id\":\"1773\",\"type\":\"Quad\"},{\"attributes\":{\"text\":\"Broad variant calls not in Sanger: GQ\"},\"id\":\"1738\",\"type\":\"Title\"},{\"attributes\":{},\"id\":\"1754\",\"type\":\"BasicTicker\"},{\"attributes\":{},\"id\":\"1746\",\"type\":\"LinearScale\"},{\"attributes\":{},\"id\":\"1838\",\"type\":\"UnionRenderers\"},{\"attributes\":{\"overlay\":{\"id\":\"1781\",\"type\":\"BoxAnnotation\"}},\"id\":\"1760\",\"type\":\"BoxZoomTool\"},{\"attributes\":{},\"id\":\"1778\",\"type\":\"BasicTickFormatter\"},{\"attributes\":{\"callback\":null,\"end\":103.95,\"start\":-4.95},\"id\":\"1740\",\"type\":\"Range1d\"},{\"attributes\":{\"axis_label\":\"Frequency\",\"formatter\":{\"id\":\"1778\",\"type\":\"BasicTickFormatter\"},\"ticker\":{\"id\":\"1754\",\"type\":\"BasicTicker\"}},\"id\":\"1753\",\"type\":\"LinearAxis\"}],\"root_ids\":[\"1737\"]},\"title\":\"Bokeh Application\",\"version\":\"1.4.0\"}};\n",
       "  var render_items = [{\"docid\":\"c90310f9-f9c2-4285-87de-e671a942bfae\",\"roots\":{\"1737\":\"157ebac6-36a7-4010-8dcf-7bb21b517235\"}}];\n",
       "  root.Bokeh.embed.embed_items_notebook(docs_json, render_items);\n",
       "\n",
       "  }\n",
       "  if (root.Bokeh !== undefined) {\n",
       "    embed_document(root);\n",
       "  } else {\n",
       "    var attempts = 0;\n",
       "    var timer = setInterval(function(root) {\n",
       "      if (root.Bokeh !== undefined) {\n",
       "        clearInterval(timer);\n",
       "        embed_document(root);\n",
       "      } else {\n",
       "        attempts++;\n",
       "        if (attempts > 100) {\n",
       "          clearInterval(timer);\n",
       "          console.log(\"Bokeh: ERROR: Unable to run BokehJS code because BokehJS library is missing\");\n",
       "        }\n",
       "      }\n",
       "    }, 10, root)\n",
       "  }\n",
       "})(window);"
      ],
      "application/vnd.bokehjs_exec.v0+json": ""
     },
     "metadata": {
      "application/vnd.bokehjs_exec.v0+json": {
       "id": "1737"
      }
     },
     "output_type": "display_data"
    },
    {
     "name": "stderr",
     "output_type": "stream",
     "text": [
      "[Stage 40:======================================================(191 + 1) / 191]\r"
     ]
    }
   ],
   "source": [
    "p = hl.plot.histogram(broad_only_mt.GQ, title=\"Broad variant calls not in Sanger: GQ\")\n",
    "show(p)"
   ]
  },
  {
   "cell_type": "code",
   "execution_count": 43,
   "id": "1d13b083",
   "metadata": {},
   "outputs": [
    {
     "name": "stderr",
     "output_type": "stream",
     "text": [
      "                                                                                \r"
     ]
    },
    {
     "data": {
      "text/html": [
       "\n",
       "\n",
       "\n",
       "\n",
       "\n",
       "\n",
       "  <div class=\"bk-root\" id=\"fb7bdd68-ea1e-406d-ae83-7c85f18d69dc\" data-root-id=\"1888\"></div>\n"
      ]
     },
     "metadata": {},
     "output_type": "display_data"
    },
    {
     "data": {
      "application/javascript": [
       "(function(root) {\n",
       "  function embed_document(root) {\n",
       "    \n",
       "  var docs_json = {\"e1548121-d695-440c-bcd1-72feba819441\":{\"roots\":{\"references\":[{\"attributes\":{\"background_fill_color\":{\"value\":\"#EEEEEE\"},\"below\":[{\"id\":\"1899\",\"type\":\"LinearAxis\"}],\"center\":[{\"id\":\"1903\",\"type\":\"Grid\"},{\"id\":\"1908\",\"type\":\"Grid\"},{\"id\":\"1933\",\"type\":\"Legend\"}],\"left\":[{\"id\":\"1904\",\"type\":\"LinearAxis\"}],\"renderers\":[{\"id\":\"1925\",\"type\":\"GlyphRenderer\"}],\"title\":{\"id\":\"1889\",\"type\":\"Title\"},\"toolbar\":{\"id\":\"1915\",\"type\":\"Toolbar\"},\"x_range\":{\"id\":\"1891\",\"type\":\"Range1d\"},\"x_scale\":{\"id\":\"1895\",\"type\":\"LinearScale\"},\"y_range\":{\"id\":\"1893\",\"type\":\"DataRange1d\"},\"y_scale\":{\"id\":\"1897\",\"type\":\"LinearScale\"}},\"id\":\"1888\",\"subtype\":\"Figure\",\"type\":\"Plot\"},{\"attributes\":{\"data_source\":{\"id\":\"1922\",\"type\":\"ColumnDataSource\"},\"glyph\":{\"id\":\"1923\",\"type\":\"Quad\"},\"hover_glyph\":null,\"muted_glyph\":null,\"nonselection_glyph\":{\"id\":\"1924\",\"type\":\"Quad\"},\"selection_glyph\":null,\"view\":{\"id\":\"1926\",\"type\":\"CDSView\"}},\"id\":\"1925\",\"type\":\"GlyphRenderer\"},{\"attributes\":{},\"id\":\"1914\",\"type\":\"HelpTool\"},{\"attributes\":{},\"id\":\"1900\",\"type\":\"BasicTicker\"},{\"attributes\":{\"bottom\":{\"value\":0},\"fill_alpha\":{\"value\":0.1},\"fill_color\":{\"value\":\"#1f77b4\"},\"left\":{\"field\":\"left\"},\"line_alpha\":{\"value\":0.1},\"line_color\":{\"value\":\"#1f77b4\"},\"right\":{\"field\":\"right\"},\"top\":{\"field\":\"top\"}},\"id\":\"1924\",\"type\":\"Quad\"},{\"attributes\":{\"bottom_units\":\"screen\",\"fill_alpha\":{\"value\":0.5},\"fill_color\":{\"value\":\"lightgrey\"},\"left_units\":\"screen\",\"level\":\"overlay\",\"line_alpha\":{\"value\":1.0},\"line_color\":{\"value\":\"black\"},\"line_dash\":[4,4],\"line_width\":{\"value\":2},\"render_mode\":\"css\",\"right_units\":\"screen\",\"top_units\":\"screen\"},\"id\":\"1932\",\"type\":\"BoxAnnotation\"},{\"attributes\":{},\"id\":\"1929\",\"type\":\"BasicTickFormatter\"},{\"attributes\":{\"source\":{\"id\":\"1922\",\"type\":\"ColumnDataSource\"}},\"id\":\"1926\",\"type\":\"CDSView\"},{\"attributes\":{\"callback\":null,\"end\":103.95,\"start\":-4.95},\"id\":\"1891\",\"type\":\"Range1d\"},{\"attributes\":{},\"id\":\"1909\",\"type\":\"PanTool\"},{\"attributes\":{},\"id\":\"1895\",\"type\":\"LinearScale\"},{\"attributes\":{\"overlay\":{\"id\":\"1932\",\"type\":\"BoxAnnotation\"}},\"id\":\"1911\",\"type\":\"BoxZoomTool\"},{\"attributes\":{\"ticker\":{\"id\":\"1900\",\"type\":\"BasicTicker\"}},\"id\":\"1903\",\"type\":\"Grid\"},{\"attributes\":{\"formatter\":{\"id\":\"1931\",\"type\":\"BasicTickFormatter\"},\"ticker\":{\"id\":\"1900\",\"type\":\"BasicTicker\"}},\"id\":\"1899\",\"type\":\"LinearAxis\"},{\"attributes\":{},\"id\":\"1931\",\"type\":\"BasicTickFormatter\"},{\"attributes\":{\"active_drag\":\"auto\",\"active_inspect\":\"auto\",\"active_multi\":null,\"active_scroll\":\"auto\",\"active_tap\":\"auto\",\"tools\":[{\"id\":\"1909\",\"type\":\"PanTool\"},{\"id\":\"1910\",\"type\":\"WheelZoomTool\"},{\"id\":\"1911\",\"type\":\"BoxZoomTool\"},{\"id\":\"1912\",\"type\":\"SaveTool\"},{\"id\":\"1913\",\"type\":\"ResetTool\"},{\"id\":\"1914\",\"type\":\"HelpTool\"}]},\"id\":\"1915\",\"type\":\"Toolbar\"},{\"attributes\":{},\"id\":\"1912\",\"type\":\"SaveTool\"},{\"attributes\":{},\"id\":\"1897\",\"type\":\"LinearScale\"},{\"attributes\":{},\"id\":\"1998\",\"type\":\"Selection\"},{\"attributes\":{\"axis_label\":\"Frequency\",\"formatter\":{\"id\":\"1929\",\"type\":\"BasicTickFormatter\"},\"ticker\":{\"id\":\"1905\",\"type\":\"BasicTicker\"}},\"id\":\"1904\",\"type\":\"LinearAxis\"},{\"attributes\":{},\"id\":\"1997\",\"type\":\"UnionRenderers\"},{\"attributes\":{\"text\":\"Sanger variant calls not in Broad: GQ\"},\"id\":\"1889\",\"type\":\"Title\"},{\"attributes\":{\"callback\":null,\"data\":{\"left\":[0.0,1.98,3.96,5.9399999999999995,7.92,9.9,11.879999999999999,13.86,15.84,17.82,19.8,21.78,23.759999999999998,25.74,27.72,29.7,31.68,33.66,35.64,37.62,39.6,41.58,43.56,45.54,47.519999999999996,49.5,51.48,53.46,55.44,57.42,59.4,61.38,63.36,65.34,67.32,69.3,71.28,73.26,75.24,77.22,79.2,81.17999999999999,83.16,85.14,87.12,89.1,91.08,93.06,95.03999999999999,97.02],\"right\":[1.98,3.96,5.9399999999999995,7.92,9.9,11.879999999999999,13.86,15.84,17.82,19.8,21.78,23.759999999999998,25.74,27.72,29.7,31.68,33.66,35.64,37.62,39.6,41.58,43.56,45.54,47.519999999999996,49.5,51.48,53.46,55.44,57.42,59.4,61.38,63.36,65.34,67.32,69.3,71.28,73.26,75.24,77.22,79.2,81.17999999999999,83.16,85.14,87.12,89.1,91.08,93.06,95.03999999999999,97.02,99.0],\"top\":[281290782,68640458,5512713,81357147,72627993,10181895,463693842,203025059,8744610,129078453,858793313,10492512,238224695,142696059,9178323,1177809496,299889378,9098688,150179277,110413626,13262986,802832490,186359653,8304131,92326416,633758228,8878989,148690744,76197749,7010198,579395974,155044441,7330050,68049363,50695313,10185523,338447994,94269356,6052013,46240152,271290326,5946545,76524666,39553356,4749572,965520465,290059859,26734569,114054625,264924245]},\"selected\":{\"id\":\"1998\",\"type\":\"Selection\"},\"selection_policy\":{\"id\":\"1997\",\"type\":\"UnionRenderers\"}},\"id\":\"1922\",\"type\":\"ColumnDataSource\"},{\"attributes\":{\"bottom\":{\"value\":0},\"fill_color\":{\"value\":\"#1f77b4\"},\"left\":{\"field\":\"left\"},\"right\":{\"field\":\"right\"},\"top\":{\"field\":\"top\"}},\"id\":\"1923\",\"type\":\"Quad\"},{\"attributes\":{\"callback\":null},\"id\":\"1893\",\"type\":\"DataRange1d\"},{\"attributes\":{},\"id\":\"1913\",\"type\":\"ResetTool\"},{\"attributes\":{\"dimension\":1,\"ticker\":{\"id\":\"1905\",\"type\":\"BasicTicker\"}},\"id\":\"1908\",\"type\":\"Grid\"},{\"attributes\":{\"label\":{\"value\":\"\"},\"renderers\":[{\"id\":\"1925\",\"type\":\"GlyphRenderer\"}]},\"id\":\"1934\",\"type\":\"LegendItem\"},{\"attributes\":{},\"id\":\"1905\",\"type\":\"BasicTicker\"},{\"attributes\":{\"items\":[{\"id\":\"1934\",\"type\":\"LegendItem\"}]},\"id\":\"1933\",\"type\":\"Legend\"},{\"attributes\":{},\"id\":\"1910\",\"type\":\"WheelZoomTool\"}],\"root_ids\":[\"1888\"]},\"title\":\"Bokeh Application\",\"version\":\"1.4.0\"}};\n",
       "  var render_items = [{\"docid\":\"e1548121-d695-440c-bcd1-72feba819441\",\"roots\":{\"1888\":\"fb7bdd68-ea1e-406d-ae83-7c85f18d69dc\"}}];\n",
       "  root.Bokeh.embed.embed_items_notebook(docs_json, render_items);\n",
       "\n",
       "  }\n",
       "  if (root.Bokeh !== undefined) {\n",
       "    embed_document(root);\n",
       "  } else {\n",
       "    var attempts = 0;\n",
       "    var timer = setInterval(function(root) {\n",
       "      if (root.Bokeh !== undefined) {\n",
       "        clearInterval(timer);\n",
       "        embed_document(root);\n",
       "      } else {\n",
       "        attempts++;\n",
       "        if (attempts > 100) {\n",
       "          clearInterval(timer);\n",
       "          console.log(\"Bokeh: ERROR: Unable to run BokehJS code because BokehJS library is missing\");\n",
       "        }\n",
       "      }\n",
       "    }, 10, root)\n",
       "  }\n",
       "})(window);"
      ],
      "application/vnd.bokehjs_exec.v0+json": ""
     },
     "metadata": {
      "application/vnd.bokehjs_exec.v0+json": {
       "id": "1888"
      }
     },
     "output_type": "display_data"
    }
   ],
   "source": [
    "p = hl.plot.histogram(sanger_only_mt.GQ, title=\"Sanger variant calls not in Broad: GQ\")\n",
    "show(p)"
   ]
  },
  {
   "cell_type": "code",
   "execution_count": 48,
   "id": "d8f85450",
   "metadata": {},
   "outputs": [
    {
     "name": "stderr",
     "output_type": "stream",
     "text": [
      "[Stage 56:======================================================(191 + 6) / 191]\r"
     ]
    },
    {
     "data": {
      "text/html": [
       "\n",
       "\n",
       "\n",
       "\n",
       "\n",
       "\n",
       "  <div class=\"bk-root\" id=\"9a40671b-00c3-4817-91b6-4636e5ca3a10\" data-root-id=\"2816\"></div>\n"
      ]
     },
     "metadata": {},
     "output_type": "display_data"
    },
    {
     "data": {
      "application/javascript": [
       "(function(root) {\n",
       "  function embed_document(root) {\n",
       "    \n",
       "  var docs_json = {\"99c8e0bd-999e-42bf-9d17-dff6a2693981\":{\"roots\":{\"references\":[{\"attributes\":{\"background_fill_color\":{\"value\":\"#EEEEEE\"},\"below\":[{\"id\":\"2827\",\"type\":\"LinearAxis\"}],\"center\":[{\"id\":\"2831\",\"type\":\"Grid\"},{\"id\":\"2836\",\"type\":\"Grid\"},{\"id\":\"2861\",\"type\":\"Legend\"}],\"left\":[{\"id\":\"2832\",\"type\":\"LinearAxis\"}],\"renderers\":[{\"id\":\"2853\",\"type\":\"GlyphRenderer\"},{\"id\":\"2866\",\"type\":\"GlyphRenderer\"}],\"title\":{\"id\":\"2817\",\"type\":\"Title\"},\"toolbar\":{\"id\":\"2843\",\"type\":\"Toolbar\"},\"x_range\":{\"id\":\"2819\",\"type\":\"Range1d\"},\"x_scale\":{\"id\":\"2823\",\"type\":\"LinearScale\"},\"y_range\":{\"id\":\"2821\",\"type\":\"DataRange1d\"},\"y_scale\":{\"id\":\"2825\",\"type\":\"LinearScale\"}},\"id\":\"2816\",\"subtype\":\"Figure\",\"type\":\"Plot\"},{\"attributes\":{\"callback\":null},\"id\":\"2821\",\"type\":\"DataRange1d\"},{\"attributes\":{\"data_source\":{\"id\":\"2863\",\"type\":\"ColumnDataSource\"},\"glyph\":{\"id\":\"2864\",\"type\":\"Quad\"},\"hover_glyph\":null,\"muted_glyph\":null,\"nonselection_glyph\":{\"id\":\"2865\",\"type\":\"Quad\"},\"selection_glyph\":null,\"view\":{\"id\":\"2867\",\"type\":\"CDSView\"}},\"id\":\"2866\",\"type\":\"GlyphRenderer\"},{\"attributes\":{\"items\":[{\"id\":\"2862\",\"type\":\"LegendItem\"},{\"id\":\"2876\",\"type\":\"LegendItem\"}]},\"id\":\"2861\",\"type\":\"Legend\"},{\"attributes\":{},\"id\":\"2825\",\"type\":\"LinearScale\"},{\"attributes\":{},\"id\":\"2828\",\"type\":\"BasicTicker\"},{\"attributes\":{\"active_drag\":\"auto\",\"active_inspect\":\"auto\",\"active_multi\":null,\"active_scroll\":\"auto\",\"active_tap\":\"auto\",\"tools\":[{\"id\":\"2837\",\"type\":\"PanTool\"},{\"id\":\"2838\",\"type\":\"WheelZoomTool\"},{\"id\":\"2839\",\"type\":\"BoxZoomTool\"},{\"id\":\"2840\",\"type\":\"SaveTool\"},{\"id\":\"2841\",\"type\":\"ResetTool\"},{\"id\":\"2842\",\"type\":\"HelpTool\"}]},\"id\":\"2843\",\"type\":\"Toolbar\"},{\"attributes\":{\"bottom\":{\"value\":0},\"fill_alpha\":{\"value\":0.1},\"fill_color\":{\"value\":\"#1f77b4\"},\"left\":{\"value\":50.0},\"line_alpha\":{\"value\":0.1},\"line_color\":{\"value\":\"#1f77b4\"},\"right\":{\"value\":52.5},\"top\":{\"value\":315413391}},\"id\":\"2865\",\"type\":\"Quad\"},{\"attributes\":{\"label\":{\"value\":\"Outliers Above\"},\"renderers\":[{\"id\":\"2866\",\"type\":\"GlyphRenderer\"}]},\"id\":\"2876\",\"type\":\"LegendItem\"},{\"attributes\":{\"bottom\":{\"value\":0},\"fill_alpha\":{\"value\":0.1},\"fill_color\":{\"value\":\"#1f77b4\"},\"left\":{\"field\":\"left\"},\"line_alpha\":{\"value\":0.1},\"line_color\":{\"value\":\"#1f77b4\"},\"right\":{\"field\":\"right\"},\"top\":{\"field\":\"top\"}},\"id\":\"2852\",\"type\":\"Quad\"},{\"attributes\":{},\"id\":\"2823\",\"type\":\"LinearScale\"},{\"attributes\":{},\"id\":\"2857\",\"type\":\"BasicTickFormatter\"},{\"attributes\":{\"callback\":null,\"data\":{},\"selected\":{\"id\":\"2986\",\"type\":\"Selection\"},\"selection_policy\":{\"id\":\"2985\",\"type\":\"UnionRenderers\"}},\"id\":\"2863\",\"type\":\"ColumnDataSource\"},{\"attributes\":{},\"id\":\"2833\",\"type\":\"BasicTicker\"},{\"attributes\":{},\"id\":\"2838\",\"type\":\"WheelZoomTool\"},{\"attributes\":{\"dimension\":1,\"ticker\":{\"id\":\"2833\",\"type\":\"BasicTicker\"}},\"id\":\"2836\",\"type\":\"Grid\"},{\"attributes\":{\"bottom\":{\"value\":0},\"fill_color\":{\"value\":\"#1f77b4\"},\"left\":{\"field\":\"left\"},\"right\":{\"field\":\"right\"},\"top\":{\"field\":\"top\"}},\"id\":\"2851\",\"type\":\"Quad\"},{\"attributes\":{\"formatter\":{\"id\":\"2859\",\"type\":\"BasicTickFormatter\"},\"ticker\":{\"id\":\"2828\",\"type\":\"BasicTicker\"}},\"id\":\"2827\",\"type\":\"LinearAxis\"},{\"attributes\":{\"bottom\":{\"value\":0},\"fill_color\":{\"value\":\"green\"},\"left\":{\"value\":50.0},\"right\":{\"value\":52.5},\"top\":{\"value\":315413391}},\"id\":\"2864\",\"type\":\"Quad\"},{\"attributes\":{},\"id\":\"2985\",\"type\":\"UnionRenderers\"},{\"attributes\":{\"axis_label\":\"Frequency\",\"formatter\":{\"id\":\"2857\",\"type\":\"BasicTickFormatter\"},\"ticker\":{\"id\":\"2833\",\"type\":\"BasicTicker\"}},\"id\":\"2832\",\"type\":\"LinearAxis\"},{\"attributes\":{},\"id\":\"2841\",\"type\":\"ResetTool\"},{\"attributes\":{\"ticker\":{\"id\":\"2828\",\"type\":\"BasicTicker\"}},\"id\":\"2831\",\"type\":\"Grid\"},{\"attributes\":{\"bottom_units\":\"screen\",\"fill_alpha\":{\"value\":0.5},\"fill_color\":{\"value\":\"lightgrey\"},\"left_units\":\"screen\",\"level\":\"overlay\",\"line_alpha\":{\"value\":1.0},\"line_color\":{\"value\":\"black\"},\"line_dash\":[4,4],\"line_width\":{\"value\":2},\"render_mode\":\"css\",\"right_units\":\"screen\",\"top_units\":\"screen\"},\"id\":\"2860\",\"type\":\"BoxAnnotation\"},{\"attributes\":{},\"id\":\"2840\",\"type\":\"SaveTool\"},{\"attributes\":{\"text\":\"Broad variant calls: DP\"},\"id\":\"2817\",\"type\":\"Title\"},{\"attributes\":{\"callback\":null,\"end\":52.5,\"start\":-2.5},\"id\":\"2819\",\"type\":\"Range1d\"},{\"attributes\":{\"overlay\":{\"id\":\"2860\",\"type\":\"BoxAnnotation\"}},\"id\":\"2839\",\"type\":\"BoxZoomTool\"},{\"attributes\":{},\"id\":\"2875\",\"type\":\"Selection\"},{\"attributes\":{\"data_source\":{\"id\":\"2850\",\"type\":\"ColumnDataSource\"},\"glyph\":{\"id\":\"2851\",\"type\":\"Quad\"},\"hover_glyph\":null,\"muted_glyph\":null,\"nonselection_glyph\":{\"id\":\"2852\",\"type\":\"Quad\"},\"selection_glyph\":null,\"view\":{\"id\":\"2854\",\"type\":\"CDSView\"}},\"id\":\"2853\",\"type\":\"GlyphRenderer\"},{\"attributes\":{\"label\":{\"value\":\"\"},\"renderers\":[{\"id\":\"2853\",\"type\":\"GlyphRenderer\"}]},\"id\":\"2862\",\"type\":\"LegendItem\"},{\"attributes\":{},\"id\":\"2842\",\"type\":\"HelpTool\"},{\"attributes\":{\"callback\":null,\"data\":{\"left\":[0.0,2.5,5.0,7.5,10.0,12.5,15.0,17.5,20.0,22.5,25.0,27.5,30.0,32.5,35.0,37.5,40.0,42.5,45.0,47.5],\"right\":[2.5,5.0,7.5,10.0,12.5,15.0,17.5,20.0,22.5,25.0,27.5,30.0,32.5,35.0,37.5,40.0,42.5,45.0,47.5,50.0],\"top\":[1046911060,230707927,314013003,173246280,440084922,255087289,413311723,250520316,457956466,220263593,338349878,203645636,1123323693,568741072,438537130,164433794,142200842,46901602,54735458,42570206]},\"selected\":{\"id\":\"2875\",\"type\":\"Selection\"},\"selection_policy\":{\"id\":\"2874\",\"type\":\"UnionRenderers\"}},\"id\":\"2850\",\"type\":\"ColumnDataSource\"},{\"attributes\":{},\"id\":\"2986\",\"type\":\"Selection\"},{\"attributes\":{},\"id\":\"2859\",\"type\":\"BasicTickFormatter\"},{\"attributes\":{},\"id\":\"2874\",\"type\":\"UnionRenderers\"},{\"attributes\":{\"source\":{\"id\":\"2850\",\"type\":\"ColumnDataSource\"}},\"id\":\"2854\",\"type\":\"CDSView\"},{\"attributes\":{\"source\":{\"id\":\"2863\",\"type\":\"ColumnDataSource\"}},\"id\":\"2867\",\"type\":\"CDSView\"},{\"attributes\":{},\"id\":\"2837\",\"type\":\"PanTool\"}],\"root_ids\":[\"2816\"]},\"title\":\"Bokeh Application\",\"version\":\"1.4.0\"}};\n",
       "  var render_items = [{\"docid\":\"99c8e0bd-999e-42bf-9d17-dff6a2693981\",\"roots\":{\"2816\":\"9a40671b-00c3-4817-91b6-4636e5ca3a10\"}}];\n",
       "  root.Bokeh.embed.embed_items_notebook(docs_json, render_items);\n",
       "\n",
       "  }\n",
       "  if (root.Bokeh !== undefined) {\n",
       "    embed_document(root);\n",
       "  } else {\n",
       "    var attempts = 0;\n",
       "    var timer = setInterval(function(root) {\n",
       "      if (root.Bokeh !== undefined) {\n",
       "        clearInterval(timer);\n",
       "        embed_document(root);\n",
       "      } else {\n",
       "        attempts++;\n",
       "        if (attempts > 100) {\n",
       "          clearInterval(timer);\n",
       "          console.log(\"Bokeh: ERROR: Unable to run BokehJS code because BokehJS library is missing\");\n",
       "        }\n",
       "      }\n",
       "    }, 10, root)\n",
       "  }\n",
       "})(window);"
      ],
      "application/vnd.bokehjs_exec.v0+json": ""
     },
     "metadata": {
      "application/vnd.bokehjs_exec.v0+json": {
       "id": "2816"
      }
     },
     "output_type": "display_data"
    },
    {
     "name": "stderr",
     "output_type": "stream",
     "text": [
      "[Stage 56:======================================================(191 + 1) / 191]\r"
     ]
    }
   ],
   "source": [
    "#plot DP\n",
    "p = hl.plot.histogram(broad_mt.DP, range=(0,50), bins=20, title=\"Broad variant calls: DP\")\n",
    "show(p)"
   ]
  },
  {
   "cell_type": "code",
   "execution_count": 49,
   "id": "b389bb6c",
   "metadata": {},
   "outputs": [
    {
     "name": "stderr",
     "output_type": "stream",
     "text": [
      "                                                                                \r"
     ]
    },
    {
     "data": {
      "text/html": [
       "\n",
       "\n",
       "\n",
       "\n",
       "\n",
       "\n",
       "  <div class=\"bk-root\" id=\"cdef28ff-bf7e-44fe-b64d-9fe462b6497b\" data-root-id=\"3047\"></div>\n"
      ]
     },
     "metadata": {},
     "output_type": "display_data"
    },
    {
     "data": {
      "application/javascript": [
       "(function(root) {\n",
       "  function embed_document(root) {\n",
       "    \n",
       "  var docs_json = {\"1b77b01b-8ae6-457f-b770-d60a27deface\":{\"roots\":{\"references\":[{\"attributes\":{\"background_fill_color\":{\"value\":\"#EEEEEE\"},\"below\":[{\"id\":\"3058\",\"type\":\"LinearAxis\"}],\"center\":[{\"id\":\"3062\",\"type\":\"Grid\"},{\"id\":\"3067\",\"type\":\"Grid\"},{\"id\":\"3092\",\"type\":\"Legend\"}],\"left\":[{\"id\":\"3063\",\"type\":\"LinearAxis\"}],\"renderers\":[{\"id\":\"3084\",\"type\":\"GlyphRenderer\"},{\"id\":\"3097\",\"type\":\"GlyphRenderer\"}],\"title\":{\"id\":\"3048\",\"type\":\"Title\"},\"toolbar\":{\"id\":\"3074\",\"type\":\"Toolbar\"},\"x_range\":{\"id\":\"3050\",\"type\":\"Range1d\"},\"x_scale\":{\"id\":\"3054\",\"type\":\"LinearScale\"},\"y_range\":{\"id\":\"3052\",\"type\":\"DataRange1d\"},\"y_scale\":{\"id\":\"3056\",\"type\":\"LinearScale\"}},\"id\":\"3047\",\"subtype\":\"Figure\",\"type\":\"Plot\"},{\"attributes\":{\"bottom\":{\"value\":0},\"fill_alpha\":{\"value\":0.1},\"fill_color\":{\"value\":\"#1f77b4\"},\"left\":{\"value\":50.0},\"line_alpha\":{\"value\":0.1},\"line_color\":{\"value\":\"#1f77b4\"},\"right\":{\"value\":52.5},\"top\":{\"value\":205784059}},\"id\":\"3096\",\"type\":\"Quad\"},{\"attributes\":{},\"id\":\"3106\",\"type\":\"Selection\"},{\"attributes\":{\"overlay\":{\"id\":\"3091\",\"type\":\"BoxAnnotation\"}},\"id\":\"3070\",\"type\":\"BoxZoomTool\"},{\"attributes\":{\"bottom\":{\"value\":0},\"fill_color\":{\"value\":\"green\"},\"left\":{\"value\":50.0},\"right\":{\"value\":52.5},\"top\":{\"value\":205784059}},\"id\":\"3095\",\"type\":\"Quad\"},{\"attributes\":{\"text\":\"Sanger variant calls: DP\"},\"id\":\"3048\",\"type\":\"Title\"},{\"attributes\":{\"bottom\":{\"value\":0},\"fill_color\":{\"value\":\"#1f77b4\"},\"left\":{\"field\":\"left\"},\"right\":{\"field\":\"right\"},\"top\":{\"field\":\"top\"}},\"id\":\"3082\",\"type\":\"Quad\"},{\"attributes\":{\"callback\":null},\"id\":\"3052\",\"type\":\"DataRange1d\"},{\"attributes\":{},\"id\":\"3226\",\"type\":\"UnionRenderers\"},{\"attributes\":{},\"id\":\"3069\",\"type\":\"WheelZoomTool\"},{\"attributes\":{},\"id\":\"3227\",\"type\":\"Selection\"},{\"attributes\":{\"items\":[{\"id\":\"3093\",\"type\":\"LegendItem\"},{\"id\":\"3107\",\"type\":\"LegendItem\"}]},\"id\":\"3092\",\"type\":\"Legend\"},{\"attributes\":{\"source\":{\"id\":\"3094\",\"type\":\"ColumnDataSource\"}},\"id\":\"3098\",\"type\":\"CDSView\"},{\"attributes\":{},\"id\":\"3064\",\"type\":\"BasicTicker\"},{\"attributes\":{},\"id\":\"3090\",\"type\":\"BasicTickFormatter\"},{\"attributes\":{\"callback\":null,\"end\":52.5,\"start\":-2.5},\"id\":\"3050\",\"type\":\"Range1d\"},{\"attributes\":{\"label\":{\"value\":\"Outliers Above\"},\"renderers\":[{\"id\":\"3097\",\"type\":\"GlyphRenderer\"}]},\"id\":\"3107\",\"type\":\"LegendItem\"},{\"attributes\":{\"ticker\":{\"id\":\"3059\",\"type\":\"BasicTicker\"}},\"id\":\"3062\",\"type\":\"Grid\"},{\"attributes\":{},\"id\":\"3088\",\"type\":\"BasicTickFormatter\"},{\"attributes\":{},\"id\":\"3071\",\"type\":\"SaveTool\"},{\"attributes\":{\"active_drag\":\"auto\",\"active_inspect\":\"auto\",\"active_multi\":null,\"active_scroll\":\"auto\",\"active_tap\":\"auto\",\"tools\":[{\"id\":\"3068\",\"type\":\"PanTool\"},{\"id\":\"3069\",\"type\":\"WheelZoomTool\"},{\"id\":\"3070\",\"type\":\"BoxZoomTool\"},{\"id\":\"3071\",\"type\":\"SaveTool\"},{\"id\":\"3072\",\"type\":\"ResetTool\"},{\"id\":\"3073\",\"type\":\"HelpTool\"}]},\"id\":\"3074\",\"type\":\"Toolbar\"},{\"attributes\":{},\"id\":\"3068\",\"type\":\"PanTool\"},{\"attributes\":{},\"id\":\"3056\",\"type\":\"LinearScale\"},{\"attributes\":{},\"id\":\"3073\",\"type\":\"HelpTool\"},{\"attributes\":{\"axis_label\":\"Frequency\",\"formatter\":{\"id\":\"3088\",\"type\":\"BasicTickFormatter\"},\"ticker\":{\"id\":\"3064\",\"type\":\"BasicTicker\"}},\"id\":\"3063\",\"type\":\"LinearAxis\"},{\"attributes\":{},\"id\":\"3105\",\"type\":\"UnionRenderers\"},{\"attributes\":{},\"id\":\"3054\",\"type\":\"LinearScale\"},{\"attributes\":{\"callback\":null,\"data\":{\"left\":[0.0,2.5,5.0,7.5,10.0,12.5,15.0,17.5,20.0,22.5,25.0,27.5,30.0,32.5,35.0,37.5,40.0,42.5,45.0,47.5],\"right\":[2.5,5.0,7.5,10.0,12.5,15.0,17.5,20.0,22.5,25.0,27.5,30.0,32.5,35.0,37.5,40.0,42.5,45.0,47.5,50.0],\"top\":[202028804,391713236,1065769201,785472507,1740226976,858285545,1168874995,645715907,1000020073,474914249,636690667,371369959,1420091674,757357242,805752150,382947682,382044129,136620292,90125540,51135207]},\"selected\":{\"id\":\"3106\",\"type\":\"Selection\"},\"selection_policy\":{\"id\":\"3105\",\"type\":\"UnionRenderers\"}},\"id\":\"3081\",\"type\":\"ColumnDataSource\"},{\"attributes\":{\"dimension\":1,\"ticker\":{\"id\":\"3064\",\"type\":\"BasicTicker\"}},\"id\":\"3067\",\"type\":\"Grid\"},{\"attributes\":{\"source\":{\"id\":\"3081\",\"type\":\"ColumnDataSource\"}},\"id\":\"3085\",\"type\":\"CDSView\"},{\"attributes\":{\"data_source\":{\"id\":\"3081\",\"type\":\"ColumnDataSource\"},\"glyph\":{\"id\":\"3082\",\"type\":\"Quad\"},\"hover_glyph\":null,\"muted_glyph\":null,\"nonselection_glyph\":{\"id\":\"3083\",\"type\":\"Quad\"},\"selection_glyph\":null,\"view\":{\"id\":\"3085\",\"type\":\"CDSView\"}},\"id\":\"3084\",\"type\":\"GlyphRenderer\"},{\"attributes\":{\"bottom\":{\"value\":0},\"fill_alpha\":{\"value\":0.1},\"fill_color\":{\"value\":\"#1f77b4\"},\"left\":{\"field\":\"left\"},\"line_alpha\":{\"value\":0.1},\"line_color\":{\"value\":\"#1f77b4\"},\"right\":{\"field\":\"right\"},\"top\":{\"field\":\"top\"}},\"id\":\"3083\",\"type\":\"Quad\"},{\"attributes\":{\"bottom_units\":\"screen\",\"fill_alpha\":{\"value\":0.5},\"fill_color\":{\"value\":\"lightgrey\"},\"left_units\":\"screen\",\"level\":\"overlay\",\"line_alpha\":{\"value\":1.0},\"line_color\":{\"value\":\"black\"},\"line_dash\":[4,4],\"line_width\":{\"value\":2},\"render_mode\":\"css\",\"right_units\":\"screen\",\"top_units\":\"screen\"},\"id\":\"3091\",\"type\":\"BoxAnnotation\"},{\"attributes\":{\"label\":{\"value\":\"\"},\"renderers\":[{\"id\":\"3084\",\"type\":\"GlyphRenderer\"}]},\"id\":\"3093\",\"type\":\"LegendItem\"},{\"attributes\":{\"formatter\":{\"id\":\"3090\",\"type\":\"BasicTickFormatter\"},\"ticker\":{\"id\":\"3059\",\"type\":\"BasicTicker\"}},\"id\":\"3058\",\"type\":\"LinearAxis\"},{\"attributes\":{\"callback\":null,\"data\":{},\"selected\":{\"id\":\"3227\",\"type\":\"Selection\"},\"selection_policy\":{\"id\":\"3226\",\"type\":\"UnionRenderers\"}},\"id\":\"3094\",\"type\":\"ColumnDataSource\"},{\"attributes\":{},\"id\":\"3059\",\"type\":\"BasicTicker\"},{\"attributes\":{},\"id\":\"3072\",\"type\":\"ResetTool\"},{\"attributes\":{\"data_source\":{\"id\":\"3094\",\"type\":\"ColumnDataSource\"},\"glyph\":{\"id\":\"3095\",\"type\":\"Quad\"},\"hover_glyph\":null,\"muted_glyph\":null,\"nonselection_glyph\":{\"id\":\"3096\",\"type\":\"Quad\"},\"selection_glyph\":null,\"view\":{\"id\":\"3098\",\"type\":\"CDSView\"}},\"id\":\"3097\",\"type\":\"GlyphRenderer\"}],\"root_ids\":[\"3047\"]},\"title\":\"Bokeh Application\",\"version\":\"1.4.0\"}};\n",
       "  var render_items = [{\"docid\":\"1b77b01b-8ae6-457f-b770-d60a27deface\",\"roots\":{\"3047\":\"cdef28ff-bf7e-44fe-b64d-9fe462b6497b\"}}];\n",
       "  root.Bokeh.embed.embed_items_notebook(docs_json, render_items);\n",
       "\n",
       "  }\n",
       "  if (root.Bokeh !== undefined) {\n",
       "    embed_document(root);\n",
       "  } else {\n",
       "    var attempts = 0;\n",
       "    var timer = setInterval(function(root) {\n",
       "      if (root.Bokeh !== undefined) {\n",
       "        clearInterval(timer);\n",
       "        embed_document(root);\n",
       "      } else {\n",
       "        attempts++;\n",
       "        if (attempts > 100) {\n",
       "          clearInterval(timer);\n",
       "          console.log(\"Bokeh: ERROR: Unable to run BokehJS code because BokehJS library is missing\");\n",
       "        }\n",
       "      }\n",
       "    }, 10, root)\n",
       "  }\n",
       "})(window);"
      ],
      "application/vnd.bokehjs_exec.v0+json": ""
     },
     "metadata": {
      "application/vnd.bokehjs_exec.v0+json": {
       "id": "3047"
      }
     },
     "output_type": "display_data"
    }
   ],
   "source": [
    "p = hl.plot.histogram(sanger_mt.DP, range=(0,50), bins=20, title=\"Sanger variant calls: DP\")\n",
    "show(p)"
   ]
  },
  {
   "cell_type": "code",
   "execution_count": 50,
   "id": "9360ee09",
   "metadata": {},
   "outputs": [
    {
     "name": "stderr",
     "output_type": "stream",
     "text": [
      "                                                                                \r"
     ]
    },
    {
     "data": {
      "text/html": [
       "\n",
       "\n",
       "\n",
       "\n",
       "\n",
       "\n",
       "  <div class=\"bk-root\" id=\"b187b091-facb-4773-8218-c7df0aa3062b\" data-root-id=\"3288\"></div>\n"
      ]
     },
     "metadata": {},
     "output_type": "display_data"
    },
    {
     "data": {
      "application/javascript": [
       "(function(root) {\n",
       "  function embed_document(root) {\n",
       "    \n",
       "  var docs_json = {\"469a0118-9b4c-41e5-ba27-9da6f0ea1c03\":{\"roots\":{\"references\":[{\"attributes\":{\"background_fill_color\":{\"value\":\"#EEEEEE\"},\"below\":[{\"id\":\"3299\",\"type\":\"LinearAxis\"}],\"center\":[{\"id\":\"3303\",\"type\":\"Grid\"},{\"id\":\"3308\",\"type\":\"Grid\"},{\"id\":\"3333\",\"type\":\"Legend\"}],\"left\":[{\"id\":\"3304\",\"type\":\"LinearAxis\"}],\"renderers\":[{\"id\":\"3325\",\"type\":\"GlyphRenderer\"},{\"id\":\"3338\",\"type\":\"GlyphRenderer\"}],\"title\":{\"id\":\"3289\",\"type\":\"Title\"},\"toolbar\":{\"id\":\"3315\",\"type\":\"Toolbar\"},\"x_range\":{\"id\":\"3291\",\"type\":\"Range1d\"},\"x_scale\":{\"id\":\"3295\",\"type\":\"LinearScale\"},\"y_range\":{\"id\":\"3293\",\"type\":\"DataRange1d\"},\"y_scale\":{\"id\":\"3297\",\"type\":\"LinearScale\"}},\"id\":\"3288\",\"subtype\":\"Figure\",\"type\":\"Plot\"},{\"attributes\":{\"ticker\":{\"id\":\"3300\",\"type\":\"BasicTicker\"}},\"id\":\"3303\",\"type\":\"Grid\"},{\"attributes\":{\"data_source\":{\"id\":\"3322\",\"type\":\"ColumnDataSource\"},\"glyph\":{\"id\":\"3323\",\"type\":\"Quad\"},\"hover_glyph\":null,\"muted_glyph\":null,\"nonselection_glyph\":{\"id\":\"3324\",\"type\":\"Quad\"},\"selection_glyph\":null,\"view\":{\"id\":\"3326\",\"type\":\"CDSView\"}},\"id\":\"3325\",\"type\":\"GlyphRenderer\"},{\"attributes\":{},\"id\":\"3314\",\"type\":\"HelpTool\"},{\"attributes\":{\"dimension\":1,\"ticker\":{\"id\":\"3305\",\"type\":\"BasicTicker\"}},\"id\":\"3308\",\"type\":\"Grid\"},{\"attributes\":{},\"id\":\"3313\",\"type\":\"ResetTool\"},{\"attributes\":{},\"id\":\"3305\",\"type\":\"BasicTicker\"},{\"attributes\":{},\"id\":\"3329\",\"type\":\"BasicTickFormatter\"},{\"attributes\":{\"callback\":null,\"end\":52.5,\"start\":-2.5},\"id\":\"3291\",\"type\":\"Range1d\"},{\"attributes\":{\"callback\":null},\"id\":\"3293\",\"type\":\"DataRange1d\"},{\"attributes\":{},\"id\":\"3309\",\"type\":\"PanTool\"},{\"attributes\":{\"bottom_units\":\"screen\",\"fill_alpha\":{\"value\":0.5},\"fill_color\":{\"value\":\"lightgrey\"},\"left_units\":\"screen\",\"level\":\"overlay\",\"line_alpha\":{\"value\":1.0},\"line_color\":{\"value\":\"black\"},\"line_dash\":[4,4],\"line_width\":{\"value\":2},\"render_mode\":\"css\",\"right_units\":\"screen\",\"top_units\":\"screen\"},\"id\":\"3332\",\"type\":\"BoxAnnotation\"},{\"attributes\":{},\"id\":\"3346\",\"type\":\"UnionRenderers\"},{\"attributes\":{\"bottom\":{\"value\":0},\"fill_alpha\":{\"value\":0.1},\"fill_color\":{\"value\":\"#1f77b4\"},\"left\":{\"value\":50.0},\"line_alpha\":{\"value\":0.1},\"line_color\":{\"value\":\"#1f77b4\"},\"right\":{\"value\":52.5},\"top\":{\"value\":68790602}},\"id\":\"3337\",\"type\":\"Quad\"},{\"attributes\":{\"label\":{\"value\":\"\"},\"renderers\":[{\"id\":\"3325\",\"type\":\"GlyphRenderer\"}]},\"id\":\"3334\",\"type\":\"LegendItem\"},{\"attributes\":{\"callback\":null,\"data\":{\"left\":[0.0,2.5,5.0,7.5,10.0,12.5,15.0,17.5,20.0,22.5,25.0,27.5,30.0,32.5,35.0,37.5,40.0,42.5,45.0,47.5],\"right\":[2.5,5.0,7.5,10.0,12.5,15.0,17.5,20.0,22.5,25.0,27.5,30.0,32.5,35.0,37.5,40.0,42.5,45.0,47.5,50.0],\"top\":[1028841727,216865383,276308015,140689396,324969246,169249384,243125928,129558811,203826931,85341656,111872233,57415324,140078128,67043707,55437907,22863388,21871934,8661240,10331582,8210603]},\"selected\":{\"id\":\"3347\",\"type\":\"Selection\"},\"selection_policy\":{\"id\":\"3346\",\"type\":\"UnionRenderers\"}},\"id\":\"3322\",\"type\":\"ColumnDataSource\"},{\"attributes\":{},\"id\":\"3331\",\"type\":\"BasicTickFormatter\"},{\"attributes\":{\"active_drag\":\"auto\",\"active_inspect\":\"auto\",\"active_multi\":null,\"active_scroll\":\"auto\",\"active_tap\":\"auto\",\"tools\":[{\"id\":\"3309\",\"type\":\"PanTool\"},{\"id\":\"3310\",\"type\":\"WheelZoomTool\"},{\"id\":\"3311\",\"type\":\"BoxZoomTool\"},{\"id\":\"3312\",\"type\":\"SaveTool\"},{\"id\":\"3313\",\"type\":\"ResetTool\"},{\"id\":\"3314\",\"type\":\"HelpTool\"}]},\"id\":\"3315\",\"type\":\"Toolbar\"},{\"attributes\":{\"bottom\":{\"value\":0},\"fill_alpha\":{\"value\":0.1},\"fill_color\":{\"value\":\"#1f77b4\"},\"left\":{\"field\":\"left\"},\"line_alpha\":{\"value\":0.1},\"line_color\":{\"value\":\"#1f77b4\"},\"right\":{\"field\":\"right\"},\"top\":{\"field\":\"top\"}},\"id\":\"3324\",\"type\":\"Quad\"},{\"attributes\":{},\"id\":\"3477\",\"type\":\"UnionRenderers\"},{\"attributes\":{},\"id\":\"3300\",\"type\":\"BasicTicker\"},{\"attributes\":{},\"id\":\"3310\",\"type\":\"WheelZoomTool\"},{\"attributes\":{\"label\":{\"value\":\"Outliers Above\"},\"renderers\":[{\"id\":\"3338\",\"type\":\"GlyphRenderer\"}]},\"id\":\"3348\",\"type\":\"LegendItem\"},{\"attributes\":{\"data_source\":{\"id\":\"3335\",\"type\":\"ColumnDataSource\"},\"glyph\":{\"id\":\"3336\",\"type\":\"Quad\"},\"hover_glyph\":null,\"muted_glyph\":null,\"nonselection_glyph\":{\"id\":\"3337\",\"type\":\"Quad\"},\"selection_glyph\":null,\"view\":{\"id\":\"3339\",\"type\":\"CDSView\"}},\"id\":\"3338\",\"type\":\"GlyphRenderer\"},{\"attributes\":{\"axis_label\":\"Frequency\",\"formatter\":{\"id\":\"3329\",\"type\":\"BasicTickFormatter\"},\"ticker\":{\"id\":\"3305\",\"type\":\"BasicTicker\"}},\"id\":\"3304\",\"type\":\"LinearAxis\"},{\"attributes\":{\"source\":{\"id\":\"3322\",\"type\":\"ColumnDataSource\"}},\"id\":\"3326\",\"type\":\"CDSView\"},{\"attributes\":{\"callback\":null,\"data\":{},\"selected\":{\"id\":\"3478\",\"type\":\"Selection\"},\"selection_policy\":{\"id\":\"3477\",\"type\":\"UnionRenderers\"}},\"id\":\"3335\",\"type\":\"ColumnDataSource\"},{\"attributes\":{},\"id\":\"3478\",\"type\":\"Selection\"},{\"attributes\":{\"bottom\":{\"value\":0},\"fill_color\":{\"value\":\"#1f77b4\"},\"left\":{\"field\":\"left\"},\"right\":{\"field\":\"right\"},\"top\":{\"field\":\"top\"}},\"id\":\"3323\",\"type\":\"Quad\"},{\"attributes\":{\"items\":[{\"id\":\"3334\",\"type\":\"LegendItem\"},{\"id\":\"3348\",\"type\":\"LegendItem\"}]},\"id\":\"3333\",\"type\":\"Legend\"},{\"attributes\":{},\"id\":\"3312\",\"type\":\"SaveTool\"},{\"attributes\":{},\"id\":\"3297\",\"type\":\"LinearScale\"},{\"attributes\":{\"bottom\":{\"value\":0},\"fill_color\":{\"value\":\"green\"},\"left\":{\"value\":50.0},\"right\":{\"value\":52.5},\"top\":{\"value\":68790602}},\"id\":\"3336\",\"type\":\"Quad\"},{\"attributes\":{\"text\":\"Broad variant calls not in Sanger: DP\"},\"id\":\"3289\",\"type\":\"Title\"},{\"attributes\":{\"overlay\":{\"id\":\"3332\",\"type\":\"BoxAnnotation\"}},\"id\":\"3311\",\"type\":\"BoxZoomTool\"},{\"attributes\":{\"formatter\":{\"id\":\"3331\",\"type\":\"BasicTickFormatter\"},\"ticker\":{\"id\":\"3300\",\"type\":\"BasicTicker\"}},\"id\":\"3299\",\"type\":\"LinearAxis\"},{\"attributes\":{},\"id\":\"3347\",\"type\":\"Selection\"},{\"attributes\":{},\"id\":\"3295\",\"type\":\"LinearScale\"},{\"attributes\":{\"source\":{\"id\":\"3335\",\"type\":\"ColumnDataSource\"}},\"id\":\"3339\",\"type\":\"CDSView\"}],\"root_ids\":[\"3288\"]},\"title\":\"Bokeh Application\",\"version\":\"1.4.0\"}};\n",
       "  var render_items = [{\"docid\":\"469a0118-9b4c-41e5-ba27-9da6f0ea1c03\",\"roots\":{\"3288\":\"b187b091-facb-4773-8218-c7df0aa3062b\"}}];\n",
       "  root.Bokeh.embed.embed_items_notebook(docs_json, render_items);\n",
       "\n",
       "  }\n",
       "  if (root.Bokeh !== undefined) {\n",
       "    embed_document(root);\n",
       "  } else {\n",
       "    var attempts = 0;\n",
       "    var timer = setInterval(function(root) {\n",
       "      if (root.Bokeh !== undefined) {\n",
       "        clearInterval(timer);\n",
       "        embed_document(root);\n",
       "      } else {\n",
       "        attempts++;\n",
       "        if (attempts > 100) {\n",
       "          clearInterval(timer);\n",
       "          console.log(\"Bokeh: ERROR: Unable to run BokehJS code because BokehJS library is missing\");\n",
       "        }\n",
       "      }\n",
       "    }, 10, root)\n",
       "  }\n",
       "})(window);"
      ],
      "application/vnd.bokehjs_exec.v0+json": ""
     },
     "metadata": {
      "application/vnd.bokehjs_exec.v0+json": {
       "id": "3288"
      }
     },
     "output_type": "display_data"
    },
    {
     "name": "stderr",
     "output_type": "stream",
     "text": [
      "[Stage 61:======================================================(191 + 1) / 191]\r"
     ]
    }
   ],
   "source": [
    "p = hl.plot.histogram(broad_only_mt.DP, range=(0,50), bins=20, title=\"Broad variant calls not in Sanger: DP\")\n",
    "show(p)"
   ]
  },
  {
   "cell_type": "code",
   "execution_count": 51,
   "id": "d2ff422b",
   "metadata": {},
   "outputs": [
    {
     "name": "stderr",
     "output_type": "stream",
     "text": [
      "                                                                                \r"
     ]
    },
    {
     "data": {
      "text/html": [
       "\n",
       "\n",
       "\n",
       "\n",
       "\n",
       "\n",
       "  <div class=\"bk-root\" id=\"ffa79b11-38ff-4e91-9f77-11d28eaf5018\" data-root-id=\"3539\"></div>\n"
      ]
     },
     "metadata": {},
     "output_type": "display_data"
    },
    {
     "data": {
      "application/javascript": [
       "(function(root) {\n",
       "  function embed_document(root) {\n",
       "    \n",
       "  var docs_json = {\"02ade840-d5f0-4b7b-98bc-93257a857fe6\":{\"roots\":{\"references\":[{\"attributes\":{\"background_fill_color\":{\"value\":\"#EEEEEE\"},\"below\":[{\"id\":\"3550\",\"type\":\"LinearAxis\"}],\"center\":[{\"id\":\"3554\",\"type\":\"Grid\"},{\"id\":\"3559\",\"type\":\"Grid\"},{\"id\":\"3584\",\"type\":\"Legend\"}],\"left\":[{\"id\":\"3555\",\"type\":\"LinearAxis\"}],\"renderers\":[{\"id\":\"3576\",\"type\":\"GlyphRenderer\"},{\"id\":\"3589\",\"type\":\"GlyphRenderer\"}],\"title\":{\"id\":\"3540\",\"type\":\"Title\"},\"toolbar\":{\"id\":\"3566\",\"type\":\"Toolbar\"},\"x_range\":{\"id\":\"3542\",\"type\":\"Range1d\"},\"x_scale\":{\"id\":\"3546\",\"type\":\"LinearScale\"},\"y_range\":{\"id\":\"3544\",\"type\":\"DataRange1d\"},\"y_scale\":{\"id\":\"3548\",\"type\":\"LinearScale\"}},\"id\":\"3539\",\"subtype\":\"Figure\",\"type\":\"Plot\"},{\"attributes\":{\"label\":{\"value\":\"Outliers Above\"},\"renderers\":[{\"id\":\"3589\",\"type\":\"GlyphRenderer\"}]},\"id\":\"3599\",\"type\":\"LegendItem\"},{\"attributes\":{\"data_source\":{\"id\":\"3573\",\"type\":\"ColumnDataSource\"},\"glyph\":{\"id\":\"3574\",\"type\":\"Quad\"},\"hover_glyph\":null,\"muted_glyph\":null,\"nonselection_glyph\":{\"id\":\"3575\",\"type\":\"Quad\"},\"selection_glyph\":null,\"view\":{\"id\":\"3577\",\"type\":\"CDSView\"}},\"id\":\"3576\",\"type\":\"GlyphRenderer\"},{\"attributes\":{\"callback\":null,\"data\":{\"left\":[0.0,2.5,5.0,7.5,10.0,12.5,15.0,17.5,20.0,22.5,25.0,27.5,30.0,32.5,35.0,37.5,40.0,42.5,45.0,47.5],\"right\":[2.5,5.0,7.5,10.0,12.5,15.0,17.5,20.0,22.5,25.0,27.5,30.0,32.5,35.0,37.5,40.0,42.5,45.0,47.5,50.0],\"top\":[149265162,313653747,873845057,648453413,1456969607,713823773,965382521,526305960,802746653,371323787,487168357,276435578,822823521,408078671,401450190,176199612,165153725,55591870,34658479,18306933]},\"selected\":{\"id\":\"3598\",\"type\":\"Selection\"},\"selection_policy\":{\"id\":\"3597\",\"type\":\"UnionRenderers\"}},\"id\":\"3573\",\"type\":\"ColumnDataSource\"},{\"attributes\":{},\"id\":\"3560\",\"type\":\"PanTool\"},{\"attributes\":{\"data_source\":{\"id\":\"3586\",\"type\":\"ColumnDataSource\"},\"glyph\":{\"id\":\"3587\",\"type\":\"Quad\"},\"hover_glyph\":null,\"muted_glyph\":null,\"nonselection_glyph\":{\"id\":\"3588\",\"type\":\"Quad\"},\"selection_glyph\":null,\"view\":{\"id\":\"3590\",\"type\":\"CDSView\"}},\"id\":\"3589\",\"type\":\"GlyphRenderer\"},{\"attributes\":{\"bottom_units\":\"screen\",\"fill_alpha\":{\"value\":0.5},\"fill_color\":{\"value\":\"lightgrey\"},\"left_units\":\"screen\",\"level\":\"overlay\",\"line_alpha\":{\"value\":1.0},\"line_color\":{\"value\":\"black\"},\"line_dash\":[4,4],\"line_width\":{\"value\":2},\"render_mode\":\"css\",\"right_units\":\"screen\",\"top_units\":\"screen\"},\"id\":\"3583\",\"type\":\"BoxAnnotation\"},{\"attributes\":{\"overlay\":{\"id\":\"3583\",\"type\":\"BoxAnnotation\"}},\"id\":\"3562\",\"type\":\"BoxZoomTool\"},{\"attributes\":{\"bottom\":{\"value\":0},\"fill_alpha\":{\"value\":0.1},\"fill_color\":{\"value\":\"#1f77b4\"},\"left\":{\"value\":50.0},\"line_alpha\":{\"value\":0.1},\"line_color\":{\"value\":\"#1f77b4\"},\"right\":{\"value\":52.5},\"top\":{\"value\":55850792}},\"id\":\"3588\",\"type\":\"Quad\"},{\"attributes\":{},\"id\":\"3597\",\"type\":\"UnionRenderers\"},{\"attributes\":{\"callback\":null,\"end\":52.5,\"start\":-2.5},\"id\":\"3542\",\"type\":\"Range1d\"},{\"attributes\":{},\"id\":\"3556\",\"type\":\"BasicTicker\"},{\"attributes\":{},\"id\":\"3580\",\"type\":\"BasicTickFormatter\"},{\"attributes\":{\"source\":{\"id\":\"3573\",\"type\":\"ColumnDataSource\"}},\"id\":\"3577\",\"type\":\"CDSView\"},{\"attributes\":{\"text\":\"Sanger variant calls not in Broad: DP\"},\"id\":\"3540\",\"type\":\"Title\"},{\"attributes\":{\"active_drag\":\"auto\",\"active_inspect\":\"auto\",\"active_multi\":null,\"active_scroll\":\"auto\",\"active_tap\":\"auto\",\"tools\":[{\"id\":\"3560\",\"type\":\"PanTool\"},{\"id\":\"3561\",\"type\":\"WheelZoomTool\"},{\"id\":\"3562\",\"type\":\"BoxZoomTool\"},{\"id\":\"3563\",\"type\":\"SaveTool\"},{\"id\":\"3564\",\"type\":\"ResetTool\"},{\"id\":\"3565\",\"type\":\"HelpTool\"}]},\"id\":\"3566\",\"type\":\"Toolbar\"},{\"attributes\":{\"callback\":null},\"id\":\"3544\",\"type\":\"DataRange1d\"},{\"attributes\":{\"axis_label\":\"Frequency\",\"formatter\":{\"id\":\"3580\",\"type\":\"BasicTickFormatter\"},\"ticker\":{\"id\":\"3556\",\"type\":\"BasicTicker\"}},\"id\":\"3555\",\"type\":\"LinearAxis\"},{\"attributes\":{\"bottom\":{\"value\":0},\"fill_color\":{\"value\":\"green\"},\"left\":{\"value\":50.0},\"right\":{\"value\":52.5},\"top\":{\"value\":55850792}},\"id\":\"3587\",\"type\":\"Quad\"},{\"attributes\":{\"items\":[{\"id\":\"3585\",\"type\":\"LegendItem\"},{\"id\":\"3599\",\"type\":\"LegendItem\"}]},\"id\":\"3584\",\"type\":\"Legend\"},{\"attributes\":{},\"id\":\"3565\",\"type\":\"HelpTool\"},{\"attributes\":{\"label\":{\"value\":\"\"},\"renderers\":[{\"id\":\"3576\",\"type\":\"GlyphRenderer\"}]},\"id\":\"3585\",\"type\":\"LegendItem\"},{\"attributes\":{},\"id\":\"3548\",\"type\":\"LinearScale\"},{\"attributes\":{\"bottom\":{\"value\":0},\"fill_alpha\":{\"value\":0.1},\"fill_color\":{\"value\":\"#1f77b4\"},\"left\":{\"field\":\"left\"},\"line_alpha\":{\"value\":0.1},\"line_color\":{\"value\":\"#1f77b4\"},\"right\":{\"field\":\"right\"},\"top\":{\"field\":\"top\"}},\"id\":\"3575\",\"type\":\"Quad\"},{\"attributes\":{\"formatter\":{\"id\":\"3582\",\"type\":\"BasicTickFormatter\"},\"ticker\":{\"id\":\"3551\",\"type\":\"BasicTicker\"}},\"id\":\"3550\",\"type\":\"LinearAxis\"},{\"attributes\":{\"dimension\":1,\"ticker\":{\"id\":\"3556\",\"type\":\"BasicTicker\"}},\"id\":\"3559\",\"type\":\"Grid\"},{\"attributes\":{\"bottom\":{\"value\":0},\"fill_color\":{\"value\":\"#1f77b4\"},\"left\":{\"field\":\"left\"},\"right\":{\"field\":\"right\"},\"top\":{\"field\":\"top\"}},\"id\":\"3574\",\"type\":\"Quad\"},{\"attributes\":{},\"id\":\"3551\",\"type\":\"BasicTicker\"},{\"attributes\":{},\"id\":\"3598\",\"type\":\"Selection\"},{\"attributes\":{},\"id\":\"3561\",\"type\":\"WheelZoomTool\"},{\"attributes\":{},\"id\":\"3582\",\"type\":\"BasicTickFormatter\"},{\"attributes\":{},\"id\":\"3739\",\"type\":\"Selection\"},{\"attributes\":{},\"id\":\"3564\",\"type\":\"ResetTool\"},{\"attributes\":{},\"id\":\"3563\",\"type\":\"SaveTool\"},{\"attributes\":{},\"id\":\"3546\",\"type\":\"LinearScale\"},{\"attributes\":{\"ticker\":{\"id\":\"3551\",\"type\":\"BasicTicker\"}},\"id\":\"3554\",\"type\":\"Grid\"},{\"attributes\":{\"source\":{\"id\":\"3586\",\"type\":\"ColumnDataSource\"}},\"id\":\"3590\",\"type\":\"CDSView\"},{\"attributes\":{},\"id\":\"3738\",\"type\":\"UnionRenderers\"},{\"attributes\":{\"callback\":null,\"data\":{},\"selected\":{\"id\":\"3739\",\"type\":\"Selection\"},\"selection_policy\":{\"id\":\"3738\",\"type\":\"UnionRenderers\"}},\"id\":\"3586\",\"type\":\"ColumnDataSource\"}],\"root_ids\":[\"3539\"]},\"title\":\"Bokeh Application\",\"version\":\"1.4.0\"}};\n",
       "  var render_items = [{\"docid\":\"02ade840-d5f0-4b7b-98bc-93257a857fe6\",\"roots\":{\"3539\":\"ffa79b11-38ff-4e91-9f77-11d28eaf5018\"}}];\n",
       "  root.Bokeh.embed.embed_items_notebook(docs_json, render_items);\n",
       "\n",
       "  }\n",
       "  if (root.Bokeh !== undefined) {\n",
       "    embed_document(root);\n",
       "  } else {\n",
       "    var attempts = 0;\n",
       "    var timer = setInterval(function(root) {\n",
       "      if (root.Bokeh !== undefined) {\n",
       "        clearInterval(timer);\n",
       "        embed_document(root);\n",
       "      } else {\n",
       "        attempts++;\n",
       "        if (attempts > 100) {\n",
       "          clearInterval(timer);\n",
       "          console.log(\"Bokeh: ERROR: Unable to run BokehJS code because BokehJS library is missing\");\n",
       "        }\n",
       "      }\n",
       "    }, 10, root)\n",
       "  }\n",
       "})(window);"
      ],
      "application/vnd.bokehjs_exec.v0+json": ""
     },
     "metadata": {
      "application/vnd.bokehjs_exec.v0+json": {
       "id": "3539"
      }
     },
     "output_type": "display_data"
    }
   ],
   "source": [
    "p = hl.plot.histogram(sanger_only_mt.DP, range=(0,50), bins=20, title=\"Sanger variant calls not in Broad: DP\")\n",
    "show(p)"
   ]
  },
  {
   "cell_type": "code",
   "execution_count": 52,
   "id": "3ed2d137",
   "metadata": {},
   "outputs": [],
   "source": [
    "#run variant QC\n",
    "sanger_mt = hl.variant_qc(sanger_mt)\n",
    "broad_mt = hl.variant_qc(broad_mt)\n",
    "broad_only_mt = hl.variant_qc(broad_only_mt)\n",
    "sanger_only_mt = hl.variant_qc(sanger_only_mt)"
   ]
  },
  {
   "cell_type": "code",
   "execution_count": 53,
   "id": "b396bf75",
   "metadata": {},
   "outputs": [
    {
     "name": "stderr",
     "output_type": "stream",
     "text": [
      "2022-08-02 15:17:44 Hail: WARN: entries(): Resulting entries table is sorted by '(row_key, col_key)'.\n",
      "    To preserve row-major matrix table order, first unkey columns with 'key_cols_by()'\n"
     ]
    },
    {
     "data": {
      "text/html": [
       "<table><thead><tr><td style=\"white-space: nowrap; max-width: 500px; overflow: hidden; text-overflow: ellipsis; \" colspan=\"1\"><div style=\"text-align: left;\"></div></td><td style=\"white-space: nowrap; max-width: 500px; overflow: hidden; text-overflow: ellipsis; \" colspan=\"1\"><div style=\"text-align: left;\"></div></td><td style=\"white-space: nowrap; max-width: 500px; overflow: hidden; text-overflow: ellipsis; \" colspan=\"1\"><div style=\"text-align: left;\"></div></td><td style=\"white-space: nowrap; max-width: 500px; overflow: hidden; text-overflow: ellipsis; \" colspan=\"1\"><div style=\"text-align: left;\"></div></td><td style=\"white-space: nowrap; max-width: 500px; overflow: hidden; text-overflow: ellipsis; \" colspan=\"1\"><div style=\"text-align: left;\"></div></td><td style=\"white-space: nowrap; max-width: 500px; overflow: hidden; text-overflow: ellipsis; \" colspan=\"31\"><div style=\"text-align: left;\"></div></td><td style=\"white-space: nowrap; max-width: 500px; overflow: hidden; text-overflow: ellipsis; \" colspan=\"1\"><div style=\"text-align: left;\"></div></td><td style=\"white-space: nowrap; max-width: 500px; overflow: hidden; text-overflow: ellipsis; \" colspan=\"1\"><div style=\"text-align: left;\"></div></td><td style=\"white-space: nowrap; max-width: 500px; overflow: hidden; text-overflow: ellipsis; \" colspan=\"21\"><div style=\"text-align: left;\"></div></td><td style=\"white-space: nowrap; max-width: 500px; overflow: hidden; text-overflow: ellipsis; \" colspan=\"1\"><div style=\"text-align: left;\"></div></td><td style=\"white-space: nowrap; max-width: 500px; overflow: hidden; text-overflow: ellipsis; \" colspan=\"1\"><div style=\"text-align: left;\"></div></td><td style=\"white-space: nowrap; max-width: 500px; overflow: hidden; text-overflow: ellipsis; \" colspan=\"1\"><div style=\"text-align: left;\"></div></td><td style=\"white-space: nowrap; max-width: 500px; overflow: hidden; text-overflow: ellipsis; \" colspan=\"1\"><div style=\"text-align: left;\"></div></td><td style=\"white-space: nowrap; max-width: 500px; overflow: hidden; text-overflow: ellipsis; \" colspan=\"1\"><div style=\"text-align: left;\"></div></td><td style=\"white-space: nowrap; max-width: 500px; overflow: hidden; text-overflow: ellipsis; \" colspan=\"1\"><div style=\"text-align: left;\"></div></td><td style=\"white-space: nowrap; max-width: 500px; overflow: hidden; text-overflow: ellipsis; \" colspan=\"1\"><div style=\"text-align: left;\"></div></td><td style=\"white-space: nowrap; max-width: 500px; overflow: hidden; text-overflow: ellipsis; \" colspan=\"1\"><div style=\"text-align: left;\"></div></td><td style=\"white-space: nowrap; max-width: 500px; overflow: hidden; text-overflow: ellipsis; \" colspan=\"1\"><div style=\"text-align: left;\"></div></td><td style=\"white-space: nowrap; max-width: 500px; overflow: hidden; text-overflow: ellipsis; \" colspan=\"1\"><div style=\"text-align: left;\"></div></td><td style=\"white-space: nowrap; max-width: 500px; overflow: hidden; text-overflow: ellipsis; \" colspan=\"1\"><div style=\"text-align: left;\"></div></td><td style=\"white-space: nowrap; max-width: 500px; overflow: hidden; text-overflow: ellipsis; \" colspan=\"1\"><div style=\"text-align: left;\"></div></td></tr><tr><td style=\"white-space: nowrap; max-width: 500px; overflow: hidden; text-overflow: ellipsis; \" colspan=\"1\"><div style=\"text-align: left;\"></div></td><td style=\"white-space: nowrap; max-width: 500px; overflow: hidden; text-overflow: ellipsis; \" colspan=\"1\"><div style=\"text-align: left;\"></div></td><td style=\"white-space: nowrap; max-width: 500px; overflow: hidden; text-overflow: ellipsis; \" colspan=\"1\"><div style=\"text-align: left;\"></div></td><td style=\"white-space: nowrap; max-width: 500px; overflow: hidden; text-overflow: ellipsis; \" colspan=\"1\"><div style=\"text-align: left;\"></div></td><td style=\"white-space: nowrap; max-width: 500px; overflow: hidden; text-overflow: ellipsis; \" colspan=\"1\"><div style=\"text-align: left;\"></div></td><td style=\"white-space: nowrap; max-width: 500px; overflow: hidden; text-overflow: ellipsis; \" colspan=\"31\"><div style=\"text-align: left;\"></div></td><td style=\"white-space: nowrap; max-width: 500px; overflow: hidden; text-overflow: ellipsis; \" colspan=\"1\"><div style=\"text-align: left;\"></div></td><td style=\"white-space: nowrap; max-width: 500px; overflow: hidden; text-overflow: ellipsis; \" colspan=\"1\"><div style=\"text-align: left;\"></div></td><td style=\"white-space: nowrap; max-width: 500px; overflow: hidden; text-overflow: ellipsis; \" colspan=\"21\"><div style=\"text-align: left;border-bottom: solid 2px #000; padding-bottom: 5px\">variant_qc</div></td><td style=\"white-space: nowrap; max-width: 500px; overflow: hidden; text-overflow: ellipsis; \" colspan=\"1\"><div style=\"text-align: left;\"></div></td><td style=\"white-space: nowrap; max-width: 500px; overflow: hidden; text-overflow: ellipsis; \" colspan=\"1\"><div style=\"text-align: left;\"></div></td><td style=\"white-space: nowrap; max-width: 500px; overflow: hidden; text-overflow: ellipsis; \" colspan=\"1\"><div style=\"text-align: left;\"></div></td><td style=\"white-space: nowrap; max-width: 500px; overflow: hidden; text-overflow: ellipsis; \" colspan=\"1\"><div style=\"text-align: left;\"></div></td><td style=\"white-space: nowrap; max-width: 500px; overflow: hidden; text-overflow: ellipsis; \" colspan=\"1\"><div style=\"text-align: left;\"></div></td><td style=\"white-space: nowrap; max-width: 500px; overflow: hidden; text-overflow: ellipsis; \" colspan=\"1\"><div style=\"text-align: left;\"></div></td><td style=\"white-space: nowrap; max-width: 500px; overflow: hidden; text-overflow: ellipsis; \" colspan=\"1\"><div style=\"text-align: left;\"></div></td><td style=\"white-space: nowrap; max-width: 500px; overflow: hidden; text-overflow: ellipsis; \" colspan=\"1\"><div style=\"text-align: left;\"></div></td><td style=\"white-space: nowrap; max-width: 500px; overflow: hidden; text-overflow: ellipsis; \" colspan=\"1\"><div style=\"text-align: left;\"></div></td><td style=\"white-space: nowrap; max-width: 500px; overflow: hidden; text-overflow: ellipsis; \" colspan=\"1\"><div style=\"text-align: left;\"></div></td><td style=\"white-space: nowrap; max-width: 500px; overflow: hidden; text-overflow: ellipsis; \" colspan=\"1\"><div style=\"text-align: left;\"></div></td><td style=\"white-space: nowrap; max-width: 500px; overflow: hidden; text-overflow: ellipsis; \" colspan=\"1\"><div style=\"text-align: left;\"></div></td></tr><tr><td style=\"white-space: nowrap; max-width: 500px; overflow: hidden; text-overflow: ellipsis; \" colspan=\"1\"><div style=\"text-align: left;\"></div></td><td style=\"white-space: nowrap; max-width: 500px; overflow: hidden; text-overflow: ellipsis; \" colspan=\"1\"><div style=\"text-align: left;\"></div></td><td style=\"white-space: nowrap; max-width: 500px; overflow: hidden; text-overflow: ellipsis; \" colspan=\"1\"><div style=\"text-align: left;\"></div></td><td style=\"white-space: nowrap; max-width: 500px; overflow: hidden; text-overflow: ellipsis; \" colspan=\"1\"><div style=\"text-align: left;\"></div></td><td style=\"white-space: nowrap; max-width: 500px; overflow: hidden; text-overflow: ellipsis; \" colspan=\"1\"><div style=\"text-align: left;\"></div></td><td style=\"white-space: nowrap; max-width: 500px; overflow: hidden; text-overflow: ellipsis; \" colspan=\"31\"><div style=\"text-align: left;border-bottom: solid 2px #000; padding-bottom: 5px\">info</div></td><td style=\"white-space: nowrap; max-width: 500px; overflow: hidden; text-overflow: ellipsis; \" colspan=\"1\"><div style=\"text-align: left;\"></div></td><td style=\"white-space: nowrap; max-width: 500px; overflow: hidden; text-overflow: ellipsis; \" colspan=\"1\"><div style=\"text-align: left;\"></div></td><td style=\"white-space: nowrap; max-width: 500px; overflow: hidden; text-overflow: ellipsis; \" colspan=\"4\"><div style=\"text-align: left;border-bottom: solid 2px #000; padding-bottom: 5px\">dp_stats</div></td><td style=\"white-space: nowrap; max-width: 500px; overflow: hidden; text-overflow: ellipsis; \" colspan=\"4\"><div style=\"text-align: left;border-bottom: solid 2px #000; padding-bottom: 5px\">gq_stats</div></td><td style=\"white-space: nowrap; max-width: 500px; overflow: hidden; text-overflow: ellipsis; \" colspan=\"1\"><div style=\"text-align: left;\"></div></td><td style=\"white-space: nowrap; max-width: 500px; overflow: hidden; text-overflow: ellipsis; \" colspan=\"1\"><div style=\"text-align: left;\"></div></td><td style=\"white-space: nowrap; max-width: 500px; overflow: hidden; text-overflow: ellipsis; \" colspan=\"1\"><div style=\"text-align: left;\"></div></td><td style=\"white-space: nowrap; max-width: 500px; overflow: hidden; text-overflow: ellipsis; \" colspan=\"1\"><div style=\"text-align: left;\"></div></td><td style=\"white-space: nowrap; max-width: 500px; overflow: hidden; text-overflow: ellipsis; \" colspan=\"1\"><div style=\"text-align: left;\"></div></td><td style=\"white-space: nowrap; max-width: 500px; overflow: hidden; text-overflow: ellipsis; \" colspan=\"1\"><div style=\"text-align: left;\"></div></td><td style=\"white-space: nowrap; max-width: 500px; overflow: hidden; text-overflow: ellipsis; \" colspan=\"1\"><div style=\"text-align: left;\"></div></td><td style=\"white-space: nowrap; max-width: 500px; overflow: hidden; text-overflow: ellipsis; \" colspan=\"1\"><div style=\"text-align: left;\"></div></td><td style=\"white-space: nowrap; max-width: 500px; overflow: hidden; text-overflow: ellipsis; \" colspan=\"1\"><div style=\"text-align: left;\"></div></td><td style=\"white-space: nowrap; max-width: 500px; overflow: hidden; text-overflow: ellipsis; \" colspan=\"1\"><div style=\"text-align: left;\"></div></td><td style=\"white-space: nowrap; max-width: 500px; overflow: hidden; text-overflow: ellipsis; \" colspan=\"1\"><div style=\"text-align: left;\"></div></td><td style=\"white-space: nowrap; max-width: 500px; overflow: hidden; text-overflow: ellipsis; \" colspan=\"1\"><div style=\"text-align: left;\"></div></td><td style=\"white-space: nowrap; max-width: 500px; overflow: hidden; text-overflow: ellipsis; \" colspan=\"1\"><div style=\"text-align: left;\"></div></td><td style=\"white-space: nowrap; max-width: 500px; overflow: hidden; text-overflow: ellipsis; \" colspan=\"1\"><div style=\"text-align: left;\"></div></td><td style=\"white-space: nowrap; max-width: 500px; overflow: hidden; text-overflow: ellipsis; \" colspan=\"1\"><div style=\"text-align: left;\"></div></td><td style=\"white-space: nowrap; max-width: 500px; overflow: hidden; text-overflow: ellipsis; \" colspan=\"1\"><div style=\"text-align: left;\"></div></td><td style=\"white-space: nowrap; max-width: 500px; overflow: hidden; text-overflow: ellipsis; \" colspan=\"1\"><div style=\"text-align: left;\"></div></td><td style=\"white-space: nowrap; max-width: 500px; overflow: hidden; text-overflow: ellipsis; \" colspan=\"1\"><div style=\"text-align: left;\"></div></td><td style=\"white-space: nowrap; max-width: 500px; overflow: hidden; text-overflow: ellipsis; \" colspan=\"1\"><div style=\"text-align: left;\"></div></td><td style=\"white-space: nowrap; max-width: 500px; overflow: hidden; text-overflow: ellipsis; \" colspan=\"1\"><div style=\"text-align: left;\"></div></td><td style=\"white-space: nowrap; max-width: 500px; overflow: hidden; text-overflow: ellipsis; \" colspan=\"1\"><div style=\"text-align: left;\"></div></td><td style=\"white-space: nowrap; max-width: 500px; overflow: hidden; text-overflow: ellipsis; \" colspan=\"1\"><div style=\"text-align: left;\"></div></td><td style=\"white-space: nowrap; max-width: 500px; overflow: hidden; text-overflow: ellipsis; \" colspan=\"1\"><div style=\"text-align: left;\"></div></td><td style=\"white-space: nowrap; max-width: 500px; overflow: hidden; text-overflow: ellipsis; \" colspan=\"1\"><div style=\"text-align: left;\"></div></td><td style=\"white-space: nowrap; max-width: 500px; overflow: hidden; text-overflow: ellipsis; \" colspan=\"1\"><div style=\"text-align: left;\"></div></td></tr><tr><td style=\"white-space: nowrap; max-width: 500px; overflow: hidden; text-overflow: ellipsis; \" colspan=\"1\"><div style=\"text-align: left;border-bottom: solid 2px #000; padding-bottom: 5px\">locus</div></td><td style=\"white-space: nowrap; max-width: 500px; overflow: hidden; text-overflow: ellipsis; \" colspan=\"1\"><div style=\"text-align: left;border-bottom: solid 2px #000; padding-bottom: 5px\">alleles</div></td><td style=\"white-space: nowrap; max-width: 500px; overflow: hidden; text-overflow: ellipsis; \" colspan=\"1\"><div style=\"text-align: left;border-bottom: solid 2px #000; padding-bottom: 5px\">rsid</div></td><td style=\"white-space: nowrap; max-width: 500px; overflow: hidden; text-overflow: ellipsis; \" colspan=\"1\"><div style=\"text-align: left;border-bottom: solid 2px #000; padding-bottom: 5px\">qual</div></td><td style=\"white-space: nowrap; max-width: 500px; overflow: hidden; text-overflow: ellipsis; \" colspan=\"1\"><div style=\"text-align: left;border-bottom: solid 2px #000; padding-bottom: 5px\">filters</div></td><td style=\"white-space: nowrap; max-width: 500px; overflow: hidden; text-overflow: ellipsis; \" colspan=\"1\"><div style=\"text-align: left;border-bottom: solid 2px #000; padding-bottom: 5px\">AC</div></td><td style=\"white-space: nowrap; max-width: 500px; overflow: hidden; text-overflow: ellipsis; \" colspan=\"1\"><div style=\"text-align: left;border-bottom: solid 2px #000; padding-bottom: 5px\">AF</div></td><td style=\"white-space: nowrap; max-width: 500px; overflow: hidden; text-overflow: ellipsis; \" colspan=\"1\"><div style=\"text-align: left;border-bottom: solid 2px #000; padding-bottom: 5px\">AN</div></td><td style=\"white-space: nowrap; max-width: 500px; overflow: hidden; text-overflow: ellipsis; \" colspan=\"1\"><div style=\"text-align: left;border-bottom: solid 2px #000; padding-bottom: 5px\">AS_BaseQRankSum</div></td><td style=\"white-space: nowrap; max-width: 500px; overflow: hidden; text-overflow: ellipsis; \" colspan=\"1\"><div style=\"text-align: left;border-bottom: solid 2px #000; padding-bottom: 5px\">AS_FS</div></td><td style=\"white-space: nowrap; max-width: 500px; overflow: hidden; text-overflow: ellipsis; \" colspan=\"1\"><div style=\"text-align: left;border-bottom: solid 2px #000; padding-bottom: 5px\">AS_InbreedingCoeff</div></td><td style=\"white-space: nowrap; max-width: 500px; overflow: hidden; text-overflow: ellipsis; \" colspan=\"1\"><div style=\"text-align: left;border-bottom: solid 2px #000; padding-bottom: 5px\">AS_MQ</div></td><td style=\"white-space: nowrap; max-width: 500px; overflow: hidden; text-overflow: ellipsis; \" colspan=\"1\"><div style=\"text-align: left;border-bottom: solid 2px #000; padding-bottom: 5px\">AS_MQRankSum</div></td><td style=\"white-space: nowrap; max-width: 500px; overflow: hidden; text-overflow: ellipsis; \" colspan=\"1\"><div style=\"text-align: left;border-bottom: solid 2px #000; padding-bottom: 5px\">AS_QD</div></td><td style=\"white-space: nowrap; max-width: 500px; overflow: hidden; text-overflow: ellipsis; \" colspan=\"1\"><div style=\"text-align: left;border-bottom: solid 2px #000; padding-bottom: 5px\">AS_RAW_BaseQRankSum</div></td><td style=\"white-space: nowrap; max-width: 500px; overflow: hidden; text-overflow: ellipsis; \" colspan=\"1\"><div style=\"text-align: left;border-bottom: solid 2px #000; padding-bottom: 5px\">AS_RAW_MQ</div></td><td style=\"white-space: nowrap; max-width: 500px; overflow: hidden; text-overflow: ellipsis; \" colspan=\"1\"><div style=\"text-align: left;border-bottom: solid 2px #000; padding-bottom: 5px\">AS_RAW_MQRankSum</div></td><td style=\"white-space: nowrap; max-width: 500px; overflow: hidden; text-overflow: ellipsis; \" colspan=\"1\"><div style=\"text-align: left;border-bottom: solid 2px #000; padding-bottom: 5px\">AS_RAW_ReadPosRankSum</div></td><td style=\"white-space: nowrap; max-width: 500px; overflow: hidden; text-overflow: ellipsis; \" colspan=\"1\"><div style=\"text-align: left;border-bottom: solid 2px #000; padding-bottom: 5px\">AS_ReadPosRankSum</div></td><td style=\"white-space: nowrap; max-width: 500px; overflow: hidden; text-overflow: ellipsis; \" colspan=\"1\"><div style=\"text-align: left;border-bottom: solid 2px #000; padding-bottom: 5px\">AS_SB_TABLE</div></td><td style=\"white-space: nowrap; max-width: 500px; overflow: hidden; text-overflow: ellipsis; \" colspan=\"1\"><div style=\"text-align: left;border-bottom: solid 2px #000; padding-bottom: 5px\">AS_SOR</div></td><td style=\"white-space: nowrap; max-width: 500px; overflow: hidden; text-overflow: ellipsis; \" colspan=\"1\"><div style=\"text-align: left;border-bottom: solid 2px #000; padding-bottom: 5px\">BaseQRankSum</div></td><td style=\"white-space: nowrap; max-width: 500px; overflow: hidden; text-overflow: ellipsis; \" colspan=\"1\"><div style=\"text-align: left;border-bottom: solid 2px #000; padding-bottom: 5px\">DB</div></td><td style=\"white-space: nowrap; max-width: 500px; overflow: hidden; text-overflow: ellipsis; \" colspan=\"1\"><div style=\"text-align: left;border-bottom: solid 2px #000; padding-bottom: 5px\">DP</div></td><td style=\"white-space: nowrap; max-width: 500px; overflow: hidden; text-overflow: ellipsis; \" colspan=\"1\"><div style=\"text-align: left;border-bottom: solid 2px #000; padding-bottom: 5px\">END</div></td><td style=\"white-space: nowrap; max-width: 500px; overflow: hidden; text-overflow: ellipsis; \" colspan=\"1\"><div style=\"text-align: left;border-bottom: solid 2px #000; padding-bottom: 5px\">ExcessHet</div></td><td style=\"white-space: nowrap; max-width: 500px; overflow: hidden; text-overflow: ellipsis; \" colspan=\"1\"><div style=\"text-align: left;border-bottom: solid 2px #000; padding-bottom: 5px\">FS</div></td><td style=\"white-space: nowrap; max-width: 500px; overflow: hidden; text-overflow: ellipsis; \" colspan=\"1\"><div style=\"text-align: left;border-bottom: solid 2px #000; padding-bottom: 5px\">InbreedingCoeff</div></td><td style=\"white-space: nowrap; max-width: 500px; overflow: hidden; text-overflow: ellipsis; \" colspan=\"1\"><div style=\"text-align: left;border-bottom: solid 2px #000; padding-bottom: 5px\">MLEAC</div></td><td style=\"white-space: nowrap; max-width: 500px; overflow: hidden; text-overflow: ellipsis; \" colspan=\"1\"><div style=\"text-align: left;border-bottom: solid 2px #000; padding-bottom: 5px\">MLEAF</div></td><td style=\"white-space: nowrap; max-width: 500px; overflow: hidden; text-overflow: ellipsis; \" colspan=\"1\"><div style=\"text-align: left;border-bottom: solid 2px #000; padding-bottom: 5px\">MQ</div></td><td style=\"white-space: nowrap; max-width: 500px; overflow: hidden; text-overflow: ellipsis; \" colspan=\"1\"><div style=\"text-align: left;border-bottom: solid 2px #000; padding-bottom: 5px\">MQRankSum</div></td><td style=\"white-space: nowrap; max-width: 500px; overflow: hidden; text-overflow: ellipsis; \" colspan=\"1\"><div style=\"text-align: left;border-bottom: solid 2px #000; padding-bottom: 5px\">QD</div></td><td style=\"white-space: nowrap; max-width: 500px; overflow: hidden; text-overflow: ellipsis; \" colspan=\"1\"><div style=\"text-align: left;border-bottom: solid 2px #000; padding-bottom: 5px\">RAW_MQandDP</div></td><td style=\"white-space: nowrap; max-width: 500px; overflow: hidden; text-overflow: ellipsis; \" colspan=\"1\"><div style=\"text-align: left;border-bottom: solid 2px #000; padding-bottom: 5px\">ReadPosRankSum</div></td><td style=\"white-space: nowrap; max-width: 500px; overflow: hidden; text-overflow: ellipsis; \" colspan=\"1\"><div style=\"text-align: left;border-bottom: solid 2px #000; padding-bottom: 5px\">SOR</div></td><td style=\"white-space: nowrap; max-width: 500px; overflow: hidden; text-overflow: ellipsis; \" colspan=\"1\"><div style=\"text-align: left;border-bottom: solid 2px #000; padding-bottom: 5px\">a_index</div></td><td style=\"white-space: nowrap; max-width: 500px; overflow: hidden; text-overflow: ellipsis; \" colspan=\"1\"><div style=\"text-align: left;border-bottom: solid 2px #000; padding-bottom: 5px\">was_split</div></td><td style=\"white-space: nowrap; max-width: 500px; overflow: hidden; text-overflow: ellipsis; \" colspan=\"1\"><div style=\"text-align: left;border-bottom: solid 2px #000; padding-bottom: 5px\">mean</div></td><td style=\"white-space: nowrap; max-width: 500px; overflow: hidden; text-overflow: ellipsis; \" colspan=\"1\"><div style=\"text-align: left;border-bottom: solid 2px #000; padding-bottom: 5px\">stdev</div></td><td style=\"white-space: nowrap; max-width: 500px; overflow: hidden; text-overflow: ellipsis; \" colspan=\"1\"><div style=\"text-align: left;border-bottom: solid 2px #000; padding-bottom: 5px\">min</div></td><td style=\"white-space: nowrap; max-width: 500px; overflow: hidden; text-overflow: ellipsis; \" colspan=\"1\"><div style=\"text-align: left;border-bottom: solid 2px #000; padding-bottom: 5px\">max</div></td><td style=\"white-space: nowrap; max-width: 500px; overflow: hidden; text-overflow: ellipsis; \" colspan=\"1\"><div style=\"text-align: left;border-bottom: solid 2px #000; padding-bottom: 5px\">mean</div></td><td style=\"white-space: nowrap; max-width: 500px; overflow: hidden; text-overflow: ellipsis; \" colspan=\"1\"><div style=\"text-align: left;border-bottom: solid 2px #000; padding-bottom: 5px\">stdev</div></td><td style=\"white-space: nowrap; max-width: 500px; overflow: hidden; text-overflow: ellipsis; \" colspan=\"1\"><div style=\"text-align: left;border-bottom: solid 2px #000; padding-bottom: 5px\">min</div></td><td style=\"white-space: nowrap; max-width: 500px; overflow: hidden; text-overflow: ellipsis; \" colspan=\"1\"><div style=\"text-align: left;border-bottom: solid 2px #000; padding-bottom: 5px\">max</div></td><td style=\"white-space: nowrap; max-width: 500px; overflow: hidden; text-overflow: ellipsis; \" colspan=\"1\"><div style=\"text-align: left;border-bottom: solid 2px #000; padding-bottom: 5px\">AC</div></td><td style=\"white-space: nowrap; max-width: 500px; overflow: hidden; text-overflow: ellipsis; \" colspan=\"1\"><div style=\"text-align: left;border-bottom: solid 2px #000; padding-bottom: 5px\">AF</div></td><td style=\"white-space: nowrap; max-width: 500px; overflow: hidden; text-overflow: ellipsis; \" colspan=\"1\"><div style=\"text-align: left;border-bottom: solid 2px #000; padding-bottom: 5px\">AN</div></td><td style=\"white-space: nowrap; max-width: 500px; overflow: hidden; text-overflow: ellipsis; \" colspan=\"1\"><div style=\"text-align: left;border-bottom: solid 2px #000; padding-bottom: 5px\">homozygote_count</div></td><td style=\"white-space: nowrap; max-width: 500px; overflow: hidden; text-overflow: ellipsis; \" colspan=\"1\"><div style=\"text-align: left;border-bottom: solid 2px #000; padding-bottom: 5px\">call_rate</div></td><td style=\"white-space: nowrap; max-width: 500px; overflow: hidden; text-overflow: ellipsis; \" colspan=\"1\"><div style=\"text-align: left;border-bottom: solid 2px #000; padding-bottom: 5px\">n_called</div></td><td style=\"white-space: nowrap; max-width: 500px; overflow: hidden; text-overflow: ellipsis; \" colspan=\"1\"><div style=\"text-align: left;border-bottom: solid 2px #000; padding-bottom: 5px\">n_not_called</div></td><td style=\"white-space: nowrap; max-width: 500px; overflow: hidden; text-overflow: ellipsis; \" colspan=\"1\"><div style=\"text-align: left;border-bottom: solid 2px #000; padding-bottom: 5px\">n_filtered</div></td><td style=\"white-space: nowrap; max-width: 500px; overflow: hidden; text-overflow: ellipsis; \" colspan=\"1\"><div style=\"text-align: left;border-bottom: solid 2px #000; padding-bottom: 5px\">n_het</div></td><td style=\"white-space: nowrap; max-width: 500px; overflow: hidden; text-overflow: ellipsis; \" colspan=\"1\"><div style=\"text-align: left;border-bottom: solid 2px #000; padding-bottom: 5px\">n_non_ref</div></td><td style=\"white-space: nowrap; max-width: 500px; overflow: hidden; text-overflow: ellipsis; \" colspan=\"1\"><div style=\"text-align: left;border-bottom: solid 2px #000; padding-bottom: 5px\">het_freq_hwe</div></td><td style=\"white-space: nowrap; max-width: 500px; overflow: hidden; text-overflow: ellipsis; \" colspan=\"1\"><div style=\"text-align: left;border-bottom: solid 2px #000; padding-bottom: 5px\">p_value_hwe</div></td><td style=\"white-space: nowrap; max-width: 500px; overflow: hidden; text-overflow: ellipsis; \" colspan=\"1\"><div style=\"text-align: left;border-bottom: solid 2px #000; padding-bottom: 5px\">p_value_excess_het</div></td><td style=\"white-space: nowrap; max-width: 500px; overflow: hidden; text-overflow: ellipsis; \" colspan=\"1\"><div style=\"text-align: left;border-bottom: solid 2px #000; padding-bottom: 5px\">s</div></td><td style=\"white-space: nowrap; max-width: 500px; overflow: hidden; text-overflow: ellipsis; \" colspan=\"1\"><div style=\"text-align: left;border-bottom: solid 2px #000; padding-bottom: 5px\">AD</div></td><td style=\"white-space: nowrap; max-width: 500px; overflow: hidden; text-overflow: ellipsis; \" colspan=\"1\"><div style=\"text-align: left;border-bottom: solid 2px #000; padding-bottom: 5px\">DP</div></td><td style=\"white-space: nowrap; max-width: 500px; overflow: hidden; text-overflow: ellipsis; \" colspan=\"1\"><div style=\"text-align: left;border-bottom: solid 2px #000; padding-bottom: 5px\">GQ</div></td><td style=\"white-space: nowrap; max-width: 500px; overflow: hidden; text-overflow: ellipsis; \" colspan=\"1\"><div style=\"text-align: left;border-bottom: solid 2px #000; padding-bottom: 5px\">GT</div></td><td style=\"white-space: nowrap; max-width: 500px; overflow: hidden; text-overflow: ellipsis; \" colspan=\"1\"><div style=\"text-align: left;border-bottom: solid 2px #000; padding-bottom: 5px\">MIN_DP</div></td><td style=\"white-space: nowrap; max-width: 500px; overflow: hidden; text-overflow: ellipsis; \" colspan=\"1\"><div style=\"text-align: left;border-bottom: solid 2px #000; padding-bottom: 5px\">PGT</div></td><td style=\"white-space: nowrap; max-width: 500px; overflow: hidden; text-overflow: ellipsis; \" colspan=\"1\"><div style=\"text-align: left;border-bottom: solid 2px #000; padding-bottom: 5px\">PID</div></td><td style=\"white-space: nowrap; max-width: 500px; overflow: hidden; text-overflow: ellipsis; \" colspan=\"1\"><div style=\"text-align: left;border-bottom: solid 2px #000; padding-bottom: 5px\">PL</div></td><td style=\"white-space: nowrap; max-width: 500px; overflow: hidden; text-overflow: ellipsis; \" colspan=\"1\"><div style=\"text-align: left;border-bottom: solid 2px #000; padding-bottom: 5px\">PS</div></td><td style=\"white-space: nowrap; max-width: 500px; overflow: hidden; text-overflow: ellipsis; \" colspan=\"1\"><div style=\"text-align: left;border-bottom: solid 2px #000; padding-bottom: 5px\">RGQ</div></td><td style=\"white-space: nowrap; max-width: 500px; overflow: hidden; text-overflow: ellipsis; \" colspan=\"1\"><div style=\"text-align: left;border-bottom: solid 2px #000; padding-bottom: 5px\">SB</div></td></tr><tr><td style=\"white-space: nowrap; max-width: 500px; overflow: hidden; text-overflow: ellipsis; text-align: left;\">locus&lt;GRCh38&gt;</td><td style=\"white-space: nowrap; max-width: 500px; overflow: hidden; text-overflow: ellipsis; text-align: left;\">array&lt;str&gt;</td><td style=\"white-space: nowrap; max-width: 500px; overflow: hidden; text-overflow: ellipsis; text-align: left;\">str</td><td style=\"white-space: nowrap; max-width: 500px; overflow: hidden; text-overflow: ellipsis; text-align: left;\">float64</td><td style=\"white-space: nowrap; max-width: 500px; overflow: hidden; text-overflow: ellipsis; text-align: left;\">set&lt;str&gt;</td><td style=\"white-space: nowrap; max-width: 500px; overflow: hidden; text-overflow: ellipsis; text-align: left;\">array&lt;int32&gt;</td><td style=\"white-space: nowrap; max-width: 500px; overflow: hidden; text-overflow: ellipsis; text-align: left;\">array&lt;float64&gt;</td><td style=\"white-space: nowrap; max-width: 500px; overflow: hidden; text-overflow: ellipsis; text-align: left;\">int32</td><td style=\"white-space: nowrap; max-width: 500px; overflow: hidden; text-overflow: ellipsis; text-align: left;\">array&lt;float64&gt;</td><td style=\"white-space: nowrap; max-width: 500px; overflow: hidden; text-overflow: ellipsis; text-align: left;\">array&lt;float64&gt;</td><td style=\"white-space: nowrap; max-width: 500px; overflow: hidden; text-overflow: ellipsis; text-align: left;\">array&lt;float64&gt;</td><td style=\"white-space: nowrap; max-width: 500px; overflow: hidden; text-overflow: ellipsis; text-align: left;\">array&lt;float64&gt;</td><td style=\"white-space: nowrap; max-width: 500px; overflow: hidden; text-overflow: ellipsis; text-align: left;\">array&lt;float64&gt;</td><td style=\"white-space: nowrap; max-width: 500px; overflow: hidden; text-overflow: ellipsis; text-align: left;\">array&lt;float64&gt;</td><td style=\"white-space: nowrap; max-width: 500px; overflow: hidden; text-overflow: ellipsis; text-align: left;\">str</td><td style=\"white-space: nowrap; max-width: 500px; overflow: hidden; text-overflow: ellipsis; text-align: left;\">str</td><td style=\"white-space: nowrap; max-width: 500px; overflow: hidden; text-overflow: ellipsis; text-align: left;\">str</td><td style=\"white-space: nowrap; max-width: 500px; overflow: hidden; text-overflow: ellipsis; text-align: left;\">str</td><td style=\"white-space: nowrap; max-width: 500px; overflow: hidden; text-overflow: ellipsis; text-align: left;\">array&lt;float64&gt;</td><td style=\"white-space: nowrap; max-width: 500px; overflow: hidden; text-overflow: ellipsis; text-align: left;\">str</td><td style=\"white-space: nowrap; max-width: 500px; overflow: hidden; text-overflow: ellipsis; text-align: left;\">array&lt;float64&gt;</td><td style=\"white-space: nowrap; max-width: 500px; overflow: hidden; text-overflow: ellipsis; text-align: left;\">float64</td><td style=\"white-space: nowrap; max-width: 500px; overflow: hidden; text-overflow: ellipsis; text-align: left;\">bool</td><td style=\"white-space: nowrap; max-width: 500px; overflow: hidden; text-overflow: ellipsis; text-align: left;\">int32</td><td style=\"white-space: nowrap; max-width: 500px; overflow: hidden; text-overflow: ellipsis; text-align: left;\">int32</td><td style=\"white-space: nowrap; max-width: 500px; overflow: hidden; text-overflow: ellipsis; text-align: left;\">float64</td><td style=\"white-space: nowrap; max-width: 500px; overflow: hidden; text-overflow: ellipsis; text-align: left;\">float64</td><td style=\"white-space: nowrap; max-width: 500px; overflow: hidden; text-overflow: ellipsis; text-align: left;\">float64</td><td style=\"white-space: nowrap; max-width: 500px; overflow: hidden; text-overflow: ellipsis; text-align: left;\">array&lt;int32&gt;</td><td style=\"white-space: nowrap; max-width: 500px; overflow: hidden; text-overflow: ellipsis; text-align: left;\">array&lt;float64&gt;</td><td style=\"white-space: nowrap; max-width: 500px; overflow: hidden; text-overflow: ellipsis; text-align: left;\">float64</td><td style=\"white-space: nowrap; max-width: 500px; overflow: hidden; text-overflow: ellipsis; text-align: left;\">float64</td><td style=\"white-space: nowrap; max-width: 500px; overflow: hidden; text-overflow: ellipsis; text-align: left;\">float64</td><td style=\"white-space: nowrap; max-width: 500px; overflow: hidden; text-overflow: ellipsis; text-align: left;\">array&lt;int32&gt;</td><td style=\"white-space: nowrap; max-width: 500px; overflow: hidden; text-overflow: ellipsis; text-align: left;\">float64</td><td style=\"white-space: nowrap; max-width: 500px; overflow: hidden; text-overflow: ellipsis; text-align: left;\">float64</td><td style=\"white-space: nowrap; max-width: 500px; overflow: hidden; text-overflow: ellipsis; text-align: left;\">int32</td><td style=\"white-space: nowrap; max-width: 500px; overflow: hidden; text-overflow: ellipsis; text-align: left;\">bool</td><td style=\"white-space: nowrap; max-width: 500px; overflow: hidden; text-overflow: ellipsis; text-align: left;\">float64</td><td style=\"white-space: nowrap; max-width: 500px; overflow: hidden; text-overflow: ellipsis; text-align: left;\">float64</td><td style=\"white-space: nowrap; max-width: 500px; overflow: hidden; text-overflow: ellipsis; text-align: left;\">float64</td><td style=\"white-space: nowrap; max-width: 500px; overflow: hidden; text-overflow: ellipsis; text-align: left;\">float64</td><td style=\"white-space: nowrap; max-width: 500px; overflow: hidden; text-overflow: ellipsis; text-align: left;\">float64</td><td style=\"white-space: nowrap; max-width: 500px; overflow: hidden; text-overflow: ellipsis; text-align: left;\">float64</td><td style=\"white-space: nowrap; max-width: 500px; overflow: hidden; text-overflow: ellipsis; text-align: left;\">float64</td><td style=\"white-space: nowrap; max-width: 500px; overflow: hidden; text-overflow: ellipsis; text-align: left;\">float64</td><td style=\"white-space: nowrap; max-width: 500px; overflow: hidden; text-overflow: ellipsis; text-align: left;\">array&lt;int32&gt;</td><td style=\"white-space: nowrap; max-width: 500px; overflow: hidden; text-overflow: ellipsis; text-align: left;\">array&lt;float64&gt;</td><td style=\"white-space: nowrap; max-width: 500px; overflow: hidden; text-overflow: ellipsis; text-align: left;\">int32</td><td style=\"white-space: nowrap; max-width: 500px; overflow: hidden; text-overflow: ellipsis; text-align: left;\">array&lt;int32&gt;</td><td style=\"white-space: nowrap; max-width: 500px; overflow: hidden; text-overflow: ellipsis; text-align: left;\">float64</td><td style=\"white-space: nowrap; max-width: 500px; overflow: hidden; text-overflow: ellipsis; text-align: left;\">int64</td><td style=\"white-space: nowrap; max-width: 500px; overflow: hidden; text-overflow: ellipsis; text-align: left;\">int64</td><td style=\"white-space: nowrap; max-width: 500px; overflow: hidden; text-overflow: ellipsis; text-align: left;\">int64</td><td style=\"white-space: nowrap; max-width: 500px; overflow: hidden; text-overflow: ellipsis; text-align: left;\">int64</td><td style=\"white-space: nowrap; max-width: 500px; overflow: hidden; text-overflow: ellipsis; text-align: left;\">int64</td><td style=\"white-space: nowrap; max-width: 500px; overflow: hidden; text-overflow: ellipsis; text-align: left;\">float64</td><td style=\"white-space: nowrap; max-width: 500px; overflow: hidden; text-overflow: ellipsis; text-align: left;\">float64</td><td style=\"white-space: nowrap; max-width: 500px; overflow: hidden; text-overflow: ellipsis; text-align: left;\">float64</td><td style=\"white-space: nowrap; max-width: 500px; overflow: hidden; text-overflow: ellipsis; text-align: left;\">str</td><td style=\"white-space: nowrap; max-width: 500px; overflow: hidden; text-overflow: ellipsis; text-align: left;\">array&lt;int32&gt;</td><td style=\"white-space: nowrap; max-width: 500px; overflow: hidden; text-overflow: ellipsis; text-align: left;\">int32</td><td style=\"white-space: nowrap; max-width: 500px; overflow: hidden; text-overflow: ellipsis; text-align: left;\">int32</td><td style=\"white-space: nowrap; max-width: 500px; overflow: hidden; text-overflow: ellipsis; text-align: left;\">call</td><td style=\"white-space: nowrap; max-width: 500px; overflow: hidden; text-overflow: ellipsis; text-align: left;\">int32</td><td style=\"white-space: nowrap; max-width: 500px; overflow: hidden; text-overflow: ellipsis; text-align: left;\">call</td><td style=\"white-space: nowrap; max-width: 500px; overflow: hidden; text-overflow: ellipsis; text-align: left;\">str</td><td style=\"white-space: nowrap; max-width: 500px; overflow: hidden; text-overflow: ellipsis; text-align: left;\">array&lt;int32&gt;</td><td style=\"white-space: nowrap; max-width: 500px; overflow: hidden; text-overflow: ellipsis; text-align: left;\">int32</td><td style=\"white-space: nowrap; max-width: 500px; overflow: hidden; text-overflow: ellipsis; text-align: left;\">int32</td><td style=\"white-space: nowrap; max-width: 500px; overflow: hidden; text-overflow: ellipsis; text-align: left;\">array&lt;int32&gt;</td></tr>\n",
       "</thead><tbody><tr><td style=\"white-space: nowrap; max-width: 500px; overflow: hidden; text-overflow: ellipsis; \">chr1:69063</td><td style=\"white-space: nowrap; max-width: 500px; overflow: hidden; text-overflow: ellipsis; \">[&quot;T&quot;,&quot;C&quot;]</td><td style=\"white-space: nowrap; max-width: 500px; overflow: hidden; text-overflow: ellipsis; \">NA</td><td style=\"white-space: nowrap; max-width: 500px; overflow: hidden; text-overflow: ellipsis; \">2.63e+04</td><td style=\"white-space: nowrap; max-width: 500px; overflow: hidden; text-overflow: ellipsis; \">NA</td><td style=\"white-space: nowrap; max-width: 500px; overflow: hidden; text-overflow: ellipsis; \">[366]</td><td style=\"white-space: nowrap; max-width: 500px; overflow: hidden; text-overflow: ellipsis; \">[1.20e-02]</td><td style=\"white-space: nowrap; max-width: 500px; overflow: hidden; text-overflow: ellipsis; \">29946</td><td style=\"white-space: nowrap; max-width: 500px; overflow: hidden; text-overflow: ellipsis; \">[0.00e+00]</td><td style=\"white-space: nowrap; max-width: 500px; overflow: hidden; text-overflow: ellipsis; \">[1.21e+02]</td><td style=\"white-space: nowrap; max-width: 500px; overflow: hidden; text-overflow: ellipsis; \">[3.78e-01]</td><td style=\"white-space: nowrap; max-width: 500px; overflow: hidden; text-overflow: ellipsis; \">[2.51e+01]</td><td style=\"white-space: nowrap; max-width: 500px; overflow: hidden; text-overflow: ellipsis; \">[-3.00e-01]</td><td style=\"white-space: nowrap; max-width: 500px; overflow: hidden; text-overflow: ellipsis; \">[9.99e+00]</td><td style=\"white-space: nowrap; max-width: 500px; overflow: hidden; text-overflow: ellipsis; \">NA</td><td style=\"white-space: nowrap; max-width: 500px; overflow: hidden; text-overflow: ellipsis; \">NA</td><td style=\"white-space: nowrap; max-width: 500px; overflow: hidden; text-overflow: ellipsis; \">NA</td><td style=\"white-space: nowrap; max-width: 500px; overflow: hidden; text-overflow: ellipsis; \">NA</td><td style=\"white-space: nowrap; max-width: 500px; overflow: hidden; text-overflow: ellipsis; \">[0.00e+00]</td><td style=\"white-space: nowrap; max-width: 500px; overflow: hidden; text-overflow: ellipsis; \">NA</td><td style=\"white-space: nowrap; max-width: 500px; overflow: hidden; text-overflow: ellipsis; \">[3.35e+00]</td><td style=\"white-space: nowrap; max-width: 500px; overflow: hidden; text-overflow: ellipsis; \">0.00e+00</td><td style=\"white-space: nowrap; max-width: 500px; overflow: hidden; text-overflow: ellipsis; \">False</td><td style=\"white-space: nowrap; max-width: 500px; overflow: hidden; text-overflow: ellipsis; \">21298</td><td style=\"white-space: nowrap; max-width: 500px; overflow: hidden; text-overflow: ellipsis; \">NA</td><td style=\"white-space: nowrap; max-width: 500px; overflow: hidden; text-overflow: ellipsis; \">0.00e+00</td><td style=\"white-space: nowrap; max-width: 500px; overflow: hidden; text-overflow: ellipsis; \">1.21e+02</td><td style=\"white-space: nowrap; max-width: 500px; overflow: hidden; text-overflow: ellipsis; \">3.78e-01</td><td style=\"white-space: nowrap; max-width: 500px; overflow: hidden; text-overflow: ellipsis; \">[2347]</td><td style=\"white-space: nowrap; max-width: 500px; overflow: hidden; text-overflow: ellipsis; \">[7.80e-02]</td><td style=\"white-space: nowrap; max-width: 500px; overflow: hidden; text-overflow: ellipsis; \">2.68e+01</td><td style=\"white-space: nowrap; max-width: 500px; overflow: hidden; text-overflow: ellipsis; \">-2.53e-01</td><td style=\"white-space: nowrap; max-width: 500px; overflow: hidden; text-overflow: ellipsis; \">9.99e+00</td><td style=\"white-space: nowrap; max-width: 500px; overflow: hidden; text-overflow: ellipsis; \">NA</td><td style=\"white-space: nowrap; max-width: 500px; overflow: hidden; text-overflow: ellipsis; \">0.00e+00</td><td style=\"white-space: nowrap; max-width: 500px; overflow: hidden; text-overflow: ellipsis; \">3.43e+00</td><td style=\"white-space: nowrap; max-width: 500px; overflow: hidden; text-overflow: ellipsis; \">1</td><td style=\"white-space: nowrap; max-width: 500px; overflow: hidden; text-overflow: ellipsis; \">False</td><td style=\"white-space: nowrap; max-width: 500px; overflow: hidden; text-overflow: ellipsis; \">2.79e-03</td><td style=\"white-space: nowrap; max-width: 500px; overflow: hidden; text-overflow: ellipsis; \">9.15e-02</td><td style=\"white-space: nowrap; max-width: 500px; overflow: hidden; text-overflow: ellipsis; \">0.00e+00</td><td style=\"white-space: nowrap; max-width: 500px; overflow: hidden; text-overflow: ellipsis; \">4.00e+00</td><td style=\"white-space: nowrap; max-width: 500px; overflow: hidden; text-overflow: ellipsis; \">7.18e-03</td><td style=\"white-space: nowrap; max-width: 500px; overflow: hidden; text-overflow: ellipsis; \">2.68e-01</td><td style=\"white-space: nowrap; max-width: 500px; overflow: hidden; text-overflow: ellipsis; \">0.00e+00</td><td style=\"white-space: nowrap; max-width: 500px; overflow: hidden; text-overflow: ellipsis; \">1.20e+01</td><td style=\"white-space: nowrap; max-width: 500px; overflow: hidden; text-overflow: ellipsis; \">[5010,2]</td><td style=\"white-space: nowrap; max-width: 500px; overflow: hidden; text-overflow: ellipsis; \">[1.00e+00,3.99e-04]</td><td style=\"white-space: nowrap; max-width: 500px; overflow: hidden; text-overflow: ellipsis; \">5012</td><td style=\"white-space: nowrap; max-width: 500px; overflow: hidden; text-overflow: ellipsis; \">[2505,1]</td><td style=\"white-space: nowrap; max-width: 500px; overflow: hidden; text-overflow: ellipsis; \">1.00e+00</td><td style=\"white-space: nowrap; max-width: 500px; overflow: hidden; text-overflow: ellipsis; \">2506</td><td style=\"white-space: nowrap; max-width: 500px; overflow: hidden; text-overflow: ellipsis; \">0</td><td style=\"white-space: nowrap; max-width: 500px; overflow: hidden; text-overflow: ellipsis; \">0</td><td style=\"white-space: nowrap; max-width: 500px; overflow: hidden; text-overflow: ellipsis; \">0</td><td style=\"white-space: nowrap; max-width: 500px; overflow: hidden; text-overflow: ellipsis; \">1</td><td style=\"white-space: nowrap; max-width: 500px; overflow: hidden; text-overflow: ellipsis; \">7.98e-04</td><td style=\"white-space: nowrap; max-width: 500px; overflow: hidden; text-overflow: ellipsis; \">9.98e-05</td><td style=\"white-space: nowrap; max-width: 500px; overflow: hidden; text-overflow: ellipsis; \">1.00e+00</td><td style=\"white-space: nowrap; max-width: 500px; overflow: hidden; text-overflow: ellipsis; \">&quot;EGAN00003143336&quot;</td><td style=\"white-space: nowrap; max-width: 500px; overflow: hidden; text-overflow: ellipsis; \">[0,0]</td><td style=\"white-space: nowrap; max-width: 500px; overflow: hidden; text-overflow: ellipsis; \">0</td><td style=\"white-space: nowrap; max-width: 500px; overflow: hidden; text-overflow: ellipsis; \">0</td><td style=\"white-space: nowrap; max-width: 500px; overflow: hidden; text-overflow: ellipsis; \">0/0</td><td style=\"white-space: nowrap; max-width: 500px; overflow: hidden; text-overflow: ellipsis; \">NA</td><td style=\"white-space: nowrap; max-width: 500px; overflow: hidden; text-overflow: ellipsis; \">NA</td><td style=\"white-space: nowrap; max-width: 500px; overflow: hidden; text-overflow: ellipsis; \">NA</td><td style=\"white-space: nowrap; max-width: 500px; overflow: hidden; text-overflow: ellipsis; \">[0,0,0]</td><td style=\"white-space: nowrap; max-width: 500px; overflow: hidden; text-overflow: ellipsis; \">NA</td><td style=\"white-space: nowrap; max-width: 500px; overflow: hidden; text-overflow: ellipsis; \">NA</td><td style=\"white-space: nowrap; max-width: 500px; overflow: hidden; text-overflow: ellipsis; \">NA</td></tr>\n",
       "<tr><td style=\"white-space: nowrap; max-width: 500px; overflow: hidden; text-overflow: ellipsis; \">chr1:69063</td><td style=\"white-space: nowrap; max-width: 500px; overflow: hidden; text-overflow: ellipsis; \">[&quot;T&quot;,&quot;C&quot;]</td><td style=\"white-space: nowrap; max-width: 500px; overflow: hidden; text-overflow: ellipsis; \">NA</td><td style=\"white-space: nowrap; max-width: 500px; overflow: hidden; text-overflow: ellipsis; \">2.63e+04</td><td style=\"white-space: nowrap; max-width: 500px; overflow: hidden; text-overflow: ellipsis; \">NA</td><td style=\"white-space: nowrap; max-width: 500px; overflow: hidden; text-overflow: ellipsis; \">[366]</td><td style=\"white-space: nowrap; max-width: 500px; overflow: hidden; text-overflow: ellipsis; \">[1.20e-02]</td><td style=\"white-space: nowrap; max-width: 500px; overflow: hidden; text-overflow: ellipsis; \">29946</td><td style=\"white-space: nowrap; max-width: 500px; overflow: hidden; text-overflow: ellipsis; \">[0.00e+00]</td><td style=\"white-space: nowrap; max-width: 500px; overflow: hidden; text-overflow: ellipsis; \">[1.21e+02]</td><td style=\"white-space: nowrap; max-width: 500px; overflow: hidden; text-overflow: ellipsis; \">[3.78e-01]</td><td style=\"white-space: nowrap; max-width: 500px; overflow: hidden; text-overflow: ellipsis; \">[2.51e+01]</td><td style=\"white-space: nowrap; max-width: 500px; overflow: hidden; text-overflow: ellipsis; \">[-3.00e-01]</td><td style=\"white-space: nowrap; max-width: 500px; overflow: hidden; text-overflow: ellipsis; \">[9.99e+00]</td><td style=\"white-space: nowrap; max-width: 500px; overflow: hidden; text-overflow: ellipsis; \">NA</td><td style=\"white-space: nowrap; max-width: 500px; overflow: hidden; text-overflow: ellipsis; \">NA</td><td style=\"white-space: nowrap; max-width: 500px; overflow: hidden; text-overflow: ellipsis; \">NA</td><td style=\"white-space: nowrap; max-width: 500px; overflow: hidden; text-overflow: ellipsis; \">NA</td><td style=\"white-space: nowrap; max-width: 500px; overflow: hidden; text-overflow: ellipsis; \">[0.00e+00]</td><td style=\"white-space: nowrap; max-width: 500px; overflow: hidden; text-overflow: ellipsis; \">NA</td><td style=\"white-space: nowrap; max-width: 500px; overflow: hidden; text-overflow: ellipsis; \">[3.35e+00]</td><td style=\"white-space: nowrap; max-width: 500px; overflow: hidden; text-overflow: ellipsis; \">0.00e+00</td><td style=\"white-space: nowrap; max-width: 500px; overflow: hidden; text-overflow: ellipsis; \">False</td><td style=\"white-space: nowrap; max-width: 500px; overflow: hidden; text-overflow: ellipsis; \">21298</td><td style=\"white-space: nowrap; max-width: 500px; overflow: hidden; text-overflow: ellipsis; \">NA</td><td style=\"white-space: nowrap; max-width: 500px; overflow: hidden; text-overflow: ellipsis; \">0.00e+00</td><td style=\"white-space: nowrap; max-width: 500px; overflow: hidden; text-overflow: ellipsis; \">1.21e+02</td><td style=\"white-space: nowrap; max-width: 500px; overflow: hidden; text-overflow: ellipsis; \">3.78e-01</td><td style=\"white-space: nowrap; max-width: 500px; overflow: hidden; text-overflow: ellipsis; \">[2347]</td><td style=\"white-space: nowrap; max-width: 500px; overflow: hidden; text-overflow: ellipsis; \">[7.80e-02]</td><td style=\"white-space: nowrap; max-width: 500px; overflow: hidden; text-overflow: ellipsis; \">2.68e+01</td><td style=\"white-space: nowrap; max-width: 500px; overflow: hidden; text-overflow: ellipsis; \">-2.53e-01</td><td style=\"white-space: nowrap; max-width: 500px; overflow: hidden; text-overflow: ellipsis; \">9.99e+00</td><td style=\"white-space: nowrap; max-width: 500px; overflow: hidden; text-overflow: ellipsis; \">NA</td><td style=\"white-space: nowrap; max-width: 500px; overflow: hidden; text-overflow: ellipsis; \">0.00e+00</td><td style=\"white-space: nowrap; max-width: 500px; overflow: hidden; text-overflow: ellipsis; \">3.43e+00</td><td style=\"white-space: nowrap; max-width: 500px; overflow: hidden; text-overflow: ellipsis; \">1</td><td style=\"white-space: nowrap; max-width: 500px; overflow: hidden; text-overflow: ellipsis; \">False</td><td style=\"white-space: nowrap; max-width: 500px; overflow: hidden; text-overflow: ellipsis; \">2.79e-03</td><td style=\"white-space: nowrap; max-width: 500px; overflow: hidden; text-overflow: ellipsis; \">9.15e-02</td><td style=\"white-space: nowrap; max-width: 500px; overflow: hidden; text-overflow: ellipsis; \">0.00e+00</td><td style=\"white-space: nowrap; max-width: 500px; overflow: hidden; text-overflow: ellipsis; \">4.00e+00</td><td style=\"white-space: nowrap; max-width: 500px; overflow: hidden; text-overflow: ellipsis; \">7.18e-03</td><td style=\"white-space: nowrap; max-width: 500px; overflow: hidden; text-overflow: ellipsis; \">2.68e-01</td><td style=\"white-space: nowrap; max-width: 500px; overflow: hidden; text-overflow: ellipsis; \">0.00e+00</td><td style=\"white-space: nowrap; max-width: 500px; overflow: hidden; text-overflow: ellipsis; \">1.20e+01</td><td style=\"white-space: nowrap; max-width: 500px; overflow: hidden; text-overflow: ellipsis; \">[5010,2]</td><td style=\"white-space: nowrap; max-width: 500px; overflow: hidden; text-overflow: ellipsis; \">[1.00e+00,3.99e-04]</td><td style=\"white-space: nowrap; max-width: 500px; overflow: hidden; text-overflow: ellipsis; \">5012</td><td style=\"white-space: nowrap; max-width: 500px; overflow: hidden; text-overflow: ellipsis; \">[2505,1]</td><td style=\"white-space: nowrap; max-width: 500px; overflow: hidden; text-overflow: ellipsis; \">1.00e+00</td><td style=\"white-space: nowrap; max-width: 500px; overflow: hidden; text-overflow: ellipsis; \">2506</td><td style=\"white-space: nowrap; max-width: 500px; overflow: hidden; text-overflow: ellipsis; \">0</td><td style=\"white-space: nowrap; max-width: 500px; overflow: hidden; text-overflow: ellipsis; \">0</td><td style=\"white-space: nowrap; max-width: 500px; overflow: hidden; text-overflow: ellipsis; \">0</td><td style=\"white-space: nowrap; max-width: 500px; overflow: hidden; text-overflow: ellipsis; \">1</td><td style=\"white-space: nowrap; max-width: 500px; overflow: hidden; text-overflow: ellipsis; \">7.98e-04</td><td style=\"white-space: nowrap; max-width: 500px; overflow: hidden; text-overflow: ellipsis; \">9.98e-05</td><td style=\"white-space: nowrap; max-width: 500px; overflow: hidden; text-overflow: ellipsis; \">1.00e+00</td><td style=\"white-space: nowrap; max-width: 500px; overflow: hidden; text-overflow: ellipsis; \">&quot;EGAN00003143339&quot;</td><td style=\"white-space: nowrap; max-width: 500px; overflow: hidden; text-overflow: ellipsis; \">[0,0]</td><td style=\"white-space: nowrap; max-width: 500px; overflow: hidden; text-overflow: ellipsis; \">0</td><td style=\"white-space: nowrap; max-width: 500px; overflow: hidden; text-overflow: ellipsis; \">0</td><td style=\"white-space: nowrap; max-width: 500px; overflow: hidden; text-overflow: ellipsis; \">0/0</td><td style=\"white-space: nowrap; max-width: 500px; overflow: hidden; text-overflow: ellipsis; \">NA</td><td style=\"white-space: nowrap; max-width: 500px; overflow: hidden; text-overflow: ellipsis; \">NA</td><td style=\"white-space: nowrap; max-width: 500px; overflow: hidden; text-overflow: ellipsis; \">NA</td><td style=\"white-space: nowrap; max-width: 500px; overflow: hidden; text-overflow: ellipsis; \">[0,0,0]</td><td style=\"white-space: nowrap; max-width: 500px; overflow: hidden; text-overflow: ellipsis; \">NA</td><td style=\"white-space: nowrap; max-width: 500px; overflow: hidden; text-overflow: ellipsis; \">NA</td><td style=\"white-space: nowrap; max-width: 500px; overflow: hidden; text-overflow: ellipsis; \">NA</td></tr>\n",
       "<tr><td style=\"white-space: nowrap; max-width: 500px; overflow: hidden; text-overflow: ellipsis; \">chr1:69063</td><td style=\"white-space: nowrap; max-width: 500px; overflow: hidden; text-overflow: ellipsis; \">[&quot;T&quot;,&quot;C&quot;]</td><td style=\"white-space: nowrap; max-width: 500px; overflow: hidden; text-overflow: ellipsis; \">NA</td><td style=\"white-space: nowrap; max-width: 500px; overflow: hidden; text-overflow: ellipsis; \">2.63e+04</td><td style=\"white-space: nowrap; max-width: 500px; overflow: hidden; text-overflow: ellipsis; \">NA</td><td style=\"white-space: nowrap; max-width: 500px; overflow: hidden; text-overflow: ellipsis; \">[366]</td><td style=\"white-space: nowrap; max-width: 500px; overflow: hidden; text-overflow: ellipsis; \">[1.20e-02]</td><td style=\"white-space: nowrap; max-width: 500px; overflow: hidden; text-overflow: ellipsis; \">29946</td><td style=\"white-space: nowrap; max-width: 500px; overflow: hidden; text-overflow: ellipsis; \">[0.00e+00]</td><td style=\"white-space: nowrap; max-width: 500px; overflow: hidden; text-overflow: ellipsis; \">[1.21e+02]</td><td style=\"white-space: nowrap; max-width: 500px; overflow: hidden; text-overflow: ellipsis; \">[3.78e-01]</td><td style=\"white-space: nowrap; max-width: 500px; overflow: hidden; text-overflow: ellipsis; \">[2.51e+01]</td><td style=\"white-space: nowrap; max-width: 500px; overflow: hidden; text-overflow: ellipsis; \">[-3.00e-01]</td><td style=\"white-space: nowrap; max-width: 500px; overflow: hidden; text-overflow: ellipsis; \">[9.99e+00]</td><td style=\"white-space: nowrap; max-width: 500px; overflow: hidden; text-overflow: ellipsis; \">NA</td><td style=\"white-space: nowrap; max-width: 500px; overflow: hidden; text-overflow: ellipsis; \">NA</td><td style=\"white-space: nowrap; max-width: 500px; overflow: hidden; text-overflow: ellipsis; \">NA</td><td style=\"white-space: nowrap; max-width: 500px; overflow: hidden; text-overflow: ellipsis; \">NA</td><td style=\"white-space: nowrap; max-width: 500px; overflow: hidden; text-overflow: ellipsis; \">[0.00e+00]</td><td style=\"white-space: nowrap; max-width: 500px; overflow: hidden; text-overflow: ellipsis; \">NA</td><td style=\"white-space: nowrap; max-width: 500px; overflow: hidden; text-overflow: ellipsis; \">[3.35e+00]</td><td style=\"white-space: nowrap; max-width: 500px; overflow: hidden; text-overflow: ellipsis; \">0.00e+00</td><td style=\"white-space: nowrap; max-width: 500px; overflow: hidden; text-overflow: ellipsis; \">False</td><td style=\"white-space: nowrap; max-width: 500px; overflow: hidden; text-overflow: ellipsis; \">21298</td><td style=\"white-space: nowrap; max-width: 500px; overflow: hidden; text-overflow: ellipsis; \">NA</td><td style=\"white-space: nowrap; max-width: 500px; overflow: hidden; text-overflow: ellipsis; \">0.00e+00</td><td style=\"white-space: nowrap; max-width: 500px; overflow: hidden; text-overflow: ellipsis; \">1.21e+02</td><td style=\"white-space: nowrap; max-width: 500px; overflow: hidden; text-overflow: ellipsis; \">3.78e-01</td><td style=\"white-space: nowrap; max-width: 500px; overflow: hidden; text-overflow: ellipsis; \">[2347]</td><td style=\"white-space: nowrap; max-width: 500px; overflow: hidden; text-overflow: ellipsis; \">[7.80e-02]</td><td style=\"white-space: nowrap; max-width: 500px; overflow: hidden; text-overflow: ellipsis; \">2.68e+01</td><td style=\"white-space: nowrap; max-width: 500px; overflow: hidden; text-overflow: ellipsis; \">-2.53e-01</td><td style=\"white-space: nowrap; max-width: 500px; overflow: hidden; text-overflow: ellipsis; \">9.99e+00</td><td style=\"white-space: nowrap; max-width: 500px; overflow: hidden; text-overflow: ellipsis; \">NA</td><td style=\"white-space: nowrap; max-width: 500px; overflow: hidden; text-overflow: ellipsis; \">0.00e+00</td><td style=\"white-space: nowrap; max-width: 500px; overflow: hidden; text-overflow: ellipsis; \">3.43e+00</td><td style=\"white-space: nowrap; max-width: 500px; overflow: hidden; text-overflow: ellipsis; \">1</td><td style=\"white-space: nowrap; max-width: 500px; overflow: hidden; text-overflow: ellipsis; \">False</td><td style=\"white-space: nowrap; max-width: 500px; overflow: hidden; text-overflow: ellipsis; \">2.79e-03</td><td style=\"white-space: nowrap; max-width: 500px; overflow: hidden; text-overflow: ellipsis; \">9.15e-02</td><td style=\"white-space: nowrap; max-width: 500px; overflow: hidden; text-overflow: ellipsis; \">0.00e+00</td><td style=\"white-space: nowrap; max-width: 500px; overflow: hidden; text-overflow: ellipsis; \">4.00e+00</td><td style=\"white-space: nowrap; max-width: 500px; overflow: hidden; text-overflow: ellipsis; \">7.18e-03</td><td style=\"white-space: nowrap; max-width: 500px; overflow: hidden; text-overflow: ellipsis; \">2.68e-01</td><td style=\"white-space: nowrap; max-width: 500px; overflow: hidden; text-overflow: ellipsis; \">0.00e+00</td><td style=\"white-space: nowrap; max-width: 500px; overflow: hidden; text-overflow: ellipsis; \">1.20e+01</td><td style=\"white-space: nowrap; max-width: 500px; overflow: hidden; text-overflow: ellipsis; \">[5010,2]</td><td style=\"white-space: nowrap; max-width: 500px; overflow: hidden; text-overflow: ellipsis; \">[1.00e+00,3.99e-04]</td><td style=\"white-space: nowrap; max-width: 500px; overflow: hidden; text-overflow: ellipsis; \">5012</td><td style=\"white-space: nowrap; max-width: 500px; overflow: hidden; text-overflow: ellipsis; \">[2505,1]</td><td style=\"white-space: nowrap; max-width: 500px; overflow: hidden; text-overflow: ellipsis; \">1.00e+00</td><td style=\"white-space: nowrap; max-width: 500px; overflow: hidden; text-overflow: ellipsis; \">2506</td><td style=\"white-space: nowrap; max-width: 500px; overflow: hidden; text-overflow: ellipsis; \">0</td><td style=\"white-space: nowrap; max-width: 500px; overflow: hidden; text-overflow: ellipsis; \">0</td><td style=\"white-space: nowrap; max-width: 500px; overflow: hidden; text-overflow: ellipsis; \">0</td><td style=\"white-space: nowrap; max-width: 500px; overflow: hidden; text-overflow: ellipsis; \">1</td><td style=\"white-space: nowrap; max-width: 500px; overflow: hidden; text-overflow: ellipsis; \">7.98e-04</td><td style=\"white-space: nowrap; max-width: 500px; overflow: hidden; text-overflow: ellipsis; \">9.98e-05</td><td style=\"white-space: nowrap; max-width: 500px; overflow: hidden; text-overflow: ellipsis; \">1.00e+00</td><td style=\"white-space: nowrap; max-width: 500px; overflow: hidden; text-overflow: ellipsis; \">&quot;EGAN00003143342&quot;</td><td style=\"white-space: nowrap; max-width: 500px; overflow: hidden; text-overflow: ellipsis; \">[0,0]</td><td style=\"white-space: nowrap; max-width: 500px; overflow: hidden; text-overflow: ellipsis; \">0</td><td style=\"white-space: nowrap; max-width: 500px; overflow: hidden; text-overflow: ellipsis; \">0</td><td style=\"white-space: nowrap; max-width: 500px; overflow: hidden; text-overflow: ellipsis; \">0/0</td><td style=\"white-space: nowrap; max-width: 500px; overflow: hidden; text-overflow: ellipsis; \">NA</td><td style=\"white-space: nowrap; max-width: 500px; overflow: hidden; text-overflow: ellipsis; \">NA</td><td style=\"white-space: nowrap; max-width: 500px; overflow: hidden; text-overflow: ellipsis; \">NA</td><td style=\"white-space: nowrap; max-width: 500px; overflow: hidden; text-overflow: ellipsis; \">[0,0,0]</td><td style=\"white-space: nowrap; max-width: 500px; overflow: hidden; text-overflow: ellipsis; \">NA</td><td style=\"white-space: nowrap; max-width: 500px; overflow: hidden; text-overflow: ellipsis; \">NA</td><td style=\"white-space: nowrap; max-width: 500px; overflow: hidden; text-overflow: ellipsis; \">NA</td></tr>\n",
       "<tr><td style=\"white-space: nowrap; max-width: 500px; overflow: hidden; text-overflow: ellipsis; \">chr1:69063</td><td style=\"white-space: nowrap; max-width: 500px; overflow: hidden; text-overflow: ellipsis; \">[&quot;T&quot;,&quot;C&quot;]</td><td style=\"white-space: nowrap; max-width: 500px; overflow: hidden; text-overflow: ellipsis; \">NA</td><td style=\"white-space: nowrap; max-width: 500px; overflow: hidden; text-overflow: ellipsis; \">2.63e+04</td><td style=\"white-space: nowrap; max-width: 500px; overflow: hidden; text-overflow: ellipsis; \">NA</td><td style=\"white-space: nowrap; max-width: 500px; overflow: hidden; text-overflow: ellipsis; \">[366]</td><td style=\"white-space: nowrap; max-width: 500px; overflow: hidden; text-overflow: ellipsis; \">[1.20e-02]</td><td style=\"white-space: nowrap; max-width: 500px; overflow: hidden; text-overflow: ellipsis; \">29946</td><td style=\"white-space: nowrap; max-width: 500px; overflow: hidden; text-overflow: ellipsis; \">[0.00e+00]</td><td style=\"white-space: nowrap; max-width: 500px; overflow: hidden; text-overflow: ellipsis; \">[1.21e+02]</td><td style=\"white-space: nowrap; max-width: 500px; overflow: hidden; text-overflow: ellipsis; \">[3.78e-01]</td><td style=\"white-space: nowrap; max-width: 500px; overflow: hidden; text-overflow: ellipsis; \">[2.51e+01]</td><td style=\"white-space: nowrap; max-width: 500px; overflow: hidden; text-overflow: ellipsis; \">[-3.00e-01]</td><td style=\"white-space: nowrap; max-width: 500px; overflow: hidden; text-overflow: ellipsis; \">[9.99e+00]</td><td style=\"white-space: nowrap; max-width: 500px; overflow: hidden; text-overflow: ellipsis; \">NA</td><td style=\"white-space: nowrap; max-width: 500px; overflow: hidden; text-overflow: ellipsis; \">NA</td><td style=\"white-space: nowrap; max-width: 500px; overflow: hidden; text-overflow: ellipsis; \">NA</td><td style=\"white-space: nowrap; max-width: 500px; overflow: hidden; text-overflow: ellipsis; \">NA</td><td style=\"white-space: nowrap; max-width: 500px; overflow: hidden; text-overflow: ellipsis; \">[0.00e+00]</td><td style=\"white-space: nowrap; max-width: 500px; overflow: hidden; text-overflow: ellipsis; \">NA</td><td style=\"white-space: nowrap; max-width: 500px; overflow: hidden; text-overflow: ellipsis; \">[3.35e+00]</td><td style=\"white-space: nowrap; max-width: 500px; overflow: hidden; text-overflow: ellipsis; \">0.00e+00</td><td style=\"white-space: nowrap; max-width: 500px; overflow: hidden; text-overflow: ellipsis; \">False</td><td style=\"white-space: nowrap; max-width: 500px; overflow: hidden; text-overflow: ellipsis; \">21298</td><td style=\"white-space: nowrap; max-width: 500px; overflow: hidden; text-overflow: ellipsis; \">NA</td><td style=\"white-space: nowrap; max-width: 500px; overflow: hidden; text-overflow: ellipsis; \">0.00e+00</td><td style=\"white-space: nowrap; max-width: 500px; overflow: hidden; text-overflow: ellipsis; \">1.21e+02</td><td style=\"white-space: nowrap; max-width: 500px; overflow: hidden; text-overflow: ellipsis; \">3.78e-01</td><td style=\"white-space: nowrap; max-width: 500px; overflow: hidden; text-overflow: ellipsis; \">[2347]</td><td style=\"white-space: nowrap; max-width: 500px; overflow: hidden; text-overflow: ellipsis; \">[7.80e-02]</td><td style=\"white-space: nowrap; max-width: 500px; overflow: hidden; text-overflow: ellipsis; \">2.68e+01</td><td style=\"white-space: nowrap; max-width: 500px; overflow: hidden; text-overflow: ellipsis; \">-2.53e-01</td><td style=\"white-space: nowrap; max-width: 500px; overflow: hidden; text-overflow: ellipsis; \">9.99e+00</td><td style=\"white-space: nowrap; max-width: 500px; overflow: hidden; text-overflow: ellipsis; \">NA</td><td style=\"white-space: nowrap; max-width: 500px; overflow: hidden; text-overflow: ellipsis; \">0.00e+00</td><td style=\"white-space: nowrap; max-width: 500px; overflow: hidden; text-overflow: ellipsis; \">3.43e+00</td><td style=\"white-space: nowrap; max-width: 500px; overflow: hidden; text-overflow: ellipsis; \">1</td><td style=\"white-space: nowrap; max-width: 500px; overflow: hidden; text-overflow: ellipsis; \">False</td><td style=\"white-space: nowrap; max-width: 500px; overflow: hidden; text-overflow: ellipsis; \">2.79e-03</td><td style=\"white-space: nowrap; max-width: 500px; overflow: hidden; text-overflow: ellipsis; \">9.15e-02</td><td style=\"white-space: nowrap; max-width: 500px; overflow: hidden; text-overflow: ellipsis; \">0.00e+00</td><td style=\"white-space: nowrap; max-width: 500px; overflow: hidden; text-overflow: ellipsis; \">4.00e+00</td><td style=\"white-space: nowrap; max-width: 500px; overflow: hidden; text-overflow: ellipsis; \">7.18e-03</td><td style=\"white-space: nowrap; max-width: 500px; overflow: hidden; text-overflow: ellipsis; \">2.68e-01</td><td style=\"white-space: nowrap; max-width: 500px; overflow: hidden; text-overflow: ellipsis; \">0.00e+00</td><td style=\"white-space: nowrap; max-width: 500px; overflow: hidden; text-overflow: ellipsis; \">1.20e+01</td><td style=\"white-space: nowrap; max-width: 500px; overflow: hidden; text-overflow: ellipsis; \">[5010,2]</td><td style=\"white-space: nowrap; max-width: 500px; overflow: hidden; text-overflow: ellipsis; \">[1.00e+00,3.99e-04]</td><td style=\"white-space: nowrap; max-width: 500px; overflow: hidden; text-overflow: ellipsis; \">5012</td><td style=\"white-space: nowrap; max-width: 500px; overflow: hidden; text-overflow: ellipsis; \">[2505,1]</td><td style=\"white-space: nowrap; max-width: 500px; overflow: hidden; text-overflow: ellipsis; \">1.00e+00</td><td style=\"white-space: nowrap; max-width: 500px; overflow: hidden; text-overflow: ellipsis; \">2506</td><td style=\"white-space: nowrap; max-width: 500px; overflow: hidden; text-overflow: ellipsis; \">0</td><td style=\"white-space: nowrap; max-width: 500px; overflow: hidden; text-overflow: ellipsis; \">0</td><td style=\"white-space: nowrap; max-width: 500px; overflow: hidden; text-overflow: ellipsis; \">0</td><td style=\"white-space: nowrap; max-width: 500px; overflow: hidden; text-overflow: ellipsis; \">1</td><td style=\"white-space: nowrap; max-width: 500px; overflow: hidden; text-overflow: ellipsis; \">7.98e-04</td><td style=\"white-space: nowrap; max-width: 500px; overflow: hidden; text-overflow: ellipsis; \">9.98e-05</td><td style=\"white-space: nowrap; max-width: 500px; overflow: hidden; text-overflow: ellipsis; \">1.00e+00</td><td style=\"white-space: nowrap; max-width: 500px; overflow: hidden; text-overflow: ellipsis; \">&quot;EGAN00003143343&quot;</td><td style=\"white-space: nowrap; max-width: 500px; overflow: hidden; text-overflow: ellipsis; \">[0,0]</td><td style=\"white-space: nowrap; max-width: 500px; overflow: hidden; text-overflow: ellipsis; \">0</td><td style=\"white-space: nowrap; max-width: 500px; overflow: hidden; text-overflow: ellipsis; \">0</td><td style=\"white-space: nowrap; max-width: 500px; overflow: hidden; text-overflow: ellipsis; \">0/0</td><td style=\"white-space: nowrap; max-width: 500px; overflow: hidden; text-overflow: ellipsis; \">NA</td><td style=\"white-space: nowrap; max-width: 500px; overflow: hidden; text-overflow: ellipsis; \">NA</td><td style=\"white-space: nowrap; max-width: 500px; overflow: hidden; text-overflow: ellipsis; \">NA</td><td style=\"white-space: nowrap; max-width: 500px; overflow: hidden; text-overflow: ellipsis; \">[0,0,0]</td><td style=\"white-space: nowrap; max-width: 500px; overflow: hidden; text-overflow: ellipsis; \">NA</td><td style=\"white-space: nowrap; max-width: 500px; overflow: hidden; text-overflow: ellipsis; \">NA</td><td style=\"white-space: nowrap; max-width: 500px; overflow: hidden; text-overflow: ellipsis; \">NA</td></tr>\n",
       "<tr><td style=\"white-space: nowrap; max-width: 500px; overflow: hidden; text-overflow: ellipsis; \">chr1:69063</td><td style=\"white-space: nowrap; max-width: 500px; overflow: hidden; text-overflow: ellipsis; \">[&quot;T&quot;,&quot;C&quot;]</td><td style=\"white-space: nowrap; max-width: 500px; overflow: hidden; text-overflow: ellipsis; \">NA</td><td style=\"white-space: nowrap; max-width: 500px; overflow: hidden; text-overflow: ellipsis; \">2.63e+04</td><td style=\"white-space: nowrap; max-width: 500px; overflow: hidden; text-overflow: ellipsis; \">NA</td><td style=\"white-space: nowrap; max-width: 500px; overflow: hidden; text-overflow: ellipsis; \">[366]</td><td style=\"white-space: nowrap; max-width: 500px; overflow: hidden; text-overflow: ellipsis; \">[1.20e-02]</td><td style=\"white-space: nowrap; max-width: 500px; overflow: hidden; text-overflow: ellipsis; \">29946</td><td style=\"white-space: nowrap; max-width: 500px; overflow: hidden; text-overflow: ellipsis; \">[0.00e+00]</td><td style=\"white-space: nowrap; max-width: 500px; overflow: hidden; text-overflow: ellipsis; \">[1.21e+02]</td><td style=\"white-space: nowrap; max-width: 500px; overflow: hidden; text-overflow: ellipsis; \">[3.78e-01]</td><td style=\"white-space: nowrap; max-width: 500px; overflow: hidden; text-overflow: ellipsis; \">[2.51e+01]</td><td style=\"white-space: nowrap; max-width: 500px; overflow: hidden; text-overflow: ellipsis; \">[-3.00e-01]</td><td style=\"white-space: nowrap; max-width: 500px; overflow: hidden; text-overflow: ellipsis; \">[9.99e+00]</td><td style=\"white-space: nowrap; max-width: 500px; overflow: hidden; text-overflow: ellipsis; \">NA</td><td style=\"white-space: nowrap; max-width: 500px; overflow: hidden; text-overflow: ellipsis; \">NA</td><td style=\"white-space: nowrap; max-width: 500px; overflow: hidden; text-overflow: ellipsis; \">NA</td><td style=\"white-space: nowrap; max-width: 500px; overflow: hidden; text-overflow: ellipsis; \">NA</td><td style=\"white-space: nowrap; max-width: 500px; overflow: hidden; text-overflow: ellipsis; \">[0.00e+00]</td><td style=\"white-space: nowrap; max-width: 500px; overflow: hidden; text-overflow: ellipsis; \">NA</td><td style=\"white-space: nowrap; max-width: 500px; overflow: hidden; text-overflow: ellipsis; \">[3.35e+00]</td><td style=\"white-space: nowrap; max-width: 500px; overflow: hidden; text-overflow: ellipsis; \">0.00e+00</td><td style=\"white-space: nowrap; max-width: 500px; overflow: hidden; text-overflow: ellipsis; \">False</td><td style=\"white-space: nowrap; max-width: 500px; overflow: hidden; text-overflow: ellipsis; \">21298</td><td style=\"white-space: nowrap; max-width: 500px; overflow: hidden; text-overflow: ellipsis; \">NA</td><td style=\"white-space: nowrap; max-width: 500px; overflow: hidden; text-overflow: ellipsis; \">0.00e+00</td><td style=\"white-space: nowrap; max-width: 500px; overflow: hidden; text-overflow: ellipsis; \">1.21e+02</td><td style=\"white-space: nowrap; max-width: 500px; overflow: hidden; text-overflow: ellipsis; \">3.78e-01</td><td style=\"white-space: nowrap; max-width: 500px; overflow: hidden; text-overflow: ellipsis; \">[2347]</td><td style=\"white-space: nowrap; max-width: 500px; overflow: hidden; text-overflow: ellipsis; \">[7.80e-02]</td><td style=\"white-space: nowrap; max-width: 500px; overflow: hidden; text-overflow: ellipsis; \">2.68e+01</td><td style=\"white-space: nowrap; max-width: 500px; overflow: hidden; text-overflow: ellipsis; \">-2.53e-01</td><td style=\"white-space: nowrap; max-width: 500px; overflow: hidden; text-overflow: ellipsis; \">9.99e+00</td><td style=\"white-space: nowrap; max-width: 500px; overflow: hidden; text-overflow: ellipsis; \">NA</td><td style=\"white-space: nowrap; max-width: 500px; overflow: hidden; text-overflow: ellipsis; \">0.00e+00</td><td style=\"white-space: nowrap; max-width: 500px; overflow: hidden; text-overflow: ellipsis; \">3.43e+00</td><td style=\"white-space: nowrap; max-width: 500px; overflow: hidden; text-overflow: ellipsis; \">1</td><td style=\"white-space: nowrap; max-width: 500px; overflow: hidden; text-overflow: ellipsis; \">False</td><td style=\"white-space: nowrap; max-width: 500px; overflow: hidden; text-overflow: ellipsis; \">2.79e-03</td><td style=\"white-space: nowrap; max-width: 500px; overflow: hidden; text-overflow: ellipsis; \">9.15e-02</td><td style=\"white-space: nowrap; max-width: 500px; overflow: hidden; text-overflow: ellipsis; \">0.00e+00</td><td style=\"white-space: nowrap; max-width: 500px; overflow: hidden; text-overflow: ellipsis; \">4.00e+00</td><td style=\"white-space: nowrap; max-width: 500px; overflow: hidden; text-overflow: ellipsis; \">7.18e-03</td><td style=\"white-space: nowrap; max-width: 500px; overflow: hidden; text-overflow: ellipsis; \">2.68e-01</td><td style=\"white-space: nowrap; max-width: 500px; overflow: hidden; text-overflow: ellipsis; \">0.00e+00</td><td style=\"white-space: nowrap; max-width: 500px; overflow: hidden; text-overflow: ellipsis; \">1.20e+01</td><td style=\"white-space: nowrap; max-width: 500px; overflow: hidden; text-overflow: ellipsis; \">[5010,2]</td><td style=\"white-space: nowrap; max-width: 500px; overflow: hidden; text-overflow: ellipsis; \">[1.00e+00,3.99e-04]</td><td style=\"white-space: nowrap; max-width: 500px; overflow: hidden; text-overflow: ellipsis; \">5012</td><td style=\"white-space: nowrap; max-width: 500px; overflow: hidden; text-overflow: ellipsis; \">[2505,1]</td><td style=\"white-space: nowrap; max-width: 500px; overflow: hidden; text-overflow: ellipsis; \">1.00e+00</td><td style=\"white-space: nowrap; max-width: 500px; overflow: hidden; text-overflow: ellipsis; \">2506</td><td style=\"white-space: nowrap; max-width: 500px; overflow: hidden; text-overflow: ellipsis; \">0</td><td style=\"white-space: nowrap; max-width: 500px; overflow: hidden; text-overflow: ellipsis; \">0</td><td style=\"white-space: nowrap; max-width: 500px; overflow: hidden; text-overflow: ellipsis; \">0</td><td style=\"white-space: nowrap; max-width: 500px; overflow: hidden; text-overflow: ellipsis; \">1</td><td style=\"white-space: nowrap; max-width: 500px; overflow: hidden; text-overflow: ellipsis; \">7.98e-04</td><td style=\"white-space: nowrap; max-width: 500px; overflow: hidden; text-overflow: ellipsis; \">9.98e-05</td><td style=\"white-space: nowrap; max-width: 500px; overflow: hidden; text-overflow: ellipsis; \">1.00e+00</td><td style=\"white-space: nowrap; max-width: 500px; overflow: hidden; text-overflow: ellipsis; \">&quot;EGAN00003143345&quot;</td><td style=\"white-space: nowrap; max-width: 500px; overflow: hidden; text-overflow: ellipsis; \">[0,0]</td><td style=\"white-space: nowrap; max-width: 500px; overflow: hidden; text-overflow: ellipsis; \">0</td><td style=\"white-space: nowrap; max-width: 500px; overflow: hidden; text-overflow: ellipsis; \">0</td><td style=\"white-space: nowrap; max-width: 500px; overflow: hidden; text-overflow: ellipsis; \">0/0</td><td style=\"white-space: nowrap; max-width: 500px; overflow: hidden; text-overflow: ellipsis; \">NA</td><td style=\"white-space: nowrap; max-width: 500px; overflow: hidden; text-overflow: ellipsis; \">NA</td><td style=\"white-space: nowrap; max-width: 500px; overflow: hidden; text-overflow: ellipsis; \">NA</td><td style=\"white-space: nowrap; max-width: 500px; overflow: hidden; text-overflow: ellipsis; \">[0,0,0]</td><td style=\"white-space: nowrap; max-width: 500px; overflow: hidden; text-overflow: ellipsis; \">NA</td><td style=\"white-space: nowrap; max-width: 500px; overflow: hidden; text-overflow: ellipsis; \">NA</td><td style=\"white-space: nowrap; max-width: 500px; overflow: hidden; text-overflow: ellipsis; \">NA</td></tr>\n",
       "<tr><td style=\"white-space: nowrap; max-width: 500px; overflow: hidden; text-overflow: ellipsis; \">chr1:69063</td><td style=\"white-space: nowrap; max-width: 500px; overflow: hidden; text-overflow: ellipsis; \">[&quot;T&quot;,&quot;C&quot;]</td><td style=\"white-space: nowrap; max-width: 500px; overflow: hidden; text-overflow: ellipsis; \">NA</td><td style=\"white-space: nowrap; max-width: 500px; overflow: hidden; text-overflow: ellipsis; \">2.63e+04</td><td style=\"white-space: nowrap; max-width: 500px; overflow: hidden; text-overflow: ellipsis; \">NA</td><td style=\"white-space: nowrap; max-width: 500px; overflow: hidden; text-overflow: ellipsis; \">[366]</td><td style=\"white-space: nowrap; max-width: 500px; overflow: hidden; text-overflow: ellipsis; \">[1.20e-02]</td><td style=\"white-space: nowrap; max-width: 500px; overflow: hidden; text-overflow: ellipsis; \">29946</td><td style=\"white-space: nowrap; max-width: 500px; overflow: hidden; text-overflow: ellipsis; \">[0.00e+00]</td><td style=\"white-space: nowrap; max-width: 500px; overflow: hidden; text-overflow: ellipsis; \">[1.21e+02]</td><td style=\"white-space: nowrap; max-width: 500px; overflow: hidden; text-overflow: ellipsis; \">[3.78e-01]</td><td style=\"white-space: nowrap; max-width: 500px; overflow: hidden; text-overflow: ellipsis; \">[2.51e+01]</td><td style=\"white-space: nowrap; max-width: 500px; overflow: hidden; text-overflow: ellipsis; \">[-3.00e-01]</td><td style=\"white-space: nowrap; max-width: 500px; overflow: hidden; text-overflow: ellipsis; \">[9.99e+00]</td><td style=\"white-space: nowrap; max-width: 500px; overflow: hidden; text-overflow: ellipsis; \">NA</td><td style=\"white-space: nowrap; max-width: 500px; overflow: hidden; text-overflow: ellipsis; \">NA</td><td style=\"white-space: nowrap; max-width: 500px; overflow: hidden; text-overflow: ellipsis; \">NA</td><td style=\"white-space: nowrap; max-width: 500px; overflow: hidden; text-overflow: ellipsis; \">NA</td><td style=\"white-space: nowrap; max-width: 500px; overflow: hidden; text-overflow: ellipsis; \">[0.00e+00]</td><td style=\"white-space: nowrap; max-width: 500px; overflow: hidden; text-overflow: ellipsis; \">NA</td><td style=\"white-space: nowrap; max-width: 500px; overflow: hidden; text-overflow: ellipsis; \">[3.35e+00]</td><td style=\"white-space: nowrap; max-width: 500px; overflow: hidden; text-overflow: ellipsis; \">0.00e+00</td><td style=\"white-space: nowrap; max-width: 500px; overflow: hidden; text-overflow: ellipsis; \">False</td><td style=\"white-space: nowrap; max-width: 500px; overflow: hidden; text-overflow: ellipsis; \">21298</td><td style=\"white-space: nowrap; max-width: 500px; overflow: hidden; text-overflow: ellipsis; \">NA</td><td style=\"white-space: nowrap; max-width: 500px; overflow: hidden; text-overflow: ellipsis; \">0.00e+00</td><td style=\"white-space: nowrap; max-width: 500px; overflow: hidden; text-overflow: ellipsis; \">1.21e+02</td><td style=\"white-space: nowrap; max-width: 500px; overflow: hidden; text-overflow: ellipsis; \">3.78e-01</td><td style=\"white-space: nowrap; max-width: 500px; overflow: hidden; text-overflow: ellipsis; \">[2347]</td><td style=\"white-space: nowrap; max-width: 500px; overflow: hidden; text-overflow: ellipsis; \">[7.80e-02]</td><td style=\"white-space: nowrap; max-width: 500px; overflow: hidden; text-overflow: ellipsis; \">2.68e+01</td><td style=\"white-space: nowrap; max-width: 500px; overflow: hidden; text-overflow: ellipsis; \">-2.53e-01</td><td style=\"white-space: nowrap; max-width: 500px; overflow: hidden; text-overflow: ellipsis; \">9.99e+00</td><td style=\"white-space: nowrap; max-width: 500px; overflow: hidden; text-overflow: ellipsis; \">NA</td><td style=\"white-space: nowrap; max-width: 500px; overflow: hidden; text-overflow: ellipsis; \">0.00e+00</td><td style=\"white-space: nowrap; max-width: 500px; overflow: hidden; text-overflow: ellipsis; \">3.43e+00</td><td style=\"white-space: nowrap; max-width: 500px; overflow: hidden; text-overflow: ellipsis; \">1</td><td style=\"white-space: nowrap; max-width: 500px; overflow: hidden; text-overflow: ellipsis; \">False</td><td style=\"white-space: nowrap; max-width: 500px; overflow: hidden; text-overflow: ellipsis; \">2.79e-03</td><td style=\"white-space: nowrap; max-width: 500px; overflow: hidden; text-overflow: ellipsis; \">9.15e-02</td><td style=\"white-space: nowrap; max-width: 500px; overflow: hidden; text-overflow: ellipsis; \">0.00e+00</td><td style=\"white-space: nowrap; max-width: 500px; overflow: hidden; text-overflow: ellipsis; \">4.00e+00</td><td style=\"white-space: nowrap; max-width: 500px; overflow: hidden; text-overflow: ellipsis; \">7.18e-03</td><td style=\"white-space: nowrap; max-width: 500px; overflow: hidden; text-overflow: ellipsis; \">2.68e-01</td><td style=\"white-space: nowrap; max-width: 500px; overflow: hidden; text-overflow: ellipsis; \">0.00e+00</td><td style=\"white-space: nowrap; max-width: 500px; overflow: hidden; text-overflow: ellipsis; \">1.20e+01</td><td style=\"white-space: nowrap; max-width: 500px; overflow: hidden; text-overflow: ellipsis; \">[5010,2]</td><td style=\"white-space: nowrap; max-width: 500px; overflow: hidden; text-overflow: ellipsis; \">[1.00e+00,3.99e-04]</td><td style=\"white-space: nowrap; max-width: 500px; overflow: hidden; text-overflow: ellipsis; \">5012</td><td style=\"white-space: nowrap; max-width: 500px; overflow: hidden; text-overflow: ellipsis; \">[2505,1]</td><td style=\"white-space: nowrap; max-width: 500px; overflow: hidden; text-overflow: ellipsis; \">1.00e+00</td><td style=\"white-space: nowrap; max-width: 500px; overflow: hidden; text-overflow: ellipsis; \">2506</td><td style=\"white-space: nowrap; max-width: 500px; overflow: hidden; text-overflow: ellipsis; \">0</td><td style=\"white-space: nowrap; max-width: 500px; overflow: hidden; text-overflow: ellipsis; \">0</td><td style=\"white-space: nowrap; max-width: 500px; overflow: hidden; text-overflow: ellipsis; \">0</td><td style=\"white-space: nowrap; max-width: 500px; overflow: hidden; text-overflow: ellipsis; \">1</td><td style=\"white-space: nowrap; max-width: 500px; overflow: hidden; text-overflow: ellipsis; \">7.98e-04</td><td style=\"white-space: nowrap; max-width: 500px; overflow: hidden; text-overflow: ellipsis; \">9.98e-05</td><td style=\"white-space: nowrap; max-width: 500px; overflow: hidden; text-overflow: ellipsis; \">1.00e+00</td><td style=\"white-space: nowrap; max-width: 500px; overflow: hidden; text-overflow: ellipsis; \">&quot;EGAN00003143351&quot;</td><td style=\"white-space: nowrap; max-width: 500px; overflow: hidden; text-overflow: ellipsis; \">[0,0]</td><td style=\"white-space: nowrap; max-width: 500px; overflow: hidden; text-overflow: ellipsis; \">0</td><td style=\"white-space: nowrap; max-width: 500px; overflow: hidden; text-overflow: ellipsis; \">0</td><td style=\"white-space: nowrap; max-width: 500px; overflow: hidden; text-overflow: ellipsis; \">0/0</td><td style=\"white-space: nowrap; max-width: 500px; overflow: hidden; text-overflow: ellipsis; \">NA</td><td style=\"white-space: nowrap; max-width: 500px; overflow: hidden; text-overflow: ellipsis; \">NA</td><td style=\"white-space: nowrap; max-width: 500px; overflow: hidden; text-overflow: ellipsis; \">NA</td><td style=\"white-space: nowrap; max-width: 500px; overflow: hidden; text-overflow: ellipsis; \">[0,0,0]</td><td style=\"white-space: nowrap; max-width: 500px; overflow: hidden; text-overflow: ellipsis; \">NA</td><td style=\"white-space: nowrap; max-width: 500px; overflow: hidden; text-overflow: ellipsis; \">NA</td><td style=\"white-space: nowrap; max-width: 500px; overflow: hidden; text-overflow: ellipsis; \">NA</td></tr>\n",
       "<tr><td style=\"white-space: nowrap; max-width: 500px; overflow: hidden; text-overflow: ellipsis; \">chr1:69063</td><td style=\"white-space: nowrap; max-width: 500px; overflow: hidden; text-overflow: ellipsis; \">[&quot;T&quot;,&quot;C&quot;]</td><td style=\"white-space: nowrap; max-width: 500px; overflow: hidden; text-overflow: ellipsis; \">NA</td><td style=\"white-space: nowrap; max-width: 500px; overflow: hidden; text-overflow: ellipsis; \">2.63e+04</td><td style=\"white-space: nowrap; max-width: 500px; overflow: hidden; text-overflow: ellipsis; \">NA</td><td style=\"white-space: nowrap; max-width: 500px; overflow: hidden; text-overflow: ellipsis; \">[366]</td><td style=\"white-space: nowrap; max-width: 500px; overflow: hidden; text-overflow: ellipsis; \">[1.20e-02]</td><td style=\"white-space: nowrap; max-width: 500px; overflow: hidden; text-overflow: ellipsis; \">29946</td><td style=\"white-space: nowrap; max-width: 500px; overflow: hidden; text-overflow: ellipsis; \">[0.00e+00]</td><td style=\"white-space: nowrap; max-width: 500px; overflow: hidden; text-overflow: ellipsis; \">[1.21e+02]</td><td style=\"white-space: nowrap; max-width: 500px; overflow: hidden; text-overflow: ellipsis; \">[3.78e-01]</td><td style=\"white-space: nowrap; max-width: 500px; overflow: hidden; text-overflow: ellipsis; \">[2.51e+01]</td><td style=\"white-space: nowrap; max-width: 500px; overflow: hidden; text-overflow: ellipsis; \">[-3.00e-01]</td><td style=\"white-space: nowrap; max-width: 500px; overflow: hidden; text-overflow: ellipsis; \">[9.99e+00]</td><td style=\"white-space: nowrap; max-width: 500px; overflow: hidden; text-overflow: ellipsis; \">NA</td><td style=\"white-space: nowrap; max-width: 500px; overflow: hidden; text-overflow: ellipsis; \">NA</td><td style=\"white-space: nowrap; max-width: 500px; overflow: hidden; text-overflow: ellipsis; \">NA</td><td style=\"white-space: nowrap; max-width: 500px; overflow: hidden; text-overflow: ellipsis; \">NA</td><td style=\"white-space: nowrap; max-width: 500px; overflow: hidden; text-overflow: ellipsis; \">[0.00e+00]</td><td style=\"white-space: nowrap; max-width: 500px; overflow: hidden; text-overflow: ellipsis; \">NA</td><td style=\"white-space: nowrap; max-width: 500px; overflow: hidden; text-overflow: ellipsis; \">[3.35e+00]</td><td style=\"white-space: nowrap; max-width: 500px; overflow: hidden; text-overflow: ellipsis; \">0.00e+00</td><td style=\"white-space: nowrap; max-width: 500px; overflow: hidden; text-overflow: ellipsis; \">False</td><td style=\"white-space: nowrap; max-width: 500px; overflow: hidden; text-overflow: ellipsis; \">21298</td><td style=\"white-space: nowrap; max-width: 500px; overflow: hidden; text-overflow: ellipsis; \">NA</td><td style=\"white-space: nowrap; max-width: 500px; overflow: hidden; text-overflow: ellipsis; \">0.00e+00</td><td style=\"white-space: nowrap; max-width: 500px; overflow: hidden; text-overflow: ellipsis; \">1.21e+02</td><td style=\"white-space: nowrap; max-width: 500px; overflow: hidden; text-overflow: ellipsis; \">3.78e-01</td><td style=\"white-space: nowrap; max-width: 500px; overflow: hidden; text-overflow: ellipsis; \">[2347]</td><td style=\"white-space: nowrap; max-width: 500px; overflow: hidden; text-overflow: ellipsis; \">[7.80e-02]</td><td style=\"white-space: nowrap; max-width: 500px; overflow: hidden; text-overflow: ellipsis; \">2.68e+01</td><td style=\"white-space: nowrap; max-width: 500px; overflow: hidden; text-overflow: ellipsis; \">-2.53e-01</td><td style=\"white-space: nowrap; max-width: 500px; overflow: hidden; text-overflow: ellipsis; \">9.99e+00</td><td style=\"white-space: nowrap; max-width: 500px; overflow: hidden; text-overflow: ellipsis; \">NA</td><td style=\"white-space: nowrap; max-width: 500px; overflow: hidden; text-overflow: ellipsis; \">0.00e+00</td><td style=\"white-space: nowrap; max-width: 500px; overflow: hidden; text-overflow: ellipsis; \">3.43e+00</td><td style=\"white-space: nowrap; max-width: 500px; overflow: hidden; text-overflow: ellipsis; \">1</td><td style=\"white-space: nowrap; max-width: 500px; overflow: hidden; text-overflow: ellipsis; \">False</td><td style=\"white-space: nowrap; max-width: 500px; overflow: hidden; text-overflow: ellipsis; \">2.79e-03</td><td style=\"white-space: nowrap; max-width: 500px; overflow: hidden; text-overflow: ellipsis; \">9.15e-02</td><td style=\"white-space: nowrap; max-width: 500px; overflow: hidden; text-overflow: ellipsis; \">0.00e+00</td><td style=\"white-space: nowrap; max-width: 500px; overflow: hidden; text-overflow: ellipsis; \">4.00e+00</td><td style=\"white-space: nowrap; max-width: 500px; overflow: hidden; text-overflow: ellipsis; \">7.18e-03</td><td style=\"white-space: nowrap; max-width: 500px; overflow: hidden; text-overflow: ellipsis; \">2.68e-01</td><td style=\"white-space: nowrap; max-width: 500px; overflow: hidden; text-overflow: ellipsis; \">0.00e+00</td><td style=\"white-space: nowrap; max-width: 500px; overflow: hidden; text-overflow: ellipsis; \">1.20e+01</td><td style=\"white-space: nowrap; max-width: 500px; overflow: hidden; text-overflow: ellipsis; \">[5010,2]</td><td style=\"white-space: nowrap; max-width: 500px; overflow: hidden; text-overflow: ellipsis; \">[1.00e+00,3.99e-04]</td><td style=\"white-space: nowrap; max-width: 500px; overflow: hidden; text-overflow: ellipsis; \">5012</td><td style=\"white-space: nowrap; max-width: 500px; overflow: hidden; text-overflow: ellipsis; \">[2505,1]</td><td style=\"white-space: nowrap; max-width: 500px; overflow: hidden; text-overflow: ellipsis; \">1.00e+00</td><td style=\"white-space: nowrap; max-width: 500px; overflow: hidden; text-overflow: ellipsis; \">2506</td><td style=\"white-space: nowrap; max-width: 500px; overflow: hidden; text-overflow: ellipsis; \">0</td><td style=\"white-space: nowrap; max-width: 500px; overflow: hidden; text-overflow: ellipsis; \">0</td><td style=\"white-space: nowrap; max-width: 500px; overflow: hidden; text-overflow: ellipsis; \">0</td><td style=\"white-space: nowrap; max-width: 500px; overflow: hidden; text-overflow: ellipsis; \">1</td><td style=\"white-space: nowrap; max-width: 500px; overflow: hidden; text-overflow: ellipsis; \">7.98e-04</td><td style=\"white-space: nowrap; max-width: 500px; overflow: hidden; text-overflow: ellipsis; \">9.98e-05</td><td style=\"white-space: nowrap; max-width: 500px; overflow: hidden; text-overflow: ellipsis; \">1.00e+00</td><td style=\"white-space: nowrap; max-width: 500px; overflow: hidden; text-overflow: ellipsis; \">&quot;EGAN00003143359&quot;</td><td style=\"white-space: nowrap; max-width: 500px; overflow: hidden; text-overflow: ellipsis; \">[0,0]</td><td style=\"white-space: nowrap; max-width: 500px; overflow: hidden; text-overflow: ellipsis; \">0</td><td style=\"white-space: nowrap; max-width: 500px; overflow: hidden; text-overflow: ellipsis; \">0</td><td style=\"white-space: nowrap; max-width: 500px; overflow: hidden; text-overflow: ellipsis; \">0/0</td><td style=\"white-space: nowrap; max-width: 500px; overflow: hidden; text-overflow: ellipsis; \">NA</td><td style=\"white-space: nowrap; max-width: 500px; overflow: hidden; text-overflow: ellipsis; \">NA</td><td style=\"white-space: nowrap; max-width: 500px; overflow: hidden; text-overflow: ellipsis; \">NA</td><td style=\"white-space: nowrap; max-width: 500px; overflow: hidden; text-overflow: ellipsis; \">[0,0,0]</td><td style=\"white-space: nowrap; max-width: 500px; overflow: hidden; text-overflow: ellipsis; \">NA</td><td style=\"white-space: nowrap; max-width: 500px; overflow: hidden; text-overflow: ellipsis; \">NA</td><td style=\"white-space: nowrap; max-width: 500px; overflow: hidden; text-overflow: ellipsis; \">NA</td></tr>\n",
       "<tr><td style=\"white-space: nowrap; max-width: 500px; overflow: hidden; text-overflow: ellipsis; \">chr1:69063</td><td style=\"white-space: nowrap; max-width: 500px; overflow: hidden; text-overflow: ellipsis; \">[&quot;T&quot;,&quot;C&quot;]</td><td style=\"white-space: nowrap; max-width: 500px; overflow: hidden; text-overflow: ellipsis; \">NA</td><td style=\"white-space: nowrap; max-width: 500px; overflow: hidden; text-overflow: ellipsis; \">2.63e+04</td><td style=\"white-space: nowrap; max-width: 500px; overflow: hidden; text-overflow: ellipsis; \">NA</td><td style=\"white-space: nowrap; max-width: 500px; overflow: hidden; text-overflow: ellipsis; \">[366]</td><td style=\"white-space: nowrap; max-width: 500px; overflow: hidden; text-overflow: ellipsis; \">[1.20e-02]</td><td style=\"white-space: nowrap; max-width: 500px; overflow: hidden; text-overflow: ellipsis; \">29946</td><td style=\"white-space: nowrap; max-width: 500px; overflow: hidden; text-overflow: ellipsis; \">[0.00e+00]</td><td style=\"white-space: nowrap; max-width: 500px; overflow: hidden; text-overflow: ellipsis; \">[1.21e+02]</td><td style=\"white-space: nowrap; max-width: 500px; overflow: hidden; text-overflow: ellipsis; \">[3.78e-01]</td><td style=\"white-space: nowrap; max-width: 500px; overflow: hidden; text-overflow: ellipsis; \">[2.51e+01]</td><td style=\"white-space: nowrap; max-width: 500px; overflow: hidden; text-overflow: ellipsis; \">[-3.00e-01]</td><td style=\"white-space: nowrap; max-width: 500px; overflow: hidden; text-overflow: ellipsis; \">[9.99e+00]</td><td style=\"white-space: nowrap; max-width: 500px; overflow: hidden; text-overflow: ellipsis; \">NA</td><td style=\"white-space: nowrap; max-width: 500px; overflow: hidden; text-overflow: ellipsis; \">NA</td><td style=\"white-space: nowrap; max-width: 500px; overflow: hidden; text-overflow: ellipsis; \">NA</td><td style=\"white-space: nowrap; max-width: 500px; overflow: hidden; text-overflow: ellipsis; \">NA</td><td style=\"white-space: nowrap; max-width: 500px; overflow: hidden; text-overflow: ellipsis; \">[0.00e+00]</td><td style=\"white-space: nowrap; max-width: 500px; overflow: hidden; text-overflow: ellipsis; \">NA</td><td style=\"white-space: nowrap; max-width: 500px; overflow: hidden; text-overflow: ellipsis; \">[3.35e+00]</td><td style=\"white-space: nowrap; max-width: 500px; overflow: hidden; text-overflow: ellipsis; \">0.00e+00</td><td style=\"white-space: nowrap; max-width: 500px; overflow: hidden; text-overflow: ellipsis; \">False</td><td style=\"white-space: nowrap; max-width: 500px; overflow: hidden; text-overflow: ellipsis; \">21298</td><td style=\"white-space: nowrap; max-width: 500px; overflow: hidden; text-overflow: ellipsis; \">NA</td><td style=\"white-space: nowrap; max-width: 500px; overflow: hidden; text-overflow: ellipsis; \">0.00e+00</td><td style=\"white-space: nowrap; max-width: 500px; overflow: hidden; text-overflow: ellipsis; \">1.21e+02</td><td style=\"white-space: nowrap; max-width: 500px; overflow: hidden; text-overflow: ellipsis; \">3.78e-01</td><td style=\"white-space: nowrap; max-width: 500px; overflow: hidden; text-overflow: ellipsis; \">[2347]</td><td style=\"white-space: nowrap; max-width: 500px; overflow: hidden; text-overflow: ellipsis; \">[7.80e-02]</td><td style=\"white-space: nowrap; max-width: 500px; overflow: hidden; text-overflow: ellipsis; \">2.68e+01</td><td style=\"white-space: nowrap; max-width: 500px; overflow: hidden; text-overflow: ellipsis; \">-2.53e-01</td><td style=\"white-space: nowrap; max-width: 500px; overflow: hidden; text-overflow: ellipsis; \">9.99e+00</td><td style=\"white-space: nowrap; max-width: 500px; overflow: hidden; text-overflow: ellipsis; \">NA</td><td style=\"white-space: nowrap; max-width: 500px; overflow: hidden; text-overflow: ellipsis; \">0.00e+00</td><td style=\"white-space: nowrap; max-width: 500px; overflow: hidden; text-overflow: ellipsis; \">3.43e+00</td><td style=\"white-space: nowrap; max-width: 500px; overflow: hidden; text-overflow: ellipsis; \">1</td><td style=\"white-space: nowrap; max-width: 500px; overflow: hidden; text-overflow: ellipsis; \">False</td><td style=\"white-space: nowrap; max-width: 500px; overflow: hidden; text-overflow: ellipsis; \">2.79e-03</td><td style=\"white-space: nowrap; max-width: 500px; overflow: hidden; text-overflow: ellipsis; \">9.15e-02</td><td style=\"white-space: nowrap; max-width: 500px; overflow: hidden; text-overflow: ellipsis; \">0.00e+00</td><td style=\"white-space: nowrap; max-width: 500px; overflow: hidden; text-overflow: ellipsis; \">4.00e+00</td><td style=\"white-space: nowrap; max-width: 500px; overflow: hidden; text-overflow: ellipsis; \">7.18e-03</td><td style=\"white-space: nowrap; max-width: 500px; overflow: hidden; text-overflow: ellipsis; \">2.68e-01</td><td style=\"white-space: nowrap; max-width: 500px; overflow: hidden; text-overflow: ellipsis; \">0.00e+00</td><td style=\"white-space: nowrap; max-width: 500px; overflow: hidden; text-overflow: ellipsis; \">1.20e+01</td><td style=\"white-space: nowrap; max-width: 500px; overflow: hidden; text-overflow: ellipsis; \">[5010,2]</td><td style=\"white-space: nowrap; max-width: 500px; overflow: hidden; text-overflow: ellipsis; \">[1.00e+00,3.99e-04]</td><td style=\"white-space: nowrap; max-width: 500px; overflow: hidden; text-overflow: ellipsis; \">5012</td><td style=\"white-space: nowrap; max-width: 500px; overflow: hidden; text-overflow: ellipsis; \">[2505,1]</td><td style=\"white-space: nowrap; max-width: 500px; overflow: hidden; text-overflow: ellipsis; \">1.00e+00</td><td style=\"white-space: nowrap; max-width: 500px; overflow: hidden; text-overflow: ellipsis; \">2506</td><td style=\"white-space: nowrap; max-width: 500px; overflow: hidden; text-overflow: ellipsis; \">0</td><td style=\"white-space: nowrap; max-width: 500px; overflow: hidden; text-overflow: ellipsis; \">0</td><td style=\"white-space: nowrap; max-width: 500px; overflow: hidden; text-overflow: ellipsis; \">0</td><td style=\"white-space: nowrap; max-width: 500px; overflow: hidden; text-overflow: ellipsis; \">1</td><td style=\"white-space: nowrap; max-width: 500px; overflow: hidden; text-overflow: ellipsis; \">7.98e-04</td><td style=\"white-space: nowrap; max-width: 500px; overflow: hidden; text-overflow: ellipsis; \">9.98e-05</td><td style=\"white-space: nowrap; max-width: 500px; overflow: hidden; text-overflow: ellipsis; \">1.00e+00</td><td style=\"white-space: nowrap; max-width: 500px; overflow: hidden; text-overflow: ellipsis; \">&quot;EGAN00003143360&quot;</td><td style=\"white-space: nowrap; max-width: 500px; overflow: hidden; text-overflow: ellipsis; \">[0,0]</td><td style=\"white-space: nowrap; max-width: 500px; overflow: hidden; text-overflow: ellipsis; \">0</td><td style=\"white-space: nowrap; max-width: 500px; overflow: hidden; text-overflow: ellipsis; \">0</td><td style=\"white-space: nowrap; max-width: 500px; overflow: hidden; text-overflow: ellipsis; \">0/0</td><td style=\"white-space: nowrap; max-width: 500px; overflow: hidden; text-overflow: ellipsis; \">NA</td><td style=\"white-space: nowrap; max-width: 500px; overflow: hidden; text-overflow: ellipsis; \">NA</td><td style=\"white-space: nowrap; max-width: 500px; overflow: hidden; text-overflow: ellipsis; \">NA</td><td style=\"white-space: nowrap; max-width: 500px; overflow: hidden; text-overflow: ellipsis; \">[0,0,0]</td><td style=\"white-space: nowrap; max-width: 500px; overflow: hidden; text-overflow: ellipsis; \">NA</td><td style=\"white-space: nowrap; max-width: 500px; overflow: hidden; text-overflow: ellipsis; \">NA</td><td style=\"white-space: nowrap; max-width: 500px; overflow: hidden; text-overflow: ellipsis; \">NA</td></tr>\n",
       "<tr><td style=\"white-space: nowrap; max-width: 500px; overflow: hidden; text-overflow: ellipsis; \">chr1:69063</td><td style=\"white-space: nowrap; max-width: 500px; overflow: hidden; text-overflow: ellipsis; \">[&quot;T&quot;,&quot;C&quot;]</td><td style=\"white-space: nowrap; max-width: 500px; overflow: hidden; text-overflow: ellipsis; \">NA</td><td style=\"white-space: nowrap; max-width: 500px; overflow: hidden; text-overflow: ellipsis; \">2.63e+04</td><td style=\"white-space: nowrap; max-width: 500px; overflow: hidden; text-overflow: ellipsis; \">NA</td><td style=\"white-space: nowrap; max-width: 500px; overflow: hidden; text-overflow: ellipsis; \">[366]</td><td style=\"white-space: nowrap; max-width: 500px; overflow: hidden; text-overflow: ellipsis; \">[1.20e-02]</td><td style=\"white-space: nowrap; max-width: 500px; overflow: hidden; text-overflow: ellipsis; \">29946</td><td style=\"white-space: nowrap; max-width: 500px; overflow: hidden; text-overflow: ellipsis; \">[0.00e+00]</td><td style=\"white-space: nowrap; max-width: 500px; overflow: hidden; text-overflow: ellipsis; \">[1.21e+02]</td><td style=\"white-space: nowrap; max-width: 500px; overflow: hidden; text-overflow: ellipsis; \">[3.78e-01]</td><td style=\"white-space: nowrap; max-width: 500px; overflow: hidden; text-overflow: ellipsis; \">[2.51e+01]</td><td style=\"white-space: nowrap; max-width: 500px; overflow: hidden; text-overflow: ellipsis; \">[-3.00e-01]</td><td style=\"white-space: nowrap; max-width: 500px; overflow: hidden; text-overflow: ellipsis; \">[9.99e+00]</td><td style=\"white-space: nowrap; max-width: 500px; overflow: hidden; text-overflow: ellipsis; \">NA</td><td style=\"white-space: nowrap; max-width: 500px; overflow: hidden; text-overflow: ellipsis; \">NA</td><td style=\"white-space: nowrap; max-width: 500px; overflow: hidden; text-overflow: ellipsis; \">NA</td><td style=\"white-space: nowrap; max-width: 500px; overflow: hidden; text-overflow: ellipsis; \">NA</td><td style=\"white-space: nowrap; max-width: 500px; overflow: hidden; text-overflow: ellipsis; \">[0.00e+00]</td><td style=\"white-space: nowrap; max-width: 500px; overflow: hidden; text-overflow: ellipsis; \">NA</td><td style=\"white-space: nowrap; max-width: 500px; overflow: hidden; text-overflow: ellipsis; \">[3.35e+00]</td><td style=\"white-space: nowrap; max-width: 500px; overflow: hidden; text-overflow: ellipsis; \">0.00e+00</td><td style=\"white-space: nowrap; max-width: 500px; overflow: hidden; text-overflow: ellipsis; \">False</td><td style=\"white-space: nowrap; max-width: 500px; overflow: hidden; text-overflow: ellipsis; \">21298</td><td style=\"white-space: nowrap; max-width: 500px; overflow: hidden; text-overflow: ellipsis; \">NA</td><td style=\"white-space: nowrap; max-width: 500px; overflow: hidden; text-overflow: ellipsis; \">0.00e+00</td><td style=\"white-space: nowrap; max-width: 500px; overflow: hidden; text-overflow: ellipsis; \">1.21e+02</td><td style=\"white-space: nowrap; max-width: 500px; overflow: hidden; text-overflow: ellipsis; \">3.78e-01</td><td style=\"white-space: nowrap; max-width: 500px; overflow: hidden; text-overflow: ellipsis; \">[2347]</td><td style=\"white-space: nowrap; max-width: 500px; overflow: hidden; text-overflow: ellipsis; \">[7.80e-02]</td><td style=\"white-space: nowrap; max-width: 500px; overflow: hidden; text-overflow: ellipsis; \">2.68e+01</td><td style=\"white-space: nowrap; max-width: 500px; overflow: hidden; text-overflow: ellipsis; \">-2.53e-01</td><td style=\"white-space: nowrap; max-width: 500px; overflow: hidden; text-overflow: ellipsis; \">9.99e+00</td><td style=\"white-space: nowrap; max-width: 500px; overflow: hidden; text-overflow: ellipsis; \">NA</td><td style=\"white-space: nowrap; max-width: 500px; overflow: hidden; text-overflow: ellipsis; \">0.00e+00</td><td style=\"white-space: nowrap; max-width: 500px; overflow: hidden; text-overflow: ellipsis; \">3.43e+00</td><td style=\"white-space: nowrap; max-width: 500px; overflow: hidden; text-overflow: ellipsis; \">1</td><td style=\"white-space: nowrap; max-width: 500px; overflow: hidden; text-overflow: ellipsis; \">False</td><td style=\"white-space: nowrap; max-width: 500px; overflow: hidden; text-overflow: ellipsis; \">2.79e-03</td><td style=\"white-space: nowrap; max-width: 500px; overflow: hidden; text-overflow: ellipsis; \">9.15e-02</td><td style=\"white-space: nowrap; max-width: 500px; overflow: hidden; text-overflow: ellipsis; \">0.00e+00</td><td style=\"white-space: nowrap; max-width: 500px; overflow: hidden; text-overflow: ellipsis; \">4.00e+00</td><td style=\"white-space: nowrap; max-width: 500px; overflow: hidden; text-overflow: ellipsis; \">7.18e-03</td><td style=\"white-space: nowrap; max-width: 500px; overflow: hidden; text-overflow: ellipsis; \">2.68e-01</td><td style=\"white-space: nowrap; max-width: 500px; overflow: hidden; text-overflow: ellipsis; \">0.00e+00</td><td style=\"white-space: nowrap; max-width: 500px; overflow: hidden; text-overflow: ellipsis; \">1.20e+01</td><td style=\"white-space: nowrap; max-width: 500px; overflow: hidden; text-overflow: ellipsis; \">[5010,2]</td><td style=\"white-space: nowrap; max-width: 500px; overflow: hidden; text-overflow: ellipsis; \">[1.00e+00,3.99e-04]</td><td style=\"white-space: nowrap; max-width: 500px; overflow: hidden; text-overflow: ellipsis; \">5012</td><td style=\"white-space: nowrap; max-width: 500px; overflow: hidden; text-overflow: ellipsis; \">[2505,1]</td><td style=\"white-space: nowrap; max-width: 500px; overflow: hidden; text-overflow: ellipsis; \">1.00e+00</td><td style=\"white-space: nowrap; max-width: 500px; overflow: hidden; text-overflow: ellipsis; \">2506</td><td style=\"white-space: nowrap; max-width: 500px; overflow: hidden; text-overflow: ellipsis; \">0</td><td style=\"white-space: nowrap; max-width: 500px; overflow: hidden; text-overflow: ellipsis; \">0</td><td style=\"white-space: nowrap; max-width: 500px; overflow: hidden; text-overflow: ellipsis; \">0</td><td style=\"white-space: nowrap; max-width: 500px; overflow: hidden; text-overflow: ellipsis; \">1</td><td style=\"white-space: nowrap; max-width: 500px; overflow: hidden; text-overflow: ellipsis; \">7.98e-04</td><td style=\"white-space: nowrap; max-width: 500px; overflow: hidden; text-overflow: ellipsis; \">9.98e-05</td><td style=\"white-space: nowrap; max-width: 500px; overflow: hidden; text-overflow: ellipsis; \">1.00e+00</td><td style=\"white-space: nowrap; max-width: 500px; overflow: hidden; text-overflow: ellipsis; \">&quot;EGAN00003143361&quot;</td><td style=\"white-space: nowrap; max-width: 500px; overflow: hidden; text-overflow: ellipsis; \">[0,0]</td><td style=\"white-space: nowrap; max-width: 500px; overflow: hidden; text-overflow: ellipsis; \">0</td><td style=\"white-space: nowrap; max-width: 500px; overflow: hidden; text-overflow: ellipsis; \">0</td><td style=\"white-space: nowrap; max-width: 500px; overflow: hidden; text-overflow: ellipsis; \">0/0</td><td style=\"white-space: nowrap; max-width: 500px; overflow: hidden; text-overflow: ellipsis; \">NA</td><td style=\"white-space: nowrap; max-width: 500px; overflow: hidden; text-overflow: ellipsis; \">NA</td><td style=\"white-space: nowrap; max-width: 500px; overflow: hidden; text-overflow: ellipsis; \">NA</td><td style=\"white-space: nowrap; max-width: 500px; overflow: hidden; text-overflow: ellipsis; \">[0,0,0]</td><td style=\"white-space: nowrap; max-width: 500px; overflow: hidden; text-overflow: ellipsis; \">NA</td><td style=\"white-space: nowrap; max-width: 500px; overflow: hidden; text-overflow: ellipsis; \">NA</td><td style=\"white-space: nowrap; max-width: 500px; overflow: hidden; text-overflow: ellipsis; \">NA</td></tr>\n",
       "<tr><td style=\"white-space: nowrap; max-width: 500px; overflow: hidden; text-overflow: ellipsis; \">chr1:69063</td><td style=\"white-space: nowrap; max-width: 500px; overflow: hidden; text-overflow: ellipsis; \">[&quot;T&quot;,&quot;C&quot;]</td><td style=\"white-space: nowrap; max-width: 500px; overflow: hidden; text-overflow: ellipsis; \">NA</td><td style=\"white-space: nowrap; max-width: 500px; overflow: hidden; text-overflow: ellipsis; \">2.63e+04</td><td style=\"white-space: nowrap; max-width: 500px; overflow: hidden; text-overflow: ellipsis; \">NA</td><td style=\"white-space: nowrap; max-width: 500px; overflow: hidden; text-overflow: ellipsis; \">[366]</td><td style=\"white-space: nowrap; max-width: 500px; overflow: hidden; text-overflow: ellipsis; \">[1.20e-02]</td><td style=\"white-space: nowrap; max-width: 500px; overflow: hidden; text-overflow: ellipsis; \">29946</td><td style=\"white-space: nowrap; max-width: 500px; overflow: hidden; text-overflow: ellipsis; \">[0.00e+00]</td><td style=\"white-space: nowrap; max-width: 500px; overflow: hidden; text-overflow: ellipsis; \">[1.21e+02]</td><td style=\"white-space: nowrap; max-width: 500px; overflow: hidden; text-overflow: ellipsis; \">[3.78e-01]</td><td style=\"white-space: nowrap; max-width: 500px; overflow: hidden; text-overflow: ellipsis; \">[2.51e+01]</td><td style=\"white-space: nowrap; max-width: 500px; overflow: hidden; text-overflow: ellipsis; \">[-3.00e-01]</td><td style=\"white-space: nowrap; max-width: 500px; overflow: hidden; text-overflow: ellipsis; \">[9.99e+00]</td><td style=\"white-space: nowrap; max-width: 500px; overflow: hidden; text-overflow: ellipsis; \">NA</td><td style=\"white-space: nowrap; max-width: 500px; overflow: hidden; text-overflow: ellipsis; \">NA</td><td style=\"white-space: nowrap; max-width: 500px; overflow: hidden; text-overflow: ellipsis; \">NA</td><td style=\"white-space: nowrap; max-width: 500px; overflow: hidden; text-overflow: ellipsis; \">NA</td><td style=\"white-space: nowrap; max-width: 500px; overflow: hidden; text-overflow: ellipsis; \">[0.00e+00]</td><td style=\"white-space: nowrap; max-width: 500px; overflow: hidden; text-overflow: ellipsis; \">NA</td><td style=\"white-space: nowrap; max-width: 500px; overflow: hidden; text-overflow: ellipsis; \">[3.35e+00]</td><td style=\"white-space: nowrap; max-width: 500px; overflow: hidden; text-overflow: ellipsis; \">0.00e+00</td><td style=\"white-space: nowrap; max-width: 500px; overflow: hidden; text-overflow: ellipsis; \">False</td><td style=\"white-space: nowrap; max-width: 500px; overflow: hidden; text-overflow: ellipsis; \">21298</td><td style=\"white-space: nowrap; max-width: 500px; overflow: hidden; text-overflow: ellipsis; \">NA</td><td style=\"white-space: nowrap; max-width: 500px; overflow: hidden; text-overflow: ellipsis; \">0.00e+00</td><td style=\"white-space: nowrap; max-width: 500px; overflow: hidden; text-overflow: ellipsis; \">1.21e+02</td><td style=\"white-space: nowrap; max-width: 500px; overflow: hidden; text-overflow: ellipsis; \">3.78e-01</td><td style=\"white-space: nowrap; max-width: 500px; overflow: hidden; text-overflow: ellipsis; \">[2347]</td><td style=\"white-space: nowrap; max-width: 500px; overflow: hidden; text-overflow: ellipsis; \">[7.80e-02]</td><td style=\"white-space: nowrap; max-width: 500px; overflow: hidden; text-overflow: ellipsis; \">2.68e+01</td><td style=\"white-space: nowrap; max-width: 500px; overflow: hidden; text-overflow: ellipsis; \">-2.53e-01</td><td style=\"white-space: nowrap; max-width: 500px; overflow: hidden; text-overflow: ellipsis; \">9.99e+00</td><td style=\"white-space: nowrap; max-width: 500px; overflow: hidden; text-overflow: ellipsis; \">NA</td><td style=\"white-space: nowrap; max-width: 500px; overflow: hidden; text-overflow: ellipsis; \">0.00e+00</td><td style=\"white-space: nowrap; max-width: 500px; overflow: hidden; text-overflow: ellipsis; \">3.43e+00</td><td style=\"white-space: nowrap; max-width: 500px; overflow: hidden; text-overflow: ellipsis; \">1</td><td style=\"white-space: nowrap; max-width: 500px; overflow: hidden; text-overflow: ellipsis; \">False</td><td style=\"white-space: nowrap; max-width: 500px; overflow: hidden; text-overflow: ellipsis; \">2.79e-03</td><td style=\"white-space: nowrap; max-width: 500px; overflow: hidden; text-overflow: ellipsis; \">9.15e-02</td><td style=\"white-space: nowrap; max-width: 500px; overflow: hidden; text-overflow: ellipsis; \">0.00e+00</td><td style=\"white-space: nowrap; max-width: 500px; overflow: hidden; text-overflow: ellipsis; \">4.00e+00</td><td style=\"white-space: nowrap; max-width: 500px; overflow: hidden; text-overflow: ellipsis; \">7.18e-03</td><td style=\"white-space: nowrap; max-width: 500px; overflow: hidden; text-overflow: ellipsis; \">2.68e-01</td><td style=\"white-space: nowrap; max-width: 500px; overflow: hidden; text-overflow: ellipsis; \">0.00e+00</td><td style=\"white-space: nowrap; max-width: 500px; overflow: hidden; text-overflow: ellipsis; \">1.20e+01</td><td style=\"white-space: nowrap; max-width: 500px; overflow: hidden; text-overflow: ellipsis; \">[5010,2]</td><td style=\"white-space: nowrap; max-width: 500px; overflow: hidden; text-overflow: ellipsis; \">[1.00e+00,3.99e-04]</td><td style=\"white-space: nowrap; max-width: 500px; overflow: hidden; text-overflow: ellipsis; \">5012</td><td style=\"white-space: nowrap; max-width: 500px; overflow: hidden; text-overflow: ellipsis; \">[2505,1]</td><td style=\"white-space: nowrap; max-width: 500px; overflow: hidden; text-overflow: ellipsis; \">1.00e+00</td><td style=\"white-space: nowrap; max-width: 500px; overflow: hidden; text-overflow: ellipsis; \">2506</td><td style=\"white-space: nowrap; max-width: 500px; overflow: hidden; text-overflow: ellipsis; \">0</td><td style=\"white-space: nowrap; max-width: 500px; overflow: hidden; text-overflow: ellipsis; \">0</td><td style=\"white-space: nowrap; max-width: 500px; overflow: hidden; text-overflow: ellipsis; \">0</td><td style=\"white-space: nowrap; max-width: 500px; overflow: hidden; text-overflow: ellipsis; \">1</td><td style=\"white-space: nowrap; max-width: 500px; overflow: hidden; text-overflow: ellipsis; \">7.98e-04</td><td style=\"white-space: nowrap; max-width: 500px; overflow: hidden; text-overflow: ellipsis; \">9.98e-05</td><td style=\"white-space: nowrap; max-width: 500px; overflow: hidden; text-overflow: ellipsis; \">1.00e+00</td><td style=\"white-space: nowrap; max-width: 500px; overflow: hidden; text-overflow: ellipsis; \">&quot;EGAN00003143363&quot;</td><td style=\"white-space: nowrap; max-width: 500px; overflow: hidden; text-overflow: ellipsis; \">[0,0]</td><td style=\"white-space: nowrap; max-width: 500px; overflow: hidden; text-overflow: ellipsis; \">0</td><td style=\"white-space: nowrap; max-width: 500px; overflow: hidden; text-overflow: ellipsis; \">0</td><td style=\"white-space: nowrap; max-width: 500px; overflow: hidden; text-overflow: ellipsis; \">0/0</td><td style=\"white-space: nowrap; max-width: 500px; overflow: hidden; text-overflow: ellipsis; \">NA</td><td style=\"white-space: nowrap; max-width: 500px; overflow: hidden; text-overflow: ellipsis; \">NA</td><td style=\"white-space: nowrap; max-width: 500px; overflow: hidden; text-overflow: ellipsis; \">NA</td><td style=\"white-space: nowrap; max-width: 500px; overflow: hidden; text-overflow: ellipsis; \">[0,0,0]</td><td style=\"white-space: nowrap; max-width: 500px; overflow: hidden; text-overflow: ellipsis; \">NA</td><td style=\"white-space: nowrap; max-width: 500px; overflow: hidden; text-overflow: ellipsis; \">NA</td><td style=\"white-space: nowrap; max-width: 500px; overflow: hidden; text-overflow: ellipsis; \">NA</td></tr>\n",
       "</tbody></table><p style=\"background: #fdd; padding: 0.4em;\">showing top 10 rows</p>\n"
      ],
      "text/plain": [
       "+---------------+------------+------+----------+----------+--------------+\n",
       "| locus         | alleles    | rsid |     qual | filters  | info.AC      |\n",
       "+---------------+------------+------+----------+----------+--------------+\n",
       "| locus<GRCh38> | array<str> | str  |  float64 | set<str> | array<int32> |\n",
       "+---------------+------------+------+----------+----------+--------------+\n",
       "| chr1:69063    | [\"T\",\"C\"]  | NA   | 2.63e+04 | NA       | [366]        |\n",
       "| chr1:69063    | [\"T\",\"C\"]  | NA   | 2.63e+04 | NA       | [366]        |\n",
       "| chr1:69063    | [\"T\",\"C\"]  | NA   | 2.63e+04 | NA       | [366]        |\n",
       "| chr1:69063    | [\"T\",\"C\"]  | NA   | 2.63e+04 | NA       | [366]        |\n",
       "| chr1:69063    | [\"T\",\"C\"]  | NA   | 2.63e+04 | NA       | [366]        |\n",
       "| chr1:69063    | [\"T\",\"C\"]  | NA   | 2.63e+04 | NA       | [366]        |\n",
       "| chr1:69063    | [\"T\",\"C\"]  | NA   | 2.63e+04 | NA       | [366]        |\n",
       "| chr1:69063    | [\"T\",\"C\"]  | NA   | 2.63e+04 | NA       | [366]        |\n",
       "| chr1:69063    | [\"T\",\"C\"]  | NA   | 2.63e+04 | NA       | [366]        |\n",
       "| chr1:69063    | [\"T\",\"C\"]  | NA   | 2.63e+04 | NA       | [366]        |\n",
       "+---------------+------------+------+----------+----------+--------------+\n",
       "\n",
       "+----------------+---------+----------------------+----------------+\n",
       "| info.AF        | info.AN | info.AS_BaseQRankSum | info.AS_FS     |\n",
       "+----------------+---------+----------------------+----------------+\n",
       "| array<float64> |   int32 | array<float64>       | array<float64> |\n",
       "+----------------+---------+----------------------+----------------+\n",
       "| [1.20e-02]     |   29946 | [0.00e+00]           | [1.21e+02]     |\n",
       "| [1.20e-02]     |   29946 | [0.00e+00]           | [1.21e+02]     |\n",
       "| [1.20e-02]     |   29946 | [0.00e+00]           | [1.21e+02]     |\n",
       "| [1.20e-02]     |   29946 | [0.00e+00]           | [1.21e+02]     |\n",
       "| [1.20e-02]     |   29946 | [0.00e+00]           | [1.21e+02]     |\n",
       "| [1.20e-02]     |   29946 | [0.00e+00]           | [1.21e+02]     |\n",
       "| [1.20e-02]     |   29946 | [0.00e+00]           | [1.21e+02]     |\n",
       "| [1.20e-02]     |   29946 | [0.00e+00]           | [1.21e+02]     |\n",
       "| [1.20e-02]     |   29946 | [0.00e+00]           | [1.21e+02]     |\n",
       "| [1.20e-02]     |   29946 | [0.00e+00]           | [1.21e+02]     |\n",
       "+----------------+---------+----------------------+----------------+\n",
       "\n",
       "+-------------------------+----------------+-------------------+\n",
       "| info.AS_InbreedingCoeff | info.AS_MQ     | info.AS_MQRankSum |\n",
       "+-------------------------+----------------+-------------------+\n",
       "| array<float64>          | array<float64> | array<float64>    |\n",
       "+-------------------------+----------------+-------------------+\n",
       "| [3.78e-01]              | [2.51e+01]     | [-3.00e-01]       |\n",
       "| [3.78e-01]              | [2.51e+01]     | [-3.00e-01]       |\n",
       "| [3.78e-01]              | [2.51e+01]     | [-3.00e-01]       |\n",
       "| [3.78e-01]              | [2.51e+01]     | [-3.00e-01]       |\n",
       "| [3.78e-01]              | [2.51e+01]     | [-3.00e-01]       |\n",
       "| [3.78e-01]              | [2.51e+01]     | [-3.00e-01]       |\n",
       "| [3.78e-01]              | [2.51e+01]     | [-3.00e-01]       |\n",
       "| [3.78e-01]              | [2.51e+01]     | [-3.00e-01]       |\n",
       "| [3.78e-01]              | [2.51e+01]     | [-3.00e-01]       |\n",
       "| [3.78e-01]              | [2.51e+01]     | [-3.00e-01]       |\n",
       "+-------------------------+----------------+-------------------+\n",
       "\n",
       "+----------------+--------------------------+----------------+\n",
       "| info.AS_QD     | info.AS_RAW_BaseQRankSum | info.AS_RAW_MQ |\n",
       "+----------------+--------------------------+----------------+\n",
       "| array<float64> | str                      | str            |\n",
       "+----------------+--------------------------+----------------+\n",
       "| [9.99e+00]     | NA                       | NA             |\n",
       "| [9.99e+00]     | NA                       | NA             |\n",
       "| [9.99e+00]     | NA                       | NA             |\n",
       "| [9.99e+00]     | NA                       | NA             |\n",
       "| [9.99e+00]     | NA                       | NA             |\n",
       "| [9.99e+00]     | NA                       | NA             |\n",
       "| [9.99e+00]     | NA                       | NA             |\n",
       "| [9.99e+00]     | NA                       | NA             |\n",
       "| [9.99e+00]     | NA                       | NA             |\n",
       "| [9.99e+00]     | NA                       | NA             |\n",
       "+----------------+--------------------------+----------------+\n",
       "\n",
       "+-----------------------+----------------------------+------------------------+\n",
       "| info.AS_RAW_MQRankSum | info.AS_RAW_ReadPosRankSum | info.AS_ReadPosRankSum |\n",
       "+-----------------------+----------------------------+------------------------+\n",
       "| str                   | str                        | array<float64>         |\n",
       "+-----------------------+----------------------------+------------------------+\n",
       "| NA                    | NA                         | [0.00e+00]             |\n",
       "| NA                    | NA                         | [0.00e+00]             |\n",
       "| NA                    | NA                         | [0.00e+00]             |\n",
       "| NA                    | NA                         | [0.00e+00]             |\n",
       "| NA                    | NA                         | [0.00e+00]             |\n",
       "| NA                    | NA                         | [0.00e+00]             |\n",
       "| NA                    | NA                         | [0.00e+00]             |\n",
       "| NA                    | NA                         | [0.00e+00]             |\n",
       "| NA                    | NA                         | [0.00e+00]             |\n",
       "| NA                    | NA                         | [0.00e+00]             |\n",
       "+-----------------------+----------------------------+------------------------+\n",
       "\n",
       "+------------------+----------------+-------------------+---------+---------+\n",
       "| info.AS_SB_TABLE | info.AS_SOR    | info.BaseQRankSum | info.DB | info.DP |\n",
       "+------------------+----------------+-------------------+---------+---------+\n",
       "| str              | array<float64> |           float64 |    bool |   int32 |\n",
       "+------------------+----------------+-------------------+---------+---------+\n",
       "| NA               | [3.35e+00]     |          0.00e+00 |   False |   21298 |\n",
       "| NA               | [3.35e+00]     |          0.00e+00 |   False |   21298 |\n",
       "| NA               | [3.35e+00]     |          0.00e+00 |   False |   21298 |\n",
       "| NA               | [3.35e+00]     |          0.00e+00 |   False |   21298 |\n",
       "| NA               | [3.35e+00]     |          0.00e+00 |   False |   21298 |\n",
       "| NA               | [3.35e+00]     |          0.00e+00 |   False |   21298 |\n",
       "| NA               | [3.35e+00]     |          0.00e+00 |   False |   21298 |\n",
       "| NA               | [3.35e+00]     |          0.00e+00 |   False |   21298 |\n",
       "| NA               | [3.35e+00]     |          0.00e+00 |   False |   21298 |\n",
       "| NA               | [3.35e+00]     |          0.00e+00 |   False |   21298 |\n",
       "+------------------+----------------+-------------------+---------+---------+\n",
       "\n",
       "+----------+----------------+----------+----------------------+--------------+\n",
       "| info.END | info.ExcessHet |  info.FS | info.InbreedingCoeff | info.MLEAC   |\n",
       "+----------+----------------+----------+----------------------+--------------+\n",
       "|    int32 |        float64 |  float64 |              float64 | array<int32> |\n",
       "+----------+----------------+----------+----------------------+--------------+\n",
       "|       NA |       0.00e+00 | 1.21e+02 |             3.78e-01 | [2347]       |\n",
       "|       NA |       0.00e+00 | 1.21e+02 |             3.78e-01 | [2347]       |\n",
       "|       NA |       0.00e+00 | 1.21e+02 |             3.78e-01 | [2347]       |\n",
       "|       NA |       0.00e+00 | 1.21e+02 |             3.78e-01 | [2347]       |\n",
       "|       NA |       0.00e+00 | 1.21e+02 |             3.78e-01 | [2347]       |\n",
       "|       NA |       0.00e+00 | 1.21e+02 |             3.78e-01 | [2347]       |\n",
       "|       NA |       0.00e+00 | 1.21e+02 |             3.78e-01 | [2347]       |\n",
       "|       NA |       0.00e+00 | 1.21e+02 |             3.78e-01 | [2347]       |\n",
       "|       NA |       0.00e+00 | 1.21e+02 |             3.78e-01 | [2347]       |\n",
       "|       NA |       0.00e+00 | 1.21e+02 |             3.78e-01 | [2347]       |\n",
       "+----------+----------------+----------+----------------------+--------------+\n",
       "\n",
       "+----------------+----------+----------------+----------+------------------+\n",
       "| info.MLEAF     |  info.MQ | info.MQRankSum |  info.QD | info.RAW_MQandDP |\n",
       "+----------------+----------+----------------+----------+------------------+\n",
       "| array<float64> |  float64 |        float64 |  float64 | array<int32>     |\n",
       "+----------------+----------+----------------+----------+------------------+\n",
       "| [7.80e-02]     | 2.68e+01 |      -2.53e-01 | 9.99e+00 | NA               |\n",
       "| [7.80e-02]     | 2.68e+01 |      -2.53e-01 | 9.99e+00 | NA               |\n",
       "| [7.80e-02]     | 2.68e+01 |      -2.53e-01 | 9.99e+00 | NA               |\n",
       "| [7.80e-02]     | 2.68e+01 |      -2.53e-01 | 9.99e+00 | NA               |\n",
       "| [7.80e-02]     | 2.68e+01 |      -2.53e-01 | 9.99e+00 | NA               |\n",
       "| [7.80e-02]     | 2.68e+01 |      -2.53e-01 | 9.99e+00 | NA               |\n",
       "| [7.80e-02]     | 2.68e+01 |      -2.53e-01 | 9.99e+00 | NA               |\n",
       "| [7.80e-02]     | 2.68e+01 |      -2.53e-01 | 9.99e+00 | NA               |\n",
       "| [7.80e-02]     | 2.68e+01 |      -2.53e-01 | 9.99e+00 | NA               |\n",
       "| [7.80e-02]     | 2.68e+01 |      -2.53e-01 | 9.99e+00 | NA               |\n",
       "+----------------+----------+----------------+----------+------------------+\n",
       "\n",
       "+---------------------+----------+---------+-----------+\n",
       "| info.ReadPosRankSum | info.SOR | a_index | was_split |\n",
       "+---------------------+----------+---------+-----------+\n",
       "|             float64 |  float64 |   int32 |      bool |\n",
       "+---------------------+----------+---------+-----------+\n",
       "|            0.00e+00 | 3.43e+00 |       1 |     False |\n",
       "|            0.00e+00 | 3.43e+00 |       1 |     False |\n",
       "|            0.00e+00 | 3.43e+00 |       1 |     False |\n",
       "|            0.00e+00 | 3.43e+00 |       1 |     False |\n",
       "|            0.00e+00 | 3.43e+00 |       1 |     False |\n",
       "|            0.00e+00 | 3.43e+00 |       1 |     False |\n",
       "|            0.00e+00 | 3.43e+00 |       1 |     False |\n",
       "|            0.00e+00 | 3.43e+00 |       1 |     False |\n",
       "|            0.00e+00 | 3.43e+00 |       1 |     False |\n",
       "|            0.00e+00 | 3.43e+00 |       1 |     False |\n",
       "+---------------------+----------+---------+-----------+\n",
       "\n",
       "+--------------------------+---------------------------+\n",
       "| variant_qc.dp_stats.mean | variant_qc.dp_stats.stdev |\n",
       "+--------------------------+---------------------------+\n",
       "|                  float64 |                   float64 |\n",
       "+--------------------------+---------------------------+\n",
       "|                 2.79e-03 |                  9.15e-02 |\n",
       "|                 2.79e-03 |                  9.15e-02 |\n",
       "|                 2.79e-03 |                  9.15e-02 |\n",
       "|                 2.79e-03 |                  9.15e-02 |\n",
       "|                 2.79e-03 |                  9.15e-02 |\n",
       "|                 2.79e-03 |                  9.15e-02 |\n",
       "|                 2.79e-03 |                  9.15e-02 |\n",
       "|                 2.79e-03 |                  9.15e-02 |\n",
       "|                 2.79e-03 |                  9.15e-02 |\n",
       "|                 2.79e-03 |                  9.15e-02 |\n",
       "+--------------------------+---------------------------+\n",
       "\n",
       "+-------------------------+-------------------------+--------------------------+\n",
       "| variant_qc.dp_stats.min | variant_qc.dp_stats.max | variant_qc.gq_stats.mean |\n",
       "+-------------------------+-------------------------+--------------------------+\n",
       "|                 float64 |                 float64 |                  float64 |\n",
       "+-------------------------+-------------------------+--------------------------+\n",
       "|                0.00e+00 |                4.00e+00 |                 7.18e-03 |\n",
       "|                0.00e+00 |                4.00e+00 |                 7.18e-03 |\n",
       "|                0.00e+00 |                4.00e+00 |                 7.18e-03 |\n",
       "|                0.00e+00 |                4.00e+00 |                 7.18e-03 |\n",
       "|                0.00e+00 |                4.00e+00 |                 7.18e-03 |\n",
       "|                0.00e+00 |                4.00e+00 |                 7.18e-03 |\n",
       "|                0.00e+00 |                4.00e+00 |                 7.18e-03 |\n",
       "|                0.00e+00 |                4.00e+00 |                 7.18e-03 |\n",
       "|                0.00e+00 |                4.00e+00 |                 7.18e-03 |\n",
       "|                0.00e+00 |                4.00e+00 |                 7.18e-03 |\n",
       "+-------------------------+-------------------------+--------------------------+\n",
       "\n",
       "+---------------------------+-------------------------+\n",
       "| variant_qc.gq_stats.stdev | variant_qc.gq_stats.min |\n",
       "+---------------------------+-------------------------+\n",
       "|                   float64 |                 float64 |\n",
       "+---------------------------+-------------------------+\n",
       "|                  2.68e-01 |                0.00e+00 |\n",
       "|                  2.68e-01 |                0.00e+00 |\n",
       "|                  2.68e-01 |                0.00e+00 |\n",
       "|                  2.68e-01 |                0.00e+00 |\n",
       "|                  2.68e-01 |                0.00e+00 |\n",
       "|                  2.68e-01 |                0.00e+00 |\n",
       "|                  2.68e-01 |                0.00e+00 |\n",
       "|                  2.68e-01 |                0.00e+00 |\n",
       "|                  2.68e-01 |                0.00e+00 |\n",
       "|                  2.68e-01 |                0.00e+00 |\n",
       "+---------------------------+-------------------------+\n",
       "\n",
       "+-------------------------+---------------+---------------------+\n",
       "| variant_qc.gq_stats.max | variant_qc.AC | variant_qc.AF       |\n",
       "+-------------------------+---------------+---------------------+\n",
       "|                 float64 | array<int32>  | array<float64>      |\n",
       "+-------------------------+---------------+---------------------+\n",
       "|                1.20e+01 | [5010,2]      | [1.00e+00,3.99e-04] |\n",
       "|                1.20e+01 | [5010,2]      | [1.00e+00,3.99e-04] |\n",
       "|                1.20e+01 | [5010,2]      | [1.00e+00,3.99e-04] |\n",
       "|                1.20e+01 | [5010,2]      | [1.00e+00,3.99e-04] |\n",
       "|                1.20e+01 | [5010,2]      | [1.00e+00,3.99e-04] |\n",
       "|                1.20e+01 | [5010,2]      | [1.00e+00,3.99e-04] |\n",
       "|                1.20e+01 | [5010,2]      | [1.00e+00,3.99e-04] |\n",
       "|                1.20e+01 | [5010,2]      | [1.00e+00,3.99e-04] |\n",
       "|                1.20e+01 | [5010,2]      | [1.00e+00,3.99e-04] |\n",
       "|                1.20e+01 | [5010,2]      | [1.00e+00,3.99e-04] |\n",
       "+-------------------------+---------------+---------------------+\n",
       "\n",
       "+---------------+-----------------------------+----------------------+\n",
       "| variant_qc.AN | variant_qc.homozygote_count | variant_qc.call_rate |\n",
       "+---------------+-----------------------------+----------------------+\n",
       "|         int32 | array<int32>                |              float64 |\n",
       "+---------------+-----------------------------+----------------------+\n",
       "|          5012 | [2505,1]                    |             1.00e+00 |\n",
       "|          5012 | [2505,1]                    |             1.00e+00 |\n",
       "|          5012 | [2505,1]                    |             1.00e+00 |\n",
       "|          5012 | [2505,1]                    |             1.00e+00 |\n",
       "|          5012 | [2505,1]                    |             1.00e+00 |\n",
       "|          5012 | [2505,1]                    |             1.00e+00 |\n",
       "|          5012 | [2505,1]                    |             1.00e+00 |\n",
       "|          5012 | [2505,1]                    |             1.00e+00 |\n",
       "|          5012 | [2505,1]                    |             1.00e+00 |\n",
       "|          5012 | [2505,1]                    |             1.00e+00 |\n",
       "+---------------+-----------------------------+----------------------+\n",
       "\n",
       "+---------------------+-------------------------+-----------------------+\n",
       "| variant_qc.n_called | variant_qc.n_not_called | variant_qc.n_filtered |\n",
       "+---------------------+-------------------------+-----------------------+\n",
       "|               int64 |                   int64 |                 int64 |\n",
       "+---------------------+-------------------------+-----------------------+\n",
       "|                2506 |                       0 |                     0 |\n",
       "|                2506 |                       0 |                     0 |\n",
       "|                2506 |                       0 |                     0 |\n",
       "|                2506 |                       0 |                     0 |\n",
       "|                2506 |                       0 |                     0 |\n",
       "|                2506 |                       0 |                     0 |\n",
       "|                2506 |                       0 |                     0 |\n",
       "|                2506 |                       0 |                     0 |\n",
       "|                2506 |                       0 |                     0 |\n",
       "|                2506 |                       0 |                     0 |\n",
       "+---------------------+-------------------------+-----------------------+\n",
       "\n",
       "+------------------+----------------------+-------------------------+\n",
       "| variant_qc.n_het | variant_qc.n_non_ref | variant_qc.het_freq_hwe |\n",
       "+------------------+----------------------+-------------------------+\n",
       "|            int64 |                int64 |                 float64 |\n",
       "+------------------+----------------------+-------------------------+\n",
       "|                0 |                    1 |                7.98e-04 |\n",
       "|                0 |                    1 |                7.98e-04 |\n",
       "|                0 |                    1 |                7.98e-04 |\n",
       "|                0 |                    1 |                7.98e-04 |\n",
       "|                0 |                    1 |                7.98e-04 |\n",
       "|                0 |                    1 |                7.98e-04 |\n",
       "|                0 |                    1 |                7.98e-04 |\n",
       "|                0 |                    1 |                7.98e-04 |\n",
       "|                0 |                    1 |                7.98e-04 |\n",
       "|                0 |                    1 |                7.98e-04 |\n",
       "+------------------+----------------------+-------------------------+\n",
       "\n",
       "+------------------------+-------------------------------+-------------------+\n",
       "| variant_qc.p_value_hwe | variant_qc.p_value_excess_het | s                 |\n",
       "+------------------------+-------------------------------+-------------------+\n",
       "|                float64 |                       float64 | str               |\n",
       "+------------------------+-------------------------------+-------------------+\n",
       "|               9.98e-05 |                      1.00e+00 | \"EGAN00003143336\" |\n",
       "|               9.98e-05 |                      1.00e+00 | \"EGAN00003143339\" |\n",
       "|               9.98e-05 |                      1.00e+00 | \"EGAN00003143342\" |\n",
       "|               9.98e-05 |                      1.00e+00 | \"EGAN00003143343\" |\n",
       "|               9.98e-05 |                      1.00e+00 | \"EGAN00003143345\" |\n",
       "|               9.98e-05 |                      1.00e+00 | \"EGAN00003143351\" |\n",
       "|               9.98e-05 |                      1.00e+00 | \"EGAN00003143359\" |\n",
       "|               9.98e-05 |                      1.00e+00 | \"EGAN00003143360\" |\n",
       "|               9.98e-05 |                      1.00e+00 | \"EGAN00003143361\" |\n",
       "|               9.98e-05 |                      1.00e+00 | \"EGAN00003143363\" |\n",
       "+------------------------+-------------------------------+-------------------+\n",
       "\n",
       "+--------------+-------+-------+------+--------+------+-----+--------------+\n",
       "| AD           |    DP |    GQ | GT   | MIN_DP | PGT  | PID | PL           |\n",
       "+--------------+-------+-------+------+--------+------+-----+--------------+\n",
       "| array<int32> | int32 | int32 | call |  int32 | call | str | array<int32> |\n",
       "+--------------+-------+-------+------+--------+------+-----+--------------+\n",
       "| [0,0]        |     0 |     0 | 0/0  |     NA | NA   | NA  | [0,0,0]      |\n",
       "| [0,0]        |     0 |     0 | 0/0  |     NA | NA   | NA  | [0,0,0]      |\n",
       "| [0,0]        |     0 |     0 | 0/0  |     NA | NA   | NA  | [0,0,0]      |\n",
       "| [0,0]        |     0 |     0 | 0/0  |     NA | NA   | NA  | [0,0,0]      |\n",
       "| [0,0]        |     0 |     0 | 0/0  |     NA | NA   | NA  | [0,0,0]      |\n",
       "| [0,0]        |     0 |     0 | 0/0  |     NA | NA   | NA  | [0,0,0]      |\n",
       "| [0,0]        |     0 |     0 | 0/0  |     NA | NA   | NA  | [0,0,0]      |\n",
       "| [0,0]        |     0 |     0 | 0/0  |     NA | NA   | NA  | [0,0,0]      |\n",
       "| [0,0]        |     0 |     0 | 0/0  |     NA | NA   | NA  | [0,0,0]      |\n",
       "| [0,0]        |     0 |     0 | 0/0  |     NA | NA   | NA  | [0,0,0]      |\n",
       "+--------------+-------+-------+------+--------+------+-----+--------------+\n",
       "\n",
       "+-------+-------+--------------+\n",
       "|    PS |   RGQ | SB           |\n",
       "+-------+-------+--------------+\n",
       "| int32 | int32 | array<int32> |\n",
       "+-------+-------+--------------+\n",
       "|    NA |    NA | NA           |\n",
       "|    NA |    NA | NA           |\n",
       "|    NA |    NA | NA           |\n",
       "|    NA |    NA | NA           |\n",
       "|    NA |    NA | NA           |\n",
       "|    NA |    NA | NA           |\n",
       "|    NA |    NA | NA           |\n",
       "|    NA |    NA | NA           |\n",
       "|    NA |    NA | NA           |\n",
       "|    NA |    NA | NA           |\n",
       "+-------+-------+--------------+\n",
       "showing top 10 rows"
      ]
     },
     "metadata": {},
     "output_type": "display_data"
    }
   ],
   "source": [
    "sanger_mt.entries().show()"
   ]
  },
  {
   "cell_type": "code",
   "execution_count": 55,
   "id": "e3ba9003",
   "metadata": {},
   "outputs": [
    {
     "name": "stderr",
     "output_type": "stream",
     "text": [
      "[Stage 71:======================================================(191 + 6) / 191]\r"
     ]
    },
    {
     "data": {
      "text/html": [
       "\n",
       "\n",
       "\n",
       "\n",
       "\n",
       "\n",
       "  <div class=\"bk-root\" id=\"8d8280eb-9c3a-4a1b-896c-97ecbc5fed21\" data-root-id=\"4043\"></div>\n"
      ]
     },
     "metadata": {},
     "output_type": "display_data"
    },
    {
     "data": {
      "application/javascript": [
       "(function(root) {\n",
       "  function embed_document(root) {\n",
       "    \n",
       "  var docs_json = {\"cf637e1e-d76a-4f17-9ca0-5389e5eeae81\":{\"roots\":{\"references\":[{\"attributes\":{\"background_fill_color\":{\"value\":\"#EEEEEE\"},\"below\":[{\"id\":\"4054\",\"type\":\"LinearAxis\"}],\"center\":[{\"id\":\"4058\",\"type\":\"Grid\"},{\"id\":\"4063\",\"type\":\"Grid\"},{\"id\":\"4088\",\"type\":\"Legend\"}],\"left\":[{\"id\":\"4059\",\"type\":\"LinearAxis\"}],\"renderers\":[{\"id\":\"4080\",\"type\":\"GlyphRenderer\"}],\"title\":{\"id\":\"4044\",\"type\":\"Title\"},\"toolbar\":{\"id\":\"4070\",\"type\":\"Toolbar\"},\"x_range\":{\"id\":\"4046\",\"type\":\"Range1d\"},\"x_scale\":{\"id\":\"4050\",\"type\":\"LinearScale\"},\"y_range\":{\"id\":\"4048\",\"type\":\"DataRange1d\"},\"y_scale\":{\"id\":\"4052\",\"type\":\"LinearScale\"}},\"id\":\"4043\",\"subtype\":\"Figure\",\"type\":\"Plot\"},{\"attributes\":{\"items\":[{\"id\":\"4089\",\"type\":\"LegendItem\"}]},\"id\":\"4088\",\"type\":\"Legend\"},{\"attributes\":{\"dimension\":1,\"ticker\":{\"id\":\"4060\",\"type\":\"BasicTicker\"}},\"id\":\"4063\",\"type\":\"Grid\"},{\"attributes\":{\"formatter\":{\"id\":\"4086\",\"type\":\"BasicTickFormatter\"},\"ticker\":{\"id\":\"4055\",\"type\":\"BasicTicker\"}},\"id\":\"4054\",\"type\":\"LinearAxis\"},{\"attributes\":{},\"id\":\"4068\",\"type\":\"ResetTool\"},{\"attributes\":{\"bottom_units\":\"screen\",\"fill_alpha\":{\"value\":0.5},\"fill_color\":{\"value\":\"lightgrey\"},\"left_units\":\"screen\",\"level\":\"overlay\",\"line_alpha\":{\"value\":1.0},\"line_color\":{\"value\":\"black\"},\"line_dash\":[4,4],\"line_width\":{\"value\":2},\"render_mode\":\"css\",\"right_units\":\"screen\",\"top_units\":\"screen\"},\"id\":\"4087\",\"type\":\"BoxAnnotation\"},{\"attributes\":{},\"id\":\"4055\",\"type\":\"BasicTicker\"},{\"attributes\":{\"bottom\":{\"value\":0},\"fill_color\":{\"value\":\"#1f77b4\"},\"left\":{\"field\":\"left\"},\"right\":{\"field\":\"right\"},\"top\":{\"field\":\"top\"}},\"id\":\"4078\",\"type\":\"Quad\"},{\"attributes\":{},\"id\":\"4244\",\"type\":\"UnionRenderers\"},{\"attributes\":{\"bottom\":{\"value\":0},\"fill_alpha\":{\"value\":0.1},\"fill_color\":{\"value\":\"#1f77b4\"},\"left\":{\"field\":\"left\"},\"line_alpha\":{\"value\":0.1},\"line_color\":{\"value\":\"#1f77b4\"},\"right\":{\"field\":\"right\"},\"top\":{\"field\":\"top\"}},\"id\":\"4079\",\"type\":\"Quad\"},{\"attributes\":{},\"id\":\"4245\",\"type\":\"Selection\"},{\"attributes\":{},\"id\":\"4064\",\"type\":\"PanTool\"},{\"attributes\":{},\"id\":\"4060\",\"type\":\"BasicTicker\"},{\"attributes\":{},\"id\":\"4052\",\"type\":\"LinearScale\"},{\"attributes\":{\"label\":{\"value\":\"\"},\"renderers\":[{\"id\":\"4080\",\"type\":\"GlyphRenderer\"}]},\"id\":\"4089\",\"type\":\"LegendItem\"},{\"attributes\":{\"callback\":null,\"end\":1.0499800478850758,\"start\":-0.04958100558659218},\"id\":\"4046\",\"type\":\"Range1d\"},{\"attributes\":{},\"id\":\"4086\",\"type\":\"BasicTickFormatter\"},{\"attributes\":{\"active_drag\":\"auto\",\"active_inspect\":\"auto\",\"active_multi\":null,\"active_scroll\":\"auto\",\"active_tap\":\"auto\",\"tools\":[{\"id\":\"4064\",\"type\":\"PanTool\"},{\"id\":\"4065\",\"type\":\"WheelZoomTool\"},{\"id\":\"4066\",\"type\":\"BoxZoomTool\"},{\"id\":\"4067\",\"type\":\"SaveTool\"},{\"id\":\"4068\",\"type\":\"ResetTool\"},{\"id\":\"4069\",\"type\":\"HelpTool\"}]},\"id\":\"4070\",\"type\":\"Toolbar\"},{\"attributes\":{\"text\":\"Broad variant calls: call rate\"},\"id\":\"4044\",\"type\":\"Title\"},{\"attributes\":{},\"id\":\"4050\",\"type\":\"LinearScale\"},{\"attributes\":{\"callback\":null,\"data\":{\"left\":[0.0003990422984836393,0.020391061452513966,0.04038308060654429,0.06037509976057461,0.08036711891460495,0.10035913806863528,0.1203511572226656,0.14034317637669594,0.16033519553072625,0.18032721468475657,0.20031923383878691,0.22031125299281723,0.24030327214684755,0.26029529130087786,0.28028731045490823,0.30027932960893855,0.32027134876296887,0.3402633679169992,0.3602553870710295,0.38024740622505987,0.4002394253790902,0.4202314445331205,0.4402234636871508,0.46021548284118113,0.48020750199521145,0.5001995211492418,0.5201915403032721,0.5401835594573025,0.5601755786113328,0.5801675977653631,0.6001596169193935,0.6201516360734237,0.6401436552274541,0.6601356743814845,0.6801276935355147,0.7001197126895451,0.7201117318435754,0.7401037509976057,0.7600957701516361,0.7800877893056664,0.8000798084596967,0.820071827613727,0.8400638467677574,0.8600558659217877,0.880047885075818,0.9000399042298484,0.9200319233838786,0.940023942537909,0.9600159616919393,0.9800079808459696],\"right\":[0.020391061452513966,0.04038308060654429,0.06037509976057461,0.08036711891460495,0.10035913806863528,0.1203511572226656,0.14034317637669594,0.16033519553072625,0.18032721468475657,0.20031923383878691,0.22031125299281723,0.24030327214684755,0.26029529130087786,0.28028731045490823,0.30027932960893855,0.32027134876296887,0.3402633679169992,0.3602553870710295,0.38024740622505987,0.4002394253790902,0.4202314445331205,0.4402234636871508,0.46021548284118113,0.48020750199521145,0.5001995211492418,0.5201915403032721,0.5401835594573025,0.5601755786113328,0.5801675977653631,0.6001596169193935,0.6201516360734237,0.6401436552274541,0.6601356743814845,0.6801276935355147,0.7001197126895451,0.7201117318435754,0.7401037509976057,0.7600957701516361,0.7800877893056664,0.8000798084596967,0.820071827613727,0.8400638467677574,0.8600558659217877,0.880047885075818,0.9000399042298484,0.9200319233838786,0.940023942537909,0.9600159616919393,0.9800079808459696,1.0],\"top\":[182022,23920,16535,14105,12438,11150,10314,10091,9493,8556,8255,7850,7118,6840,6179,6327,6041,5952,5867,5896,5822,5548,5857,6074,6611,5986,6060,5903,6173,6187,6281,6637,6783,6938,7472,7550,7979,8186,8857,9618,10502,11493,12497,14176,16146,19339,23931,33244,55470,2191665]},\"selected\":{\"id\":\"4245\",\"type\":\"Selection\"},\"selection_policy\":{\"id\":\"4244\",\"type\":\"UnionRenderers\"}},\"id\":\"4077\",\"type\":\"ColumnDataSource\"},{\"attributes\":{\"data_source\":{\"id\":\"4077\",\"type\":\"ColumnDataSource\"},\"glyph\":{\"id\":\"4078\",\"type\":\"Quad\"},\"hover_glyph\":null,\"muted_glyph\":null,\"nonselection_glyph\":{\"id\":\"4079\",\"type\":\"Quad\"},\"selection_glyph\":null,\"view\":{\"id\":\"4081\",\"type\":\"CDSView\"}},\"id\":\"4080\",\"type\":\"GlyphRenderer\"},{\"attributes\":{\"axis_label\":\"Frequency\",\"formatter\":{\"id\":\"4084\",\"type\":\"BasicTickFormatter\"},\"ticker\":{\"id\":\"4060\",\"type\":\"BasicTicker\"}},\"id\":\"4059\",\"type\":\"LinearAxis\"},{\"attributes\":{\"callback\":null},\"id\":\"4048\",\"type\":\"DataRange1d\"},{\"attributes\":{\"overlay\":{\"id\":\"4087\",\"type\":\"BoxAnnotation\"}},\"id\":\"4066\",\"type\":\"BoxZoomTool\"},{\"attributes\":{},\"id\":\"4069\",\"type\":\"HelpTool\"},{\"attributes\":{},\"id\":\"4065\",\"type\":\"WheelZoomTool\"},{\"attributes\":{},\"id\":\"4067\",\"type\":\"SaveTool\"},{\"attributes\":{},\"id\":\"4084\",\"type\":\"BasicTickFormatter\"},{\"attributes\":{\"ticker\":{\"id\":\"4055\",\"type\":\"BasicTicker\"}},\"id\":\"4058\",\"type\":\"Grid\"},{\"attributes\":{\"source\":{\"id\":\"4077\",\"type\":\"ColumnDataSource\"}},\"id\":\"4081\",\"type\":\"CDSView\"}],\"root_ids\":[\"4043\"]},\"title\":\"Bokeh Application\",\"version\":\"1.4.0\"}};\n",
       "  var render_items = [{\"docid\":\"cf637e1e-d76a-4f17-9ca0-5389e5eeae81\",\"roots\":{\"4043\":\"8d8280eb-9c3a-4a1b-896c-97ecbc5fed21\"}}];\n",
       "  root.Bokeh.embed.embed_items_notebook(docs_json, render_items);\n",
       "\n",
       "  }\n",
       "  if (root.Bokeh !== undefined) {\n",
       "    embed_document(root);\n",
       "  } else {\n",
       "    var attempts = 0;\n",
       "    var timer = setInterval(function(root) {\n",
       "      if (root.Bokeh !== undefined) {\n",
       "        clearInterval(timer);\n",
       "        embed_document(root);\n",
       "      } else {\n",
       "        attempts++;\n",
       "        if (attempts > 100) {\n",
       "          clearInterval(timer);\n",
       "          console.log(\"Bokeh: ERROR: Unable to run BokehJS code because BokehJS library is missing\");\n",
       "        }\n",
       "      }\n",
       "    }, 10, root)\n",
       "  }\n",
       "})(window);"
      ],
      "application/vnd.bokehjs_exec.v0+json": ""
     },
     "metadata": {
      "application/vnd.bokehjs_exec.v0+json": {
       "id": "4043"
      }
     },
     "output_type": "display_data"
    },
    {
     "name": "stderr",
     "output_type": "stream",
     "text": [
      "[Stage 71:======================================================(191 + 1) / 191]\r"
     ]
    }
   ],
   "source": [
    "#plot call rate\n",
    "p = hl.plot.histogram(broad_mt.variant_qc.call_rate, title=\"Broad variant calls: call rate\")\n",
    "show(p)"
   ]
  },
  {
   "cell_type": "code",
   "execution_count": 56,
   "id": "44768c25",
   "metadata": {},
   "outputs": [
    {
     "name": "stderr",
     "output_type": "stream",
     "text": [
      "                                                                                \r"
     ]
    },
    {
     "data": {
      "text/html": [
       "\n",
       "\n",
       "\n",
       "\n",
       "\n",
       "\n",
       "  <div class=\"bk-root\" id=\"c7c5bba3-e9e9-4a29-bc22-20ac59332a54\" data-root-id=\"4294\"></div>\n"
      ]
     },
     "metadata": {},
     "output_type": "display_data"
    },
    {
     "data": {
      "application/javascript": [
       "(function(root) {\n",
       "  function embed_document(root) {\n",
       "    \n",
       "  var docs_json = {\"f2f8cd31-68f7-4294-bf8d-54d1a055f8e7\":{\"roots\":{\"references\":[{\"attributes\":{\"background_fill_color\":{\"value\":\"#EEEEEE\"},\"below\":[{\"id\":\"4305\",\"type\":\"LinearAxis\"}],\"center\":[{\"id\":\"4309\",\"type\":\"Grid\"},{\"id\":\"4314\",\"type\":\"Grid\"},{\"id\":\"4339\",\"type\":\"Legend\"}],\"left\":[{\"id\":\"4310\",\"type\":\"LinearAxis\"}],\"renderers\":[{\"id\":\"4331\",\"type\":\"GlyphRenderer\"}],\"title\":{\"id\":\"4295\",\"type\":\"Title\"},\"toolbar\":{\"id\":\"4321\",\"type\":\"Toolbar\"},\"x_range\":{\"id\":\"4297\",\"type\":\"Range1d\"},\"x_scale\":{\"id\":\"4301\",\"type\":\"LinearScale\"},\"y_range\":{\"id\":\"4299\",\"type\":\"DataRange1d\"},\"y_scale\":{\"id\":\"4303\",\"type\":\"LinearScale\"}},\"id\":\"4294\",\"subtype\":\"Figure\",\"type\":\"Plot\"},{\"attributes\":{},\"id\":\"4320\",\"type\":\"HelpTool\"},{\"attributes\":{\"bottom_units\":\"screen\",\"fill_alpha\":{\"value\":0.5},\"fill_color\":{\"value\":\"lightgrey\"},\"left_units\":\"screen\",\"level\":\"overlay\",\"line_alpha\":{\"value\":1.0},\"line_color\":{\"value\":\"black\"},\"line_dash\":[4,4],\"line_width\":{\"value\":2},\"render_mode\":\"css\",\"right_units\":\"screen\",\"top_units\":\"screen\"},\"id\":\"4338\",\"type\":\"BoxAnnotation\"},{\"attributes\":{\"items\":[{\"id\":\"4340\",\"type\":\"LegendItem\"}]},\"id\":\"4339\",\"type\":\"Legend\"},{\"attributes\":{},\"id\":\"4337\",\"type\":\"BasicTickFormatter\"},{\"attributes\":{},\"id\":\"4303\",\"type\":\"LinearScale\"},{\"attributes\":{},\"id\":\"4315\",\"type\":\"PanTool\"},{\"attributes\":{\"dimension\":1,\"ticker\":{\"id\":\"4311\",\"type\":\"BasicTicker\"}},\"id\":\"4314\",\"type\":\"Grid\"},{\"attributes\":{\"active_drag\":\"auto\",\"active_inspect\":\"auto\",\"active_multi\":null,\"active_scroll\":\"auto\",\"active_tap\":\"auto\",\"tools\":[{\"id\":\"4315\",\"type\":\"PanTool\"},{\"id\":\"4316\",\"type\":\"WheelZoomTool\"},{\"id\":\"4317\",\"type\":\"BoxZoomTool\"},{\"id\":\"4318\",\"type\":\"SaveTool\"},{\"id\":\"4319\",\"type\":\"ResetTool\"},{\"id\":\"4320\",\"type\":\"HelpTool\"}]},\"id\":\"4321\",\"type\":\"Toolbar\"},{\"attributes\":{\"bottom\":{\"value\":0},\"fill_alpha\":{\"value\":0.1},\"fill_color\":{\"value\":\"#1f77b4\"},\"left\":{\"field\":\"left\"},\"line_alpha\":{\"value\":0.1},\"line_color\":{\"value\":\"#1f77b4\"},\"right\":{\"field\":\"right\"},\"top\":{\"field\":\"top\"}},\"id\":\"4330\",\"type\":\"Quad\"},{\"attributes\":{},\"id\":\"4306\",\"type\":\"BasicTicker\"},{\"attributes\":{},\"id\":\"4311\",\"type\":\"BasicTicker\"},{\"attributes\":{},\"id\":\"4301\",\"type\":\"LinearScale\"},{\"attributes\":{\"text\":\"Sanger variant calls: call rate\"},\"id\":\"4295\",\"type\":\"Title\"},{\"attributes\":{},\"id\":\"4316\",\"type\":\"WheelZoomTool\"},{\"attributes\":{\"callback\":null,\"data\":{\"left\":[0.8156424581005587,0.8193296089385476,0.8230167597765363,0.8267039106145252,0.830391061452514,0.8340782122905028,0.8377653631284916,0.8414525139664805,0.8451396648044693,0.8488268156424581,0.852513966480447,0.8562011173184357,0.8598882681564246,0.8635754189944134,0.8672625698324022,0.8709497206703911,0.8746368715083799,0.8783240223463687,0.8820111731843575,0.8856983240223464,0.8893854748603351,0.893072625698324,0.8967597765363129,0.9004469273743017,0.9041340782122905,0.9078212290502794,0.9115083798882682,0.915195530726257,0.9188826815642458,0.9225698324022347,0.9262569832402234,0.9299441340782123,0.9336312849162012,0.9373184357541899,0.9410055865921788,0.9446927374301676,0.9483798882681564,0.9520670391061452,0.9557541899441341,0.959441340782123,0.9631284916201117,0.9668156424581006,0.9705027932960893,0.9741899441340782,0.977877094972067,0.9815642458100559,0.9852513966480447,0.9889385474860335,0.9926256983240224,0.9963128491620111],\"right\":[0.8193296089385476,0.8230167597765363,0.8267039106145252,0.830391061452514,0.8340782122905028,0.8377653631284916,0.8414525139664805,0.8451396648044693,0.8488268156424581,0.852513966480447,0.8562011173184357,0.8598882681564246,0.8635754189944134,0.8672625698324022,0.8709497206703911,0.8746368715083799,0.8783240223463687,0.8820111731843575,0.8856983240223464,0.8893854748603351,0.893072625698324,0.8967597765363129,0.9004469273743017,0.9041340782122905,0.9078212290502794,0.9115083798882682,0.915195530726257,0.9188826815642458,0.9225698324022347,0.9262569832402234,0.9299441340782123,0.9336312849162012,0.9373184357541899,0.9410055865921788,0.9446927374301676,0.9483798882681564,0.9520670391061452,0.9557541899441341,0.959441340782123,0.9631284916201117,0.9668156424581006,0.9705027932960893,0.9741899441340782,0.977877094972067,0.9815642458100559,0.9852513966480447,0.9889385474860335,0.9926256983240224,0.9963128491620111,1.0],\"top\":[7,0,0,0,2,0,0,0,3,0,1,0,0,4,0,0,3,2,7,0,4,10,7,3,17,16,24,30,22,12,17,31,30,41,53,49,83,82,96,118,163,213,299,348,487,619,1000,1544,3020,5407874]},\"selected\":{\"id\":\"4504\",\"type\":\"Selection\"},\"selection_policy\":{\"id\":\"4503\",\"type\":\"UnionRenderers\"}},\"id\":\"4328\",\"type\":\"ColumnDataSource\"},{\"attributes\":{\"callback\":null,\"end\":1.009217877094972,\"start\":0.8064245810055867},\"id\":\"4297\",\"type\":\"Range1d\"},{\"attributes\":{\"formatter\":{\"id\":\"4337\",\"type\":\"BasicTickFormatter\"},\"ticker\":{\"id\":\"4306\",\"type\":\"BasicTicker\"}},\"id\":\"4305\",\"type\":\"LinearAxis\"},{\"attributes\":{\"data_source\":{\"id\":\"4328\",\"type\":\"ColumnDataSource\"},\"glyph\":{\"id\":\"4329\",\"type\":\"Quad\"},\"hover_glyph\":null,\"muted_glyph\":null,\"nonselection_glyph\":{\"id\":\"4330\",\"type\":\"Quad\"},\"selection_glyph\":null,\"view\":{\"id\":\"4332\",\"type\":\"CDSView\"}},\"id\":\"4331\",\"type\":\"GlyphRenderer\"},{\"attributes\":{\"label\":{\"value\":\"\"},\"renderers\":[{\"id\":\"4331\",\"type\":\"GlyphRenderer\"}]},\"id\":\"4340\",\"type\":\"LegendItem\"},{\"attributes\":{\"source\":{\"id\":\"4328\",\"type\":\"ColumnDataSource\"}},\"id\":\"4332\",\"type\":\"CDSView\"},{\"attributes\":{},\"id\":\"4335\",\"type\":\"BasicTickFormatter\"},{\"attributes\":{\"axis_label\":\"Frequency\",\"formatter\":{\"id\":\"4335\",\"type\":\"BasicTickFormatter\"},\"ticker\":{\"id\":\"4311\",\"type\":\"BasicTicker\"}},\"id\":\"4310\",\"type\":\"LinearAxis\"},{\"attributes\":{\"callback\":null},\"id\":\"4299\",\"type\":\"DataRange1d\"},{\"attributes\":{},\"id\":\"4318\",\"type\":\"SaveTool\"},{\"attributes\":{},\"id\":\"4503\",\"type\":\"UnionRenderers\"},{\"attributes\":{\"bottom\":{\"value\":0},\"fill_color\":{\"value\":\"#1f77b4\"},\"left\":{\"field\":\"left\"},\"right\":{\"field\":\"right\"},\"top\":{\"field\":\"top\"}},\"id\":\"4329\",\"type\":\"Quad\"},{\"attributes\":{\"ticker\":{\"id\":\"4306\",\"type\":\"BasicTicker\"}},\"id\":\"4309\",\"type\":\"Grid\"},{\"attributes\":{},\"id\":\"4504\",\"type\":\"Selection\"},{\"attributes\":{},\"id\":\"4319\",\"type\":\"ResetTool\"},{\"attributes\":{\"overlay\":{\"id\":\"4338\",\"type\":\"BoxAnnotation\"}},\"id\":\"4317\",\"type\":\"BoxZoomTool\"}],\"root_ids\":[\"4294\"]},\"title\":\"Bokeh Application\",\"version\":\"1.4.0\"}};\n",
       "  var render_items = [{\"docid\":\"f2f8cd31-68f7-4294-bf8d-54d1a055f8e7\",\"roots\":{\"4294\":\"c7c5bba3-e9e9-4a29-bc22-20ac59332a54\"}}];\n",
       "  root.Bokeh.embed.embed_items_notebook(docs_json, render_items);\n",
       "\n",
       "  }\n",
       "  if (root.Bokeh !== undefined) {\n",
       "    embed_document(root);\n",
       "  } else {\n",
       "    var attempts = 0;\n",
       "    var timer = setInterval(function(root) {\n",
       "      if (root.Bokeh !== undefined) {\n",
       "        clearInterval(timer);\n",
       "        embed_document(root);\n",
       "      } else {\n",
       "        attempts++;\n",
       "        if (attempts > 100) {\n",
       "          clearInterval(timer);\n",
       "          console.log(\"Bokeh: ERROR: Unable to run BokehJS code because BokehJS library is missing\");\n",
       "        }\n",
       "      }\n",
       "    }, 10, root)\n",
       "  }\n",
       "})(window);"
      ],
      "application/vnd.bokehjs_exec.v0+json": ""
     },
     "metadata": {
      "application/vnd.bokehjs_exec.v0+json": {
       "id": "4294"
      }
     },
     "output_type": "display_data"
    }
   ],
   "source": [
    "p = hl.plot.histogram(sanger_mt.variant_qc.call_rate, title=\"Sanger variant calls: call rate\")\n",
    "show(p)"
   ]
  },
  {
   "cell_type": "code",
   "execution_count": 57,
   "id": "74d84fc9",
   "metadata": {},
   "outputs": [
    {
     "name": "stderr",
     "output_type": "stream",
     "text": [
      "[Stage 78:======================================================(191 + 7) / 191]\r"
     ]
    },
    {
     "data": {
      "text/html": [
       "\n",
       "\n",
       "\n",
       "\n",
       "\n",
       "\n",
       "  <div class=\"bk-root\" id=\"462e6730-655c-4132-99a8-8d369e408f1d\" data-root-id=\"4553\"></div>\n"
      ]
     },
     "metadata": {},
     "output_type": "display_data"
    },
    {
     "data": {
      "application/javascript": [
       "(function(root) {\n",
       "  function embed_document(root) {\n",
       "    \n",
       "  var docs_json = {\"6aef9082-c9ae-45c7-a5e7-34a0280e1c34\":{\"roots\":{\"references\":[{\"attributes\":{\"background_fill_color\":{\"value\":\"#EEEEEE\"},\"below\":[{\"id\":\"4564\",\"type\":\"LinearAxis\"}],\"center\":[{\"id\":\"4568\",\"type\":\"Grid\"},{\"id\":\"4573\",\"type\":\"Grid\"},{\"id\":\"4598\",\"type\":\"Legend\"}],\"left\":[{\"id\":\"4569\",\"type\":\"LinearAxis\"}],\"renderers\":[{\"id\":\"4590\",\"type\":\"GlyphRenderer\"}],\"title\":{\"id\":\"4554\",\"type\":\"Title\"},\"toolbar\":{\"id\":\"4580\",\"type\":\"Toolbar\"},\"x_range\":{\"id\":\"4556\",\"type\":\"Range1d\"},\"x_scale\":{\"id\":\"4560\",\"type\":\"LinearScale\"},\"y_range\":{\"id\":\"4558\",\"type\":\"DataRange1d\"},\"y_scale\":{\"id\":\"4562\",\"type\":\"LinearScale\"}},\"id\":\"4553\",\"subtype\":\"Figure\",\"type\":\"Plot\"},{\"attributes\":{},\"id\":\"4570\",\"type\":\"BasicTicker\"},{\"attributes\":{\"dimension\":1,\"ticker\":{\"id\":\"4570\",\"type\":\"BasicTicker\"}},\"id\":\"4573\",\"type\":\"Grid\"},{\"attributes\":{},\"id\":\"4565\",\"type\":\"BasicTicker\"},{\"attributes\":{\"bottom\":{\"value\":0},\"fill_color\":{\"value\":\"#1f77b4\"},\"left\":{\"field\":\"left\"},\"right\":{\"field\":\"right\"},\"top\":{\"field\":\"top\"}},\"id\":\"4588\",\"type\":\"Quad\"},{\"attributes\":{\"formatter\":{\"id\":\"4596\",\"type\":\"BasicTickFormatter\"},\"ticker\":{\"id\":\"4565\",\"type\":\"BasicTicker\"}},\"id\":\"4564\",\"type\":\"LinearAxis\"},{\"attributes\":{},\"id\":\"4574\",\"type\":\"PanTool\"},{\"attributes\":{\"callback\":null,\"data\":{\"left\":[0.0003990422984836393,0.020391061452513966,0.04038308060654429,0.06037509976057461,0.08036711891460495,0.10035913806863528,0.1203511572226656,0.14034317637669594,0.16033519553072625,0.18032721468475657,0.20031923383878691,0.22031125299281723,0.24030327214684755,0.26029529130087786,0.28028731045490823,0.30027932960893855,0.32027134876296887,0.3402633679169992,0.3602553870710295,0.38024740622505987,0.4002394253790902,0.4202314445331205,0.4402234636871508,0.46021548284118113,0.48020750199521145,0.5001995211492418,0.5201915403032721,0.5401835594573025,0.5601755786113328,0.5801675977653631,0.6001596169193935,0.6201516360734237,0.6401436552274541,0.6601356743814845,0.6801276935355147,0.7001197126895451,0.7201117318435754,0.7401037509976057,0.7600957701516361,0.7800877893056664,0.8000798084596967,0.820071827613727,0.8400638467677574,0.8600558659217877,0.880047885075818,0.9000399042298484,0.9200319233838786,0.940023942537909,0.9600159616919393,0.9800079808459696],\"right\":[0.020391061452513966,0.04038308060654429,0.06037509976057461,0.08036711891460495,0.10035913806863528,0.1203511572226656,0.14034317637669594,0.16033519553072625,0.18032721468475657,0.20031923383878691,0.22031125299281723,0.24030327214684755,0.26029529130087786,0.28028731045490823,0.30027932960893855,0.32027134876296887,0.3402633679169992,0.3602553870710295,0.38024740622505987,0.4002394253790902,0.4202314445331205,0.4402234636871508,0.46021548284118113,0.48020750199521145,0.5001995211492418,0.5201915403032721,0.5401835594573025,0.5601755786113328,0.5801675977653631,0.6001596169193935,0.6201516360734237,0.6401436552274541,0.6601356743814845,0.6801276935355147,0.7001197126895451,0.7201117318435754,0.7401037509976057,0.7600957701516361,0.7800877893056664,0.8000798084596967,0.820071827613727,0.8400638467677574,0.8600558659217877,0.880047885075818,0.9000399042298484,0.9200319233838786,0.940023942537909,0.9600159616919393,0.9800079808459696,1.0],\"top\":[181706,23707,16289,13866,12201,10937,10114,9847,9197,8327,8023,7626,6859,6551,5951,6067,5778,5676,5600,5588,5574,5298,5523,5666,5892,5614,5701,5481,5802,5756,5777,6124,6219,6393,6753,6877,7243,7485,8037,8630,9406,10205,11149,12572,14000,16829,20742,28256,46530,698284]},\"selected\":{\"id\":\"4771\",\"type\":\"Selection\"},\"selection_policy\":{\"id\":\"4770\",\"type\":\"UnionRenderers\"}},\"id\":\"4587\",\"type\":\"ColumnDataSource\"},{\"attributes\":{\"axis_label\":\"Frequency\",\"formatter\":{\"id\":\"4594\",\"type\":\"BasicTickFormatter\"},\"ticker\":{\"id\":\"4570\",\"type\":\"BasicTicker\"}},\"id\":\"4569\",\"type\":\"LinearAxis\"},{\"attributes\":{\"label\":{\"value\":\"\"},\"renderers\":[{\"id\":\"4590\",\"type\":\"GlyphRenderer\"}]},\"id\":\"4599\",\"type\":\"LegendItem\"},{\"attributes\":{\"callback\":null,\"end\":1.0499800478850758,\"start\":-0.04958100558659218},\"id\":\"4556\",\"type\":\"Range1d\"},{\"attributes\":{},\"id\":\"4562\",\"type\":\"LinearScale\"},{\"attributes\":{},\"id\":\"4594\",\"type\":\"BasicTickFormatter\"},{\"attributes\":{},\"id\":\"4771\",\"type\":\"Selection\"},{\"attributes\":{\"text\":\"Broad variant calls not in Sanger: call rate\"},\"id\":\"4554\",\"type\":\"Title\"},{\"attributes\":{},\"id\":\"4560\",\"type\":\"LinearScale\"},{\"attributes\":{},\"id\":\"4577\",\"type\":\"SaveTool\"},{\"attributes\":{\"overlay\":{\"id\":\"4597\",\"type\":\"BoxAnnotation\"}},\"id\":\"4576\",\"type\":\"BoxZoomTool\"},{\"attributes\":{\"items\":[{\"id\":\"4599\",\"type\":\"LegendItem\"}]},\"id\":\"4598\",\"type\":\"Legend\"},{\"attributes\":{},\"id\":\"4596\",\"type\":\"BasicTickFormatter\"},{\"attributes\":{},\"id\":\"4575\",\"type\":\"WheelZoomTool\"},{\"attributes\":{},\"id\":\"4579\",\"type\":\"HelpTool\"},{\"attributes\":{\"data_source\":{\"id\":\"4587\",\"type\":\"ColumnDataSource\"},\"glyph\":{\"id\":\"4588\",\"type\":\"Quad\"},\"hover_glyph\":null,\"muted_glyph\":null,\"nonselection_glyph\":{\"id\":\"4589\",\"type\":\"Quad\"},\"selection_glyph\":null,\"view\":{\"id\":\"4591\",\"type\":\"CDSView\"}},\"id\":\"4590\",\"type\":\"GlyphRenderer\"},{\"attributes\":{},\"id\":\"4578\",\"type\":\"ResetTool\"},{\"attributes\":{\"active_drag\":\"auto\",\"active_inspect\":\"auto\",\"active_multi\":null,\"active_scroll\":\"auto\",\"active_tap\":\"auto\",\"tools\":[{\"id\":\"4574\",\"type\":\"PanTool\"},{\"id\":\"4575\",\"type\":\"WheelZoomTool\"},{\"id\":\"4576\",\"type\":\"BoxZoomTool\"},{\"id\":\"4577\",\"type\":\"SaveTool\"},{\"id\":\"4578\",\"type\":\"ResetTool\"},{\"id\":\"4579\",\"type\":\"HelpTool\"}]},\"id\":\"4580\",\"type\":\"Toolbar\"},{\"attributes\":{\"source\":{\"id\":\"4587\",\"type\":\"ColumnDataSource\"}},\"id\":\"4591\",\"type\":\"CDSView\"},{\"attributes\":{\"bottom_units\":\"screen\",\"fill_alpha\":{\"value\":0.5},\"fill_color\":{\"value\":\"lightgrey\"},\"left_units\":\"screen\",\"level\":\"overlay\",\"line_alpha\":{\"value\":1.0},\"line_color\":{\"value\":\"black\"},\"line_dash\":[4,4],\"line_width\":{\"value\":2},\"render_mode\":\"css\",\"right_units\":\"screen\",\"top_units\":\"screen\"},\"id\":\"4597\",\"type\":\"BoxAnnotation\"},{\"attributes\":{},\"id\":\"4770\",\"type\":\"UnionRenderers\"},{\"attributes\":{\"ticker\":{\"id\":\"4565\",\"type\":\"BasicTicker\"}},\"id\":\"4568\",\"type\":\"Grid\"},{\"attributes\":{\"bottom\":{\"value\":0},\"fill_alpha\":{\"value\":0.1},\"fill_color\":{\"value\":\"#1f77b4\"},\"left\":{\"field\":\"left\"},\"line_alpha\":{\"value\":0.1},\"line_color\":{\"value\":\"#1f77b4\"},\"right\":{\"field\":\"right\"},\"top\":{\"field\":\"top\"}},\"id\":\"4589\",\"type\":\"Quad\"},{\"attributes\":{\"callback\":null},\"id\":\"4558\",\"type\":\"DataRange1d\"}],\"root_ids\":[\"4553\"]},\"title\":\"Bokeh Application\",\"version\":\"1.4.0\"}};\n",
       "  var render_items = [{\"docid\":\"6aef9082-c9ae-45c7-a5e7-34a0280e1c34\",\"roots\":{\"4553\":\"462e6730-655c-4132-99a8-8d369e408f1d\"}}];\n",
       "  root.Bokeh.embed.embed_items_notebook(docs_json, render_items);\n",
       "\n",
       "  }\n",
       "  if (root.Bokeh !== undefined) {\n",
       "    embed_document(root);\n",
       "  } else {\n",
       "    var attempts = 0;\n",
       "    var timer = setInterval(function(root) {\n",
       "      if (root.Bokeh !== undefined) {\n",
       "        clearInterval(timer);\n",
       "        embed_document(root);\n",
       "      } else {\n",
       "        attempts++;\n",
       "        if (attempts > 100) {\n",
       "          clearInterval(timer);\n",
       "          console.log(\"Bokeh: ERROR: Unable to run BokehJS code because BokehJS library is missing\");\n",
       "        }\n",
       "      }\n",
       "    }, 10, root)\n",
       "  }\n",
       "})(window);"
      ],
      "application/vnd.bokehjs_exec.v0+json": ""
     },
     "metadata": {
      "application/vnd.bokehjs_exec.v0+json": {
       "id": "4553"
      }
     },
     "output_type": "display_data"
    },
    {
     "name": "stderr",
     "output_type": "stream",
     "text": [
      "[Stage 78:======================================================(191 + 1) / 191]\r"
     ]
    }
   ],
   "source": [
    "p = hl.plot.histogram(broad_only_mt.variant_qc.call_rate, title=\"Broad variant calls not in Sanger: call rate\")\n",
    "show(p)"
   ]
  },
  {
   "cell_type": "code",
   "execution_count": 58,
   "id": "5870aae9",
   "metadata": {},
   "outputs": [
    {
     "name": "stderr",
     "output_type": "stream",
     "text": [
      "                                                                                \r"
     ]
    },
    {
     "data": {
      "text/html": [
       "\n",
       "\n",
       "\n",
       "\n",
       "\n",
       "\n",
       "  <div class=\"bk-root\" id=\"839061f0-04c5-409a-8415-ecd99cfd2382\" data-root-id=\"4820\"></div>\n"
      ]
     },
     "metadata": {},
     "output_type": "display_data"
    },
    {
     "data": {
      "application/javascript": [
       "(function(root) {\n",
       "  function embed_document(root) {\n",
       "    \n",
       "  var docs_json = {\"f5a67d77-c5a8-482b-96e7-ad61e053629e\":{\"roots\":{\"references\":[{\"attributes\":{\"background_fill_color\":{\"value\":\"#EEEEEE\"},\"below\":[{\"id\":\"4831\",\"type\":\"LinearAxis\"}],\"center\":[{\"id\":\"4835\",\"type\":\"Grid\"},{\"id\":\"4840\",\"type\":\"Grid\"},{\"id\":\"4865\",\"type\":\"Legend\"}],\"left\":[{\"id\":\"4836\",\"type\":\"LinearAxis\"}],\"renderers\":[{\"id\":\"4857\",\"type\":\"GlyphRenderer\"}],\"title\":{\"id\":\"4821\",\"type\":\"Title\"},\"toolbar\":{\"id\":\"4847\",\"type\":\"Toolbar\"},\"x_range\":{\"id\":\"4823\",\"type\":\"Range1d\"},\"x_scale\":{\"id\":\"4827\",\"type\":\"LinearScale\"},\"y_range\":{\"id\":\"4825\",\"type\":\"DataRange1d\"},\"y_scale\":{\"id\":\"4829\",\"type\":\"LinearScale\"}},\"id\":\"4820\",\"subtype\":\"Figure\",\"type\":\"Plot\"},{\"attributes\":{\"data_source\":{\"id\":\"4854\",\"type\":\"ColumnDataSource\"},\"glyph\":{\"id\":\"4855\",\"type\":\"Quad\"},\"hover_glyph\":null,\"muted_glyph\":null,\"nonselection_glyph\":{\"id\":\"4856\",\"type\":\"Quad\"},\"selection_glyph\":null,\"view\":{\"id\":\"4858\",\"type\":\"CDSView\"}},\"id\":\"4857\",\"type\":\"GlyphRenderer\"},{\"attributes\":{},\"id\":\"4861\",\"type\":\"BasicTickFormatter\"},{\"attributes\":{},\"id\":\"4832\",\"type\":\"BasicTicker\"},{\"attributes\":{\"overlay\":{\"id\":\"4864\",\"type\":\"BoxAnnotation\"}},\"id\":\"4843\",\"type\":\"BoxZoomTool\"},{\"attributes\":{\"ticker\":{\"id\":\"4832\",\"type\":\"BasicTicker\"}},\"id\":\"4835\",\"type\":\"Grid\"},{\"attributes\":{\"label\":{\"value\":\"\"},\"renderers\":[{\"id\":\"4857\",\"type\":\"GlyphRenderer\"}]},\"id\":\"4866\",\"type\":\"LegendItem\"},{\"attributes\":{\"bottom\":{\"value\":0},\"fill_alpha\":{\"value\":0.1},\"fill_color\":{\"value\":\"#1f77b4\"},\"left\":{\"field\":\"left\"},\"line_alpha\":{\"value\":0.1},\"line_color\":{\"value\":\"#1f77b4\"},\"right\":{\"field\":\"right\"},\"top\":{\"field\":\"top\"}},\"id\":\"4856\",\"type\":\"Quad\"},{\"attributes\":{},\"id\":\"5046\",\"type\":\"Selection\"},{\"attributes\":{},\"id\":\"4837\",\"type\":\"BasicTicker\"},{\"attributes\":{\"bottom_units\":\"screen\",\"fill_alpha\":{\"value\":0.5},\"fill_color\":{\"value\":\"lightgrey\"},\"left_units\":\"screen\",\"level\":\"overlay\",\"line_alpha\":{\"value\":1.0},\"line_color\":{\"value\":\"black\"},\"line_dash\":[4,4],\"line_width\":{\"value\":2},\"render_mode\":\"css\",\"right_units\":\"screen\",\"top_units\":\"screen\"},\"id\":\"4864\",\"type\":\"BoxAnnotation\"},{\"attributes\":{},\"id\":\"5045\",\"type\":\"UnionRenderers\"},{\"attributes\":{},\"id\":\"4845\",\"type\":\"ResetTool\"},{\"attributes\":{\"formatter\":{\"id\":\"4863\",\"type\":\"BasicTickFormatter\"},\"ticker\":{\"id\":\"4832\",\"type\":\"BasicTicker\"}},\"id\":\"4831\",\"type\":\"LinearAxis\"},{\"attributes\":{},\"id\":\"4841\",\"type\":\"PanTool\"},{\"attributes\":{},\"id\":\"4829\",\"type\":\"LinearScale\"},{\"attributes\":{\"callback\":null},\"id\":\"4825\",\"type\":\"DataRange1d\"},{\"attributes\":{\"items\":[{\"id\":\"4866\",\"type\":\"LegendItem\"}]},\"id\":\"4865\",\"type\":\"Legend\"},{\"attributes\":{},\"id\":\"4827\",\"type\":\"LinearScale\"},{\"attributes\":{},\"id\":\"4863\",\"type\":\"BasicTickFormatter\"},{\"attributes\":{\"source\":{\"id\":\"4854\",\"type\":\"ColumnDataSource\"}},\"id\":\"4858\",\"type\":\"CDSView\"},{\"attributes\":{},\"id\":\"4844\",\"type\":\"SaveTool\"},{\"attributes\":{},\"id\":\"4842\",\"type\":\"WheelZoomTool\"},{\"attributes\":{\"callback\":null,\"data\":{\"left\":[0.8324022346368715,0.8357541899441341,0.8391061452513966,0.8424581005586592,0.8458100558659217,0.8491620111731844,0.8525139664804469,0.8558659217877095,0.859217877094972,0.8625698324022346,0.8659217877094971,0.8692737430167597,0.8726256983240224,0.8759776536312849,0.8793296089385475,0.88268156424581,0.8860335195530726,0.8893854748603351,0.8927374301675978,0.8960893854748603,0.8994413407821229,0.9027932960893854,0.906145251396648,0.9094972067039105,0.9128491620111732,0.9162011173184357,0.9195530726256983,0.9229050279329609,0.9262569832402234,0.929608938547486,0.9329608938547486,0.9363128491620112,0.9396648044692737,0.9430167597765363,0.9463687150837988,0.9497206703910615,0.953072625698324,0.9564245810055866,0.9597765363128492,0.9631284916201117,0.9664804469273742,0.9698324022346368,0.9731843575418995,0.976536312849162,0.9798882681564246,0.9832402234636871,0.9865921787709497,0.9899441340782122,0.9932960893854749,0.9966480446927375],\"right\":[0.8357541899441341,0.8391061452513966,0.8424581005586592,0.8458100558659217,0.8491620111731844,0.8525139664804469,0.8558659217877095,0.859217877094972,0.8625698324022346,0.8659217877094971,0.8692737430167597,0.8726256983240224,0.8759776536312849,0.8793296089385475,0.88268156424581,0.8860335195530726,0.8893854748603351,0.8927374301675978,0.8960893854748603,0.8994413407821229,0.9027932960893854,0.906145251396648,0.9094972067039105,0.9128491620111732,0.9162011173184357,0.9195530726256983,0.9229050279329609,0.9262569832402234,0.929608938547486,0.9329608938547486,0.9363128491620112,0.9396648044692737,0.9430167597765363,0.9463687150837988,0.9497206703910615,0.953072625698324,0.9564245810055866,0.9597765363128492,0.9631284916201117,0.9664804469273742,0.9698324022346368,0.9731843575418995,0.976536312849162,0.9798882681564246,0.9832402234636871,0.9865921787709497,0.9899441340782122,0.9932960893854749,0.9966480446927375,1.0],\"top\":[1,0,0,0,0,0,1,0,0,0,2,0,1,0,1,0,0,3,3,0,5,1,9,8,8,5,2,3,3,14,7,5,15,14,23,14,6,20,28,35,49,67,104,108,167,190,336,601,1124,3877152]},\"selected\":{\"id\":\"5046\",\"type\":\"Selection\"},\"selection_policy\":{\"id\":\"5045\",\"type\":\"UnionRenderers\"}},\"id\":\"4854\",\"type\":\"ColumnDataSource\"},{\"attributes\":{\"text\":\"Sanger variant calls not in Broad: call rate\"},\"id\":\"4821\",\"type\":\"Title\"},{\"attributes\":{\"active_drag\":\"auto\",\"active_inspect\":\"auto\",\"active_multi\":null,\"active_scroll\":\"auto\",\"active_tap\":\"auto\",\"tools\":[{\"id\":\"4841\",\"type\":\"PanTool\"},{\"id\":\"4842\",\"type\":\"WheelZoomTool\"},{\"id\":\"4843\",\"type\":\"BoxZoomTool\"},{\"id\":\"4844\",\"type\":\"SaveTool\"},{\"id\":\"4845\",\"type\":\"ResetTool\"},{\"id\":\"4846\",\"type\":\"HelpTool\"}]},\"id\":\"4847\",\"type\":\"Toolbar\"},{\"attributes\":{\"callback\":null,\"end\":1.0083798882681565,\"start\":0.8240223463687151},\"id\":\"4823\",\"type\":\"Range1d\"},{\"attributes\":{\"axis_label\":\"Frequency\",\"formatter\":{\"id\":\"4861\",\"type\":\"BasicTickFormatter\"},\"ticker\":{\"id\":\"4837\",\"type\":\"BasicTicker\"}},\"id\":\"4836\",\"type\":\"LinearAxis\"},{\"attributes\":{\"dimension\":1,\"ticker\":{\"id\":\"4837\",\"type\":\"BasicTicker\"}},\"id\":\"4840\",\"type\":\"Grid\"},{\"attributes\":{},\"id\":\"4846\",\"type\":\"HelpTool\"},{\"attributes\":{\"bottom\":{\"value\":0},\"fill_color\":{\"value\":\"#1f77b4\"},\"left\":{\"field\":\"left\"},\"right\":{\"field\":\"right\"},\"top\":{\"field\":\"top\"}},\"id\":\"4855\",\"type\":\"Quad\"}],\"root_ids\":[\"4820\"]},\"title\":\"Bokeh Application\",\"version\":\"1.4.0\"}};\n",
       "  var render_items = [{\"docid\":\"f5a67d77-c5a8-482b-96e7-ad61e053629e\",\"roots\":{\"4820\":\"839061f0-04c5-409a-8415-ecd99cfd2382\"}}];\n",
       "  root.Bokeh.embed.embed_items_notebook(docs_json, render_items);\n",
       "\n",
       "  }\n",
       "  if (root.Bokeh !== undefined) {\n",
       "    embed_document(root);\n",
       "  } else {\n",
       "    var attempts = 0;\n",
       "    var timer = setInterval(function(root) {\n",
       "      if (root.Bokeh !== undefined) {\n",
       "        clearInterval(timer);\n",
       "        embed_document(root);\n",
       "      } else {\n",
       "        attempts++;\n",
       "        if (attempts > 100) {\n",
       "          clearInterval(timer);\n",
       "          console.log(\"Bokeh: ERROR: Unable to run BokehJS code because BokehJS library is missing\");\n",
       "        }\n",
       "      }\n",
       "    }, 10, root)\n",
       "  }\n",
       "})(window);"
      ],
      "application/vnd.bokehjs_exec.v0+json": ""
     },
     "metadata": {
      "application/vnd.bokehjs_exec.v0+json": {
       "id": "4820"
      }
     },
     "output_type": "display_data"
    }
   ],
   "source": [
    "p = hl.plot.histogram(sanger_only_mt.variant_qc.call_rate, title=\"Sanger variant calls not in Broad: call rate\")\n",
    "show(p)"
   ]
  },
  {
   "cell_type": "code",
   "execution_count": 59,
   "id": "9fe8c8d8",
   "metadata": {},
   "outputs": [],
   "source": [
    "#split into SNPs and indels\n",
    "sanger_mt_snp = sanger_mt.filter_rows(hl.is_snp(sanger_mt.alleles[0], sanger_mt.alleles[1]))\n",
    "sanger_mt_indel = sanger_mt.filter_rows(hl.is_indel(sanger_mt.alleles[0], sanger_mt.alleles[1])) \n",
    "\n",
    "broad_mt_snp = broad_mt.filter_rows(hl.is_snp(broad_mt.alleles[0], broad_mt.alleles[1]))\n",
    "broad_mt_indel = broad_mt.filter_rows(hl.is_indel(broad_mt.alleles[0], broad_mt.alleles[1])) \n",
    "\n",
    "sanger_only_mt_snp = sanger_only_mt.filter_rows(hl.is_snp(sanger_only_mt.alleles[0], sanger_only_mt.alleles[1]))\n",
    "sanger_only_mt_indel = sanger_only_mt.filter_rows(hl.is_indel(sanger_only_mt.alleles[0], sanger_only_mt.alleles[1])) \n",
    "\n",
    "broad_only_mt_snp = broad_only_mt.filter_rows(hl.is_snp(broad_only_mt.alleles[0], broad_only_mt.alleles[1]))\n",
    "broad_only_mt_indel = broad_only_mt.filter_rows(hl.is_indel(broad_only_mt.alleles[0], broad_only_mt.alleles[1])) \n"
   ]
  },
  {
   "cell_type": "code",
   "execution_count": 78,
   "id": "82b16d4f",
   "metadata": {},
   "outputs": [],
   "source": [
    "#remove chrM from Broad\n",
    "broad_mt_noM = broad_mt.filter_rows(broad_mt.locus.contig == 'chrM', keep = False)\n",
    "broad_mt_snp_noM = broad_mt_snp.filter_rows(broad_mt_snp.locus.contig == 'chrM', keep = False)\n",
    "broad_mt_indel_noM = broad_mt_indel.filter_rows(broad_mt_indel.locus.contig == 'chrM', keep = False)\n",
    "\n",
    "broad_only_mt_noM = broad_only_mt.filter_rows(broad_only_mt.locus.contig == 'chrM', keep = False)\n",
    "broad_only_mt_snp_noM = broad_only_mt_snp.filter_rows(broad_only_mt_snp.locus.contig == 'chrM', keep = False)\n",
    "broad_only_mt_indel_noM = broad_only_mt_indel.filter_rows(broad_only_mt_indel.locus.contig == 'chrM', keep = False)"
   ]
  },
  {
   "cell_type": "code",
   "execution_count": 113,
   "id": "d2bfa854",
   "metadata": {},
   "outputs": [
    {
     "name": "stderr",
     "output_type": "stream",
     "text": [
      "                                                                                \r"
     ]
    }
   ],
   "source": [
    "#spectra\n",
    "broad_mt_snp_noM_snp_counts = broad_mt_snp_noM.aggregate_rows(hl.agg.counter(hl.Struct(ref=broad_mt_snp_noM.alleles[0], alt=broad_mt_snp_noM.alleles[1])))\n",
    "broad_only_mt_snp_noM_counts = broad_only_mt_snp_noM.aggregate_rows(hl.agg.counter(hl.Struct(ref=broad_only_mt_snp_noM.alleles[0], alt=broad_only_mt_snp_noM.alleles[1])))\n",
    "\n",
    "sanger_mt_snp_snp_counts = sanger_mt_snp.aggregate_rows(hl.agg.counter(hl.Struct(ref=sanger_mt_snp.alleles[0], alt=sanger_mt_snp.alleles[1])))\n",
    "sanger_only_mt_snp_counts = sanger_only_mt_snp.aggregate_rows(hl.agg.counter(hl.Struct(ref=sanger_only_mt_snp.alleles[0], alt=sanger_only_mt_snp.alleles[1])))"
   ]
  },
  {
   "cell_type": "code",
   "execution_count": 92,
   "id": "3bc7ba6b",
   "metadata": {},
   "outputs": [
    {
     "data": {
      "text/plain": [
       "frozendict({Struct(ref='A', alt='C'): 95179, Struct(ref='A', alt='G'): 263796, Struct(ref='A', alt='T'): 77226, Struct(ref='C', alt='A'): 129592, Struct(ref='C', alt='G'): 124813, Struct(ref='C', alt='T'): 527241, Struct(ref='G', alt='A'): 527189, Struct(ref='G', alt='C'): 126583, Struct(ref='G', alt='T'): 129065, Struct(ref='T', alt='A'): 80104, Struct(ref='T', alt='C'): 266429, Struct(ref='T', alt='G'): 92093})"
      ]
     },
     "execution_count": 92,
     "metadata": {},
     "output_type": "execute_result"
    }
   ],
   "source": [
    "broad_mt_snp_noM_snp_counts"
   ]
  },
  {
   "cell_type": "code",
   "execution_count": 112,
   "id": "17263930",
   "metadata": {},
   "outputs": [
    {
     "data": {
      "text/plain": [
       "{Struct(ref='A', alt='C'): 95179,\n",
       " Struct(ref='A', alt='G'): 263796,\n",
       " Struct(ref='A', alt='T'): 77226,\n",
       " Struct(ref='C', alt='A'): 129592,\n",
       " Struct(ref='C', alt='G'): 124813,\n",
       " Struct(ref='C', alt='T'): 527241,\n",
       " Struct(ref='G', alt='A'): 527189,\n",
       " Struct(ref='G', alt='C'): 126583,\n",
       " Struct(ref='G', alt='T'): 129065,\n",
       " Struct(ref='T', alt='A'): 80104,\n",
       " Struct(ref='T', alt='C'): 266429,\n",
       " Struct(ref='T', alt='G'): 92093}"
      ]
     },
     "execution_count": 112,
     "metadata": {},
     "output_type": "execute_result"
    }
   ],
   "source": [
    "broad_snp_counts = dict(broad_mt_snp_noM_snp_counts)\n",
    "broad_snp_counts"
   ]
  },
  {
   "cell_type": "code",
   "execution_count": 115,
   "id": "6c7485ac",
   "metadata": {},
   "outputs": [
    {
     "data": {
      "text/plain": [
       "{Struct(ref='A', alt='C'): 51948,\n",
       " Struct(ref='A', alt='G'): 120367,\n",
       " Struct(ref='A', alt='T'): 42311,\n",
       " Struct(ref='C', alt='A'): 65276,\n",
       " Struct(ref='C', alt='G'): 54452,\n",
       " Struct(ref='C', alt='T'): 203713,\n",
       " Struct(ref='G', alt='A'): 204238,\n",
       " Struct(ref='G', alt='C'): 55184,\n",
       " Struct(ref='G', alt='T'): 65279,\n",
       " Struct(ref='T', alt='A'): 43670,\n",
       " Struct(ref='T', alt='C'): 122004,\n",
       " Struct(ref='T', alt='G'): 50898}"
      ]
     },
     "execution_count": 115,
     "metadata": {},
     "output_type": "execute_result"
    }
   ],
   "source": [
    "broad_only_snp_counts = dict(broad_only_mt_snp_noM_counts)\n",
    "broad_only_snp_counts"
   ]
  },
  {
   "cell_type": "code",
   "execution_count": 116,
   "id": "9f655d5a",
   "metadata": {},
   "outputs": [
    {
     "data": {
      "text/plain": [
       "{Struct(ref='A', alt='C'): 61808,\n",
       " Struct(ref='A', alt='G'): 151172,\n",
       " Struct(ref='A', alt='T'): 44383,\n",
       " Struct(ref='C', alt='A'): 1904432,\n",
       " Struct(ref='C', alt='G'): 79130,\n",
       " Struct(ref='C', alt='T'): 345027,\n",
       " Struct(ref='G', alt='A'): 344995,\n",
       " Struct(ref='G', alt='C'): 79412,\n",
       " Struct(ref='G', alt='T'): 1912479,\n",
       " Struct(ref='T', alt='A'): 47112,\n",
       " Struct(ref='T', alt='C'): 152546,\n",
       " Struct(ref='T', alt='G'): 61119}"
      ]
     },
     "execution_count": 116,
     "metadata": {},
     "output_type": "execute_result"
    }
   ],
   "source": [
    "sanger_snp_counts = dict(sanger_mt_snp_snp_counts)\n",
    "sanger_snp_counts"
   ]
  },
  {
   "cell_type": "code",
   "execution_count": 117,
   "id": "6df83e6b",
   "metadata": {},
   "outputs": [
    {
     "data": {
      "text/plain": [
       "{Struct(ref='A', alt='C'): 18577,\n",
       " Struct(ref='A', alt='G'): 7743,\n",
       " Struct(ref='A', alt='T'): 9468,\n",
       " Struct(ref='C', alt='A'): 1840116,\n",
       " Struct(ref='C', alt='G'): 8769,\n",
       " Struct(ref='C', alt='T'): 21499,\n",
       " Struct(ref='G', alt='A'): 22044,\n",
       " Struct(ref='G', alt='C'): 8013,\n",
       " Struct(ref='G', alt='T'): 1848693,\n",
       " Struct(ref='T', alt='A'): 10678,\n",
       " Struct(ref='T', alt='C'): 8121,\n",
       " Struct(ref='T', alt='G'): 19924}"
      ]
     },
     "execution_count": 117,
     "metadata": {},
     "output_type": "execute_result"
    }
   ],
   "source": [
    "sanger_only_snp_counts = dict(sanger_only_mt_snp_counts)\n",
    "sanger_only_snp_counts"
   ]
  },
  {
   "cell_type": "code",
   "execution_count": 118,
   "id": "3cf912d2",
   "metadata": {},
   "outputs": [
    {
     "data": {
      "text/plain": [
       "18577"
      ]
     },
     "execution_count": 118,
     "metadata": {},
     "output_type": "execute_result"
    }
   ],
   "source": [
    "sanger_only_snp_counts[list(sanger_only_snp_counts.keys())[0]]"
   ]
  },
  {
   "cell_type": "code",
   "execution_count": 119,
   "id": "2dc93127",
   "metadata": {},
   "outputs": [],
   "source": [
    "allsubs = ['A>C', 'A>G', 'A>T', 'C>A', 'C>G', 'C>T', 'G>A', 'G>C', 'G>T', 'T>A', 'T>C', 'T>G']"
   ]
  },
  {
   "cell_type": "code",
   "execution_count": 127,
   "id": "252fce17",
   "metadata": {},
   "outputs": [],
   "source": [
    "broad_subs = []\n",
    "broad_only_subs = []\n",
    "sanger_subs = []\n",
    "sanger_only_subs = []\n",
    "for i in range(0, len(allsubs)):\n",
    "    broad_subs.append(broad_snp_counts[list(broad_snp_counts.keys())[i]])\n",
    "    broad_only_subs.append(broad_only_snp_counts[list(broad_only_snp_counts.keys())[i]])\n",
    "    sanger_subs.append(sanger_snp_counts[list(sanger_snp_counts.keys())[i]])\n",
    "    sanger_only_subs.append(sanger_only_snp_counts[list(sanger_only_snp_counts.keys())[i]])"
   ]
  },
  {
   "cell_type": "code",
   "execution_count": 122,
   "id": "d45aff6d",
   "metadata": {},
   "outputs": [
    {
     "data": {
      "text/plain": [
       "[18577,\n",
       " 7743,\n",
       " 9468,\n",
       " 1840116,\n",
       " 8769,\n",
       " 21499,\n",
       " 22044,\n",
       " 8013,\n",
       " 1848693,\n",
       " 10678,\n",
       " 8121,\n",
       " 19924]"
      ]
     },
     "execution_count": 122,
     "metadata": {},
     "output_type": "execute_result"
    }
   ],
   "source": [
    "sanger_only_subs"
   ]
  },
  {
   "cell_type": "code",
   "execution_count": 125,
   "id": "102a47d4",
   "metadata": {},
   "outputs": [
    {
     "data": {
      "image/png": "[encoded data removed]",
      "text/plain": [
       "<Figure size 432x288 with 1 Axes>"
      ]
     },
     "metadata": {
      "needs_background": "light"
     },
     "output_type": "display_data"
    }
   ],
   "source": [
    "plt.rcParams[\"figure.figsize\"] = (6,4)\n",
    "fig = plt.figure()\n",
    "ax = fig.add_axes([0,0,1,1])\n",
    "ax.bar(allsubs,broad_subs)\n",
    "plt.title(\"Broad variant calls mutation spectra\")\n",
    "plt.show()"
   ]
  },
  {
   "cell_type": "code",
   "execution_count": 128,
   "id": "f8e69f83",
   "metadata": {},
   "outputs": [
    {
     "data": {
      "image/png": "[encoded data removed]",
      "text/plain": [
       "<Figure size 432x288 with 1 Axes>"
      ]
     },
     "metadata": {
      "needs_background": "light"
     },
     "output_type": "display_data"
    }
   ],
   "source": [
    "fig = plt.figure()\n",
    "ax = fig.add_axes([0,0,1,1])\n",
    "ax.bar(allsubs,broad_only_subs)\n",
    "plt.title(\"Broad not Sanger variant calls mutation spectra\")\n",
    "plt.show()"
   ]
  },
  {
   "cell_type": "code",
   "execution_count": 129,
   "id": "1b5d3d6e",
   "metadata": {},
   "outputs": [
    {
     "data": {
      "image/png": "[encoded data removed]",
      "text/plain": [
       "<Figure size 432x288 with 1 Axes>"
      ]
     },
     "metadata": {
      "needs_background": "light"
     },
     "output_type": "display_data"
    }
   ],
   "source": [
    "fig = plt.figure()\n",
    "ax = fig.add_axes([0,0,1,1])\n",
    "ax.bar(allsubs,sanger_subs)\n",
    "plt.title(\"Sanger variant calls mutation spectra\")\n",
    "plt.show()"
   ]
  },
  {
   "cell_type": "code",
   "execution_count": 130,
   "id": "22b75a98",
   "metadata": {},
   "outputs": [
    {
     "data": {
      "image/png": "[encoded data removed]",
      "text/plain": [
       "<Figure size 432x288 with 1 Axes>"
      ]
     },
     "metadata": {
      "needs_background": "light"
     },
     "output_type": "display_data"
    }
   ],
   "source": [
    "fig = plt.figure()\n",
    "ax = fig.add_axes([0,0,1,1])\n",
    "ax.bar(allsubs,sanger_only_subs)\n",
    "plt.title(\"Sanger not Broad variant calls mutation spectra\")\n",
    "plt.show()"
   ]
  },
  {
   "cell_type": "code",
   "execution_count": 131,
   "id": "ddffaf2f",
   "metadata": {},
   "outputs": [
    {
     "data": {
      "image/png": "[encoded data removed]",
      "text/plain": [
       "<Figure size 432x288 with 1 Axes>"
      ]
     },
     "metadata": {
      "needs_background": "light"
     },
     "output_type": "display_data"
    }
   ],
   "source": [
    "#in sanger plots C>A dwarfes everything else so plot without\n",
    "fig = plt.figure()\n",
    "ax = fig.add_axes([0,0,1,1])\n",
    "ax.bar(allsubs[0:3] + allsubs[4:8] + allsubs[9:12], sanger_subs[0:3] + sanger_subs[4:8] + sanger_subs[9:12])\n",
    "plt.title(\"Sanger variant calls mutation spectra: no C>A\")\n",
    "plt.show()"
   ]
  },
  {
   "cell_type": "code",
   "execution_count": 133,
   "id": "4ed63bd7",
   "metadata": {},
   "outputs": [
    {
     "data": {
      "image/png": "[encoded data removed]",
      "text/plain": [
       "<Figure size 432x288 with 1 Axes>"
      ]
     },
     "metadata": {
      "needs_background": "light"
     },
     "output_type": "display_data"
    }
   ],
   "source": [
    "fig = plt.figure()\n",
    "ax = fig.add_axes([0,0,1,1])\n",
    "ax.bar(allsubs[0:3] + allsubs[4:8] + allsubs[9:12], sanger_only_subs[0:3] + sanger_only_subs[4:8] + sanger_only_subs[9:12])\n",
    "plt.title(\"Sanger not Broad variant calls mutation spectra: no C>A\")\n",
    "plt.show()"
   ]
  },
  {
   "cell_type": "code",
   "execution_count": 134,
   "id": "98e76008",
   "metadata": {},
   "outputs": [],
   "source": [
    "#annotate sanger mt with RF bin\n",
    "rf_htfile = lustre_dir +  \"/variant_qc_random_forest/1ed4bbbc/_gnomad_score_binning_tmp.ht\"\n",
    "rf_ht = hl.read_table(rf_htfile)\n",
    "\n",
    "sanger_mt = sanger_mt.annotate_rows(\n",
    "    info=sanger_mt.info.annotate(\n",
    "    rf_bin=rf_ht[sanger_mt.row_key].bin)\n",
    ")"
   ]
  },
  {
   "cell_type": "code",
   "execution_count": 136,
   "id": "640f4b1c",
   "metadata": {},
   "outputs": [],
   "source": [
    "sanger_only_mt = sanger_only_mt.annotate_rows(\n",
    "    info=sanger_only_mt.info.annotate(\n",
    "    rf_bin=rf_ht[sanger_only_mt.row_key].bin)\n",
    ")\n",
    "\n",
    "sanger_mt_snp = sanger_mt_snp.annotate_rows(\n",
    "    info=sanger_mt_snp.info.annotate(\n",
    "    rf_bin=rf_ht[sanger_mt_snp.row_key].bin)\n",
    ")\n",
    "\n",
    "sanger_only_mt_snp = sanger_only_mt_snp.annotate_rows(\n",
    "    info=sanger_only_mt_snp.info.annotate(\n",
    "    rf_bin=rf_ht[sanger_only_mt_snp.row_key].bin)\n",
    ")\n"
   ]
  },
  {
   "cell_type": "code",
   "execution_count": 139,
   "id": "fb8673a9",
   "metadata": {},
   "outputs": [],
   "source": [
    "#sanger_mt_rf_pass = sanger_mt.filter_rows(sanger_mt.info.rf_bin <= 37)\n",
    "#sanger_only_mt_rf_pass = sanger_only_mt.filter_rows(sanger_only_mt.info.rf_bin <= 37)\n",
    "#sanger_mt_snp_rf_pass = sanger_mt_snp.filter_rows(sanger_mt_snp.info.rf_bin <= 37)\n",
    "#sanger_only_mt_snp_rf_pass = sanger_only_mt_snp.filter_rows(sanger_only_mt_snp.info.rf_bin <= 37)"
   ]
  },
  {
   "cell_type": "code",
   "execution_count": 14,
   "id": "5b8e76b6",
   "metadata": {},
   "outputs": [
    {
     "data": {
      "text/plain": [
       "(1616636, 2506)"
      ]
     },
     "execution_count": 14,
     "metadata": {},
     "output_type": "execute_result"
    }
   ],
   "source": [
    "#repeat analysis after variant QC and filtering Broad to exonic regions\n",
    "broad_mtfile = lustre_dir + \"matrixtables/gatk_calls_from_broad_samples_in_sanger.mt\"\n",
    "broad_mt = hl.read_matrix_table(broad_mtfile)\n",
    "broad_mt.count()"
   ]
  },
  {
   "cell_type": "code",
   "execution_count": 15,
   "id": "01256a9e",
   "metadata": {},
   "outputs": [
    {
     "data": {
      "text/plain": [
       "(1628267, 2506)"
      ]
     },
     "execution_count": 15,
     "metadata": {},
     "output_type": "execute_result"
    }
   ],
   "source": [
    "sanger_mtfile_rf_pass = lustre_dir + \"matrixtables/gatk_calls_from_sanger_samples_in_broad_after_rf.mt\"\n",
    "sanger_mt_after_rf = hl.read_matrix_table(sanger_mtfile_rf_pass)\n",
    "sanger_mt_after_rf.count()"
   ]
  },
  {
   "cell_type": "code",
   "execution_count": 16,
   "id": "d35ae2f7",
   "metadata": {},
   "outputs": [
    {
     "data": {
      "text/plain": [
       "(226573, 2506)"
      ]
     },
     "execution_count": 16,
     "metadata": {},
     "output_type": "execute_result"
    }
   ],
   "source": [
    "sanger_only_mtfile_rf_pass = lustre_dir + \"matrixtables/sanger_variants_not_in_broad_after_rf.mt\"\n",
    "sanger_only_mt_after_rf = hl.read_matrix_table(sanger_only_mtfile_rf_pass)\n",
    "sanger_only_mt_after_rf.count()"
   ]
  },
  {
   "cell_type": "code",
   "execution_count": 17,
   "id": "7253fd77",
   "metadata": {},
   "outputs": [
    {
     "data": {
      "text/plain": [
       "(214942, 2506)"
      ]
     },
     "execution_count": 17,
     "metadata": {},
     "output_type": "execute_result"
    }
   ],
   "source": [
    "broad_only_mtfile_rf_pass = lustre_dir + \"matrixtables/broad_variants_not_in_sanger_after_rf.mt\"\n",
    "broad_only_mt_after_rf = hl.read_matrix_table(broad_only_mtfile_rf_pass)\n",
    "broad_only_mt_after_rf.count()"
   ]
  },
  {
   "cell_type": "code",
   "execution_count": 18,
   "id": "5dc98a31",
   "metadata": {},
   "outputs": [
    {
     "name": "stderr",
     "output_type": "stream",
     "text": [
      "                                                                                \r"
     ]
    },
    {
     "data": {
      "text/plain": [
       "(1407728, 2506)"
      ]
     },
     "execution_count": 18,
     "metadata": {},
     "output_type": "execute_result"
    }
   ],
   "source": [
    "#split mts into SNPs and indels\n",
    "broad_mt_snp = broad_mt.filter_rows(hl.is_snp(broad_mt.alleles[0], broad_mt.alleles[1]))\n",
    "broad_mt_snp.count()"
   ]
  },
  {
   "cell_type": "code",
   "execution_count": 19,
   "id": "bc599f49",
   "metadata": {},
   "outputs": [
    {
     "name": "stderr",
     "output_type": "stream",
     "text": [
      "                                                                                \r"
     ]
    },
    {
     "data": {
      "text/plain": [
       "(208907, 2506)"
      ]
     },
     "execution_count": 19,
     "metadata": {},
     "output_type": "execute_result"
    }
   ],
   "source": [
    "broad_mt_indel = broad_mt.filter_rows(hl.is_indel(broad_mt.alleles[0], broad_mt.alleles[1]))\n",
    "broad_mt_indel.count()"
   ]
  },
  {
   "cell_type": "code",
   "execution_count": 20,
   "id": "30e18790",
   "metadata": {},
   "outputs": [
    {
     "name": "stderr",
     "output_type": "stream",
     "text": [
      "                                                                                \r"
     ]
    },
    {
     "data": {
      "text/plain": [
       "(1489279, 2506)"
      ]
     },
     "execution_count": 20,
     "metadata": {},
     "output_type": "execute_result"
    }
   ],
   "source": [
    "sanger_mt_snp_rf_pass = sanger_mt_after_rf.filter_rows(hl.is_snp(sanger_mt_after_rf.alleles[0], sanger_mt_after_rf.alleles[1]))\n",
    "sanger_mt_snp_rf_pass.count()"
   ]
  },
  {
   "cell_type": "code",
   "execution_count": 21,
   "id": "bb17aad0",
   "metadata": {},
   "outputs": [
    {
     "name": "stderr",
     "output_type": "stream",
     "text": [
      "                                                                                \r"
     ]
    },
    {
     "data": {
      "text/plain": [
       "(138988, 2506)"
      ]
     },
     "execution_count": 21,
     "metadata": {},
     "output_type": "execute_result"
    }
   ],
   "source": [
    "sanger_mt_indel_rf_pass = sanger_mt_after_rf.filter_rows(hl.is_indel(sanger_mt_after_rf.alleles[0], sanger_mt_after_rf.alleles[1]))\n",
    "sanger_mt_indel_rf_pass.count()"
   ]
  },
  {
   "cell_type": "code",
   "execution_count": 22,
   "id": "bb25cba8",
   "metadata": {},
   "outputs": [
    {
     "name": "stderr",
     "output_type": "stream",
     "text": [
      "                                                                                \r"
     ]
    },
    {
     "data": {
      "text/plain": [
       "(213691, 2506)"
      ]
     },
     "execution_count": 22,
     "metadata": {},
     "output_type": "execute_result"
    }
   ],
   "source": [
    "sanger_only_mt_snp_rf_pass = sanger_only_mt_after_rf.filter_rows(hl.is_snp(sanger_only_mt_after_rf.alleles[0], sanger_only_mt_after_rf.alleles[1]))\n",
    "sanger_only_mt_snp_rf_pass.count()"
   ]
  },
  {
   "cell_type": "code",
   "execution_count": 23,
   "id": "bd0a5bc7",
   "metadata": {},
   "outputs": [
    {
     "name": "stderr",
     "output_type": "stream",
     "text": [
      "                                                                                \r"
     ]
    },
    {
     "data": {
      "text/plain": [
       "(12882, 2506)"
      ]
     },
     "execution_count": 23,
     "metadata": {},
     "output_type": "execute_result"
    }
   ],
   "source": [
    "sanger_only_mt_indel_rf_pass = sanger_only_mt_after_rf.filter_rows(hl.is_indel(sanger_only_mt_after_rf.alleles[0], sanger_only_mt_after_rf.alleles[1]))\n",
    "sanger_only_mt_indel_rf_pass.count()"
   ]
  },
  {
   "cell_type": "code",
   "execution_count": 24,
   "id": "2c7b6f28",
   "metadata": {},
   "outputs": [
    {
     "data": {
      "text/plain": [
       "(132140, 2506)"
      ]
     },
     "execution_count": 24,
     "metadata": {},
     "output_type": "execute_result"
    }
   ],
   "source": [
    "broad_only_mt_snp_rf_pass = broad_only_mt_after_rf.filter_rows(hl.is_snp(broad_only_mt_after_rf.alleles[0], broad_only_mt_after_rf.alleles[1]))\n",
    "broad_only_mt_snp_rf_pass.count()"
   ]
  },
  {
   "cell_type": "code",
   "execution_count": 25,
   "id": "f15010df",
   "metadata": {},
   "outputs": [
    {
     "data": {
      "text/plain": [
       "(82801, 2506)"
      ]
     },
     "execution_count": 25,
     "metadata": {},
     "output_type": "execute_result"
    }
   ],
   "source": [
    "broad_only_mt_indel_rf_pass = broad_only_mt_after_rf.filter_rows(hl.is_indel(broad_only_mt_after_rf.alleles[0], broad_only_mt_after_rf.alleles[1]))\n",
    "broad_only_mt_indel_rf_pass.count()"
   ]
  },
  {
   "cell_type": "code",
   "execution_count": 159,
   "id": "168e6a03",
   "metadata": {},
   "outputs": [],
   "source": [
    "#post-RF mutation spectra\n",
    "#first remove chrM from Broad\n",
    "broad_mt_noM = broad_mt.filter_rows(broad_mt.locus.contig == 'chrM', keep = False)\n",
    "broad_mt_snp_noM = broad_mt_snp.filter_rows(broad_mt_snp.locus.contig == 'chrM', keep = False)\n",
    "broad_mt_indel_noM = broad_mt_indel.filter_rows(broad_mt_indel.locus.contig == 'chrM', keep = False)\n",
    "\n",
    "broad_only_mt_noM_rfpass = broad_only_mt_after_rf.filter_rows(broad_only_mt_after_rf.locus.contig == 'chrM', keep = False)\n",
    "broad_only_mt_snp_noM_rfpass = broad_only_mt_snp_rf_pass.filter_rows(broad_only_mt_snp_rf_pass.locus.contig == 'chrM', keep = False)\n",
    "broad_only_mt_indel_noM_rfpass = broad_only_mt_indel_rf_pass.filter_rows(broad_only_mt_indel_rf_pass.locus.contig == 'chrM', keep = False)"
   ]
  },
  {
   "cell_type": "code",
   "execution_count": 161,
   "id": "d37a992b",
   "metadata": {},
   "outputs": [
    {
     "name": "stderr",
     "output_type": "stream",
     "text": [
      "                                                                                \r"
     ]
    }
   ],
   "source": [
    "#spectra\n",
    "#broad_mt_snp_noM_snp_counts = broad_mt_snp_noM.aggregate_rows(hl.agg.counter(hl.Struct(ref=broad_mt_snp_noM.alleles[0], alt=broad_mt_snp_noM.alleles[1])))\n",
    "broad_only_mt_snp_noM_counts_rf_pass = broad_only_mt_snp_noM_rfpass.aggregate_rows(hl.agg.counter(hl.Struct(ref=broad_only_mt_snp_noM_rfpass.alleles[0], alt=broad_only_mt_snp_noM_rfpass.alleles[1])))\n",
    "\n",
    "sanger_mt_snp_snp_counts_rf_pass = sanger_mt_snp_rf_pass.aggregate_rows(hl.agg.counter(hl.Struct(ref=sanger_mt_snp_rf_pass.alleles[0], alt=sanger_mt_snp_rf_pass.alleles[1])))\n",
    "sanger_only_mt_snp_count_rf_pass = sanger_only_mt_snp_rf_pass.aggregate_rows(hl.agg.counter(hl.Struct(ref=sanger_only_mt_snp_rf_pass.alleles[0], alt=sanger_only_mt_snp_rf_pass.alleles[1])))"
   ]
  },
  {
   "cell_type": "code",
   "execution_count": 162,
   "id": "624f4cb1",
   "metadata": {},
   "outputs": [],
   "source": [
    "#convert to dict\n",
    "broad_only_snp_counts_rf_pass = dict(broad_only_mt_snp_noM_counts_rf_pass)\n",
    "sanger_snp_counts_rf_pass = dict(sanger_mt_snp_snp_counts_rf_pass)\n",
    "sanger_only_snp_counts_rf_pass = dict(sanger_only_mt_snp_count_rf_pass)"
   ]
  },
  {
   "cell_type": "code",
   "execution_count": 163,
   "id": "414845db",
   "metadata": {},
   "outputs": [],
   "source": [
    "allsubs = ['A>C', 'A>G', 'A>T', 'C>A', 'C>G', 'C>T', 'G>A', 'G>C', 'G>T', 'T>A', 'T>C', 'T>G']\n",
    "#broad_subs = []\n",
    "broad_only_subs_rf_pass = []\n",
    "sanger_subs_rf_pass = []\n",
    "sanger_only_subs_rf_pass = []\n",
    "for i in range(0, len(allsubs)):\n",
    "#    broad_subs.append(broad_snp_counts[list(broad_snp_counts.keys())[i]])\n",
    "    broad_only_subs_rf_pass.append(broad_only_snp_counts_rf_pass[list(broad_only_snp_counts_rf_pass.keys())[i]])\n",
    "    sanger_subs_rf_pass.append(sanger_snp_counts_rf_pass[list(sanger_snp_counts_rf_pass.keys())[i]])\n",
    "    sanger_only_subs_rf_pass.append(sanger_only_snp_counts_rf_pass[list(sanger_only_snp_counts_rf_pass.keys())[i]])"
   ]
  },
  {
   "cell_type": "code",
   "execution_count": 165,
   "id": "adaacbfc",
   "metadata": {},
   "outputs": [
    {
     "data": {
      "image/png": "[encoded data removed]",
      "text/plain": [
       "<Figure size 432x288 with 1 Axes>"
      ]
     },
     "metadata": {
      "needs_background": "light"
     },
     "output_type": "display_data"
    }
   ],
   "source": [
    "fig = plt.figure()\n",
    "ax = fig.add_axes([0,0,1,1])\n",
    "ax.bar(allsubs,sanger_subs_rf_pass)\n",
    "plt.title(\"Sanger RF-pass variant calls mutation spectra\")\n",
    "plt.show()"
   ]
  },
  {
   "cell_type": "code",
   "execution_count": 166,
   "id": "9d5947a4",
   "metadata": {},
   "outputs": [
    {
     "data": {
      "image/png": "[encoded data removed]",
      "text/plain": [
       "<Figure size 432x288 with 1 Axes>"
      ]
     },
     "metadata": {
      "needs_background": "light"
     },
     "output_type": "display_data"
    }
   ],
   "source": [
    "fig = plt.figure()\n",
    "ax = fig.add_axes([0,0,1,1])\n",
    "ax.bar(allsubs,broad_only_subs_rf_pass)\n",
    "plt.title(\"Broad variant calls not in Sanger RF-pass mutation spectra\")\n",
    "plt.show()"
   ]
  },
  {
   "cell_type": "code",
   "execution_count": 167,
   "id": "a5f9bd30",
   "metadata": {},
   "outputs": [
    {
     "data": {
      "image/png": "[encoded data removed]",
      "text/plain": [
       "<Figure size 432x288 with 1 Axes>"
      ]
     },
     "metadata": {
      "needs_background": "light"
     },
     "output_type": "display_data"
    }
   ],
   "source": [
    "fig = plt.figure()\n",
    "ax = fig.add_axes([0,0,1,1])\n",
    "ax.bar(allsubs,sanger_only_subs_rf_pass)\n",
    "plt.title(\"Sanger RF-pass variant calls not in Broad mutation spectra\")\n",
    "plt.show()"
   ]
  },
  {
   "cell_type": "code",
   "execution_count": 173,
   "id": "5c99bbb7",
   "metadata": {},
   "outputs": [],
   "source": [
    "#get expected mutation spectrum\n",
    "gnomad_htfile = lustre_dir + \"/resources/gnomad_v3-0_AF.ht\"\n",
    "gnomad_ht = hl.read_table(gnomad_htfile)"
   ]
  },
  {
   "cell_type": "code",
   "execution_count": 174,
   "id": "64159072",
   "metadata": {},
   "outputs": [
    {
     "data": {
      "text/html": [
       "<table><thead><tr><td style=\"white-space: nowrap; max-width: 500px; overflow: hidden; text-overflow: ellipsis; \" colspan=\"1\"><div style=\"text-align: left;\"></div></td><td style=\"white-space: nowrap; max-width: 500px; overflow: hidden; text-overflow: ellipsis; \" colspan=\"1\"><div style=\"text-align: left;\"></div></td><td style=\"white-space: nowrap; max-width: 500px; overflow: hidden; text-overflow: ellipsis; \" colspan=\"1\"><div style=\"text-align: left;\"></div></td><td style=\"white-space: nowrap; max-width: 500px; overflow: hidden; text-overflow: ellipsis; \" colspan=\"1\"><div style=\"text-align: left;\"></div></td><td style=\"white-space: nowrap; max-width: 500px; overflow: hidden; text-overflow: ellipsis; \" colspan=\"1\"><div style=\"text-align: left;\"></div></td><td style=\"white-space: nowrap; max-width: 500px; overflow: hidden; text-overflow: ellipsis; \" colspan=\"1\"><div style=\"text-align: left;\"></div></td><td style=\"white-space: nowrap; max-width: 500px; overflow: hidden; text-overflow: ellipsis; \" colspan=\"1\"><div style=\"text-align: left;\"></div></td></tr><tr><td style=\"white-space: nowrap; max-width: 500px; overflow: hidden; text-overflow: ellipsis; \" colspan=\"1\"><div style=\"text-align: left;border-bottom: solid 2px #000; padding-bottom: 5px\">chrom</div></td><td style=\"white-space: nowrap; max-width: 500px; overflow: hidden; text-overflow: ellipsis; \" colspan=\"1\"><div style=\"text-align: left;border-bottom: solid 2px #000; padding-bottom: 5px\">position</div></td><td style=\"white-space: nowrap; max-width: 500px; overflow: hidden; text-overflow: ellipsis; \" colspan=\"1\"><div style=\"text-align: left;border-bottom: solid 2px #000; padding-bottom: 5px\">ref</div></td><td style=\"white-space: nowrap; max-width: 500px; overflow: hidden; text-overflow: ellipsis; \" colspan=\"1\"><div style=\"text-align: left;border-bottom: solid 2px #000; padding-bottom: 5px\">alt</div></td><td style=\"white-space: nowrap; max-width: 500px; overflow: hidden; text-overflow: ellipsis; \" colspan=\"1\"><div style=\"text-align: left;border-bottom: solid 2px #000; padding-bottom: 5px\">locus</div></td><td style=\"white-space: nowrap; max-width: 500px; overflow: hidden; text-overflow: ellipsis; \" colspan=\"1\"><div style=\"text-align: left;border-bottom: solid 2px #000; padding-bottom: 5px\">alleles</div></td><td style=\"white-space: nowrap; max-width: 500px; overflow: hidden; text-overflow: ellipsis; \" colspan=\"1\"><div style=\"text-align: left;border-bottom: solid 2px #000; padding-bottom: 5px\">maf</div></td></tr><tr><td style=\"white-space: nowrap; max-width: 500px; overflow: hidden; text-overflow: ellipsis; text-align: left;\">str</td><td style=\"white-space: nowrap; max-width: 500px; overflow: hidden; text-overflow: ellipsis; text-align: left;\">int32</td><td style=\"white-space: nowrap; max-width: 500px; overflow: hidden; text-overflow: ellipsis; text-align: left;\">str</td><td style=\"white-space: nowrap; max-width: 500px; overflow: hidden; text-overflow: ellipsis; text-align: left;\">str</td><td style=\"white-space: nowrap; max-width: 500px; overflow: hidden; text-overflow: ellipsis; text-align: left;\">locus&lt;GRCh38&gt;</td><td style=\"white-space: nowrap; max-width: 500px; overflow: hidden; text-overflow: ellipsis; text-align: left;\">array&lt;str&gt;</td><td style=\"white-space: nowrap; max-width: 500px; overflow: hidden; text-overflow: ellipsis; text-align: left;\">float64</td></tr>\n",
       "</thead><tbody><tr><td style=\"white-space: nowrap; max-width: 500px; overflow: hidden; text-overflow: ellipsis; \">&quot;chr1&quot;</td><td style=\"white-space: nowrap; max-width: 500px; overflow: hidden; text-overflow: ellipsis; \">10031</td><td style=\"white-space: nowrap; max-width: 500px; overflow: hidden; text-overflow: ellipsis; \">&quot;T&quot;</td><td style=\"white-space: nowrap; max-width: 500px; overflow: hidden; text-overflow: ellipsis; \">&quot;C&quot;</td><td style=\"white-space: nowrap; max-width: 500px; overflow: hidden; text-overflow: ellipsis; \">chr1:10031</td><td style=\"white-space: nowrap; max-width: 500px; overflow: hidden; text-overflow: ellipsis; \">[&quot;T&quot;,&quot;C&quot;]</td><td style=\"white-space: nowrap; max-width: 500px; overflow: hidden; text-overflow: ellipsis; \">0.00e+00</td></tr>\n",
       "<tr><td style=\"white-space: nowrap; max-width: 500px; overflow: hidden; text-overflow: ellipsis; \">&quot;chr1&quot;</td><td style=\"white-space: nowrap; max-width: 500px; overflow: hidden; text-overflow: ellipsis; \">10037</td><td style=\"white-space: nowrap; max-width: 500px; overflow: hidden; text-overflow: ellipsis; \">&quot;T&quot;</td><td style=\"white-space: nowrap; max-width: 500px; overflow: hidden; text-overflow: ellipsis; \">&quot;C&quot;</td><td style=\"white-space: nowrap; max-width: 500px; overflow: hidden; text-overflow: ellipsis; \">chr1:10037</td><td style=\"white-space: nowrap; max-width: 500px; overflow: hidden; text-overflow: ellipsis; \">[&quot;T&quot;,&quot;C&quot;]</td><td style=\"white-space: nowrap; max-width: 500px; overflow: hidden; text-overflow: ellipsis; \">2.75e-05</td></tr>\n",
       "<tr><td style=\"white-space: nowrap; max-width: 500px; overflow: hidden; text-overflow: ellipsis; \">&quot;chr1&quot;</td><td style=\"white-space: nowrap; max-width: 500px; overflow: hidden; text-overflow: ellipsis; \">10043</td><td style=\"white-space: nowrap; max-width: 500px; overflow: hidden; text-overflow: ellipsis; \">&quot;T&quot;</td><td style=\"white-space: nowrap; max-width: 500px; overflow: hidden; text-overflow: ellipsis; \">&quot;C&quot;</td><td style=\"white-space: nowrap; max-width: 500px; overflow: hidden; text-overflow: ellipsis; \">chr1:10043</td><td style=\"white-space: nowrap; max-width: 500px; overflow: hidden; text-overflow: ellipsis; \">[&quot;T&quot;,&quot;C&quot;]</td><td style=\"white-space: nowrap; max-width: 500px; overflow: hidden; text-overflow: ellipsis; \">1.23e-05</td></tr>\n",
       "<tr><td style=\"white-space: nowrap; max-width: 500px; overflow: hidden; text-overflow: ellipsis; \">&quot;chr1&quot;</td><td style=\"white-space: nowrap; max-width: 500px; overflow: hidden; text-overflow: ellipsis; \">10055</td><td style=\"white-space: nowrap; max-width: 500px; overflow: hidden; text-overflow: ellipsis; \">&quot;T&quot;</td><td style=\"white-space: nowrap; max-width: 500px; overflow: hidden; text-overflow: ellipsis; \">&quot;C&quot;</td><td style=\"white-space: nowrap; max-width: 500px; overflow: hidden; text-overflow: ellipsis; \">chr1:10055</td><td style=\"white-space: nowrap; max-width: 500px; overflow: hidden; text-overflow: ellipsis; \">[&quot;T&quot;,&quot;C&quot;]</td><td style=\"white-space: nowrap; max-width: 500px; overflow: hidden; text-overflow: ellipsis; \">1.12e-05</td></tr>\n",
       "<tr><td style=\"white-space: nowrap; max-width: 500px; overflow: hidden; text-overflow: ellipsis; \">&quot;chr1&quot;</td><td style=\"white-space: nowrap; max-width: 500px; overflow: hidden; text-overflow: ellipsis; \">10057</td><td style=\"white-space: nowrap; max-width: 500px; overflow: hidden; text-overflow: ellipsis; \">&quot;A&quot;</td><td style=\"white-space: nowrap; max-width: 500px; overflow: hidden; text-overflow: ellipsis; \">&quot;C&quot;</td><td style=\"white-space: nowrap; max-width: 500px; overflow: hidden; text-overflow: ellipsis; \">chr1:10057</td><td style=\"white-space: nowrap; max-width: 500px; overflow: hidden; text-overflow: ellipsis; \">[&quot;A&quot;,&quot;C&quot;]</td><td style=\"white-space: nowrap; max-width: 500px; overflow: hidden; text-overflow: ellipsis; \">2.79e-05</td></tr>\n",
       "<tr><td style=\"white-space: nowrap; max-width: 500px; overflow: hidden; text-overflow: ellipsis; \">&quot;chr1&quot;</td><td style=\"white-space: nowrap; max-width: 500px; overflow: hidden; text-overflow: ellipsis; \">10061</td><td style=\"white-space: nowrap; max-width: 500px; overflow: hidden; text-overflow: ellipsis; \">&quot;T&quot;</td><td style=\"white-space: nowrap; max-width: 500px; overflow: hidden; text-overflow: ellipsis; \">&quot;C&quot;</td><td style=\"white-space: nowrap; max-width: 500px; overflow: hidden; text-overflow: ellipsis; \">chr1:10061</td><td style=\"white-space: nowrap; max-width: 500px; overflow: hidden; text-overflow: ellipsis; \">[&quot;T&quot;,&quot;C&quot;]</td><td style=\"white-space: nowrap; max-width: 500px; overflow: hidden; text-overflow: ellipsis; \">0.00e+00</td></tr>\n",
       "<tr><td style=\"white-space: nowrap; max-width: 500px; overflow: hidden; text-overflow: ellipsis; \">&quot;chr1&quot;</td><td style=\"white-space: nowrap; max-width: 500px; overflow: hidden; text-overflow: ellipsis; \">10061</td><td style=\"white-space: nowrap; max-width: 500px; overflow: hidden; text-overflow: ellipsis; \">&quot;T&quot;</td><td style=\"white-space: nowrap; max-width: 500px; overflow: hidden; text-overflow: ellipsis; \">&quot;TAACCCTAACCCTAACCCTAACCCTAACCCTAACCCTAACCCTAACCC&quot;</td><td style=\"white-space: nowrap; max-width: 500px; overflow: hidden; text-overflow: ellipsis; \">chr1:10061</td><td style=\"white-space: nowrap; max-width: 500px; overflow: hidden; text-overflow: ellipsis; \">[&quot;T&quot;,&quot;TAACCCTAACCCTAACCCTAACCCTAACCCTAACCCTAACCCTAACCC&quot;]</td><td style=\"white-space: nowrap; max-width: 500px; overflow: hidden; text-overflow: ellipsis; \">0.00e+00</td></tr>\n",
       "<tr><td style=\"white-space: nowrap; max-width: 500px; overflow: hidden; text-overflow: ellipsis; \">&quot;chr1&quot;</td><td style=\"white-space: nowrap; max-width: 500px; overflow: hidden; text-overflow: ellipsis; \">10064</td><td style=\"white-space: nowrap; max-width: 500px; overflow: hidden; text-overflow: ellipsis; \">&quot;C&quot;</td><td style=\"white-space: nowrap; max-width: 500px; overflow: hidden; text-overflow: ellipsis; \">&quot;CCCTAACCCTAACCCTAACCCTAACCCTAACCCTAACCCTAACCCAACCCTAACCCTAACCCTAACCCTAACCCTAACCCAAA&quot;</td><td style=\"white-space: nowrap; max-width: 500px; overflow: hidden; text-overflow: ellipsis; \">chr1:10064</td><td style=\"white-space: nowrap; max-width: 500px; overflow: hidden; text-overflow: ellipsis; \">[&quot;C&quot;,&quot;CCCTAACCCTAACCCTAACCCTAACCCTAACCCTAACCCTAACCCAACCCTAACCCTAACCCTAACCCTAACCCTAACCCAAA&quot;]</td><td style=\"white-space: nowrap; max-width: 500px; overflow: hidden; text-overflow: ellipsis; \">0.00e+00</td></tr>\n",
       "<tr><td style=\"white-space: nowrap; max-width: 500px; overflow: hidden; text-overflow: ellipsis; \">&quot;chr1&quot;</td><td style=\"white-space: nowrap; max-width: 500px; overflow: hidden; text-overflow: ellipsis; \">10067</td><td style=\"white-space: nowrap; max-width: 500px; overflow: hidden; text-overflow: ellipsis; \">&quot;T&quot;</td><td style=\"white-space: nowrap; max-width: 500px; overflow: hidden; text-overflow: ellipsis; \">&quot;TAACCCTAACCCTAACCCTAACCCTAACCCTAACCCTAACCC&quot;</td><td style=\"white-space: nowrap; max-width: 500px; overflow: hidden; text-overflow: ellipsis; \">chr1:10067</td><td style=\"white-space: nowrap; max-width: 500px; overflow: hidden; text-overflow: ellipsis; \">[&quot;T&quot;,&quot;TAACCCTAACCCTAACCCTAACCCTAACCCTAACCCTAACCC&quot;]</td><td style=\"white-space: nowrap; max-width: 500px; overflow: hidden; text-overflow: ellipsis; \">1.75e-05</td></tr>\n",
       "<tr><td style=\"white-space: nowrap; max-width: 500px; overflow: hidden; text-overflow: ellipsis; \">&quot;chr1&quot;</td><td style=\"white-space: nowrap; max-width: 500px; overflow: hidden; text-overflow: ellipsis; \">10108</td><td style=\"white-space: nowrap; max-width: 500px; overflow: hidden; text-overflow: ellipsis; \">&quot;C&quot;</td><td style=\"white-space: nowrap; max-width: 500px; overflow: hidden; text-overflow: ellipsis; \">&quot;CA&quot;</td><td style=\"white-space: nowrap; max-width: 500px; overflow: hidden; text-overflow: ellipsis; \">chr1:10108</td><td style=\"white-space: nowrap; max-width: 500px; overflow: hidden; text-overflow: ellipsis; \">[&quot;C&quot;,&quot;CA&quot;]</td><td style=\"white-space: nowrap; max-width: 500px; overflow: hidden; text-overflow: ellipsis; \">1.10e-04</td></tr>\n",
       "</tbody></table><p style=\"background: #fdd; padding: 0.4em;\">showing top 10 rows</p>\n"
      ],
      "text/plain": [
       "+--------+----------+-----+\n",
       "| chrom  | position | ref |\n",
       "+--------+----------+-----+\n",
       "| str    |    int32 | str |\n",
       "+--------+----------+-----+\n",
       "| \"chr1\" |    10031 | \"T\" |\n",
       "| \"chr1\" |    10037 | \"T\" |\n",
       "| \"chr1\" |    10043 | \"T\" |\n",
       "| \"chr1\" |    10055 | \"T\" |\n",
       "| \"chr1\" |    10057 | \"A\" |\n",
       "| \"chr1\" |    10061 | \"T\" |\n",
       "| \"chr1\" |    10061 | \"T\" |\n",
       "| \"chr1\" |    10064 | \"C\" |\n",
       "| \"chr1\" |    10067 | \"T\" |\n",
       "| \"chr1\" |    10108 | \"C\" |\n",
       "+--------+----------+-----+\n",
       "\n",
       "+------------------------------------------------------------------------------+\n",
       "| alt                                                                          |\n",
       "+------------------------------------------------------------------------------+\n",
       "| str                                                                          |\n",
       "+------------------------------------------------------------------------------+\n",
       "| \"C\"                                                                          |\n",
       "| \"C\"                                                                          |\n",
       "| \"C\"                                                                          |\n",
       "| \"C\"                                                                          |\n",
       "| \"C\"                                                                          |\n",
       "| \"C\"                                                                          |\n",
       "| \"TAACCCTAACCCTAACCCTAACCCTAACCCTAACCCTAACCCTAACCC\"                           |\n",
       "| \"CCCTAACCCTAACCCTAACCCTAACCCTAACCCTAACCCTAACCCAACCCTAACCCTAACCCTAACCCTAAC... |\n",
       "| \"TAACCCTAACCCTAACCCTAACCCTAACCCTAACCCTAACCC\"                                 |\n",
       "| \"CA\"                                                                         |\n",
       "+------------------------------------------------------------------------------+\n",
       "\n",
       "+---------------+\n",
       "| locus         |\n",
       "+---------------+\n",
       "| locus<GRCh38> |\n",
       "+---------------+\n",
       "| chr1:10031    |\n",
       "| chr1:10037    |\n",
       "| chr1:10043    |\n",
       "| chr1:10055    |\n",
       "| chr1:10057    |\n",
       "| chr1:10061    |\n",
       "| chr1:10061    |\n",
       "| chr1:10064    |\n",
       "| chr1:10067    |\n",
       "| chr1:10108    |\n",
       "+---------------+\n",
       "\n",
       "+------------------------------------------------------------------------------+\n",
       "| alleles                                                                      |\n",
       "+------------------------------------------------------------------------------+\n",
       "| array<str>                                                                   |\n",
       "+------------------------------------------------------------------------------+\n",
       "| [\"T\",\"C\"]                                                                    |\n",
       "| [\"T\",\"C\"]                                                                    |\n",
       "| [\"T\",\"C\"]                                                                    |\n",
       "| [\"T\",\"C\"]                                                                    |\n",
       "| [\"A\",\"C\"]                                                                    |\n",
       "| [\"T\",\"C\"]                                                                    |\n",
       "| [\"T\",\"TAACCCTAACCCTAACCCTAACCCTAACCCTAACCCTAACCCTAACCC\"]                     |\n",
       "| [\"C\",\"CCCTAACCCTAACCCTAACCCTAACCCTAACCCTAACCCTAACCCAACCCTAACCCTAACCCTAACC... |\n",
       "| [\"T\",\"TAACCCTAACCCTAACCCTAACCCTAACCCTAACCCTAACCC\"]                           |\n",
       "| [\"C\",\"CA\"]                                                                   |\n",
       "+------------------------------------------------------------------------------+\n",
       "\n",
       "+----------+\n",
       "|      maf |\n",
       "+----------+\n",
       "|  float64 |\n",
       "+----------+\n",
       "| 0.00e+00 |\n",
       "| 2.75e-05 |\n",
       "| 1.23e-05 |\n",
       "| 1.12e-05 |\n",
       "| 2.79e-05 |\n",
       "| 0.00e+00 |\n",
       "| 0.00e+00 |\n",
       "| 0.00e+00 |\n",
       "| 1.75e-05 |\n",
       "| 1.10e-04 |\n",
       "+----------+\n",
       "showing top 10 rows"
      ]
     },
     "metadata": {},
     "output_type": "display_data"
    }
   ],
   "source": [
    "gnomad_ht.show()"
   ]
  },
  {
   "cell_type": "code",
   "execution_count": 176,
   "id": "bd8cdd37",
   "metadata": {},
   "outputs": [
    {
     "data": {
      "text/html": [
       "<table><thead><tr><td style=\"white-space: nowrap; max-width: 500px; overflow: hidden; text-overflow: ellipsis; \" colspan=\"1\"><div style=\"text-align: left;\"></div></td><td style=\"white-space: nowrap; max-width: 500px; overflow: hidden; text-overflow: ellipsis; \" colspan=\"1\"><div style=\"text-align: left;\"></div></td><td style=\"white-space: nowrap; max-width: 500px; overflow: hidden; text-overflow: ellipsis; \" colspan=\"1\"><div style=\"text-align: left;\"></div></td><td style=\"white-space: nowrap; max-width: 500px; overflow: hidden; text-overflow: ellipsis; \" colspan=\"1\"><div style=\"text-align: left;\"></div></td><td style=\"white-space: nowrap; max-width: 500px; overflow: hidden; text-overflow: ellipsis; \" colspan=\"1\"><div style=\"text-align: left;\"></div></td><td style=\"white-space: nowrap; max-width: 500px; overflow: hidden; text-overflow: ellipsis; \" colspan=\"32\"><div style=\"text-align: left;\"></div></td><td style=\"white-space: nowrap; max-width: 500px; overflow: hidden; text-overflow: ellipsis; \" colspan=\"1\"><div style=\"text-align: left;\"></div></td><td style=\"white-space: nowrap; max-width: 500px; overflow: hidden; text-overflow: ellipsis; \" colspan=\"1\"><div style=\"text-align: left;\"></div></td><td style=\"white-space: nowrap; max-width: 500px; overflow: hidden; text-overflow: ellipsis; \" colspan=\"21\"><div style=\"text-align: left;\"></div></td><td style=\"white-space: nowrap; max-width: 500px; overflow: hidden; text-overflow: ellipsis; \" colspan=\"1\"><div style=\"text-align: left;\"></div></td></tr><tr><td style=\"white-space: nowrap; max-width: 500px; overflow: hidden; text-overflow: ellipsis; \" colspan=\"1\"><div style=\"text-align: left;\"></div></td><td style=\"white-space: nowrap; max-width: 500px; overflow: hidden; text-overflow: ellipsis; \" colspan=\"1\"><div style=\"text-align: left;\"></div></td><td style=\"white-space: nowrap; max-width: 500px; overflow: hidden; text-overflow: ellipsis; \" colspan=\"1\"><div style=\"text-align: left;\"></div></td><td style=\"white-space: nowrap; max-width: 500px; overflow: hidden; text-overflow: ellipsis; \" colspan=\"1\"><div style=\"text-align: left;\"></div></td><td style=\"white-space: nowrap; max-width: 500px; overflow: hidden; text-overflow: ellipsis; \" colspan=\"1\"><div style=\"text-align: left;\"></div></td><td style=\"white-space: nowrap; max-width: 500px; overflow: hidden; text-overflow: ellipsis; \" colspan=\"32\"><div style=\"text-align: left;\"></div></td><td style=\"white-space: nowrap; max-width: 500px; overflow: hidden; text-overflow: ellipsis; \" colspan=\"1\"><div style=\"text-align: left;\"></div></td><td style=\"white-space: nowrap; max-width: 500px; overflow: hidden; text-overflow: ellipsis; \" colspan=\"1\"><div style=\"text-align: left;\"></div></td><td style=\"white-space: nowrap; max-width: 500px; overflow: hidden; text-overflow: ellipsis; \" colspan=\"21\"><div style=\"text-align: left;border-bottom: solid 2px #000; padding-bottom: 5px\">variant_qc</div></td><td style=\"white-space: nowrap; max-width: 500px; overflow: hidden; text-overflow: ellipsis; \" colspan=\"1\"><div style=\"text-align: left;\"></div></td></tr><tr><td style=\"white-space: nowrap; max-width: 500px; overflow: hidden; text-overflow: ellipsis; \" colspan=\"1\"><div style=\"text-align: left;\"></div></td><td style=\"white-space: nowrap; max-width: 500px; overflow: hidden; text-overflow: ellipsis; \" colspan=\"1\"><div style=\"text-align: left;\"></div></td><td style=\"white-space: nowrap; max-width: 500px; overflow: hidden; text-overflow: ellipsis; \" colspan=\"1\"><div style=\"text-align: left;\"></div></td><td style=\"white-space: nowrap; max-width: 500px; overflow: hidden; text-overflow: ellipsis; \" colspan=\"1\"><div style=\"text-align: left;\"></div></td><td style=\"white-space: nowrap; max-width: 500px; overflow: hidden; text-overflow: ellipsis; \" colspan=\"1\"><div style=\"text-align: left;\"></div></td><td style=\"white-space: nowrap; max-width: 500px; overflow: hidden; text-overflow: ellipsis; \" colspan=\"32\"><div style=\"text-align: left;border-bottom: solid 2px #000; padding-bottom: 5px\">info</div></td><td style=\"white-space: nowrap; max-width: 500px; overflow: hidden; text-overflow: ellipsis; \" colspan=\"1\"><div style=\"text-align: left;\"></div></td><td style=\"white-space: nowrap; max-width: 500px; overflow: hidden; text-overflow: ellipsis; \" colspan=\"1\"><div style=\"text-align: left;\"></div></td><td style=\"white-space: nowrap; max-width: 500px; overflow: hidden; text-overflow: ellipsis; \" colspan=\"4\"><div style=\"text-align: left;border-bottom: solid 2px #000; padding-bottom: 5px\">dp_stats</div></td><td style=\"white-space: nowrap; max-width: 500px; overflow: hidden; text-overflow: ellipsis; \" colspan=\"4\"><div style=\"text-align: left;border-bottom: solid 2px #000; padding-bottom: 5px\">gq_stats</div></td><td style=\"white-space: nowrap; max-width: 500px; overflow: hidden; text-overflow: ellipsis; \" colspan=\"1\"><div style=\"text-align: left;\"></div></td><td style=\"white-space: nowrap; max-width: 500px; overflow: hidden; text-overflow: ellipsis; \" colspan=\"1\"><div style=\"text-align: left;\"></div></td><td style=\"white-space: nowrap; max-width: 500px; overflow: hidden; text-overflow: ellipsis; \" colspan=\"1\"><div style=\"text-align: left;\"></div></td><td style=\"white-space: nowrap; max-width: 500px; overflow: hidden; text-overflow: ellipsis; \" colspan=\"1\"><div style=\"text-align: left;\"></div></td><td style=\"white-space: nowrap; max-width: 500px; overflow: hidden; text-overflow: ellipsis; \" colspan=\"1\"><div style=\"text-align: left;\"></div></td><td style=\"white-space: nowrap; max-width: 500px; overflow: hidden; text-overflow: ellipsis; \" colspan=\"1\"><div style=\"text-align: left;\"></div></td><td style=\"white-space: nowrap; max-width: 500px; overflow: hidden; text-overflow: ellipsis; \" colspan=\"1\"><div style=\"text-align: left;\"></div></td><td style=\"white-space: nowrap; max-width: 500px; overflow: hidden; text-overflow: ellipsis; \" colspan=\"1\"><div style=\"text-align: left;\"></div></td><td style=\"white-space: nowrap; max-width: 500px; overflow: hidden; text-overflow: ellipsis; \" colspan=\"1\"><div style=\"text-align: left;\"></div></td><td style=\"white-space: nowrap; max-width: 500px; overflow: hidden; text-overflow: ellipsis; \" colspan=\"1\"><div style=\"text-align: left;\"></div></td><td style=\"white-space: nowrap; max-width: 500px; overflow: hidden; text-overflow: ellipsis; \" colspan=\"1\"><div style=\"text-align: left;\"></div></td><td style=\"white-space: nowrap; max-width: 500px; overflow: hidden; text-overflow: ellipsis; \" colspan=\"1\"><div style=\"text-align: left;\"></div></td><td style=\"white-space: nowrap; max-width: 500px; overflow: hidden; text-overflow: ellipsis; \" colspan=\"1\"><div style=\"text-align: left;\"></div></td><td style=\"white-space: nowrap; max-width: 500px; overflow: hidden; text-overflow: ellipsis; \" colspan=\"1\"><div style=\"text-align: left;\"></div></td></tr><tr><td style=\"white-space: nowrap; max-width: 500px; overflow: hidden; text-overflow: ellipsis; \" colspan=\"1\"><div style=\"text-align: left;border-bottom: solid 2px #000; padding-bottom: 5px\">locus</div></td><td style=\"white-space: nowrap; max-width: 500px; overflow: hidden; text-overflow: ellipsis; \" colspan=\"1\"><div style=\"text-align: left;border-bottom: solid 2px #000; padding-bottom: 5px\">alleles</div></td><td style=\"white-space: nowrap; max-width: 500px; overflow: hidden; text-overflow: ellipsis; \" colspan=\"1\"><div style=\"text-align: left;border-bottom: solid 2px #000; padding-bottom: 5px\">rsid</div></td><td style=\"white-space: nowrap; max-width: 500px; overflow: hidden; text-overflow: ellipsis; \" colspan=\"1\"><div style=\"text-align: left;border-bottom: solid 2px #000; padding-bottom: 5px\">qual</div></td><td style=\"white-space: nowrap; max-width: 500px; overflow: hidden; text-overflow: ellipsis; \" colspan=\"1\"><div style=\"text-align: left;border-bottom: solid 2px #000; padding-bottom: 5px\">filters</div></td><td style=\"white-space: nowrap; max-width: 500px; overflow: hidden; text-overflow: ellipsis; \" colspan=\"1\"><div style=\"text-align: left;border-bottom: solid 2px #000; padding-bottom: 5px\">AC</div></td><td style=\"white-space: nowrap; max-width: 500px; overflow: hidden; text-overflow: ellipsis; \" colspan=\"1\"><div style=\"text-align: left;border-bottom: solid 2px #000; padding-bottom: 5px\">AF</div></td><td style=\"white-space: nowrap; max-width: 500px; overflow: hidden; text-overflow: ellipsis; \" colspan=\"1\"><div style=\"text-align: left;border-bottom: solid 2px #000; padding-bottom: 5px\">AN</div></td><td style=\"white-space: nowrap; max-width: 500px; overflow: hidden; text-overflow: ellipsis; \" colspan=\"1\"><div style=\"text-align: left;border-bottom: solid 2px #000; padding-bottom: 5px\">AS_BaseQRankSum</div></td><td style=\"white-space: nowrap; max-width: 500px; overflow: hidden; text-overflow: ellipsis; \" colspan=\"1\"><div style=\"text-align: left;border-bottom: solid 2px #000; padding-bottom: 5px\">AS_FS</div></td><td style=\"white-space: nowrap; max-width: 500px; overflow: hidden; text-overflow: ellipsis; \" colspan=\"1\"><div style=\"text-align: left;border-bottom: solid 2px #000; padding-bottom: 5px\">AS_InbreedingCoeff</div></td><td style=\"white-space: nowrap; max-width: 500px; overflow: hidden; text-overflow: ellipsis; \" colspan=\"1\"><div style=\"text-align: left;border-bottom: solid 2px #000; padding-bottom: 5px\">AS_MQ</div></td><td style=\"white-space: nowrap; max-width: 500px; overflow: hidden; text-overflow: ellipsis; \" colspan=\"1\"><div style=\"text-align: left;border-bottom: solid 2px #000; padding-bottom: 5px\">AS_MQRankSum</div></td><td style=\"white-space: nowrap; max-width: 500px; overflow: hidden; text-overflow: ellipsis; \" colspan=\"1\"><div style=\"text-align: left;border-bottom: solid 2px #000; padding-bottom: 5px\">AS_QD</div></td><td style=\"white-space: nowrap; max-width: 500px; overflow: hidden; text-overflow: ellipsis; \" colspan=\"1\"><div style=\"text-align: left;border-bottom: solid 2px #000; padding-bottom: 5px\">AS_RAW_BaseQRankSum</div></td><td style=\"white-space: nowrap; max-width: 500px; overflow: hidden; text-overflow: ellipsis; \" colspan=\"1\"><div style=\"text-align: left;border-bottom: solid 2px #000; padding-bottom: 5px\">AS_RAW_MQ</div></td><td style=\"white-space: nowrap; max-width: 500px; overflow: hidden; text-overflow: ellipsis; \" colspan=\"1\"><div style=\"text-align: left;border-bottom: solid 2px #000; padding-bottom: 5px\">AS_RAW_MQRankSum</div></td><td style=\"white-space: nowrap; max-width: 500px; overflow: hidden; text-overflow: ellipsis; \" colspan=\"1\"><div style=\"text-align: left;border-bottom: solid 2px #000; padding-bottom: 5px\">AS_RAW_ReadPosRankSum</div></td><td style=\"white-space: nowrap; max-width: 500px; overflow: hidden; text-overflow: ellipsis; \" colspan=\"1\"><div style=\"text-align: left;border-bottom: solid 2px #000; padding-bottom: 5px\">AS_ReadPosRankSum</div></td><td style=\"white-space: nowrap; max-width: 500px; overflow: hidden; text-overflow: ellipsis; \" colspan=\"1\"><div style=\"text-align: left;border-bottom: solid 2px #000; padding-bottom: 5px\">AS_SB_TABLE</div></td><td style=\"white-space: nowrap; max-width: 500px; overflow: hidden; text-overflow: ellipsis; \" colspan=\"1\"><div style=\"text-align: left;border-bottom: solid 2px #000; padding-bottom: 5px\">AS_SOR</div></td><td style=\"white-space: nowrap; max-width: 500px; overflow: hidden; text-overflow: ellipsis; \" colspan=\"1\"><div style=\"text-align: left;border-bottom: solid 2px #000; padding-bottom: 5px\">BaseQRankSum</div></td><td style=\"white-space: nowrap; max-width: 500px; overflow: hidden; text-overflow: ellipsis; \" colspan=\"1\"><div style=\"text-align: left;border-bottom: solid 2px #000; padding-bottom: 5px\">DB</div></td><td style=\"white-space: nowrap; max-width: 500px; overflow: hidden; text-overflow: ellipsis; \" colspan=\"1\"><div style=\"text-align: left;border-bottom: solid 2px #000; padding-bottom: 5px\">DP</div></td><td style=\"white-space: nowrap; max-width: 500px; overflow: hidden; text-overflow: ellipsis; \" colspan=\"1\"><div style=\"text-align: left;border-bottom: solid 2px #000; padding-bottom: 5px\">END</div></td><td style=\"white-space: nowrap; max-width: 500px; overflow: hidden; text-overflow: ellipsis; \" colspan=\"1\"><div style=\"text-align: left;border-bottom: solid 2px #000; padding-bottom: 5px\">ExcessHet</div></td><td style=\"white-space: nowrap; max-width: 500px; overflow: hidden; text-overflow: ellipsis; \" colspan=\"1\"><div style=\"text-align: left;border-bottom: solid 2px #000; padding-bottom: 5px\">FS</div></td><td style=\"white-space: nowrap; max-width: 500px; overflow: hidden; text-overflow: ellipsis; \" colspan=\"1\"><div style=\"text-align: left;border-bottom: solid 2px #000; padding-bottom: 5px\">InbreedingCoeff</div></td><td style=\"white-space: nowrap; max-width: 500px; overflow: hidden; text-overflow: ellipsis; \" colspan=\"1\"><div style=\"text-align: left;border-bottom: solid 2px #000; padding-bottom: 5px\">MLEAC</div></td><td style=\"white-space: nowrap; max-width: 500px; overflow: hidden; text-overflow: ellipsis; \" colspan=\"1\"><div style=\"text-align: left;border-bottom: solid 2px #000; padding-bottom: 5px\">MLEAF</div></td><td style=\"white-space: nowrap; max-width: 500px; overflow: hidden; text-overflow: ellipsis; \" colspan=\"1\"><div style=\"text-align: left;border-bottom: solid 2px #000; padding-bottom: 5px\">MQ</div></td><td style=\"white-space: nowrap; max-width: 500px; overflow: hidden; text-overflow: ellipsis; \" colspan=\"1\"><div style=\"text-align: left;border-bottom: solid 2px #000; padding-bottom: 5px\">MQRankSum</div></td><td style=\"white-space: nowrap; max-width: 500px; overflow: hidden; text-overflow: ellipsis; \" colspan=\"1\"><div style=\"text-align: left;border-bottom: solid 2px #000; padding-bottom: 5px\">QD</div></td><td style=\"white-space: nowrap; max-width: 500px; overflow: hidden; text-overflow: ellipsis; \" colspan=\"1\"><div style=\"text-align: left;border-bottom: solid 2px #000; padding-bottom: 5px\">RAW_MQandDP</div></td><td style=\"white-space: nowrap; max-width: 500px; overflow: hidden; text-overflow: ellipsis; \" colspan=\"1\"><div style=\"text-align: left;border-bottom: solid 2px #000; padding-bottom: 5px\">ReadPosRankSum</div></td><td style=\"white-space: nowrap; max-width: 500px; overflow: hidden; text-overflow: ellipsis; \" colspan=\"1\"><div style=\"text-align: left;border-bottom: solid 2px #000; padding-bottom: 5px\">SOR</div></td><td style=\"white-space: nowrap; max-width: 500px; overflow: hidden; text-overflow: ellipsis; \" colspan=\"1\"><div style=\"text-align: left;border-bottom: solid 2px #000; padding-bottom: 5px\">rf_bin</div></td><td style=\"white-space: nowrap; max-width: 500px; overflow: hidden; text-overflow: ellipsis; \" colspan=\"1\"><div style=\"text-align: left;border-bottom: solid 2px #000; padding-bottom: 5px\">a_index</div></td><td style=\"white-space: nowrap; max-width: 500px; overflow: hidden; text-overflow: ellipsis; \" colspan=\"1\"><div style=\"text-align: left;border-bottom: solid 2px #000; padding-bottom: 5px\">was_split</div></td><td style=\"white-space: nowrap; max-width: 500px; overflow: hidden; text-overflow: ellipsis; \" colspan=\"1\"><div style=\"text-align: left;border-bottom: solid 2px #000; padding-bottom: 5px\">mean</div></td><td style=\"white-space: nowrap; max-width: 500px; overflow: hidden; text-overflow: ellipsis; \" colspan=\"1\"><div style=\"text-align: left;border-bottom: solid 2px #000; padding-bottom: 5px\">stdev</div></td><td style=\"white-space: nowrap; max-width: 500px; overflow: hidden; text-overflow: ellipsis; \" colspan=\"1\"><div style=\"text-align: left;border-bottom: solid 2px #000; padding-bottom: 5px\">min</div></td><td style=\"white-space: nowrap; max-width: 500px; overflow: hidden; text-overflow: ellipsis; \" colspan=\"1\"><div style=\"text-align: left;border-bottom: solid 2px #000; padding-bottom: 5px\">max</div></td><td style=\"white-space: nowrap; max-width: 500px; overflow: hidden; text-overflow: ellipsis; \" colspan=\"1\"><div style=\"text-align: left;border-bottom: solid 2px #000; padding-bottom: 5px\">mean</div></td><td style=\"white-space: nowrap; max-width: 500px; overflow: hidden; text-overflow: ellipsis; \" colspan=\"1\"><div style=\"text-align: left;border-bottom: solid 2px #000; padding-bottom: 5px\">stdev</div></td><td style=\"white-space: nowrap; max-width: 500px; overflow: hidden; text-overflow: ellipsis; \" colspan=\"1\"><div style=\"text-align: left;border-bottom: solid 2px #000; padding-bottom: 5px\">min</div></td><td style=\"white-space: nowrap; max-width: 500px; overflow: hidden; text-overflow: ellipsis; \" colspan=\"1\"><div style=\"text-align: left;border-bottom: solid 2px #000; padding-bottom: 5px\">max</div></td><td style=\"white-space: nowrap; max-width: 500px; overflow: hidden; text-overflow: ellipsis; \" colspan=\"1\"><div style=\"text-align: left;border-bottom: solid 2px #000; padding-bottom: 5px\">AC</div></td><td style=\"white-space: nowrap; max-width: 500px; overflow: hidden; text-overflow: ellipsis; \" colspan=\"1\"><div style=\"text-align: left;border-bottom: solid 2px #000; padding-bottom: 5px\">AF</div></td><td style=\"white-space: nowrap; max-width: 500px; overflow: hidden; text-overflow: ellipsis; \" colspan=\"1\"><div style=\"text-align: left;border-bottom: solid 2px #000; padding-bottom: 5px\">AN</div></td><td style=\"white-space: nowrap; max-width: 500px; overflow: hidden; text-overflow: ellipsis; \" colspan=\"1\"><div style=\"text-align: left;border-bottom: solid 2px #000; padding-bottom: 5px\">homozygote_count</div></td><td style=\"white-space: nowrap; max-width: 500px; overflow: hidden; text-overflow: ellipsis; \" colspan=\"1\"><div style=\"text-align: left;border-bottom: solid 2px #000; padding-bottom: 5px\">call_rate</div></td><td style=\"white-space: nowrap; max-width: 500px; overflow: hidden; text-overflow: ellipsis; \" colspan=\"1\"><div style=\"text-align: left;border-bottom: solid 2px #000; padding-bottom: 5px\">n_called</div></td><td style=\"white-space: nowrap; max-width: 500px; overflow: hidden; text-overflow: ellipsis; \" colspan=\"1\"><div style=\"text-align: left;border-bottom: solid 2px #000; padding-bottom: 5px\">n_not_called</div></td><td style=\"white-space: nowrap; max-width: 500px; overflow: hidden; text-overflow: ellipsis; \" colspan=\"1\"><div style=\"text-align: left;border-bottom: solid 2px #000; padding-bottom: 5px\">n_filtered</div></td><td style=\"white-space: nowrap; max-width: 500px; overflow: hidden; text-overflow: ellipsis; \" colspan=\"1\"><div style=\"text-align: left;border-bottom: solid 2px #000; padding-bottom: 5px\">n_het</div></td><td style=\"white-space: nowrap; max-width: 500px; overflow: hidden; text-overflow: ellipsis; \" colspan=\"1\"><div style=\"text-align: left;border-bottom: solid 2px #000; padding-bottom: 5px\">n_non_ref</div></td><td style=\"white-space: nowrap; max-width: 500px; overflow: hidden; text-overflow: ellipsis; \" colspan=\"1\"><div style=\"text-align: left;border-bottom: solid 2px #000; padding-bottom: 5px\">het_freq_hwe</div></td><td style=\"white-space: nowrap; max-width: 500px; overflow: hidden; text-overflow: ellipsis; \" colspan=\"1\"><div style=\"text-align: left;border-bottom: solid 2px #000; padding-bottom: 5px\">p_value_hwe</div></td><td style=\"white-space: nowrap; max-width: 500px; overflow: hidden; text-overflow: ellipsis; \" colspan=\"1\"><div style=\"text-align: left;border-bottom: solid 2px #000; padding-bottom: 5px\">p_value_excess_het</div></td><td style=\"white-space: nowrap; max-width: 500px; overflow: hidden; text-overflow: ellipsis; \" colspan=\"1\"><div style=\"text-align: left;border-bottom: solid 2px #000; padding-bottom: 5px\">gnomad_af</div></td></tr><tr><td style=\"white-space: nowrap; max-width: 500px; overflow: hidden; text-overflow: ellipsis; text-align: left;\">locus&lt;GRCh38&gt;</td><td style=\"white-space: nowrap; max-width: 500px; overflow: hidden; text-overflow: ellipsis; text-align: left;\">array&lt;str&gt;</td><td style=\"white-space: nowrap; max-width: 500px; overflow: hidden; text-overflow: ellipsis; text-align: left;\">str</td><td style=\"white-space: nowrap; max-width: 500px; overflow: hidden; text-overflow: ellipsis; text-align: left;\">float64</td><td style=\"white-space: nowrap; max-width: 500px; overflow: hidden; text-overflow: ellipsis; text-align: left;\">set&lt;str&gt;</td><td style=\"white-space: nowrap; max-width: 500px; overflow: hidden; text-overflow: ellipsis; text-align: left;\">array&lt;int32&gt;</td><td style=\"white-space: nowrap; max-width: 500px; overflow: hidden; text-overflow: ellipsis; text-align: left;\">array&lt;float64&gt;</td><td style=\"white-space: nowrap; max-width: 500px; overflow: hidden; text-overflow: ellipsis; text-align: left;\">int32</td><td style=\"white-space: nowrap; max-width: 500px; overflow: hidden; text-overflow: ellipsis; text-align: left;\">array&lt;float64&gt;</td><td style=\"white-space: nowrap; max-width: 500px; overflow: hidden; text-overflow: ellipsis; text-align: left;\">array&lt;float64&gt;</td><td style=\"white-space: nowrap; max-width: 500px; overflow: hidden; text-overflow: ellipsis; text-align: left;\">array&lt;float64&gt;</td><td style=\"white-space: nowrap; max-width: 500px; overflow: hidden; text-overflow: ellipsis; text-align: left;\">array&lt;float64&gt;</td><td style=\"white-space: nowrap; max-width: 500px; overflow: hidden; text-overflow: ellipsis; text-align: left;\">array&lt;float64&gt;</td><td style=\"white-space: nowrap; max-width: 500px; overflow: hidden; text-overflow: ellipsis; text-align: left;\">array&lt;float64&gt;</td><td style=\"white-space: nowrap; max-width: 500px; overflow: hidden; text-overflow: ellipsis; text-align: left;\">str</td><td style=\"white-space: nowrap; max-width: 500px; overflow: hidden; text-overflow: ellipsis; text-align: left;\">str</td><td style=\"white-space: nowrap; max-width: 500px; overflow: hidden; text-overflow: ellipsis; text-align: left;\">str</td><td style=\"white-space: nowrap; max-width: 500px; overflow: hidden; text-overflow: ellipsis; text-align: left;\">str</td><td style=\"white-space: nowrap; max-width: 500px; overflow: hidden; text-overflow: ellipsis; text-align: left;\">array&lt;float64&gt;</td><td style=\"white-space: nowrap; max-width: 500px; overflow: hidden; text-overflow: ellipsis; text-align: left;\">str</td><td style=\"white-space: nowrap; max-width: 500px; overflow: hidden; text-overflow: ellipsis; text-align: left;\">array&lt;float64&gt;</td><td style=\"white-space: nowrap; max-width: 500px; overflow: hidden; text-overflow: ellipsis; text-align: left;\">float64</td><td style=\"white-space: nowrap; max-width: 500px; overflow: hidden; text-overflow: ellipsis; text-align: left;\">bool</td><td style=\"white-space: nowrap; max-width: 500px; overflow: hidden; text-overflow: ellipsis; text-align: left;\">int32</td><td style=\"white-space: nowrap; max-width: 500px; overflow: hidden; text-overflow: ellipsis; text-align: left;\">int32</td><td style=\"white-space: nowrap; max-width: 500px; overflow: hidden; text-overflow: ellipsis; text-align: left;\">float64</td><td style=\"white-space: nowrap; max-width: 500px; overflow: hidden; text-overflow: ellipsis; text-align: left;\">float64</td><td style=\"white-space: nowrap; max-width: 500px; overflow: hidden; text-overflow: ellipsis; text-align: left;\">float64</td><td style=\"white-space: nowrap; max-width: 500px; overflow: hidden; text-overflow: ellipsis; text-align: left;\">array&lt;int32&gt;</td><td style=\"white-space: nowrap; max-width: 500px; overflow: hidden; text-overflow: ellipsis; text-align: left;\">array&lt;float64&gt;</td><td style=\"white-space: nowrap; max-width: 500px; overflow: hidden; text-overflow: ellipsis; text-align: left;\">float64</td><td style=\"white-space: nowrap; max-width: 500px; overflow: hidden; text-overflow: ellipsis; text-align: left;\">float64</td><td style=\"white-space: nowrap; max-width: 500px; overflow: hidden; text-overflow: ellipsis; text-align: left;\">float64</td><td style=\"white-space: nowrap; max-width: 500px; overflow: hidden; text-overflow: ellipsis; text-align: left;\">array&lt;int32&gt;</td><td style=\"white-space: nowrap; max-width: 500px; overflow: hidden; text-overflow: ellipsis; text-align: left;\">float64</td><td style=\"white-space: nowrap; max-width: 500px; overflow: hidden; text-overflow: ellipsis; text-align: left;\">float64</td><td style=\"white-space: nowrap; max-width: 500px; overflow: hidden; text-overflow: ellipsis; text-align: left;\">int32</td><td style=\"white-space: nowrap; max-width: 500px; overflow: hidden; text-overflow: ellipsis; text-align: left;\">int32</td><td style=\"white-space: nowrap; max-width: 500px; overflow: hidden; text-overflow: ellipsis; text-align: left;\">bool</td><td style=\"white-space: nowrap; max-width: 500px; overflow: hidden; text-overflow: ellipsis; text-align: left;\">float64</td><td style=\"white-space: nowrap; max-width: 500px; overflow: hidden; text-overflow: ellipsis; text-align: left;\">float64</td><td style=\"white-space: nowrap; max-width: 500px; overflow: hidden; text-overflow: ellipsis; text-align: left;\">float64</td><td style=\"white-space: nowrap; max-width: 500px; overflow: hidden; text-overflow: ellipsis; text-align: left;\">float64</td><td style=\"white-space: nowrap; max-width: 500px; overflow: hidden; text-overflow: ellipsis; text-align: left;\">float64</td><td style=\"white-space: nowrap; max-width: 500px; overflow: hidden; text-overflow: ellipsis; text-align: left;\">float64</td><td style=\"white-space: nowrap; max-width: 500px; overflow: hidden; text-overflow: ellipsis; text-align: left;\">float64</td><td style=\"white-space: nowrap; max-width: 500px; overflow: hidden; text-overflow: ellipsis; text-align: left;\">float64</td><td style=\"white-space: nowrap; max-width: 500px; overflow: hidden; text-overflow: ellipsis; text-align: left;\">array&lt;int32&gt;</td><td style=\"white-space: nowrap; max-width: 500px; overflow: hidden; text-overflow: ellipsis; text-align: left;\">array&lt;float64&gt;</td><td style=\"white-space: nowrap; max-width: 500px; overflow: hidden; text-overflow: ellipsis; text-align: left;\">int32</td><td style=\"white-space: nowrap; max-width: 500px; overflow: hidden; text-overflow: ellipsis; text-align: left;\">array&lt;int32&gt;</td><td style=\"white-space: nowrap; max-width: 500px; overflow: hidden; text-overflow: ellipsis; text-align: left;\">float64</td><td style=\"white-space: nowrap; max-width: 500px; overflow: hidden; text-overflow: ellipsis; text-align: left;\">int64</td><td style=\"white-space: nowrap; max-width: 500px; overflow: hidden; text-overflow: ellipsis; text-align: left;\">int64</td><td style=\"white-space: nowrap; max-width: 500px; overflow: hidden; text-overflow: ellipsis; text-align: left;\">int64</td><td style=\"white-space: nowrap; max-width: 500px; overflow: hidden; text-overflow: ellipsis; text-align: left;\">int64</td><td style=\"white-space: nowrap; max-width: 500px; overflow: hidden; text-overflow: ellipsis; text-align: left;\">int64</td><td style=\"white-space: nowrap; max-width: 500px; overflow: hidden; text-overflow: ellipsis; text-align: left;\">float64</td><td style=\"white-space: nowrap; max-width: 500px; overflow: hidden; text-overflow: ellipsis; text-align: left;\">float64</td><td style=\"white-space: nowrap; max-width: 500px; overflow: hidden; text-overflow: ellipsis; text-align: left;\">float64</td><td style=\"white-space: nowrap; max-width: 500px; overflow: hidden; text-overflow: ellipsis; text-align: left;\">float64</td></tr>\n",
       "</thead><tbody><tr><td style=\"white-space: nowrap; max-width: 500px; overflow: hidden; text-overflow: ellipsis; \">chr1:69063</td><td style=\"white-space: nowrap; max-width: 500px; overflow: hidden; text-overflow: ellipsis; \">[&quot;T&quot;,&quot;C&quot;]</td><td style=\"white-space: nowrap; max-width: 500px; overflow: hidden; text-overflow: ellipsis; \">NA</td><td style=\"white-space: nowrap; max-width: 500px; overflow: hidden; text-overflow: ellipsis; \">2.63e+04</td><td style=\"white-space: nowrap; max-width: 500px; overflow: hidden; text-overflow: ellipsis; \">NA</td><td style=\"white-space: nowrap; max-width: 500px; overflow: hidden; text-overflow: ellipsis; \">[366]</td><td style=\"white-space: nowrap; max-width: 500px; overflow: hidden; text-overflow: ellipsis; \">[1.20e-02]</td><td style=\"white-space: nowrap; max-width: 500px; overflow: hidden; text-overflow: ellipsis; \">29946</td><td style=\"white-space: nowrap; max-width: 500px; overflow: hidden; text-overflow: ellipsis; \">[0.00e+00]</td><td style=\"white-space: nowrap; max-width: 500px; overflow: hidden; text-overflow: ellipsis; \">[1.21e+02]</td><td style=\"white-space: nowrap; max-width: 500px; overflow: hidden; text-overflow: ellipsis; \">[3.78e-01]</td><td style=\"white-space: nowrap; max-width: 500px; overflow: hidden; text-overflow: ellipsis; \">[2.51e+01]</td><td style=\"white-space: nowrap; max-width: 500px; overflow: hidden; text-overflow: ellipsis; \">[-3.00e-01]</td><td style=\"white-space: nowrap; max-width: 500px; overflow: hidden; text-overflow: ellipsis; \">[9.99e+00]</td><td style=\"white-space: nowrap; max-width: 500px; overflow: hidden; text-overflow: ellipsis; \">NA</td><td style=\"white-space: nowrap; max-width: 500px; overflow: hidden; text-overflow: ellipsis; \">NA</td><td style=\"white-space: nowrap; max-width: 500px; overflow: hidden; text-overflow: ellipsis; \">NA</td><td style=\"white-space: nowrap; max-width: 500px; overflow: hidden; text-overflow: ellipsis; \">NA</td><td style=\"white-space: nowrap; max-width: 500px; overflow: hidden; text-overflow: ellipsis; \">[0.00e+00]</td><td style=\"white-space: nowrap; max-width: 500px; overflow: hidden; text-overflow: ellipsis; \">NA</td><td style=\"white-space: nowrap; max-width: 500px; overflow: hidden; text-overflow: ellipsis; \">[3.35e+00]</td><td style=\"white-space: nowrap; max-width: 500px; overflow: hidden; text-overflow: ellipsis; \">0.00e+00</td><td style=\"white-space: nowrap; max-width: 500px; overflow: hidden; text-overflow: ellipsis; \">False</td><td style=\"white-space: nowrap; max-width: 500px; overflow: hidden; text-overflow: ellipsis; \">21298</td><td style=\"white-space: nowrap; max-width: 500px; overflow: hidden; text-overflow: ellipsis; \">NA</td><td style=\"white-space: nowrap; max-width: 500px; overflow: hidden; text-overflow: ellipsis; \">0.00e+00</td><td style=\"white-space: nowrap; max-width: 500px; overflow: hidden; text-overflow: ellipsis; \">1.21e+02</td><td style=\"white-space: nowrap; max-width: 500px; overflow: hidden; text-overflow: ellipsis; \">3.78e-01</td><td style=\"white-space: nowrap; max-width: 500px; overflow: hidden; text-overflow: ellipsis; \">[2347]</td><td style=\"white-space: nowrap; max-width: 500px; overflow: hidden; text-overflow: ellipsis; \">[7.80e-02]</td><td style=\"white-space: nowrap; max-width: 500px; overflow: hidden; text-overflow: ellipsis; \">2.68e+01</td><td style=\"white-space: nowrap; max-width: 500px; overflow: hidden; text-overflow: ellipsis; \">-2.53e-01</td><td style=\"white-space: nowrap; max-width: 500px; overflow: hidden; text-overflow: ellipsis; \">9.99e+00</td><td style=\"white-space: nowrap; max-width: 500px; overflow: hidden; text-overflow: ellipsis; \">NA</td><td style=\"white-space: nowrap; max-width: 500px; overflow: hidden; text-overflow: ellipsis; \">0.00e+00</td><td style=\"white-space: nowrap; max-width: 500px; overflow: hidden; text-overflow: ellipsis; \">3.43e+00</td><td style=\"white-space: nowrap; max-width: 500px; overflow: hidden; text-overflow: ellipsis; \">36</td><td style=\"white-space: nowrap; max-width: 500px; overflow: hidden; text-overflow: ellipsis; \">1</td><td style=\"white-space: nowrap; max-width: 500px; overflow: hidden; text-overflow: ellipsis; \">False</td><td style=\"white-space: nowrap; max-width: 500px; overflow: hidden; text-overflow: ellipsis; \">2.79e-03</td><td style=\"white-space: nowrap; max-width: 500px; overflow: hidden; text-overflow: ellipsis; \">9.15e-02</td><td style=\"white-space: nowrap; max-width: 500px; overflow: hidden; text-overflow: ellipsis; \">0.00e+00</td><td style=\"white-space: nowrap; max-width: 500px; overflow: hidden; text-overflow: ellipsis; \">4.00e+00</td><td style=\"white-space: nowrap; max-width: 500px; overflow: hidden; text-overflow: ellipsis; \">7.18e-03</td><td style=\"white-space: nowrap; max-width: 500px; overflow: hidden; text-overflow: ellipsis; \">2.68e-01</td><td style=\"white-space: nowrap; max-width: 500px; overflow: hidden; text-overflow: ellipsis; \">0.00e+00</td><td style=\"white-space: nowrap; max-width: 500px; overflow: hidden; text-overflow: ellipsis; \">1.20e+01</td><td style=\"white-space: nowrap; max-width: 500px; overflow: hidden; text-overflow: ellipsis; \">[5010,2]</td><td style=\"white-space: nowrap; max-width: 500px; overflow: hidden; text-overflow: ellipsis; \">[1.00e+00,3.99e-04]</td><td style=\"white-space: nowrap; max-width: 500px; overflow: hidden; text-overflow: ellipsis; \">5012</td><td style=\"white-space: nowrap; max-width: 500px; overflow: hidden; text-overflow: ellipsis; \">[2505,1]</td><td style=\"white-space: nowrap; max-width: 500px; overflow: hidden; text-overflow: ellipsis; \">1.00e+00</td><td style=\"white-space: nowrap; max-width: 500px; overflow: hidden; text-overflow: ellipsis; \">2506</td><td style=\"white-space: nowrap; max-width: 500px; overflow: hidden; text-overflow: ellipsis; \">0</td><td style=\"white-space: nowrap; max-width: 500px; overflow: hidden; text-overflow: ellipsis; \">0</td><td style=\"white-space: nowrap; max-width: 500px; overflow: hidden; text-overflow: ellipsis; \">0</td><td style=\"white-space: nowrap; max-width: 500px; overflow: hidden; text-overflow: ellipsis; \">1</td><td style=\"white-space: nowrap; max-width: 500px; overflow: hidden; text-overflow: ellipsis; \">7.98e-04</td><td style=\"white-space: nowrap; max-width: 500px; overflow: hidden; text-overflow: ellipsis; \">9.98e-05</td><td style=\"white-space: nowrap; max-width: 500px; overflow: hidden; text-overflow: ellipsis; \">1.00e+00</td><td style=\"white-space: nowrap; max-width: 500px; overflow: hidden; text-overflow: ellipsis; \">4.60e-02</td></tr>\n",
       "<tr><td style=\"white-space: nowrap; max-width: 500px; overflow: hidden; text-overflow: ellipsis; \">chr1:69224</td><td style=\"white-space: nowrap; max-width: 500px; overflow: hidden; text-overflow: ellipsis; \">[&quot;A&quot;,&quot;T&quot;]</td><td style=\"white-space: nowrap; max-width: 500px; overflow: hidden; text-overflow: ellipsis; \">&quot;rs568964432&quot;</td><td style=\"white-space: nowrap; max-width: 500px; overflow: hidden; text-overflow: ellipsis; \">7.70e+02</td><td style=\"white-space: nowrap; max-width: 500px; overflow: hidden; text-overflow: ellipsis; \">NA</td><td style=\"white-space: nowrap; max-width: 500px; overflow: hidden; text-overflow: ellipsis; \">[7]</td><td style=\"white-space: nowrap; max-width: 500px; overflow: hidden; text-overflow: ellipsis; \">[2.34e-04]</td><td style=\"white-space: nowrap; max-width: 500px; overflow: hidden; text-overflow: ellipsis; \">29946</td><td style=\"white-space: nowrap; max-width: 500px; overflow: hidden; text-overflow: ellipsis; \">[0.00e+00]</td><td style=\"white-space: nowrap; max-width: 500px; overflow: hidden; text-overflow: ellipsis; \">[1.13e+01]</td><td style=\"white-space: nowrap; max-width: 500px; overflow: hidden; text-overflow: ellipsis; \">[4.36e-01]</td><td style=\"white-space: nowrap; max-width: 500px; overflow: hidden; text-overflow: ellipsis; \">[2.92e+01]</td><td style=\"white-space: nowrap; max-width: 500px; overflow: hidden; text-overflow: ellipsis; \">[1.00e-01]</td><td style=\"white-space: nowrap; max-width: 500px; overflow: hidden; text-overflow: ellipsis; \">[2.14e+01]</td><td style=\"white-space: nowrap; max-width: 500px; overflow: hidden; text-overflow: ellipsis; \">NA</td><td style=\"white-space: nowrap; max-width: 500px; overflow: hidden; text-overflow: ellipsis; \">NA</td><td style=\"white-space: nowrap; max-width: 500px; overflow: hidden; text-overflow: ellipsis; \">NA</td><td style=\"white-space: nowrap; max-width: 500px; overflow: hidden; text-overflow: ellipsis; \">NA</td><td style=\"white-space: nowrap; max-width: 500px; overflow: hidden; text-overflow: ellipsis; \">[0.00e+00]</td><td style=\"white-space: nowrap; max-width: 500px; overflow: hidden; text-overflow: ellipsis; \">NA</td><td style=\"white-space: nowrap; max-width: 500px; overflow: hidden; text-overflow: ellipsis; \">[4.27e+00]</td><td style=\"white-space: nowrap; max-width: 500px; overflow: hidden; text-overflow: ellipsis; \">0.00e+00</td><td style=\"white-space: nowrap; max-width: 500px; overflow: hidden; text-overflow: ellipsis; \">True</td><td style=\"white-space: nowrap; max-width: 500px; overflow: hidden; text-overflow: ellipsis; \">37862</td><td style=\"white-space: nowrap; max-width: 500px; overflow: hidden; text-overflow: ellipsis; \">NA</td><td style=\"white-space: nowrap; max-width: 500px; overflow: hidden; text-overflow: ellipsis; \">0.00e+00</td><td style=\"white-space: nowrap; max-width: 500px; overflow: hidden; text-overflow: ellipsis; \">1.13e+01</td><td style=\"white-space: nowrap; max-width: 500px; overflow: hidden; text-overflow: ellipsis; \">4.36e-01</td><td style=\"white-space: nowrap; max-width: 500px; overflow: hidden; text-overflow: ellipsis; \">[25]</td><td style=\"white-space: nowrap; max-width: 500px; overflow: hidden; text-overflow: ellipsis; \">[8.35e-04]</td><td style=\"white-space: nowrap; max-width: 500px; overflow: hidden; text-overflow: ellipsis; \">2.87e+01</td><td style=\"white-space: nowrap; max-width: 500px; overflow: hidden; text-overflow: ellipsis; \">1.65e-01</td><td style=\"white-space: nowrap; max-width: 500px; overflow: hidden; text-overflow: ellipsis; \">2.14e+01</td><td style=\"white-space: nowrap; max-width: 500px; overflow: hidden; text-overflow: ellipsis; \">NA</td><td style=\"white-space: nowrap; max-width: 500px; overflow: hidden; text-overflow: ellipsis; \">0.00e+00</td><td style=\"white-space: nowrap; max-width: 500px; overflow: hidden; text-overflow: ellipsis; \">4.41e+00</td><td style=\"white-space: nowrap; max-width: 500px; overflow: hidden; text-overflow: ellipsis; \">37</td><td style=\"white-space: nowrap; max-width: 500px; overflow: hidden; text-overflow: ellipsis; \">1</td><td style=\"white-space: nowrap; max-width: 500px; overflow: hidden; text-overflow: ellipsis; \">False</td><td style=\"white-space: nowrap; max-width: 500px; overflow: hidden; text-overflow: ellipsis; \">5.23e-01</td><td style=\"white-space: nowrap; max-width: 500px; overflow: hidden; text-overflow: ellipsis; \">1.52e+00</td><td style=\"white-space: nowrap; max-width: 500px; overflow: hidden; text-overflow: ellipsis; \">0.00e+00</td><td style=\"white-space: nowrap; max-width: 500px; overflow: hidden; text-overflow: ellipsis; \">1.30e+01</td><td style=\"white-space: nowrap; max-width: 500px; overflow: hidden; text-overflow: ellipsis; \">1.52e+00</td><td style=\"white-space: nowrap; max-width: 500px; overflow: hidden; text-overflow: ellipsis; \">4.51e+00</td><td style=\"white-space: nowrap; max-width: 500px; overflow: hidden; text-overflow: ellipsis; \">0.00e+00</td><td style=\"white-space: nowrap; max-width: 500px; overflow: hidden; text-overflow: ellipsis; \">3.90e+01</td><td style=\"white-space: nowrap; max-width: 500px; overflow: hidden; text-overflow: ellipsis; \">[5010,2]</td><td style=\"white-space: nowrap; max-width: 500px; overflow: hidden; text-overflow: ellipsis; \">[1.00e+00,3.99e-04]</td><td style=\"white-space: nowrap; max-width: 500px; overflow: hidden; text-overflow: ellipsis; \">5012</td><td style=\"white-space: nowrap; max-width: 500px; overflow: hidden; text-overflow: ellipsis; \">[2505,1]</td><td style=\"white-space: nowrap; max-width: 500px; overflow: hidden; text-overflow: ellipsis; \">1.00e+00</td><td style=\"white-space: nowrap; max-width: 500px; overflow: hidden; text-overflow: ellipsis; \">2506</td><td style=\"white-space: nowrap; max-width: 500px; overflow: hidden; text-overflow: ellipsis; \">0</td><td style=\"white-space: nowrap; max-width: 500px; overflow: hidden; text-overflow: ellipsis; \">0</td><td style=\"white-space: nowrap; max-width: 500px; overflow: hidden; text-overflow: ellipsis; \">0</td><td style=\"white-space: nowrap; max-width: 500px; overflow: hidden; text-overflow: ellipsis; \">1</td><td style=\"white-space: nowrap; max-width: 500px; overflow: hidden; text-overflow: ellipsis; \">7.98e-04</td><td style=\"white-space: nowrap; max-width: 500px; overflow: hidden; text-overflow: ellipsis; \">9.98e-05</td><td style=\"white-space: nowrap; max-width: 500px; overflow: hidden; text-overflow: ellipsis; \">1.00e+00</td><td style=\"white-space: nowrap; max-width: 500px; overflow: hidden; text-overflow: ellipsis; \">2.22e-04</td></tr>\n",
       "<tr><td style=\"white-space: nowrap; max-width: 500px; overflow: hidden; text-overflow: ellipsis; \">chr1:69270</td><td style=\"white-space: nowrap; max-width: 500px; overflow: hidden; text-overflow: ellipsis; \">[&quot;A&quot;,&quot;G&quot;]</td><td style=\"white-space: nowrap; max-width: 500px; overflow: hidden; text-overflow: ellipsis; \">&quot;rs201219564&quot;</td><td style=\"white-space: nowrap; max-width: 500px; overflow: hidden; text-overflow: ellipsis; \">2.11e+06</td><td style=\"white-space: nowrap; max-width: 500px; overflow: hidden; text-overflow: ellipsis; \">NA</td><td style=\"white-space: nowrap; max-width: 500px; overflow: hidden; text-overflow: ellipsis; \">[15144]</td><td style=\"white-space: nowrap; max-width: 500px; overflow: hidden; text-overflow: ellipsis; \">[5.06e-01]</td><td style=\"white-space: nowrap; max-width: 500px; overflow: hidden; text-overflow: ellipsis; \">29946</td><td style=\"white-space: nowrap; max-width: 500px; overflow: hidden; text-overflow: ellipsis; \">[0.00e+00]</td><td style=\"white-space: nowrap; max-width: 500px; overflow: hidden; text-overflow: ellipsis; \">[0.00e+00]</td><td style=\"white-space: nowrap; max-width: 500px; overflow: hidden; text-overflow: ellipsis; \">[4.54e-01]</td><td style=\"white-space: nowrap; max-width: 500px; overflow: hidden; text-overflow: ellipsis; \">[2.87e+01]</td><td style=\"white-space: nowrap; max-width: 500px; overflow: hidden; text-overflow: ellipsis; \">[3.00e-01]</td><td style=\"white-space: nowrap; max-width: 500px; overflow: hidden; text-overflow: ellipsis; \">[3.41e+01]</td><td style=\"white-space: nowrap; max-width: 500px; overflow: hidden; text-overflow: ellipsis; \">NA</td><td style=\"white-space: nowrap; max-width: 500px; overflow: hidden; text-overflow: ellipsis; \">NA</td><td style=\"white-space: nowrap; max-width: 500px; overflow: hidden; text-overflow: ellipsis; \">NA</td><td style=\"white-space: nowrap; max-width: 500px; overflow: hidden; text-overflow: ellipsis; \">NA</td><td style=\"white-space: nowrap; max-width: 500px; overflow: hidden; text-overflow: ellipsis; \">[8.00e-01]</td><td style=\"white-space: nowrap; max-width: 500px; overflow: hidden; text-overflow: ellipsis; \">NA</td><td style=\"white-space: nowrap; max-width: 500px; overflow: hidden; text-overflow: ellipsis; \">[5.54e+00]</td><td style=\"white-space: nowrap; max-width: 500px; overflow: hidden; text-overflow: ellipsis; \">0.00e+00</td><td style=\"white-space: nowrap; max-width: 500px; overflow: hidden; text-overflow: ellipsis; \">True</td><td style=\"white-space: nowrap; max-width: 500px; overflow: hidden; text-overflow: ellipsis; \">67077</td><td style=\"white-space: nowrap; max-width: 500px; overflow: hidden; text-overflow: ellipsis; \">NA</td><td style=\"white-space: nowrap; max-width: 500px; overflow: hidden; text-overflow: ellipsis; \">0.00e+00</td><td style=\"white-space: nowrap; max-width: 500px; overflow: hidden; text-overflow: ellipsis; \">0.00e+00</td><td style=\"white-space: nowrap; max-width: 500px; overflow: hidden; text-overflow: ellipsis; \">4.54e-01</td><td style=\"white-space: nowrap; max-width: 500px; overflow: hidden; text-overflow: ellipsis; \">[27936]</td><td style=\"white-space: nowrap; max-width: 500px; overflow: hidden; text-overflow: ellipsis; \">[9.33e-01]</td><td style=\"white-space: nowrap; max-width: 500px; overflow: hidden; text-overflow: ellipsis; \">2.88e+01</td><td style=\"white-space: nowrap; max-width: 500px; overflow: hidden; text-overflow: ellipsis; \">3.66e-01</td><td style=\"white-space: nowrap; max-width: 500px; overflow: hidden; text-overflow: ellipsis; \">3.41e+01</td><td style=\"white-space: nowrap; max-width: 500px; overflow: hidden; text-overflow: ellipsis; \">NA</td><td style=\"white-space: nowrap; max-width: 500px; overflow: hidden; text-overflow: ellipsis; \">8.42e-01</td><td style=\"white-space: nowrap; max-width: 500px; overflow: hidden; text-overflow: ellipsis; \">5.63e+00</td><td style=\"white-space: nowrap; max-width: 500px; overflow: hidden; text-overflow: ellipsis; \">37</td><td style=\"white-space: nowrap; max-width: 500px; overflow: hidden; text-overflow: ellipsis; \">1</td><td style=\"white-space: nowrap; max-width: 500px; overflow: hidden; text-overflow: ellipsis; \">False</td><td style=\"white-space: nowrap; max-width: 500px; overflow: hidden; text-overflow: ellipsis; \">2.52e+00</td><td style=\"white-space: nowrap; max-width: 500px; overflow: hidden; text-overflow: ellipsis; \">3.06e+00</td><td style=\"white-space: nowrap; max-width: 500px; overflow: hidden; text-overflow: ellipsis; \">0.00e+00</td><td style=\"white-space: nowrap; max-width: 500px; overflow: hidden; text-overflow: ellipsis; \">2.00e+01</td><td style=\"white-space: nowrap; max-width: 500px; overflow: hidden; text-overflow: ellipsis; \">8.53e+00</td><td style=\"white-space: nowrap; max-width: 500px; overflow: hidden; text-overflow: ellipsis; \">1.31e+01</td><td style=\"white-space: nowrap; max-width: 500px; overflow: hidden; text-overflow: ellipsis; \">0.00e+00</td><td style=\"white-space: nowrap; max-width: 500px; overflow: hidden; text-overflow: ellipsis; \">9.90e+01</td><td style=\"white-space: nowrap; max-width: 500px; overflow: hidden; text-overflow: ellipsis; \">[2519,2493]</td><td style=\"white-space: nowrap; max-width: 500px; overflow: hidden; text-overflow: ellipsis; \">[5.03e-01,4.97e-01]</td><td style=\"white-space: nowrap; max-width: 500px; overflow: hidden; text-overflow: ellipsis; \">5012</td><td style=\"white-space: nowrap; max-width: 500px; overflow: hidden; text-overflow: ellipsis; \">[1221,1208]</td><td style=\"white-space: nowrap; max-width: 500px; overflow: hidden; text-overflow: ellipsis; \">1.00e+00</td><td style=\"white-space: nowrap; max-width: 500px; overflow: hidden; text-overflow: ellipsis; \">2506</td><td style=\"white-space: nowrap; max-width: 500px; overflow: hidden; text-overflow: ellipsis; \">0</td><td style=\"white-space: nowrap; max-width: 500px; overflow: hidden; text-overflow: ellipsis; \">0</td><td style=\"white-space: nowrap; max-width: 500px; overflow: hidden; text-overflow: ellipsis; \">77</td><td style=\"white-space: nowrap; max-width: 500px; overflow: hidden; text-overflow: ellipsis; \">1285</td><td style=\"white-space: nowrap; max-width: 500px; overflow: hidden; text-overflow: ellipsis; \">5.00e-01</td><td style=\"white-space: nowrap; max-width: 500px; overflow: hidden; text-overflow: ellipsis; \">0.00e+00</td><td style=\"white-space: nowrap; max-width: 500px; overflow: hidden; text-overflow: ellipsis; \">1.00e+00</td><td style=\"white-space: nowrap; max-width: 500px; overflow: hidden; text-overflow: ellipsis; \">6.08e-01</td></tr>\n",
       "<tr><td style=\"white-space: nowrap; max-width: 500px; overflow: hidden; text-overflow: ellipsis; \">chr1:69428</td><td style=\"white-space: nowrap; max-width: 500px; overflow: hidden; text-overflow: ellipsis; \">[&quot;T&quot;,&quot;G&quot;]</td><td style=\"white-space: nowrap; max-width: 500px; overflow: hidden; text-overflow: ellipsis; \">&quot;rs140739101&quot;</td><td style=\"white-space: nowrap; max-width: 500px; overflow: hidden; text-overflow: ellipsis; \">1.88e+05</td><td style=\"white-space: nowrap; max-width: 500px; overflow: hidden; text-overflow: ellipsis; \">NA</td><td style=\"white-space: nowrap; max-width: 500px; overflow: hidden; text-overflow: ellipsis; \">[733]</td><td style=\"white-space: nowrap; max-width: 500px; overflow: hidden; text-overflow: ellipsis; \">[2.40e-02]</td><td style=\"white-space: nowrap; max-width: 500px; overflow: hidden; text-overflow: ellipsis; \">29946</td><td style=\"white-space: nowrap; max-width: 500px; overflow: hidden; text-overflow: ellipsis; \">[-6.00e-01]</td><td style=\"white-space: nowrap; max-width: 500px; overflow: hidden; text-overflow: ellipsis; \">[1.23e+01]</td><td style=\"white-space: nowrap; max-width: 500px; overflow: hidden; text-overflow: ellipsis; \">[5.93e-01]</td><td style=\"white-space: nowrap; max-width: 500px; overflow: hidden; text-overflow: ellipsis; \">[3.03e+01]</td><td style=\"white-space: nowrap; max-width: 500px; overflow: hidden; text-overflow: ellipsis; \">[-1.50e+00]</td><td style=\"white-space: nowrap; max-width: 500px; overflow: hidden; text-overflow: ellipsis; \">[1.44e+01]</td><td style=\"white-space: nowrap; max-width: 500px; overflow: hidden; text-overflow: ellipsis; \">NA</td><td style=\"white-space: nowrap; max-width: 500px; overflow: hidden; text-overflow: ellipsis; \">NA</td><td style=\"white-space: nowrap; max-width: 500px; overflow: hidden; text-overflow: ellipsis; \">NA</td><td style=\"white-space: nowrap; max-width: 500px; overflow: hidden; text-overflow: ellipsis; \">NA</td><td style=\"white-space: nowrap; max-width: 500px; overflow: hidden; text-overflow: ellipsis; \">[7.00e-01]</td><td style=\"white-space: nowrap; max-width: 500px; overflow: hidden; text-overflow: ellipsis; \">NA</td><td style=\"white-space: nowrap; max-width: 500px; overflow: hidden; text-overflow: ellipsis; \">[9.74e-01]</td><td style=\"white-space: nowrap; max-width: 500px; overflow: hidden; text-overflow: ellipsis; \">-5.81e-01</td><td style=\"white-space: nowrap; max-width: 500px; overflow: hidden; text-overflow: ellipsis; \">True</td><td style=\"white-space: nowrap; max-width: 500px; overflow: hidden; text-overflow: ellipsis; \">270789</td><td style=\"white-space: nowrap; max-width: 500px; overflow: hidden; text-overflow: ellipsis; \">NA</td><td style=\"white-space: nowrap; max-width: 500px; overflow: hidden; text-overflow: ellipsis; \">0.00e+00</td><td style=\"white-space: nowrap; max-width: 500px; overflow: hidden; text-overflow: ellipsis; \">1.23e+01</td><td style=\"white-space: nowrap; max-width: 500px; overflow: hidden; text-overflow: ellipsis; \">5.93e-01</td><td style=\"white-space: nowrap; max-width: 500px; overflow: hidden; text-overflow: ellipsis; \">[1110]</td><td style=\"white-space: nowrap; max-width: 500px; overflow: hidden; text-overflow: ellipsis; \">[3.70e-02]</td><td style=\"white-space: nowrap; max-width: 500px; overflow: hidden; text-overflow: ellipsis; \">3.21e+01</td><td style=\"white-space: nowrap; max-width: 500px; overflow: hidden; text-overflow: ellipsis; \">-1.43e+00</td><td style=\"white-space: nowrap; max-width: 500px; overflow: hidden; text-overflow: ellipsis; \">1.44e+01</td><td style=\"white-space: nowrap; max-width: 500px; overflow: hidden; text-overflow: ellipsis; \">NA</td><td style=\"white-space: nowrap; max-width: 500px; overflow: hidden; text-overflow: ellipsis; \">7.08e-01</td><td style=\"white-space: nowrap; max-width: 500px; overflow: hidden; text-overflow: ellipsis; \">9.73e-01</td><td style=\"white-space: nowrap; max-width: 500px; overflow: hidden; text-overflow: ellipsis; \">32</td><td style=\"white-space: nowrap; max-width: 500px; overflow: hidden; text-overflow: ellipsis; \">1</td><td style=\"white-space: nowrap; max-width: 500px; overflow: hidden; text-overflow: ellipsis; \">False</td><td style=\"white-space: nowrap; max-width: 500px; overflow: hidden; text-overflow: ellipsis; \">1.81e+01</td><td style=\"white-space: nowrap; max-width: 500px; overflow: hidden; text-overflow: ellipsis; \">1.52e+01</td><td style=\"white-space: nowrap; max-width: 500px; overflow: hidden; text-overflow: ellipsis; \">0.00e+00</td><td style=\"white-space: nowrap; max-width: 500px; overflow: hidden; text-overflow: ellipsis; \">8.20e+01</td><td style=\"white-space: nowrap; max-width: 500px; overflow: hidden; text-overflow: ellipsis; \">4.95e+01</td><td style=\"white-space: nowrap; max-width: 500px; overflow: hidden; text-overflow: ellipsis; \">4.04e+01</td><td style=\"white-space: nowrap; max-width: 500px; overflow: hidden; text-overflow: ellipsis; \">0.00e+00</td><td style=\"white-space: nowrap; max-width: 500px; overflow: hidden; text-overflow: ellipsis; \">9.90e+01</td><td style=\"white-space: nowrap; max-width: 500px; overflow: hidden; text-overflow: ellipsis; \">[4876,136]</td><td style=\"white-space: nowrap; max-width: 500px; overflow: hidden; text-overflow: ellipsis; \">[9.73e-01,2.71e-02]</td><td style=\"white-space: nowrap; max-width: 500px; overflow: hidden; text-overflow: ellipsis; \">5012</td><td style=\"white-space: nowrap; max-width: 500px; overflow: hidden; text-overflow: ellipsis; \">[2422,52]</td><td style=\"white-space: nowrap; max-width: 500px; overflow: hidden; text-overflow: ellipsis; \">1.00e+00</td><td style=\"white-space: nowrap; max-width: 500px; overflow: hidden; text-overflow: ellipsis; \">2506</td><td style=\"white-space: nowrap; max-width: 500px; overflow: hidden; text-overflow: ellipsis; \">0</td><td style=\"white-space: nowrap; max-width: 500px; overflow: hidden; text-overflow: ellipsis; \">0</td><td style=\"white-space: nowrap; max-width: 500px; overflow: hidden; text-overflow: ellipsis; \">32</td><td style=\"white-space: nowrap; max-width: 500px; overflow: hidden; text-overflow: ellipsis; \">84</td><td style=\"white-space: nowrap; max-width: 500px; overflow: hidden; text-overflow: ellipsis; \">5.28e-02</td><td style=\"white-space: nowrap; max-width: 500px; overflow: hidden; text-overflow: ellipsis; \">1.19e-79</td><td style=\"white-space: nowrap; max-width: 500px; overflow: hidden; text-overflow: ellipsis; \">1.00e+00</td><td style=\"white-space: nowrap; max-width: 500px; overflow: hidden; text-overflow: ellipsis; \">5.87e-03</td></tr>\n",
       "<tr><td style=\"white-space: nowrap; max-width: 500px; overflow: hidden; text-overflow: ellipsis; \">chr1:69438</td><td style=\"white-space: nowrap; max-width: 500px; overflow: hidden; text-overflow: ellipsis; \">[&quot;T&quot;,&quot;C&quot;]</td><td style=\"white-space: nowrap; max-width: 500px; overflow: hidden; text-overflow: ellipsis; \">&quot;rs758790416&quot;</td><td style=\"white-space: nowrap; max-width: 500px; overflow: hidden; text-overflow: ellipsis; \">2.56e+03</td><td style=\"white-space: nowrap; max-width: 500px; overflow: hidden; text-overflow: ellipsis; \">NA</td><td style=\"white-space: nowrap; max-width: 500px; overflow: hidden; text-overflow: ellipsis; \">[6]</td><td style=\"white-space: nowrap; max-width: 500px; overflow: hidden; text-overflow: ellipsis; \">[2.00e-04]</td><td style=\"white-space: nowrap; max-width: 500px; overflow: hidden; text-overflow: ellipsis; \">29946</td><td style=\"white-space: nowrap; max-width: 500px; overflow: hidden; text-overflow: ellipsis; \">[1.30e+00]</td><td style=\"white-space: nowrap; max-width: 500px; overflow: hidden; text-overflow: ellipsis; \">[0.00e+00]</td><td style=\"white-space: nowrap; max-width: 500px; overflow: hidden; text-overflow: ellipsis; \">[5.93e-01]</td><td style=\"white-space: nowrap; max-width: 500px; overflow: hidden; text-overflow: ellipsis; \">[3.25e+01]</td><td style=\"white-space: nowrap; max-width: 500px; overflow: hidden; text-overflow: ellipsis; \">[-8.00e-01]</td><td style=\"white-space: nowrap; max-width: 500px; overflow: hidden; text-overflow: ellipsis; \">[1.96e+01]</td><td style=\"white-space: nowrap; max-width: 500px; overflow: hidden; text-overflow: ellipsis; \">NA</td><td style=\"white-space: nowrap; max-width: 500px; overflow: hidden; text-overflow: ellipsis; \">NA</td><td style=\"white-space: nowrap; max-width: 500px; overflow: hidden; text-overflow: ellipsis; \">NA</td><td style=\"white-space: nowrap; max-width: 500px; overflow: hidden; text-overflow: ellipsis; \">NA</td><td style=\"white-space: nowrap; max-width: 500px; overflow: hidden; text-overflow: ellipsis; \">[-1.70e+00]</td><td style=\"white-space: nowrap; max-width: 500px; overflow: hidden; text-overflow: ellipsis; \">NA</td><td style=\"white-space: nowrap; max-width: 500px; overflow: hidden; text-overflow: ellipsis; \">[7.43e-01]</td><td style=\"white-space: nowrap; max-width: 500px; overflow: hidden; text-overflow: ellipsis; \">1.37e+00</td><td style=\"white-space: nowrap; max-width: 500px; overflow: hidden; text-overflow: ellipsis; \">True</td><td style=\"white-space: nowrap; max-width: 500px; overflow: hidden; text-overflow: ellipsis; \">275073</td><td style=\"white-space: nowrap; max-width: 500px; overflow: hidden; text-overflow: ellipsis; \">NA</td><td style=\"white-space: nowrap; max-width: 500px; overflow: hidden; text-overflow: ellipsis; \">0.00e+00</td><td style=\"white-space: nowrap; max-width: 500px; overflow: hidden; text-overflow: ellipsis; \">0.00e+00</td><td style=\"white-space: nowrap; max-width: 500px; overflow: hidden; text-overflow: ellipsis; \">5.93e-01</td><td style=\"white-space: nowrap; max-width: 500px; overflow: hidden; text-overflow: ellipsis; \">[9]</td><td style=\"white-space: nowrap; max-width: 500px; overflow: hidden; text-overflow: ellipsis; \">[3.01e-04]</td><td style=\"white-space: nowrap; max-width: 500px; overflow: hidden; text-overflow: ellipsis; \">3.24e+01</td><td style=\"white-space: nowrap; max-width: 500px; overflow: hidden; text-overflow: ellipsis; \">-7.36e-01</td><td style=\"white-space: nowrap; max-width: 500px; overflow: hidden; text-overflow: ellipsis; \">1.96e+01</td><td style=\"white-space: nowrap; max-width: 500px; overflow: hidden; text-overflow: ellipsis; \">NA</td><td style=\"white-space: nowrap; max-width: 500px; overflow: hidden; text-overflow: ellipsis; \">-1.66e+00</td><td style=\"white-space: nowrap; max-width: 500px; overflow: hidden; text-overflow: ellipsis; \">7.43e-01</td><td style=\"white-space: nowrap; max-width: 500px; overflow: hidden; text-overflow: ellipsis; \">33</td><td style=\"white-space: nowrap; max-width: 500px; overflow: hidden; text-overflow: ellipsis; \">1</td><td style=\"white-space: nowrap; max-width: 500px; overflow: hidden; text-overflow: ellipsis; \">False</td><td style=\"white-space: nowrap; max-width: 500px; overflow: hidden; text-overflow: ellipsis; \">1.82e+01</td><td style=\"white-space: nowrap; max-width: 500px; overflow: hidden; text-overflow: ellipsis; \">1.51e+01</td><td style=\"white-space: nowrap; max-width: 500px; overflow: hidden; text-overflow: ellipsis; \">0.00e+00</td><td style=\"white-space: nowrap; max-width: 500px; overflow: hidden; text-overflow: ellipsis; \">6.30e+01</td><td style=\"white-space: nowrap; max-width: 500px; overflow: hidden; text-overflow: ellipsis; \">5.03e+01</td><td style=\"white-space: nowrap; max-width: 500px; overflow: hidden; text-overflow: ellipsis; \">4.07e+01</td><td style=\"white-space: nowrap; max-width: 500px; overflow: hidden; text-overflow: ellipsis; \">0.00e+00</td><td style=\"white-space: nowrap; max-width: 500px; overflow: hidden; text-overflow: ellipsis; \">9.90e+01</td><td style=\"white-space: nowrap; max-width: 500px; overflow: hidden; text-overflow: ellipsis; \">[5010,2]</td><td style=\"white-space: nowrap; max-width: 500px; overflow: hidden; text-overflow: ellipsis; \">[1.00e+00,3.99e-04]</td><td style=\"white-space: nowrap; max-width: 500px; overflow: hidden; text-overflow: ellipsis; \">5012</td><td style=\"white-space: nowrap; max-width: 500px; overflow: hidden; text-overflow: ellipsis; \">[2505,1]</td><td style=\"white-space: nowrap; max-width: 500px; overflow: hidden; text-overflow: ellipsis; \">1.00e+00</td><td style=\"white-space: nowrap; max-width: 500px; overflow: hidden; text-overflow: ellipsis; \">2506</td><td style=\"white-space: nowrap; max-width: 500px; overflow: hidden; text-overflow: ellipsis; \">0</td><td style=\"white-space: nowrap; max-width: 500px; overflow: hidden; text-overflow: ellipsis; \">0</td><td style=\"white-space: nowrap; max-width: 500px; overflow: hidden; text-overflow: ellipsis; \">0</td><td style=\"white-space: nowrap; max-width: 500px; overflow: hidden; text-overflow: ellipsis; \">1</td><td style=\"white-space: nowrap; max-width: 500px; overflow: hidden; text-overflow: ellipsis; \">7.98e-04</td><td style=\"white-space: nowrap; max-width: 500px; overflow: hidden; text-overflow: ellipsis; \">9.98e-05</td><td style=\"white-space: nowrap; max-width: 500px; overflow: hidden; text-overflow: ellipsis; \">1.00e+00</td><td style=\"white-space: nowrap; max-width: 500px; overflow: hidden; text-overflow: ellipsis; \">2.14e-04</td></tr>\n",
       "<tr><td style=\"white-space: nowrap; max-width: 500px; overflow: hidden; text-overflow: ellipsis; \">chr1:69511</td><td style=\"white-space: nowrap; max-width: 500px; overflow: hidden; text-overflow: ellipsis; \">[&quot;A&quot;,&quot;G&quot;]</td><td style=\"white-space: nowrap; max-width: 500px; overflow: hidden; text-overflow: ellipsis; \">&quot;rs2691305&quot;</td><td style=\"white-space: nowrap; max-width: 500px; overflow: hidden; text-overflow: ellipsis; \">1.10e+07</td><td style=\"white-space: nowrap; max-width: 500px; overflow: hidden; text-overflow: ellipsis; \">NA</td><td style=\"white-space: nowrap; max-width: 500px; overflow: hidden; text-overflow: ellipsis; \">[18386]</td><td style=\"white-space: nowrap; max-width: 500px; overflow: hidden; text-overflow: ellipsis; \">[6.14e-01]</td><td style=\"white-space: nowrap; max-width: 500px; overflow: hidden; text-overflow: ellipsis; \">29946</td><td style=\"white-space: nowrap; max-width: 500px; overflow: hidden; text-overflow: ellipsis; \">[-4.00e-01]</td><td style=\"white-space: nowrap; max-width: 500px; overflow: hidden; text-overflow: ellipsis; \">[0.00e+00]</td><td style=\"white-space: nowrap; max-width: 500px; overflow: hidden; text-overflow: ellipsis; \">[5.64e-01]</td><td style=\"white-space: nowrap; max-width: 500px; overflow: hidden; text-overflow: ellipsis; \">[3.67e+01]</td><td style=\"white-space: nowrap; max-width: 500px; overflow: hidden; text-overflow: ellipsis; \">[-5.40e+00]</td><td style=\"white-space: nowrap; max-width: 500px; overflow: hidden; text-overflow: ellipsis; \">[3.19e+01]</td><td style=\"white-space: nowrap; max-width: 500px; overflow: hidden; text-overflow: ellipsis; \">NA</td><td style=\"white-space: nowrap; max-width: 500px; overflow: hidden; text-overflow: ellipsis; \">NA</td><td style=\"white-space: nowrap; max-width: 500px; overflow: hidden; text-overflow: ellipsis; \">NA</td><td style=\"white-space: nowrap; max-width: 500px; overflow: hidden; text-overflow: ellipsis; \">NA</td><td style=\"white-space: nowrap; max-width: 500px; overflow: hidden; text-overflow: ellipsis; \">[-3.00e-01]</td><td style=\"white-space: nowrap; max-width: 500px; overflow: hidden; text-overflow: ellipsis; \">NA</td><td style=\"white-space: nowrap; max-width: 500px; overflow: hidden; text-overflow: ellipsis; \">[9.19e-01]</td><td style=\"white-space: nowrap; max-width: 500px; overflow: hidden; text-overflow: ellipsis; \">-3.02e-01</td><td style=\"white-space: nowrap; max-width: 500px; overflow: hidden; text-overflow: ellipsis; \">True</td><td style=\"white-space: nowrap; max-width: 500px; overflow: hidden; text-overflow: ellipsis; \">375684</td><td style=\"white-space: nowrap; max-width: 500px; overflow: hidden; text-overflow: ellipsis; \">NA</td><td style=\"white-space: nowrap; max-width: 500px; overflow: hidden; text-overflow: ellipsis; \">0.00e+00</td><td style=\"white-space: nowrap; max-width: 500px; overflow: hidden; text-overflow: ellipsis; \">0.00e+00</td><td style=\"white-space: nowrap; max-width: 500px; overflow: hidden; text-overflow: ellipsis; \">5.64e-01</td><td style=\"white-space: nowrap; max-width: 500px; overflow: hidden; text-overflow: ellipsis; \">[29073]</td><td style=\"white-space: nowrap; max-width: 500px; overflow: hidden; text-overflow: ellipsis; \">[9.71e-01]</td><td style=\"white-space: nowrap; max-width: 500px; overflow: hidden; text-overflow: ellipsis; \">3.84e+01</td><td style=\"white-space: nowrap; max-width: 500px; overflow: hidden; text-overflow: ellipsis; \">-5.39e+00</td><td style=\"white-space: nowrap; max-width: 500px; overflow: hidden; text-overflow: ellipsis; \">3.19e+01</td><td style=\"white-space: nowrap; max-width: 500px; overflow: hidden; text-overflow: ellipsis; \">NA</td><td style=\"white-space: nowrap; max-width: 500px; overflow: hidden; text-overflow: ellipsis; \">-2.29e-01</td><td style=\"white-space: nowrap; max-width: 500px; overflow: hidden; text-overflow: ellipsis; \">9.18e-01</td><td style=\"white-space: nowrap; max-width: 500px; overflow: hidden; text-overflow: ellipsis; \">31</td><td style=\"white-space: nowrap; max-width: 500px; overflow: hidden; text-overflow: ellipsis; \">1</td><td style=\"white-space: nowrap; max-width: 500px; overflow: hidden; text-overflow: ellipsis; \">False</td><td style=\"white-space: nowrap; max-width: 500px; overflow: hidden; text-overflow: ellipsis; \">2.14e+01</td><td style=\"white-space: nowrap; max-width: 500px; overflow: hidden; text-overflow: ellipsis; \">2.16e+01</td><td style=\"white-space: nowrap; max-width: 500px; overflow: hidden; text-overflow: ellipsis; \">0.00e+00</td><td style=\"white-space: nowrap; max-width: 500px; overflow: hidden; text-overflow: ellipsis; \">1.42e+02</td><td style=\"white-space: nowrap; max-width: 500px; overflow: hidden; text-overflow: ellipsis; \">5.04e+01</td><td style=\"white-space: nowrap; max-width: 500px; overflow: hidden; text-overflow: ellipsis; \">4.26e+01</td><td style=\"white-space: nowrap; max-width: 500px; overflow: hidden; text-overflow: ellipsis; \">0.00e+00</td><td style=\"white-space: nowrap; max-width: 500px; overflow: hidden; text-overflow: ellipsis; \">9.90e+01</td><td style=\"white-space: nowrap; max-width: 500px; overflow: hidden; text-overflow: ellipsis; \">[1972,3040]</td><td style=\"white-space: nowrap; max-width: 500px; overflow: hidden; text-overflow: ellipsis; \">[3.93e-01,6.07e-01]</td><td style=\"white-space: nowrap; max-width: 500px; overflow: hidden; text-overflow: ellipsis; \">5012</td><td style=\"white-space: nowrap; max-width: 500px; overflow: hidden; text-overflow: ellipsis; \">[965,1499]</td><td style=\"white-space: nowrap; max-width: 500px; overflow: hidden; text-overflow: ellipsis; \">1.00e+00</td><td style=\"white-space: nowrap; max-width: 500px; overflow: hidden; text-overflow: ellipsis; \">2506</td><td style=\"white-space: nowrap; max-width: 500px; overflow: hidden; text-overflow: ellipsis; \">0</td><td style=\"white-space: nowrap; max-width: 500px; overflow: hidden; text-overflow: ellipsis; \">0</td><td style=\"white-space: nowrap; max-width: 500px; overflow: hidden; text-overflow: ellipsis; \">42</td><td style=\"white-space: nowrap; max-width: 500px; overflow: hidden; text-overflow: ellipsis; \">1541</td><td style=\"white-space: nowrap; max-width: 500px; overflow: hidden; text-overflow: ellipsis; \">4.77e-01</td><td style=\"white-space: nowrap; max-width: 500px; overflow: hidden; text-overflow: ellipsis; \">0.00e+00</td><td style=\"white-space: nowrap; max-width: 500px; overflow: hidden; text-overflow: ellipsis; \">1.00e+00</td><td style=\"white-space: nowrap; max-width: 500px; overflow: hidden; text-overflow: ellipsis; \">8.37e-01</td></tr>\n",
       "<tr><td style=\"white-space: nowrap; max-width: 500px; overflow: hidden; text-overflow: ellipsis; \">chr1:69761</td><td style=\"white-space: nowrap; max-width: 500px; overflow: hidden; text-overflow: ellipsis; \">[&quot;A&quot;,&quot;T&quot;]</td><td style=\"white-space: nowrap; max-width: 500px; overflow: hidden; text-overflow: ellipsis; \">&quot;rs200505207&quot;</td><td style=\"white-space: nowrap; max-width: 500px; overflow: hidden; text-overflow: ellipsis; \">3.34e+05</td><td style=\"white-space: nowrap; max-width: 500px; overflow: hidden; text-overflow: ellipsis; \">NA</td><td style=\"white-space: nowrap; max-width: 500px; overflow: hidden; text-overflow: ellipsis; \">[2072]</td><td style=\"white-space: nowrap; max-width: 500px; overflow: hidden; text-overflow: ellipsis; \">[6.90e-02]</td><td style=\"white-space: nowrap; max-width: 500px; overflow: hidden; text-overflow: ellipsis; \">29946</td><td style=\"white-space: nowrap; max-width: 500px; overflow: hidden; text-overflow: ellipsis; \">[0.00e+00]</td><td style=\"white-space: nowrap; max-width: 500px; overflow: hidden; text-overflow: ellipsis; \">[3.99e+01]</td><td style=\"white-space: nowrap; max-width: 500px; overflow: hidden; text-overflow: ellipsis; \">[4.30e-01]</td><td style=\"white-space: nowrap; max-width: 500px; overflow: hidden; text-overflow: ellipsis; \">[3.11e+01]</td><td style=\"white-space: nowrap; max-width: 500px; overflow: hidden; text-overflow: ellipsis; \">[5.00e-01]</td><td style=\"white-space: nowrap; max-width: 500px; overflow: hidden; text-overflow: ellipsis; \">[1.80e+01]</td><td style=\"white-space: nowrap; max-width: 500px; overflow: hidden; text-overflow: ellipsis; \">NA</td><td style=\"white-space: nowrap; max-width: 500px; overflow: hidden; text-overflow: ellipsis; \">NA</td><td style=\"white-space: nowrap; max-width: 500px; overflow: hidden; text-overflow: ellipsis; \">NA</td><td style=\"white-space: nowrap; max-width: 500px; overflow: hidden; text-overflow: ellipsis; \">NA</td><td style=\"white-space: nowrap; max-width: 500px; overflow: hidden; text-overflow: ellipsis; \">[-1.00e-01]</td><td style=\"white-space: nowrap; max-width: 500px; overflow: hidden; text-overflow: ellipsis; \">NA</td><td style=\"white-space: nowrap; max-width: 500px; overflow: hidden; text-overflow: ellipsis; \">[2.73e+00]</td><td style=\"white-space: nowrap; max-width: 500px; overflow: hidden; text-overflow: ellipsis; \">0.00e+00</td><td style=\"white-space: nowrap; max-width: 500px; overflow: hidden; text-overflow: ellipsis; \">True</td><td style=\"white-space: nowrap; max-width: 500px; overflow: hidden; text-overflow: ellipsis; \">81184</td><td style=\"white-space: nowrap; max-width: 500px; overflow: hidden; text-overflow: ellipsis; \">NA</td><td style=\"white-space: nowrap; max-width: 500px; overflow: hidden; text-overflow: ellipsis; \">0.00e+00</td><td style=\"white-space: nowrap; max-width: 500px; overflow: hidden; text-overflow: ellipsis; \">3.99e+01</td><td style=\"white-space: nowrap; max-width: 500px; overflow: hidden; text-overflow: ellipsis; \">4.30e-01</td><td style=\"white-space: nowrap; max-width: 500px; overflow: hidden; text-overflow: ellipsis; \">[4566]</td><td style=\"white-space: nowrap; max-width: 500px; overflow: hidden; text-overflow: ellipsis; \">[1.52e-01]</td><td style=\"white-space: nowrap; max-width: 500px; overflow: hidden; text-overflow: ellipsis; \">3.04e+01</td><td style=\"white-space: nowrap; max-width: 500px; overflow: hidden; text-overflow: ellipsis; \">5.66e-01</td><td style=\"white-space: nowrap; max-width: 500px; overflow: hidden; text-overflow: ellipsis; \">1.80e+01</td><td style=\"white-space: nowrap; max-width: 500px; overflow: hidden; text-overflow: ellipsis; \">NA</td><td style=\"white-space: nowrap; max-width: 500px; overflow: hidden; text-overflow: ellipsis; \">-3.50e-02</td><td style=\"white-space: nowrap; max-width: 500px; overflow: hidden; text-overflow: ellipsis; \">2.79e+00</td><td style=\"white-space: nowrap; max-width: 500px; overflow: hidden; text-overflow: ellipsis; \">37</td><td style=\"white-space: nowrap; max-width: 500px; overflow: hidden; text-overflow: ellipsis; \">1</td><td style=\"white-space: nowrap; max-width: 500px; overflow: hidden; text-overflow: ellipsis; \">False</td><td style=\"white-space: nowrap; max-width: 500px; overflow: hidden; text-overflow: ellipsis; \">1.60e+00</td><td style=\"white-space: nowrap; max-width: 500px; overflow: hidden; text-overflow: ellipsis; \">2.65e+00</td><td style=\"white-space: nowrap; max-width: 500px; overflow: hidden; text-overflow: ellipsis; \">0.00e+00</td><td style=\"white-space: nowrap; max-width: 500px; overflow: hidden; text-overflow: ellipsis; \">1.50e+01</td><td style=\"white-space: nowrap; max-width: 500px; overflow: hidden; text-overflow: ellipsis; \">5.66e+00</td><td style=\"white-space: nowrap; max-width: 500px; overflow: hidden; text-overflow: ellipsis; \">1.31e+01</td><td style=\"white-space: nowrap; max-width: 500px; overflow: hidden; text-overflow: ellipsis; \">0.00e+00</td><td style=\"white-space: nowrap; max-width: 500px; overflow: hidden; text-overflow: ellipsis; \">9.90e+01</td><td style=\"white-space: nowrap; max-width: 500px; overflow: hidden; text-overflow: ellipsis; \">[4657,355]</td><td style=\"white-space: nowrap; max-width: 500px; overflow: hidden; text-overflow: ellipsis; \">[9.29e-01,7.08e-02]</td><td style=\"white-space: nowrap; max-width: 500px; overflow: hidden; text-overflow: ellipsis; \">5012</td><td style=\"white-space: nowrap; max-width: 500px; overflow: hidden; text-overflow: ellipsis; \">[2280,129]</td><td style=\"white-space: nowrap; max-width: 500px; overflow: hidden; text-overflow: ellipsis; \">1.00e+00</td><td style=\"white-space: nowrap; max-width: 500px; overflow: hidden; text-overflow: ellipsis; \">2506</td><td style=\"white-space: nowrap; max-width: 500px; overflow: hidden; text-overflow: ellipsis; \">0</td><td style=\"white-space: nowrap; max-width: 500px; overflow: hidden; text-overflow: ellipsis; \">0</td><td style=\"white-space: nowrap; max-width: 500px; overflow: hidden; text-overflow: ellipsis; \">97</td><td style=\"white-space: nowrap; max-width: 500px; overflow: hidden; text-overflow: ellipsis; \">226</td><td style=\"white-space: nowrap; max-width: 500px; overflow: hidden; text-overflow: ellipsis; \">1.32e-01</td><td style=\"white-space: nowrap; max-width: 500px; overflow: hidden; text-overflow: ellipsis; \">5.70e-133</td><td style=\"white-space: nowrap; max-width: 500px; overflow: hidden; text-overflow: ellipsis; \">1.00e+00</td><td style=\"white-space: nowrap; max-width: 500px; overflow: hidden; text-overflow: ellipsis; \">6.13e-02</td></tr>\n",
       "<tr><td style=\"white-space: nowrap; max-width: 500px; overflow: hidden; text-overflow: ellipsis; \">chr1:69869</td><td style=\"white-space: nowrap; max-width: 500px; overflow: hidden; text-overflow: ellipsis; \">[&quot;T&quot;,&quot;A&quot;]</td><td style=\"white-space: nowrap; max-width: 500px; overflow: hidden; text-overflow: ellipsis; \">&quot;rs548049170&quot;</td><td style=\"white-space: nowrap; max-width: 500px; overflow: hidden; text-overflow: ellipsis; \">2.01e+03</td><td style=\"white-space: nowrap; max-width: 500px; overflow: hidden; text-overflow: ellipsis; \">NA</td><td style=\"white-space: nowrap; max-width: 500px; overflow: hidden; text-overflow: ellipsis; \">[9]</td><td style=\"white-space: nowrap; max-width: 500px; overflow: hidden; text-overflow: ellipsis; \">[3.01e-04]</td><td style=\"white-space: nowrap; max-width: 500px; overflow: hidden; text-overflow: ellipsis; \">29946</td><td style=\"white-space: nowrap; max-width: 500px; overflow: hidden; text-overflow: ellipsis; \">[0.00e+00]</td><td style=\"white-space: nowrap; max-width: 500px; overflow: hidden; text-overflow: ellipsis; \">[9.73e+00]</td><td style=\"white-space: nowrap; max-width: 500px; overflow: hidden; text-overflow: ellipsis; \">[4.11e-01]</td><td style=\"white-space: nowrap; max-width: 500px; overflow: hidden; text-overflow: ellipsis; \">[3.02e+01]</td><td style=\"white-space: nowrap; max-width: 500px; overflow: hidden; text-overflow: ellipsis; \">[1.10e+00]</td><td style=\"white-space: nowrap; max-width: 500px; overflow: hidden; text-overflow: ellipsis; \">[1.26e+01]</td><td style=\"white-space: nowrap; max-width: 500px; overflow: hidden; text-overflow: ellipsis; \">NA</td><td style=\"white-space: nowrap; max-width: 500px; overflow: hidden; text-overflow: ellipsis; \">NA</td><td style=\"white-space: nowrap; max-width: 500px; overflow: hidden; text-overflow: ellipsis; \">NA</td><td style=\"white-space: nowrap; max-width: 500px; overflow: hidden; text-overflow: ellipsis; \">NA</td><td style=\"white-space: nowrap; max-width: 500px; overflow: hidden; text-overflow: ellipsis; \">[0.00e+00]</td><td style=\"white-space: nowrap; max-width: 500px; overflow: hidden; text-overflow: ellipsis; \">NA</td><td style=\"white-space: nowrap; max-width: 500px; overflow: hidden; text-overflow: ellipsis; \">[1.35e+00]</td><td style=\"white-space: nowrap; max-width: 500px; overflow: hidden; text-overflow: ellipsis; \">0.00e+00</td><td style=\"white-space: nowrap; max-width: 500px; overflow: hidden; text-overflow: ellipsis; \">True</td><td style=\"white-space: nowrap; max-width: 500px; overflow: hidden; text-overflow: ellipsis; \">44176</td><td style=\"white-space: nowrap; max-width: 500px; overflow: hidden; text-overflow: ellipsis; \">NA</td><td style=\"white-space: nowrap; max-width: 500px; overflow: hidden; text-overflow: ellipsis; \">0.00e+00</td><td style=\"white-space: nowrap; max-width: 500px; overflow: hidden; text-overflow: ellipsis; \">9.73e+00</td><td style=\"white-space: nowrap; max-width: 500px; overflow: hidden; text-overflow: ellipsis; \">4.11e-01</td><td style=\"white-space: nowrap; max-width: 500px; overflow: hidden; text-overflow: ellipsis; \">[43]</td><td style=\"white-space: nowrap; max-width: 500px; overflow: hidden; text-overflow: ellipsis; \">[1.44e-03]</td><td style=\"white-space: nowrap; max-width: 500px; overflow: hidden; text-overflow: ellipsis; \">2.90e+01</td><td style=\"white-space: nowrap; max-width: 500px; overflow: hidden; text-overflow: ellipsis; \">1.17e+00</td><td style=\"white-space: nowrap; max-width: 500px; overflow: hidden; text-overflow: ellipsis; \">1.26e+01</td><td style=\"white-space: nowrap; max-width: 500px; overflow: hidden; text-overflow: ellipsis; \">NA</td><td style=\"white-space: nowrap; max-width: 500px; overflow: hidden; text-overflow: ellipsis; \">0.00e+00</td><td style=\"white-space: nowrap; max-width: 500px; overflow: hidden; text-overflow: ellipsis; \">1.43e+00</td><td style=\"white-space: nowrap; max-width: 500px; overflow: hidden; text-overflow: ellipsis; \">37</td><td style=\"white-space: nowrap; max-width: 500px; overflow: hidden; text-overflow: ellipsis; \">1</td><td style=\"white-space: nowrap; max-width: 500px; overflow: hidden; text-overflow: ellipsis; \">False</td><td style=\"white-space: nowrap; max-width: 500px; overflow: hidden; text-overflow: ellipsis; \">1.33e-01</td><td style=\"white-space: nowrap; max-width: 500px; overflow: hidden; text-overflow: ellipsis; \">4.37e-01</td><td style=\"white-space: nowrap; max-width: 500px; overflow: hidden; text-overflow: ellipsis; \">0.00e+00</td><td style=\"white-space: nowrap; max-width: 500px; overflow: hidden; text-overflow: ellipsis; \">5.00e+00</td><td style=\"white-space: nowrap; max-width: 500px; overflow: hidden; text-overflow: ellipsis; \">1.44e-01</td><td style=\"white-space: nowrap; max-width: 500px; overflow: hidden; text-overflow: ellipsis; \">8.27e-01</td><td style=\"white-space: nowrap; max-width: 500px; overflow: hidden; text-overflow: ellipsis; \">0.00e+00</td><td style=\"white-space: nowrap; max-width: 500px; overflow: hidden; text-overflow: ellipsis; \">1.20e+01</td><td style=\"white-space: nowrap; max-width: 500px; overflow: hidden; text-overflow: ellipsis; \">[5010,2]</td><td style=\"white-space: nowrap; max-width: 500px; overflow: hidden; text-overflow: ellipsis; \">[1.00e+00,3.99e-04]</td><td style=\"white-space: nowrap; max-width: 500px; overflow: hidden; text-overflow: ellipsis; \">5012</td><td style=\"white-space: nowrap; max-width: 500px; overflow: hidden; text-overflow: ellipsis; \">[2505,1]</td><td style=\"white-space: nowrap; max-width: 500px; overflow: hidden; text-overflow: ellipsis; \">1.00e+00</td><td style=\"white-space: nowrap; max-width: 500px; overflow: hidden; text-overflow: ellipsis; \">2506</td><td style=\"white-space: nowrap; max-width: 500px; overflow: hidden; text-overflow: ellipsis; \">0</td><td style=\"white-space: nowrap; max-width: 500px; overflow: hidden; text-overflow: ellipsis; \">0</td><td style=\"white-space: nowrap; max-width: 500px; overflow: hidden; text-overflow: ellipsis; \">0</td><td style=\"white-space: nowrap; max-width: 500px; overflow: hidden; text-overflow: ellipsis; \">1</td><td style=\"white-space: nowrap; max-width: 500px; overflow: hidden; text-overflow: ellipsis; \">7.98e-04</td><td style=\"white-space: nowrap; max-width: 500px; overflow: hidden; text-overflow: ellipsis; \">9.98e-05</td><td style=\"white-space: nowrap; max-width: 500px; overflow: hidden; text-overflow: ellipsis; \">1.00e+00</td><td style=\"white-space: nowrap; max-width: 500px; overflow: hidden; text-overflow: ellipsis; \">5.72e-04</td></tr>\n",
       "<tr><td style=\"white-space: nowrap; max-width: 500px; overflow: hidden; text-overflow: ellipsis; \">chr1:69897</td><td style=\"white-space: nowrap; max-width: 500px; overflow: hidden; text-overflow: ellipsis; \">[&quot;T&quot;,&quot;C&quot;]</td><td style=\"white-space: nowrap; max-width: 500px; overflow: hidden; text-overflow: ellipsis; \">&quot;rs200676709&quot;</td><td style=\"white-space: nowrap; max-width: 500px; overflow: hidden; text-overflow: ellipsis; \">1.21e+06</td><td style=\"white-space: nowrap; max-width: 500px; overflow: hidden; text-overflow: ellipsis; \">NA</td><td style=\"white-space: nowrap; max-width: 500px; overflow: hidden; text-overflow: ellipsis; \">[5701]</td><td style=\"white-space: nowrap; max-width: 500px; overflow: hidden; text-overflow: ellipsis; \">[1.90e-01]</td><td style=\"white-space: nowrap; max-width: 500px; overflow: hidden; text-overflow: ellipsis; \">29946</td><td style=\"white-space: nowrap; max-width: 500px; overflow: hidden; text-overflow: ellipsis; \">[0.00e+00]</td><td style=\"white-space: nowrap; max-width: 500px; overflow: hidden; text-overflow: ellipsis; \">[4.64e+01]</td><td style=\"white-space: nowrap; max-width: 500px; overflow: hidden; text-overflow: ellipsis; \">[3.51e-01]</td><td style=\"white-space: nowrap; max-width: 500px; overflow: hidden; text-overflow: ellipsis; \">[2.98e+01]</td><td style=\"white-space: nowrap; max-width: 500px; overflow: hidden; text-overflow: ellipsis; \">[7.00e-01]</td><td style=\"white-space: nowrap; max-width: 500px; overflow: hidden; text-overflow: ellipsis; \">[3.09e+01]</td><td style=\"white-space: nowrap; max-width: 500px; overflow: hidden; text-overflow: ellipsis; \">NA</td><td style=\"white-space: nowrap; max-width: 500px; overflow: hidden; text-overflow: ellipsis; \">NA</td><td style=\"white-space: nowrap; max-width: 500px; overflow: hidden; text-overflow: ellipsis; \">NA</td><td style=\"white-space: nowrap; max-width: 500px; overflow: hidden; text-overflow: ellipsis; \">NA</td><td style=\"white-space: nowrap; max-width: 500px; overflow: hidden; text-overflow: ellipsis; \">[1.50e-01]</td><td style=\"white-space: nowrap; max-width: 500px; overflow: hidden; text-overflow: ellipsis; \">NA</td><td style=\"white-space: nowrap; max-width: 500px; overflow: hidden; text-overflow: ellipsis; \">[8.40e-01]</td><td style=\"white-space: nowrap; max-width: 500px; overflow: hidden; text-overflow: ellipsis; \">0.00e+00</td><td style=\"white-space: nowrap; max-width: 500px; overflow: hidden; text-overflow: ellipsis; \">True</td><td style=\"white-space: nowrap; max-width: 500px; overflow: hidden; text-overflow: ellipsis; \">44326</td><td style=\"white-space: nowrap; max-width: 500px; overflow: hidden; text-overflow: ellipsis; \">NA</td><td style=\"white-space: nowrap; max-width: 500px; overflow: hidden; text-overflow: ellipsis; \">0.00e+00</td><td style=\"white-space: nowrap; max-width: 500px; overflow: hidden; text-overflow: ellipsis; \">4.64e+01</td><td style=\"white-space: nowrap; max-width: 500px; overflow: hidden; text-overflow: ellipsis; \">3.51e-01</td><td style=\"white-space: nowrap; max-width: 500px; overflow: hidden; text-overflow: ellipsis; \">[23133]</td><td style=\"white-space: nowrap; max-width: 500px; overflow: hidden; text-overflow: ellipsis; \">[7.72e-01]</td><td style=\"white-space: nowrap; max-width: 500px; overflow: hidden; text-overflow: ellipsis; \">2.95e+01</td><td style=\"white-space: nowrap; max-width: 500px; overflow: hidden; text-overflow: ellipsis; \">7.23e-01</td><td style=\"white-space: nowrap; max-width: 500px; overflow: hidden; text-overflow: ellipsis; \">3.09e+01</td><td style=\"white-space: nowrap; max-width: 500px; overflow: hidden; text-overflow: ellipsis; \">NA</td><td style=\"white-space: nowrap; max-width: 500px; overflow: hidden; text-overflow: ellipsis; \">2.15e-01</td><td style=\"white-space: nowrap; max-width: 500px; overflow: hidden; text-overflow: ellipsis; \">7.16e-01</td><td style=\"white-space: nowrap; max-width: 500px; overflow: hidden; text-overflow: ellipsis; \">33</td><td style=\"white-space: nowrap; max-width: 500px; overflow: hidden; text-overflow: ellipsis; \">1</td><td style=\"white-space: nowrap; max-width: 500px; overflow: hidden; text-overflow: ellipsis; \">False</td><td style=\"white-space: nowrap; max-width: 500px; overflow: hidden; text-overflow: ellipsis; \">3.91e-01</td><td style=\"white-space: nowrap; max-width: 500px; overflow: hidden; text-overflow: ellipsis; \">9.68e-01</td><td style=\"white-space: nowrap; max-width: 500px; overflow: hidden; text-overflow: ellipsis; \">0.00e+00</td><td style=\"white-space: nowrap; max-width: 500px; overflow: hidden; text-overflow: ellipsis; \">7.00e+00</td><td style=\"white-space: nowrap; max-width: 500px; overflow: hidden; text-overflow: ellipsis; \">1.33e+00</td><td style=\"white-space: nowrap; max-width: 500px; overflow: hidden; text-overflow: ellipsis; \">4.29e+00</td><td style=\"white-space: nowrap; max-width: 500px; overflow: hidden; text-overflow: ellipsis; \">0.00e+00</td><td style=\"white-space: nowrap; max-width: 500px; overflow: hidden; text-overflow: ellipsis; \">4.70e+01</td><td style=\"white-space: nowrap; max-width: 500px; overflow: hidden; text-overflow: ellipsis; \">[4370,642]</td><td style=\"white-space: nowrap; max-width: 500px; overflow: hidden; text-overflow: ellipsis; \">[8.72e-01,1.28e-01]</td><td style=\"white-space: nowrap; max-width: 500px; overflow: hidden; text-overflow: ellipsis; \">5012</td><td style=\"white-space: nowrap; max-width: 500px; overflow: hidden; text-overflow: ellipsis; \">[2165,301]</td><td style=\"white-space: nowrap; max-width: 500px; overflow: hidden; text-overflow: ellipsis; \">1.00e+00</td><td style=\"white-space: nowrap; max-width: 500px; overflow: hidden; text-overflow: ellipsis; \">2506</td><td style=\"white-space: nowrap; max-width: 500px; overflow: hidden; text-overflow: ellipsis; \">0</td><td style=\"white-space: nowrap; max-width: 500px; overflow: hidden; text-overflow: ellipsis; \">0</td><td style=\"white-space: nowrap; max-width: 500px; overflow: hidden; text-overflow: ellipsis; \">40</td><td style=\"white-space: nowrap; max-width: 500px; overflow: hidden; text-overflow: ellipsis; \">341</td><td style=\"white-space: nowrap; max-width: 500px; overflow: hidden; text-overflow: ellipsis; \">2.23e-01</td><td style=\"white-space: nowrap; max-width: 500px; overflow: hidden; text-overflow: ellipsis; \">0.00e+00</td><td style=\"white-space: nowrap; max-width: 500px; overflow: hidden; text-overflow: ellipsis; \">1.00e+00</td><td style=\"white-space: nowrap; max-width: 500px; overflow: hidden; text-overflow: ellipsis; \">4.74e-01</td></tr>\n",
       "<tr><td style=\"white-space: nowrap; max-width: 500px; overflow: hidden; text-overflow: ellipsis; \">chr1:69915</td><td style=\"white-space: nowrap; max-width: 500px; overflow: hidden; text-overflow: ellipsis; \">[&quot;G&quot;,&quot;T&quot;]</td><td style=\"white-space: nowrap; max-width: 500px; overflow: hidden; text-overflow: ellipsis; \">NA</td><td style=\"white-space: nowrap; max-width: 500px; overflow: hidden; text-overflow: ellipsis; \">5.07e+01</td><td style=\"white-space: nowrap; max-width: 500px; overflow: hidden; text-overflow: ellipsis; \">NA</td><td style=\"white-space: nowrap; max-width: 500px; overflow: hidden; text-overflow: ellipsis; \">[2]</td><td style=\"white-space: nowrap; max-width: 500px; overflow: hidden; text-overflow: ellipsis; \">[6.68e-05]</td><td style=\"white-space: nowrap; max-width: 500px; overflow: hidden; text-overflow: ellipsis; \">29946</td><td style=\"white-space: nowrap; max-width: 500px; overflow: hidden; text-overflow: ellipsis; \">NA</td><td style=\"white-space: nowrap; max-width: 500px; overflow: hidden; text-overflow: ellipsis; \">[0.00e+00]</td><td style=\"white-space: nowrap; max-width: 500px; overflow: hidden; text-overflow: ellipsis; \">[4.34e-01]</td><td style=\"white-space: nowrap; max-width: 500px; overflow: hidden; text-overflow: ellipsis; \">[2.50e+01]</td><td style=\"white-space: nowrap; max-width: 500px; overflow: hidden; text-overflow: ellipsis; \">NA</td><td style=\"white-space: nowrap; max-width: 500px; overflow: hidden; text-overflow: ellipsis; \">[2.55e+01]</td><td style=\"white-space: nowrap; max-width: 500px; overflow: hidden; text-overflow: ellipsis; \">NA</td><td style=\"white-space: nowrap; max-width: 500px; overflow: hidden; text-overflow: ellipsis; \">NA</td><td style=\"white-space: nowrap; max-width: 500px; overflow: hidden; text-overflow: ellipsis; \">NA</td><td style=\"white-space: nowrap; max-width: 500px; overflow: hidden; text-overflow: ellipsis; \">NA</td><td style=\"white-space: nowrap; max-width: 500px; overflow: hidden; text-overflow: ellipsis; \">NA</td><td style=\"white-space: nowrap; max-width: 500px; overflow: hidden; text-overflow: ellipsis; \">NA</td><td style=\"white-space: nowrap; max-width: 500px; overflow: hidden; text-overflow: ellipsis; \">[6.93e-01]</td><td style=\"white-space: nowrap; max-width: 500px; overflow: hidden; text-overflow: ellipsis; \">NA</td><td style=\"white-space: nowrap; max-width: 500px; overflow: hidden; text-overflow: ellipsis; \">False</td><td style=\"white-space: nowrap; max-width: 500px; overflow: hidden; text-overflow: ellipsis; \">40383</td><td style=\"white-space: nowrap; max-width: 500px; overflow: hidden; text-overflow: ellipsis; \">NA</td><td style=\"white-space: nowrap; max-width: 500px; overflow: hidden; text-overflow: ellipsis; \">0.00e+00</td><td style=\"white-space: nowrap; max-width: 500px; overflow: hidden; text-overflow: ellipsis; \">0.00e+00</td><td style=\"white-space: nowrap; max-width: 500px; overflow: hidden; text-overflow: ellipsis; \">4.34e-01</td><td style=\"white-space: nowrap; max-width: 500px; overflow: hidden; text-overflow: ellipsis; \">[5]</td><td style=\"white-space: nowrap; max-width: 500px; overflow: hidden; text-overflow: ellipsis; \">[1.67e-04]</td><td style=\"white-space: nowrap; max-width: 500px; overflow: hidden; text-overflow: ellipsis; \">2.50e+01</td><td style=\"white-space: nowrap; max-width: 500px; overflow: hidden; text-overflow: ellipsis; \">NA</td><td style=\"white-space: nowrap; max-width: 500px; overflow: hidden; text-overflow: ellipsis; \">2.54e+01</td><td style=\"white-space: nowrap; max-width: 500px; overflow: hidden; text-overflow: ellipsis; \">NA</td><td style=\"white-space: nowrap; max-width: 500px; overflow: hidden; text-overflow: ellipsis; \">NA</td><td style=\"white-space: nowrap; max-width: 500px; overflow: hidden; text-overflow: ellipsis; \">2.30e+00</td><td style=\"white-space: nowrap; max-width: 500px; overflow: hidden; text-overflow: ellipsis; \">37</td><td style=\"white-space: nowrap; max-width: 500px; overflow: hidden; text-overflow: ellipsis; \">1</td><td style=\"white-space: nowrap; max-width: 500px; overflow: hidden; text-overflow: ellipsis; \">False</td><td style=\"white-space: nowrap; max-width: 500px; overflow: hidden; text-overflow: ellipsis; \">4.46e-01</td><td style=\"white-space: nowrap; max-width: 500px; overflow: hidden; text-overflow: ellipsis; \">1.21e+00</td><td style=\"white-space: nowrap; max-width: 500px; overflow: hidden; text-overflow: ellipsis; \">0.00e+00</td><td style=\"white-space: nowrap; max-width: 500px; overflow: hidden; text-overflow: ellipsis; \">7.00e+00</td><td style=\"white-space: nowrap; max-width: 500px; overflow: hidden; text-overflow: ellipsis; \">1.15e+00</td><td style=\"white-space: nowrap; max-width: 500px; overflow: hidden; text-overflow: ellipsis; \">3.51e+00</td><td style=\"white-space: nowrap; max-width: 500px; overflow: hidden; text-overflow: ellipsis; \">0.00e+00</td><td style=\"white-space: nowrap; max-width: 500px; overflow: hidden; text-overflow: ellipsis; \">2.10e+01</td><td style=\"white-space: nowrap; max-width: 500px; overflow: hidden; text-overflow: ellipsis; \">[5010,2]</td><td style=\"white-space: nowrap; max-width: 500px; overflow: hidden; text-overflow: ellipsis; \">[1.00e+00,3.99e-04]</td><td style=\"white-space: nowrap; max-width: 500px; overflow: hidden; text-overflow: ellipsis; \">5012</td><td style=\"white-space: nowrap; max-width: 500px; overflow: hidden; text-overflow: ellipsis; \">[2505,1]</td><td style=\"white-space: nowrap; max-width: 500px; overflow: hidden; text-overflow: ellipsis; \">1.00e+00</td><td style=\"white-space: nowrap; max-width: 500px; overflow: hidden; text-overflow: ellipsis; \">2506</td><td style=\"white-space: nowrap; max-width: 500px; overflow: hidden; text-overflow: ellipsis; \">0</td><td style=\"white-space: nowrap; max-width: 500px; overflow: hidden; text-overflow: ellipsis; \">0</td><td style=\"white-space: nowrap; max-width: 500px; overflow: hidden; text-overflow: ellipsis; \">0</td><td style=\"white-space: nowrap; max-width: 500px; overflow: hidden; text-overflow: ellipsis; \">1</td><td style=\"white-space: nowrap; max-width: 500px; overflow: hidden; text-overflow: ellipsis; \">7.98e-04</td><td style=\"white-space: nowrap; max-width: 500px; overflow: hidden; text-overflow: ellipsis; \">9.98e-05</td><td style=\"white-space: nowrap; max-width: 500px; overflow: hidden; text-overflow: ellipsis; \">1.00e+00</td><td style=\"white-space: nowrap; max-width: 500px; overflow: hidden; text-overflow: ellipsis; \">NA</td></tr>\n",
       "</tbody></table><p style=\"background: #fdd; padding: 0.4em;\">showing top 10 rows</p>\n"
      ],
      "text/plain": [
       "+---------------+------------+---------------+----------+----------+\n",
       "| locus         | alleles    | rsid          |     qual | filters  |\n",
       "+---------------+------------+---------------+----------+----------+\n",
       "| locus<GRCh38> | array<str> | str           |  float64 | set<str> |\n",
       "+---------------+------------+---------------+----------+----------+\n",
       "| chr1:69063    | [\"T\",\"C\"]  | NA            | 2.63e+04 | NA       |\n",
       "| chr1:69224    | [\"A\",\"T\"]  | \"rs568964432\" | 7.70e+02 | NA       |\n",
       "| chr1:69270    | [\"A\",\"G\"]  | \"rs201219564\" | 2.11e+06 | NA       |\n",
       "| chr1:69428    | [\"T\",\"G\"]  | \"rs140739101\" | 1.88e+05 | NA       |\n",
       "| chr1:69438    | [\"T\",\"C\"]  | \"rs758790416\" | 2.56e+03 | NA       |\n",
       "| chr1:69511    | [\"A\",\"G\"]  | \"rs2691305\"   | 1.10e+07 | NA       |\n",
       "| chr1:69761    | [\"A\",\"T\"]  | \"rs200505207\" | 3.34e+05 | NA       |\n",
       "| chr1:69869    | [\"T\",\"A\"]  | \"rs548049170\" | 2.01e+03 | NA       |\n",
       "| chr1:69897    | [\"T\",\"C\"]  | \"rs200676709\" | 1.21e+06 | NA       |\n",
       "| chr1:69915    | [\"G\",\"T\"]  | NA            | 5.07e+01 | NA       |\n",
       "+---------------+------------+---------------+----------+----------+\n",
       "\n",
       "+--------------+----------------+---------+----------------------+\n",
       "| info.AC      | info.AF        | info.AN | info.AS_BaseQRankSum |\n",
       "+--------------+----------------+---------+----------------------+\n",
       "| array<int32> | array<float64> |   int32 | array<float64>       |\n",
       "+--------------+----------------+---------+----------------------+\n",
       "| [366]        | [1.20e-02]     |   29946 | [0.00e+00]           |\n",
       "| [7]          | [2.34e-04]     |   29946 | [0.00e+00]           |\n",
       "| [15144]      | [5.06e-01]     |   29946 | [0.00e+00]           |\n",
       "| [733]        | [2.40e-02]     |   29946 | [-6.00e-01]          |\n",
       "| [6]          | [2.00e-04]     |   29946 | [1.30e+00]           |\n",
       "| [18386]      | [6.14e-01]     |   29946 | [-4.00e-01]          |\n",
       "| [2072]       | [6.90e-02]     |   29946 | [0.00e+00]           |\n",
       "| [9]          | [3.01e-04]     |   29946 | [0.00e+00]           |\n",
       "| [5701]       | [1.90e-01]     |   29946 | [0.00e+00]           |\n",
       "| [2]          | [6.68e-05]     |   29946 | NA                   |\n",
       "+--------------+----------------+---------+----------------------+\n",
       "\n",
       "+----------------+-------------------------+----------------+\n",
       "| info.AS_FS     | info.AS_InbreedingCoeff | info.AS_MQ     |\n",
       "+----------------+-------------------------+----------------+\n",
       "| array<float64> | array<float64>          | array<float64> |\n",
       "+----------------+-------------------------+----------------+\n",
       "| [1.21e+02]     | [3.78e-01]              | [2.51e+01]     |\n",
       "| [1.13e+01]     | [4.36e-01]              | [2.92e+01]     |\n",
       "| [0.00e+00]     | [4.54e-01]              | [2.87e+01]     |\n",
       "| [1.23e+01]     | [5.93e-01]              | [3.03e+01]     |\n",
       "| [0.00e+00]     | [5.93e-01]              | [3.25e+01]     |\n",
       "| [0.00e+00]     | [5.64e-01]              | [3.67e+01]     |\n",
       "| [3.99e+01]     | [4.30e-01]              | [3.11e+01]     |\n",
       "| [9.73e+00]     | [4.11e-01]              | [3.02e+01]     |\n",
       "| [4.64e+01]     | [3.51e-01]              | [2.98e+01]     |\n",
       "| [0.00e+00]     | [4.34e-01]              | [2.50e+01]     |\n",
       "+----------------+-------------------------+----------------+\n",
       "\n",
       "+-------------------+----------------+--------------------------+\n",
       "| info.AS_MQRankSum | info.AS_QD     | info.AS_RAW_BaseQRankSum |\n",
       "+-------------------+----------------+--------------------------+\n",
       "| array<float64>    | array<float64> | str                      |\n",
       "+-------------------+----------------+--------------------------+\n",
       "| [-3.00e-01]       | [9.99e+00]     | NA                       |\n",
       "| [1.00e-01]        | [2.14e+01]     | NA                       |\n",
       "| [3.00e-01]        | [3.41e+01]     | NA                       |\n",
       "| [-1.50e+00]       | [1.44e+01]     | NA                       |\n",
       "| [-8.00e-01]       | [1.96e+01]     | NA                       |\n",
       "| [-5.40e+00]       | [3.19e+01]     | NA                       |\n",
       "| [5.00e-01]        | [1.80e+01]     | NA                       |\n",
       "| [1.10e+00]        | [1.26e+01]     | NA                       |\n",
       "| [7.00e-01]        | [3.09e+01]     | NA                       |\n",
       "| NA                | [2.55e+01]     | NA                       |\n",
       "+-------------------+----------------+--------------------------+\n",
       "\n",
       "+----------------+-----------------------+----------------------------+\n",
       "| info.AS_RAW_MQ | info.AS_RAW_MQRankSum | info.AS_RAW_ReadPosRankSum |\n",
       "+----------------+-----------------------+----------------------------+\n",
       "| str            | str                   | str                        |\n",
       "+----------------+-----------------------+----------------------------+\n",
       "| NA             | NA                    | NA                         |\n",
       "| NA             | NA                    | NA                         |\n",
       "| NA             | NA                    | NA                         |\n",
       "| NA             | NA                    | NA                         |\n",
       "| NA             | NA                    | NA                         |\n",
       "| NA             | NA                    | NA                         |\n",
       "| NA             | NA                    | NA                         |\n",
       "| NA             | NA                    | NA                         |\n",
       "| NA             | NA                    | NA                         |\n",
       "| NA             | NA                    | NA                         |\n",
       "+----------------+-----------------------+----------------------------+\n",
       "\n",
       "+------------------------+------------------+----------------+\n",
       "| info.AS_ReadPosRankSum | info.AS_SB_TABLE | info.AS_SOR    |\n",
       "+------------------------+------------------+----------------+\n",
       "| array<float64>         | str              | array<float64> |\n",
       "+------------------------+------------------+----------------+\n",
       "| [0.00e+00]             | NA               | [3.35e+00]     |\n",
       "| [0.00e+00]             | NA               | [4.27e+00]     |\n",
       "| [8.00e-01]             | NA               | [5.54e+00]     |\n",
       "| [7.00e-01]             | NA               | [9.74e-01]     |\n",
       "| [-1.70e+00]            | NA               | [7.43e-01]     |\n",
       "| [-3.00e-01]            | NA               | [9.19e-01]     |\n",
       "| [-1.00e-01]            | NA               | [2.73e+00]     |\n",
       "| [0.00e+00]             | NA               | [1.35e+00]     |\n",
       "| [1.50e-01]             | NA               | [8.40e-01]     |\n",
       "| NA                     | NA               | [6.93e-01]     |\n",
       "+------------------------+------------------+----------------+\n",
       "\n",
       "+-------------------+---------+---------+----------+----------------+----------+\n",
       "| info.BaseQRankSum | info.DB | info.DP | info.END | info.ExcessHet |  info.FS |\n",
       "+-------------------+---------+---------+----------+----------------+----------+\n",
       "|           float64 |    bool |   int32 |    int32 |        float64 |  float64 |\n",
       "+-------------------+---------+---------+----------+----------------+----------+\n",
       "|          0.00e+00 |   False |   21298 |       NA |       0.00e+00 | 1.21e+02 |\n",
       "|          0.00e+00 |    True |   37862 |       NA |       0.00e+00 | 1.13e+01 |\n",
       "|          0.00e+00 |    True |   67077 |       NA |       0.00e+00 | 0.00e+00 |\n",
       "|         -5.81e-01 |    True |  270789 |       NA |       0.00e+00 | 1.23e+01 |\n",
       "|          1.37e+00 |    True |  275073 |       NA |       0.00e+00 | 0.00e+00 |\n",
       "|         -3.02e-01 |    True |  375684 |       NA |       0.00e+00 | 0.00e+00 |\n",
       "|          0.00e+00 |    True |   81184 |       NA |       0.00e+00 | 3.99e+01 |\n",
       "|          0.00e+00 |    True |   44176 |       NA |       0.00e+00 | 9.73e+00 |\n",
       "|          0.00e+00 |    True |   44326 |       NA |       0.00e+00 | 4.64e+01 |\n",
       "|                NA |   False |   40383 |       NA |       0.00e+00 | 0.00e+00 |\n",
       "+-------------------+---------+---------+----------+----------------+----------+\n",
       "\n",
       "+----------------------+--------------+----------------+----------+\n",
       "| info.InbreedingCoeff | info.MLEAC   | info.MLEAF     |  info.MQ |\n",
       "+----------------------+--------------+----------------+----------+\n",
       "|              float64 | array<int32> | array<float64> |  float64 |\n",
       "+----------------------+--------------+----------------+----------+\n",
       "|             3.78e-01 | [2347]       | [7.80e-02]     | 2.68e+01 |\n",
       "|             4.36e-01 | [25]         | [8.35e-04]     | 2.87e+01 |\n",
       "|             4.54e-01 | [27936]      | [9.33e-01]     | 2.88e+01 |\n",
       "|             5.93e-01 | [1110]       | [3.70e-02]     | 3.21e+01 |\n",
       "|             5.93e-01 | [9]          | [3.01e-04]     | 3.24e+01 |\n",
       "|             5.64e-01 | [29073]      | [9.71e-01]     | 3.84e+01 |\n",
       "|             4.30e-01 | [4566]       | [1.52e-01]     | 3.04e+01 |\n",
       "|             4.11e-01 | [43]         | [1.44e-03]     | 2.90e+01 |\n",
       "|             3.51e-01 | [23133]      | [7.72e-01]     | 2.95e+01 |\n",
       "|             4.34e-01 | [5]          | [1.67e-04]     | 2.50e+01 |\n",
       "+----------------------+--------------+----------------+----------+\n",
       "\n",
       "+----------------+----------+------------------+---------------------+\n",
       "| info.MQRankSum |  info.QD | info.RAW_MQandDP | info.ReadPosRankSum |\n",
       "+----------------+----------+------------------+---------------------+\n",
       "|        float64 |  float64 | array<int32>     |             float64 |\n",
       "+----------------+----------+------------------+---------------------+\n",
       "|      -2.53e-01 | 9.99e+00 | NA               |            0.00e+00 |\n",
       "|       1.65e-01 | 2.14e+01 | NA               |            0.00e+00 |\n",
       "|       3.66e-01 | 3.41e+01 | NA               |            8.42e-01 |\n",
       "|      -1.43e+00 | 1.44e+01 | NA               |            7.08e-01 |\n",
       "|      -7.36e-01 | 1.96e+01 | NA               |           -1.66e+00 |\n",
       "|      -5.39e+00 | 3.19e+01 | NA               |           -2.29e-01 |\n",
       "|       5.66e-01 | 1.80e+01 | NA               |           -3.50e-02 |\n",
       "|       1.17e+00 | 1.26e+01 | NA               |            0.00e+00 |\n",
       "|       7.23e-01 | 3.09e+01 | NA               |            2.15e-01 |\n",
       "|             NA | 2.54e+01 | NA               |                  NA |\n",
       "+----------------+----------+------------------+---------------------+\n",
       "\n",
       "+----------+-------------+---------+-----------+--------------------------+\n",
       "| info.SOR | info.rf_bin | a_index | was_split | variant_qc.dp_stats.mean |\n",
       "+----------+-------------+---------+-----------+--------------------------+\n",
       "|  float64 |       int32 |   int32 |      bool |                  float64 |\n",
       "+----------+-------------+---------+-----------+--------------------------+\n",
       "| 3.43e+00 |          36 |       1 |     False |                 2.79e-03 |\n",
       "| 4.41e+00 |          37 |       1 |     False |                 5.23e-01 |\n",
       "| 5.63e+00 |          37 |       1 |     False |                 2.52e+00 |\n",
       "| 9.73e-01 |          32 |       1 |     False |                 1.81e+01 |\n",
       "| 7.43e-01 |          33 |       1 |     False |                 1.82e+01 |\n",
       "| 9.18e-01 |          31 |       1 |     False |                 2.14e+01 |\n",
       "| 2.79e+00 |          37 |       1 |     False |                 1.60e+00 |\n",
       "| 1.43e+00 |          37 |       1 |     False |                 1.33e-01 |\n",
       "| 7.16e-01 |          33 |       1 |     False |                 3.91e-01 |\n",
       "| 2.30e+00 |          37 |       1 |     False |                 4.46e-01 |\n",
       "+----------+-------------+---------+-----------+--------------------------+\n",
       "\n",
       "+---------------------------+-------------------------+\n",
       "| variant_qc.dp_stats.stdev | variant_qc.dp_stats.min |\n",
       "+---------------------------+-------------------------+\n",
       "|                   float64 |                 float64 |\n",
       "+---------------------------+-------------------------+\n",
       "|                  9.15e-02 |                0.00e+00 |\n",
       "|                  1.52e+00 |                0.00e+00 |\n",
       "|                  3.06e+00 |                0.00e+00 |\n",
       "|                  1.52e+01 |                0.00e+00 |\n",
       "|                  1.51e+01 |                0.00e+00 |\n",
       "|                  2.16e+01 |                0.00e+00 |\n",
       "|                  2.65e+00 |                0.00e+00 |\n",
       "|                  4.37e-01 |                0.00e+00 |\n",
       "|                  9.68e-01 |                0.00e+00 |\n",
       "|                  1.21e+00 |                0.00e+00 |\n",
       "+---------------------------+-------------------------+\n",
       "\n",
       "+-------------------------+--------------------------+\n",
       "| variant_qc.dp_stats.max | variant_qc.gq_stats.mean |\n",
       "+-------------------------+--------------------------+\n",
       "|                 float64 |                  float64 |\n",
       "+-------------------------+--------------------------+\n",
       "|                4.00e+00 |                 7.18e-03 |\n",
       "|                1.30e+01 |                 1.52e+00 |\n",
       "|                2.00e+01 |                 8.53e+00 |\n",
       "|                8.20e+01 |                 4.95e+01 |\n",
       "|                6.30e+01 |                 5.03e+01 |\n",
       "|                1.42e+02 |                 5.04e+01 |\n",
       "|                1.50e+01 |                 5.66e+00 |\n",
       "|                5.00e+00 |                 1.44e-01 |\n",
       "|                7.00e+00 |                 1.33e+00 |\n",
       "|                7.00e+00 |                 1.15e+00 |\n",
       "+-------------------------+--------------------------+\n",
       "\n",
       "+---------------------------+-------------------------+\n",
       "| variant_qc.gq_stats.stdev | variant_qc.gq_stats.min |\n",
       "+---------------------------+-------------------------+\n",
       "|                   float64 |                 float64 |\n",
       "+---------------------------+-------------------------+\n",
       "|                  2.68e-01 |                0.00e+00 |\n",
       "|                  4.51e+00 |                0.00e+00 |\n",
       "|                  1.31e+01 |                0.00e+00 |\n",
       "|                  4.04e+01 |                0.00e+00 |\n",
       "|                  4.07e+01 |                0.00e+00 |\n",
       "|                  4.26e+01 |                0.00e+00 |\n",
       "|                  1.31e+01 |                0.00e+00 |\n",
       "|                  8.27e-01 |                0.00e+00 |\n",
       "|                  4.29e+00 |                0.00e+00 |\n",
       "|                  3.51e+00 |                0.00e+00 |\n",
       "+---------------------------+-------------------------+\n",
       "\n",
       "+-------------------------+---------------+---------------------+\n",
       "| variant_qc.gq_stats.max | variant_qc.AC | variant_qc.AF       |\n",
       "+-------------------------+---------------+---------------------+\n",
       "|                 float64 | array<int32>  | array<float64>      |\n",
       "+-------------------------+---------------+---------------------+\n",
       "|                1.20e+01 | [5010,2]      | [1.00e+00,3.99e-04] |\n",
       "|                3.90e+01 | [5010,2]      | [1.00e+00,3.99e-04] |\n",
       "|                9.90e+01 | [2519,2493]   | [5.03e-01,4.97e-01] |\n",
       "|                9.90e+01 | [4876,136]    | [9.73e-01,2.71e-02] |\n",
       "|                9.90e+01 | [5010,2]      | [1.00e+00,3.99e-04] |\n",
       "|                9.90e+01 | [1972,3040]   | [3.93e-01,6.07e-01] |\n",
       "|                9.90e+01 | [4657,355]    | [9.29e-01,7.08e-02] |\n",
       "|                1.20e+01 | [5010,2]      | [1.00e+00,3.99e-04] |\n",
       "|                4.70e+01 | [4370,642]    | [8.72e-01,1.28e-01] |\n",
       "|                2.10e+01 | [5010,2]      | [1.00e+00,3.99e-04] |\n",
       "+-------------------------+---------------+---------------------+\n",
       "\n",
       "+---------------+-----------------------------+----------------------+\n",
       "| variant_qc.AN | variant_qc.homozygote_count | variant_qc.call_rate |\n",
       "+---------------+-----------------------------+----------------------+\n",
       "|         int32 | array<int32>                |              float64 |\n",
       "+---------------+-----------------------------+----------------------+\n",
       "|          5012 | [2505,1]                    |             1.00e+00 |\n",
       "|          5012 | [2505,1]                    |             1.00e+00 |\n",
       "|          5012 | [1221,1208]                 |             1.00e+00 |\n",
       "|          5012 | [2422,52]                   |             1.00e+00 |\n",
       "|          5012 | [2505,1]                    |             1.00e+00 |\n",
       "|          5012 | [965,1499]                  |             1.00e+00 |\n",
       "|          5012 | [2280,129]                  |             1.00e+00 |\n",
       "|          5012 | [2505,1]                    |             1.00e+00 |\n",
       "|          5012 | [2165,301]                  |             1.00e+00 |\n",
       "|          5012 | [2505,1]                    |             1.00e+00 |\n",
       "+---------------+-----------------------------+----------------------+\n",
       "\n",
       "+---------------------+-------------------------+-----------------------+\n",
       "| variant_qc.n_called | variant_qc.n_not_called | variant_qc.n_filtered |\n",
       "+---------------------+-------------------------+-----------------------+\n",
       "|               int64 |                   int64 |                 int64 |\n",
       "+---------------------+-------------------------+-----------------------+\n",
       "|                2506 |                       0 |                     0 |\n",
       "|                2506 |                       0 |                     0 |\n",
       "|                2506 |                       0 |                     0 |\n",
       "|                2506 |                       0 |                     0 |\n",
       "|                2506 |                       0 |                     0 |\n",
       "|                2506 |                       0 |                     0 |\n",
       "|                2506 |                       0 |                     0 |\n",
       "|                2506 |                       0 |                     0 |\n",
       "|                2506 |                       0 |                     0 |\n",
       "|                2506 |                       0 |                     0 |\n",
       "+---------------------+-------------------------+-----------------------+\n",
       "\n",
       "+------------------+----------------------+-------------------------+\n",
       "| variant_qc.n_het | variant_qc.n_non_ref | variant_qc.het_freq_hwe |\n",
       "+------------------+----------------------+-------------------------+\n",
       "|            int64 |                int64 |                 float64 |\n",
       "+------------------+----------------------+-------------------------+\n",
       "|                0 |                    1 |                7.98e-04 |\n",
       "|                0 |                    1 |                7.98e-04 |\n",
       "|               77 |                 1285 |                5.00e-01 |\n",
       "|               32 |                   84 |                5.28e-02 |\n",
       "|                0 |                    1 |                7.98e-04 |\n",
       "|               42 |                 1541 |                4.77e-01 |\n",
       "|               97 |                  226 |                1.32e-01 |\n",
       "|                0 |                    1 |                7.98e-04 |\n",
       "|               40 |                  341 |                2.23e-01 |\n",
       "|                0 |                    1 |                7.98e-04 |\n",
       "+------------------+----------------------+-------------------------+\n",
       "\n",
       "+------------------------+-------------------------------+-----------+\n",
       "| variant_qc.p_value_hwe | variant_qc.p_value_excess_het | gnomad_af |\n",
       "+------------------------+-------------------------------+-----------+\n",
       "|                float64 |                       float64 |   float64 |\n",
       "+------------------------+-------------------------------+-----------+\n",
       "|               9.98e-05 |                      1.00e+00 |  4.60e-02 |\n",
       "|               9.98e-05 |                      1.00e+00 |  2.22e-04 |\n",
       "|               0.00e+00 |                      1.00e+00 |  6.08e-01 |\n",
       "|               1.19e-79 |                      1.00e+00 |  5.87e-03 |\n",
       "|               9.98e-05 |                      1.00e+00 |  2.14e-04 |\n",
       "|               0.00e+00 |                      1.00e+00 |  8.37e-01 |\n",
       "|              5.70e-133 |                      1.00e+00 |  6.13e-02 |\n",
       "|               9.98e-05 |                      1.00e+00 |  5.72e-04 |\n",
       "|               0.00e+00 |                      1.00e+00 |  4.74e-01 |\n",
       "|               9.98e-05 |                      1.00e+00 |        NA |\n",
       "+------------------------+-------------------------------+-----------+\n",
       "showing top 10 rows"
      ]
     },
     "metadata": {},
     "output_type": "display_data"
    }
   ],
   "source": [
    "#annotated sanger RF-pass snps with gnomad af\n",
    "sanger_mt_snp_rf_pass_af = sanger_mt_snp_rf_pass.annotate_rows(gnomad_af=gnomad_ht[sanger_mt_snp_rf_pass.row_key].maf) \n",
    "sanger_mt_snp_rf_pass_af.rows().show()"
   ]
  },
  {
   "cell_type": "code",
   "execution_count": 178,
   "id": "fd9cedc4",
   "metadata": {},
   "outputs": [
    {
     "name": "stderr",
     "output_type": "stream",
     "text": [
      "[Stage 159:===================================================(6105 + 4) / 6105]\r"
     ]
    },
    {
     "data": {
      "text/plain": [
       "(97852, 2506)"
      ]
     },
     "execution_count": 178,
     "metadata": {},
     "output_type": "execute_result"
    },
    {
     "name": "stderr",
     "output_type": "stream",
     "text": [
      "[Stage 159:===================================================(6105 + 1) / 6105]\r"
     ]
    }
   ],
   "source": [
    "common_vars_in_sanger = sanger_mt_snp_rf_pass_af.filter_rows(sanger_mt_snp_rf_pass_af.gnomad_af >= 0.1)\n",
    "common_vars_in_sanger.count()"
   ]
  },
  {
   "cell_type": "code",
   "execution_count": 180,
   "id": "a8851d6a",
   "metadata": {},
   "outputs": [
    {
     "name": "stderr",
     "output_type": "stream",
     "text": [
      "                                                                                \r"
     ]
    }
   ],
   "source": [
    "common_var_counts = common_vars_in_sanger.aggregate_rows(hl.agg.counter(hl.Struct(ref=common_vars_in_sanger.alleles[0], alt=common_vars_in_sanger.alleles[1])))\n",
    "common_var_counts_dict = dict(common_var_counts)"
   ]
  },
  {
   "cell_type": "code",
   "execution_count": 181,
   "id": "5411d981",
   "metadata": {},
   "outputs": [
    {
     "name": "stdout",
     "output_type": "stream",
     "text": [
      "[3482, 16714, 2331, 4035, 4462, 17162, 19865, 4572, 3418, 2582, 15741, 3488]\n"
     ]
    }
   ],
   "source": [
    "allsubs = ['A>C', 'A>G', 'A>T', 'C>A', 'C>G', 'C>T', 'G>A', 'G>C', 'G>T', 'T>A', 'T>C', 'T>G']\n",
    "common = []\n",
    "for i in range(0, len(allsubs)):\n",
    "    common.append(common_var_counts_dict[list(common_var_counts_dict.keys())[i]])\n",
    "    \n",
    "print(common)"
   ]
  },
  {
   "cell_type": "code",
   "execution_count": 191,
   "id": "48b6fe36",
   "metadata": {},
   "outputs": [
    {
     "data": {
      "image/png": "[encoded data removed]",
      "text/plain": [
       "<Figure size 432x288 with 1 Axes>"
      ]
     },
     "metadata": {
      "needs_background": "light"
     },
     "output_type": "display_data"
    }
   ],
   "source": [
    "fig = plt.figure()\n",
    "ax = fig.add_axes([0,0,1,1])\n",
    "ax.bar(allsubs,common)\n",
    "plt.title(\"gnomAD common variants (AF >= 0.1) mutation spectrum: sanger\")\n",
    "plt.show()"
   ]
  },
  {
   "cell_type": "code",
   "execution_count": 186,
   "id": "54e12e94",
   "metadata": {},
   "outputs": [],
   "source": [
    "#repeat the common var mutation spectrum for broad - need to remake broad mt as something is corrupt\n",
    "broad_mtfile = lustre_dir + 'matrixtables/gatk_calls_from_broad_samples_in_sanger.mt'\n",
    "broad_mt = hl.read_matrix_table(broad_mtfile)\n",
    "broad_mt_snp = broad_mt.filter_rows(hl.is_snp(broad_mt.alleles[0], broad_mt.alleles[1]))\n",
    "broad_mt_snp_noM = broad_mt_snp.filter_rows(broad_mt_snp.locus.contig == 'chrM', keep = False)\n",
    "\n",
    "broad_af = broad_mt_snp_noM.annotate_rows(gnomad_af=gnomad_ht[broad_mt_snp_noM.row_key].maf) "
   ]
  },
  {
   "cell_type": "code",
   "execution_count": 187,
   "id": "c8619d82",
   "metadata": {},
   "outputs": [
    {
     "name": "stderr",
     "output_type": "stream",
     "text": [
      "[Stage 167:=====================================================(191 + 3) / 191]\r"
     ]
    },
    {
     "data": {
      "text/plain": [
       "(265430, 2506)"
      ]
     },
     "execution_count": 187,
     "metadata": {},
     "output_type": "execute_result"
    },
    {
     "name": "stderr",
     "output_type": "stream",
     "text": [
      "[Stage 167:=====================================================(191 + 1) / 191]\r"
     ]
    }
   ],
   "source": [
    "common_vars_in_broad = broad_af.filter_rows(broad_af.gnomad_af >= 0.1)\n",
    "common_vars_in_broad.count()"
   ]
  },
  {
   "cell_type": "code",
   "execution_count": 188,
   "id": "e949df3f",
   "metadata": {},
   "outputs": [
    {
     "name": "stderr",
     "output_type": "stream",
     "text": [
      "[Stage 168:=====================================================(191 + 1) / 191]\r"
     ]
    }
   ],
   "source": [
    "common_var_counts_broad = common_vars_in_broad.aggregate_rows(hl.agg.counter(hl.Struct(ref=common_vars_in_broad.alleles[0], alt=common_vars_in_broad.alleles[1])))\n",
    "common_var_counts_broad_dict = dict(common_var_counts_broad)"
   ]
  },
  {
   "cell_type": "code",
   "execution_count": 189,
   "id": "191991de",
   "metadata": {},
   "outputs": [
    {
     "name": "stdout",
     "output_type": "stream",
     "text": [
      "[10592, 42754, 7413, 10694, 13523, 47671, 48140, 13641, 10757, 7382, 42818, 10045]\n"
     ]
    }
   ],
   "source": [
    "allsubs = ['A>C', 'A>G', 'A>T', 'C>A', 'C>G', 'C>T', 'G>A', 'G>C', 'G>T', 'T>A', 'T>C', 'T>G']\n",
    "common_broad = []\n",
    "for i in range(0, len(allsubs)):\n",
    "    common_broad.append(common_var_counts_broad_dict[list(common_var_counts_broad_dict.keys())[i]])\n",
    "    \n",
    "print(common_broad)"
   ]
  },
  {
   "cell_type": "code",
   "execution_count": 190,
   "id": "d05ab93a",
   "metadata": {},
   "outputs": [
    {
     "data": {
      "image/png": "[encoded data removed]",
      "text/plain": [
       "<Figure size 432x288 with 1 Axes>"
      ]
     },
     "metadata": {
      "needs_background": "light"
     },
     "output_type": "display_data"
    }
   ],
   "source": [
    "fig = plt.figure()\n",
    "ax = fig.add_axes([0,0,1,1])\n",
    "ax.bar(allsubs,common_broad)\n",
    "plt.title(\"gnomAD common variants (AF >= 0.1) mutation spectrum: broad\")\n",
    "plt.show()"
   ]
  },
  {
   "cell_type": "code",
   "execution_count": null,
   "id": "8158ea47",
   "metadata": {},
   "outputs": [],
   "source": []
  }
 ],
 "metadata": {
  "kernelspec": {
   "display_name": "Python 3 (ipykernel)",
   "language": "python",
   "name": "python3"
  },
  "language_info": {
   "codemirror_mode": {
    "name": "ipython",
    "version": 3
   },
   "file_extension": ".py",
   "mimetype": "text/x-python",
   "name": "python",
   "nbconvert_exporter": "python",
   "pygments_lexer": "ipython3",
   "version": "3.8.10"
  }
 },
 "nbformat": 4,
 "nbformat_minor": 5
}
